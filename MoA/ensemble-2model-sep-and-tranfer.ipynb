{
 "cells": [
  {
   "cell_type": "code",
   "execution_count": 1,
   "metadata": {
    "_cell_guid": "b1076dfc-b9ad-4769-8c92-a6c4dae69d19",
    "_uuid": "8f2839f25d086af736a60e9eeb907d3b93b6e0e5",
    "execution": {
     "iopub.execute_input": "2020-11-28T14:12:38.476852Z",
     "iopub.status.busy": "2020-11-28T14:12:38.476029Z",
     "iopub.status.idle": "2020-11-28T14:13:10.607285Z",
     "shell.execute_reply": "2020-11-28T14:13:10.605964Z"
    },
    "papermill": {
     "duration": 32.261949,
     "end_time": "2020-11-28T14:13:10.607447",
     "exception": false,
     "start_time": "2020-11-28T14:12:38.345498",
     "status": "completed"
    },
    "tags": []
   },
   "outputs": [
    {
     "name": "stdout",
     "output_type": "stream",
     "text": [
      "Processing /kaggle/input/iterative-stratification/iterative-stratification-master\r\n",
      "Requirement already satisfied: numpy in /opt/conda/lib/python3.7/site-packages (from iterative-stratification==0.1.6) (1.18.5)\r\n",
      "Requirement already satisfied: scipy in /opt/conda/lib/python3.7/site-packages (from iterative-stratification==0.1.6) (1.4.1)\r\n",
      "Requirement already satisfied: scikit-learn in /opt/conda/lib/python3.7/site-packages (from iterative-stratification==0.1.6) (0.23.2)\r\n",
      "Requirement already satisfied: joblib>=0.11 in /opt/conda/lib/python3.7/site-packages (from scikit-learn->iterative-stratification==0.1.6) (0.14.1)\r\n",
      "Requirement already satisfied: threadpoolctl>=2.0.0 in /opt/conda/lib/python3.7/site-packages (from scikit-learn->iterative-stratification==0.1.6) (2.1.0)\r\n",
      "Building wheels for collected packages: iterative-stratification\r\n",
      "  Building wheel for iterative-stratification (setup.py) ... \u001b[?25l-\b \b\\\b \bdone\r\n",
      "\u001b[?25h  Created wheel for iterative-stratification: filename=iterative_stratification-0.1.6-py3-none-any.whl size=8401 sha256=d7ee63137bf60d42244748bf5e0abcba94cd16c5210f5b4e9f53fb728f5f8b86\r\n",
      "  Stored in directory: /root/.cache/pip/wheels/b8/47/3f/eb4af42d124f37d23d6f13a4c8bbc32c1d70140e6e1cecb4aa\r\n",
      "Successfully built iterative-stratification\r\n",
      "Installing collected packages: iterative-stratification\r\n",
      "Successfully installed iterative-stratification-0.1.6\r\n"
     ]
    }
   ],
   "source": [
    "!pip install /kaggle/input/iterative-stratification/iterative-stratification-master/\n",
    "from iterstrat.ml_stratifiers import MultilabelStratifiedKFold"
   ]
  },
  {
   "cell_type": "code",
   "execution_count": 2,
   "metadata": {
    "_cell_guid": "79c7e3d0-c299-4dcb-8224-4455121ee9b0",
    "_uuid": "d629ff2d2480ee46fbb7e2d37f6b5fab8052498a",
    "execution": {
     "iopub.execute_input": "2020-11-28T14:13:10.865221Z",
     "iopub.status.busy": "2020-11-28T14:13:10.864401Z",
     "iopub.status.idle": "2020-11-28T14:13:12.367856Z",
     "shell.execute_reply": "2020-11-28T14:13:12.367143Z"
    },
    "papermill": {
     "duration": 1.635485,
     "end_time": "2020-11-28T14:13:12.367973",
     "exception": false,
     "start_time": "2020-11-28T14:13:10.732488",
     "status": "completed"
    },
    "tags": []
   },
   "outputs": [],
   "source": [
    "import numpy as np\n",
    "import random\n",
    "import pandas as pd\n",
    "import matplotlib.pyplot as plt\n",
    "import os\n",
    "import copy\n",
    "import seaborn as sns\n",
    "\n",
    "from sklearn import preprocessing\n",
    "from sklearn.metrics import log_loss\n",
    "from sklearn.preprocessing import StandardScaler\n",
    "from sklearn.decomposition import PCA\n",
    "\n",
    "import torch\n",
    "import torch.nn as nn\n",
    "import torch.nn.functional as F\n",
    "import torch.optim as optim\n",
    "\n",
    "import warnings\n",
    "warnings.filterwarnings('ignore')\n",
    "from pickle import load,dump"
   ]
  },
  {
   "cell_type": "code",
   "execution_count": 3,
   "metadata": {
    "execution": {
     "iopub.execute_input": "2020-11-28T14:13:12.632912Z",
     "iopub.status.busy": "2020-11-28T14:13:12.632109Z",
     "iopub.status.idle": "2020-11-28T14:13:12.636117Z",
     "shell.execute_reply": "2020-11-28T14:13:12.635603Z"
    },
    "papermill": {
     "duration": 0.134869,
     "end_time": "2020-11-28T14:13:12.636216",
     "exception": false,
     "start_time": "2020-11-28T14:13:12.501347",
     "status": "completed"
    },
    "tags": []
   },
   "outputs": [],
   "source": [
    "from sklearn.preprocessing import QuantileTransformer"
   ]
  },
  {
   "cell_type": "code",
   "execution_count": 4,
   "metadata": {
    "execution": {
     "iopub.execute_input": "2020-11-28T14:13:12.885774Z",
     "iopub.status.busy": "2020-11-28T14:13:12.885045Z",
     "iopub.status.idle": "2020-11-28T14:13:12.893563Z",
     "shell.execute_reply": "2020-11-28T14:13:12.893998Z"
    },
    "papermill": {
     "duration": 0.136092,
     "end_time": "2020-11-28T14:13:12.894118",
     "exception": false,
     "start_time": "2020-11-28T14:13:12.758026",
     "status": "completed"
    },
    "tags": []
   },
   "outputs": [
    {
     "data": {
      "text/plain": [
       "['train_features.csv',\n",
       " 'train_drug.csv',\n",
       " 'test_features.csv',\n",
       " 'train_targets_nonscored.csv',\n",
       " 'sample_submission.csv',\n",
       " 'train_targets_scored.csv']"
      ]
     },
     "execution_count": 4,
     "metadata": {},
     "output_type": "execute_result"
    }
   ],
   "source": [
    "os.listdir('../input/lish-moa')"
   ]
  },
  {
   "cell_type": "code",
   "execution_count": 5,
   "metadata": {
    "execution": {
     "iopub.execute_input": "2020-11-28T14:13:13.155100Z",
     "iopub.status.busy": "2020-11-28T14:13:13.154192Z",
     "iopub.status.idle": "2020-11-28T14:13:19.939643Z",
     "shell.execute_reply": "2020-11-28T14:13:19.938760Z"
    },
    "papermill": {
     "duration": 6.920916,
     "end_time": "2020-11-28T14:13:19.939773",
     "exception": false,
     "start_time": "2020-11-28T14:13:13.018857",
     "status": "completed"
    },
    "tags": []
   },
   "outputs": [],
   "source": [
    "train_features = pd.read_csv('../input/lish-moa/train_features.csv')\n",
    "train_targets_scored = pd.read_csv('../input/lish-moa/train_targets_scored.csv')\n",
    "train_targets_nonscored = pd.read_csv('../input/lish-moa/train_targets_nonscored.csv')\n",
    "\n",
    "test_features = pd.read_csv('../input/lish-moa/test_features.csv')\n",
    "sample_submission = pd.read_csv('../input/lish-moa/sample_submission.csv')\n",
    "train_drug = pd.read_csv('../input/lish-moa/train_drug.csv')"
   ]
  },
  {
   "cell_type": "code",
   "execution_count": 6,
   "metadata": {
    "execution": {
     "iopub.execute_input": "2020-11-28T14:13:20.196218Z",
     "iopub.status.busy": "2020-11-28T14:13:20.195440Z",
     "iopub.status.idle": "2020-11-28T14:13:20.199259Z",
     "shell.execute_reply": "2020-11-28T14:13:20.198711Z"
    },
    "papermill": {
     "duration": 0.1343,
     "end_time": "2020-11-28T14:13:20.199353",
     "exception": false,
     "start_time": "2020-11-28T14:13:20.065053",
     "status": "completed"
    },
    "tags": []
   },
   "outputs": [],
   "source": [
    "GENES = [col for col in train_features.columns if col.startswith('g-')]\n",
    "CELLS = [col for col in train_features.columns if col.startswith('c-')]"
   ]
  },
  {
   "cell_type": "code",
   "execution_count": 7,
   "metadata": {
    "execution": {
     "iopub.execute_input": "2020-11-28T14:13:20.460286Z",
     "iopub.status.busy": "2020-11-28T14:13:20.459351Z",
     "iopub.status.idle": "2020-11-28T14:13:29.939659Z",
     "shell.execute_reply": "2020-11-28T14:13:29.938654Z"
    },
    "papermill": {
     "duration": 9.615795,
     "end_time": "2020-11-28T14:13:29.939775",
     "exception": false,
     "start_time": "2020-11-28T14:13:20.323980",
     "status": "completed"
    },
    "tags": []
   },
   "outputs": [],
   "source": [
    "#RankGauss\n",
    "\n",
    "for col in (GENES + CELLS):\n",
    "\n",
    "    transformer = QuantileTransformer(n_quantiles=100,random_state=0, output_distribution=\"normal\")\n",
    "    vec_len = len(train_features[col].values)\n",
    "    vec_len_test = len(test_features[col].values)\n",
    "    raw_vec = train_features[col].values.reshape(vec_len, 1)\n",
    "    transformer.fit(raw_vec)\n",
    "\n",
    "    train_features[col] = transformer.transform(raw_vec).reshape(1, vec_len)[0]\n",
    "    test_features[col] = transformer.transform(test_features[col].values.reshape(vec_len_test, 1)).reshape(1, vec_len_test)[0]"
   ]
  },
  {
   "cell_type": "code",
   "execution_count": 8,
   "metadata": {
    "execution": {
     "iopub.execute_input": "2020-11-28T14:13:30.194222Z",
     "iopub.status.busy": "2020-11-28T14:13:30.193417Z",
     "iopub.status.idle": "2020-11-28T14:13:30.199502Z",
     "shell.execute_reply": "2020-11-28T14:13:30.198952Z"
    },
    "papermill": {
     "duration": 0.135795,
     "end_time": "2020-11-28T14:13:30.199636",
     "exception": false,
     "start_time": "2020-11-28T14:13:30.063841",
     "status": "completed"
    },
    "tags": []
   },
   "outputs": [],
   "source": [
    "def seed_everything(seed=42):\n",
    "    random.seed(seed)\n",
    "    os.environ['PYTHONHASHSEED'] = str(seed)\n",
    "    np.random.seed(seed)\n",
    "    torch.manual_seed(seed)\n",
    "    torch.cuda.manual_seed(seed)\n",
    "    torch.backends.cudnn.deterministic = True\n",
    "    \n",
    "seed_everything(seed=42)"
   ]
  },
  {
   "cell_type": "code",
   "execution_count": 9,
   "metadata": {
    "execution": {
     "iopub.execute_input": "2020-11-28T14:13:30.457141Z",
     "iopub.status.busy": "2020-11-28T14:13:30.456466Z",
     "iopub.status.idle": "2020-11-28T14:13:31.228081Z",
     "shell.execute_reply": "2020-11-28T14:13:31.227328Z"
    },
    "papermill": {
     "duration": 0.902877,
     "end_time": "2020-11-28T14:13:31.228224",
     "exception": false,
     "start_time": "2020-11-28T14:13:30.325347",
     "status": "completed"
    },
    "tags": []
   },
   "outputs": [],
   "source": [
    "# GENES\n",
    "n_comp = 505\n",
    "gpca= load(open('../input/pkl-data/gpca.pkl', 'rb'))\n",
    "train2= (gpca.transform(train_features[GENES]))\n",
    "test2 = (gpca.transform(test_features[GENES]))\n",
    "\n",
    "train_gpca = pd.DataFrame(train2, columns=[f'pca_G-{i}' for i in range(n_comp)])\n",
    "test_gpca = pd.DataFrame(test2, columns=[f'pca_G-{i}' for i in range(n_comp)])\n",
    "\n",
    "train_features = pd.concat((train_features, train_gpca), axis=1)\n",
    "test_features = pd.concat((test_features, test_gpca), axis=1)"
   ]
  },
  {
   "cell_type": "code",
   "execution_count": 10,
   "metadata": {
    "execution": {
     "iopub.execute_input": "2020-11-28T14:13:31.486488Z",
     "iopub.status.busy": "2020-11-28T14:13:31.485802Z",
     "iopub.status.idle": "2020-11-28T14:13:31.873907Z",
     "shell.execute_reply": "2020-11-28T14:13:31.873333Z"
    },
    "papermill": {
     "duration": 0.521321,
     "end_time": "2020-11-28T14:13:31.874029",
     "exception": false,
     "start_time": "2020-11-28T14:13:31.352708",
     "status": "completed"
    },
    "tags": []
   },
   "outputs": [],
   "source": [
    "#CELLS\n",
    "n_comp =80\n",
    "\n",
    "cpca= load(open('../input/pkl-data/cpca.pkl', 'rb'))\n",
    "train2= (cpca.transform(train_features[CELLS]))\n",
    "test2 = (cpca.transform(test_features[CELLS]))\n",
    "\n",
    "train_cpca = pd.DataFrame(train2, columns=[f'pca_C-{i}' for i in range(n_comp)])\n",
    "test_cpca = pd.DataFrame(test2, columns=[f'pca_C-{i}' for i in range(n_comp)])\n",
    "\n",
    "train_features = pd.concat((train_features, train_cpca), axis=1)\n",
    "test_features = pd.concat((test_features, test_cpca), axis=1)"
   ]
  },
  {
   "cell_type": "code",
   "execution_count": 11,
   "metadata": {
    "execution": {
     "iopub.execute_input": "2020-11-28T14:13:32.124288Z",
     "iopub.status.busy": "2020-11-28T14:13:32.123248Z",
     "iopub.status.idle": "2020-11-28T14:13:32.128314Z",
     "shell.execute_reply": "2020-11-28T14:13:32.127807Z"
    },
    "papermill": {
     "duration": 0.133633,
     "end_time": "2020-11-28T14:13:32.128457",
     "exception": false,
     "start_time": "2020-11-28T14:13:31.994824",
     "status": "completed"
    },
    "tags": []
   },
   "outputs": [
    {
     "data": {
      "text/plain": [
       "(23814, 1461)"
      ]
     },
     "execution_count": 11,
     "metadata": {},
     "output_type": "execute_result"
    }
   ],
   "source": [
    "train_features.shape"
   ]
  },
  {
   "cell_type": "code",
   "execution_count": 12,
   "metadata": {
    "execution": {
     "iopub.execute_input": "2020-11-28T14:13:32.401596Z",
     "iopub.status.busy": "2020-11-28T14:13:32.400855Z",
     "iopub.status.idle": "2020-11-28T14:13:32.406012Z",
     "shell.execute_reply": "2020-11-28T14:13:32.406517Z"
    },
    "papermill": {
     "duration": 0.155213,
     "end_time": "2020-11-28T14:13:32.406650",
     "exception": false,
     "start_time": "2020-11-28T14:13:32.251437",
     "status": "completed"
    },
    "tags": []
   },
   "outputs": [
    {
     "data": {
      "text/plain": [
       "(3982, 1461)"
      ]
     },
     "execution_count": 12,
     "metadata": {},
     "output_type": "execute_result"
    }
   ],
   "source": [
    "test_features.shape"
   ]
  },
  {
   "cell_type": "code",
   "execution_count": 13,
   "metadata": {
    "execution": {
     "iopub.execute_input": "2020-11-28T14:13:32.667753Z",
     "iopub.status.busy": "2020-11-28T14:13:32.667009Z",
     "iopub.status.idle": "2020-11-28T14:13:33.389628Z",
     "shell.execute_reply": "2020-11-28T14:13:33.388925Z"
    },
    "papermill": {
     "duration": 0.857731,
     "end_time": "2020-11-28T14:13:33.389788",
     "exception": false,
     "start_time": "2020-11-28T14:13:32.532057",
     "status": "completed"
    },
    "tags": []
   },
   "outputs": [],
   "source": [
    "from sklearn.feature_selection import VarianceThreshold\n",
    "\n",
    "c_n = [f for f in list(train_features.columns) if f not in ['sig_id', 'cp_type', 'cp_time', 'cp_dose']]\n",
    "mask = (train_features[c_n].var() >= 0.84).values\n",
    "tmp = train_features[c_n].loc[:, mask]\n",
    "train_features = pd.concat([train_features[['sig_id', 'cp_type', 'cp_time', 'cp_dose']], tmp], axis=1)\n",
    "tmp = test_features[c_n].loc[:, mask]\n",
    "test_features = pd.concat([test_features[['sig_id', 'cp_type', 'cp_time', 'cp_dose']], tmp], axis=1)"
   ]
  },
  {
   "cell_type": "code",
   "execution_count": 14,
   "metadata": {
    "execution": {
     "iopub.execute_input": "2020-11-28T14:13:33.647081Z",
     "iopub.status.busy": "2020-11-28T14:13:33.646227Z",
     "iopub.status.idle": "2020-11-28T14:13:33.650297Z",
     "shell.execute_reply": "2020-11-28T14:13:33.650885Z"
    },
    "papermill": {
     "duration": 0.136915,
     "end_time": "2020-11-28T14:13:33.651017",
     "exception": false,
     "start_time": "2020-11-28T14:13:33.514102",
     "status": "completed"
    },
    "tags": []
   },
   "outputs": [
    {
     "data": {
      "text/plain": [
       "(23814, 1029)"
      ]
     },
     "execution_count": 14,
     "metadata": {},
     "output_type": "execute_result"
    }
   ],
   "source": [
    "train_features.shape"
   ]
  },
  {
   "cell_type": "code",
   "execution_count": 15,
   "metadata": {
    "execution": {
     "iopub.execute_input": "2020-11-28T14:13:33.904852Z",
     "iopub.status.busy": "2020-11-28T14:13:33.904144Z",
     "iopub.status.idle": "2020-11-28T14:13:33.909163Z",
     "shell.execute_reply": "2020-11-28T14:13:33.909696Z"
    },
    "papermill": {
     "duration": 0.135127,
     "end_time": "2020-11-28T14:13:33.909827",
     "exception": false,
     "start_time": "2020-11-28T14:13:33.774700",
     "status": "completed"
    },
    "tags": []
   },
   "outputs": [
    {
     "data": {
      "text/plain": [
       "(3982, 1029)"
      ]
     },
     "execution_count": 15,
     "metadata": {},
     "output_type": "execute_result"
    }
   ],
   "source": [
    "test_features.shape"
   ]
  },
  {
   "cell_type": "code",
   "execution_count": 16,
   "metadata": {
    "execution": {
     "iopub.execute_input": "2020-11-28T14:13:34.171121Z",
     "iopub.status.busy": "2020-11-28T14:13:34.170318Z",
     "iopub.status.idle": "2020-11-28T14:13:35.197405Z",
     "shell.execute_reply": "2020-11-28T14:13:35.196857Z"
    },
    "papermill": {
     "duration": 1.162593,
     "end_time": "2020-11-28T14:13:35.197527",
     "exception": false,
     "start_time": "2020-11-28T14:13:34.034934",
     "status": "completed"
    },
    "tags": []
   },
   "outputs": [],
   "source": [
    "from sklearn.cluster import KMeans\n",
    "def fe_cluster_genes(train, test, n_clusters_g = 31, SEED = 123):\n",
    "    \n",
    "    features_g = GENES\n",
    "    \n",
    "    def create_cluster(train, test, features, kind = 'g', n_clusters = n_clusters_g):\n",
    "        train_ = train[features].copy()\n",
    "        test_ = test[features].copy()\n",
    "        kmeans_genes = load(open('../input/pkl-data/kmeans_genes.pkl', 'rb'))\n",
    "        train[f'clusters_{kind}'] = kmeans_genes.predict(train_.values)\n",
    "        test[f'clusters_{kind}'] = kmeans_genes.predict(test_.values)\n",
    "        train = pd.get_dummies(train, columns = [f'clusters_{kind}'])\n",
    "        test = pd.get_dummies(test, columns = [f'clusters_{kind}'])\n",
    "        return train, test\n",
    "    \n",
    "    train, test = create_cluster(train, test, features_g, kind = 'g', n_clusters = n_clusters_g)\n",
    "    return train, test\n",
    "\n",
    "train_features,test_features =fe_cluster_genes(train_features,test_features)"
   ]
  },
  {
   "cell_type": "code",
   "execution_count": 17,
   "metadata": {
    "execution": {
     "iopub.execute_input": "2020-11-28T14:13:35.471542Z",
     "iopub.status.busy": "2020-11-28T14:13:35.469550Z",
     "iopub.status.idle": "2020-11-28T14:13:35.474228Z",
     "shell.execute_reply": "2020-11-28T14:13:35.473605Z"
    },
    "papermill": {
     "duration": 0.141258,
     "end_time": "2020-11-28T14:13:35.474352",
     "exception": false,
     "start_time": "2020-11-28T14:13:35.333094",
     "status": "completed"
    },
    "tags": []
   },
   "outputs": [
    {
     "data": {
      "text/plain": [
       "(23814, 1060)"
      ]
     },
     "execution_count": 17,
     "metadata": {},
     "output_type": "execute_result"
    }
   ],
   "source": [
    "train_features.shape"
   ]
  },
  {
   "cell_type": "code",
   "execution_count": 18,
   "metadata": {
    "execution": {
     "iopub.execute_input": "2020-11-28T14:13:35.744508Z",
     "iopub.status.busy": "2020-11-28T14:13:35.743311Z",
     "iopub.status.idle": "2020-11-28T14:13:35.747201Z",
     "shell.execute_reply": "2020-11-28T14:13:35.747723Z"
    },
    "papermill": {
     "duration": 0.145104,
     "end_time": "2020-11-28T14:13:35.747872",
     "exception": false,
     "start_time": "2020-11-28T14:13:35.602768",
     "status": "completed"
    },
    "tags": []
   },
   "outputs": [
    {
     "data": {
      "text/plain": [
       "(3982, 1060)"
      ]
     },
     "execution_count": 18,
     "metadata": {},
     "output_type": "execute_result"
    }
   ],
   "source": [
    "test_features.shape"
   ]
  },
  {
   "cell_type": "code",
   "execution_count": 19,
   "metadata": {
    "execution": {
     "iopub.execute_input": "2020-11-28T14:13:36.033505Z",
     "iopub.status.busy": "2020-11-28T14:13:36.032205Z",
     "iopub.status.idle": "2020-11-28T14:13:36.507094Z",
     "shell.execute_reply": "2020-11-28T14:13:36.506401Z"
    },
    "papermill": {
     "duration": 0.6252,
     "end_time": "2020-11-28T14:13:36.507229",
     "exception": false,
     "start_time": "2020-11-28T14:13:35.882029",
     "status": "completed"
    },
    "tags": []
   },
   "outputs": [],
   "source": [
    "def fe_cluster_cells(train, test, n_clusters_c =8, SEED = 123):\n",
    "    \n",
    "    features_c = CELLS\n",
    "    \n",
    "    def create_cluster(train, test, features, kind = 'c', n_clusters = n_clusters_c):\n",
    "        train_ = train[features].copy()\n",
    "        test_ = test[features].copy()\n",
    "        kmeans_cells = load(open('../input/pkl-data/kmeans_cells.pkl', 'rb'))\n",
    "        train[f'clusters_{kind}'] = kmeans_cells.predict(train_.values)\n",
    "        test[f'clusters_{kind}'] = kmeans_cells.predict(test_.values)\n",
    "        train = pd.get_dummies(train, columns = [f'clusters_{kind}'])\n",
    "        test = pd.get_dummies(test, columns = [f'clusters_{kind}'])\n",
    "        return train, test\n",
    "    \n",
    "    train, test = create_cluster(train, test, features_c, kind = 'c', n_clusters = n_clusters_c)\n",
    "    return train, test\n",
    "train_features,test_features=fe_cluster_cells(train_features,test_features)"
   ]
  },
  {
   "cell_type": "code",
   "execution_count": 20,
   "metadata": {
    "execution": {
     "iopub.execute_input": "2020-11-28T14:13:36.770808Z",
     "iopub.status.busy": "2020-11-28T14:13:36.769974Z",
     "iopub.status.idle": "2020-11-28T14:13:36.775748Z",
     "shell.execute_reply": "2020-11-28T14:13:36.775217Z"
    },
    "papermill": {
     "duration": 0.138898,
     "end_time": "2020-11-28T14:13:36.775858",
     "exception": false,
     "start_time": "2020-11-28T14:13:36.636960",
     "status": "completed"
    },
    "tags": []
   },
   "outputs": [
    {
     "data": {
      "text/plain": [
       "(23814, 1068)"
      ]
     },
     "execution_count": 20,
     "metadata": {},
     "output_type": "execute_result"
    }
   ],
   "source": [
    "train_features.shape"
   ]
  },
  {
   "cell_type": "code",
   "execution_count": 21,
   "metadata": {
    "execution": {
     "iopub.execute_input": "2020-11-28T14:13:37.033889Z",
     "iopub.status.busy": "2020-11-28T14:13:37.033075Z",
     "iopub.status.idle": "2020-11-28T14:13:37.038832Z",
     "shell.execute_reply": "2020-11-28T14:13:37.038260Z"
    },
    "papermill": {
     "duration": 0.136303,
     "end_time": "2020-11-28T14:13:37.038929",
     "exception": false,
     "start_time": "2020-11-28T14:13:36.902626",
     "status": "completed"
    },
    "tags": []
   },
   "outputs": [
    {
     "data": {
      "text/plain": [
       "(3982, 1068)"
      ]
     },
     "execution_count": 21,
     "metadata": {},
     "output_type": "execute_result"
    }
   ],
   "source": [
    "test_features.shape"
   ]
  },
  {
   "cell_type": "code",
   "execution_count": 22,
   "metadata": {
    "execution": {
     "iopub.execute_input": "2020-11-28T14:13:37.312958Z",
     "iopub.status.busy": "2020-11-28T14:13:37.311778Z",
     "iopub.status.idle": "2020-11-28T14:13:43.203644Z",
     "shell.execute_reply": "2020-11-28T14:13:43.202264Z"
    },
    "papermill": {
     "duration": 6.037578,
     "end_time": "2020-11-28T14:13:43.203765",
     "exception": false,
     "start_time": "2020-11-28T14:13:37.166187",
     "status": "completed"
    },
    "tags": []
   },
   "outputs": [],
   "source": [
    "def fe_stats(train, test):\n",
    "    \n",
    "    features_g = [col for col in train_features.columns if col.startswith('g-')]\n",
    "    features_c = [col for col in train_features.columns if col.startswith('c-')]\n",
    "    \n",
    "    for df in train, test:\n",
    "        df['g_sum'] = df[features_g].sum(axis = 1)\n",
    "        df['g_mean'] = df[features_g].mean(axis = 1)\n",
    "        df['g_std'] = df[features_g].std(axis = 1)\n",
    "        df['g_kurt'] = df[features_g].kurtosis(axis = 1)\n",
    "        df['g_skew'] = df[features_g].skew(axis = 1)\n",
    "        df['c_sum'] = df[features_c].sum(axis = 1)\n",
    "        df['c_mean'] = df[features_c].mean(axis = 1)\n",
    "        df['c_std'] = df[features_c].std(axis = 1)\n",
    "        df['c_kurt'] = df[features_c].kurtosis(axis = 1)\n",
    "        df['c_skew'] = df[features_c].skew(axis = 1)\n",
    "        df['gc_sum'] = df[features_g + features_c].sum(axis = 1)\n",
    "        df['gc_mean'] = df[features_g + features_c].mean(axis = 1)\n",
    "        df['gc_std'] = df[features_g + features_c].std(axis = 1)\n",
    "        df['gc_kurt'] = df[features_g + features_c].kurtosis(axis = 1)\n",
    "        df['gc_skew'] = df[features_g + features_c].skew(axis = 1)\n",
    "    return train, test\n",
    "\n",
    "train_features,test_features=fe_stats(train_features,test_features)"
   ]
  },
  {
   "cell_type": "code",
   "execution_count": 23,
   "metadata": {
    "execution": {
     "iopub.execute_input": "2020-11-28T14:13:43.474328Z",
     "iopub.status.busy": "2020-11-28T14:13:43.473283Z",
     "iopub.status.idle": "2020-11-28T14:13:43.476795Z",
     "shell.execute_reply": "2020-11-28T14:13:43.477304Z"
    },
    "papermill": {
     "duration": 0.138436,
     "end_time": "2020-11-28T14:13:43.477446",
     "exception": false,
     "start_time": "2020-11-28T14:13:43.339010",
     "status": "completed"
    },
    "tags": []
   },
   "outputs": [
    {
     "data": {
      "text/plain": [
       "(23814, 1083)"
      ]
     },
     "execution_count": 23,
     "metadata": {},
     "output_type": "execute_result"
    }
   ],
   "source": [
    "train_features.shape"
   ]
  },
  {
   "cell_type": "code",
   "execution_count": 24,
   "metadata": {
    "execution": {
     "iopub.execute_input": "2020-11-28T14:13:43.741563Z",
     "iopub.status.busy": "2020-11-28T14:13:43.740750Z",
     "iopub.status.idle": "2020-11-28T14:13:43.744055Z",
     "shell.execute_reply": "2020-11-28T14:13:43.744614Z"
    },
    "papermill": {
     "duration": 0.137828,
     "end_time": "2020-11-28T14:13:43.744746",
     "exception": false,
     "start_time": "2020-11-28T14:13:43.606918",
     "status": "completed"
    },
    "tags": []
   },
   "outputs": [
    {
     "data": {
      "text/plain": [
       "(3982, 1083)"
      ]
     },
     "execution_count": 24,
     "metadata": {},
     "output_type": "execute_result"
    }
   ],
   "source": [
    "test_features.shape"
   ]
  },
  {
   "cell_type": "code",
   "execution_count": 25,
   "metadata": {
    "execution": {
     "iopub.execute_input": "2020-11-28T14:13:44.011961Z",
     "iopub.status.busy": "2020-11-28T14:13:44.010479Z",
     "iopub.status.idle": "2020-11-28T14:13:44.641351Z",
     "shell.execute_reply": "2020-11-28T14:13:44.640753Z"
    },
    "papermill": {
     "duration": 0.768301,
     "end_time": "2020-11-28T14:13:44.641486",
     "exception": false,
     "start_time": "2020-11-28T14:13:43.873185",
     "status": "completed"
    },
    "tags": []
   },
   "outputs": [],
   "source": [
    "train = train_features.merge(train_targets_scored, on='sig_id')\n",
    "train = train[train['cp_type']!='ctl_vehicle'].reset_index(drop=True)\n",
    "test = test_features[test_features['cp_type']!='ctl_vehicle'].reset_index(drop=True)\n",
    "\n",
    "target = train[train_targets_scored.columns]"
   ]
  },
  {
   "cell_type": "code",
   "execution_count": 26,
   "metadata": {
    "execution": {
     "iopub.execute_input": "2020-11-28T14:13:44.971757Z",
     "iopub.status.busy": "2020-11-28T14:13:44.916117Z",
     "iopub.status.idle": "2020-11-28T14:13:44.988231Z",
     "shell.execute_reply": "2020-11-28T14:13:44.987606Z"
    },
    "papermill": {
     "duration": 0.220156,
     "end_time": "2020-11-28T14:13:44.988343",
     "exception": false,
     "start_time": "2020-11-28T14:13:44.768187",
     "status": "completed"
    },
    "tags": []
   },
   "outputs": [],
   "source": [
    "train = train.drop('cp_type', axis=1)\n",
    "test = test.drop('cp_type', axis=1)"
   ]
  },
  {
   "cell_type": "code",
   "execution_count": 27,
   "metadata": {
    "execution": {
     "iopub.execute_input": "2020-11-28T14:13:45.264960Z",
     "iopub.status.busy": "2020-11-28T14:13:45.264033Z",
     "iopub.status.idle": "2020-11-28T14:13:45.267354Z",
     "shell.execute_reply": "2020-11-28T14:13:45.266864Z"
    },
    "papermill": {
     "duration": 0.14844,
     "end_time": "2020-11-28T14:13:45.267497",
     "exception": false,
     "start_time": "2020-11-28T14:13:45.119057",
     "status": "completed"
    },
    "tags": []
   },
   "outputs": [],
   "source": [
    "target_cols = target.drop('sig_id', axis=1).columns.values.tolist()"
   ]
  },
  {
   "cell_type": "code",
   "execution_count": 28,
   "metadata": {
    "execution": {
     "iopub.execute_input": "2020-11-28T14:13:45.536148Z",
     "iopub.status.busy": "2020-11-28T14:13:45.535283Z",
     "iopub.status.idle": "2020-11-28T14:13:45.540208Z",
     "shell.execute_reply": "2020-11-28T14:13:45.540710Z"
    },
    "papermill": {
     "duration": 0.145303,
     "end_time": "2020-11-28T14:13:45.540830",
     "exception": false,
     "start_time": "2020-11-28T14:13:45.395527",
     "status": "completed"
    },
    "tags": []
   },
   "outputs": [
    {
     "name": "stdout",
     "output_type": "stream",
     "text": [
      "(21948, 1288)\n",
      "(3624, 1082)\n",
      "(21948, 207)\n",
      "(3982, 207)\n"
     ]
    }
   ],
   "source": [
    "print(train.shape)\n",
    "print(test.shape)\n",
    "print(target.shape)\n",
    "print(sample_submission.shape)"
   ]
  },
  {
   "cell_type": "code",
   "execution_count": 29,
   "metadata": {
    "execution": {
     "iopub.execute_input": "2020-11-28T14:13:45.809578Z",
     "iopub.status.busy": "2020-11-28T14:13:45.808783Z",
     "iopub.status.idle": "2020-11-28T14:13:45.811772Z",
     "shell.execute_reply": "2020-11-28T14:13:45.812251Z"
    },
    "papermill": {
     "duration": 0.143304,
     "end_time": "2020-11-28T14:13:45.812402",
     "exception": false,
     "start_time": "2020-11-28T14:13:45.669098",
     "status": "completed"
    },
    "tags": []
   },
   "outputs": [],
   "source": [
    "class MoADataset:\n",
    "    def __init__(self, features, targets):\n",
    "        self.features = features\n",
    "        self.targets = targets\n",
    "        \n",
    "    def __len__(self):\n",
    "        return (self.features.shape[0])\n",
    "    \n",
    "    def __getitem__(self, idx):\n",
    "        dct = {\n",
    "            'x' : torch.tensor(self.features[idx, :], dtype=torch.float),\n",
    "            'y' : torch.tensor(self.targets[idx, :], dtype=torch.float)            \n",
    "        }\n",
    "        return dct\n",
    "    \n",
    "class TestDataset:\n",
    "    def __init__(self, features):\n",
    "        self.features = features\n",
    "        \n",
    "    def __len__(self):\n",
    "        return (self.features.shape[0])\n",
    "    \n",
    "    def __getitem__(self, idx):\n",
    "        dct = {\n",
    "            'x' : torch.tensor(self.features[idx, :], dtype=torch.float)\n",
    "        }\n",
    "        return dct"
   ]
  },
  {
   "cell_type": "code",
   "execution_count": 30,
   "metadata": {
    "execution": {
     "iopub.execute_input": "2020-11-28T14:13:46.089473Z",
     "iopub.status.busy": "2020-11-28T14:13:46.088601Z",
     "iopub.status.idle": "2020-11-28T14:13:46.091513Z",
     "shell.execute_reply": "2020-11-28T14:13:46.090991Z"
    },
    "papermill": {
     "duration": 0.150738,
     "end_time": "2020-11-28T14:13:46.091636",
     "exception": false,
     "start_time": "2020-11-28T14:13:45.940898",
     "status": "completed"
    },
    "tags": []
   },
   "outputs": [],
   "source": [
    "def train_fn(model, optimizer, scheduler, loss_fn, dataloader, device):\n",
    "    model.train()\n",
    "    final_loss = 0\n",
    "    \n",
    "    for data in dataloader:\n",
    "        optimizer.zero_grad()\n",
    "        inputs, targets = data['x'].to(device), data['y'].to(device)\n",
    "        outputs = model(inputs)\n",
    "        loss = loss_fn(outputs, targets)\n",
    "        loss.backward()\n",
    "        optimizer.step()\n",
    "        scheduler.step()\n",
    "        \n",
    "        final_loss += loss.item()\n",
    "        \n",
    "    final_loss /= len(dataloader)\n",
    "    \n",
    "    return final_loss\n",
    "\n",
    "\n",
    "def valid_fn(model, loss_fn, dataloader, device):\n",
    "    model.eval()\n",
    "    final_loss = 0\n",
    "    valid_preds = []\n",
    "    \n",
    "    for data in dataloader:\n",
    "        inputs, targets = data['x'].to(device), data['y'].to(device)\n",
    "        outputs = model(inputs)\n",
    "        loss = loss_fn(outputs, targets)\n",
    "        \n",
    "        final_loss += loss.item()\n",
    "        valid_preds.append(outputs.sigmoid().detach().cpu().numpy())\n",
    "        \n",
    "    final_loss /= len(dataloader)\n",
    "    valid_preds = np.concatenate(valid_preds)\n",
    "    \n",
    "    return final_loss, valid_preds\n",
    "\n",
    "def inference_fn(model, dataloader, device):\n",
    "    model.eval()\n",
    "    preds = []\n",
    "    \n",
    "    for data in dataloader:\n",
    "        inputs = data['x'].to(device)\n",
    "\n",
    "        with torch.no_grad():\n",
    "            outputs = model(inputs)\n",
    "        \n",
    "        preds.append(outputs.sigmoid().detach().cpu().numpy())\n",
    "        \n",
    "    preds = np.concatenate(preds)\n",
    "    \n",
    "    return preds"
   ]
  },
  {
   "cell_type": "code",
   "execution_count": 31,
   "metadata": {
    "execution": {
     "iopub.execute_input": "2020-11-28T14:13:46.365403Z",
     "iopub.status.busy": "2020-11-28T14:13:46.364325Z",
     "iopub.status.idle": "2020-11-28T14:13:46.367042Z",
     "shell.execute_reply": "2020-11-28T14:13:46.367555Z"
    },
    "papermill": {
     "duration": 0.145192,
     "end_time": "2020-11-28T14:13:46.367694",
     "exception": false,
     "start_time": "2020-11-28T14:13:46.222502",
     "status": "completed"
    },
    "tags": []
   },
   "outputs": [],
   "source": [
    "import torch\n",
    "from torch.nn.modules.loss import _WeightedLoss\n",
    "import torch.nn.functional as F\n",
    "\n",
    "class SmoothBCEwLogits(_WeightedLoss):\n",
    "    def __init__(self, weight=None, reduction='mean', smoothing=0.0):\n",
    "        super().__init__(weight=weight, reduction=reduction)\n",
    "        self.smoothing = smoothing\n",
    "        self.weight = weight\n",
    "        self.reduction = reduction\n",
    "\n",
    "    @staticmethod\n",
    "    def _smooth(targets:torch.Tensor, n_labels:int, smoothing=0.0):\n",
    "        assert 0 <= smoothing < 1\n",
    "        with torch.no_grad():\n",
    "            targets = targets * (1.0 - smoothing) + 0.5 * smoothing\n",
    "        return targets\n",
    "\n",
    "    def forward(self, inputs, targets):\n",
    "        targets = SmoothBCEwLogits._smooth(targets, inputs.size(-1),\n",
    "            self.smoothing)\n",
    "        loss = F.binary_cross_entropy_with_logits(inputs, targets,self.weight)\n",
    "\n",
    "        if  self.reduction == 'sum':\n",
    "            loss = loss.sum()\n",
    "        elif  self.reduction == 'mean':\n",
    "            loss = loss.mean()\n",
    "\n",
    "        return loss"
   ]
  },
  {
   "cell_type": "code",
   "execution_count": 32,
   "metadata": {
    "execution": {
     "iopub.execute_input": "2020-11-28T14:13:46.655728Z",
     "iopub.status.busy": "2020-11-28T14:13:46.654825Z",
     "iopub.status.idle": "2020-11-28T14:13:46.658098Z",
     "shell.execute_reply": "2020-11-28T14:13:46.657514Z"
    },
    "papermill": {
     "duration": 0.157618,
     "end_time": "2020-11-28T14:13:46.658222",
     "exception": false,
     "start_time": "2020-11-28T14:13:46.500604",
     "status": "completed"
    },
    "tags": []
   },
   "outputs": [],
   "source": [
    "class Model(nn.Module):\n",
    "    def __init__(self, num_features, num_targets, hidden_size):\n",
    "        super(Model, self).__init__()\n",
    "        self.batch_norm1 = nn.BatchNorm1d(num_features)\n",
    "        self.dense1 = nn.utils.weight_norm(nn.Linear(num_features, hidden_size))\n",
    "        \n",
    "        self.batch_norm2 = nn.BatchNorm1d(hidden_size)\n",
    "        self.dropout2 = nn.Dropout(0.2)\n",
    "        self.dense2 = nn.utils.weight_norm(nn.Linear(hidden_size, hidden_size))\n",
    "        \n",
    "        self.batch_norm3 = nn.BatchNorm1d(hidden_size)\n",
    "        self.dropout3 = nn.Dropout(0.2)\n",
    "        self.dense3 = nn.utils.weight_norm(nn.Linear(hidden_size, num_targets))\n",
    "        \n",
    "    def recalibrate_layer(self, layer):\n",
    "\n",
    "        if(torch.isnan(layer.weight_v).sum() > 0):\n",
    "            print ('recalibrate layer.weight_v')\n",
    "            layer.weight_v = torch.nn.Parameter(torch.where(torch.isnan(layer.weight_v), torch.zeros_like(layer.weight_v), layer.weight_v))\n",
    "            layer.weight_v = torch.nn.Parameter(layer.weight_v + 1e-7)\n",
    "\n",
    "        if(torch.isnan(layer.weight).sum() > 0):\n",
    "            print ('recalibrate layer.weight')\n",
    "            layer.weight = torch.where(torch.isnan(layer.weight), torch.zeros_like(layer.weight), layer.weight)\n",
    "            layer.weight += 1e-7\n",
    "    \n",
    "    def forward(self, x):\n",
    "        x = self.batch_norm1(x)\n",
    "        self.recalibrate_layer(self.dense1)\n",
    "        x = F.leaky_relu(self.dense1(x))\n",
    "        \n",
    "        x = self.batch_norm2(x)\n",
    "        x = self.dropout2(x)\n",
    "        self.recalibrate_layer(self.dense2)\n",
    "        x = F.leaky_relu(self.dense2(x))\n",
    "        \n",
    "        x = self.batch_norm3(x)\n",
    "        x = self.dropout3(x)\n",
    "        self.recalibrate_layer(self.dense3)\n",
    "        x = self.dense3(x)\n",
    "        \n",
    "        return x\n",
    "\n",
    "class LabelSmoothingLoss(nn.Module):\n",
    "    def __init__(self, classes, smoothing=0.0, dim=-1):\n",
    "        super(LabelSmoothingLoss, self).__init__()\n",
    "        self.confidence = 1.0 - smoothing\n",
    "        self.smoothing = smoothing\n",
    "        self.cls = classes\n",
    "        self.dim = dim\n",
    "\n",
    "    def forward(self, pred, target):\n",
    "        pred = pred.log_softmax(dim=self.dim)\n",
    "        with torch.no_grad():\n",
    "            # true_dist = pred.data.clone()\n",
    "            true_dist = torch.zeros_like(pred)\n",
    "            true_dist.fill_(self.smoothing / (self.cls - 1))\n",
    "            true_dist.scatter_(1, target.data.unsqueeze(1), self.confidence)\n",
    "        return torch.mean(torch.sum(-true_dist * pred, dim=self.dim))"
   ]
  },
  {
   "cell_type": "code",
   "execution_count": 33,
   "metadata": {
    "execution": {
     "iopub.execute_input": "2020-11-28T14:13:46.927267Z",
     "iopub.status.busy": "2020-11-28T14:13:46.926600Z",
     "iopub.status.idle": "2020-11-28T14:13:46.930798Z",
     "shell.execute_reply": "2020-11-28T14:13:46.931316Z"
    },
    "papermill": {
     "duration": 0.141892,
     "end_time": "2020-11-28T14:13:46.931474",
     "exception": false,
     "start_time": "2020-11-28T14:13:46.789582",
     "status": "completed"
    },
    "tags": []
   },
   "outputs": [],
   "source": [
    "def process_data(data):\n",
    "    data = pd.get_dummies(data, columns=['cp_time','cp_dose'])\n",
    "    return data"
   ]
  },
  {
   "cell_type": "code",
   "execution_count": 34,
   "metadata": {
    "execution": {
     "iopub.execute_input": "2020-11-28T14:13:47.201620Z",
     "iopub.status.busy": "2020-11-28T14:13:47.200281Z",
     "iopub.status.idle": "2020-11-28T14:13:47.356650Z",
     "shell.execute_reply": "2020-11-28T14:13:47.355665Z"
    },
    "papermill": {
     "duration": 0.293239,
     "end_time": "2020-11-28T14:13:47.356763",
     "exception": false,
     "start_time": "2020-11-28T14:13:47.063524",
     "status": "completed"
    },
    "tags": []
   },
   "outputs": [
    {
     "data": {
      "text/plain": [
       "1084"
      ]
     },
     "execution_count": 34,
     "metadata": {},
     "output_type": "execute_result"
    }
   ],
   "source": [
    "feature_cols = [c for c in process_data(train).columns if c not in target_cols]\n",
    "feature_cols = [c for c in feature_cols if c not in ['kfold','sig_id']]\n",
    "len(feature_cols)"
   ]
  },
  {
   "cell_type": "code",
   "execution_count": 35,
   "metadata": {
    "execution": {
     "iopub.execute_input": "2020-11-28T14:13:47.999070Z",
     "iopub.status.busy": "2020-11-28T14:13:47.998240Z",
     "iopub.status.idle": "2020-11-28T14:13:48.003573Z",
     "shell.execute_reply": "2020-11-28T14:13:48.002857Z"
    },
    "papermill": {
     "duration": 0.516338,
     "end_time": "2020-11-28T14:13:48.003693",
     "exception": false,
     "start_time": "2020-11-28T14:13:47.487355",
     "status": "completed"
    },
    "tags": []
   },
   "outputs": [],
   "source": [
    "# DEVICE = ('cuda' if torch.cuda.is_available() else 'cpu')\n",
    "# EPOCHS = 40\n",
    "# BATCH_SIZE = 256\n",
    "# LEARNING_RATE = 1e-3\n",
    "# WEIGHT_DECAY = 1e-5\n",
    "# NFOLDS = 10         \n",
    "# EARLY_STOPPING_STEPS = 10\n",
    "# EARLY_STOP = False\n",
    "\n",
    "# num_features=len(feature_cols)\n",
    "# num_targets=len(target_cols)\n",
    "# hidden_size=1490\n",
    "\n",
    "DEVICE = ('cuda' if torch.cuda.is_available() else 'cpu')\n",
    "EPOCHS = 40\n",
    "BATCH_SIZE = 256\n",
    "LEARNING_RATE = 1e-3\n",
    "WEIGHT_DECAY = 1e-5\n",
    "NFOLDS = 10          \n",
    "EARLY_STOPPING_STEPS = 10\n",
    "EARLY_STOP = False\n",
    "\n",
    "num_features=len(feature_cols)\n",
    "num_targets=len(target_cols)\n",
    "hidden_size=1490"
   ]
  },
  {
   "cell_type": "code",
   "execution_count": 36,
   "metadata": {
    "execution": {
     "iopub.execute_input": "2020-11-28T14:13:48.299880Z",
     "iopub.status.busy": "2020-11-28T14:13:48.298784Z",
     "iopub.status.idle": "2020-11-28T14:13:48.301414Z",
     "shell.execute_reply": "2020-11-28T14:13:48.302184Z"
    },
    "papermill": {
     "duration": 0.156093,
     "end_time": "2020-11-28T14:13:48.302368",
     "exception": false,
     "start_time": "2020-11-28T14:13:48.146275",
     "status": "completed"
    },
    "tags": []
   },
   "outputs": [],
   "source": [
    "def run_training(fold, seed):\n",
    "    test_ = process_data(test)\n",
    "    x_test = test_[feature_cols].values\n",
    "    testdataset = TestDataset(x_test)\n",
    "    testloader = torch.utils.data.DataLoader(testdataset, batch_size=BATCH_SIZE, shuffle=False)\n",
    "    \n",
    "    model = Model(\n",
    "        num_features=num_features,\n",
    "        num_targets=num_targets,\n",
    "        hidden_size=hidden_size,\n",
    "\n",
    "    )\n",
    "    \n",
    "    model.load_state_dict(torch.load(f\"../input/seed-fold/SEED{seed}_FOLD{fold}_.pth\"))\n",
    "    model.to(DEVICE)\n",
    "    \n",
    "    predictions = np.zeros((len(test_), target.iloc[:, 1:].shape[1]))\n",
    "    predictions = inference_fn(model, testloader, DEVICE)\n",
    "    \n",
    "    return predictions"
   ]
  },
  {
   "cell_type": "code",
   "execution_count": 37,
   "metadata": {
    "execution": {
     "iopub.execute_input": "2020-11-28T14:13:48.599275Z",
     "iopub.status.busy": "2020-11-28T14:13:48.598272Z",
     "iopub.status.idle": "2020-11-28T14:13:48.601516Z",
     "shell.execute_reply": "2020-11-28T14:13:48.600939Z"
    },
    "papermill": {
     "duration": 0.155493,
     "end_time": "2020-11-28T14:13:48.601636",
     "exception": false,
     "start_time": "2020-11-28T14:13:48.446143",
     "status": "completed"
    },
    "tags": []
   },
   "outputs": [],
   "source": [
    "def run_k_fold(NFOLDS, seed):\n",
    "    predictions = np.zeros((len(test), len(target_cols)))\n",
    "    \n",
    "    for fold in range(NFOLDS):\n",
    "        \n",
    "        pred_ = run_training(fold, seed)\n",
    "        \n",
    "        predictions += pred_ / NFOLDS\n",
    "        \n",
    "    return predictions"
   ]
  },
  {
   "cell_type": "code",
   "execution_count": 38,
   "metadata": {
    "execution": {
     "iopub.execute_input": "2020-11-28T14:13:48.895478Z",
     "iopub.status.busy": "2020-11-28T14:13:48.894221Z",
     "iopub.status.idle": "2020-11-28T14:14:19.745342Z",
     "shell.execute_reply": "2020-11-28T14:14:19.744222Z"
    },
    "papermill": {
     "duration": 31.004824,
     "end_time": "2020-11-28T14:14:19.745507",
     "exception": false,
     "start_time": "2020-11-28T14:13:48.740683",
     "status": "completed"
    },
    "tags": []
   },
   "outputs": [
    {
     "name": "stdout",
     "output_type": "stream",
     "text": [
      "0\n",
      "1\n",
      "2\n",
      "3\n",
      "4\n",
      "5\n",
      "6\n",
      "7\n",
      "8\n"
     ]
    }
   ],
   "source": [
    "SEED =[0,1,2,3,4,5,6,7,8]\n",
    "predictions = np.zeros((len(test), len(target_cols)))\n",
    "\n",
    "for seed in SEED:\n",
    "    print(seed)\n",
    "    \n",
    "    predictions_ = run_k_fold(NFOLDS, seed)\n",
    "    predictions += predictions_ / len(SEED)\n",
    "\n",
    "for i in range(len(target_cols)):\n",
    "    fea=target_cols[i]\n",
    "    test[fea]=predictions[:,i]"
   ]
  },
  {
   "cell_type": "code",
   "execution_count": 39,
   "metadata": {
    "execution": {
     "iopub.execute_input": "2020-11-28T14:14:20.044693Z",
     "iopub.status.busy": "2020-11-28T14:14:20.043229Z",
     "iopub.status.idle": "2020-11-28T14:14:22.406856Z",
     "shell.execute_reply": "2020-11-28T14:14:22.405978Z"
    },
    "papermill": {
     "duration": 2.517166,
     "end_time": "2020-11-28T14:14:22.407004",
     "exception": false,
     "start_time": "2020-11-28T14:14:19.889838",
     "status": "completed"
    },
    "tags": []
   },
   "outputs": [],
   "source": [
    "# sub1 = sample_submission.drop(columns=target_cols).merge(test[['sig_id']+target_cols], on='sig_id', how='left').fillna(0)\n",
    "# sub1.to_csv('submission.csv', index=False)\n",
    "sub1 = sample_submission.drop(columns=target_cols).merge(test[['sig_id']+target_cols], on='sig_id', how='left').fillna(0)\n",
    "sub1.to_csv('sub1.csv', index=False)\n"
   ]
  },
  {
   "cell_type": "code",
   "execution_count": null,
   "metadata": {
    "papermill": {
     "duration": 0.144483,
     "end_time": "2020-11-28T14:14:22.696937",
     "exception": false,
     "start_time": "2020-11-28T14:14:22.552454",
     "status": "completed"
    },
    "tags": []
   },
   "outputs": [],
   "source": []
  },
  {
   "cell_type": "code",
   "execution_count": 40,
   "metadata": {
    "execution": {
     "iopub.execute_input": "2020-11-28T14:14:22.989617Z",
     "iopub.status.busy": "2020-11-28T14:14:22.988863Z",
     "iopub.status.idle": "2020-11-28T14:14:22.994899Z",
     "shell.execute_reply": "2020-11-28T14:14:22.995429Z"
    },
    "papermill": {
     "duration": 0.155058,
     "end_time": "2020-11-28T14:14:22.995576",
     "exception": false,
     "start_time": "2020-11-28T14:14:22.840518",
     "status": "completed"
    },
    "tags": []
   },
   "outputs": [
    {
     "data": {
      "text/plain": [
       "(3982, 207)"
      ]
     },
     "execution_count": 40,
     "metadata": {},
     "output_type": "execute_result"
    }
   ],
   "source": [
    "sub1.shape"
   ]
  },
  {
   "cell_type": "code",
   "execution_count": 41,
   "metadata": {
    "execution": {
     "iopub.execute_input": "2020-11-28T14:14:23.304910Z",
     "iopub.status.busy": "2020-11-28T14:14:23.302842Z",
     "iopub.status.idle": "2020-11-28T14:14:23.305713Z",
     "shell.execute_reply": "2020-11-28T14:14:23.306233Z"
    },
    "papermill": {
     "duration": 0.165341,
     "end_time": "2020-11-28T14:14:23.306363",
     "exception": false,
     "start_time": "2020-11-28T14:14:23.141022",
     "status": "completed"
    },
    "tags": []
   },
   "outputs": [],
   "source": [
    "import numpy as np\n",
    "import random\n",
    "import pandas as pd\n",
    "import matplotlib.pyplot as plt\n",
    "import os\n",
    "import copy\n",
    "import seaborn as sns\n",
    " \n",
    "from sklearn import preprocessing\n",
    "from sklearn.metrics import log_loss\n",
    "from sklearn.preprocessing import StandardScaler\n",
    "from sklearn.preprocessing import QuantileTransformer\n",
    "from sklearn.decomposition import PCA\n",
    " \n",
    "import torch\n",
    "import torch.nn as nn\n",
    "import torch.nn.functional as F\n",
    "import torch.optim as optim\n",
    " \n",
    "import warnings\n",
    "warnings.filterwarnings('ignore')\n",
    "from pickle import load,dump"
   ]
  },
  {
   "cell_type": "code",
   "execution_count": 42,
   "metadata": {
    "execution": {
     "iopub.execute_input": "2020-11-28T14:14:23.799780Z",
     "iopub.status.busy": "2020-11-28T14:14:23.798842Z",
     "iopub.status.idle": "2020-11-28T14:14:29.769174Z",
     "shell.execute_reply": "2020-11-28T14:14:29.768010Z"
    },
    "papermill": {
     "duration": 6.189469,
     "end_time": "2020-11-28T14:14:29.769298",
     "exception": false,
     "start_time": "2020-11-28T14:14:23.579829",
     "status": "completed"
    },
    "tags": []
   },
   "outputs": [],
   "source": [
    "train_features = pd.read_csv('/kaggle/input/lish-moa/train_features.csv')\n",
    "train_targets_scored = pd.read_csv('/kaggle/input/lish-moa/train_targets_scored.csv')\n",
    "train_targets_nonscored = pd.read_csv('/kaggle/input/lish-moa/train_targets_nonscored.csv')\n",
    "test_features = pd.read_csv('/kaggle/input/lish-moa/test_features.csv')\n",
    "sample_submission = pd.read_csv('/kaggle/input/lish-moa/sample_submission.csv')\n",
    "train_drug = pd.read_csv('/kaggle/input/lish-moa/train_drug.csv')"
   ]
  },
  {
   "cell_type": "code",
   "execution_count": 43,
   "metadata": {
    "execution": {
     "iopub.execute_input": "2020-11-28T14:14:30.047110Z",
     "iopub.status.busy": "2020-11-28T14:14:30.046422Z",
     "iopub.status.idle": "2020-11-28T14:14:30.050369Z",
     "shell.execute_reply": "2020-11-28T14:14:30.051056Z"
    },
    "papermill": {
     "duration": 0.145601,
     "end_time": "2020-11-28T14:14:30.051194",
     "exception": false,
     "start_time": "2020-11-28T14:14:29.905593",
     "status": "completed"
    },
    "tags": []
   },
   "outputs": [],
   "source": [
    "GENES = [col for col in train_features.columns if col.startswith('g-')]\n",
    "CELLS = [col for col in train_features.columns if col.startswith('c-')]"
   ]
  },
  {
   "cell_type": "code",
   "execution_count": 44,
   "metadata": {
    "execution": {
     "iopub.execute_input": "2020-11-28T14:14:30.337008Z",
     "iopub.status.busy": "2020-11-28T14:14:30.335757Z",
     "iopub.status.idle": "2020-11-28T14:14:39.567802Z",
     "shell.execute_reply": "2020-11-28T14:14:39.567154Z"
    },
    "papermill": {
     "duration": 9.377975,
     "end_time": "2020-11-28T14:14:39.567946",
     "exception": false,
     "start_time": "2020-11-28T14:14:30.189971",
     "status": "completed"
    },
    "tags": []
   },
   "outputs": [],
   "source": [
    "\n",
    "for col in (GENES + CELLS):\n",
    "\n",
    "    transformer = QuantileTransformer(n_quantiles=100,random_state=0, output_distribution=\"normal\")\n",
    "    vec_len = len(train_features[col].values)\n",
    "    vec_len_test = len(test_features[col].values)\n",
    "    raw_vec = train_features[col].values.reshape(vec_len, 1)\n",
    "    transformer.fit(raw_vec)\n",
    "\n",
    "    train_features[col] = transformer.transform(raw_vec).reshape(1, vec_len)[0]\n",
    "    test_features[col] = transformer.transform(test_features[col].values.reshape(vec_len_test, 1)).reshape(1, vec_len_test)[0]"
   ]
  },
  {
   "cell_type": "code",
   "execution_count": 45,
   "metadata": {
    "execution": {
     "iopub.execute_input": "2020-11-28T14:14:39.870198Z",
     "iopub.status.busy": "2020-11-28T14:14:39.868258Z",
     "iopub.status.idle": "2020-11-28T14:14:39.871137Z",
     "shell.execute_reply": "2020-11-28T14:14:39.871649Z"
    },
    "papermill": {
     "duration": 0.156817,
     "end_time": "2020-11-28T14:14:39.871778",
     "exception": false,
     "start_time": "2020-11-28T14:14:39.714961",
     "status": "completed"
    },
    "tags": []
   },
   "outputs": [],
   "source": [
    "def seed_everything(seed=42):\n",
    "    random.seed(seed)\n",
    "    os.environ['PYTHONHASHSEED'] = str(seed)\n",
    "    np.random.seed(seed)\n",
    "    torch.manual_seed(seed)\n",
    "    torch.cuda.manual_seed(seed)\n",
    "    torch.backends.cudnn.deterministic = True\n",
    "    \n",
    "seed_everything(seed=42)"
   ]
  },
  {
   "cell_type": "code",
   "execution_count": 46,
   "metadata": {
    "execution": {
     "iopub.execute_input": "2020-11-28T14:14:40.166163Z",
     "iopub.status.busy": "2020-11-28T14:14:40.165130Z",
     "iopub.status.idle": "2020-11-28T14:14:40.911542Z",
     "shell.execute_reply": "2020-11-28T14:14:40.910861Z"
    },
    "papermill": {
     "duration": 0.89916,
     "end_time": "2020-11-28T14:14:40.911669",
     "exception": false,
     "start_time": "2020-11-28T14:14:40.012509",
     "status": "completed"
    },
    "tags": []
   },
   "outputs": [],
   "source": [
    "# GENES\n",
    "n_comp =505 \n",
    "gpca= load(open('../input/pkl-data/gpca.pkl', 'rb'))\n",
    "train2= (gpca.transform(train_features[GENES]))\n",
    "test2 = (gpca.transform(test_features[GENES]))\n",
    "\n",
    "train_gpca = pd.DataFrame(train2, columns=[f'pca_G-{i}' for i in range(n_comp)])\n",
    "test_gpca = pd.DataFrame(test2, columns=[f'pca_G-{i}' for i in range(n_comp)])\n",
    "\n",
    "train_features = pd.concat((train_features, train_gpca), axis=1)\n",
    "test_features = pd.concat((test_features, test_gpca), axis=1)"
   ]
  },
  {
   "cell_type": "code",
   "execution_count": 47,
   "metadata": {
    "execution": {
     "iopub.execute_input": "2020-11-28T14:14:41.217057Z",
     "iopub.status.busy": "2020-11-28T14:14:41.215942Z",
     "iopub.status.idle": "2020-11-28T14:14:41.603066Z",
     "shell.execute_reply": "2020-11-28T14:14:41.602365Z"
    },
    "papermill": {
     "duration": 0.544258,
     "end_time": "2020-11-28T14:14:41.603191",
     "exception": false,
     "start_time": "2020-11-28T14:14:41.058933",
     "status": "completed"
    },
    "tags": []
   },
   "outputs": [],
   "source": [
    "n_comp =80\n",
    "\n",
    "cpca= load(open('../input/pkl-data/cpca.pkl', 'rb'))\n",
    "train2= (cpca.transform(train_features[CELLS]))\n",
    "test2 = (cpca.transform(test_features[CELLS]))\n",
    "\n",
    "train_cpca = pd.DataFrame(train2, columns=[f'pca_C-{i}' for i in range(n_comp)])\n",
    "test_cpca = pd.DataFrame(test2, columns=[f'pca_C-{i}' for i in range(n_comp)])\n",
    "\n",
    "train_features = pd.concat((train_features, train_cpca), axis=1)\n",
    "test_features = pd.concat((test_features, test_cpca), axis=1)"
   ]
  },
  {
   "cell_type": "code",
   "execution_count": 48,
   "metadata": {
    "execution": {
     "iopub.execute_input": "2020-11-28T14:14:41.902017Z",
     "iopub.status.busy": "2020-11-28T14:14:41.901104Z",
     "iopub.status.idle": "2020-11-28T14:14:41.906777Z",
     "shell.execute_reply": "2020-11-28T14:14:41.906191Z"
    },
    "papermill": {
     "duration": 0.156196,
     "end_time": "2020-11-28T14:14:41.906890",
     "exception": false,
     "start_time": "2020-11-28T14:14:41.750694",
     "status": "completed"
    },
    "tags": []
   },
   "outputs": [
    {
     "data": {
      "text/plain": [
       "(23814, 1461)"
      ]
     },
     "execution_count": 48,
     "metadata": {},
     "output_type": "execute_result"
    }
   ],
   "source": [
    "train_features.shape"
   ]
  },
  {
   "cell_type": "code",
   "execution_count": 49,
   "metadata": {
    "execution": {
     "iopub.execute_input": "2020-11-28T14:14:42.209333Z",
     "iopub.status.busy": "2020-11-28T14:14:42.208624Z",
     "iopub.status.idle": "2020-11-28T14:14:42.215093Z",
     "shell.execute_reply": "2020-11-28T14:14:42.214536Z"
    },
    "papermill": {
     "duration": 0.161709,
     "end_time": "2020-11-28T14:14:42.215208",
     "exception": false,
     "start_time": "2020-11-28T14:14:42.053499",
     "status": "completed"
    },
    "tags": []
   },
   "outputs": [
    {
     "data": {
      "text/plain": [
       "(3982, 1461)"
      ]
     },
     "execution_count": 49,
     "metadata": {},
     "output_type": "execute_result"
    }
   ],
   "source": [
    "test_features.shape"
   ]
  },
  {
   "cell_type": "code",
   "execution_count": 50,
   "metadata": {
    "execution": {
     "iopub.execute_input": "2020-11-28T14:14:42.535697Z",
     "iopub.status.busy": "2020-11-28T14:14:42.534203Z",
     "iopub.status.idle": "2020-11-28T14:14:43.210634Z",
     "shell.execute_reply": "2020-11-28T14:14:43.209998Z"
    },
    "papermill": {
     "duration": 0.838522,
     "end_time": "2020-11-28T14:14:43.210768",
     "exception": false,
     "start_time": "2020-11-28T14:14:42.372246",
     "status": "completed"
    },
    "tags": []
   },
   "outputs": [],
   "source": [
    "from sklearn.feature_selection import VarianceThreshold\n",
    "\n",
    "c_n = [f for f in list(train_features.columns) if f not in ['sig_id', 'cp_type', 'cp_time', 'cp_dose']]\n",
    "mask = (train_features[c_n].var() >= 0.84).values\n",
    "tmp = train_features[c_n].loc[:, mask]\n",
    "train_features = pd.concat([train_features[['sig_id', 'cp_type', 'cp_time', 'cp_dose']], tmp], axis=1)\n",
    "tmp = test_features[c_n].loc[:, mask]\n",
    "test_features = pd.concat([test_features[['sig_id', 'cp_type', 'cp_time', 'cp_dose']], tmp], axis=1)"
   ]
  },
  {
   "cell_type": "code",
   "execution_count": 51,
   "metadata": {
    "execution": {
     "iopub.execute_input": "2020-11-28T14:14:43.518180Z",
     "iopub.status.busy": "2020-11-28T14:14:43.517440Z",
     "iopub.status.idle": "2020-11-28T14:14:43.524459Z",
     "shell.execute_reply": "2020-11-28T14:14:43.523900Z"
    },
    "papermill": {
     "duration": 0.161672,
     "end_time": "2020-11-28T14:14:43.524572",
     "exception": false,
     "start_time": "2020-11-28T14:14:43.362900",
     "status": "completed"
    },
    "tags": []
   },
   "outputs": [
    {
     "data": {
      "text/plain": [
       "(23814, 1029)"
      ]
     },
     "execution_count": 51,
     "metadata": {},
     "output_type": "execute_result"
    }
   ],
   "source": [
    "train_features.shape"
   ]
  },
  {
   "cell_type": "code",
   "execution_count": 52,
   "metadata": {
    "execution": {
     "iopub.execute_input": "2020-11-28T14:14:43.829167Z",
     "iopub.status.busy": "2020-11-28T14:14:43.828241Z",
     "iopub.status.idle": "2020-11-28T14:14:43.831910Z",
     "shell.execute_reply": "2020-11-28T14:14:43.832494Z"
    },
    "papermill": {
     "duration": 0.15809,
     "end_time": "2020-11-28T14:14:43.832634",
     "exception": false,
     "start_time": "2020-11-28T14:14:43.674544",
     "status": "completed"
    },
    "tags": []
   },
   "outputs": [
    {
     "data": {
      "text/plain": [
       "(3982, 1029)"
      ]
     },
     "execution_count": 52,
     "metadata": {},
     "output_type": "execute_result"
    }
   ],
   "source": [
    "test_features.shape"
   ]
  },
  {
   "cell_type": "code",
   "execution_count": 53,
   "metadata": {
    "execution": {
     "iopub.execute_input": "2020-11-28T14:14:44.148860Z",
     "iopub.status.busy": "2020-11-28T14:14:44.147720Z",
     "iopub.status.idle": "2020-11-28T14:14:44.812121Z",
     "shell.execute_reply": "2020-11-28T14:14:44.811300Z"
    },
    "papermill": {
     "duration": 0.829454,
     "end_time": "2020-11-28T14:14:44.812248",
     "exception": false,
     "start_time": "2020-11-28T14:14:43.982794",
     "status": "completed"
    },
    "tags": []
   },
   "outputs": [],
   "source": [
    "from sklearn.cluster import KMeans\n",
    "def fe_cluster_genes(train, test, n_clusters_g =31, SEED = 123):\n",
    "    \n",
    "    features_g = GENES\n",
    "    \n",
    "    def create_cluster(train, test, features, kind = 'g', n_clusters = n_clusters_g):\n",
    "        train_ = train[features].copy()\n",
    "        test_ = test[features].copy()\n",
    "        kmeans_genes = load(open('../input/input-pkl/kmeans_genes.pkl', 'rb'))\n",
    "        train[f'clusters_{kind}'] = kmeans_genes.predict(train_.values)\n",
    "        test[f'clusters_{kind}'] = kmeans_genes.predict(test_.values)\n",
    "        train = pd.get_dummies(train, columns = [f'clusters_{kind}'])\n",
    "        test = pd.get_dummies(test, columns = [f'clusters_{kind}'])\n",
    "        return train, test\n",
    "    \n",
    "    train, test = create_cluster(train, test, features_g, kind = 'g', n_clusters = n_clusters_g)\n",
    "    return train, test\n",
    "\n",
    "train_features,test_features =fe_cluster_genes(train_features,test_features)"
   ]
  },
  {
   "cell_type": "code",
   "execution_count": 54,
   "metadata": {
    "execution": {
     "iopub.execute_input": "2020-11-28T14:14:45.124236Z",
     "iopub.status.busy": "2020-11-28T14:14:45.123490Z",
     "iopub.status.idle": "2020-11-28T14:14:45.126806Z",
     "shell.execute_reply": "2020-11-28T14:14:45.124971Z"
    },
    "papermill": {
     "duration": 0.162482,
     "end_time": "2020-11-28T14:14:45.126928",
     "exception": false,
     "start_time": "2020-11-28T14:14:44.964446",
     "status": "completed"
    },
    "tags": []
   },
   "outputs": [
    {
     "data": {
      "text/plain": [
       "(23814, 1060)"
      ]
     },
     "execution_count": 54,
     "metadata": {},
     "output_type": "execute_result"
    }
   ],
   "source": [
    "train_features.shape"
   ]
  },
  {
   "cell_type": "code",
   "execution_count": 55,
   "metadata": {
    "execution": {
     "iopub.execute_input": "2020-11-28T14:14:45.506131Z",
     "iopub.status.busy": "2020-11-28T14:14:45.505191Z",
     "iopub.status.idle": "2020-11-28T14:14:45.508934Z",
     "shell.execute_reply": "2020-11-28T14:14:45.509836Z"
    },
    "papermill": {
     "duration": 0.236067,
     "end_time": "2020-11-28T14:14:45.510052",
     "exception": false,
     "start_time": "2020-11-28T14:14:45.273985",
     "status": "completed"
    },
    "tags": []
   },
   "outputs": [
    {
     "data": {
      "text/plain": [
       "(3982, 1060)"
      ]
     },
     "execution_count": 55,
     "metadata": {},
     "output_type": "execute_result"
    }
   ],
   "source": [
    "test_features.shape"
   ]
  },
  {
   "cell_type": "code",
   "execution_count": 56,
   "metadata": {
    "execution": {
     "iopub.execute_input": "2020-11-28T14:14:45.990103Z",
     "iopub.status.busy": "2020-11-28T14:14:45.988923Z",
     "iopub.status.idle": "2020-11-28T14:14:46.428126Z",
     "shell.execute_reply": "2020-11-28T14:14:46.427463Z"
    },
    "papermill": {
     "duration": 0.671784,
     "end_time": "2020-11-28T14:14:46.428251",
     "exception": false,
     "start_time": "2020-11-28T14:14:45.756467",
     "status": "completed"
    },
    "tags": []
   },
   "outputs": [],
   "source": [
    "def fe_cluster_cells(train, test, n_clusters_c =8, SEED = 123):\n",
    "    \n",
    "    features_c = CELLS\n",
    "    \n",
    "    def create_cluster(train, test, features, kind = 'c', n_clusters = n_clusters_c):\n",
    "        train_ = train[features].copy()\n",
    "        test_ = test[features].copy()\n",
    "        kmeans_cells = load(open('../input/input-pkl/kmeans_cells.pkl', 'rb'))\n",
    "        train[f'clusters_{kind}'] = kmeans_cells.predict(train_.values)\n",
    "        test[f'clusters_{kind}'] = kmeans_cells.predict(test_.values)\n",
    "        train = pd.get_dummies(train, columns = [f'clusters_{kind}'])\n",
    "        test = pd.get_dummies(test, columns = [f'clusters_{kind}'])\n",
    "        return train, test\n",
    "    \n",
    "    train, test = create_cluster(train, test, features_c, kind = 'c', n_clusters = n_clusters_c)\n",
    "    return train, test\n",
    "train_features,test_features=fe_cluster_cells(train_features,test_features)"
   ]
  },
  {
   "cell_type": "code",
   "execution_count": 57,
   "metadata": {
    "execution": {
     "iopub.execute_input": "2020-11-28T14:14:46.716427Z",
     "iopub.status.busy": "2020-11-28T14:14:46.715364Z",
     "iopub.status.idle": "2020-11-28T14:14:46.720600Z",
     "shell.execute_reply": "2020-11-28T14:14:46.720020Z"
    },
    "papermill": {
     "duration": 0.152192,
     "end_time": "2020-11-28T14:14:46.720708",
     "exception": false,
     "start_time": "2020-11-28T14:14:46.568516",
     "status": "completed"
    },
    "tags": []
   },
   "outputs": [
    {
     "data": {
      "text/plain": [
       "(23814, 1068)"
      ]
     },
     "execution_count": 57,
     "metadata": {},
     "output_type": "execute_result"
    }
   ],
   "source": [
    "train_features.shape"
   ]
  },
  {
   "cell_type": "code",
   "execution_count": 58,
   "metadata": {
    "execution": {
     "iopub.execute_input": "2020-11-28T14:14:47.007092Z",
     "iopub.status.busy": "2020-11-28T14:14:47.006160Z",
     "iopub.status.idle": "2020-11-28T14:14:47.010951Z",
     "shell.execute_reply": "2020-11-28T14:14:47.011424Z"
    },
    "papermill": {
     "duration": 0.151826,
     "end_time": "2020-11-28T14:14:47.011562",
     "exception": false,
     "start_time": "2020-11-28T14:14:46.859736",
     "status": "completed"
    },
    "tags": []
   },
   "outputs": [
    {
     "data": {
      "text/plain": [
       "(3982, 1068)"
      ]
     },
     "execution_count": 58,
     "metadata": {},
     "output_type": "execute_result"
    }
   ],
   "source": [
    "test_features.shape"
   ]
  },
  {
   "cell_type": "code",
   "execution_count": 59,
   "metadata": {
    "execution": {
     "iopub.execute_input": "2020-11-28T14:14:47.316587Z",
     "iopub.status.busy": "2020-11-28T14:14:47.315451Z",
     "iopub.status.idle": "2020-11-28T14:14:52.691589Z",
     "shell.execute_reply": "2020-11-28T14:14:52.690859Z"
    },
    "papermill": {
     "duration": 5.535392,
     "end_time": "2020-11-28T14:14:52.691722",
     "exception": false,
     "start_time": "2020-11-28T14:14:47.156330",
     "status": "completed"
    },
    "tags": []
   },
   "outputs": [],
   "source": [
    "def fe_stats(train, test):\n",
    "    \n",
    "    features_g = [col for col in train_features.columns if col.startswith('g-')]\n",
    "    features_c = [col for col in train_features.columns if col.startswith('c-')]\n",
    "    \n",
    "    for df in train, test:\n",
    "        df['g_sum'] = df[features_g].sum(axis = 1)\n",
    "        df['g_mean'] = df[features_g].mean(axis = 1)\n",
    "        df['g_std'] = df[features_g].std(axis = 1)\n",
    "        df['g_kurt'] = df[features_g].kurtosis(axis = 1)\n",
    "        df['g_skew'] = df[features_g].skew(axis = 1)\n",
    "        df['c_sum'] = df[features_c].sum(axis = 1)\n",
    "        df['c_mean'] = df[features_c].mean(axis = 1)\n",
    "        df['c_std'] = df[features_c].std(axis = 1)\n",
    "        df['c_kurt'] = df[features_c].kurtosis(axis = 1)\n",
    "        df['c_skew'] = df[features_c].skew(axis = 1)\n",
    "        df['gc_sum'] = df[features_g + features_c].sum(axis = 1)\n",
    "        df['gc_mean'] = df[features_g + features_c].mean(axis = 1)\n",
    "        df['gc_std'] = df[features_g + features_c].std(axis = 1)\n",
    "        df['gc_kurt'] = df[features_g + features_c].kurtosis(axis = 1)\n",
    "        df['gc_skew'] = df[features_g + features_c].skew(axis = 1)\n",
    "    return train, test\n",
    "\n",
    "train_features,test_features=fe_stats(train_features,test_features)"
   ]
  },
  {
   "cell_type": "code",
   "execution_count": 60,
   "metadata": {
    "execution": {
     "iopub.execute_input": "2020-11-28T14:14:52.981212Z",
     "iopub.status.busy": "2020-11-28T14:14:52.980001Z",
     "iopub.status.idle": "2020-11-28T14:14:52.983798Z",
     "shell.execute_reply": "2020-11-28T14:14:52.984325Z"
    },
    "papermill": {
     "duration": 0.148878,
     "end_time": "2020-11-28T14:14:52.984481",
     "exception": false,
     "start_time": "2020-11-28T14:14:52.835603",
     "status": "completed"
    },
    "tags": []
   },
   "outputs": [
    {
     "data": {
      "text/plain": [
       "(23814, 1083)"
      ]
     },
     "execution_count": 60,
     "metadata": {},
     "output_type": "execute_result"
    }
   ],
   "source": [
    "train_features.shape"
   ]
  },
  {
   "cell_type": "code",
   "execution_count": 61,
   "metadata": {
    "execution": {
     "iopub.execute_input": "2020-11-28T14:14:53.313317Z",
     "iopub.status.busy": "2020-11-28T14:14:53.312263Z",
     "iopub.status.idle": "2020-11-28T14:14:53.327339Z",
     "shell.execute_reply": "2020-11-28T14:14:53.331230Z"
    },
    "papermill": {
     "duration": 0.205955,
     "end_time": "2020-11-28T14:14:53.331450",
     "exception": false,
     "start_time": "2020-11-28T14:14:53.125495",
     "status": "completed"
    },
    "tags": []
   },
   "outputs": [
    {
     "data": {
      "text/plain": [
       "(3982, 1083)"
      ]
     },
     "execution_count": 61,
     "metadata": {},
     "output_type": "execute_result"
    }
   ],
   "source": [
    "test_features.shape"
   ]
  },
  {
   "cell_type": "code",
   "execution_count": 62,
   "metadata": {
    "execution": {
     "iopub.execute_input": "2020-11-28T14:14:53.874002Z",
     "iopub.status.busy": "2020-11-28T14:14:53.872836Z",
     "iopub.status.idle": "2020-11-28T14:14:55.129260Z",
     "shell.execute_reply": "2020-11-28T14:14:55.128477Z"
    },
    "papermill": {
     "duration": 1.496757,
     "end_time": "2020-11-28T14:14:55.129438",
     "exception": false,
     "start_time": "2020-11-28T14:14:53.632681",
     "status": "completed"
    },
    "tags": []
   },
   "outputs": [],
   "source": [
    "train = train_features.merge(train_targets_scored, on='sig_id')\n",
    "train = train.merge(train_targets_nonscored, on='sig_id')\n",
    "train = train.merge(train_drug, on='sig_id')\n",
    "train = train[train['cp_type']!='ctl_vehicle'].reset_index(drop=True)\n",
    "test = test_features[test_features['cp_type']!='ctl_vehicle'].reset_index(drop=True)\n",
    "target = train[train_targets_scored.columns]"
   ]
  },
  {
   "cell_type": "code",
   "execution_count": 63,
   "metadata": {
    "execution": {
     "iopub.execute_input": "2020-11-28T14:14:55.526616Z",
     "iopub.status.busy": "2020-11-28T14:14:55.525590Z",
     "iopub.status.idle": "2020-11-28T14:14:55.539452Z",
     "shell.execute_reply": "2020-11-28T14:14:55.538853Z"
    },
    "papermill": {
     "duration": 0.262697,
     "end_time": "2020-11-28T14:14:55.539580",
     "exception": false,
     "start_time": "2020-11-28T14:14:55.276883",
     "status": "completed"
    },
    "tags": []
   },
   "outputs": [],
   "source": [
    "train = train.drop('cp_type', axis=1)\n",
    "test = test.drop('cp_type', axis=1)"
   ]
  },
  {
   "cell_type": "code",
   "execution_count": 64,
   "metadata": {
    "execution": {
     "iopub.execute_input": "2020-11-28T14:14:55.846337Z",
     "iopub.status.busy": "2020-11-28T14:14:55.845410Z",
     "iopub.status.idle": "2020-11-28T14:14:55.850669Z",
     "shell.execute_reply": "2020-11-28T14:14:55.851230Z"
    },
    "papermill": {
     "duration": 0.16213,
     "end_time": "2020-11-28T14:14:55.851394",
     "exception": false,
     "start_time": "2020-11-28T14:14:55.689264",
     "status": "completed"
    },
    "tags": []
   },
   "outputs": [
    {
     "name": "stdout",
     "output_type": "stream",
     "text": [
      "num_targets: 206\n",
      "num_aux_targets: 402\n",
      "num_all_targets: 608\n"
     ]
    }
   ],
   "source": [
    "target_cols = [x for x in train_targets_scored.columns if x != 'sig_id']\n",
    "aux_target_cols = [x for x in train_targets_nonscored.columns if x != 'sig_id']\n",
    "all_target_cols = target_cols + aux_target_cols\n",
    "\n",
    "num_targets = len(target_cols)\n",
    "num_aux_targets = len(aux_target_cols)\n",
    "num_all_targets = len(all_target_cols)\n",
    "\n",
    "print('num_targets: {}'.format(num_targets))\n",
    "print('num_aux_targets: {}'.format(num_aux_targets))\n",
    "print('num_all_targets: {}'.format(num_all_targets))"
   ]
  },
  {
   "cell_type": "code",
   "execution_count": 65,
   "metadata": {
    "execution": {
     "iopub.execute_input": "2020-11-28T14:14:56.173023Z",
     "iopub.status.busy": "2020-11-28T14:14:56.172214Z",
     "iopub.status.idle": "2020-11-28T14:14:56.178398Z",
     "shell.execute_reply": "2020-11-28T14:14:56.179194Z"
    },
    "papermill": {
     "duration": 0.166433,
     "end_time": "2020-11-28T14:14:56.179368",
     "exception": false,
     "start_time": "2020-11-28T14:14:56.012935",
     "status": "completed"
    },
    "tags": []
   },
   "outputs": [
    {
     "name": "stdout",
     "output_type": "stream",
     "text": [
      "(21948, 1691)\n",
      "(3624, 1082)\n",
      "(3982, 207)\n"
     ]
    }
   ],
   "source": [
    "print(train.shape)\n",
    "print(test.shape)\n",
    "print(sample_submission.shape)"
   ]
  },
  {
   "cell_type": "code",
   "execution_count": 66,
   "metadata": {
    "execution": {
     "iopub.execute_input": "2020-11-28T14:14:56.630510Z",
     "iopub.status.busy": "2020-11-28T14:14:56.629574Z",
     "iopub.status.idle": "2020-11-28T14:14:56.634950Z",
     "shell.execute_reply": "2020-11-28T14:14:56.636817Z"
    },
    "papermill": {
     "duration": 0.302223,
     "end_time": "2020-11-28T14:14:56.637128",
     "exception": false,
     "start_time": "2020-11-28T14:14:56.334905",
     "status": "completed"
    },
    "tags": []
   },
   "outputs": [],
   "source": [
    "class MoADataset:\n",
    "    def __init__(self, features, targets):\n",
    "        self.features = features\n",
    "        self.targets = targets\n",
    "        \n",
    "    def __len__(self):\n",
    "        return (self.features.shape[0])\n",
    "    \n",
    "    def __getitem__(self, idx):\n",
    "        dct = {\n",
    "            'x' : torch.tensor(self.features[idx, :], dtype=torch.float),\n",
    "            'y' : torch.tensor(self.targets[idx, :], dtype=torch.float)\n",
    "        }\n",
    "        \n",
    "        return dct\n",
    "    \n",
    "class TestDataset:\n",
    "    def __init__(self, features):\n",
    "        self.features = features\n",
    "        \n",
    "    def __len__(self):\n",
    "        return (self.features.shape[0])\n",
    "    \n",
    "    def __getitem__(self, idx):\n",
    "        dct = {\n",
    "            'x' : torch.tensor(self.features[idx, :], dtype=torch.float)\n",
    "        }\n",
    "\n",
    "        return dct"
   ]
  },
  {
   "cell_type": "code",
   "execution_count": 67,
   "metadata": {
    "execution": {
     "iopub.execute_input": "2020-11-28T14:14:57.086191Z",
     "iopub.status.busy": "2020-11-28T14:14:57.084913Z",
     "iopub.status.idle": "2020-11-28T14:14:57.104961Z",
     "shell.execute_reply": "2020-11-28T14:14:57.103919Z"
    },
    "papermill": {
     "duration": 0.254633,
     "end_time": "2020-11-28T14:14:57.105139",
     "exception": false,
     "start_time": "2020-11-28T14:14:56.850506",
     "status": "completed"
    },
    "tags": []
   },
   "outputs": [],
   "source": [
    "def train_fn(model, optimizer, scheduler, loss_fn, dataloader, device):\n",
    "    model.train()\n",
    "    final_loss = 0\n",
    "    \n",
    "    for data in dataloader:\n",
    "        optimizer.zero_grad()\n",
    "        inputs, targets = data['x'].to(device), data['y'].to(device)\n",
    "        outputs = model(inputs)\n",
    "        loss = loss_fn(outputs, targets)\n",
    "        loss.backward()\n",
    "        optimizer.step()\n",
    "        scheduler.step()\n",
    "\n",
    "        final_loss += loss.item()\n",
    "        \n",
    "    final_loss /= len(dataloader)\n",
    "    return final_loss\n",
    "\n",
    "def valid_fn(model, loss_fn, dataloader, device):\n",
    "    model.eval()\n",
    "    final_loss = 0\n",
    "    valid_preds = []\n",
    "    \n",
    "    for data in dataloader:\n",
    "        inputs, targets = data['x'].to(device), data['y'].to(device)\n",
    "        outputs = model(inputs)\n",
    "        loss = loss_fn(outputs, targets)\n",
    "\n",
    "        final_loss += loss.item()\n",
    "        valid_preds.append(outputs.sigmoid().detach().cpu().numpy())\n",
    "        \n",
    "    final_loss /= len(dataloader)\n",
    "    valid_preds = np.concatenate(valid_preds)\n",
    "    return final_loss, valid_preds\n",
    "\n",
    "def inference_fn(model, dataloader, device):\n",
    "    model.eval()\n",
    "    preds = []\n",
    "    \n",
    "    for data in dataloader:\n",
    "        inputs = data['x'].to(device)\n",
    "\n",
    "        with torch.no_grad():\n",
    "            outputs = model(inputs)\n",
    "        \n",
    "        preds.append(outputs.sigmoid().detach().cpu().numpy())\n",
    "        \n",
    "    preds = np.concatenate(preds)\n",
    "    return preds"
   ]
  },
  {
   "cell_type": "code",
   "execution_count": 68,
   "metadata": {
    "execution": {
     "iopub.execute_input": "2020-11-28T14:14:57.467185Z",
     "iopub.status.busy": "2020-11-28T14:14:57.466293Z",
     "iopub.status.idle": "2020-11-28T14:14:57.469940Z",
     "shell.execute_reply": "2020-11-28T14:14:57.470483Z"
    },
    "papermill": {
     "duration": 0.206425,
     "end_time": "2020-11-28T14:14:57.470628",
     "exception": false,
     "start_time": "2020-11-28T14:14:57.264203",
     "status": "completed"
    },
    "tags": []
   },
   "outputs": [],
   "source": [
    "import torch\n",
    "from torch.nn.modules.loss import _WeightedLoss\n",
    "import torch.nn.functional as F\n",
    "\n",
    "class SmoothBCEwLogits(_WeightedLoss):\n",
    "    def __init__(self, weight=None, reduction='mean', smoothing=0.0):\n",
    "        super().__init__(weight=weight, reduction=reduction)\n",
    "        self.smoothing = smoothing\n",
    "        self.weight = weight\n",
    "        self.reduction = reduction\n",
    "\n",
    "    @staticmethod\n",
    "    def _smooth(targets:torch.Tensor, n_labels:int, smoothing=0.0):\n",
    "        assert 0 <= smoothing < 1\n",
    "\n",
    "        with torch.no_grad():\n",
    "            targets = targets * (1.0 - smoothing) + 0.5 * smoothing\n",
    "            \n",
    "        return targets\n",
    "\n",
    "    def forward(self, inputs, targets):\n",
    "        targets = SmoothBCEwLogits._smooth(targets, inputs.size(-1),\n",
    "            self.smoothing)\n",
    "        loss = F.binary_cross_entropy_with_logits(inputs, targets,self.weight)\n",
    "\n",
    "        if  self.reduction == 'sum':\n",
    "            loss = loss.sum()\n",
    "        elif  self.reduction == 'mean':\n",
    "            loss = loss.mean()\n",
    "\n",
    "        return loss"
   ]
  },
  {
   "cell_type": "code",
   "execution_count": 69,
   "metadata": {
    "execution": {
     "iopub.execute_input": "2020-11-28T14:14:57.827422Z",
     "iopub.status.busy": "2020-11-28T14:14:57.817793Z",
     "iopub.status.idle": "2020-11-28T14:14:57.831509Z",
     "shell.execute_reply": "2020-11-28T14:14:57.830830Z"
    },
    "papermill": {
     "duration": 0.18555,
     "end_time": "2020-11-28T14:14:57.831623",
     "exception": false,
     "start_time": "2020-11-28T14:14:57.646073",
     "status": "completed"
    },
    "tags": []
   },
   "outputs": [],
   "source": [
    "class Model(nn.Module):\n",
    "    def __init__(self, num_features, num_targets):\n",
    "        super(Model, self).__init__()\n",
    "        self.hidden_size = [1500, 1250, 1000, 750]\n",
    "        self.dropout_value = [0.5, 0.35, 0.3, 0.25]\n",
    "\n",
    "        self.batch_norm1 = nn.BatchNorm1d(num_features)\n",
    "        self.dense1 = nn.Linear(num_features, self.hidden_size[0])\n",
    "        \n",
    "        self.batch_norm2 = nn.BatchNorm1d(self.hidden_size[0])\n",
    "        self.dropout2 = nn.Dropout(self.dropout_value[0])\n",
    "        self.dense2 = nn.Linear(self.hidden_size[0], self.hidden_size[1])\n",
    "\n",
    "        self.batch_norm3 = nn.BatchNorm1d(self.hidden_size[1])\n",
    "        self.dropout3 = nn.Dropout(self.dropout_value[1])\n",
    "        self.dense3 = nn.Linear(self.hidden_size[1], self.hidden_size[2])\n",
    "\n",
    "        self.batch_norm4 = nn.BatchNorm1d(self.hidden_size[2])\n",
    "        self.dropout4 = nn.Dropout(self.dropout_value[2])\n",
    "        self.dense4 = nn.Linear(self.hidden_size[2], self.hidden_size[3])\n",
    "\n",
    "        self.batch_norm5 = nn.BatchNorm1d(self.hidden_size[3])\n",
    "        self.dropout5 = nn.Dropout(self.dropout_value[3])\n",
    "        self.dense5 = nn.utils.weight_norm(nn.Linear(self.hidden_size[3], num_targets))\n",
    "    \n",
    "    def forward(self, x):\n",
    "        x = self.batch_norm1(x)\n",
    "        x = F.leaky_relu(self.dense1(x))\n",
    "        \n",
    "        x = self.batch_norm2(x)\n",
    "        x = self.dropout2(x)\n",
    "        x = F.leaky_relu(self.dense2(x))\n",
    "\n",
    "        x = self.batch_norm3(x)\n",
    "        x = self.dropout3(x)\n",
    "        x = F.leaky_relu(self.dense3(x))\n",
    "\n",
    "        x = self.batch_norm4(x)\n",
    "        x = self.dropout4(x)\n",
    "        x = F.leaky_relu(self.dense4(x))\n",
    "\n",
    "        x = self.batch_norm5(x)\n",
    "        x = self.dropout5(x)\n",
    "        x = self.dense5(x)\n",
    "        return x\n",
    "    \n",
    "class LabelSmoothingLoss(nn.Module):\n",
    "    def __init__(self, classes, smoothing=0.0, dim=-1):\n",
    "        super(LabelSmoothingLoss, self).__init__()\n",
    "        self.confidence = 1.0 - smoothing\n",
    "        self.smoothing = smoothing\n",
    "        self.cls = classes\n",
    "        self.dim = dim\n",
    "\n",
    "    def forward(self, pred, target):\n",
    "        pred = pred.log_softmax(dim=self.dim)\n",
    "\n",
    "        with torch.no_grad():\n",
    "            true_dist = torch.zeros_like(pred)\n",
    "            true_dist.fill_(self.smoothing / (self.cls - 1))\n",
    "            true_dist.scatter_(1, target.data.unsqueeze(1), self.confidence)\n",
    "            \n",
    "        return torch.mean(torch.sum(-true_dist * pred, dim=self.dim))"
   ]
  },
  {
   "cell_type": "code",
   "execution_count": 70,
   "metadata": {
    "execution": {
     "iopub.execute_input": "2020-11-28T14:14:58.162639Z",
     "iopub.status.busy": "2020-11-28T14:14:58.157912Z",
     "iopub.status.idle": "2020-11-28T14:14:58.164954Z",
     "shell.execute_reply": "2020-11-28T14:14:58.165559Z"
    },
    "papermill": {
     "duration": 0.17745,
     "end_time": "2020-11-28T14:14:58.165698",
     "exception": false,
     "start_time": "2020-11-28T14:14:57.988248",
     "status": "completed"
    },
    "tags": []
   },
   "outputs": [],
   "source": [
    "class FineTuneScheduler:\n",
    "    def __init__(self, epochs):\n",
    "        self.epochs = epochs\n",
    "        self.epochs_per_step = 0\n",
    "        self.frozen_layers = []\n",
    "\n",
    "    def copy_without_top(self, model, num_features, num_targets, num_targets_new):\n",
    "        self.frozen_layers = []\n",
    "\n",
    "        model_new = Model(num_features, num_targets)\n",
    "        model_new.load_state_dict(model.state_dict())\n",
    "\n",
    "        # Freeze all weights\n",
    "        for name, param in model_new.named_parameters():\n",
    "            layer_index = name.split('.')[0][-1]\n",
    "\n",
    "            if layer_index == 5:\n",
    "                continue\n",
    "\n",
    "            param.requires_grad = False\n",
    "\n",
    "            # Save frozen layer names\n",
    "            if layer_index not in self.frozen_layers:\n",
    "                self.frozen_layers.append(layer_index)\n",
    "\n",
    "        self.epochs_per_step = self.epochs // len(self.frozen_layers)\n",
    "\n",
    "        # Replace the top layers with another ones\n",
    "        model_new.batch_norm5 = nn.BatchNorm1d(model_new.hidden_size[3])\n",
    "        model_new.dropout5 = nn.Dropout(model_new.dropout_value[3])\n",
    "        model_new.dense5 = nn.utils.weight_norm(nn.Linear(model_new.hidden_size[-1], num_targets_new))\n",
    "        model_new.to(DEVICE)\n",
    "        return model_new\n",
    "\n",
    "    def step(self, epoch, model):\n",
    "        if len(self.frozen_layers) == 0:\n",
    "            return\n",
    "\n",
    "        if epoch % self.epochs_per_step == 0:\n",
    "            last_frozen_index = self.frozen_layers[-1]\n",
    "            \n",
    "            # Unfreeze parameters of the last frozen layer\n",
    "            for name, param in model.named_parameters():\n",
    "                layer_index = name.split('.')[0][-1]\n",
    "\n",
    "                if layer_index == last_frozen_index:\n",
    "                    param.requires_grad = True\n",
    "\n",
    "            del self.frozen_layers[-1] "
   ]
  },
  {
   "cell_type": "code",
   "execution_count": 71,
   "metadata": {
    "execution": {
     "iopub.execute_input": "2020-11-28T14:14:58.582243Z",
     "iopub.status.busy": "2020-11-28T14:14:58.580984Z",
     "iopub.status.idle": "2020-11-28T14:14:58.586295Z",
     "shell.execute_reply": "2020-11-28T14:14:58.587208Z"
    },
    "papermill": {
     "duration": 0.265187,
     "end_time": "2020-11-28T14:14:58.587464",
     "exception": false,
     "start_time": "2020-11-28T14:14:58.322277",
     "status": "completed"
    },
    "tags": []
   },
   "outputs": [],
   "source": [
    "def process_data(data):\n",
    "    data = pd.get_dummies(data, columns=['cp_time','cp_dose'])\n",
    "    return data"
   ]
  },
  {
   "cell_type": "code",
   "execution_count": 72,
   "metadata": {
    "execution": {
     "iopub.execute_input": "2020-11-28T14:14:59.112842Z",
     "iopub.status.busy": "2020-11-28T14:14:59.111793Z",
     "iopub.status.idle": "2020-11-28T14:14:59.376694Z",
     "shell.execute_reply": "2020-11-28T14:14:59.377936Z"
    },
    "papermill": {
     "duration": 0.52704,
     "end_time": "2020-11-28T14:14:59.378155",
     "exception": false,
     "start_time": "2020-11-28T14:14:58.851115",
     "status": "completed"
    },
    "tags": []
   },
   "outputs": [
    {
     "data": {
      "text/plain": [
       "1084"
      ]
     },
     "execution_count": 72,
     "metadata": {},
     "output_type": "execute_result"
    }
   ],
   "source": [
    "feature_cols = [c for c in process_data(train).columns if c not in all_target_cols]\n",
    "feature_cols = [c for c in feature_cols if c not in ['kfold', 'sig_id', 'drug_id']]\n",
    "num_features = len(feature_cols)\n",
    "num_features"
   ]
  },
  {
   "cell_type": "code",
   "execution_count": 73,
   "metadata": {
    "execution": {
     "iopub.execute_input": "2020-11-28T14:14:59.752611Z",
     "iopub.status.busy": "2020-11-28T14:14:59.750687Z",
     "iopub.status.idle": "2020-11-28T14:14:59.753431Z",
     "shell.execute_reply": "2020-11-28T14:14:59.753936Z"
    },
    "papermill": {
     "duration": 0.16664,
     "end_time": "2020-11-28T14:14:59.754064",
     "exception": false,
     "start_time": "2020-11-28T14:14:59.587424",
     "status": "completed"
    },
    "tags": []
   },
   "outputs": [],
   "source": [
    "DEVICE = ('cuda' if torch.cuda.is_available() else 'cpu')\n",
    "EPOCHS = 24\n",
    "BATCH_SIZE = 128\n",
    "\n",
    "WEIGHT_DECAY = {'ALL_TARGETS': 1e-5, 'SCORED_ONLY': 3e-6}\n",
    "MAX_LR = {'ALL_TARGETS': 1e-2, 'SCORED_ONLY': 3e-3}\n",
    "DIV_FACTOR = {'ALL_TARGETS': 1e3, 'SCORED_ONLY': 1e2}\n",
    "PCT_START = 0.1"
   ]
  },
  {
   "cell_type": "code",
   "execution_count": 74,
   "metadata": {
    "execution": {
     "iopub.execute_input": "2020-11-28T14:15:00.080295Z",
     "iopub.status.busy": "2020-11-28T14:15:00.079448Z",
     "iopub.status.idle": "2020-11-28T14:15:00.131766Z",
     "shell.execute_reply": "2020-11-28T14:15:00.131138Z"
    },
    "papermill": {
     "duration": 0.211443,
     "end_time": "2020-11-28T14:15:00.131894",
     "exception": false,
     "start_time": "2020-11-28T14:14:59.920451",
     "status": "completed"
    },
    "tags": []
   },
   "outputs": [
    {
     "data": {
      "text/plain": [
       "Model(\n",
       "  (batch_norm1): BatchNorm1d(1084, eps=1e-05, momentum=0.1, affine=True, track_running_stats=True)\n",
       "  (dense1): Linear(in_features=1084, out_features=1500, bias=True)\n",
       "  (batch_norm2): BatchNorm1d(1500, eps=1e-05, momentum=0.1, affine=True, track_running_stats=True)\n",
       "  (dropout2): Dropout(p=0.5, inplace=False)\n",
       "  (dense2): Linear(in_features=1500, out_features=1250, bias=True)\n",
       "  (batch_norm3): BatchNorm1d(1250, eps=1e-05, momentum=0.1, affine=True, track_running_stats=True)\n",
       "  (dropout3): Dropout(p=0.35, inplace=False)\n",
       "  (dense3): Linear(in_features=1250, out_features=1000, bias=True)\n",
       "  (batch_norm4): BatchNorm1d(1000, eps=1e-05, momentum=0.1, affine=True, track_running_stats=True)\n",
       "  (dropout4): Dropout(p=0.3, inplace=False)\n",
       "  (dense4): Linear(in_features=1000, out_features=750, bias=True)\n",
       "  (batch_norm5): BatchNorm1d(750, eps=1e-05, momentum=0.1, affine=True, track_running_stats=True)\n",
       "  (dropout5): Dropout(p=0.25, inplace=False)\n",
       "  (dense5): Linear(in_features=750, out_features=608, bias=True)\n",
       ")"
      ]
     },
     "execution_count": 74,
     "metadata": {},
     "output_type": "execute_result"
    }
   ],
   "source": [
    "# Show model architecture\n",
    "model = Model(num_features, num_all_targets)\n",
    "model"
   ]
  },
  {
   "cell_type": "code",
   "execution_count": 75,
   "metadata": {
    "execution": {
     "iopub.execute_input": "2020-11-28T14:15:00.476623Z",
     "iopub.status.busy": "2020-11-28T14:15:00.475917Z",
     "iopub.status.idle": "2020-11-28T14:15:30.544771Z",
     "shell.execute_reply": "2020-11-28T14:15:30.543828Z"
    },
    "papermill": {
     "duration": 30.259649,
     "end_time": "2020-11-28T14:15:30.544921",
     "exception": false,
     "start_time": "2020-11-28T14:15:00.285272",
     "status": "completed"
    },
    "tags": []
   },
   "outputs": [
    {
     "name": "stdout",
     "output_type": "stream",
     "text": [
      "Processing /kaggle/input/iterative-stratification/iterative-stratification-master\r\n",
      "Requirement already satisfied: numpy in /opt/conda/lib/python3.7/site-packages (from iterative-stratification==0.1.6) (1.18.5)\r\n",
      "Requirement already satisfied: scipy in /opt/conda/lib/python3.7/site-packages (from iterative-stratification==0.1.6) (1.4.1)\r\n",
      "Requirement already satisfied: scikit-learn in /opt/conda/lib/python3.7/site-packages (from iterative-stratification==0.1.6) (0.23.2)\r\n",
      "Requirement already satisfied: joblib>=0.11 in /opt/conda/lib/python3.7/site-packages (from scikit-learn->iterative-stratification==0.1.6) (0.14.1)\r\n",
      "Requirement already satisfied: threadpoolctl>=2.0.0 in /opt/conda/lib/python3.7/site-packages (from scikit-learn->iterative-stratification==0.1.6) (2.1.0)\r\n",
      "Building wheels for collected packages: iterative-stratification\r\n",
      "  Building wheel for iterative-stratification (setup.py) ... \u001b[?25l-\b \b\\\b \bdone\r\n",
      "\u001b[?25h  Created wheel for iterative-stratification: filename=iterative_stratification-0.1.6-py3-none-any.whl size=8401 sha256=8a035c79b529bde10c1ebee41e971357eb4b33a8bd5cd3754c644a85a517b347\r\n",
      "  Stored in directory: /root/.cache/pip/wheels/b8/47/3f/eb4af42d124f37d23d6f13a4c8bbc32c1d70140e6e1cecb4aa\r\n",
      "Successfully built iterative-stratification\r\n",
      "Installing collected packages: iterative-stratification\r\n",
      "  Attempting uninstall: iterative-stratification\r\n",
      "    Found existing installation: iterative-stratification 0.1.6\r\n",
      "    Uninstalling iterative-stratification-0.1.6:\r\n",
      "      Successfully uninstalled iterative-stratification-0.1.6\r\n",
      "Successfully installed iterative-stratification-0.1.6\r\n"
     ]
    }
   ],
   "source": [
    "!pip install /kaggle/input/iterative-stratification/iterative-stratification-master/\n",
    "from iterstrat.ml_stratifiers import MultilabelStratifiedKFold"
   ]
  },
  {
   "cell_type": "code",
   "execution_count": 76,
   "metadata": {
    "execution": {
     "iopub.execute_input": "2020-11-28T14:15:30.886807Z",
     "iopub.status.busy": "2020-11-28T14:15:30.885719Z",
     "iopub.status.idle": "2020-11-28T14:15:30.888990Z",
     "shell.execute_reply": "2020-11-28T14:15:30.887861Z"
    },
    "papermill": {
     "duration": 0.167755,
     "end_time": "2020-11-28T14:15:30.889107",
     "exception": false,
     "start_time": "2020-11-28T14:15:30.721352",
     "status": "completed"
    },
    "tags": []
   },
   "outputs": [],
   "source": [
    "from sklearn.model_selection import KFold\n",
    "SEEDS = 7\n",
    "NFOLDS = 7\n",
    "DRUG_THRESH = 18"
   ]
  },
  {
   "cell_type": "code",
   "execution_count": 77,
   "metadata": {
    "execution": {
     "iopub.execute_input": "2020-11-28T14:15:31.220720Z",
     "iopub.status.busy": "2020-11-28T14:15:31.219703Z",
     "iopub.status.idle": "2020-11-28T14:15:31.222464Z",
     "shell.execute_reply": "2020-11-28T14:15:31.223109Z"
    },
    "papermill": {
     "duration": 0.173239,
     "end_time": "2020-11-28T14:15:31.223245",
     "exception": false,
     "start_time": "2020-11-28T14:15:31.050006",
     "status": "completed"
    },
    "tags": []
   },
   "outputs": [],
   "source": [
    "def run_training(fold_id, seed_id):\n",
    "    seed_everything(seed_id)\n",
    "    test_ = process_data(test)\n",
    "\n",
    "    # Load the fine-tuned model with the best loss\n",
    "    model = Model(num_features, num_targets)\n",
    "    model.load_state_dict(torch.load(f\"../input/seed-fold-tr/SCORED_ONLY_SEED{seed_id}_FOLD{fold_id}_.pth\"))\n",
    "    model.to(DEVICE)\n",
    "\n",
    "    #--------------------- PREDICTION---------------------\n",
    "    x_test = test_[feature_cols].values\n",
    "    testdataset = TestDataset(x_test)\n",
    "    testloader = torch.utils.data.DataLoader(testdataset, batch_size=BATCH_SIZE, shuffle=False)\n",
    "    \n",
    "    predictions = np.zeros((len(test_), num_targets))\n",
    "    predictions = inference_fn(model, testloader, DEVICE)\n",
    "    return  predictions"
   ]
  },
  {
   "cell_type": "code",
   "execution_count": 78,
   "metadata": {
    "execution": {
     "iopub.execute_input": "2020-11-28T14:15:31.550301Z",
     "iopub.status.busy": "2020-11-28T14:15:31.549240Z",
     "iopub.status.idle": "2020-11-28T14:15:31.552709Z",
     "shell.execute_reply": "2020-11-28T14:15:31.552146Z"
    },
    "papermill": {
     "duration": 0.169751,
     "end_time": "2020-11-28T14:15:31.552825",
     "exception": false,
     "start_time": "2020-11-28T14:15:31.383074",
     "status": "completed"
    },
    "tags": []
   },
   "outputs": [],
   "source": [
    "def run_k_fold(NFOLDS, seed_id):\n",
    "    predictions = np.zeros((len(test), len(target_cols)))\n",
    "    \n",
    "    for fold_id in range(NFOLDS):\n",
    "        pred_ = run_training(fold_id, seed_id)\n",
    "        predictions += pred_ / NFOLDS\n",
    "        \n",
    "    return  predictions"
   ]
  },
  {
   "cell_type": "code",
   "execution_count": 79,
   "metadata": {
    "execution": {
     "iopub.execute_input": "2020-11-28T14:15:31.882155Z",
     "iopub.status.busy": "2020-11-28T14:15:31.881016Z",
     "iopub.status.idle": "2020-11-28T14:15:45.730537Z",
     "shell.execute_reply": "2020-11-28T14:15:45.729245Z"
    },
    "papermill": {
     "duration": 14.017628,
     "end_time": "2020-11-28T14:15:45.730720",
     "exception": false,
     "start_time": "2020-11-28T14:15:31.713092",
     "status": "completed"
    },
    "tags": []
   },
   "outputs": [],
   "source": [
    "from time import time\n",
    "\n",
    "# Averaging on multiple SEEDS\n",
    "SEED = [0,1,2,3,4,5,6]#7 seeds\n",
    "predictions = np.zeros((len(test), len(target_cols)))\n",
    "\n",
    "time_begin = time()\n",
    "\n",
    "for seed_id in SEED:\n",
    "    predictions_ = run_k_fold(NFOLDS, seed_id)\n",
    "    predictions += predictions_ / len(SEED)\n",
    "\n",
    "time_diff = time() - time_begin"
   ]
  },
  {
   "cell_type": "code",
   "execution_count": 80,
   "metadata": {
    "execution": {
     "iopub.execute_input": "2020-11-28T14:15:46.046648Z",
     "iopub.status.busy": "2020-11-28T14:15:46.045202Z",
     "iopub.status.idle": "2020-11-28T14:15:46.213954Z",
     "shell.execute_reply": "2020-11-28T14:15:46.213326Z"
    },
    "papermill": {
     "duration": 0.33106,
     "end_time": "2020-11-28T14:15:46.214084",
     "exception": false,
     "start_time": "2020-11-28T14:15:45.883024",
     "status": "completed"
    },
    "tags": []
   },
   "outputs": [],
   "source": [
    "for i in range(len(target_cols)):\n",
    "    fea=target_cols[i]\n",
    "    test[fea]=predictions[:,i]"
   ]
  },
  {
   "cell_type": "code",
   "execution_count": 81,
   "metadata": {
    "execution": {
     "iopub.execute_input": "2020-11-28T14:15:46.541604Z",
     "iopub.status.busy": "2020-11-28T14:15:46.540063Z",
     "iopub.status.idle": "2020-11-28T14:15:48.624346Z",
     "shell.execute_reply": "2020-11-28T14:15:48.623780Z"
    },
    "papermill": {
     "duration": 2.255804,
     "end_time": "2020-11-28T14:15:48.624509",
     "exception": false,
     "start_time": "2020-11-28T14:15:46.368705",
     "status": "completed"
    },
    "tags": []
   },
   "outputs": [],
   "source": [
    "sub2 = sample_submission.drop(columns=target_cols).merge(test[['sig_id']+target_cols], on='sig_id', how='left').fillna(0)\n",
    "sub2.to_csv('sub2.csv', index=False)"
   ]
  },
  {
   "cell_type": "code",
   "execution_count": 82,
   "metadata": {
    "execution": {
     "iopub.execute_input": "2020-11-28T14:15:48.974793Z",
     "iopub.status.busy": "2020-11-28T14:15:48.973699Z",
     "iopub.status.idle": "2020-11-28T14:15:48.975913Z",
     "shell.execute_reply": "2020-11-28T14:15:48.976554Z"
    },
    "papermill": {
     "duration": 0.191731,
     "end_time": "2020-11-28T14:15:48.976704",
     "exception": false,
     "start_time": "2020-11-28T14:15:48.784973",
     "status": "completed"
    },
    "tags": []
   },
   "outputs": [],
   "source": [
    "#fe"
   ]
  },
  {
   "cell_type": "code",
   "execution_count": 83,
   "metadata": {
    "execution": {
     "iopub.execute_input": "2020-11-28T14:15:49.308448Z",
     "iopub.status.busy": "2020-11-28T14:15:49.307481Z",
     "iopub.status.idle": "2020-11-28T14:16:20.665163Z",
     "shell.execute_reply": "2020-11-28T14:16:20.665804Z"
    },
    "papermill": {
     "duration": 31.527095,
     "end_time": "2020-11-28T14:16:20.665979",
     "exception": false,
     "start_time": "2020-11-28T14:15:49.138884",
     "status": "completed"
    },
    "tags": []
   },
   "outputs": [
    {
     "name": "stdout",
     "output_type": "stream",
     "text": [
      "Processing /kaggle/input/iterative-stratification/iterative-stratification-master\r\n",
      "Requirement already satisfied: numpy in /opt/conda/lib/python3.7/site-packages (from iterative-stratification==0.1.6) (1.18.5)\r\n",
      "Requirement already satisfied: scipy in /opt/conda/lib/python3.7/site-packages (from iterative-stratification==0.1.6) (1.4.1)\r\n",
      "Requirement already satisfied: scikit-learn in /opt/conda/lib/python3.7/site-packages (from iterative-stratification==0.1.6) (0.23.2)\r\n",
      "Requirement already satisfied: threadpoolctl>=2.0.0 in /opt/conda/lib/python3.7/site-packages (from scikit-learn->iterative-stratification==0.1.6) (2.1.0)\r\n",
      "Requirement already satisfied: joblib>=0.11 in /opt/conda/lib/python3.7/site-packages (from scikit-learn->iterative-stratification==0.1.6) (0.14.1)\r\n",
      "Building wheels for collected packages: iterative-stratification\r\n",
      "  Building wheel for iterative-stratification (setup.py) ... \u001b[?25l-\b \b\\\b \bdone\r\n",
      "\u001b[?25h  Created wheel for iterative-stratification: filename=iterative_stratification-0.1.6-py3-none-any.whl size=8401 sha256=bf502ce6dc15512a36178b9221be0bd644948ad9ebbfab6fd69bd774fea21c90\r\n",
      "  Stored in directory: /root/.cache/pip/wheels/b8/47/3f/eb4af42d124f37d23d6f13a4c8bbc32c1d70140e6e1cecb4aa\r\n",
      "Successfully built iterative-stratification\r\n",
      "Installing collected packages: iterative-stratification\r\n",
      "  Attempting uninstall: iterative-stratification\r\n",
      "    Found existing installation: iterative-stratification 0.1.6\r\n",
      "    Uninstalling iterative-stratification-0.1.6:\r\n",
      "      Successfully uninstalled iterative-stratification-0.1.6\r\n",
      "Successfully installed iterative-stratification-0.1.6\r\n"
     ]
    }
   ],
   "source": [
    "!pip install /kaggle/input/iterative-stratification/iterative-stratification-master/\n",
    "from iterstrat.ml_stratifiers import MultilabelStratifiedKFold"
   ]
  },
  {
   "cell_type": "code",
   "execution_count": 84,
   "metadata": {
    "execution": {
     "iopub.execute_input": "2020-11-28T14:16:20.995900Z",
     "iopub.status.busy": "2020-11-28T14:16:20.994889Z",
     "iopub.status.idle": "2020-11-28T14:16:20.998244Z",
     "shell.execute_reply": "2020-11-28T14:16:20.997671Z"
    },
    "papermill": {
     "duration": 0.172397,
     "end_time": "2020-11-28T14:16:20.998350",
     "exception": false,
     "start_time": "2020-11-28T14:16:20.825953",
     "status": "completed"
    },
    "tags": []
   },
   "outputs": [],
   "source": [
    "from iterstrat.ml_stratifiers import MultilabelStratifiedKFold\n",
    "import numpy as np\n",
    "import random\n",
    "import pandas as pd\n",
    "import matplotlib.pyplot as plt\n",
    "import os\n",
    "import copy\n",
    "import seaborn as sns\n",
    "\n",
    "from sklearn import preprocessing\n",
    "from sklearn.metrics import log_loss\n",
    "from sklearn.preprocessing import StandardScaler\n",
    "from sklearn.decomposition import PCA\n",
    "\n",
    "import torch\n",
    "import torch.nn as nn\n",
    "import torch.nn.functional as F\n",
    "import torch.optim as optim\n",
    "\n",
    "import warnings\n",
    "warnings.filterwarnings('ignore')\n",
    "from pickle import load,dump\n",
    "from sklearn.preprocessing import QuantileTransformer"
   ]
  },
  {
   "cell_type": "code",
   "execution_count": 85,
   "metadata": {
    "execution": {
     "iopub.execute_input": "2020-11-28T14:16:21.320308Z",
     "iopub.status.busy": "2020-11-28T14:16:21.319498Z",
     "iopub.status.idle": "2020-11-28T14:16:21.326411Z",
     "shell.execute_reply": "2020-11-28T14:16:21.325843Z"
    },
    "papermill": {
     "duration": 0.167921,
     "end_time": "2020-11-28T14:16:21.326528",
     "exception": false,
     "start_time": "2020-11-28T14:16:21.158607",
     "status": "completed"
    },
    "tags": []
   },
   "outputs": [
    {
     "data": {
      "text/plain": [
       "['train_features.csv',\n",
       " 'train_drug.csv',\n",
       " 'test_features.csv',\n",
       " 'train_targets_nonscored.csv',\n",
       " 'sample_submission.csv',\n",
       " 'train_targets_scored.csv']"
      ]
     },
     "execution_count": 85,
     "metadata": {},
     "output_type": "execute_result"
    }
   ],
   "source": [
    "os.listdir('../input/lish-moa')"
   ]
  },
  {
   "cell_type": "code",
   "execution_count": 86,
   "metadata": {
    "execution": {
     "iopub.execute_input": "2020-11-28T14:16:21.658589Z",
     "iopub.status.busy": "2020-11-28T14:16:21.657612Z",
     "iopub.status.idle": "2020-11-28T14:16:27.827540Z",
     "shell.execute_reply": "2020-11-28T14:16:27.826190Z"
    },
    "papermill": {
     "duration": 6.337195,
     "end_time": "2020-11-28T14:16:27.827685",
     "exception": false,
     "start_time": "2020-11-28T14:16:21.490490",
     "status": "completed"
    },
    "tags": []
   },
   "outputs": [],
   "source": [
    "train_features = pd.read_csv('../input/lish-moa/train_features.csv')\n",
    "train_targets_scored = pd.read_csv('../input/lish-moa/train_targets_scored.csv')\n",
    "train_targets_nonscored = pd.read_csv('../input/lish-moa/train_targets_nonscored.csv')\n",
    "\n",
    "test_features = pd.read_csv('../input/lish-moa/test_features.csv')\n",
    "sample_submission = pd.read_csv('../input/lish-moa/sample_submission.csv')\n",
    "train_drug = pd.read_csv('../input/lish-moa/train_drug.csv')"
   ]
  },
  {
   "cell_type": "code",
   "execution_count": 87,
   "metadata": {
    "execution": {
     "iopub.execute_input": "2020-11-28T14:16:28.174838Z",
     "iopub.status.busy": "2020-11-28T14:16:28.173167Z",
     "iopub.status.idle": "2020-11-28T14:16:28.175632Z",
     "shell.execute_reply": "2020-11-28T14:16:28.176161Z"
    },
    "papermill": {
     "duration": 0.180378,
     "end_time": "2020-11-28T14:16:28.176313",
     "exception": false,
     "start_time": "2020-11-28T14:16:27.995935",
     "status": "completed"
    },
    "tags": []
   },
   "outputs": [],
   "source": [
    "GENES = [col for col in train_features.columns if col.startswith('g-')]\n",
    "CELLS = [col for col in train_features.columns if col.startswith('c-')]"
   ]
  },
  {
   "cell_type": "code",
   "execution_count": 88,
   "metadata": {
    "execution": {
     "iopub.execute_input": "2020-11-28T14:16:28.529109Z",
     "iopub.status.busy": "2020-11-28T14:16:28.527557Z",
     "iopub.status.idle": "2020-11-28T14:16:38.079060Z",
     "shell.execute_reply": "2020-11-28T14:16:38.080261Z"
    },
    "papermill": {
     "duration": 9.731625,
     "end_time": "2020-11-28T14:16:38.080477",
     "exception": false,
     "start_time": "2020-11-28T14:16:28.348852",
     "status": "completed"
    },
    "tags": []
   },
   "outputs": [],
   "source": [
    "#RankGauss\n",
    "\n",
    "for col in (GENES + CELLS):\n",
    "\n",
    "    transformer = QuantileTransformer(n_quantiles=100,random_state=0, output_distribution=\"normal\")\n",
    "    vec_len = len(train_features[col].values)\n",
    "    vec_len_test = len(test_features[col].values)\n",
    "    raw_vec = train_features[col].values.reshape(vec_len, 1)\n",
    "    transformer.fit(raw_vec)\n",
    "\n",
    "    train_features[col] = transformer.transform(raw_vec).reshape(1, vec_len)[0]\n",
    "    test_features[col] = transformer.transform(test_features[col].values.reshape(vec_len_test, 1)).reshape(1, vec_len_test)[0]"
   ]
  },
  {
   "cell_type": "code",
   "execution_count": 89,
   "metadata": {
    "execution": {
     "iopub.execute_input": "2020-11-28T14:16:38.539971Z",
     "iopub.status.busy": "2020-11-28T14:16:38.539044Z",
     "iopub.status.idle": "2020-11-28T14:16:38.543416Z",
     "shell.execute_reply": "2020-11-28T14:16:38.544948Z"
    },
    "papermill": {
     "duration": 0.241034,
     "end_time": "2020-11-28T14:16:38.545125",
     "exception": false,
     "start_time": "2020-11-28T14:16:38.304091",
     "status": "completed"
    },
    "tags": []
   },
   "outputs": [],
   "source": [
    "def seed_everything(seed=42):\n",
    "    random.seed(seed)\n",
    "    os.environ['PYTHONHASHSEED'] = str(seed)\n",
    "    np.random.seed(seed)\n",
    "    torch.manual_seed(seed)\n",
    "    torch.cuda.manual_seed(seed)\n",
    "    torch.backends.cudnn.deterministic = True\n",
    "    \n",
    "seed_everything(seed=42)"
   ]
  },
  {
   "cell_type": "code",
   "execution_count": 90,
   "metadata": {
    "execution": {
     "iopub.execute_input": "2020-11-28T14:16:38.891027Z",
     "iopub.status.busy": "2020-11-28T14:16:38.890218Z",
     "iopub.status.idle": "2020-11-28T14:16:39.647767Z",
     "shell.execute_reply": "2020-11-28T14:16:39.647061Z"
    },
    "papermill": {
     "duration": 0.92204,
     "end_time": "2020-11-28T14:16:39.647903",
     "exception": false,
     "start_time": "2020-11-28T14:16:38.725863",
     "status": "completed"
    },
    "tags": []
   },
   "outputs": [],
   "source": [
    "# GENES\n",
    "n_comp =505\n",
    "gpca= load(open('../input/pkl-data/gpca.pkl', 'rb'))\n",
    "train2= (gpca.transform(train_features[GENES]))\n",
    "test2 = (gpca.transform(test_features[GENES]))\n",
    "\n",
    "train_gpca = pd.DataFrame(train2, columns=[f'pca_G-{i}' for i in range(n_comp)])\n",
    "test_gpca = pd.DataFrame(test2, columns=[f'pca_G-{i}' for i in range(n_comp)])\n",
    "\n",
    "train_features = pd.concat((train_features, train_gpca), axis=1)\n",
    "test_features = pd.concat((test_features, test_gpca), axis=1)"
   ]
  },
  {
   "cell_type": "code",
   "execution_count": 91,
   "metadata": {
    "execution": {
     "iopub.execute_input": "2020-11-28T14:16:39.994172Z",
     "iopub.status.busy": "2020-11-28T14:16:39.992724Z",
     "iopub.status.idle": "2020-11-28T14:16:40.372958Z",
     "shell.execute_reply": "2020-11-28T14:16:40.372342Z"
    },
    "papermill": {
     "duration": 0.559054,
     "end_time": "2020-11-28T14:16:40.373091",
     "exception": false,
     "start_time": "2020-11-28T14:16:39.814037",
     "status": "completed"
    },
    "tags": []
   },
   "outputs": [],
   "source": [
    "n_comp =80\n",
    "\n",
    "cpca= load(open('../input/pkl-data/cpca.pkl', 'rb'))\n",
    "train2= (cpca.transform(train_features[CELLS]))\n",
    "test2 = (cpca.transform(test_features[CELLS]))\n",
    "\n",
    "train_cpca = pd.DataFrame(train2, columns=[f'pca_C-{i}' for i in range(n_comp)])\n",
    "test_cpca = pd.DataFrame(test2, columns=[f'pca_C-{i}' for i in range(n_comp)])\n",
    "\n",
    "train_features = pd.concat((train_features, train_cpca), axis=1)\n",
    "test_features = pd.concat((test_features, test_cpca), axis=1)"
   ]
  },
  {
   "cell_type": "code",
   "execution_count": 92,
   "metadata": {
    "execution": {
     "iopub.execute_input": "2020-11-28T14:16:40.711525Z",
     "iopub.status.busy": "2020-11-28T14:16:40.710802Z",
     "iopub.status.idle": "2020-11-28T14:16:40.717469Z",
     "shell.execute_reply": "2020-11-28T14:16:40.716888Z"
    },
    "papermill": {
     "duration": 0.177964,
     "end_time": "2020-11-28T14:16:40.717587",
     "exception": false,
     "start_time": "2020-11-28T14:16:40.539623",
     "status": "completed"
    },
    "tags": []
   },
   "outputs": [
    {
     "data": {
      "text/plain": [
       "(23814, 1461)"
      ]
     },
     "execution_count": 92,
     "metadata": {},
     "output_type": "execute_result"
    }
   ],
   "source": [
    "train_features.shape"
   ]
  },
  {
   "cell_type": "code",
   "execution_count": 93,
   "metadata": {
    "execution": {
     "iopub.execute_input": "2020-11-28T14:16:41.057237Z",
     "iopub.status.busy": "2020-11-28T14:16:41.056513Z",
     "iopub.status.idle": "2020-11-28T14:16:41.063574Z",
     "shell.execute_reply": "2020-11-28T14:16:41.062936Z"
    },
    "papermill": {
     "duration": 0.178812,
     "end_time": "2020-11-28T14:16:41.063918",
     "exception": false,
     "start_time": "2020-11-28T14:16:40.885106",
     "status": "completed"
    },
    "tags": []
   },
   "outputs": [
    {
     "data": {
      "text/plain": [
       "(3982, 1461)"
      ]
     },
     "execution_count": 93,
     "metadata": {},
     "output_type": "execute_result"
    }
   ],
   "source": [
    "test_features.shape"
   ]
  },
  {
   "cell_type": "code",
   "execution_count": 94,
   "metadata": {
    "execution": {
     "iopub.execute_input": "2020-11-28T14:16:41.413438Z",
     "iopub.status.busy": "2020-11-28T14:16:41.408708Z",
     "iopub.status.idle": "2020-11-28T14:16:42.099970Z",
     "shell.execute_reply": "2020-11-28T14:16:42.099318Z"
    },
    "papermill": {
     "duration": 0.868767,
     "end_time": "2020-11-28T14:16:42.100102",
     "exception": false,
     "start_time": "2020-11-28T14:16:41.231335",
     "status": "completed"
    },
    "tags": []
   },
   "outputs": [],
   "source": [
    "from sklearn.feature_selection import VarianceThreshold\n",
    "\n",
    "c_n = [f for f in list(train_features.columns) if f not in ['sig_id', 'cp_type', 'cp_time', 'cp_dose']]\n",
    "mask = (train_features[c_n].var() >= 0.84).values\n",
    "tmp = train_features[c_n].loc[:, mask]\n",
    "train_features = pd.concat([train_features[['sig_id', 'cp_type', 'cp_time', 'cp_dose']], tmp], axis=1)\n",
    "tmp = test_features[c_n].loc[:, mask]\n",
    "test_features = pd.concat([test_features[['sig_id', 'cp_type', 'cp_time', 'cp_dose']], tmp], axis=1)"
   ]
  },
  {
   "cell_type": "code",
   "execution_count": 95,
   "metadata": {
    "execution": {
     "iopub.execute_input": "2020-11-28T14:16:42.459681Z",
     "iopub.status.busy": "2020-11-28T14:16:42.458094Z",
     "iopub.status.idle": "2020-11-28T14:16:42.461912Z",
     "shell.execute_reply": "2020-11-28T14:16:42.462483Z"
    },
    "papermill": {
     "duration": 0.191117,
     "end_time": "2020-11-28T14:16:42.462626",
     "exception": false,
     "start_time": "2020-11-28T14:16:42.271509",
     "status": "completed"
    },
    "tags": []
   },
   "outputs": [
    {
     "data": {
      "text/plain": [
       "(23814, 1029)"
      ]
     },
     "execution_count": 95,
     "metadata": {},
     "output_type": "execute_result"
    }
   ],
   "source": [
    "train_features.shape"
   ]
  },
  {
   "cell_type": "code",
   "execution_count": 96,
   "metadata": {
    "execution": {
     "iopub.execute_input": "2020-11-28T14:16:42.807152Z",
     "iopub.status.busy": "2020-11-28T14:16:42.806183Z",
     "iopub.status.idle": "2020-11-28T14:16:42.810099Z",
     "shell.execute_reply": "2020-11-28T14:16:42.810733Z"
    },
    "papermill": {
     "duration": 0.178016,
     "end_time": "2020-11-28T14:16:42.810877",
     "exception": false,
     "start_time": "2020-11-28T14:16:42.632861",
     "status": "completed"
    },
    "tags": []
   },
   "outputs": [
    {
     "data": {
      "text/plain": [
       "(3982, 1029)"
      ]
     },
     "execution_count": 96,
     "metadata": {},
     "output_type": "execute_result"
    }
   ],
   "source": [
    "test_features.shape"
   ]
  },
  {
   "cell_type": "code",
   "execution_count": 97,
   "metadata": {
    "execution": {
     "iopub.execute_input": "2020-11-28T14:16:43.168562Z",
     "iopub.status.busy": "2020-11-28T14:16:43.167797Z",
     "iopub.status.idle": "2020-11-28T14:16:44.040672Z",
     "shell.execute_reply": "2020-11-28T14:16:44.040023Z"
    },
    "papermill": {
     "duration": 1.058115,
     "end_time": "2020-11-28T14:16:44.040807",
     "exception": false,
     "start_time": "2020-11-28T14:16:42.982692",
     "status": "completed"
    },
    "tags": []
   },
   "outputs": [],
   "source": [
    "from sklearn.cluster import KMeans\n",
    "def fe_cluster_genes(train, test, n_clusters_g = 31, SEED = 123):\n",
    "    \n",
    "    features_g = GENES\n",
    "    \n",
    "    def create_cluster(train, test, features, kind = 'g', n_clusters = n_clusters_g):\n",
    "        train_ = train[features].copy()\n",
    "        test_ = test[features].copy()\n",
    "        kmeans_genes = load(open('../input/fe-pkl-2-1124-1451/kmeans_genes.pkl', 'rb'))\n",
    "        train[f'clusters_{kind}'] = kmeans_genes.predict(train_.values)\n",
    "        test[f'clusters_{kind}'] = kmeans_genes.predict(test_.values)\n",
    "        train = pd.get_dummies(train, columns = [f'clusters_{kind}'])\n",
    "        test = pd.get_dummies(test, columns = [f'clusters_{kind}'])\n",
    "        return train, test\n",
    "    \n",
    "    train, test = create_cluster(train, test, features_g, kind = 'g', n_clusters = n_clusters_g)\n",
    "    return train, test\n",
    "\n",
    "train_features,test_features =fe_cluster_genes(train_features,test_features)"
   ]
  },
  {
   "cell_type": "code",
   "execution_count": 98,
   "metadata": {
    "execution": {
     "iopub.execute_input": "2020-11-28T14:16:44.399041Z",
     "iopub.status.busy": "2020-11-28T14:16:44.397793Z",
     "iopub.status.idle": "2020-11-28T14:16:44.828528Z",
     "shell.execute_reply": "2020-11-28T14:16:44.827817Z"
    },
    "papermill": {
     "duration": 0.615662,
     "end_time": "2020-11-28T14:16:44.828654",
     "exception": false,
     "start_time": "2020-11-28T14:16:44.212992",
     "status": "completed"
    },
    "tags": []
   },
   "outputs": [],
   "source": [
    "def fe_cluster_cells(train, test, n_clusters_c =8, SEED = 123):\n",
    "    \n",
    "    features_c = CELLS\n",
    "    \n",
    "    def create_cluster(train, test, features, kind = 'c', n_clusters = n_clusters_c):\n",
    "        train_ = train[features].copy()\n",
    "        test_ = test[features].copy()\n",
    "        kmeans_cells = load(open('../input/fe-pkl-2-1124-1451/kmeans_cells.pkl', 'rb'))\n",
    "        train[f'clusters_{kind}'] = kmeans_cells.predict(train_.values)\n",
    "        test[f'clusters_{kind}'] = kmeans_cells.predict(test_.values)\n",
    "        train = pd.get_dummies(train, columns = [f'clusters_{kind}'])\n",
    "        test = pd.get_dummies(test, columns = [f'clusters_{kind}'])\n",
    "        return train, test\n",
    "    \n",
    "    train, test = create_cluster(train, test, features_c, kind = 'c', n_clusters = n_clusters_c)\n",
    "    return train, test\n",
    "train_features,test_features=fe_cluster_cells(train_features,test_features)"
   ]
  },
  {
   "cell_type": "code",
   "execution_count": 99,
   "metadata": {
    "execution": {
     "iopub.execute_input": "2020-11-28T14:16:45.178864Z",
     "iopub.status.busy": "2020-11-28T14:16:45.178091Z",
     "iopub.status.idle": "2020-11-28T14:16:45.185777Z",
     "shell.execute_reply": "2020-11-28T14:16:45.185189Z"
    },
    "papermill": {
     "duration": 0.186802,
     "end_time": "2020-11-28T14:16:45.185902",
     "exception": false,
     "start_time": "2020-11-28T14:16:44.999100",
     "status": "completed"
    },
    "tags": []
   },
   "outputs": [
    {
     "data": {
      "text/plain": [
       "(23814, 1068)"
      ]
     },
     "execution_count": 99,
     "metadata": {},
     "output_type": "execute_result"
    }
   ],
   "source": [
    "train_features.shape"
   ]
  },
  {
   "cell_type": "code",
   "execution_count": 100,
   "metadata": {
    "execution": {
     "iopub.execute_input": "2020-11-28T14:16:45.539295Z",
     "iopub.status.busy": "2020-11-28T14:16:45.538301Z",
     "iopub.status.idle": "2020-11-28T14:16:45.543636Z",
     "shell.execute_reply": "2020-11-28T14:16:45.543008Z"
    },
    "papermill": {
     "duration": 0.180658,
     "end_time": "2020-11-28T14:16:45.543748",
     "exception": false,
     "start_time": "2020-11-28T14:16:45.363090",
     "status": "completed"
    },
    "tags": []
   },
   "outputs": [
    {
     "data": {
      "text/plain": [
       "(3982, 1068)"
      ]
     },
     "execution_count": 100,
     "metadata": {},
     "output_type": "execute_result"
    }
   ],
   "source": [
    "test_features.shape"
   ]
  },
  {
   "cell_type": "code",
   "execution_count": 101,
   "metadata": {
    "execution": {
     "iopub.execute_input": "2020-11-28T14:16:45.887129Z",
     "iopub.status.busy": "2020-11-28T14:16:45.886345Z",
     "iopub.status.idle": "2020-11-28T14:16:45.891440Z",
     "shell.execute_reply": "2020-11-28T14:16:45.890884Z"
    },
    "papermill": {
     "duration": 0.180638,
     "end_time": "2020-11-28T14:16:45.891559",
     "exception": false,
     "start_time": "2020-11-28T14:16:45.710921",
     "status": "completed"
    },
    "tags": []
   },
   "outputs": [
    {
     "data": {
      "text/plain": [
       "153"
      ]
     },
     "execution_count": 101,
     "metadata": {},
     "output_type": "execute_result"
    }
   ],
   "source": [
    "pca_fea=[col for col in train_features.columns if col.startswith('pca_')]\n",
    "len(pca_fea)"
   ]
  },
  {
   "cell_type": "code",
   "execution_count": 102,
   "metadata": {
    "execution": {
     "iopub.execute_input": "2020-11-28T14:16:46.227662Z",
     "iopub.status.busy": "2020-11-28T14:16:46.226876Z",
     "iopub.status.idle": "2020-11-28T14:16:46.772153Z",
     "shell.execute_reply": "2020-11-28T14:16:46.773109Z"
    },
    "papermill": {
     "duration": 0.71963,
     "end_time": "2020-11-28T14:16:46.773258",
     "exception": false,
     "start_time": "2020-11-28T14:16:46.053628",
     "status": "completed"
    },
    "tags": []
   },
   "outputs": [],
   "source": [
    "def fe_cluster_pca(train, test,n_clusters=5,SEED = 42):\n",
    "    pca_fea=[col for col in train.columns if col.startswith('pca_')]\n",
    "    kmeans_pca = load(open('../input/fe-pkl-2-1124-1451/kmeans_pca.pkl', 'rb'))\n",
    "    train[f'clusters_pca'] = kmeans_pca.predict(train[pca_fea].values)\n",
    "    test[f'clusters_pca'] = kmeans_pca.predict(test[pca_fea].values)\n",
    "    train = pd.get_dummies(train, columns = [f'clusters_pca'])\n",
    "    test = pd.get_dummies(test, columns = [f'clusters_pca'])\n",
    "    return train, test\n",
    "train_features,test_features=fe_cluster_pca(train_features,test_features)"
   ]
  },
  {
   "cell_type": "code",
   "execution_count": 103,
   "metadata": {
    "execution": {
     "iopub.execute_input": "2020-11-28T14:16:47.224809Z",
     "iopub.status.busy": "2020-11-28T14:16:47.223581Z",
     "iopub.status.idle": "2020-11-28T14:16:47.227445Z",
     "shell.execute_reply": "2020-11-28T14:16:47.228016Z"
    },
    "papermill": {
     "duration": 0.216594,
     "end_time": "2020-11-28T14:16:47.228150",
     "exception": false,
     "start_time": "2020-11-28T14:16:47.011556",
     "status": "completed"
    },
    "tags": []
   },
   "outputs": [
    {
     "data": {
      "text/plain": [
       "(23814, 1073)"
      ]
     },
     "execution_count": 103,
     "metadata": {},
     "output_type": "execute_result"
    }
   ],
   "source": [
    "train_features.shape"
   ]
  },
  {
   "cell_type": "code",
   "execution_count": 104,
   "metadata": {
    "execution": {
     "iopub.execute_input": "2020-11-28T14:16:47.577089Z",
     "iopub.status.busy": "2020-11-28T14:16:47.575668Z",
     "iopub.status.idle": "2020-11-28T14:16:47.579636Z",
     "shell.execute_reply": "2020-11-28T14:16:47.579020Z"
    },
    "papermill": {
     "duration": 0.172905,
     "end_time": "2020-11-28T14:16:47.579746",
     "exception": false,
     "start_time": "2020-11-28T14:16:47.406841",
     "status": "completed"
    },
    "tags": []
   },
   "outputs": [
    {
     "data": {
      "text/plain": [
       "(3982, 1073)"
      ]
     },
     "execution_count": 104,
     "metadata": {},
     "output_type": "execute_result"
    }
   ],
   "source": [
    "test_features.shape"
   ]
  },
  {
   "cell_type": "code",
   "execution_count": 105,
   "metadata": {
    "execution": {
     "iopub.execute_input": "2020-11-28T14:16:47.921784Z",
     "iopub.status.busy": "2020-11-28T14:16:47.919951Z",
     "iopub.status.idle": "2020-11-28T14:16:47.922510Z",
     "shell.execute_reply": "2020-11-28T14:16:47.923010Z"
    },
    "papermill": {
     "duration": 0.178549,
     "end_time": "2020-11-28T14:16:47.923144",
     "exception": false,
     "start_time": "2020-11-28T14:16:47.744595",
     "status": "completed"
    },
    "tags": []
   },
   "outputs": [],
   "source": [
    "gsquarecols=['g-574','g-211','g-216','g-0','g-255','g-577','g-153','g-389',\n",
    "             'g-60','g-370','g-248','g-167','g-203','g-177','g-301','g-332',\n",
    "             'g-517','g-6','g-744','g-224','g-162','g-3','g-736','g-486','g-283',\n",
    "             'g-22','g-359','g-361','g-440','g-335','g-106','g-307','g-745','g-146',\n",
    "             'g-416','g-298','g-666','g-91','g-17','g-549','g-145','g-157','g-768','g-568','g-396']"
   ]
  },
  {
   "cell_type": "code",
   "execution_count": 106,
   "metadata": {
    "execution": {
     "iopub.execute_input": "2020-11-28T14:16:48.266341Z",
     "iopub.status.busy": "2020-11-28T14:16:48.261097Z",
     "iopub.status.idle": "2020-11-28T14:16:54.653581Z",
     "shell.execute_reply": "2020-11-28T14:16:54.652877Z"
    },
    "papermill": {
     "duration": 6.56855,
     "end_time": "2020-11-28T14:16:54.653720",
     "exception": false,
     "start_time": "2020-11-28T14:16:48.085170",
     "status": "completed"
    },
    "tags": []
   },
   "outputs": [],
   "source": [
    "def fe_stats(train, test):\n",
    "    \n",
    "    features_g = [col for col in train_features.columns if col.startswith('g-')]\n",
    "    features_c = [col for col in train_features.columns if col.startswith('c-')]\n",
    "    \n",
    "    for df in train, test:\n",
    "        df['g_sum'] = df[features_g].sum(axis = 1)\n",
    "        df['g_mean'] = df[features_g].mean(axis = 1)\n",
    "        df['g_std'] = df[features_g].std(axis = 1)\n",
    "        df['g_kurt'] = df[features_g].kurtosis(axis = 1)\n",
    "        df['g_skew'] = df[features_g].skew(axis = 1)\n",
    "        df['c_sum'] = df[features_c].sum(axis = 1)\n",
    "        df['c_mean'] = df[features_c].mean(axis = 1)\n",
    "        df['c_std'] = df[features_c].std(axis = 1)\n",
    "        df['c_kurt'] = df[features_c].kurtosis(axis = 1)\n",
    "        df['c_skew'] = df[features_c].skew(axis = 1)\n",
    "        df['gc_sum'] = df[features_g + features_c].sum(axis = 1)\n",
    "        df['gc_mean'] = df[features_g + features_c].mean(axis = 1)\n",
    "        df['gc_std'] = df[features_g + features_c].std(axis = 1)\n",
    "        df['gc_kurt'] = df[features_g + features_c].kurtosis(axis = 1)\n",
    "        df['gc_skew'] = df[features_g + features_c].skew(axis = 1)\n",
    "        df['c52_c42'] = df['c-52'] * df['c-42']\n",
    "        df['c13_c73'] = df['c-13'] * df['c-73']\n",
    "        df['c26_c13'] = df['c-26'] * df['c-13']\n",
    "        df['c33_c6'] = df['c-33'] * df['c-6']\n",
    "        df['c11_c55'] = df['c-11'] * df['c-55']\n",
    "        df['c38_c63'] = df['c-38'] * df['c-63']\n",
    "        df['c38_c94'] = df['c-38'] * df['c-94']\n",
    "        df['c13_c94'] = df['c-13'] * df['c-94']\n",
    "        df['c4_c52'] = df['c-4'] * df['c-52']\n",
    "        df['c4_c42'] = df['c-4'] * df['c-42']\n",
    "        df['c13_c38'] = df['c-13'] * df['c-38']\n",
    "        df['c55_c2'] = df['c-55'] * df['c-2']\n",
    "        df['c55_c4'] = df['c-55'] * df['c-4']\n",
    "        df['c4_c13'] = df['c-4'] * df['c-13']\n",
    "        df['c82_c42'] = df['c-82'] * df['c-42']\n",
    "        df['c66_c42'] = df['c-66'] * df['c-42']\n",
    "        df['c6_c38'] = df['c-6'] * df['c-38']\n",
    "        df['c2_c13'] = df['c-2'] * df['c-13']\n",
    "        df['c62_c42'] = df['c-62'] * df['c-42']\n",
    "        df['c90_c55'] = df['c-90'] * df['c-55']\n",
    "        \n",
    "        \n",
    "        for feature in features_c:\n",
    "             df[f'{feature}_squared'] = df[feature] ** 2     \n",
    "                \n",
    "        for feature in gsquarecols:\n",
    "            df[f'{feature}_squared'] = df[feature] ** 2 \n",
    "    return train, test\n",
    "\n",
    "train_features,test_features=fe_stats(train_features,test_features)"
   ]
  },
  {
   "cell_type": "code",
   "execution_count": 107,
   "metadata": {
    "execution": {
     "iopub.execute_input": "2020-11-28T14:16:55.054247Z",
     "iopub.status.busy": "2020-11-28T14:16:55.053104Z",
     "iopub.status.idle": "2020-11-28T14:16:55.057552Z",
     "shell.execute_reply": "2020-11-28T14:16:55.058236Z"
    },
    "papermill": {
     "duration": 0.210583,
     "end_time": "2020-11-28T14:16:55.058422",
     "exception": false,
     "start_time": "2020-11-28T14:16:54.847839",
     "status": "completed"
    },
    "tags": []
   },
   "outputs": [
    {
     "data": {
      "text/plain": [
       "(23814, 1253)"
      ]
     },
     "execution_count": 107,
     "metadata": {},
     "output_type": "execute_result"
    }
   ],
   "source": [
    "train_features.shape"
   ]
  },
  {
   "cell_type": "code",
   "execution_count": 108,
   "metadata": {
    "execution": {
     "iopub.execute_input": "2020-11-28T14:16:55.437124Z",
     "iopub.status.busy": "2020-11-28T14:16:55.436166Z",
     "iopub.status.idle": "2020-11-28T14:16:55.441313Z",
     "shell.execute_reply": "2020-11-28T14:16:55.441852Z"
    },
    "papermill": {
     "duration": 0.188919,
     "end_time": "2020-11-28T14:16:55.442007",
     "exception": false,
     "start_time": "2020-11-28T14:16:55.253088",
     "status": "completed"
    },
    "tags": []
   },
   "outputs": [
    {
     "data": {
      "text/plain": [
       "(3982, 1253)"
      ]
     },
     "execution_count": 108,
     "metadata": {},
     "output_type": "execute_result"
    }
   ],
   "source": [
    "test_features.shape"
   ]
  },
  {
   "cell_type": "code",
   "execution_count": 109,
   "metadata": {
    "execution": {
     "iopub.execute_input": "2020-11-28T14:16:55.843154Z",
     "iopub.status.busy": "2020-11-28T14:16:55.841614Z",
     "iopub.status.idle": "2020-11-28T14:16:56.731484Z",
     "shell.execute_reply": "2020-11-28T14:16:56.730806Z"
    },
    "papermill": {
     "duration": 1.093658,
     "end_time": "2020-11-28T14:16:56.731619",
     "exception": false,
     "start_time": "2020-11-28T14:16:55.637961",
     "status": "completed"
    },
    "tags": []
   },
   "outputs": [],
   "source": [
    "train = train_features.merge(train_targets_nonscored, on='sig_id')\n",
    "train = train[train['cp_type']!='ctl_vehicle'].reset_index(drop=True)\n",
    "test = test_features[test_features['cp_type']!='ctl_vehicle'].reset_index(drop=True)\n",
    "\n",
    "target = train[train_targets_nonscored.columns]"
   ]
  },
  {
   "cell_type": "code",
   "execution_count": 110,
   "metadata": {
    "execution": {
     "iopub.execute_input": "2020-11-28T14:16:57.153698Z",
     "iopub.status.busy": "2020-11-28T14:16:57.152420Z",
     "iopub.status.idle": "2020-11-28T14:16:57.176133Z",
     "shell.execute_reply": "2020-11-28T14:16:57.175532Z"
    },
    "papermill": {
     "duration": 0.278964,
     "end_time": "2020-11-28T14:16:57.176246",
     "exception": false,
     "start_time": "2020-11-28T14:16:56.897282",
     "status": "completed"
    },
    "tags": []
   },
   "outputs": [],
   "source": [
    "train = train.drop('cp_type', axis=1)\n",
    "test = test.drop('cp_type', axis=1)"
   ]
  },
  {
   "cell_type": "code",
   "execution_count": 111,
   "metadata": {
    "execution": {
     "iopub.execute_input": "2020-11-28T14:16:57.672774Z",
     "iopub.status.busy": "2020-11-28T14:16:57.671685Z",
     "iopub.status.idle": "2020-11-28T14:16:57.698962Z",
     "shell.execute_reply": "2020-11-28T14:16:57.698034Z"
    },
    "papermill": {
     "duration": 0.339535,
     "end_time": "2020-11-28T14:16:57.699134",
     "exception": false,
     "start_time": "2020-11-28T14:16:57.359599",
     "status": "completed"
    },
    "tags": []
   },
   "outputs": [],
   "source": [
    "target_cols = target.drop('sig_id', axis=1).columns.values.tolist()"
   ]
  },
  {
   "cell_type": "code",
   "execution_count": 112,
   "metadata": {
    "execution": {
     "iopub.execute_input": "2020-11-28T14:16:58.258512Z",
     "iopub.status.busy": "2020-11-28T14:16:58.191507Z",
     "iopub.status.idle": "2020-11-28T14:16:58.436597Z",
     "shell.execute_reply": "2020-11-28T14:16:58.435634Z"
    },
    "papermill": {
     "duration": 0.477915,
     "end_time": "2020-11-28T14:16:58.436783",
     "exception": false,
     "start_time": "2020-11-28T14:16:57.958868",
     "status": "completed"
    },
    "tags": []
   },
   "outputs": [],
   "source": [
    "train = pd.get_dummies(train, columns=['cp_time','cp_dose'])\n",
    "test_ = pd.get_dummies(test, columns=['cp_time','cp_dose'])"
   ]
  },
  {
   "cell_type": "code",
   "execution_count": 113,
   "metadata": {
    "execution": {
     "iopub.execute_input": "2020-11-28T14:16:58.799450Z",
     "iopub.status.busy": "2020-11-28T14:16:58.797758Z",
     "iopub.status.idle": "2020-11-28T14:16:58.802312Z",
     "shell.execute_reply": "2020-11-28T14:16:58.801796Z"
    },
    "papermill": {
     "duration": 0.200899,
     "end_time": "2020-11-28T14:16:58.802425",
     "exception": false,
     "start_time": "2020-11-28T14:16:58.601526",
     "status": "completed"
    },
    "tags": []
   },
   "outputs": [],
   "source": [
    "feature_cols = [c for c in train.columns if c not in target_cols]\n",
    "feature_cols = [c for c in feature_cols if c not in ['sig_id']]"
   ]
  },
  {
   "cell_type": "code",
   "execution_count": 114,
   "metadata": {
    "execution": {
     "iopub.execute_input": "2020-11-28T14:16:59.172040Z",
     "iopub.status.busy": "2020-11-28T14:16:59.171072Z",
     "iopub.status.idle": "2020-11-28T14:16:59.176828Z",
     "shell.execute_reply": "2020-11-28T14:16:59.177628Z"
    },
    "papermill": {
     "duration": 0.205976,
     "end_time": "2020-11-28T14:16:59.177850",
     "exception": false,
     "start_time": "2020-11-28T14:16:58.971874",
     "status": "completed"
    },
    "tags": []
   },
   "outputs": [
    {
     "data": {
      "text/plain": [
       "1254"
      ]
     },
     "execution_count": 114,
     "metadata": {},
     "output_type": "execute_result"
    }
   ],
   "source": [
    "len(feature_cols)"
   ]
  },
  {
   "cell_type": "code",
   "execution_count": 115,
   "metadata": {
    "execution": {
     "iopub.execute_input": "2020-11-28T14:16:59.675012Z",
     "iopub.status.busy": "2020-11-28T14:16:59.673867Z",
     "iopub.status.idle": "2020-11-28T14:16:59.678551Z",
     "shell.execute_reply": "2020-11-28T14:16:59.676071Z"
    },
    "papermill": {
     "duration": 0.261318,
     "end_time": "2020-11-28T14:16:59.678740",
     "exception": false,
     "start_time": "2020-11-28T14:16:59.417422",
     "status": "completed"
    },
    "tags": []
   },
   "outputs": [
    {
     "data": {
      "text/plain": [
       "402"
      ]
     },
     "execution_count": 115,
     "metadata": {},
     "output_type": "execute_result"
    }
   ],
   "source": [
    "len(target_cols)"
   ]
  },
  {
   "cell_type": "code",
   "execution_count": 116,
   "metadata": {
    "execution": {
     "iopub.execute_input": "2020-11-28T14:17:00.182874Z",
     "iopub.status.busy": "2020-11-28T14:17:00.180734Z",
     "iopub.status.idle": "2020-11-28T14:17:00.183724Z",
     "shell.execute_reply": "2020-11-28T14:17:00.184231Z"
    },
    "papermill": {
     "duration": 0.255772,
     "end_time": "2020-11-28T14:17:00.184358",
     "exception": false,
     "start_time": "2020-11-28T14:16:59.928586",
     "status": "completed"
    },
    "tags": []
   },
   "outputs": [],
   "source": [
    "class MoADataset:\n",
    "    def __init__(self, features, targets):\n",
    "        self.features = features\n",
    "        self.targets = targets\n",
    "        \n",
    "    def __len__(self):\n",
    "        return (self.features.shape[0])\n",
    "    \n",
    "    def __getitem__(self, idx):\n",
    "        dct = {\n",
    "            'x' : torch.tensor(self.features[idx, :], dtype=torch.float),\n",
    "            'y' : torch.tensor(self.targets[idx, :], dtype=torch.float)            \n",
    "        }\n",
    "        return dct\n",
    "    \n",
    "class TestDataset:\n",
    "    def __init__(self, features):\n",
    "        self.features = features\n",
    "        \n",
    "    def __len__(self):\n",
    "        return (self.features.shape[0])\n",
    "    \n",
    "    def __getitem__(self, idx):\n",
    "        dct = {\n",
    "            'x' : torch.tensor(self.features[idx, :], dtype=torch.float)\n",
    "        }\n",
    "        return dct"
   ]
  },
  {
   "cell_type": "code",
   "execution_count": 117,
   "metadata": {
    "execution": {
     "iopub.execute_input": "2020-11-28T14:17:00.574092Z",
     "iopub.status.busy": "2020-11-28T14:17:00.573123Z",
     "iopub.status.idle": "2020-11-28T14:17:00.576301Z",
     "shell.execute_reply": "2020-11-28T14:17:00.575773Z"
    },
    "papermill": {
     "duration": 0.22424,
     "end_time": "2020-11-28T14:17:00.576428",
     "exception": false,
     "start_time": "2020-11-28T14:17:00.352188",
     "status": "completed"
    },
    "tags": []
   },
   "outputs": [],
   "source": [
    "def train_fn(model, optimizer, scheduler, loss_fn, dataloader, device):\n",
    "    model.train()\n",
    "    final_loss = 0\n",
    "    \n",
    "    for data in dataloader:\n",
    "        optimizer.zero_grad()\n",
    "        inputs, targets = data['x'].to(device), data['y'].to(device)\n",
    "        outputs = model(inputs)\n",
    "        loss = loss_fn(outputs, targets)\n",
    "        loss.backward()\n",
    "        optimizer.step()\n",
    "        scheduler.step()\n",
    "        \n",
    "        final_loss += loss.item()\n",
    "        \n",
    "    final_loss /= len(dataloader)\n",
    "    \n",
    "    return final_loss\n",
    "\n",
    "\n",
    "def valid_fn(model, loss_fn, dataloader, device):\n",
    "    model.eval()\n",
    "    final_loss = 0\n",
    "    valid_preds = []\n",
    "    \n",
    "    for data in dataloader:\n",
    "        inputs, targets = data['x'].to(device), data['y'].to(device)\n",
    "        outputs = model(inputs)\n",
    "        loss = loss_fn(outputs, targets)\n",
    "        \n",
    "        final_loss += loss.item()\n",
    "        valid_preds.append(outputs.sigmoid().detach().cpu().numpy())\n",
    "        \n",
    "    final_loss /= len(dataloader)\n",
    "    valid_preds = np.concatenate(valid_preds)\n",
    "    \n",
    "    return final_loss, valid_preds\n",
    "\n",
    "def inference_fn(model, dataloader, device):\n",
    "    model.eval()\n",
    "    preds = []\n",
    "    \n",
    "    for data in dataloader:\n",
    "        inputs = data['x'].to(device)\n",
    "\n",
    "        with torch.no_grad():\n",
    "            outputs = model(inputs)\n",
    "        \n",
    "        preds.append(outputs.sigmoid().detach().cpu().numpy())\n",
    "        \n",
    "    preds = np.concatenate(preds)\n",
    "    \n",
    "    return preds"
   ]
  },
  {
   "cell_type": "code",
   "execution_count": 118,
   "metadata": {
    "execution": {
     "iopub.execute_input": "2020-11-28T14:17:00.917055Z",
     "iopub.status.busy": "2020-11-28T14:17:00.912463Z",
     "iopub.status.idle": "2020-11-28T14:17:00.919453Z",
     "shell.execute_reply": "2020-11-28T14:17:00.919919Z"
    },
    "papermill": {
     "duration": 0.178915,
     "end_time": "2020-11-28T14:17:00.920046",
     "exception": false,
     "start_time": "2020-11-28T14:17:00.741131",
     "status": "completed"
    },
    "tags": []
   },
   "outputs": [],
   "source": [
    "import torch\n",
    "from torch.nn.modules.loss import _WeightedLoss\n",
    "import torch.nn.functional as F\n",
    "\n",
    "class SmoothBCEwLogits(_WeightedLoss):\n",
    "    def __init__(self, weight=None, reduction='mean', smoothing=0.0):\n",
    "        super().__init__(weight=weight, reduction=reduction)\n",
    "        self.smoothing = smoothing\n",
    "        self.weight = weight\n",
    "        self.reduction = reduction\n",
    "\n",
    "    @staticmethod\n",
    "    def _smooth(targets:torch.Tensor, n_labels:int, smoothing=0.0):\n",
    "        assert 0 <= smoothing < 1\n",
    "        with torch.no_grad():\n",
    "            targets = targets * (1.0 - smoothing) + 0.5 * smoothing\n",
    "        return targets\n",
    "\n",
    "    def forward(self, inputs, targets):\n",
    "        targets = SmoothBCEwLogits._smooth(targets, inputs.size(-1),\n",
    "            self.smoothing)\n",
    "        loss = F.binary_cross_entropy_with_logits(inputs, targets,self.weight)\n",
    "\n",
    "        if  self.reduction == 'sum':\n",
    "            loss = loss.sum()\n",
    "        elif  self.reduction == 'mean':\n",
    "            loss = loss.mean()\n",
    "\n",
    "        return loss"
   ]
  },
  {
   "cell_type": "code",
   "execution_count": 119,
   "metadata": {
    "execution": {
     "iopub.execute_input": "2020-11-28T14:17:01.279837Z",
     "iopub.status.busy": "2020-11-28T14:17:01.270307Z",
     "iopub.status.idle": "2020-11-28T14:17:01.283350Z",
     "shell.execute_reply": "2020-11-28T14:17:01.282767Z"
    },
    "papermill": {
     "duration": 0.201057,
     "end_time": "2020-11-28T14:17:01.283509",
     "exception": false,
     "start_time": "2020-11-28T14:17:01.082452",
     "status": "completed"
    },
    "tags": []
   },
   "outputs": [],
   "source": [
    "class Model(nn.Module):\n",
    "    def __init__(self, num_features, num_targets, hidden_size):\n",
    "        super(Model, self).__init__()\n",
    "        self.batch_norm1 = nn.BatchNorm1d(num_features)\n",
    "        self.dropout1 = nn.Dropout(0.2)\n",
    "        self.dense1 = nn.utils.weight_norm(nn.Linear(num_features, hidden_size))\n",
    "        \n",
    "        self.batch_norm2 = nn.BatchNorm1d(hidden_size)\n",
    "        self.dropout2 = nn.Dropout(0.2)\n",
    "        self.dense2 = nn.utils.weight_norm(nn.Linear(hidden_size, hidden_size))\n",
    "        \n",
    "        self.batch_norm3 = nn.BatchNorm1d(hidden_size)\n",
    "        self.dropout3 = nn.Dropout(0.2)\n",
    "        self.dense3 = nn.utils.weight_norm(nn.Linear(hidden_size, num_targets))\n",
    "    def recalibrate_layer(self, layer):\n",
    "\n",
    "        if(torch.isnan(layer.weight_v).sum() > 0):\n",
    "            print ('recalibrate layer.weight_v')\n",
    "            layer.weight_v = torch.nn.Parameter(torch.where(torch.isnan(layer.weight_v), torch.zeros_like(layer.weight_v), layer.weight_v))\n",
    "            layer.weight_v = torch.nn.Parameter(layer.weight_v + 1e-7)\n",
    "\n",
    "        if(torch.isnan(layer.weight).sum() > 0):\n",
    "            print ('recalibrate layer.weight')\n",
    "            layer.weight = torch.where(torch.isnan(layer.weight), torch.zeros_like(layer.weight), layer.weight)\n",
    "            layer.weight += 1e-7\n",
    "    \n",
    "    def forward(self, x):\n",
    "        x = self.batch_norm1(x)\n",
    "        x = self.dropout1(x)\n",
    "        self.recalibrate_layer(self.dense1)\n",
    "        x = F.leaky_relu(self.dense1(x), 1e-3)\n",
    "        \n",
    "        x = self.batch_norm2(x)\n",
    "        x = self.dropout2(x)\n",
    "        self.recalibrate_layer(self.dense2)\n",
    "        x = F.relu(self.dense2(x))\n",
    "        \n",
    "        x = self.batch_norm3(x)\n",
    "        x = self.dropout3(x)\n",
    "        self.recalibrate_layer(self.dense3)\n",
    "        x = self.dense3(x)\n",
    "        \n",
    "        return x"
   ]
  },
  {
   "cell_type": "code",
   "execution_count": 120,
   "metadata": {
    "execution": {
     "iopub.execute_input": "2020-11-28T14:17:01.644352Z",
     "iopub.status.busy": "2020-11-28T14:17:01.643270Z",
     "iopub.status.idle": "2020-11-28T14:17:01.645917Z",
     "shell.execute_reply": "2020-11-28T14:17:01.646480Z"
    },
    "papermill": {
     "duration": 0.177902,
     "end_time": "2020-11-28T14:17:01.646609",
     "exception": false,
     "start_time": "2020-11-28T14:17:01.468707",
     "status": "completed"
    },
    "tags": []
   },
   "outputs": [],
   "source": [
    "# HyperParameters\n",
    "\n",
    "DEVICE = ('cuda' if torch.cuda.is_available() else 'cpu')\n",
    "EPOCHS = 26\n",
    "BATCH_SIZE = 256\n",
    "LEARNING_RATE = 6e-4\n",
    "WEIGHT_DECAY = 1e-5\n",
    "NFOLDS = 7\n",
    "EARLY_STOPPING_STEPS = 10\n",
    "EARLY_STOP = True\n",
    "\n",
    "num_features=len(feature_cols)\n",
    "num_targets=len(target_cols)\n",
    "hidden_size=2048"
   ]
  },
  {
   "cell_type": "code",
   "execution_count": 121,
   "metadata": {
    "execution": {
     "iopub.execute_input": "2020-11-28T14:17:02.012618Z",
     "iopub.status.busy": "2020-11-28T14:17:02.008423Z",
     "iopub.status.idle": "2020-11-28T14:17:02.015090Z",
     "shell.execute_reply": "2020-11-28T14:17:02.015768Z"
    },
    "papermill": {
     "duration": 0.195063,
     "end_time": "2020-11-28T14:17:02.015923",
     "exception": false,
     "start_time": "2020-11-28T14:17:01.820860",
     "status": "completed"
    },
    "tags": []
   },
   "outputs": [],
   "source": [
    "def run_training(fold, seed):\n",
    "    \n",
    "    seed_everything(seed)\n",
    "    \n",
    "    mskf = MultilabelStratifiedKFold(n_splits=7,random_state=seed)\n",
    "    for f, (t_idx, v_idx) in enumerate(mskf.split(X=train, y=target)):\n",
    "         train.loc[v_idx, 'kfold'] = int(f)\n",
    "    train['kfold'] = train['kfold'].astype(int)\n",
    "    \n",
    "    trn_idx = train[train['kfold'] != fold].index\n",
    "    val_idx = train[train['kfold'] == fold].index\n",
    "    \n",
    "    train_df = train[train['kfold'] != fold].reset_index(drop=True)\n",
    "    valid_df = train[train['kfold'] == fold].reset_index(drop=True)\n",
    "    \n",
    "    x_train, y_train  = train_df[feature_cols].values, train_df[target_cols].values\n",
    "    x_valid, y_valid =  valid_df[feature_cols].values, valid_df[target_cols].values\n",
    "    \n",
    "    train_dataset = MoADataset(x_train, y_train)\n",
    "    valid_dataset = MoADataset(x_valid, y_valid)\n",
    "    trainloader = torch.utils.data.DataLoader(train_dataset, batch_size=BATCH_SIZE, shuffle=True)\n",
    "    validloader = torch.utils.data.DataLoader(valid_dataset, batch_size=BATCH_SIZE, shuffle=False)\n",
    "    \n",
    "    model = Model(\n",
    "        num_features=num_features,\n",
    "        num_targets=num_targets,\n",
    "        hidden_size=hidden_size,\n",
    "    )\n",
    "    \n",
    "    model.to(DEVICE)\n",
    "    \n",
    "    optimizer = torch.optim.Adam(model.parameters(), lr=LEARNING_RATE, weight_decay=WEIGHT_DECAY)\n",
    "    scheduler = optim.lr_scheduler.OneCycleLR(optimizer=optimizer, pct_start=0.1, div_factor=1e3, \n",
    "                                              max_lr=1e-2, epochs=EPOCHS, steps_per_epoch=len(trainloader))\n",
    "    \n",
    "    loss_fn = nn.BCEWithLogitsLoss()\n",
    "    \n",
    "    loss_tr = SmoothBCEwLogits(smoothing =0.001)\n",
    "    \n",
    "    early_stopping_steps = EARLY_STOPPING_STEPS\n",
    "    early_step = 0\n",
    "    \n",
    "    oof = np.zeros((len(train), target.iloc[:, 1:].shape[1]))\n",
    "    best_loss = np.inf\n",
    "    \n",
    "    for epoch in range(EPOCHS):\n",
    "        \n",
    "        train_loss = train_fn(model, optimizer,scheduler, loss_tr, trainloader, DEVICE)\n",
    "        print(f\"SEED: {seed}, FOLD: {fold}, EPOCH: {epoch}, train_loss: {train_loss}\")\n",
    "        valid_loss, valid_preds = valid_fn(model, loss_fn, validloader, DEVICE)\n",
    "        print(f\"SEED: {seed} ,FOLD: {fold}, EPOCH: {epoch}, valid_loss: {valid_loss}\")\n",
    "        \n",
    "        if valid_loss < best_loss:\n",
    "            \n",
    "            best_loss = valid_loss\n",
    "            oof[val_idx] = valid_preds\n",
    "            torch.save(model.state_dict(), f\"SEED{seed}_FOLD{fold}_nonscored.pth\")\n",
    "        \n",
    "        elif(EARLY_STOP == True):\n",
    "            \n",
    "            early_step += 1\n",
    "            if (early_step >= early_stopping_steps):\n",
    "                break\n",
    "            \n",
    "    \n",
    "    #--------------------- PREDICTION---------------------\n",
    "    x_test = test_[feature_cols].values\n",
    "    testdataset = TestDataset(x_test)\n",
    "    testloader = torch.utils.data.DataLoader(testdataset, batch_size=BATCH_SIZE, shuffle=False)\n",
    "    \n",
    "    model = Model(\n",
    "        num_features=num_features,\n",
    "        num_targets=num_targets,\n",
    "        hidden_size=hidden_size,\n",
    "\n",
    "    )\n",
    "    model.load_state_dict(torch.load(f\"SEED{seed}_FOLD{fold}_nonscored.pth\"))\n",
    "    model.to(DEVICE)\n",
    "    \n",
    "    predictions = np.zeros((len(test_), target.iloc[:, 1:].shape[1]))\n",
    "    predictions = inference_fn(model, testloader, DEVICE)\n",
    "    \n",
    "    return oof, predictions"
   ]
  },
  {
   "cell_type": "code",
   "execution_count": 122,
   "metadata": {
    "execution": {
     "iopub.execute_input": "2020-11-28T14:17:02.364341Z",
     "iopub.status.busy": "2020-11-28T14:17:02.363506Z",
     "iopub.status.idle": "2020-11-28T14:17:02.366409Z",
     "shell.execute_reply": "2020-11-28T14:17:02.365852Z"
    },
    "papermill": {
     "duration": 0.183514,
     "end_time": "2020-11-28T14:17:02.366509",
     "exception": false,
     "start_time": "2020-11-28T14:17:02.182995",
     "status": "completed"
    },
    "tags": []
   },
   "outputs": [],
   "source": [
    "def run_k_fold(NFOLDS, seed):\n",
    "    oof = np.zeros((len(train), len(target_cols)))\n",
    "    predictions = np.zeros((len(test), len(target_cols)))\n",
    "    \n",
    "    for fold in range(NFOLDS):\n",
    "        oof_, pred_ = run_training(fold, seed)\n",
    "        \n",
    "        predictions += pred_ / NFOLDS\n",
    "        oof += oof_\n",
    "        \n",
    "    return oof, predictions"
   ]
  },
  {
   "cell_type": "code",
   "execution_count": 123,
   "metadata": {
    "execution": {
     "iopub.execute_input": "2020-11-28T14:17:02.779352Z",
     "iopub.status.busy": "2020-11-28T14:17:02.778294Z",
     "iopub.status.idle": "2020-11-28T14:44:04.203705Z",
     "shell.execute_reply": "2020-11-28T14:44:04.204663Z"
    },
    "papermill": {
     "duration": 1621.605607,
     "end_time": "2020-11-28T14:44:04.204844",
     "exception": false,
     "start_time": "2020-11-28T14:17:02.599237",
     "status": "completed"
    },
    "tags": []
   },
   "outputs": [
    {
     "name": "stdout",
     "output_type": "stream",
     "text": [
      "SEED: 0, FOLD: 0, EPOCH: 0, train_loss: 0.5899856507375434\n",
      "SEED: 0 ,FOLD: 0, EPOCH: 0, valid_loss: 0.079459826533611\n",
      "SEED: 0, FOLD: 0, EPOCH: 1, train_loss: 0.015976782057535003\n",
      "SEED: 0 ,FOLD: 0, EPOCH: 1, valid_loss: 0.005125536296803217\n",
      "SEED: 0, FOLD: 0, EPOCH: 2, train_loss: 0.008458541177615925\n",
      "SEED: 0 ,FOLD: 0, EPOCH: 2, valid_loss: 0.004826552091309657\n",
      "SEED: 0, FOLD: 0, EPOCH: 3, train_loss: 0.008386880952260783\n",
      "SEED: 0 ,FOLD: 0, EPOCH: 3, valid_loss: 0.0048020077296174486\n",
      "SEED: 0, FOLD: 0, EPOCH: 4, train_loss: 0.008411816327606101\n",
      "SEED: 0 ,FOLD: 0, EPOCH: 4, valid_loss: 0.004698617634578393\n",
      "SEED: 0, FOLD: 0, EPOCH: 5, train_loss: 0.008217551474887374\n",
      "SEED: 0 ,FOLD: 0, EPOCH: 5, valid_loss: 0.004628594212520581\n",
      "SEED: 0, FOLD: 0, EPOCH: 6, train_loss: 0.008181377999937615\n",
      "SEED: 0 ,FOLD: 0, EPOCH: 6, valid_loss: 0.005205346128115287\n",
      "SEED: 0, FOLD: 0, EPOCH: 7, train_loss: 0.008190904869823842\n",
      "SEED: 0 ,FOLD: 0, EPOCH: 7, valid_loss: 0.0045731075000591\n",
      "SEED: 0, FOLD: 0, EPOCH: 8, train_loss: 0.00816368859739521\n",
      "SEED: 0 ,FOLD: 0, EPOCH: 8, valid_loss: 0.004788341394697244\n",
      "SEED: 0, FOLD: 0, EPOCH: 9, train_loss: 0.008162782854727796\n",
      "SEED: 0 ,FOLD: 0, EPOCH: 9, valid_loss: 0.004642613447056367\n",
      "SEED: 0, FOLD: 0, EPOCH: 10, train_loss: 0.00814583757262979\n",
      "SEED: 0 ,FOLD: 0, EPOCH: 10, valid_loss: 0.004615107228836188\n",
      "SEED: 0, FOLD: 0, EPOCH: 11, train_loss: 0.008143960460517052\n",
      "SEED: 0 ,FOLD: 0, EPOCH: 11, valid_loss: 0.0046055709871535115\n",
      "SEED: 0, FOLD: 0, EPOCH: 12, train_loss: 0.00814650090084084\n",
      "SEED: 0 ,FOLD: 0, EPOCH: 12, valid_loss: 0.00470191494633372\n",
      "SEED: 0, FOLD: 0, EPOCH: 13, train_loss: 0.008151364261032763\n",
      "SEED: 0 ,FOLD: 0, EPOCH: 13, valid_loss: 0.004700689290005427\n",
      "SEED: 0, FOLD: 0, EPOCH: 14, train_loss: 0.008132171703854928\n",
      "SEED: 0 ,FOLD: 0, EPOCH: 14, valid_loss: 0.004678173313060632\n",
      "SEED: 0, FOLD: 0, EPOCH: 15, train_loss: 0.00812857980663712\n",
      "SEED: 0 ,FOLD: 0, EPOCH: 15, valid_loss: 0.004642433773439664\n",
      "SEED: 0, FOLD: 0, EPOCH: 16, train_loss: 0.008109803412210298\n",
      "SEED: 0 ,FOLD: 0, EPOCH: 16, valid_loss: 0.004588329125768864\n",
      "SEED: 0, FOLD: 1, EPOCH: 0, train_loss: 0.5900111583036345\n",
      "SEED: 0 ,FOLD: 1, EPOCH: 0, valid_loss: 0.07405271610388389\n",
      "SEED: 0, FOLD: 1, EPOCH: 1, train_loss: 0.016304153294579404\n",
      "SEED: 0 ,FOLD: 1, EPOCH: 1, valid_loss: 0.005317225443342557\n",
      "SEED: 0, FOLD: 1, EPOCH: 2, train_loss: 0.00850674564748801\n",
      "SEED: 0 ,FOLD: 1, EPOCH: 2, valid_loss: 0.004952121705103379\n",
      "SEED: 0, FOLD: 1, EPOCH: 3, train_loss: 0.012790227629798086\n",
      "SEED: 0 ,FOLD: 1, EPOCH: 3, valid_loss: 0.004729914622238049\n",
      "SEED: 0, FOLD: 1, EPOCH: 4, train_loss: 0.008278751903138048\n",
      "SEED: 0 ,FOLD: 1, EPOCH: 4, valid_loss: 0.004754097487490911\n",
      "SEED: 0, FOLD: 1, EPOCH: 5, train_loss: 0.008249074799587598\n",
      "SEED: 0 ,FOLD: 1, EPOCH: 5, valid_loss: 0.004690551055738559\n",
      "SEED: 0, FOLD: 1, EPOCH: 6, train_loss: 0.00823158330938502\n",
      "SEED: 0 ,FOLD: 1, EPOCH: 6, valid_loss: 0.004612951288716151\n",
      "SEED: 0, FOLD: 1, EPOCH: 7, train_loss: 0.008240321701442873\n",
      "SEED: 0 ,FOLD: 1, EPOCH: 7, valid_loss: 0.004704739647702529\n",
      "SEED: 0, FOLD: 1, EPOCH: 8, train_loss: 0.008196839930590344\n",
      "SEED: 0 ,FOLD: 1, EPOCH: 8, valid_loss: 0.004646758835476179\n",
      "SEED: 0, FOLD: 1, EPOCH: 9, train_loss: 0.008178584309093453\n",
      "SEED: 0 ,FOLD: 1, EPOCH: 9, valid_loss: 0.004555175045075325\n",
      "SEED: 0, FOLD: 1, EPOCH: 10, train_loss: 0.008155679777012887\n",
      "SEED: 0 ,FOLD: 1, EPOCH: 10, valid_loss: 0.0045886769747504825\n",
      "SEED: 0, FOLD: 1, EPOCH: 11, train_loss: 0.008156846459904636\n",
      "SEED: 0 ,FOLD: 1, EPOCH: 11, valid_loss: 0.004653824242548301\n",
      "SEED: 0, FOLD: 1, EPOCH: 12, train_loss: 0.00813330287692716\n",
      "SEED: 0 ,FOLD: 1, EPOCH: 12, valid_loss: 0.004609390627592802\n",
      "SEED: 0, FOLD: 1, EPOCH: 13, train_loss: 0.008124523632530425\n",
      "SEED: 0 ,FOLD: 1, EPOCH: 13, valid_loss: 0.004617399428612911\n",
      "SEED: 0, FOLD: 1, EPOCH: 14, train_loss: 0.008082027591110484\n",
      "SEED: 0 ,FOLD: 1, EPOCH: 14, valid_loss: 0.004634413832368759\n",
      "SEED: 0, FOLD: 1, EPOCH: 15, train_loss: 0.008070236279604\n",
      "SEED: 0 ,FOLD: 1, EPOCH: 15, valid_loss: 0.004580306032529244\n",
      "SEED: 0, FOLD: 1, EPOCH: 16, train_loss: 0.00804217073537812\n",
      "SEED: 0 ,FOLD: 1, EPOCH: 16, valid_loss: 0.004593156851254976\n",
      "SEED: 0, FOLD: 2, EPOCH: 0, train_loss: 0.5903609337637553\n",
      "SEED: 0 ,FOLD: 2, EPOCH: 0, valid_loss: 0.08498920500278473\n",
      "SEED: 0, FOLD: 2, EPOCH: 1, train_loss: 0.016079123647933877\n",
      "SEED: 0 ,FOLD: 2, EPOCH: 1, valid_loss: 0.0052699150625043194\n",
      "SEED: 0, FOLD: 2, EPOCH: 2, train_loss: 0.008436154504935886\n",
      "SEED: 0 ,FOLD: 2, EPOCH: 2, valid_loss: 0.005019570844104657\n",
      "SEED: 0, FOLD: 2, EPOCH: 3, train_loss: 0.00841280262967622\n",
      "SEED: 0 ,FOLD: 2, EPOCH: 3, valid_loss: 0.0047152036657700175\n",
      "SEED: 0, FOLD: 2, EPOCH: 4, train_loss: 0.008697999546908447\n",
      "SEED: 0 ,FOLD: 2, EPOCH: 4, valid_loss: 0.0047028313319270425\n",
      "SEED: 0, FOLD: 2, EPOCH: 5, train_loss: 0.008262997423927929\n",
      "SEED: 0 ,FOLD: 2, EPOCH: 5, valid_loss: 0.004531600691664677\n",
      "SEED: 0, FOLD: 2, EPOCH: 6, train_loss: 0.00816743532699105\n",
      "SEED: 0 ,FOLD: 2, EPOCH: 6, valid_loss: 0.004609192560355251\n",
      "SEED: 0, FOLD: 2, EPOCH: 7, train_loss: 0.008166745003010775\n",
      "SEED: 0 ,FOLD: 2, EPOCH: 7, valid_loss: 0.004655899157604346\n",
      "SEED: 0, FOLD: 2, EPOCH: 8, train_loss: 0.008164778320320152\n",
      "SEED: 0 ,FOLD: 2, EPOCH: 8, valid_loss: 0.004618141710614929\n",
      "SEED: 0, FOLD: 2, EPOCH: 9, train_loss: 0.00814690557937767\n",
      "SEED: 0 ,FOLD: 2, EPOCH: 9, valid_loss: 0.004718648520513223\n",
      "SEED: 0, FOLD: 2, EPOCH: 10, train_loss: 0.00814409289710425\n",
      "SEED: 0 ,FOLD: 2, EPOCH: 10, valid_loss: 0.005082347018357653\n",
      "SEED: 0, FOLD: 2, EPOCH: 11, train_loss: 0.00814467340053336\n",
      "SEED: 0 ,FOLD: 2, EPOCH: 11, valid_loss: 0.004563295407793843\n",
      "SEED: 0, FOLD: 2, EPOCH: 12, train_loss: 0.008132873027509934\n",
      "SEED: 0 ,FOLD: 2, EPOCH: 12, valid_loss: 0.004676311455953579\n",
      "SEED: 0, FOLD: 2, EPOCH: 13, train_loss: 0.008137397279308454\n",
      "SEED: 0 ,FOLD: 2, EPOCH: 13, valid_loss: 0.0047517769002857115\n",
      "SEED: 0, FOLD: 2, EPOCH: 14, train_loss: 0.008116100530920399\n",
      "SEED: 0 ,FOLD: 2, EPOCH: 14, valid_loss: 0.00475381723103615\n",
      "SEED: 0, FOLD: 2, EPOCH: 15, train_loss: 0.008118847076705581\n",
      "SEED: 0 ,FOLD: 2, EPOCH: 15, valid_loss: 0.004633563427397838\n",
      "SEED: 0, FOLD: 3, EPOCH: 0, train_loss: 0.5892885682752004\n",
      "SEED: 0 ,FOLD: 3, EPOCH: 0, valid_loss: 0.08594244374678685\n",
      "SEED: 0, FOLD: 3, EPOCH: 1, train_loss: 0.016043644687915977\n",
      "SEED: 0 ,FOLD: 3, EPOCH: 1, valid_loss: 0.005311896129009815\n",
      "SEED: 0, FOLD: 3, EPOCH: 2, train_loss: 0.008465480594266508\n",
      "SEED: 0 ,FOLD: 3, EPOCH: 2, valid_loss: 0.005203159776731179\n",
      "SEED: 0, FOLD: 3, EPOCH: 3, train_loss: 0.0131604703571144\n",
      "SEED: 0 ,FOLD: 3, EPOCH: 3, valid_loss: 0.004811475662371287\n",
      "SEED: 0, FOLD: 3, EPOCH: 4, train_loss: 0.008368272466484356\n",
      "SEED: 0 ,FOLD: 3, EPOCH: 4, valid_loss: 0.004794723855761381\n",
      "SEED: 0, FOLD: 3, EPOCH: 5, train_loss: 0.008283242193126195\n",
      "SEED: 0 ,FOLD: 3, EPOCH: 5, valid_loss: 0.004849020785723741\n",
      "SEED: 0, FOLD: 3, EPOCH: 6, train_loss: 0.008226880621215378\n",
      "SEED: 0 ,FOLD: 3, EPOCH: 6, valid_loss: 0.004793237035091107\n",
      "SEED: 0, FOLD: 3, EPOCH: 7, train_loss: 0.00820624189627533\n",
      "SEED: 0 ,FOLD: 3, EPOCH: 7, valid_loss: 0.004801798647699447\n",
      "SEED: 0, FOLD: 3, EPOCH: 8, train_loss: 0.008176996353761973\n",
      "SEED: 0 ,FOLD: 3, EPOCH: 8, valid_loss: 0.004806587006896734\n",
      "SEED: 0, FOLD: 3, EPOCH: 9, train_loss: 0.008151531704021869\n",
      "SEED: 0 ,FOLD: 3, EPOCH: 9, valid_loss: 0.004711686848447873\n",
      "SEED: 0, FOLD: 3, EPOCH: 10, train_loss: 0.008131190266057447\n",
      "SEED: 0 ,FOLD: 3, EPOCH: 10, valid_loss: 0.004792859168866506\n",
      "SEED: 0, FOLD: 3, EPOCH: 11, train_loss: 0.008132341915640879\n",
      "SEED: 0 ,FOLD: 3, EPOCH: 11, valid_loss: 0.004824234208521934\n",
      "SEED: 0, FOLD: 3, EPOCH: 12, train_loss: 0.008088580987139328\n",
      "SEED: 0 ,FOLD: 3, EPOCH: 12, valid_loss: 0.004955199941133077\n",
      "SEED: 0, FOLD: 3, EPOCH: 13, train_loss: 0.008092134108615888\n",
      "SEED: 0 ,FOLD: 3, EPOCH: 13, valid_loss: 0.00479821040509985\n",
      "SEED: 0, FOLD: 3, EPOCH: 14, train_loss: 0.008058759220246528\n",
      "SEED: 0 ,FOLD: 3, EPOCH: 14, valid_loss: 0.0048132618674292015\n",
      "SEED: 0, FOLD: 3, EPOCH: 15, train_loss: 0.008029505623051443\n",
      "SEED: 0 ,FOLD: 3, EPOCH: 15, valid_loss: 0.004794589172189052\n",
      "SEED: 0, FOLD: 3, EPOCH: 16, train_loss: 0.008015598994805603\n",
      "SEED: 0 ,FOLD: 3, EPOCH: 16, valid_loss: 0.004766717982979922\n",
      "SEED: 0, FOLD: 4, EPOCH: 0, train_loss: 0.588682987903421\n",
      "SEED: 0 ,FOLD: 4, EPOCH: 0, valid_loss: 0.08191962769398323\n",
      "SEED: 0, FOLD: 4, EPOCH: 1, train_loss: 0.015852294717537792\n",
      "SEED: 0 ,FOLD: 4, EPOCH: 1, valid_loss: 0.005224972891692932\n",
      "SEED: 0, FOLD: 4, EPOCH: 2, train_loss: 0.008458442935669745\n",
      "SEED: 0 ,FOLD: 4, EPOCH: 2, valid_loss: 0.0049579384593436355\n",
      "SEED: 0, FOLD: 4, EPOCH: 3, train_loss: 0.00876984470272185\n",
      "SEED: 0 ,FOLD: 4, EPOCH: 3, valid_loss: 0.004795222220799098\n",
      "SEED: 0, FOLD: 4, EPOCH: 4, train_loss: 0.008264585410723009\n",
      "SEED: 0 ,FOLD: 4, EPOCH: 4, valid_loss: 0.004954681481019809\n",
      "SEED: 0, FOLD: 4, EPOCH: 5, train_loss: 0.00820042542811181\n",
      "SEED: 0 ,FOLD: 4, EPOCH: 5, valid_loss: 0.005250143030515084\n",
      "SEED: 0, FOLD: 4, EPOCH: 6, train_loss: 0.008204993439485898\n",
      "SEED: 0 ,FOLD: 4, EPOCH: 6, valid_loss: 0.004797390877054288\n",
      "SEED: 0, FOLD: 4, EPOCH: 7, train_loss: 0.008157713665954164\n",
      "SEED: 0 ,FOLD: 4, EPOCH: 7, valid_loss: 0.004924182780086994\n",
      "SEED: 0, FOLD: 4, EPOCH: 8, train_loss: 0.00816289459455859\n",
      "SEED: 0 ,FOLD: 4, EPOCH: 8, valid_loss: 0.00484043682137361\n",
      "SEED: 0, FOLD: 4, EPOCH: 9, train_loss: 0.008138974146867121\n",
      "SEED: 0 ,FOLD: 4, EPOCH: 9, valid_loss: 0.0047679510540687125\n",
      "SEED: 0, FOLD: 4, EPOCH: 10, train_loss: 0.0081197276484926\n",
      "SEED: 0 ,FOLD: 4, EPOCH: 10, valid_loss: 0.00475646358413192\n",
      "SEED: 0, FOLD: 4, EPOCH: 11, train_loss: 0.008119623296315203\n",
      "SEED: 0 ,FOLD: 4, EPOCH: 11, valid_loss: 0.004980144556611776\n",
      "SEED: 0, FOLD: 4, EPOCH: 12, train_loss: 0.008127172930619202\n",
      "SEED: 0 ,FOLD: 4, EPOCH: 12, valid_loss: 0.004813549681924856\n",
      "SEED: 0, FOLD: 4, EPOCH: 13, train_loss: 0.008121622367636175\n",
      "SEED: 0 ,FOLD: 4, EPOCH: 13, valid_loss: 0.004867609769392472\n",
      "SEED: 0, FOLD: 4, EPOCH: 14, train_loss: 0.008120493038330932\n",
      "SEED: 0 ,FOLD: 4, EPOCH: 14, valid_loss: 0.0048505807152161235\n",
      "SEED: 0, FOLD: 4, EPOCH: 15, train_loss: 0.008111261026430372\n",
      "SEED: 0 ,FOLD: 4, EPOCH: 15, valid_loss: 0.004833473644864101\n",
      "SEED: 0, FOLD: 5, EPOCH: 0, train_loss: 0.5877785746108841\n",
      "SEED: 0 ,FOLD: 5, EPOCH: 0, valid_loss: 0.07858251894895847\n",
      "SEED: 0, FOLD: 5, EPOCH: 1, train_loss: 0.01598258636816329\n",
      "SEED: 0 ,FOLD: 5, EPOCH: 1, valid_loss: 0.005317596861949334\n",
      "SEED: 0, FOLD: 5, EPOCH: 2, train_loss: 0.008555390374936364\n",
      "SEED: 0 ,FOLD: 5, EPOCH: 2, valid_loss: 0.004896660514462452\n",
      "SEED: 0, FOLD: 5, EPOCH: 3, train_loss: 0.008900594910153665\n",
      "SEED: 0 ,FOLD: 5, EPOCH: 3, valid_loss: 0.004585285474044772\n",
      "SEED: 0, FOLD: 5, EPOCH: 4, train_loss: 0.008288157537478852\n",
      "SEED: 0 ,FOLD: 5, EPOCH: 4, valid_loss: 0.004813643566404398\n",
      "SEED: 0, FOLD: 5, EPOCH: 5, train_loss: 0.008232714142650366\n",
      "SEED: 0 ,FOLD: 5, EPOCH: 5, valid_loss: 0.0047744994696516255\n",
      "SEED: 0, FOLD: 5, EPOCH: 6, train_loss: 0.008201706367922394\n",
      "SEED: 0 ,FOLD: 5, EPOCH: 6, valid_loss: 0.004730799629424627\n",
      "SEED: 0, FOLD: 5, EPOCH: 7, train_loss: 0.008187384646687959\n",
      "SEED: 0 ,FOLD: 5, EPOCH: 7, valid_loss: 0.004775829183367582\n",
      "SEED: 0, FOLD: 5, EPOCH: 8, train_loss: 0.00816403326226046\n",
      "SEED: 0 ,FOLD: 5, EPOCH: 8, valid_loss: 0.004874004803311367\n",
      "SEED: 0, FOLD: 5, EPOCH: 9, train_loss: 0.008153587630068933\n",
      "SEED: 0 ,FOLD: 5, EPOCH: 9, valid_loss: 0.00467322301119566\n",
      "SEED: 0, FOLD: 5, EPOCH: 10, train_loss: 0.008148257545120007\n",
      "SEED: 0 ,FOLD: 5, EPOCH: 10, valid_loss: 0.004724419604127224\n",
      "SEED: 0, FOLD: 5, EPOCH: 11, train_loss: 0.00812794648840822\n",
      "SEED: 0 ,FOLD: 5, EPOCH: 11, valid_loss: 0.004714770493312524\n",
      "SEED: 0, FOLD: 5, EPOCH: 12, train_loss: 0.008139574264704779\n",
      "SEED: 0 ,FOLD: 5, EPOCH: 12, valid_loss: 0.004666803333048637\n",
      "SEED: 0, FOLD: 5, EPOCH: 13, train_loss: 0.008116422271406328\n",
      "SEED: 0 ,FOLD: 5, EPOCH: 13, valid_loss: 0.0047788373194634914\n",
      "SEED: 0, FOLD: 6, EPOCH: 0, train_loss: 0.5888000615947956\n",
      "SEED: 0 ,FOLD: 6, EPOCH: 0, valid_loss: 0.07592411052722198\n",
      "SEED: 0, FOLD: 6, EPOCH: 1, train_loss: 0.016078950170226192\n",
      "SEED: 0 ,FOLD: 6, EPOCH: 1, valid_loss: 0.005292599053623585\n",
      "SEED: 0, FOLD: 6, EPOCH: 2, train_loss: 0.008443164658053098\n",
      "SEED: 0 ,FOLD: 6, EPOCH: 2, valid_loss: 0.004882584970731001\n",
      "SEED: 0, FOLD: 6, EPOCH: 3, train_loss: 0.00887783499736641\n",
      "SEED: 0 ,FOLD: 6, EPOCH: 3, valid_loss: 0.004641165419553335\n",
      "SEED: 0, FOLD: 6, EPOCH: 4, train_loss: 0.008264868532785692\n",
      "SEED: 0 ,FOLD: 6, EPOCH: 4, valid_loss: 0.0047272109928039405\n",
      "SEED: 0, FOLD: 6, EPOCH: 5, train_loss: 0.008314133030236573\n",
      "SEED: 0 ,FOLD: 6, EPOCH: 5, valid_loss: 0.005178948649420188\n",
      "SEED: 0, FOLD: 6, EPOCH: 6, train_loss: 0.008209780129176137\n",
      "SEED: 0 ,FOLD: 6, EPOCH: 6, valid_loss: 0.0046282917834245246\n",
      "SEED: 0, FOLD: 6, EPOCH: 7, train_loss: 0.008178392368545001\n",
      "SEED: 0 ,FOLD: 6, EPOCH: 7, valid_loss: 0.004555019406745067\n",
      "SEED: 0, FOLD: 6, EPOCH: 8, train_loss: 0.008155061523555903\n",
      "SEED: 0 ,FOLD: 6, EPOCH: 8, valid_loss: 0.004666696875714338\n",
      "SEED: 0, FOLD: 6, EPOCH: 9, train_loss: 0.008149623638018966\n",
      "SEED: 0 ,FOLD: 6, EPOCH: 9, valid_loss: 0.00465698866173625\n",
      "SEED: 0, FOLD: 6, EPOCH: 10, train_loss: 0.008131479083031818\n",
      "SEED: 0 ,FOLD: 6, EPOCH: 10, valid_loss: 0.004745592184078235\n",
      "SEED: 0, FOLD: 6, EPOCH: 11, train_loss: 0.008138059153901162\n",
      "SEED: 0 ,FOLD: 6, EPOCH: 11, valid_loss: 0.004621844487981155\n",
      "SEED: 0, FOLD: 6, EPOCH: 12, train_loss: 0.008133783867280628\n",
      "SEED: 0 ,FOLD: 6, EPOCH: 12, valid_loss: 0.004669737464819963\n",
      "SEED: 0, FOLD: 6, EPOCH: 13, train_loss: 0.00813142112078699\n",
      "SEED: 0 ,FOLD: 6, EPOCH: 13, valid_loss: 0.004732310521201446\n",
      "SEED: 0, FOLD: 6, EPOCH: 14, train_loss: 0.0081289061030524\n",
      "SEED: 0 ,FOLD: 6, EPOCH: 14, valid_loss: 0.004709819654146066\n",
      "SEED: 0, FOLD: 6, EPOCH: 15, train_loss: 0.008103793902272309\n",
      "SEED: 0 ,FOLD: 6, EPOCH: 15, valid_loss: 0.004703675468380635\n",
      "SEED: 1, FOLD: 0, EPOCH: 0, train_loss: 0.5883109534310328\n",
      "SEED: 1 ,FOLD: 0, EPOCH: 0, valid_loss: 0.07938765161312543\n",
      "SEED: 1, FOLD: 0, EPOCH: 1, train_loss: 0.016123023500817048\n",
      "SEED: 1 ,FOLD: 0, EPOCH: 1, valid_loss: 0.005209295222392449\n",
      "SEED: 1, FOLD: 0, EPOCH: 2, train_loss: 0.008469195482698647\n",
      "SEED: 1 ,FOLD: 0, EPOCH: 2, valid_loss: 0.004955329144230256\n",
      "SEED: 1, FOLD: 0, EPOCH: 3, train_loss: 0.008458310480204385\n",
      "SEED: 1 ,FOLD: 0, EPOCH: 3, valid_loss: 0.008022596737226615\n",
      "SEED: 1, FOLD: 0, EPOCH: 4, train_loss: 0.008239637468815656\n",
      "SEED: 1 ,FOLD: 0, EPOCH: 4, valid_loss: 0.004627995551205599\n",
      "SEED: 1, FOLD: 0, EPOCH: 5, train_loss: 0.008340169864429816\n",
      "SEED: 1 ,FOLD: 0, EPOCH: 5, valid_loss: 0.004600304859475448\n",
      "SEED: 1, FOLD: 0, EPOCH: 6, train_loss: 0.008187269464739272\n",
      "SEED: 1 ,FOLD: 0, EPOCH: 6, valid_loss: 0.004684287409942884\n",
      "SEED: 1, FOLD: 0, EPOCH: 7, train_loss: 0.008162516439836976\n",
      "SEED: 1 ,FOLD: 0, EPOCH: 7, valid_loss: 0.004658714760668003\n",
      "SEED: 1, FOLD: 0, EPOCH: 8, train_loss: 0.00816779793869402\n",
      "SEED: 1 ,FOLD: 0, EPOCH: 8, valid_loss: 0.0049344985745847225\n",
      "SEED: 1, FOLD: 0, EPOCH: 9, train_loss: 0.008157842446470985\n",
      "SEED: 1 ,FOLD: 0, EPOCH: 9, valid_loss: 0.004648049720204794\n",
      "SEED: 1, FOLD: 0, EPOCH: 10, train_loss: 0.008158465205515558\n",
      "SEED: 1 ,FOLD: 0, EPOCH: 10, valid_loss: 0.0047326413556360285\n",
      "SEED: 1, FOLD: 0, EPOCH: 11, train_loss: 0.008160237122226405\n",
      "SEED: 1 ,FOLD: 0, EPOCH: 11, valid_loss: 0.0047337288180222875\n",
      "SEED: 1, FOLD: 0, EPOCH: 12, train_loss: 0.008144405852952922\n",
      "SEED: 1 ,FOLD: 0, EPOCH: 12, valid_loss: 0.004874985020321149\n",
      "SEED: 1, FOLD: 0, EPOCH: 13, train_loss: 0.008143733242979727\n",
      "SEED: 1 ,FOLD: 0, EPOCH: 13, valid_loss: 0.004763220651791646\n",
      "SEED: 1, FOLD: 0, EPOCH: 14, train_loss: 0.008155028524531706\n",
      "SEED: 1 ,FOLD: 0, EPOCH: 14, valid_loss: 0.0047634984366595745\n",
      "SEED: 1, FOLD: 1, EPOCH: 0, train_loss: 0.5891418471126944\n",
      "SEED: 1 ,FOLD: 1, EPOCH: 0, valid_loss: 0.08289507088752893\n",
      "SEED: 1, FOLD: 1, EPOCH: 1, train_loss: 0.01620653980235393\n",
      "SEED: 1 ,FOLD: 1, EPOCH: 1, valid_loss: 0.00541681176624619\n",
      "SEED: 1, FOLD: 1, EPOCH: 2, train_loss: 0.008467956597136485\n",
      "SEED: 1 ,FOLD: 1, EPOCH: 2, valid_loss: 0.005035385847664797\n",
      "SEED: 1, FOLD: 1, EPOCH: 3, train_loss: 0.008819318709995699\n",
      "SEED: 1 ,FOLD: 1, EPOCH: 3, valid_loss: 0.004716706032363268\n",
      "SEED: 1, FOLD: 1, EPOCH: 4, train_loss: 0.008244684236627576\n",
      "SEED: 1 ,FOLD: 1, EPOCH: 4, valid_loss: 0.004757069266186311\n",
      "SEED: 1, FOLD: 1, EPOCH: 5, train_loss: 0.008202666209104497\n",
      "SEED: 1 ,FOLD: 1, EPOCH: 5, valid_loss: 0.0047754530006876355\n",
      "SEED: 1, FOLD: 1, EPOCH: 6, train_loss: 0.008175147967916485\n",
      "SEED: 1 ,FOLD: 1, EPOCH: 6, valid_loss: 0.004792735482064577\n",
      "SEED: 1, FOLD: 1, EPOCH: 7, train_loss: 0.008150074007996434\n",
      "SEED: 1 ,FOLD: 1, EPOCH: 7, valid_loss: 0.004724134905980184\n",
      "SEED: 1, FOLD: 1, EPOCH: 8, train_loss: 0.008142579384651539\n",
      "SEED: 1 ,FOLD: 1, EPOCH: 8, valid_loss: 0.00487359083042695\n",
      "SEED: 1, FOLD: 1, EPOCH: 9, train_loss: 0.008133039362980304\n",
      "SEED: 1 ,FOLD: 1, EPOCH: 9, valid_loss: 0.00469135965865392\n",
      "SEED: 1, FOLD: 1, EPOCH: 10, train_loss: 0.008117222994868015\n",
      "SEED: 1 ,FOLD: 1, EPOCH: 10, valid_loss: 0.00482407334045722\n",
      "SEED: 1, FOLD: 1, EPOCH: 11, train_loss: 0.008122521320458603\n",
      "SEED: 1 ,FOLD: 1, EPOCH: 11, valid_loss: 0.004815686243371322\n",
      "SEED: 1, FOLD: 1, EPOCH: 12, train_loss: 0.008117901771706907\n",
      "SEED: 1 ,FOLD: 1, EPOCH: 12, valid_loss: 0.004798100831416937\n",
      "SEED: 1, FOLD: 1, EPOCH: 13, train_loss: 0.008111828837443042\n",
      "SEED: 1 ,FOLD: 1, EPOCH: 13, valid_loss: 0.0047123755973119\n",
      "SEED: 1, FOLD: 1, EPOCH: 14, train_loss: 0.008112054519556664\n",
      "SEED: 1 ,FOLD: 1, EPOCH: 14, valid_loss: 0.004786280771860709\n",
      "SEED: 1, FOLD: 2, EPOCH: 0, train_loss: 0.5887313121678056\n",
      "SEED: 1 ,FOLD: 2, EPOCH: 0, valid_loss: 0.07762419260465182\n",
      "SEED: 1, FOLD: 2, EPOCH: 1, train_loss: 0.01602137676515692\n",
      "SEED: 1 ,FOLD: 2, EPOCH: 1, valid_loss: 0.005316345092768853\n",
      "SEED: 1, FOLD: 2, EPOCH: 2, train_loss: 0.00847117869636497\n",
      "SEED: 1 ,FOLD: 2, EPOCH: 2, valid_loss: 0.0048544020392000675\n",
      "SEED: 1, FOLD: 2, EPOCH: 3, train_loss: 0.008385002556433147\n",
      "SEED: 1 ,FOLD: 2, EPOCH: 3, valid_loss: 0.004942718105247388\n",
      "SEED: 1, FOLD: 2, EPOCH: 4, train_loss: 0.008325396118232527\n",
      "SEED: 1 ,FOLD: 2, EPOCH: 4, valid_loss: 0.04306038110875166\n",
      "SEED: 1, FOLD: 2, EPOCH: 5, train_loss: 0.008206066700655061\n",
      "SEED: 1 ,FOLD: 2, EPOCH: 5, valid_loss: 0.004755607286754709\n",
      "SEED: 1, FOLD: 2, EPOCH: 6, train_loss: 0.008261116932624497\n",
      "SEED: 1 ,FOLD: 2, EPOCH: 6, valid_loss: 0.004710441258234473\n",
      "SEED: 1, FOLD: 2, EPOCH: 7, train_loss: 0.008163632655113533\n",
      "SEED: 1 ,FOLD: 2, EPOCH: 7, valid_loss: 0.0047335772273632195\n",
      "SEED: 1, FOLD: 2, EPOCH: 8, train_loss: 0.008167037274688482\n",
      "SEED: 1 ,FOLD: 2, EPOCH: 8, valid_loss: 0.004592556792956132\n",
      "SEED: 1, FOLD: 2, EPOCH: 9, train_loss: 0.008145704582283224\n",
      "SEED: 1 ,FOLD: 2, EPOCH: 9, valid_loss: 0.004623146620220863\n",
      "SEED: 1, FOLD: 2, EPOCH: 10, train_loss: 0.008142373883291273\n",
      "SEED: 1 ,FOLD: 2, EPOCH: 10, valid_loss: 0.004673230443866207\n",
      "SEED: 1, FOLD: 2, EPOCH: 11, train_loss: 0.008147548720542644\n",
      "SEED: 1 ,FOLD: 2, EPOCH: 11, valid_loss: 0.004646483844575973\n",
      "SEED: 1, FOLD: 2, EPOCH: 12, train_loss: 0.00813676739690473\n",
      "SEED: 1 ,FOLD: 2, EPOCH: 12, valid_loss: 0.004629515415917222\n",
      "SEED: 1, FOLD: 2, EPOCH: 13, train_loss: 0.008145905628397659\n",
      "SEED: 1 ,FOLD: 2, EPOCH: 13, valid_loss: 0.004728805649882326\n",
      "SEED: 1, FOLD: 2, EPOCH: 14, train_loss: 0.008134115669825996\n",
      "SEED: 1 ,FOLD: 2, EPOCH: 14, valid_loss: 0.004694638075307012\n",
      "SEED: 1, FOLD: 2, EPOCH: 15, train_loss: 0.00811659121206282\n",
      "SEED: 1 ,FOLD: 2, EPOCH: 15, valid_loss: 0.004746807577948158\n",
      "SEED: 1, FOLD: 3, EPOCH: 0, train_loss: 0.5883504974882345\n",
      "SEED: 1 ,FOLD: 3, EPOCH: 0, valid_loss: 0.08177312119649006\n",
      "SEED: 1, FOLD: 3, EPOCH: 1, train_loss: 0.016536458521275908\n",
      "SEED: 1 ,FOLD: 3, EPOCH: 1, valid_loss: 0.0052260891534388065\n",
      "SEED: 1, FOLD: 3, EPOCH: 2, train_loss: 0.008505100988455722\n",
      "SEED: 1 ,FOLD: 3, EPOCH: 2, valid_loss: 0.004852741813430419\n",
      "SEED: 1, FOLD: 3, EPOCH: 3, train_loss: 0.008890473000654901\n",
      "SEED: 1 ,FOLD: 3, EPOCH: 3, valid_loss: 0.004648775292130617\n",
      "SEED: 1, FOLD: 3, EPOCH: 4, train_loss: 0.008233605997284522\n",
      "SEED: 1 ,FOLD: 3, EPOCH: 4, valid_loss: 0.004733799419437463\n",
      "SEED: 1, FOLD: 3, EPOCH: 5, train_loss: 0.008200440247467643\n",
      "SEED: 1 ,FOLD: 3, EPOCH: 5, valid_loss: 0.004715925064654305\n",
      "SEED: 1, FOLD: 3, EPOCH: 6, train_loss: 0.008180082335162002\n",
      "SEED: 1 ,FOLD: 3, EPOCH: 6, valid_loss: 0.004707266594498203\n",
      "SEED: 1, FOLD: 3, EPOCH: 7, train_loss: 0.008176328928990138\n",
      "SEED: 1 ,FOLD: 3, EPOCH: 7, valid_loss: 0.004622721381915303\n",
      "SEED: 1, FOLD: 3, EPOCH: 8, train_loss: 0.008153966615429602\n",
      "SEED: 1 ,FOLD: 3, EPOCH: 8, valid_loss: 0.00467995792412414\n",
      "SEED: 1, FOLD: 3, EPOCH: 9, train_loss: 0.008152715993944454\n",
      "SEED: 1 ,FOLD: 3, EPOCH: 9, valid_loss: 0.004724708242485156\n",
      "SEED: 1, FOLD: 3, EPOCH: 10, train_loss: 0.00813732056475773\n",
      "SEED: 1 ,FOLD: 3, EPOCH: 10, valid_loss: 0.004727863473817706\n",
      "SEED: 1, FOLD: 3, EPOCH: 11, train_loss: 0.00813315762836184\n",
      "SEED: 1 ,FOLD: 3, EPOCH: 11, valid_loss: 0.004736629565461324\n",
      "SEED: 1, FOLD: 3, EPOCH: 12, train_loss: 0.008132824919664779\n",
      "SEED: 1 ,FOLD: 3, EPOCH: 12, valid_loss: 0.004805846748730311\n",
      "SEED: 1, FOLD: 3, EPOCH: 13, train_loss: 0.008128692194618084\n",
      "SEED: 1 ,FOLD: 3, EPOCH: 13, valid_loss: 0.004670081875072076\n",
      "SEED: 1, FOLD: 3, EPOCH: 14, train_loss: 0.008107614999234274\n",
      "SEED: 1 ,FOLD: 3, EPOCH: 14, valid_loss: 0.004806198788663516\n",
      "SEED: 1, FOLD: 4, EPOCH: 0, train_loss: 0.5872755859147858\n",
      "SEED: 1 ,FOLD: 4, EPOCH: 0, valid_loss: 0.07759387733844611\n",
      "SEED: 1, FOLD: 4, EPOCH: 1, train_loss: 0.016688637661974173\n",
      "SEED: 1 ,FOLD: 4, EPOCH: 1, valid_loss: 0.0050052543385670735\n",
      "SEED: 1, FOLD: 4, EPOCH: 2, train_loss: 0.008465427030633027\n",
      "SEED: 1 ,FOLD: 4, EPOCH: 2, valid_loss: 0.004802055728550141\n",
      "SEED: 1, FOLD: 4, EPOCH: 3, train_loss: 0.00927251494942686\n",
      "SEED: 1 ,FOLD: 4, EPOCH: 3, valid_loss: 0.004630625444965867\n",
      "SEED: 1, FOLD: 4, EPOCH: 4, train_loss: 0.008328791657412375\n",
      "SEED: 1 ,FOLD: 4, EPOCH: 4, valid_loss: 0.005075351370928379\n",
      "SEED: 1, FOLD: 4, EPOCH: 5, train_loss: 0.008413158747292048\n",
      "SEED: 1 ,FOLD: 4, EPOCH: 5, valid_loss: 0.0046131971936959485\n",
      "SEED: 1, FOLD: 4, EPOCH: 6, train_loss: 0.00825181372488874\n",
      "SEED: 1 ,FOLD: 4, EPOCH: 6, valid_loss: 0.004647893007271565\n",
      "SEED: 1, FOLD: 4, EPOCH: 7, train_loss: 0.008210710123986812\n",
      "SEED: 1 ,FOLD: 4, EPOCH: 7, valid_loss: 0.004656667391268106\n",
      "SEED: 1, FOLD: 4, EPOCH: 8, train_loss: 0.008189727004768478\n",
      "SEED: 1 ,FOLD: 4, EPOCH: 8, valid_loss: 0.0047235129616008354\n",
      "SEED: 1, FOLD: 4, EPOCH: 9, train_loss: 0.00816794457795048\n",
      "SEED: 1 ,FOLD: 4, EPOCH: 9, valid_loss: 0.0047006829498479\n",
      "SEED: 1, FOLD: 4, EPOCH: 10, train_loss: 0.00815689897265386\n",
      "SEED: 1 ,FOLD: 4, EPOCH: 10, valid_loss: 0.004698712808581499\n",
      "SEED: 1, FOLD: 4, EPOCH: 11, train_loss: 0.00814936909119825\n",
      "SEED: 1 ,FOLD: 4, EPOCH: 11, valid_loss: 0.00470828777179122\n",
      "SEED: 1, FOLD: 4, EPOCH: 12, train_loss: 0.008134876434515053\n",
      "SEED: 1 ,FOLD: 4, EPOCH: 12, valid_loss: 0.004658980402522362\n",
      "SEED: 1, FOLD: 4, EPOCH: 13, train_loss: 0.008138039602419815\n",
      "SEED: 1 ,FOLD: 4, EPOCH: 13, valid_loss: 0.004713659819502097\n",
      "SEED: 1, FOLD: 4, EPOCH: 14, train_loss: 0.008129001985228545\n",
      "SEED: 1 ,FOLD: 4, EPOCH: 14, valid_loss: 0.004680961477928436\n",
      "SEED: 1, FOLD: 5, EPOCH: 0, train_loss: 0.588228028267622\n",
      "SEED: 1 ,FOLD: 5, EPOCH: 0, valid_loss: 0.07985427803718127\n",
      "SEED: 1, FOLD: 5, EPOCH: 1, train_loss: 0.015905788621386967\n",
      "SEED: 1 ,FOLD: 5, EPOCH: 1, valid_loss: 0.0053660465189470695\n",
      "SEED: 1, FOLD: 5, EPOCH: 2, train_loss: 0.008509798724254643\n",
      "SEED: 1 ,FOLD: 5, EPOCH: 2, valid_loss: 0.005156405019358947\n",
      "SEED: 1, FOLD: 5, EPOCH: 3, train_loss: 0.009496300808481267\n",
      "SEED: 1 ,FOLD: 5, EPOCH: 3, valid_loss: 0.017110884762727298\n",
      "SEED: 1, FOLD: 5, EPOCH: 4, train_loss: 0.008424237225758465\n",
      "SEED: 1 ,FOLD: 5, EPOCH: 4, valid_loss: 0.004611231529941926\n",
      "SEED: 1, FOLD: 5, EPOCH: 5, train_loss: 0.008246409927016578\n",
      "SEED: 1 ,FOLD: 5, EPOCH: 5, valid_loss: 0.004628726030484988\n",
      "SEED: 1, FOLD: 5, EPOCH: 6, train_loss: 0.008209974958083115\n",
      "SEED: 1 ,FOLD: 5, EPOCH: 6, valid_loss: 0.004636351771366138\n",
      "SEED: 1, FOLD: 5, EPOCH: 7, train_loss: 0.008191722313042831\n",
      "SEED: 1 ,FOLD: 5, EPOCH: 7, valid_loss: 0.004677447382933819\n",
      "SEED: 1, FOLD: 5, EPOCH: 8, train_loss: 0.008162107262005275\n",
      "SEED: 1 ,FOLD: 5, EPOCH: 8, valid_loss: 0.004686627823572893\n",
      "SEED: 1, FOLD: 5, EPOCH: 9, train_loss: 0.00816000866502322\n",
      "SEED: 1 ,FOLD: 5, EPOCH: 9, valid_loss: 0.004738033211861665\n",
      "SEED: 1, FOLD: 5, EPOCH: 10, train_loss: 0.008163671179145977\n",
      "SEED: 1 ,FOLD: 5, EPOCH: 10, valid_loss: 0.00474800133647827\n",
      "SEED: 1, FOLD: 5, EPOCH: 11, train_loss: 0.008135754816435479\n",
      "SEED: 1 ,FOLD: 5, EPOCH: 11, valid_loss: 0.00472151767462492\n",
      "SEED: 1, FOLD: 5, EPOCH: 12, train_loss: 0.008115103285810029\n",
      "SEED: 1 ,FOLD: 5, EPOCH: 12, valid_loss: 0.004766238817515282\n",
      "SEED: 1, FOLD: 5, EPOCH: 13, train_loss: 0.00810232715102265\n",
      "SEED: 1 ,FOLD: 5, EPOCH: 13, valid_loss: 0.004716687764112766\n",
      "SEED: 1, FOLD: 6, EPOCH: 0, train_loss: 0.5880332070629339\n",
      "SEED: 1 ,FOLD: 6, EPOCH: 0, valid_loss: 0.0846361850316708\n",
      "SEED: 1, FOLD: 6, EPOCH: 1, train_loss: 0.01622831169515848\n",
      "SEED: 1 ,FOLD: 6, EPOCH: 1, valid_loss: 0.005285630468279123\n",
      "SEED: 1, FOLD: 6, EPOCH: 2, train_loss: 0.00848758133203798\n",
      "SEED: 1 ,FOLD: 6, EPOCH: 2, valid_loss: 0.005038744053588464\n",
      "SEED: 1, FOLD: 6, EPOCH: 3, train_loss: 0.008518252842682036\n",
      "SEED: 1 ,FOLD: 6, EPOCH: 3, valid_loss: 0.005265854370708649\n",
      "SEED: 1, FOLD: 6, EPOCH: 4, train_loss: 0.008274363202823175\n",
      "SEED: 1 ,FOLD: 6, EPOCH: 4, valid_loss: 0.0049631361706325644\n",
      "SEED: 1, FOLD: 6, EPOCH: 5, train_loss: 0.008204403748685444\n",
      "SEED: 1 ,FOLD: 6, EPOCH: 5, valid_loss: 0.00545692859360805\n",
      "SEED: 1, FOLD: 6, EPOCH: 6, train_loss: 0.008185729466227663\n",
      "SEED: 1 ,FOLD: 6, EPOCH: 6, valid_loss: 0.004619416153918092\n",
      "SEED: 1, FOLD: 6, EPOCH: 7, train_loss: 0.008145936538238783\n",
      "SEED: 1 ,FOLD: 6, EPOCH: 7, valid_loss: 0.0048423869392046565\n",
      "SEED: 1, FOLD: 6, EPOCH: 8, train_loss: 0.00814881837750609\n",
      "SEED: 1 ,FOLD: 6, EPOCH: 8, valid_loss: 0.00478500104509294\n",
      "SEED: 1, FOLD: 6, EPOCH: 9, train_loss: 0.008133675840154692\n",
      "SEED: 1 ,FOLD: 6, EPOCH: 9, valid_loss: 0.004660419170529797\n",
      "SEED: 1, FOLD: 6, EPOCH: 10, train_loss: 0.00812857346357526\n",
      "SEED: 1 ,FOLD: 6, EPOCH: 10, valid_loss: 0.004818174880571091\n",
      "SEED: 1, FOLD: 6, EPOCH: 11, train_loss: 0.008121162476773197\n",
      "SEED: 1 ,FOLD: 6, EPOCH: 11, valid_loss: 0.004671122090747723\n",
      "SEED: 1, FOLD: 6, EPOCH: 12, train_loss: 0.008121110800955747\n",
      "SEED: 1 ,FOLD: 6, EPOCH: 12, valid_loss: 0.0047436709372470015\n",
      "SEED: 1, FOLD: 6, EPOCH: 13, train_loss: 0.00811790579904777\n",
      "SEED: 1 ,FOLD: 6, EPOCH: 13, valid_loss: 0.004751413541201215\n",
      "SEED: 1, FOLD: 6, EPOCH: 14, train_loss: 0.008124549904636838\n",
      "SEED: 1 ,FOLD: 6, EPOCH: 14, valid_loss: 0.004760848501553902\n",
      "SEED: 2, FOLD: 0, EPOCH: 0, train_loss: 0.5882123555686023\n",
      "SEED: 2 ,FOLD: 0, EPOCH: 0, valid_loss: 0.07396978025253002\n",
      "SEED: 2, FOLD: 0, EPOCH: 1, train_loss: 0.016531607255692016\n",
      "SEED: 2 ,FOLD: 0, EPOCH: 1, valid_loss: 0.005397749670709555\n",
      "SEED: 2, FOLD: 0, EPOCH: 2, train_loss: 0.008454076159191696\n",
      "SEED: 2 ,FOLD: 0, EPOCH: 2, valid_loss: 0.005065457501377051\n",
      "SEED: 2, FOLD: 0, EPOCH: 3, train_loss: 0.00858557632671216\n",
      "SEED: 2 ,FOLD: 0, EPOCH: 3, valid_loss: 0.005043461918830872\n",
      "SEED: 2, FOLD: 0, EPOCH: 4, train_loss: 0.00826586495984245\n",
      "SEED: 2 ,FOLD: 0, EPOCH: 4, valid_loss: 0.004782560102355022\n",
      "SEED: 2, FOLD: 0, EPOCH: 5, train_loss: 0.008358993970260426\n",
      "SEED: 2 ,FOLD: 0, EPOCH: 5, valid_loss: 0.0047616657371131275\n",
      "SEED: 2, FOLD: 0, EPOCH: 6, train_loss: 0.008269297361776635\n",
      "SEED: 2 ,FOLD: 0, EPOCH: 6, valid_loss: 0.004622832836153416\n",
      "SEED: 2, FOLD: 0, EPOCH: 7, train_loss: 0.008162158761626563\n",
      "SEED: 2 ,FOLD: 0, EPOCH: 7, valid_loss: 0.004592784143124635\n",
      "SEED: 2, FOLD: 0, EPOCH: 8, train_loss: 0.008141908008051483\n",
      "SEED: 2 ,FOLD: 0, EPOCH: 8, valid_loss: 0.004768907343252347\n",
      "SEED: 2, FOLD: 0, EPOCH: 9, train_loss: 0.008118161786901387\n",
      "SEED: 2 ,FOLD: 0, EPOCH: 9, valid_loss: 0.004842916646829018\n",
      "SEED: 2, FOLD: 0, EPOCH: 10, train_loss: 0.00812985806574894\n",
      "SEED: 2 ,FOLD: 0, EPOCH: 10, valid_loss: 0.004737656921721422\n",
      "SEED: 2, FOLD: 0, EPOCH: 11, train_loss: 0.008106454760087905\n",
      "SEED: 2 ,FOLD: 0, EPOCH: 11, valid_loss: 0.004752447792830376\n",
      "SEED: 2, FOLD: 0, EPOCH: 12, train_loss: 0.008112199447193259\n",
      "SEED: 2 ,FOLD: 0, EPOCH: 12, valid_loss: 0.004798206966370344\n",
      "SEED: 2, FOLD: 0, EPOCH: 13, train_loss: 0.008103430491393886\n",
      "SEED: 2 ,FOLD: 0, EPOCH: 13, valid_loss: 0.004831000947608397\n",
      "SEED: 2, FOLD: 0, EPOCH: 14, train_loss: 0.008092048697525988\n",
      "SEED: 2 ,FOLD: 0, EPOCH: 14, valid_loss: 0.004745533976417322\n",
      "SEED: 2, FOLD: 0, EPOCH: 15, train_loss: 0.008076089925157863\n",
      "SEED: 2 ,FOLD: 0, EPOCH: 15, valid_loss: 0.004803767678542779\n",
      "SEED: 2, FOLD: 0, EPOCH: 16, train_loss: 0.008058675785070739\n",
      "SEED: 2 ,FOLD: 0, EPOCH: 16, valid_loss: 0.004739363355418811\n",
      "SEED: 2, FOLD: 0, EPOCH: 17, train_loss: 0.008041730823901456\n",
      "SEED: 2 ,FOLD: 0, EPOCH: 17, valid_loss: 0.004760049032763793\n",
      "SEED: 2, FOLD: 1, EPOCH: 0, train_loss: 0.5887203865961449\n",
      "SEED: 2 ,FOLD: 1, EPOCH: 0, valid_loss: 0.07049782402240314\n",
      "SEED: 2, FOLD: 1, EPOCH: 1, train_loss: 0.016076537591682094\n",
      "SEED: 2 ,FOLD: 1, EPOCH: 1, valid_loss: 0.005074839107692242\n",
      "SEED: 2, FOLD: 1, EPOCH: 2, train_loss: 0.00839698572668272\n",
      "SEED: 2 ,FOLD: 1, EPOCH: 2, valid_loss: 0.004961096144352968\n",
      "SEED: 2, FOLD: 1, EPOCH: 3, train_loss: 0.008381138511656507\n",
      "SEED: 2 ,FOLD: 1, EPOCH: 3, valid_loss: 0.0378746480609362\n",
      "SEED: 2, FOLD: 1, EPOCH: 4, train_loss: 0.00831496249884367\n",
      "SEED: 2 ,FOLD: 1, EPOCH: 4, valid_loss: 0.004734405925354132\n",
      "SEED: 2, FOLD: 1, EPOCH: 5, train_loss: 0.008198506544923058\n",
      "SEED: 2 ,FOLD: 1, EPOCH: 5, valid_loss: 0.0047286565129000405\n",
      "SEED: 2, FOLD: 1, EPOCH: 6, train_loss: 0.008164281472312036\n",
      "SEED: 2 ,FOLD: 1, EPOCH: 6, valid_loss: 0.0045771579473064495\n",
      "SEED: 2, FOLD: 1, EPOCH: 7, train_loss: 0.008144513074610685\n",
      "SEED: 2 ,FOLD: 1, EPOCH: 7, valid_loss: 0.00472902929267058\n",
      "SEED: 2, FOLD: 1, EPOCH: 8, train_loss: 0.00813830247450922\n",
      "SEED: 2 ,FOLD: 1, EPOCH: 8, valid_loss: 0.004681166834556139\n",
      "SEED: 2, FOLD: 1, EPOCH: 9, train_loss: 0.008135499495610193\n",
      "SEED: 2 ,FOLD: 1, EPOCH: 9, valid_loss: 0.004617097966659527\n",
      "SEED: 2, FOLD: 1, EPOCH: 10, train_loss: 0.00814484605389471\n",
      "SEED: 2 ,FOLD: 1, EPOCH: 10, valid_loss: 0.0047159717561533815\n",
      "SEED: 2, FOLD: 1, EPOCH: 11, train_loss: 0.008143459295702947\n",
      "SEED: 2 ,FOLD: 1, EPOCH: 11, valid_loss: 0.004717510121946151\n",
      "SEED: 2, FOLD: 1, EPOCH: 12, train_loss: 0.008140622933923796\n",
      "SEED: 2 ,FOLD: 1, EPOCH: 12, valid_loss: 0.004717065200496178\n",
      "SEED: 2, FOLD: 1, EPOCH: 13, train_loss: 0.00813078964632508\n",
      "SEED: 2 ,FOLD: 1, EPOCH: 13, valid_loss: 0.004757115044272863\n",
      "SEED: 2, FOLD: 1, EPOCH: 14, train_loss: 0.008130683003597566\n",
      "SEED: 2 ,FOLD: 1, EPOCH: 14, valid_loss: 0.004705847384264836\n",
      "SEED: 2, FOLD: 1, EPOCH: 15, train_loss: 0.008129822518173102\n",
      "SEED: 2 ,FOLD: 1, EPOCH: 15, valid_loss: 0.0047233052408465976\n",
      "SEED: 2, FOLD: 2, EPOCH: 0, train_loss: 0.5887308424791774\n",
      "SEED: 2 ,FOLD: 2, EPOCH: 0, valid_loss: 0.08892447157548024\n",
      "SEED: 2, FOLD: 2, EPOCH: 1, train_loss: 0.016190621064271073\n",
      "SEED: 2 ,FOLD: 2, EPOCH: 1, valid_loss: 0.0053116361825512005\n",
      "SEED: 2, FOLD: 2, EPOCH: 2, train_loss: 0.008557602989713888\n",
      "SEED: 2 ,FOLD: 2, EPOCH: 2, valid_loss: 0.004932680632919073\n",
      "SEED: 2, FOLD: 2, EPOCH: 3, train_loss: 0.008474386800583955\n",
      "SEED: 2 ,FOLD: 2, EPOCH: 3, valid_loss: 0.00488868706788008\n",
      "SEED: 2, FOLD: 2, EPOCH: 4, train_loss: 0.009349865801128987\n",
      "SEED: 2 ,FOLD: 2, EPOCH: 4, valid_loss: 0.004938544598049843\n",
      "SEED: 2, FOLD: 2, EPOCH: 5, train_loss: 0.008263604363074174\n",
      "SEED: 2 ,FOLD: 2, EPOCH: 5, valid_loss: 0.004843045026063919\n",
      "SEED: 2, FOLD: 2, EPOCH: 6, train_loss: 0.008226643310155015\n",
      "SEED: 2 ,FOLD: 2, EPOCH: 6, valid_loss: 0.005389664214677536\n",
      "SEED: 2, FOLD: 2, EPOCH: 7, train_loss: 0.008183846067687546\n",
      "SEED: 2 ,FOLD: 2, EPOCH: 7, valid_loss: 0.00470904207143646\n",
      "SEED: 2, FOLD: 2, EPOCH: 8, train_loss: 0.008157913749282425\n",
      "SEED: 2 ,FOLD: 2, EPOCH: 8, valid_loss: 0.0047928765416145325\n",
      "SEED: 2, FOLD: 2, EPOCH: 9, train_loss: 0.008143696896228436\n",
      "SEED: 2 ,FOLD: 2, EPOCH: 9, valid_loss: 0.004755885698474371\n",
      "SEED: 2, FOLD: 2, EPOCH: 10, train_loss: 0.008148534286364511\n",
      "SEED: 2 ,FOLD: 2, EPOCH: 10, valid_loss: 0.0048352676945237014\n",
      "SEED: 2, FOLD: 2, EPOCH: 11, train_loss: 0.008129042227173576\n",
      "SEED: 2 ,FOLD: 2, EPOCH: 11, valid_loss: 0.004839144897862122\n",
      "SEED: 2, FOLD: 2, EPOCH: 12, train_loss: 0.00812047507890777\n",
      "SEED: 2 ,FOLD: 2, EPOCH: 12, valid_loss: 0.004717252073952785\n",
      "SEED: 2, FOLD: 2, EPOCH: 13, train_loss: 0.008124672058919395\n",
      "SEED: 2 ,FOLD: 2, EPOCH: 13, valid_loss: 0.004850204962377365\n",
      "SEED: 2, FOLD: 2, EPOCH: 14, train_loss: 0.008104007980610067\n",
      "SEED: 2 ,FOLD: 2, EPOCH: 14, valid_loss: 0.0047631862644965835\n",
      "SEED: 2, FOLD: 2, EPOCH: 15, train_loss: 0.008101083501871373\n",
      "SEED: 2 ,FOLD: 2, EPOCH: 15, valid_loss: 0.0048167721654933235\n",
      "SEED: 2, FOLD: 3, EPOCH: 0, train_loss: 0.5884391320114201\n",
      "SEED: 2 ,FOLD: 3, EPOCH: 0, valid_loss: 0.0738969834951254\n",
      "SEED: 2, FOLD: 3, EPOCH: 1, train_loss: 0.015808075754525693\n",
      "SEED: 2 ,FOLD: 3, EPOCH: 1, valid_loss: 0.005252836773601862\n",
      "SEED: 2, FOLD: 3, EPOCH: 2, train_loss: 0.008600749169803551\n",
      "SEED: 2 ,FOLD: 3, EPOCH: 2, valid_loss: 0.005198016906013856\n",
      "SEED: 2, FOLD: 3, EPOCH: 3, train_loss: 0.008383616553367796\n",
      "SEED: 2 ,FOLD: 3, EPOCH: 3, valid_loss: 0.3922957560190788\n",
      "SEED: 2, FOLD: 3, EPOCH: 4, train_loss: 0.009514802424992258\n",
      "SEED: 2 ,FOLD: 3, EPOCH: 4, valid_loss: 0.0048012038191350605\n",
      "SEED: 2, FOLD: 3, EPOCH: 5, train_loss: 0.008241989970760973\n",
      "SEED: 2 ,FOLD: 3, EPOCH: 5, valid_loss: 0.004845178363701472\n",
      "SEED: 2, FOLD: 3, EPOCH: 6, train_loss: 0.008222917742976869\n",
      "SEED: 2 ,FOLD: 3, EPOCH: 6, valid_loss: 0.004553802974092273\n",
      "SEED: 2, FOLD: 3, EPOCH: 7, train_loss: 0.008202725480235106\n",
      "SEED: 2 ,FOLD: 3, EPOCH: 7, valid_loss: 0.00462168066475827\n",
      "SEED: 2, FOLD: 3, EPOCH: 8, train_loss: 0.00818664235742511\n",
      "SEED: 2 ,FOLD: 3, EPOCH: 8, valid_loss: 0.004737843186236345\n",
      "SEED: 2, FOLD: 3, EPOCH: 9, train_loss: 0.008178853813709842\n",
      "SEED: 2 ,FOLD: 3, EPOCH: 9, valid_loss: 0.004772844509436534\n",
      "SEED: 2, FOLD: 3, EPOCH: 10, train_loss: 0.008151586154928885\n",
      "SEED: 2 ,FOLD: 3, EPOCH: 10, valid_loss: 0.004702613187523989\n",
      "SEED: 2, FOLD: 3, EPOCH: 11, train_loss: 0.008148096401143718\n",
      "SEED: 2 ,FOLD: 3, EPOCH: 11, valid_loss: 0.004781418479979038\n",
      "SEED: 2, FOLD: 3, EPOCH: 12, train_loss: 0.008118120708024583\n",
      "SEED: 2 ,FOLD: 3, EPOCH: 12, valid_loss: 0.004726622719317675\n",
      "SEED: 2, FOLD: 3, EPOCH: 13, train_loss: 0.008106694934335915\n",
      "SEED: 2 ,FOLD: 3, EPOCH: 13, valid_loss: 0.004731189208821609\n",
      "SEED: 2, FOLD: 3, EPOCH: 14, train_loss: 0.008102110675158532\n",
      "SEED: 2 ,FOLD: 3, EPOCH: 14, valid_loss: 0.004808254862347474\n",
      "SEED: 2, FOLD: 4, EPOCH: 0, train_loss: 0.5890097885921195\n",
      "SEED: 2 ,FOLD: 4, EPOCH: 0, valid_loss: 0.08313343215447205\n",
      "SEED: 2, FOLD: 4, EPOCH: 1, train_loss: 0.015957674445785785\n",
      "SEED: 2 ,FOLD: 4, EPOCH: 1, valid_loss: 0.005111124832183123\n",
      "SEED: 2, FOLD: 4, EPOCH: 2, train_loss: 0.00852028702738116\n",
      "SEED: 2 ,FOLD: 4, EPOCH: 2, valid_loss: 0.00478587349733481\n",
      "SEED: 2, FOLD: 4, EPOCH: 3, train_loss: 0.008613060467649956\n",
      "SEED: 2 ,FOLD: 4, EPOCH: 3, valid_loss: 0.0071070092873504525\n",
      "SEED: 2, FOLD: 4, EPOCH: 4, train_loss: 0.008295395260525716\n",
      "SEED: 2 ,FOLD: 4, EPOCH: 4, valid_loss: 0.005179637613204809\n",
      "SEED: 2, FOLD: 4, EPOCH: 5, train_loss: 0.008838822832331061\n",
      "SEED: 2 ,FOLD: 4, EPOCH: 5, valid_loss: 0.004559640378619616\n",
      "SEED: 2, FOLD: 4, EPOCH: 6, train_loss: 0.008237669112261486\n",
      "SEED: 2 ,FOLD: 4, EPOCH: 6, valid_loss: 0.004712736395259316\n",
      "SEED: 2, FOLD: 4, EPOCH: 7, train_loss: 0.008213011598264848\n",
      "SEED: 2 ,FOLD: 4, EPOCH: 7, valid_loss: 0.004553841158317832\n",
      "SEED: 2, FOLD: 4, EPOCH: 8, train_loss: 0.00820409059146973\n",
      "SEED: 2 ,FOLD: 4, EPOCH: 8, valid_loss: 0.0045939326071395324\n",
      "SEED: 2, FOLD: 4, EPOCH: 9, train_loss: 0.008177957510122576\n",
      "SEED: 2 ,FOLD: 4, EPOCH: 9, valid_loss: 0.004664411911597619\n",
      "SEED: 2, FOLD: 4, EPOCH: 10, train_loss: 0.008179527688519778\n",
      "SEED: 2 ,FOLD: 4, EPOCH: 10, valid_loss: 0.004782864017985188\n",
      "SEED: 2, FOLD: 4, EPOCH: 11, train_loss: 0.008159987697679852\n",
      "SEED: 2 ,FOLD: 4, EPOCH: 11, valid_loss: 0.004642020660237624\n",
      "SEED: 2, FOLD: 4, EPOCH: 12, train_loss: 0.008135660891295285\n",
      "SEED: 2 ,FOLD: 4, EPOCH: 12, valid_loss: 0.004669413740675037\n",
      "SEED: 2, FOLD: 4, EPOCH: 13, train_loss: 0.008142403320635896\n",
      "SEED: 2 ,FOLD: 4, EPOCH: 13, valid_loss: 0.004690925339953258\n",
      "SEED: 2, FOLD: 4, EPOCH: 14, train_loss: 0.008142475932333115\n",
      "SEED: 2 ,FOLD: 4, EPOCH: 14, valid_loss: 0.004711192853462238\n",
      "SEED: 2, FOLD: 5, EPOCH: 0, train_loss: 0.5890856084187288\n",
      "SEED: 2 ,FOLD: 5, EPOCH: 0, valid_loss: 0.08619757397816731\n",
      "SEED: 2, FOLD: 5, EPOCH: 1, train_loss: 0.016198860047183728\n",
      "SEED: 2 ,FOLD: 5, EPOCH: 1, valid_loss: 0.005240306902963381\n",
      "SEED: 2, FOLD: 5, EPOCH: 2, train_loss: 0.00854882420468572\n",
      "SEED: 2 ,FOLD: 5, EPOCH: 2, valid_loss: 0.004952415716476166\n",
      "SEED: 2, FOLD: 5, EPOCH: 3, train_loss: 0.011289688670453994\n",
      "SEED: 2 ,FOLD: 5, EPOCH: 3, valid_loss: 0.004829336745807758\n",
      "SEED: 2, FOLD: 5, EPOCH: 4, train_loss: 0.008323684435438466\n",
      "SEED: 2 ,FOLD: 5, EPOCH: 4, valid_loss: 0.004814416922342319\n",
      "SEED: 2, FOLD: 5, EPOCH: 5, train_loss: 0.008237026915004527\n",
      "SEED: 2 ,FOLD: 5, EPOCH: 5, valid_loss: 0.004852952507252877\n",
      "SEED: 2, FOLD: 5, EPOCH: 6, train_loss: 0.008219964305140279\n",
      "SEED: 2 ,FOLD: 5, EPOCH: 6, valid_loss: 0.004684529159791195\n",
      "SEED: 2, FOLD: 5, EPOCH: 7, train_loss: 0.0082012263403551\n",
      "SEED: 2 ,FOLD: 5, EPOCH: 7, valid_loss: 0.004710022360086441\n",
      "SEED: 2, FOLD: 5, EPOCH: 8, train_loss: 0.008195779311495859\n",
      "SEED: 2 ,FOLD: 5, EPOCH: 8, valid_loss: 0.004792700593288128\n",
      "SEED: 2, FOLD: 5, EPOCH: 9, train_loss: 0.008157504130960317\n",
      "SEED: 2 ,FOLD: 5, EPOCH: 9, valid_loss: 0.00474309828132391\n",
      "SEED: 2, FOLD: 5, EPOCH: 10, train_loss: 0.008137800479056063\n",
      "SEED: 2 ,FOLD: 5, EPOCH: 10, valid_loss: 0.004731100804817218\n",
      "SEED: 2, FOLD: 5, EPOCH: 11, train_loss: 0.008130010689382215\n",
      "SEED: 2 ,FOLD: 5, EPOCH: 11, valid_loss: 0.0047284619739422435\n",
      "SEED: 2, FOLD: 5, EPOCH: 12, train_loss: 0.008087964703303736\n",
      "SEED: 2 ,FOLD: 5, EPOCH: 12, valid_loss: 0.004744536601580107\n",
      "SEED: 2, FOLD: 5, EPOCH: 13, train_loss: 0.008077526106373282\n",
      "SEED: 2 ,FOLD: 5, EPOCH: 13, valid_loss: 0.004782589367375924\n",
      "SEED: 2, FOLD: 5, EPOCH: 14, train_loss: 0.008053089794073556\n",
      "SEED: 2 ,FOLD: 5, EPOCH: 14, valid_loss: 0.004706079713427103\n",
      "SEED: 2, FOLD: 5, EPOCH: 15, train_loss: 0.008027246882635597\n",
      "SEED: 2 ,FOLD: 5, EPOCH: 15, valid_loss: 0.004721379229942193\n",
      "SEED: 2, FOLD: 6, EPOCH: 0, train_loss: 0.5890321897695193\n",
      "SEED: 2 ,FOLD: 6, EPOCH: 0, valid_loss: 0.08883464622956055\n",
      "SEED: 2, FOLD: 6, EPOCH: 1, train_loss: 0.01613246779133742\n",
      "SEED: 2 ,FOLD: 6, EPOCH: 1, valid_loss: 0.005056631428977618\n",
      "SEED: 2, FOLD: 6, EPOCH: 2, train_loss: 0.008568516215057793\n",
      "SEED: 2 ,FOLD: 6, EPOCH: 2, valid_loss: 0.005103852187928099\n",
      "SEED: 2, FOLD: 6, EPOCH: 3, train_loss: 0.01042767393881002\n",
      "SEED: 2 ,FOLD: 6, EPOCH: 3, valid_loss: 0.004848422339329353\n",
      "SEED: 2, FOLD: 6, EPOCH: 4, train_loss: 0.008542409751916656\n",
      "SEED: 2 ,FOLD: 6, EPOCH: 4, valid_loss: 0.004497009150397319\n",
      "SEED: 2, FOLD: 6, EPOCH: 5, train_loss: 0.00828748826264731\n",
      "SEED: 2 ,FOLD: 6, EPOCH: 5, valid_loss: 0.004695884220731946\n",
      "SEED: 2, FOLD: 6, EPOCH: 6, train_loss: 0.00823269025548487\n",
      "SEED: 2 ,FOLD: 6, EPOCH: 6, valid_loss: 0.0046178233236647565\n",
      "SEED: 2, FOLD: 6, EPOCH: 7, train_loss: 0.008204483552961736\n",
      "SEED: 2 ,FOLD: 6, EPOCH: 7, valid_loss: 0.004539671568916394\n",
      "SEED: 2, FOLD: 6, EPOCH: 8, train_loss: 0.008204397676210548\n",
      "SEED: 2 ,FOLD: 6, EPOCH: 8, valid_loss: 0.0047317879238667395\n",
      "SEED: 2, FOLD: 6, EPOCH: 9, train_loss: 0.008190548953575056\n",
      "SEED: 2 ,FOLD: 6, EPOCH: 9, valid_loss: 0.004567015110156857\n",
      "SEED: 2, FOLD: 6, EPOCH: 10, train_loss: 0.008167358480293202\n",
      "SEED: 2 ,FOLD: 6, EPOCH: 10, valid_loss: 0.004545598523691297\n",
      "SEED: 2, FOLD: 6, EPOCH: 11, train_loss: 0.008155323250370251\n",
      "SEED: 2 ,FOLD: 6, EPOCH: 11, valid_loss: 0.004586337080511909\n",
      "SEED: 2, FOLD: 6, EPOCH: 12, train_loss: 0.008125789545325411\n",
      "SEED: 2 ,FOLD: 6, EPOCH: 12, valid_loss: 0.004609830892429902\n",
      "SEED: 2, FOLD: 6, EPOCH: 13, train_loss: 0.008123041206115001\n",
      "SEED: 2 ,FOLD: 6, EPOCH: 13, valid_loss: 0.004647789433455238\n",
      "SEED: 3, FOLD: 0, EPOCH: 0, train_loss: 0.5886439424310181\n",
      "SEED: 3 ,FOLD: 0, EPOCH: 0, valid_loss: 0.08088988008407447\n",
      "SEED: 3, FOLD: 0, EPOCH: 1, train_loss: 0.01655825642818535\n",
      "SEED: 3 ,FOLD: 0, EPOCH: 1, valid_loss: 0.005218668339344172\n",
      "SEED: 3, FOLD: 0, EPOCH: 2, train_loss: 0.008479747279370958\n",
      "SEED: 3 ,FOLD: 0, EPOCH: 2, valid_loss: 0.005110053202280631\n",
      "SEED: 3, FOLD: 0, EPOCH: 3, train_loss: 0.008761772036401404\n",
      "SEED: 3 ,FOLD: 0, EPOCH: 3, valid_loss: 0.004792658540491874\n",
      "SEED: 3, FOLD: 0, EPOCH: 4, train_loss: 0.008272608326798355\n",
      "SEED: 3 ,FOLD: 0, EPOCH: 4, valid_loss: 0.004804379593294401\n",
      "SEED: 3, FOLD: 0, EPOCH: 5, train_loss: 0.008205044467153179\n",
      "SEED: 3 ,FOLD: 0, EPOCH: 5, valid_loss: 0.0047612921334803104\n",
      "SEED: 3, FOLD: 0, EPOCH: 6, train_loss: 0.008188820513267372\n",
      "SEED: 3 ,FOLD: 0, EPOCH: 6, valid_loss: 0.004876690451055765\n",
      "SEED: 3, FOLD: 0, EPOCH: 7, train_loss: 0.00815974795133681\n",
      "SEED: 3 ,FOLD: 0, EPOCH: 7, valid_loss: 0.0047277707893114826\n",
      "SEED: 3, FOLD: 0, EPOCH: 8, train_loss: 0.00814595802787792\n",
      "SEED: 3 ,FOLD: 0, EPOCH: 8, valid_loss: 0.00468363448117788\n",
      "SEED: 3, FOLD: 0, EPOCH: 9, train_loss: 0.008126965579199227\n",
      "SEED: 3 ,FOLD: 0, EPOCH: 9, valid_loss: 0.004768602800770448\n",
      "SEED: 3, FOLD: 0, EPOCH: 10, train_loss: 0.00814021607181309\n",
      "SEED: 3 ,FOLD: 0, EPOCH: 10, valid_loss: 0.004883101926400111\n",
      "SEED: 3, FOLD: 0, EPOCH: 11, train_loss: 0.008136627591542295\n",
      "SEED: 3 ,FOLD: 0, EPOCH: 11, valid_loss: 0.004821552465168329\n",
      "SEED: 3, FOLD: 0, EPOCH: 12, train_loss: 0.008128606972309787\n",
      "SEED: 3 ,FOLD: 0, EPOCH: 12, valid_loss: 0.004682151349977805\n",
      "SEED: 3, FOLD: 0, EPOCH: 13, train_loss: 0.008129534462617861\n",
      "SEED: 3 ,FOLD: 0, EPOCH: 13, valid_loss: 0.004793287004129245\n",
      "SEED: 3, FOLD: 0, EPOCH: 14, train_loss: 0.008109450831103164\n",
      "SEED: 3 ,FOLD: 0, EPOCH: 14, valid_loss: 0.0046919061300846245\n",
      "SEED: 3, FOLD: 0, EPOCH: 15, train_loss: 0.0081127870676888\n",
      "SEED: 3 ,FOLD: 0, EPOCH: 15, valid_loss: 0.004749351252730076\n",
      "SEED: 3, FOLD: 0, EPOCH: 16, train_loss: 0.008089395101509383\n",
      "SEED: 3 ,FOLD: 0, EPOCH: 16, valid_loss: 0.00475439472267261\n",
      "SEED: 3, FOLD: 0, EPOCH: 17, train_loss: 0.008061892755732342\n",
      "SEED: 3 ,FOLD: 0, EPOCH: 17, valid_loss: 0.004754026886075735\n",
      "SEED: 3, FOLD: 1, EPOCH: 0, train_loss: 0.5874385268905679\n",
      "SEED: 3 ,FOLD: 1, EPOCH: 0, valid_loss: 0.09015825046942784\n",
      "SEED: 3, FOLD: 1, EPOCH: 1, train_loss: 0.015826425118673895\n",
      "SEED: 3 ,FOLD: 1, EPOCH: 1, valid_loss: 0.005271890809616217\n",
      "SEED: 3, FOLD: 1, EPOCH: 2, train_loss: 0.0090228024920499\n",
      "SEED: 3 ,FOLD: 1, EPOCH: 2, valid_loss: 0.0047114970377431465\n",
      "SEED: 3, FOLD: 1, EPOCH: 3, train_loss: 0.008303789944211775\n",
      "SEED: 3 ,FOLD: 1, EPOCH: 3, valid_loss: 0.005358294368936465\n",
      "SEED: 3, FOLD: 1, EPOCH: 4, train_loss: 0.008242957772234001\n",
      "SEED: 3 ,FOLD: 1, EPOCH: 4, valid_loss: 0.004929127243275826\n",
      "SEED: 3, FOLD: 1, EPOCH: 5, train_loss: 0.008175621507689357\n",
      "SEED: 3 ,FOLD: 1, EPOCH: 5, valid_loss: 0.008968368602486758\n",
      "SEED: 3, FOLD: 1, EPOCH: 6, train_loss: 0.008198072202503681\n",
      "SEED: 3 ,FOLD: 1, EPOCH: 6, valid_loss: 0.0046963498282891055\n",
      "SEED: 3, FOLD: 1, EPOCH: 7, train_loss: 0.008140255395020987\n",
      "SEED: 3 ,FOLD: 1, EPOCH: 7, valid_loss: 0.0046726626952966815\n",
      "SEED: 3, FOLD: 1, EPOCH: 8, train_loss: 0.008131940654051062\n",
      "SEED: 3 ,FOLD: 1, EPOCH: 8, valid_loss: 0.0047364734435597295\n",
      "SEED: 3, FOLD: 1, EPOCH: 9, train_loss: 0.008123530307784677\n",
      "SEED: 3 ,FOLD: 1, EPOCH: 9, valid_loss: 0.004704543872951315\n",
      "SEED: 3, FOLD: 1, EPOCH: 10, train_loss: 0.008126375806593412\n",
      "SEED: 3 ,FOLD: 1, EPOCH: 10, valid_loss: 0.004808841989590571\n",
      "SEED: 3, FOLD: 1, EPOCH: 11, train_loss: 0.008118144595190077\n",
      "SEED: 3 ,FOLD: 1, EPOCH: 11, valid_loss: 0.004830302598957832\n",
      "SEED: 3, FOLD: 1, EPOCH: 12, train_loss: 0.008124498102964985\n",
      "SEED: 3 ,FOLD: 1, EPOCH: 12, valid_loss: 0.004822548263921187\n",
      "SEED: 3, FOLD: 1, EPOCH: 13, train_loss: 0.008123551237371724\n",
      "SEED: 3 ,FOLD: 1, EPOCH: 13, valid_loss: 0.004783650000508015\n",
      "SEED: 3, FOLD: 1, EPOCH: 14, train_loss: 0.008115306351887615\n",
      "SEED: 3 ,FOLD: 1, EPOCH: 14, valid_loss: 0.004728173496774756\n",
      "SEED: 3, FOLD: 2, EPOCH: 0, train_loss: 0.5884924482654881\n",
      "SEED: 3 ,FOLD: 2, EPOCH: 0, valid_loss: 0.08326321324476829\n",
      "SEED: 3, FOLD: 2, EPOCH: 1, train_loss: 0.01619680638022318\n",
      "SEED: 3 ,FOLD: 2, EPOCH: 1, valid_loss: 0.005880712889708006\n",
      "SEED: 3, FOLD: 2, EPOCH: 2, train_loss: 0.008539819246711763\n",
      "SEED: 3 ,FOLD: 2, EPOCH: 2, valid_loss: 0.00492029687246451\n",
      "SEED: 3, FOLD: 2, EPOCH: 3, train_loss: 0.008438065283101153\n",
      "SEED: 3 ,FOLD: 2, EPOCH: 3, valid_loss: 0.00495975289063958\n",
      "SEED: 3, FOLD: 2, EPOCH: 4, train_loss: 0.008912188819030652\n",
      "SEED: 3 ,FOLD: 2, EPOCH: 4, valid_loss: 0.00472409063233779\n",
      "SEED: 3, FOLD: 2, EPOCH: 5, train_loss: 0.008281195473328635\n",
      "SEED: 3 ,FOLD: 2, EPOCH: 5, valid_loss: 0.0046451805660930965\n",
      "SEED: 3, FOLD: 2, EPOCH: 6, train_loss: 0.008208000717835652\n",
      "SEED: 3 ,FOLD: 2, EPOCH: 6, valid_loss: 0.004759996556318724\n",
      "SEED: 3, FOLD: 2, EPOCH: 7, train_loss: 0.008194515544518426\n",
      "SEED: 3 ,FOLD: 2, EPOCH: 7, valid_loss: 0.004806348373397038\n",
      "SEED: 3, FOLD: 2, EPOCH: 8, train_loss: 0.008178177918936755\n",
      "SEED: 3 ,FOLD: 2, EPOCH: 8, valid_loss: 0.004785644463621653\n",
      "SEED: 3, FOLD: 2, EPOCH: 9, train_loss: 0.008179847836947522\n",
      "SEED: 3 ,FOLD: 2, EPOCH: 9, valid_loss: 0.004800351300778298\n",
      "SEED: 3, FOLD: 2, EPOCH: 10, train_loss: 0.008180146942519256\n",
      "SEED: 3 ,FOLD: 2, EPOCH: 10, valid_loss: 0.004764656607921307\n",
      "SEED: 3, FOLD: 2, EPOCH: 11, train_loss: 0.008164033413285742\n",
      "SEED: 3 ,FOLD: 2, EPOCH: 11, valid_loss: 0.004754624902628935\n",
      "SEED: 3, FOLD: 2, EPOCH: 12, train_loss: 0.008164211327361094\n",
      "SEED: 3 ,FOLD: 2, EPOCH: 12, valid_loss: 0.004836252281585565\n",
      "SEED: 3, FOLD: 2, EPOCH: 13, train_loss: 0.00815519634508402\n",
      "SEED: 3 ,FOLD: 2, EPOCH: 13, valid_loss: 0.00475621076587301\n",
      "SEED: 3, FOLD: 2, EPOCH: 14, train_loss: 0.008127551192317057\n",
      "SEED: 3 ,FOLD: 2, EPOCH: 14, valid_loss: 0.004738566286575336\n",
      "SEED: 3, FOLD: 3, EPOCH: 0, train_loss: 0.5897539956746874\n",
      "SEED: 3 ,FOLD: 3, EPOCH: 0, valid_loss: 0.07749191900858513\n",
      "SEED: 3, FOLD: 3, EPOCH: 1, train_loss: 0.015972641095317697\n",
      "SEED: 3 ,FOLD: 3, EPOCH: 1, valid_loss: 0.005137327127158642\n",
      "SEED: 3, FOLD: 3, EPOCH: 2, train_loss: 0.008461907971650362\n",
      "SEED: 3 ,FOLD: 3, EPOCH: 2, valid_loss: 0.004806369829636354\n",
      "SEED: 3, FOLD: 3, EPOCH: 3, train_loss: 0.008351355658944798\n",
      "SEED: 3 ,FOLD: 3, EPOCH: 3, valid_loss: 0.008085697817687806\n",
      "SEED: 3, FOLD: 3, EPOCH: 4, train_loss: 0.00828080134139069\n",
      "SEED: 3 ,FOLD: 3, EPOCH: 4, valid_loss: 0.00478798860254196\n",
      "SEED: 3, FOLD: 3, EPOCH: 5, train_loss: 0.008496575177068243\n",
      "SEED: 3 ,FOLD: 3, EPOCH: 5, valid_loss: 0.004492572992323683\n",
      "SEED: 3, FOLD: 3, EPOCH: 6, train_loss: 0.008194446488208062\n",
      "SEED: 3 ,FOLD: 3, EPOCH: 6, valid_loss: 0.0045668156638454934\n",
      "SEED: 3, FOLD: 3, EPOCH: 7, train_loss: 0.008176238634749441\n",
      "SEED: 3 ,FOLD: 3, EPOCH: 7, valid_loss: 0.004729649768425868\n",
      "SEED: 3, FOLD: 3, EPOCH: 8, train_loss: 0.008182550522473615\n",
      "SEED: 3 ,FOLD: 3, EPOCH: 8, valid_loss: 0.004794157934016907\n",
      "SEED: 3, FOLD: 3, EPOCH: 9, train_loss: 0.0081689805988021\n",
      "SEED: 3 ,FOLD: 3, EPOCH: 9, valid_loss: 0.0046217833072520215\n",
      "SEED: 3, FOLD: 3, EPOCH: 10, train_loss: 0.008166562602225994\n",
      "SEED: 3 ,FOLD: 3, EPOCH: 10, valid_loss: 0.0046891333678594\n",
      "SEED: 3, FOLD: 3, EPOCH: 11, train_loss: 0.008164895006228943\n",
      "SEED: 3 ,FOLD: 3, EPOCH: 11, valid_loss: 0.004720776646326368\n",
      "SEED: 3, FOLD: 3, EPOCH: 12, train_loss: 0.008157771263221229\n",
      "SEED: 3 ,FOLD: 3, EPOCH: 12, valid_loss: 0.004673460802923028\n",
      "SEED: 3, FOLD: 3, EPOCH: 13, train_loss: 0.008161403201017025\n",
      "SEED: 3 ,FOLD: 3, EPOCH: 13, valid_loss: 0.004649893882182928\n",
      "SEED: 3, FOLD: 3, EPOCH: 14, train_loss: 0.008145219054878564\n",
      "SEED: 3 ,FOLD: 3, EPOCH: 14, valid_loss: 0.00457294937223196\n",
      "SEED: 3, FOLD: 4, EPOCH: 0, train_loss: 0.5879738959106239\n",
      "SEED: 3 ,FOLD: 4, EPOCH: 0, valid_loss: 0.0791398177926357\n",
      "SEED: 3, FOLD: 4, EPOCH: 1, train_loss: 0.016018867373114098\n",
      "SEED: 3 ,FOLD: 4, EPOCH: 1, valid_loss: 0.005365088832779572\n",
      "SEED: 3, FOLD: 4, EPOCH: 2, train_loss: 0.008480509296311316\n",
      "SEED: 3 ,FOLD: 4, EPOCH: 2, valid_loss: 0.005024307729819646\n",
      "SEED: 3, FOLD: 4, EPOCH: 3, train_loss: 0.00840953565076799\n",
      "SEED: 3 ,FOLD: 4, EPOCH: 3, valid_loss: 0.004879378391286502\n",
      "SEED: 3, FOLD: 4, EPOCH: 4, train_loss: 0.008431206293706153\n",
      "SEED: 3 ,FOLD: 4, EPOCH: 4, valid_loss: 0.004667579339673886\n",
      "SEED: 3, FOLD: 4, EPOCH: 5, train_loss: 0.008186258488913646\n",
      "SEED: 3 ,FOLD: 4, EPOCH: 5, valid_loss: 0.004752525737365851\n",
      "SEED: 3, FOLD: 4, EPOCH: 6, train_loss: 0.00816557412916744\n",
      "SEED: 3 ,FOLD: 4, EPOCH: 6, valid_loss: 0.004848116507323889\n",
      "SEED: 3, FOLD: 4, EPOCH: 7, train_loss: 0.008169369671393084\n",
      "SEED: 3 ,FOLD: 4, EPOCH: 7, valid_loss: 0.004788086677973087\n",
      "SEED: 3, FOLD: 4, EPOCH: 8, train_loss: 0.008159736945369356\n",
      "SEED: 3 ,FOLD: 4, EPOCH: 8, valid_loss: 0.004875024816451164\n",
      "SEED: 3, FOLD: 4, EPOCH: 9, train_loss: 0.008143888585068084\n",
      "SEED: 3 ,FOLD: 4, EPOCH: 9, valid_loss: 0.0048051874439876815\n",
      "SEED: 3, FOLD: 4, EPOCH: 10, train_loss: 0.008132233215193893\n",
      "SEED: 3 ,FOLD: 4, EPOCH: 10, valid_loss: 0.004811600746157078\n",
      "SEED: 3, FOLD: 4, EPOCH: 11, train_loss: 0.008129753134641293\n",
      "SEED: 3 ,FOLD: 4, EPOCH: 11, valid_loss: 0.0047704337093119435\n",
      "SEED: 3, FOLD: 4, EPOCH: 12, train_loss: 0.008120400025635152\n",
      "SEED: 3 ,FOLD: 4, EPOCH: 12, valid_loss: 0.004744917691613619\n",
      "SEED: 3, FOLD: 4, EPOCH: 13, train_loss: 0.008119281274392395\n",
      "SEED: 3 ,FOLD: 4, EPOCH: 13, valid_loss: 0.004774561617523432\n",
      "SEED: 3, FOLD: 4, EPOCH: 14, train_loss: 0.008112926973734755\n",
      "SEED: 3 ,FOLD: 4, EPOCH: 14, valid_loss: 0.0047568732944245525\n",
      "SEED: 3, FOLD: 5, EPOCH: 0, train_loss: 0.5905414832806265\n",
      "SEED: 3 ,FOLD: 5, EPOCH: 0, valid_loss: 0.09382616499295601\n",
      "SEED: 3, FOLD: 5, EPOCH: 1, train_loss: 0.01628160728393374\n",
      "SEED: 3 ,FOLD: 5, EPOCH: 1, valid_loss: 0.005128651964836395\n",
      "SEED: 3, FOLD: 5, EPOCH: 2, train_loss: 0.00848450415415337\n",
      "SEED: 3 ,FOLD: 5, EPOCH: 2, valid_loss: 0.005001919648538415\n",
      "SEED: 3, FOLD: 5, EPOCH: 3, train_loss: 0.009055727287321477\n",
      "SEED: 3 ,FOLD: 5, EPOCH: 3, valid_loss: 0.004848785125292265\n",
      "SEED: 3, FOLD: 5, EPOCH: 4, train_loss: 0.008279741999718386\n",
      "SEED: 3 ,FOLD: 5, EPOCH: 4, valid_loss: 0.005434803091562712\n",
      "SEED: 3, FOLD: 5, EPOCH: 5, train_loss: 0.00822095328790916\n",
      "SEED: 3 ,FOLD: 5, EPOCH: 5, valid_loss: 0.004919395567132876\n",
      "SEED: 3, FOLD: 5, EPOCH: 6, train_loss: 0.008249627948562438\n",
      "SEED: 3 ,FOLD: 5, EPOCH: 6, valid_loss: 0.004521964296985131\n",
      "SEED: 3, FOLD: 5, EPOCH: 7, train_loss: 0.008155108486126\n",
      "SEED: 3 ,FOLD: 5, EPOCH: 7, valid_loss: 0.004722462429736669\n",
      "SEED: 3, FOLD: 5, EPOCH: 8, train_loss: 0.008145866361824242\n",
      "SEED: 3 ,FOLD: 5, EPOCH: 8, valid_loss: 0.004687135143635364\n",
      "SEED: 3, FOLD: 5, EPOCH: 9, train_loss: 0.008130866996440533\n",
      "SEED: 3 ,FOLD: 5, EPOCH: 9, valid_loss: 0.004590829458230963\n",
      "SEED: 3, FOLD: 5, EPOCH: 10, train_loss: 0.008131182632987967\n",
      "SEED: 3 ,FOLD: 5, EPOCH: 10, valid_loss: 0.004677703944393075\n",
      "SEED: 3, FOLD: 5, EPOCH: 11, train_loss: 0.008123391433744817\n",
      "SEED: 3 ,FOLD: 5, EPOCH: 11, valid_loss: 0.004613670681674893\n",
      "SEED: 3, FOLD: 5, EPOCH: 12, train_loss: 0.00810945123383725\n",
      "SEED: 3 ,FOLD: 5, EPOCH: 12, valid_loss: 0.004656900580112751\n",
      "SEED: 3, FOLD: 5, EPOCH: 13, train_loss: 0.008110991861620868\n",
      "SEED: 3 ,FOLD: 5, EPOCH: 13, valid_loss: 0.004590819159952493\n",
      "SEED: 3, FOLD: 5, EPOCH: 14, train_loss: 0.008096892455894802\n",
      "SEED: 3 ,FOLD: 5, EPOCH: 14, valid_loss: 0.0045947691497321315\n",
      "SEED: 3, FOLD: 6, EPOCH: 0, train_loss: 0.5889155837531025\n",
      "SEED: 3 ,FOLD: 6, EPOCH: 0, valid_loss: 0.08037532980625446\n",
      "SEED: 3, FOLD: 6, EPOCH: 1, train_loss: 0.01598797823503815\n",
      "SEED: 3 ,FOLD: 6, EPOCH: 1, valid_loss: 0.00523608557593364\n",
      "SEED: 3, FOLD: 6, EPOCH: 2, train_loss: 0.008418319023189109\n",
      "SEED: 3 ,FOLD: 6, EPOCH: 2, valid_loss: 0.00578620471060276\n",
      "SEED: 3, FOLD: 6, EPOCH: 3, train_loss: 0.008895692346315529\n",
      "SEED: 3 ,FOLD: 6, EPOCH: 3, valid_loss: 0.004768135097737496\n",
      "SEED: 3, FOLD: 6, EPOCH: 4, train_loss: 0.008257538709487464\n",
      "SEED: 3 ,FOLD: 6, EPOCH: 4, valid_loss: 0.005149464015490734\n",
      "SEED: 3, FOLD: 6, EPOCH: 5, train_loss: 0.008214511738687352\n",
      "SEED: 3 ,FOLD: 6, EPOCH: 5, valid_loss: 0.004700722692247767\n",
      "SEED: 3, FOLD: 6, EPOCH: 6, train_loss: 0.008222161848853165\n",
      "SEED: 3 ,FOLD: 6, EPOCH: 6, valid_loss: 0.004630994087514969\n",
      "SEED: 3, FOLD: 6, EPOCH: 7, train_loss: 0.00815717934479786\n",
      "SEED: 3 ,FOLD: 6, EPOCH: 7, valid_loss: 0.004759020960101714\n",
      "SEED: 3, FOLD: 6, EPOCH: 8, train_loss: 0.008152147031364005\n",
      "SEED: 3 ,FOLD: 6, EPOCH: 8, valid_loss: 0.004766023825280941\n",
      "SEED: 3, FOLD: 6, EPOCH: 9, train_loss: 0.00813662788100742\n",
      "SEED: 3 ,FOLD: 6, EPOCH: 9, valid_loss: 0.0047258645511017395\n",
      "SEED: 3, FOLD: 6, EPOCH: 10, train_loss: 0.008133426528877101\n",
      "SEED: 3 ,FOLD: 6, EPOCH: 10, valid_loss: 0.004709445155010774\n",
      "SEED: 3, FOLD: 6, EPOCH: 11, train_loss: 0.008134571067686822\n",
      "SEED: 3 ,FOLD: 6, EPOCH: 11, valid_loss: 0.004732913051087122\n",
      "SEED: 3, FOLD: 6, EPOCH: 12, train_loss: 0.00812184579066328\n",
      "SEED: 3 ,FOLD: 6, EPOCH: 12, valid_loss: 0.004727985709905624\n",
      "SEED: 3, FOLD: 6, EPOCH: 13, train_loss: 0.008122051977930037\n",
      "SEED: 3 ,FOLD: 6, EPOCH: 13, valid_loss: 0.004741678694979503\n",
      "SEED: 3, FOLD: 6, EPOCH: 14, train_loss: 0.008120825671515352\n",
      "SEED: 3 ,FOLD: 6, EPOCH: 14, valid_loss: 0.004738783499655815\n",
      "SEED: 4, FOLD: 0, EPOCH: 0, train_loss: 0.5882292825829338\n",
      "SEED: 4 ,FOLD: 0, EPOCH: 0, valid_loss: 0.0736539954176316\n",
      "SEED: 4, FOLD: 0, EPOCH: 1, train_loss: 0.016171672670925792\n",
      "SEED: 4 ,FOLD: 0, EPOCH: 1, valid_loss: 0.005511585694666092\n",
      "SEED: 4, FOLD: 0, EPOCH: 2, train_loss: 0.009263471310102456\n",
      "SEED: 4 ,FOLD: 0, EPOCH: 2, valid_loss: 0.004708109136957388\n",
      "SEED: 4, FOLD: 0, EPOCH: 3, train_loss: 0.008373381538517974\n",
      "SEED: 4 ,FOLD: 0, EPOCH: 3, valid_loss: 0.004680583719164133\n",
      "SEED: 4, FOLD: 0, EPOCH: 4, train_loss: 0.008264189573457918\n",
      "SEED: 4 ,FOLD: 0, EPOCH: 4, valid_loss: 0.004955803832182517\n",
      "SEED: 4, FOLD: 0, EPOCH: 5, train_loss: 0.008231334935722721\n",
      "SEED: 4 ,FOLD: 0, EPOCH: 5, valid_loss: 0.006579110828729777\n",
      "SEED: 4, FOLD: 0, EPOCH: 6, train_loss: 0.008211227700214934\n",
      "SEED: 4 ,FOLD: 0, EPOCH: 6, valid_loss: 0.004827335584335602\n",
      "SEED: 4, FOLD: 0, EPOCH: 7, train_loss: 0.00816557081290395\n",
      "SEED: 4 ,FOLD: 0, EPOCH: 7, valid_loss: 0.004853169397952465\n",
      "SEED: 4, FOLD: 0, EPOCH: 8, train_loss: 0.00814536032644478\n",
      "SEED: 4 ,FOLD: 0, EPOCH: 8, valid_loss: 0.004709608602122619\n",
      "SEED: 4, FOLD: 0, EPOCH: 9, train_loss: 0.008148729631274537\n",
      "SEED: 4 ,FOLD: 0, EPOCH: 9, valid_loss: 0.004741794143158656\n",
      "SEED: 4, FOLD: 0, EPOCH: 10, train_loss: 0.008144070262190056\n",
      "SEED: 4 ,FOLD: 0, EPOCH: 10, valid_loss: 0.004767236228172596\n",
      "SEED: 4, FOLD: 0, EPOCH: 11, train_loss: 0.008142143701882782\n",
      "SEED: 4 ,FOLD: 0, EPOCH: 11, valid_loss: 0.004656604097153132\n",
      "SEED: 4, FOLD: 0, EPOCH: 12, train_loss: 0.008137511995595854\n",
      "SEED: 4 ,FOLD: 0, EPOCH: 12, valid_loss: 0.004762838630435558\n",
      "SEED: 4, FOLD: 0, EPOCH: 13, train_loss: 0.008125002873507706\n",
      "SEED: 4 ,FOLD: 0, EPOCH: 13, valid_loss: 0.00469956872984767\n",
      "SEED: 4, FOLD: 0, EPOCH: 14, train_loss: 0.008118459067584292\n",
      "SEED: 4 ,FOLD: 0, EPOCH: 14, valid_loss: 0.004763680796783704\n",
      "SEED: 4, FOLD: 1, EPOCH: 0, train_loss: 0.5892065027476968\n",
      "SEED: 4 ,FOLD: 1, EPOCH: 0, valid_loss: 0.08245350993596591\n",
      "SEED: 4, FOLD: 1, EPOCH: 1, train_loss: 0.01674748959674223\n",
      "SEED: 4 ,FOLD: 1, EPOCH: 1, valid_loss: 0.00524500051799875\n",
      "SEED: 4, FOLD: 1, EPOCH: 2, train_loss: 0.008476920381842836\n",
      "SEED: 4 ,FOLD: 1, EPOCH: 2, valid_loss: 0.004880678195219774\n",
      "SEED: 4, FOLD: 1, EPOCH: 3, train_loss: 0.008374869930432053\n",
      "SEED: 4 ,FOLD: 1, EPOCH: 3, valid_loss: 0.005537026705077061\n",
      "SEED: 4, FOLD: 1, EPOCH: 4, train_loss: 0.009042266498294633\n",
      "SEED: 4 ,FOLD: 1, EPOCH: 4, valid_loss: 0.004768926202534483\n",
      "SEED: 4, FOLD: 1, EPOCH: 5, train_loss: 0.008315701452964867\n",
      "SEED: 4 ,FOLD: 1, EPOCH: 5, valid_loss: 0.004734001802996947\n",
      "SEED: 4, FOLD: 1, EPOCH: 6, train_loss: 0.008227960533789686\n",
      "SEED: 4 ,FOLD: 1, EPOCH: 6, valid_loss: 0.0045828818021198875\n",
      "SEED: 4, FOLD: 1, EPOCH: 7, train_loss: 0.008218883788464842\n",
      "SEED: 4 ,FOLD: 1, EPOCH: 7, valid_loss: 0.0046278871416759034\n",
      "SEED: 4, FOLD: 1, EPOCH: 8, train_loss: 0.008186957540896695\n",
      "SEED: 4 ,FOLD: 1, EPOCH: 8, valid_loss: 0.004726845484513503\n",
      "SEED: 4, FOLD: 1, EPOCH: 9, train_loss: 0.008196078819801679\n",
      "SEED: 4 ,FOLD: 1, EPOCH: 9, valid_loss: 0.004723539325193717\n",
      "SEED: 4, FOLD: 1, EPOCH: 10, train_loss: 0.008186828137400586\n",
      "SEED: 4 ,FOLD: 1, EPOCH: 10, valid_loss: 0.004903196894492094\n",
      "SEED: 4, FOLD: 1, EPOCH: 11, train_loss: 0.00815883801771781\n",
      "SEED: 4 ,FOLD: 1, EPOCH: 11, valid_loss: 0.004788759021231761\n",
      "SEED: 4, FOLD: 1, EPOCH: 12, train_loss: 0.008154508034774178\n",
      "SEED: 4 ,FOLD: 1, EPOCH: 12, valid_loss: 0.004764228987579162\n",
      "SEED: 4, FOLD: 1, EPOCH: 13, train_loss: 0.00813317932566074\n",
      "SEED: 4 ,FOLD: 1, EPOCH: 13, valid_loss: 0.004755429028031917\n",
      "SEED: 4, FOLD: 1, EPOCH: 14, train_loss: 0.008124878384625993\n",
      "SEED: 4 ,FOLD: 1, EPOCH: 14, valid_loss: 0.004739002897762335\n",
      "SEED: 4, FOLD: 1, EPOCH: 15, train_loss: 0.008120870242851812\n",
      "SEED: 4 ,FOLD: 1, EPOCH: 15, valid_loss: 0.004734299682940428\n",
      "SEED: 4, FOLD: 2, EPOCH: 0, train_loss: 0.5892549438049665\n",
      "SEED: 4 ,FOLD: 2, EPOCH: 0, valid_loss: 0.08302359111033954\n",
      "SEED: 4, FOLD: 2, EPOCH: 1, train_loss: 0.016036351047758315\n",
      "SEED: 4 ,FOLD: 2, EPOCH: 1, valid_loss: 0.005392869647878867\n",
      "SEED: 4, FOLD: 2, EPOCH: 2, train_loss: 0.0084452599513571\n",
      "SEED: 4 ,FOLD: 2, EPOCH: 2, valid_loss: 0.005200062627689197\n",
      "SEED: 4, FOLD: 2, EPOCH: 3, train_loss: 0.008651379325955704\n",
      "SEED: 4 ,FOLD: 2, EPOCH: 3, valid_loss: 0.017494777933909342\n",
      "SEED: 4, FOLD: 2, EPOCH: 4, train_loss: 0.008282463078865328\n",
      "SEED: 4 ,FOLD: 2, EPOCH: 4, valid_loss: 0.0047751766486236686\n",
      "SEED: 4, FOLD: 2, EPOCH: 5, train_loss: 0.008189689028202682\n",
      "SEED: 4 ,FOLD: 2, EPOCH: 5, valid_loss: 0.004724560878597773\n",
      "SEED: 4, FOLD: 2, EPOCH: 6, train_loss: 0.008167092663210791\n",
      "SEED: 4 ,FOLD: 2, EPOCH: 6, valid_loss: 0.004643037503298659\n",
      "SEED: 4, FOLD: 2, EPOCH: 7, train_loss: 0.00815738649485079\n",
      "SEED: 4 ,FOLD: 2, EPOCH: 7, valid_loss: 0.005099975898002203\n",
      "SEED: 4, FOLD: 2, EPOCH: 8, train_loss: 0.008155795053352375\n",
      "SEED: 4 ,FOLD: 2, EPOCH: 8, valid_loss: 0.004643891758930225\n",
      "SEED: 4, FOLD: 2, EPOCH: 9, train_loss: 0.008141728042549378\n",
      "SEED: 4 ,FOLD: 2, EPOCH: 9, valid_loss: 0.004865311730939608\n",
      "SEED: 4, FOLD: 2, EPOCH: 10, train_loss: 0.00813373366395968\n",
      "SEED: 4 ,FOLD: 2, EPOCH: 10, valid_loss: 0.004753244933314049\n",
      "SEED: 4, FOLD: 2, EPOCH: 11, train_loss: 0.008125528781297239\n",
      "SEED: 4 ,FOLD: 2, EPOCH: 11, valid_loss: 0.0047765989931157\n",
      "SEED: 4, FOLD: 2, EPOCH: 12, train_loss: 0.00813552680601542\n",
      "SEED: 4 ,FOLD: 2, EPOCH: 12, valid_loss: 0.004786231125203462\n",
      "SEED: 4, FOLD: 2, EPOCH: 13, train_loss: 0.008128557429724449\n",
      "SEED: 4 ,FOLD: 2, EPOCH: 13, valid_loss: 0.0047619560590157145\n",
      "SEED: 4, FOLD: 2, EPOCH: 14, train_loss: 0.008124422930130685\n",
      "SEED: 4 ,FOLD: 2, EPOCH: 14, valid_loss: 0.004793410332730183\n",
      "SEED: 4, FOLD: 2, EPOCH: 15, train_loss: 0.008111049509229692\n",
      "SEED: 4 ,FOLD: 2, EPOCH: 15, valid_loss: 0.004766032923586094\n",
      "SEED: 4, FOLD: 3, EPOCH: 0, train_loss: 0.5906747569506233\n",
      "SEED: 4 ,FOLD: 3, EPOCH: 0, valid_loss: 0.07788311460843453\n",
      "SEED: 4, FOLD: 3, EPOCH: 1, train_loss: 0.01650496681120146\n",
      "SEED: 4 ,FOLD: 3, EPOCH: 1, valid_loss: 0.005266062234743283\n",
      "SEED: 4, FOLD: 3, EPOCH: 2, train_loss: 0.008434300128420865\n",
      "SEED: 4 ,FOLD: 3, EPOCH: 2, valid_loss: 0.00505448139917392\n",
      "SEED: 4, FOLD: 3, EPOCH: 3, train_loss: 0.008415035412621659\n",
      "SEED: 4 ,FOLD: 3, EPOCH: 3, valid_loss: 0.00644180067599966\n",
      "SEED: 4, FOLD: 3, EPOCH: 4, train_loss: 0.008503733605549142\n",
      "SEED: 4 ,FOLD: 3, EPOCH: 4, valid_loss: 0.004743759018870501\n",
      "SEED: 4, FOLD: 3, EPOCH: 5, train_loss: 0.008249604520765511\n",
      "SEED: 4 ,FOLD: 3, EPOCH: 5, valid_loss: 0.004802832594857766\n",
      "SEED: 4, FOLD: 3, EPOCH: 6, train_loss: 0.008171506414844378\n",
      "SEED: 4 ,FOLD: 3, EPOCH: 6, valid_loss: 0.004697525927510399\n",
      "SEED: 4, FOLD: 3, EPOCH: 7, train_loss: 0.008199258090777171\n",
      "SEED: 4 ,FOLD: 3, EPOCH: 7, valid_loss: 0.004754465789749072\n",
      "SEED: 4, FOLD: 3, EPOCH: 8, train_loss: 0.008154288060157685\n",
      "SEED: 4 ,FOLD: 3, EPOCH: 8, valid_loss: 0.004934405370687063\n",
      "SEED: 4, FOLD: 3, EPOCH: 9, train_loss: 0.008152562810259091\n",
      "SEED: 4 ,FOLD: 3, EPOCH: 9, valid_loss: 0.004863384358871441\n",
      "SEED: 4, FOLD: 3, EPOCH: 10, train_loss: 0.008155775734701672\n",
      "SEED: 4 ,FOLD: 3, EPOCH: 10, valid_loss: 0.004845944913820579\n",
      "SEED: 4, FOLD: 3, EPOCH: 11, train_loss: 0.008138041074916318\n",
      "SEED: 4 ,FOLD: 3, EPOCH: 11, valid_loss: 0.004876056614403541\n",
      "SEED: 4, FOLD: 3, EPOCH: 12, train_loss: 0.008125449109168069\n",
      "SEED: 4 ,FOLD: 3, EPOCH: 12, valid_loss: 0.004908549491889202\n",
      "SEED: 4, FOLD: 3, EPOCH: 13, train_loss: 0.008138647730890158\n",
      "SEED: 4 ,FOLD: 3, EPOCH: 13, valid_loss: 0.004848876251624181\n",
      "SEED: 4, FOLD: 3, EPOCH: 14, train_loss: 0.008122767567181506\n",
      "SEED: 4 ,FOLD: 3, EPOCH: 14, valid_loss: 0.004824114282830403\n",
      "SEED: 4, FOLD: 4, EPOCH: 0, train_loss: 0.5890447546702784\n",
      "SEED: 4 ,FOLD: 4, EPOCH: 0, valid_loss: 0.07740323875959103\n",
      "SEED: 4, FOLD: 4, EPOCH: 1, train_loss: 0.015841982327401638\n",
      "SEED: 4 ,FOLD: 4, EPOCH: 1, valid_loss: 0.005332163212677607\n",
      "SEED: 4, FOLD: 4, EPOCH: 2, train_loss: 0.008491801204965324\n",
      "SEED: 4 ,FOLD: 4, EPOCH: 2, valid_loss: 0.0051513168817529315\n",
      "SEED: 4, FOLD: 4, EPOCH: 3, train_loss: 0.008972835978744802\n",
      "SEED: 4 ,FOLD: 4, EPOCH: 3, valid_loss: 0.007043075210486467\n",
      "SEED: 4, FOLD: 4, EPOCH: 4, train_loss: 0.008352835687833864\n",
      "SEED: 4 ,FOLD: 4, EPOCH: 4, valid_loss: 0.0045856157890879195\n",
      "SEED: 4, FOLD: 4, EPOCH: 5, train_loss: 0.008227271751525838\n",
      "SEED: 4 ,FOLD: 4, EPOCH: 5, valid_loss: 0.004781930170093591\n",
      "SEED: 4, FOLD: 4, EPOCH: 6, train_loss: 0.008206925153530933\n",
      "SEED: 4 ,FOLD: 4, EPOCH: 6, valid_loss: 0.004642646079166577\n",
      "SEED: 4, FOLD: 4, EPOCH: 7, train_loss: 0.00817538074192566\n",
      "SEED: 4 ,FOLD: 4, EPOCH: 7, valid_loss: 0.004638460822976553\n",
      "SEED: 4, FOLD: 4, EPOCH: 8, train_loss: 0.008164708137612891\n",
      "SEED: 4 ,FOLD: 4, EPOCH: 8, valid_loss: 0.00472293052679071\n",
      "SEED: 4, FOLD: 4, EPOCH: 9, train_loss: 0.008152598955643338\n",
      "SEED: 4 ,FOLD: 4, EPOCH: 9, valid_loss: 0.004647417996938412\n",
      "SEED: 4, FOLD: 4, EPOCH: 10, train_loss: 0.008151206534003487\n",
      "SEED: 4 ,FOLD: 4, EPOCH: 10, valid_loss: 0.004722066438541963\n",
      "SEED: 4, FOLD: 4, EPOCH: 11, train_loss: 0.008148024972477878\n",
      "SEED: 4 ,FOLD: 4, EPOCH: 11, valid_loss: 0.004654879323565043\n",
      "SEED: 4, FOLD: 4, EPOCH: 12, train_loss: 0.008147348857459586\n",
      "SEED: 4 ,FOLD: 4, EPOCH: 12, valid_loss: 0.004661018387056314\n",
      "SEED: 4, FOLD: 4, EPOCH: 13, train_loss: 0.008138963103143347\n",
      "SEED: 4 ,FOLD: 4, EPOCH: 13, valid_loss: 0.004701697733253241\n",
      "SEED: 4, FOLD: 5, EPOCH: 0, train_loss: 0.5908757295157459\n",
      "SEED: 4 ,FOLD: 5, EPOCH: 0, valid_loss: 0.08188413484738423\n",
      "SEED: 4, FOLD: 5, EPOCH: 1, train_loss: 0.016346962354775216\n",
      "SEED: 4 ,FOLD: 5, EPOCH: 1, valid_loss: 0.005202135106978508\n",
      "SEED: 4, FOLD: 5, EPOCH: 2, train_loss: 0.008467242228672714\n",
      "SEED: 4 ,FOLD: 5, EPOCH: 2, valid_loss: 0.005025669574164427\n",
      "SEED: 4, FOLD: 5, EPOCH: 3, train_loss: 0.00895135074451163\n",
      "SEED: 4 ,FOLD: 5, EPOCH: 3, valid_loss: 0.11692267025892551\n",
      "SEED: 4, FOLD: 5, EPOCH: 4, train_loss: 0.009160716269114936\n",
      "SEED: 4 ,FOLD: 5, EPOCH: 4, valid_loss: 0.004857023461506917\n",
      "SEED: 4, FOLD: 5, EPOCH: 5, train_loss: 0.00831993914058281\n",
      "SEED: 4 ,FOLD: 5, EPOCH: 5, valid_loss: 0.004546006639989523\n",
      "SEED: 4, FOLD: 5, EPOCH: 6, train_loss: 0.008232063412464954\n",
      "SEED: 4 ,FOLD: 5, EPOCH: 6, valid_loss: 0.004779945808247878\n",
      "SEED: 4, FOLD: 5, EPOCH: 7, train_loss: 0.008205446899188933\n",
      "SEED: 4 ,FOLD: 5, EPOCH: 7, valid_loss: 0.004665300178413208\n",
      "SEED: 4, FOLD: 5, EPOCH: 8, train_loss: 0.008194649195600603\n",
      "SEED: 4 ,FOLD: 5, EPOCH: 8, valid_loss: 0.004612672214324658\n",
      "SEED: 4, FOLD: 5, EPOCH: 9, train_loss: 0.008172638160554139\n",
      "SEED: 4 ,FOLD: 5, EPOCH: 9, valid_loss: 0.004704195397117963\n",
      "SEED: 4, FOLD: 5, EPOCH: 10, train_loss: 0.008156098740024341\n",
      "SEED: 4 ,FOLD: 5, EPOCH: 10, valid_loss: 0.004688401957257436\n",
      "SEED: 4, FOLD: 5, EPOCH: 11, train_loss: 0.008149946133631307\n",
      "SEED: 4 ,FOLD: 5, EPOCH: 11, valid_loss: 0.004656883422285318\n",
      "SEED: 4, FOLD: 5, EPOCH: 12, train_loss: 0.008142802128064874\n",
      "SEED: 4 ,FOLD: 5, EPOCH: 12, valid_loss: 0.004668826165680702\n",
      "SEED: 4, FOLD: 5, EPOCH: 13, train_loss: 0.008128165210773414\n",
      "SEED: 4 ,FOLD: 5, EPOCH: 13, valid_loss: 0.004648653109772847\n",
      "SEED: 4, FOLD: 5, EPOCH: 14, train_loss: 0.008117120480164886\n",
      "SEED: 4 ,FOLD: 5, EPOCH: 14, valid_loss: 0.004764616346130004\n",
      "SEED: 4, FOLD: 6, EPOCH: 0, train_loss: 0.5888314010525072\n",
      "SEED: 4 ,FOLD: 6, EPOCH: 0, valid_loss: 0.08394500957085536\n",
      "SEED: 4, FOLD: 6, EPOCH: 1, train_loss: 0.01595154111399441\n",
      "SEED: 4 ,FOLD: 6, EPOCH: 1, valid_loss: 0.0056730806111143185\n",
      "SEED: 4, FOLD: 6, EPOCH: 2, train_loss: 0.008495943985778737\n",
      "SEED: 4 ,FOLD: 6, EPOCH: 2, valid_loss: 0.005050103789052138\n",
      "SEED: 4, FOLD: 6, EPOCH: 3, train_loss: 0.008363536716363317\n",
      "SEED: 4 ,FOLD: 6, EPOCH: 3, valid_loss: 0.00554381303775769\n",
      "SEED: 4, FOLD: 6, EPOCH: 4, train_loss: 0.008505291613825672\n",
      "SEED: 4 ,FOLD: 6, EPOCH: 4, valid_loss: 0.004538399525559866\n",
      "SEED: 4, FOLD: 6, EPOCH: 5, train_loss: 0.008191093789866648\n",
      "SEED: 4 ,FOLD: 6, EPOCH: 5, valid_loss: 0.0046601113146887375\n",
      "SEED: 4, FOLD: 6, EPOCH: 6, train_loss: 0.00817160908057279\n",
      "SEED: 4 ,FOLD: 6, EPOCH: 6, valid_loss: 0.004765532122781644\n",
      "SEED: 4, FOLD: 6, EPOCH: 7, train_loss: 0.008148895998208507\n",
      "SEED: 4 ,FOLD: 6, EPOCH: 7, valid_loss: 0.004833731442116774\n",
      "SEED: 4, FOLD: 6, EPOCH: 8, train_loss: 0.008143832076441598\n",
      "SEED: 4 ,FOLD: 6, EPOCH: 8, valid_loss: 0.004812387212251241\n",
      "SEED: 4, FOLD: 6, EPOCH: 9, train_loss: 0.008134417292485768\n",
      "SEED: 4 ,FOLD: 6, EPOCH: 9, valid_loss: 0.0046295424421819355\n",
      "SEED: 4, FOLD: 6, EPOCH: 10, train_loss: 0.00812796111268973\n",
      "SEED: 4 ,FOLD: 6, EPOCH: 10, valid_loss: 0.004632110743281933\n",
      "SEED: 4, FOLD: 6, EPOCH: 11, train_loss: 0.00812637322657817\n",
      "SEED: 4 ,FOLD: 6, EPOCH: 11, valid_loss: 0.004671083118479986\n",
      "SEED: 4, FOLD: 6, EPOCH: 12, train_loss: 0.00813508894596551\n",
      "SEED: 4 ,FOLD: 6, EPOCH: 12, valid_loss: 0.004656949582008215\n",
      "SEED: 4, FOLD: 6, EPOCH: 13, train_loss: 0.008119597426942876\n",
      "SEED: 4 ,FOLD: 6, EPOCH: 13, valid_loss: 0.004697765546062818\n",
      "SEED: 5, FOLD: 0, EPOCH: 0, train_loss: 0.5892164402112767\n",
      "SEED: 5 ,FOLD: 0, EPOCH: 0, valid_loss: 0.08315645731412448\n",
      "SEED: 5, FOLD: 0, EPOCH: 1, train_loss: 0.016440301862973218\n",
      "SEED: 5 ,FOLD: 0, EPOCH: 1, valid_loss: 0.0050647447530466775\n",
      "SEED: 5, FOLD: 0, EPOCH: 2, train_loss: 0.008445881596590215\n",
      "SEED: 5 ,FOLD: 0, EPOCH: 2, valid_loss: 0.004909690397863205\n",
      "SEED: 5, FOLD: 0, EPOCH: 3, train_loss: 0.008381838199204288\n",
      "SEED: 5 ,FOLD: 0, EPOCH: 3, valid_loss: 0.005302898120135069\n",
      "SEED: 5, FOLD: 0, EPOCH: 4, train_loss: 0.008342505489299828\n",
      "SEED: 5 ,FOLD: 0, EPOCH: 4, valid_loss: 0.0047455563281591125\n",
      "SEED: 5, FOLD: 0, EPOCH: 5, train_loss: 0.008205771861547554\n",
      "SEED: 5 ,FOLD: 0, EPOCH: 5, valid_loss: 0.004873793142346235\n",
      "SEED: 5, FOLD: 0, EPOCH: 6, train_loss: 0.008191617482618705\n",
      "SEED: 5 ,FOLD: 0, EPOCH: 6, valid_loss: 0.004532515805644484\n",
      "SEED: 5, FOLD: 0, EPOCH: 7, train_loss: 0.00815456303314784\n",
      "SEED: 5 ,FOLD: 0, EPOCH: 7, valid_loss: 0.00474063024068108\n",
      "SEED: 5, FOLD: 0, EPOCH: 8, train_loss: 0.00814997120382818\n",
      "SEED: 5 ,FOLD: 0, EPOCH: 8, valid_loss: 0.004610396957454773\n",
      "SEED: 5, FOLD: 0, EPOCH: 9, train_loss: 0.008133832302347228\n",
      "SEED: 5 ,FOLD: 0, EPOCH: 9, valid_loss: 0.004650655256297726\n",
      "SEED: 5, FOLD: 0, EPOCH: 10, train_loss: 0.008128952826499133\n",
      "SEED: 5 ,FOLD: 0, EPOCH: 10, valid_loss: 0.004725663528706019\n",
      "SEED: 5, FOLD: 0, EPOCH: 11, train_loss: 0.008124130859820021\n",
      "SEED: 5 ,FOLD: 0, EPOCH: 11, valid_loss: 0.004745163363762773\n",
      "SEED: 5, FOLD: 0, EPOCH: 12, train_loss: 0.008137025593503102\n",
      "SEED: 5 ,FOLD: 0, EPOCH: 12, valid_loss: 0.004694581640741\n",
      "SEED: 5, FOLD: 0, EPOCH: 13, train_loss: 0.00815282020768201\n",
      "SEED: 5 ,FOLD: 0, EPOCH: 13, valid_loss: 0.004794661922810169\n",
      "SEED: 5, FOLD: 0, EPOCH: 14, train_loss: 0.008136404451687593\n",
      "SEED: 5 ,FOLD: 0, EPOCH: 14, valid_loss: 0.004709160385223536\n",
      "SEED: 5, FOLD: 1, EPOCH: 0, train_loss: 0.5885377660192348\n",
      "SEED: 5 ,FOLD: 1, EPOCH: 0, valid_loss: 0.08801412066588035\n",
      "SEED: 5, FOLD: 1, EPOCH: 1, train_loss: 0.016057731420103763\n",
      "SEED: 5 ,FOLD: 1, EPOCH: 1, valid_loss: 0.005317510642970984\n",
      "SEED: 5, FOLD: 1, EPOCH: 2, train_loss: 0.008482330485020537\n",
      "SEED: 5 ,FOLD: 1, EPOCH: 2, valid_loss: 0.004830392722326975\n",
      "SEED: 5, FOLD: 1, EPOCH: 3, train_loss: 0.00833893082154965\n",
      "SEED: 5 ,FOLD: 1, EPOCH: 3, valid_loss: 0.015527593330121957\n",
      "SEED: 5, FOLD: 1, EPOCH: 4, train_loss: 0.008814721072495386\n",
      "SEED: 5 ,FOLD: 1, EPOCH: 4, valid_loss: 0.004749169143346639\n",
      "SEED: 5, FOLD: 1, EPOCH: 5, train_loss: 0.008267997317267833\n",
      "SEED: 5 ,FOLD: 1, EPOCH: 5, valid_loss: 0.004725012641686659\n",
      "SEED: 5, FOLD: 1, EPOCH: 6, train_loss: 0.008219929575618054\n",
      "SEED: 5 ,FOLD: 1, EPOCH: 6, valid_loss: 0.0047151767827857\n",
      "SEED: 5, FOLD: 1, EPOCH: 7, train_loss: 0.008173237145702178\n",
      "SEED: 5 ,FOLD: 1, EPOCH: 7, valid_loss: 0.004865555146422524\n",
      "SEED: 5, FOLD: 1, EPOCH: 8, train_loss: 0.008177321309827873\n",
      "SEED: 5 ,FOLD: 1, EPOCH: 8, valid_loss: 0.00479663940719687\n",
      "SEED: 5, FOLD: 1, EPOCH: 9, train_loss: 0.008179517425093296\n",
      "SEED: 5 ,FOLD: 1, EPOCH: 9, valid_loss: 0.004872453542282948\n",
      "SEED: 5, FOLD: 1, EPOCH: 10, train_loss: 0.008160598456507196\n",
      "SEED: 5 ,FOLD: 1, EPOCH: 10, valid_loss: 0.004699475024468624\n",
      "SEED: 5, FOLD: 1, EPOCH: 11, train_loss: 0.008161251703780648\n",
      "SEED: 5 ,FOLD: 1, EPOCH: 11, valid_loss: 0.0047140091371077756\n",
      "SEED: 5, FOLD: 1, EPOCH: 12, train_loss: 0.008154145913903375\n",
      "SEED: 5 ,FOLD: 1, EPOCH: 12, valid_loss: 0.004649595393297764\n",
      "SEED: 5, FOLD: 1, EPOCH: 13, train_loss: 0.00812616986474274\n",
      "SEED: 5 ,FOLD: 1, EPOCH: 13, valid_loss: 0.004705082553510482\n",
      "SEED: 5, FOLD: 1, EPOCH: 14, train_loss: 0.008132044496518132\n",
      "SEED: 5 ,FOLD: 1, EPOCH: 14, valid_loss: 0.004727477834631617\n",
      "SEED: 5, FOLD: 1, EPOCH: 15, train_loss: 0.00812832116325562\n",
      "SEED: 5 ,FOLD: 1, EPOCH: 15, valid_loss: 0.004701664760852089\n",
      "SEED: 5, FOLD: 1, EPOCH: 16, train_loss: 0.008108871303045669\n",
      "SEED: 5 ,FOLD: 1, EPOCH: 16, valid_loss: 0.004678964238757124\n",
      "SEED: 5, FOLD: 1, EPOCH: 17, train_loss: 0.008088834973907954\n",
      "SEED: 5 ,FOLD: 1, EPOCH: 17, valid_loss: 0.004719487015301218\n",
      "SEED: 5, FOLD: 2, EPOCH: 0, train_loss: 0.5892063013806537\n",
      "SEED: 5 ,FOLD: 2, EPOCH: 0, valid_loss: 0.0798058406664775\n",
      "SEED: 5, FOLD: 2, EPOCH: 1, train_loss: 0.016119229254891742\n",
      "SEED: 5 ,FOLD: 2, EPOCH: 1, valid_loss: 0.005551946707642996\n",
      "SEED: 5, FOLD: 2, EPOCH: 2, train_loss: 0.008463873194429922\n",
      "SEED: 5 ,FOLD: 2, EPOCH: 2, valid_loss: 0.005270466208457947\n",
      "SEED: 5, FOLD: 2, EPOCH: 3, train_loss: 0.01146366902803247\n",
      "SEED: 5 ,FOLD: 2, EPOCH: 3, valid_loss: 0.004870664793998003\n",
      "SEED: 5, FOLD: 2, EPOCH: 4, train_loss: 0.008286597754655255\n",
      "SEED: 5 ,FOLD: 2, EPOCH: 4, valid_loss: 0.0049547175876796246\n",
      "SEED: 5, FOLD: 2, EPOCH: 5, train_loss: 0.008259130792843329\n",
      "SEED: 5 ,FOLD: 2, EPOCH: 5, valid_loss: 0.0048787631452656705\n",
      "SEED: 5, FOLD: 2, EPOCH: 6, train_loss: 0.008254629157080844\n",
      "SEED: 5 ,FOLD: 2, EPOCH: 6, valid_loss: 0.004824302051789486\n",
      "SEED: 5, FOLD: 2, EPOCH: 7, train_loss: 0.008202954119927174\n",
      "SEED: 5 ,FOLD: 2, EPOCH: 7, valid_loss: 0.004838947206735611\n",
      "SEED: 5, FOLD: 2, EPOCH: 8, train_loss: 0.008193986465197962\n",
      "SEED: 5 ,FOLD: 2, EPOCH: 8, valid_loss: 0.004805698131139462\n",
      "SEED: 5, FOLD: 2, EPOCH: 9, train_loss: 0.008186710029337052\n",
      "SEED: 5 ,FOLD: 2, EPOCH: 9, valid_loss: 0.004881521651091484\n",
      "SEED: 5, FOLD: 2, EPOCH: 10, train_loss: 0.00816775463848702\n",
      "SEED: 5 ,FOLD: 2, EPOCH: 10, valid_loss: 0.0049266060097859455\n",
      "SEED: 5, FOLD: 2, EPOCH: 11, train_loss: 0.00814331352484186\n",
      "SEED: 5 ,FOLD: 2, EPOCH: 11, valid_loss: 0.004874793884272759\n",
      "SEED: 5, FOLD: 2, EPOCH: 12, train_loss: 0.008131694715671442\n",
      "SEED: 5 ,FOLD: 2, EPOCH: 12, valid_loss: 0.004779955694595208\n",
      "SEED: 5, FOLD: 2, EPOCH: 13, train_loss: 0.00810803978301182\n",
      "SEED: 5 ,FOLD: 2, EPOCH: 13, valid_loss: 0.0047935464491064735\n",
      "SEED: 5, FOLD: 2, EPOCH: 14, train_loss: 0.00808526884537895\n",
      "SEED: 5 ,FOLD: 2, EPOCH: 14, valid_loss: 0.0047658056092376895\n",
      "SEED: 5, FOLD: 2, EPOCH: 15, train_loss: 0.008060961817013653\n",
      "SEED: 5 ,FOLD: 2, EPOCH: 15, valid_loss: 0.004797204719999662\n",
      "SEED: 5, FOLD: 2, EPOCH: 16, train_loss: 0.008026050737228346\n",
      "SEED: 5 ,FOLD: 2, EPOCH: 16, valid_loss: 0.004759075299191933\n",
      "SEED: 5, FOLD: 2, EPOCH: 17, train_loss: 0.008005062306954249\n",
      "SEED: 5 ,FOLD: 2, EPOCH: 17, valid_loss: 0.004716929442320879\n",
      "SEED: 5, FOLD: 2, EPOCH: 18, train_loss: 0.007971972969637529\n",
      "SEED: 5 ,FOLD: 2, EPOCH: 18, valid_loss: 0.0046792751751267\n",
      "SEED: 5, FOLD: 2, EPOCH: 19, train_loss: 0.007930816075689084\n",
      "SEED: 5 ,FOLD: 2, EPOCH: 19, valid_loss: 0.004721238242032437\n",
      "SEED: 5, FOLD: 2, EPOCH: 20, train_loss: 0.007871876829429655\n",
      "SEED: 5 ,FOLD: 2, EPOCH: 20, valid_loss: 0.004678707426557174\n",
      "SEED: 5, FOLD: 2, EPOCH: 21, train_loss: 0.007824109376382988\n",
      "SEED: 5 ,FOLD: 2, EPOCH: 21, valid_loss: 0.004678671498997853\n",
      "SEED: 5, FOLD: 2, EPOCH: 22, train_loss: 0.007749878965016152\n",
      "SEED: 5 ,FOLD: 2, EPOCH: 22, valid_loss: 0.004660728566635113\n",
      "SEED: 5, FOLD: 2, EPOCH: 23, train_loss: 0.007659698396015006\n",
      "SEED: 5 ,FOLD: 2, EPOCH: 23, valid_loss: 0.004645904239553671\n",
      "SEED: 5, FOLD: 2, EPOCH: 24, train_loss: 0.007604615926440503\n",
      "SEED: 5 ,FOLD: 2, EPOCH: 24, valid_loss: 0.004646482411772013\n",
      "SEED: 5, FOLD: 3, EPOCH: 0, train_loss: 0.587982131419955\n",
      "SEED: 5 ,FOLD: 3, EPOCH: 0, valid_loss: 0.08223484915036422\n",
      "SEED: 5, FOLD: 3, EPOCH: 1, train_loss: 0.016254123841487878\n",
      "SEED: 5 ,FOLD: 3, EPOCH: 1, valid_loss: 0.005248717999515625\n",
      "SEED: 5, FOLD: 3, EPOCH: 2, train_loss: 0.008468055392842035\n",
      "SEED: 5 ,FOLD: 3, EPOCH: 2, valid_loss: 0.005128303900934183\n",
      "SEED: 5, FOLD: 3, EPOCH: 3, train_loss: 0.012154566916964343\n",
      "SEED: 5 ,FOLD: 3, EPOCH: 3, valid_loss: 0.004746564413205936\n",
      "SEED: 5, FOLD: 3, EPOCH: 4, train_loss: 0.008397941232180677\n",
      "SEED: 5 ,FOLD: 3, EPOCH: 4, valid_loss: 0.004776513024878044\n",
      "SEED: 5, FOLD: 3, EPOCH: 5, train_loss: 0.008269189391285181\n",
      "SEED: 5 ,FOLD: 3, EPOCH: 5, valid_loss: 0.004621639274633848\n",
      "SEED: 5, FOLD: 3, EPOCH: 6, train_loss: 0.008221390827030346\n",
      "SEED: 5 ,FOLD: 3, EPOCH: 6, valid_loss: 0.004734228006922281\n",
      "SEED: 5, FOLD: 3, EPOCH: 7, train_loss: 0.008207398919841728\n",
      "SEED: 5 ,FOLD: 3, EPOCH: 7, valid_loss: 0.004911368032200978\n",
      "SEED: 5, FOLD: 3, EPOCH: 8, train_loss: 0.0081743867564443\n",
      "SEED: 5 ,FOLD: 3, EPOCH: 8, valid_loss: 0.00477633263485936\n",
      "SEED: 5, FOLD: 3, EPOCH: 9, train_loss: 0.008139177464653511\n",
      "SEED: 5 ,FOLD: 3, EPOCH: 9, valid_loss: 0.004677870901874625\n",
      "SEED: 5, FOLD: 3, EPOCH: 10, train_loss: 0.008129213420623864\n",
      "SEED: 5 ,FOLD: 3, EPOCH: 10, valid_loss: 0.004754321900411294\n",
      "SEED: 5, FOLD: 3, EPOCH: 11, train_loss: 0.008109490638850508\n",
      "SEED: 5 ,FOLD: 3, EPOCH: 11, valid_loss: 0.00472034143212323\n",
      "SEED: 5, FOLD: 3, EPOCH: 12, train_loss: 0.00809804064448218\n",
      "SEED: 5 ,FOLD: 3, EPOCH: 12, valid_loss: 0.004731792652119811\n",
      "SEED: 5, FOLD: 3, EPOCH: 13, train_loss: 0.008075555308243713\n",
      "SEED: 5 ,FOLD: 3, EPOCH: 13, valid_loss: 0.004706365611547461\n",
      "SEED: 5, FOLD: 3, EPOCH: 14, train_loss: 0.008067873426134119\n",
      "SEED: 5 ,FOLD: 3, EPOCH: 14, valid_loss: 0.004754227550270466\n",
      "SEED: 5, FOLD: 4, EPOCH: 0, train_loss: 0.5884373465905318\n",
      "SEED: 5 ,FOLD: 4, EPOCH: 0, valid_loss: 0.083166886980717\n",
      "SEED: 5, FOLD: 4, EPOCH: 1, train_loss: 0.016053158695482322\n",
      "SEED: 5 ,FOLD: 4, EPOCH: 1, valid_loss: 0.005418278348560517\n",
      "SEED: 5, FOLD: 4, EPOCH: 2, train_loss: 0.008490379415200772\n",
      "SEED: 5 ,FOLD: 4, EPOCH: 2, valid_loss: 0.0048278325882095555\n",
      "SEED: 5, FOLD: 4, EPOCH: 3, train_loss: 0.008403517853317631\n",
      "SEED: 5 ,FOLD: 4, EPOCH: 3, valid_loss: 0.005028706796180744\n",
      "SEED: 5, FOLD: 4, EPOCH: 4, train_loss: 0.008295499191090867\n",
      "SEED: 5 ,FOLD: 4, EPOCH: 4, valid_loss: 0.005075351442568577\n",
      "SEED: 5, FOLD: 4, EPOCH: 5, train_loss: 0.008209069964249392\n",
      "SEED: 5 ,FOLD: 4, EPOCH: 5, valid_loss: 0.004799970998786963\n",
      "SEED: 5, FOLD: 4, EPOCH: 6, train_loss: 0.008186948705917678\n",
      "SEED: 5 ,FOLD: 4, EPOCH: 6, valid_loss: 0.004652621385713036\n",
      "SEED: 5, FOLD: 4, EPOCH: 7, train_loss: 0.008130034475864188\n",
      "SEED: 5 ,FOLD: 4, EPOCH: 7, valid_loss: 0.004841549322009087\n",
      "SEED: 5, FOLD: 4, EPOCH: 8, train_loss: 0.008146823119573496\n",
      "SEED: 5 ,FOLD: 4, EPOCH: 8, valid_loss: 0.004669363144785166\n",
      "SEED: 5, FOLD: 4, EPOCH: 9, train_loss: 0.00813004611110365\n",
      "SEED: 5 ,FOLD: 4, EPOCH: 9, valid_loss: 0.004648001112330418\n",
      "SEED: 5, FOLD: 4, EPOCH: 10, train_loss: 0.008134023097620622\n",
      "SEED: 5 ,FOLD: 4, EPOCH: 10, valid_loss: 0.004708657184472451\n",
      "SEED: 5, FOLD: 4, EPOCH: 11, train_loss: 0.008137749098996455\n",
      "SEED: 5 ,FOLD: 4, EPOCH: 11, valid_loss: 0.004751874026484215\n",
      "SEED: 5, FOLD: 4, EPOCH: 12, train_loss: 0.008133666778637751\n",
      "SEED: 5 ,FOLD: 4, EPOCH: 12, valid_loss: 0.004728954464483719\n",
      "SEED: 5, FOLD: 4, EPOCH: 13, train_loss: 0.008133909306363077\n",
      "SEED: 5 ,FOLD: 4, EPOCH: 13, valid_loss: 0.0047363449747745805\n",
      "SEED: 5, FOLD: 4, EPOCH: 14, train_loss: 0.00812575760977091\n",
      "SEED: 5 ,FOLD: 4, EPOCH: 14, valid_loss: 0.004757357797083946\n",
      "SEED: 5, FOLD: 4, EPOCH: 15, train_loss: 0.008114276988733862\n",
      "SEED: 5 ,FOLD: 4, EPOCH: 15, valid_loss: 0.00468856065820616\n",
      "SEED: 5, FOLD: 5, EPOCH: 0, train_loss: 0.5887406130094786\n",
      "SEED: 5 ,FOLD: 5, EPOCH: 0, valid_loss: 0.08375854159776981\n",
      "SEED: 5, FOLD: 5, EPOCH: 1, train_loss: 0.015995492076350225\n",
      "SEED: 5 ,FOLD: 5, EPOCH: 1, valid_loss: 0.0051766987531804125\n",
      "SEED: 5, FOLD: 5, EPOCH: 2, train_loss: 0.008857911049916938\n",
      "SEED: 5 ,FOLD: 5, EPOCH: 2, valid_loss: 0.005461051487005674\n",
      "SEED: 5, FOLD: 5, EPOCH: 3, train_loss: 0.008395500669910296\n",
      "SEED: 5 ,FOLD: 5, EPOCH: 3, valid_loss: 0.004701955046934577\n",
      "SEED: 5, FOLD: 5, EPOCH: 4, train_loss: 0.008270859730908194\n",
      "SEED: 5 ,FOLD: 5, EPOCH: 4, valid_loss: 0.004867314110295131\n",
      "SEED: 5, FOLD: 5, EPOCH: 5, train_loss: 0.008186618558357697\n",
      "SEED: 5 ,FOLD: 5, EPOCH: 5, valid_loss: 0.004931007225352984\n",
      "SEED: 5, FOLD: 5, EPOCH: 6, train_loss: 0.0081588845397975\n",
      "SEED: 5 ,FOLD: 5, EPOCH: 6, valid_loss: 0.004687849754610887\n",
      "SEED: 5, FOLD: 5, EPOCH: 7, train_loss: 0.008143672625207016\n",
      "SEED: 5 ,FOLD: 5, EPOCH: 7, valid_loss: 0.004663067278810418\n",
      "SEED: 5, FOLD: 5, EPOCH: 8, train_loss: 0.008132023491418443\n",
      "SEED: 5 ,FOLD: 5, EPOCH: 8, valid_loss: 0.004677320293222482\n",
      "SEED: 5, FOLD: 5, EPOCH: 9, train_loss: 0.008124915656407137\n",
      "SEED: 5 ,FOLD: 5, EPOCH: 9, valid_loss: 0.004803735440453658\n",
      "SEED: 5, FOLD: 5, EPOCH: 10, train_loss: 0.008137652310668616\n",
      "SEED: 5 ,FOLD: 5, EPOCH: 10, valid_loss: 0.004773186018260626\n",
      "SEED: 5, FOLD: 5, EPOCH: 11, train_loss: 0.008148862495766702\n",
      "SEED: 5 ,FOLD: 5, EPOCH: 11, valid_loss: 0.004720924135584097\n",
      "SEED: 5, FOLD: 5, EPOCH: 12, train_loss: 0.00813866445064746\n",
      "SEED: 5 ,FOLD: 5, EPOCH: 12, valid_loss: 0.004809421666253071\n",
      "SEED: 5, FOLD: 5, EPOCH: 13, train_loss: 0.008127283216831652\n",
      "SEED: 5 ,FOLD: 5, EPOCH: 13, valid_loss: 0.004740454507275269\n",
      "SEED: 5, FOLD: 5, EPOCH: 14, train_loss: 0.008118222140379855\n",
      "SEED: 5 ,FOLD: 5, EPOCH: 14, valid_loss: 0.004853285347613005\n",
      "SEED: 5, FOLD: 6, EPOCH: 0, train_loss: 0.5882302000111824\n",
      "SEED: 5 ,FOLD: 6, EPOCH: 0, valid_loss: 0.09986895666672634\n",
      "SEED: 5, FOLD: 6, EPOCH: 1, train_loss: 0.01631131726694671\n",
      "SEED: 5 ,FOLD: 6, EPOCH: 1, valid_loss: 0.004957752857500544\n",
      "SEED: 5, FOLD: 6, EPOCH: 2, train_loss: 0.008413111350524265\n",
      "SEED: 5 ,FOLD: 6, EPOCH: 2, valid_loss: 0.004804830944452148\n",
      "SEED: 5, FOLD: 6, EPOCH: 3, train_loss: 0.008490927423023292\n",
      "SEED: 5 ,FOLD: 6, EPOCH: 3, valid_loss: 0.00480183599015268\n",
      "SEED: 5, FOLD: 6, EPOCH: 4, train_loss: 0.008359072874677746\n",
      "SEED: 5 ,FOLD: 6, EPOCH: 4, valid_loss: 0.004646943022425358\n",
      "SEED: 5, FOLD: 6, EPOCH: 5, train_loss: 0.008211938695780732\n",
      "SEED: 5 ,FOLD: 6, EPOCH: 5, valid_loss: 0.004727529737955103\n",
      "SEED: 5, FOLD: 6, EPOCH: 6, train_loss: 0.008212187509933437\n",
      "SEED: 5 ,FOLD: 6, EPOCH: 6, valid_loss: 0.004519464322724021\n",
      "SEED: 5, FOLD: 6, EPOCH: 7, train_loss: 0.008155534534740288\n",
      "SEED: 5 ,FOLD: 6, EPOCH: 7, valid_loss: 0.004568712463459143\n",
      "SEED: 5, FOLD: 6, EPOCH: 8, train_loss: 0.0081577987435299\n",
      "SEED: 5 ,FOLD: 6, EPOCH: 8, valid_loss: 0.004690226382361009\n",
      "SEED: 5, FOLD: 6, EPOCH: 9, train_loss: 0.008153594073814314\n",
      "SEED: 5 ,FOLD: 6, EPOCH: 9, valid_loss: 0.0045855318625959065\n",
      "SEED: 5, FOLD: 6, EPOCH: 10, train_loss: 0.00814858259557671\n",
      "SEED: 5 ,FOLD: 6, EPOCH: 10, valid_loss: 0.004685778296194398\n",
      "SEED: 5, FOLD: 6, EPOCH: 11, train_loss: 0.008144879229115071\n",
      "SEED: 5 ,FOLD: 6, EPOCH: 11, valid_loss: 0.0045994843642872115\n",
      "SEED: 5, FOLD: 6, EPOCH: 12, train_loss: 0.008153684997327021\n",
      "SEED: 5 ,FOLD: 6, EPOCH: 12, valid_loss: 0.0046695408482964225\n",
      "SEED: 5, FOLD: 6, EPOCH: 13, train_loss: 0.008144651961235984\n",
      "SEED: 5 ,FOLD: 6, EPOCH: 13, valid_loss: 0.004656438876946385\n",
      "SEED: 5, FOLD: 6, EPOCH: 14, train_loss: 0.008134108678613966\n",
      "SEED: 5 ,FOLD: 6, EPOCH: 14, valid_loss: 0.0046376315876841545\n",
      "SEED: 5, FOLD: 6, EPOCH: 15, train_loss: 0.008120154062084653\n",
      "SEED: 5 ,FOLD: 6, EPOCH: 15, valid_loss: 0.004646266971786435\n",
      "SEED: 6, FOLD: 0, EPOCH: 0, train_loss: 0.5894282530691173\n",
      "SEED: 6 ,FOLD: 0, EPOCH: 0, valid_loss: 0.09604013711214066\n",
      "SEED: 6, FOLD: 0, EPOCH: 1, train_loss: 0.01617680349060007\n",
      "SEED: 6 ,FOLD: 0, EPOCH: 1, valid_loss: 0.005233456201564807\n",
      "SEED: 6, FOLD: 0, EPOCH: 2, train_loss: 0.00849717525714958\n",
      "SEED: 6 ,FOLD: 0, EPOCH: 2, valid_loss: 0.004835838022140356\n",
      "SEED: 6, FOLD: 0, EPOCH: 3, train_loss: 0.008436526278839321\n",
      "SEED: 6 ,FOLD: 0, EPOCH: 3, valid_loss: 0.007074534069173611\n",
      "SEED: 6, FOLD: 0, EPOCH: 4, train_loss: 0.008865910594829836\n",
      "SEED: 6 ,FOLD: 0, EPOCH: 4, valid_loss: 0.004516793235849876\n",
      "SEED: 6, FOLD: 0, EPOCH: 5, train_loss: 0.008276058090347293\n",
      "SEED: 6 ,FOLD: 0, EPOCH: 5, valid_loss: 0.004590672369186695\n",
      "SEED: 6, FOLD: 0, EPOCH: 6, train_loss: 0.008228954538149206\n",
      "SEED: 6 ,FOLD: 0, EPOCH: 6, valid_loss: 0.004725876049353526\n",
      "SEED: 6, FOLD: 0, EPOCH: 7, train_loss: 0.008209535373827896\n",
      "SEED: 6 ,FOLD: 0, EPOCH: 7, valid_loss: 0.004702395974443509\n",
      "SEED: 6, FOLD: 0, EPOCH: 8, train_loss: 0.00816813446707218\n",
      "SEED: 6 ,FOLD: 0, EPOCH: 8, valid_loss: 0.004625521994267519\n",
      "SEED: 6, FOLD: 0, EPOCH: 9, train_loss: 0.008146817424661806\n",
      "SEED: 6 ,FOLD: 0, EPOCH: 9, valid_loss: 0.004664684430910991\n",
      "SEED: 6, FOLD: 0, EPOCH: 10, train_loss: 0.00812624065155113\n",
      "SEED: 6 ,FOLD: 0, EPOCH: 10, valid_loss: 0.00464046298741148\n",
      "SEED: 6, FOLD: 0, EPOCH: 11, train_loss: 0.008127320809541521\n",
      "SEED: 6 ,FOLD: 0, EPOCH: 11, valid_loss: 0.004725870246497484\n",
      "SEED: 6, FOLD: 0, EPOCH: 12, train_loss: 0.00812057186723561\n",
      "SEED: 6 ,FOLD: 0, EPOCH: 12, valid_loss: 0.004676116845355584\n",
      "SEED: 6, FOLD: 0, EPOCH: 13, train_loss: 0.008127583530605645\n",
      "SEED: 6 ,FOLD: 0, EPOCH: 13, valid_loss: 0.004693675535516097\n",
      "SEED: 6, FOLD: 1, EPOCH: 0, train_loss: 0.5891814865171909\n",
      "SEED: 6 ,FOLD: 1, EPOCH: 0, valid_loss: 0.08117182495502326\n",
      "SEED: 6, FOLD: 1, EPOCH: 1, train_loss: 0.01633656455354916\n",
      "SEED: 6 ,FOLD: 1, EPOCH: 1, valid_loss: 0.0051149123061734894\n",
      "SEED: 6, FOLD: 1, EPOCH: 2, train_loss: 0.008479124010616058\n",
      "SEED: 6 ,FOLD: 1, EPOCH: 2, valid_loss: 0.00492877269593569\n",
      "SEED: 6, FOLD: 1, EPOCH: 3, train_loss: 0.008686113007668708\n",
      "SEED: 6 ,FOLD: 1, EPOCH: 3, valid_loss: 0.0048235367911939435\n",
      "SEED: 6, FOLD: 1, EPOCH: 4, train_loss: 0.008294078703919376\n",
      "SEED: 6 ,FOLD: 1, EPOCH: 4, valid_loss: 0.004570798769306678\n",
      "SEED: 6, FOLD: 1, EPOCH: 5, train_loss: 0.008383075379439303\n",
      "SEED: 6 ,FOLD: 1, EPOCH: 5, valid_loss: 0.004803451530348796\n",
      "SEED: 6, FOLD: 1, EPOCH: 6, train_loss: 0.008259186156194758\n",
      "SEED: 6 ,FOLD: 1, EPOCH: 6, valid_loss: 0.004698521529252713\n",
      "SEED: 6, FOLD: 1, EPOCH: 7, train_loss: 0.00824871488746155\n",
      "SEED: 6 ,FOLD: 1, EPOCH: 7, valid_loss: 0.004573216017049093\n",
      "SEED: 6, FOLD: 1, EPOCH: 8, train_loss: 0.008179773438117793\n",
      "SEED: 6 ,FOLD: 1, EPOCH: 8, valid_loss: 0.004675814093878636\n",
      "SEED: 6, FOLD: 1, EPOCH: 9, train_loss: 0.008167419708459763\n",
      "SEED: 6 ,FOLD: 1, EPOCH: 9, valid_loss: 0.004700093995779753\n",
      "SEED: 6, FOLD: 1, EPOCH: 10, train_loss: 0.008165068213349662\n",
      "SEED: 6 ,FOLD: 1, EPOCH: 10, valid_loss: 0.004827407726015036\n",
      "SEED: 6, FOLD: 1, EPOCH: 11, train_loss: 0.008159781535583976\n",
      "SEED: 6 ,FOLD: 1, EPOCH: 11, valid_loss: 0.004685332998633385\n",
      "SEED: 6, FOLD: 1, EPOCH: 12, train_loss: 0.008139950116290836\n",
      "SEED: 6 ,FOLD: 1, EPOCH: 12, valid_loss: 0.004741426987143664\n",
      "SEED: 6, FOLD: 1, EPOCH: 13, train_loss: 0.008135863265173661\n",
      "SEED: 6 ,FOLD: 1, EPOCH: 13, valid_loss: 0.004713242658628867\n",
      "SEED: 6, FOLD: 1, EPOCH: 14, train_loss: 0.008120757036817234\n",
      "SEED: 6 ,FOLD: 1, EPOCH: 14, valid_loss: 0.004620297776105313\n",
      "SEED: 6, FOLD: 2, EPOCH: 0, train_loss: 0.5890612538803268\n",
      "SEED: 6 ,FOLD: 2, EPOCH: 0, valid_loss: 0.08603277917091663\n",
      "SEED: 6, FOLD: 2, EPOCH: 1, train_loss: 0.016108209399405767\n",
      "SEED: 6 ,FOLD: 2, EPOCH: 1, valid_loss: 0.005289682151319889\n",
      "SEED: 6, FOLD: 2, EPOCH: 2, train_loss: 0.008447665482054691\n",
      "SEED: 6 ,FOLD: 2, EPOCH: 2, valid_loss: 0.005142313571503529\n",
      "SEED: 6, FOLD: 2, EPOCH: 3, train_loss: 0.008397019587809572\n",
      "SEED: 6 ,FOLD: 2, EPOCH: 3, valid_loss: 0.004733303346886084\n",
      "SEED: 6, FOLD: 2, EPOCH: 4, train_loss: 0.008401099944839606\n",
      "SEED: 6 ,FOLD: 2, EPOCH: 4, valid_loss: 0.004721026473607008\n",
      "SEED: 6, FOLD: 2, EPOCH: 5, train_loss: 0.008208778095305772\n",
      "SEED: 6 ,FOLD: 2, EPOCH: 5, valid_loss: 0.004930748568417935\n",
      "SEED: 6, FOLD: 2, EPOCH: 6, train_loss: 0.008182059023277583\n",
      "SEED: 6 ,FOLD: 2, EPOCH: 6, valid_loss: 0.004779365379363298\n",
      "SEED: 6, FOLD: 2, EPOCH: 7, train_loss: 0.008152706598913347\n",
      "SEED: 6 ,FOLD: 2, EPOCH: 7, valid_loss: 0.004711449647752138\n",
      "SEED: 6, FOLD: 2, EPOCH: 8, train_loss: 0.008145866720509288\n",
      "SEED: 6 ,FOLD: 2, EPOCH: 8, valid_loss: 0.004675733355375437\n",
      "SEED: 6, FOLD: 2, EPOCH: 9, train_loss: 0.008146941970178002\n",
      "SEED: 6 ,FOLD: 2, EPOCH: 9, valid_loss: 0.0046989359677984165\n",
      "SEED: 6, FOLD: 2, EPOCH: 10, train_loss: 0.008144196487862515\n",
      "SEED: 6 ,FOLD: 2, EPOCH: 10, valid_loss: 0.004625733153751263\n",
      "SEED: 6, FOLD: 2, EPOCH: 11, train_loss: 0.008150121247446214\n",
      "SEED: 6 ,FOLD: 2, EPOCH: 11, valid_loss: 0.004615314663029634\n",
      "SEED: 6, FOLD: 2, EPOCH: 12, train_loss: 0.008151437344683989\n",
      "SEED: 6 ,FOLD: 2, EPOCH: 12, valid_loss: 0.004786599678202317\n",
      "SEED: 6, FOLD: 2, EPOCH: 13, train_loss: 0.008147031842806452\n",
      "SEED: 6 ,FOLD: 2, EPOCH: 13, valid_loss: 0.00473981246782037\n",
      "SEED: 6, FOLD: 2, EPOCH: 14, train_loss: 0.00811912286145663\n",
      "SEED: 6 ,FOLD: 2, EPOCH: 14, valid_loss: 0.004681158094451978\n",
      "SEED: 6, FOLD: 2, EPOCH: 15, train_loss: 0.008115146957287515\n",
      "SEED: 6 ,FOLD: 2, EPOCH: 15, valid_loss: 0.004779824987053871\n",
      "SEED: 6, FOLD: 2, EPOCH: 16, train_loss: 0.008107640207870989\n",
      "SEED: 6 ,FOLD: 2, EPOCH: 16, valid_loss: 0.004671368783769699\n",
      "SEED: 6, FOLD: 2, EPOCH: 17, train_loss: 0.008087565077821145\n",
      "SEED: 6 ,FOLD: 2, EPOCH: 17, valid_loss: 0.004717222629831388\n",
      "recalibrate layer.weight_v\n",
      "SEED: 6, FOLD: 2, EPOCH: 18, train_loss: 0.008062253435570243\n",
      "SEED: 6 ,FOLD: 2, EPOCH: 18, valid_loss: 0.004680251666846184\n",
      "SEED: 6, FOLD: 3, EPOCH: 0, train_loss: 0.5897037209691228\n",
      "SEED: 6 ,FOLD: 3, EPOCH: 0, valid_loss: 0.08775411890103267\n",
      "SEED: 6, FOLD: 3, EPOCH: 1, train_loss: 0.016088456129403534\n",
      "SEED: 6 ,FOLD: 3, EPOCH: 1, valid_loss: 0.00554477538053806\n",
      "SEED: 6, FOLD: 3, EPOCH: 2, train_loss: 0.009332417189521162\n",
      "SEED: 6 ,FOLD: 3, EPOCH: 2, valid_loss: 0.011666617714441739\n",
      "SEED: 6, FOLD: 3, EPOCH: 3, train_loss: 0.00848493811900954\n",
      "SEED: 6 ,FOLD: 3, EPOCH: 3, valid_loss: 0.004721281512712057\n",
      "SEED: 6, FOLD: 3, EPOCH: 4, train_loss: 0.008282738674834773\n",
      "SEED: 6 ,FOLD: 3, EPOCH: 4, valid_loss: 0.004855102107215386\n",
      "SEED: 6, FOLD: 3, EPOCH: 5, train_loss: 0.008308002058215238\n",
      "SEED: 6 ,FOLD: 3, EPOCH: 5, valid_loss: 0.004644723447899406\n",
      "SEED: 6, FOLD: 3, EPOCH: 6, train_loss: 0.008214235475689575\n",
      "SEED: 6 ,FOLD: 3, EPOCH: 6, valid_loss: 0.00482341657894162\n",
      "SEED: 6, FOLD: 3, EPOCH: 7, train_loss: 0.008189894548441106\n",
      "SEED: 6 ,FOLD: 3, EPOCH: 7, valid_loss: 0.004765094651912267\n",
      "SEED: 6, FOLD: 3, EPOCH: 8, train_loss: 0.008165625465178006\n",
      "SEED: 6 ,FOLD: 3, EPOCH: 8, valid_loss: 0.00497746467590332\n",
      "SEED: 6, FOLD: 3, EPOCH: 9, train_loss: 0.008141365481188169\n",
      "SEED: 6 ,FOLD: 3, EPOCH: 9, valid_loss: 0.004786159879026504\n",
      "SEED: 6, FOLD: 3, EPOCH: 10, train_loss: 0.008145371024068948\n",
      "SEED: 6 ,FOLD: 3, EPOCH: 10, valid_loss: 0.004862890614626499\n",
      "SEED: 6, FOLD: 3, EPOCH: 11, train_loss: 0.008134184518476596\n",
      "SEED: 6 ,FOLD: 3, EPOCH: 11, valid_loss: 0.00473748090175482\n",
      "SEED: 6, FOLD: 3, EPOCH: 12, train_loss: 0.00811936248194527\n",
      "SEED: 6 ,FOLD: 3, EPOCH: 12, valid_loss: 0.00476111675827549\n",
      "SEED: 6, FOLD: 3, EPOCH: 13, train_loss: 0.00811573492388266\n",
      "SEED: 6 ,FOLD: 3, EPOCH: 13, valid_loss: 0.004754744828320467\n",
      "SEED: 6, FOLD: 4, EPOCH: 0, train_loss: 0.5887380949146038\n",
      "SEED: 6 ,FOLD: 4, EPOCH: 0, valid_loss: 0.08301604195283009\n",
      "SEED: 6, FOLD: 4, EPOCH: 1, train_loss: 0.016482630656478373\n",
      "SEED: 6 ,FOLD: 4, EPOCH: 1, valid_loss: 0.005392742737268026\n",
      "SEED: 6, FOLD: 4, EPOCH: 2, train_loss: 0.008737774534352325\n",
      "SEED: 6 ,FOLD: 4, EPOCH: 2, valid_loss: 0.004774755475899348\n",
      "SEED: 6, FOLD: 4, EPOCH: 3, train_loss: 0.008288864788876192\n",
      "SEED: 6 ,FOLD: 4, EPOCH: 3, valid_loss: 0.004768557542075331\n",
      "SEED: 6, FOLD: 4, EPOCH: 4, train_loss: 0.008735335903947015\n",
      "SEED: 6 ,FOLD: 4, EPOCH: 4, valid_loss: 0.004574664743044055\n",
      "SEED: 6, FOLD: 4, EPOCH: 5, train_loss: 0.008252918990832326\n",
      "SEED: 6 ,FOLD: 4, EPOCH: 5, valid_loss: 0.004895265160415035\n",
      "SEED: 6, FOLD: 4, EPOCH: 6, train_loss: 0.008214998442830669\n",
      "SEED: 6 ,FOLD: 4, EPOCH: 6, valid_loss: 0.0047560569006376546\n",
      "SEED: 6, FOLD: 4, EPOCH: 7, train_loss: 0.008190177469136747\n",
      "SEED: 6 ,FOLD: 4, EPOCH: 7, valid_loss: 0.00472822104795621\n",
      "SEED: 6, FOLD: 4, EPOCH: 8, train_loss: 0.008152145760234547\n",
      "SEED: 6 ,FOLD: 4, EPOCH: 8, valid_loss: 0.004609897428263838\n",
      "SEED: 6, FOLD: 4, EPOCH: 9, train_loss: 0.008146899292950292\n",
      "SEED: 6 ,FOLD: 4, EPOCH: 9, valid_loss: 0.004722039645107893\n",
      "SEED: 6, FOLD: 4, EPOCH: 10, train_loss: 0.008141822999695668\n",
      "SEED: 6 ,FOLD: 4, EPOCH: 10, valid_loss: 0.004751001036940859\n",
      "SEED: 6, FOLD: 4, EPOCH: 11, train_loss: 0.008122056313614184\n",
      "SEED: 6 ,FOLD: 4, EPOCH: 11, valid_loss: 0.004678147504679286\n",
      "SEED: 6, FOLD: 4, EPOCH: 12, train_loss: 0.008123122533229558\n",
      "SEED: 6 ,FOLD: 4, EPOCH: 12, valid_loss: 0.0047376951775871794\n",
      "SEED: 6, FOLD: 4, EPOCH: 13, train_loss: 0.008112310570337483\n",
      "SEED: 6 ,FOLD: 4, EPOCH: 13, valid_loss: 0.0047723415415160935\n",
      "SEED: 6, FOLD: 4, EPOCH: 14, train_loss: 0.008104231409929894\n",
      "SEED: 6 ,FOLD: 4, EPOCH: 14, valid_loss: 0.004738452593581035\n",
      "SEED: 6, FOLD: 5, EPOCH: 0, train_loss: 0.5894070529454464\n",
      "SEED: 6 ,FOLD: 5, EPOCH: 0, valid_loss: 0.08488374547316478\n",
      "SEED: 6, FOLD: 5, EPOCH: 1, train_loss: 0.016271278878824937\n",
      "SEED: 6 ,FOLD: 5, EPOCH: 1, valid_loss: 0.005182489681129272\n",
      "SEED: 6, FOLD: 5, EPOCH: 2, train_loss: 0.00845645832501956\n",
      "SEED: 6 ,FOLD: 5, EPOCH: 2, valid_loss: 0.005293195100071339\n",
      "SEED: 6, FOLD: 5, EPOCH: 3, train_loss: 0.008719497460972619\n",
      "SEED: 6 ,FOLD: 5, EPOCH: 3, valid_loss: 0.004784091053387294\n",
      "SEED: 6, FOLD: 5, EPOCH: 4, train_loss: 0.008285752245904627\n",
      "SEED: 6 ,FOLD: 5, EPOCH: 4, valid_loss: 0.004757026461167977\n",
      "SEED: 6, FOLD: 5, EPOCH: 5, train_loss: 0.008269615282581464\n",
      "SEED: 6 ,FOLD: 5, EPOCH: 5, valid_loss: 0.004776714477114952\n",
      "SEED: 6, FOLD: 5, EPOCH: 6, train_loss: 0.008198232843062363\n",
      "SEED: 6 ,FOLD: 5, EPOCH: 6, valid_loss: 0.004687653567928534\n",
      "SEED: 6, FOLD: 5, EPOCH: 7, train_loss: 0.008149159455520881\n",
      "SEED: 6 ,FOLD: 5, EPOCH: 7, valid_loss: 0.004629056363438184\n",
      "SEED: 6, FOLD: 5, EPOCH: 8, train_loss: 0.008132572776663143\n",
      "SEED: 6 ,FOLD: 5, EPOCH: 8, valid_loss: 0.004703330126805947\n",
      "SEED: 6, FOLD: 5, EPOCH: 9, train_loss: 0.008152160302710694\n",
      "SEED: 6 ,FOLD: 5, EPOCH: 9, valid_loss: 0.00488619961274358\n",
      "SEED: 6, FOLD: 5, EPOCH: 10, train_loss: 0.008126603905111551\n",
      "SEED: 6 ,FOLD: 5, EPOCH: 10, valid_loss: 0.004749296913639857\n",
      "SEED: 6, FOLD: 5, EPOCH: 11, train_loss: 0.008126498344731895\n",
      "SEED: 6 ,FOLD: 5, EPOCH: 11, valid_loss: 0.0046221418664432485\n",
      "SEED: 6, FOLD: 5, EPOCH: 12, train_loss: 0.008108790271688957\n",
      "SEED: 6 ,FOLD: 5, EPOCH: 12, valid_loss: 0.00471205457758445\n",
      "SEED: 6, FOLD: 5, EPOCH: 13, train_loss: 0.00811117165092681\n",
      "SEED: 6 ,FOLD: 5, EPOCH: 13, valid_loss: 0.004772913391486957\n",
      "SEED: 6, FOLD: 5, EPOCH: 14, train_loss: 0.008103007828263013\n",
      "SEED: 6 ,FOLD: 5, EPOCH: 14, valid_loss: 0.004779499991295429\n",
      "SEED: 6, FOLD: 5, EPOCH: 15, train_loss: 0.00809552604206712\n",
      "SEED: 6 ,FOLD: 5, EPOCH: 15, valid_loss: 0.0047350354994145725\n",
      "SEED: 6, FOLD: 5, EPOCH: 16, train_loss: 0.008084425652349318\n",
      "SEED: 6 ,FOLD: 5, EPOCH: 16, valid_loss: 0.004701705721135323\n",
      "SEED: 6, FOLD: 6, EPOCH: 0, train_loss: 0.5883199856490702\n",
      "SEED: 6 ,FOLD: 6, EPOCH: 0, valid_loss: 0.08026264206721233\n",
      "SEED: 6, FOLD: 6, EPOCH: 1, train_loss: 0.01595952027049419\n",
      "SEED: 6 ,FOLD: 6, EPOCH: 1, valid_loss: 0.005232640936111028\n",
      "SEED: 6, FOLD: 6, EPOCH: 2, train_loss: 0.008567701458830285\n",
      "SEED: 6 ,FOLD: 6, EPOCH: 2, valid_loss: 0.007127446480668508\n",
      "SEED: 6, FOLD: 6, EPOCH: 3, train_loss: 0.009182935058315462\n",
      "SEED: 6 ,FOLD: 6, EPOCH: 3, valid_loss: 0.004580240069816892\n",
      "SEED: 6, FOLD: 6, EPOCH: 4, train_loss: 0.008301122749627039\n",
      "SEED: 6 ,FOLD: 6, EPOCH: 4, valid_loss: 0.004686061830188219\n",
      "SEED: 6, FOLD: 6, EPOCH: 5, train_loss: 0.00837384190762768\n",
      "SEED: 6 ,FOLD: 6, EPOCH: 5, valid_loss: 0.004708059597760439\n",
      "SEED: 6, FOLD: 6, EPOCH: 6, train_loss: 0.008225201069050142\n",
      "SEED: 6 ,FOLD: 6, EPOCH: 6, valid_loss: 0.0047949139530269\n",
      "SEED: 6, FOLD: 6, EPOCH: 7, train_loss: 0.008340687346267136\n",
      "SEED: 6 ,FOLD: 6, EPOCH: 7, valid_loss: 0.004553950284249508\n",
      "SEED: 6, FOLD: 6, EPOCH: 8, train_loss: 0.008188676774954877\n",
      "SEED: 6 ,FOLD: 6, EPOCH: 8, valid_loss: 0.004602136985900311\n",
      "SEED: 6, FOLD: 6, EPOCH: 9, train_loss: 0.008169665592848449\n",
      "SEED: 6 ,FOLD: 6, EPOCH: 9, valid_loss: 0.0045597942975851204\n",
      "SEED: 6, FOLD: 6, EPOCH: 10, train_loss: 0.008174007185860662\n",
      "SEED: 6 ,FOLD: 6, EPOCH: 10, valid_loss: 0.004704236733512237\n",
      "SEED: 6, FOLD: 6, EPOCH: 11, train_loss: 0.00817040858060323\n",
      "SEED: 6 ,FOLD: 6, EPOCH: 11, valid_loss: 0.004713994952348562\n",
      "SEED: 6, FOLD: 6, EPOCH: 12, train_loss: 0.00814731143465316\n",
      "SEED: 6 ,FOLD: 6, EPOCH: 12, valid_loss: 0.004628258972213819\n",
      "SEED: 6, FOLD: 6, EPOCH: 13, train_loss: 0.008143485410491357\n",
      "SEED: 6 ,FOLD: 6, EPOCH: 13, valid_loss: 0.004680830877847397\n"
     ]
    }
   ],
   "source": [
    "SEED = [0,1,2,3,4,5,6]  #<-- 7 seeds\n",
    "oof = np.zeros((len(train), len(target_cols)))\n",
    "predictions = np.zeros((len(test), len(target_cols)))\n",
    "\n",
    "for seed in SEED:\n",
    "    \n",
    "    oof_, predictions_ = run_k_fold(NFOLDS, seed)\n",
    "    oof += oof_ / len(SEED)\n",
    "    predictions += predictions_ / len(SEED)\n",
    "\n",
    "train[target_cols] = oof\n",
    "test_[target_cols] = predictions"
   ]
  },
  {
   "cell_type": "code",
   "execution_count": 124,
   "metadata": {
    "execution": {
     "iopub.execute_input": "2020-11-28T14:44:05.726158Z",
     "iopub.status.busy": "2020-11-28T14:44:05.724741Z",
     "iopub.status.idle": "2020-11-28T14:44:06.473639Z",
     "shell.execute_reply": "2020-11-28T14:44:06.472368Z"
    },
    "papermill": {
     "duration": 1.556763,
     "end_time": "2020-11-28T14:44:06.473767",
     "exception": false,
     "start_time": "2020-11-28T14:44:04.917004",
     "status": "completed"
    },
    "tags": []
   },
   "outputs": [],
   "source": [
    "train = train.merge(train_targets_scored, on='sig_id')\n",
    "target = train[train_targets_scored.columns]\n",
    "target_cols = target.drop('sig_id', axis=1).columns.values.tolist()"
   ]
  },
  {
   "cell_type": "code",
   "execution_count": 125,
   "metadata": {
    "execution": {
     "iopub.execute_input": "2020-11-28T14:44:07.440789Z",
     "iopub.status.busy": "2020-11-28T14:44:07.438940Z",
     "iopub.status.idle": "2020-11-28T14:44:07.441646Z",
     "shell.execute_reply": "2020-11-28T14:44:07.442173Z"
    },
    "papermill": {
     "duration": 0.489388,
     "end_time": "2020-11-28T14:44:07.442301",
     "exception": false,
     "start_time": "2020-11-28T14:44:06.952913",
     "status": "completed"
    },
    "tags": []
   },
   "outputs": [],
   "source": [
    "feature_cols = [c for c in train.columns if c not in target_cols]\n",
    "feature_cols = [c for c in feature_cols if c not in ['sig_id','kfold']]"
   ]
  },
  {
   "cell_type": "code",
   "execution_count": 126,
   "metadata": {
    "execution": {
     "iopub.execute_input": "2020-11-28T14:44:08.435323Z",
     "iopub.status.busy": "2020-11-28T14:44:08.434474Z",
     "iopub.status.idle": "2020-11-28T14:44:08.438462Z",
     "shell.execute_reply": "2020-11-28T14:44:08.437908Z"
    },
    "papermill": {
     "duration": 0.488401,
     "end_time": "2020-11-28T14:44:08.438568",
     "exception": false,
     "start_time": "2020-11-28T14:44:07.950167",
     "status": "completed"
    },
    "tags": []
   },
   "outputs": [],
   "source": [
    "DEVICE = ('cuda' if torch.cuda.is_available() else 'cpu')\n",
    "EPOCHS = 26\n",
    "BATCH_SIZE = 256\n",
    "LEARNING_RATE = 6e-4\n",
    "WEIGHT_DECAY = 1e-5\n",
    "NFOLDS = 7\n",
    "EARLY_STOPPING_STEPS = 10\n",
    "EARLY_STOP = True\n",
    "\n",
    "num_features=len(feature_cols)\n",
    "num_targets=len(target_cols)\n",
    "hidden_size=2048"
   ]
  },
  {
   "cell_type": "code",
   "execution_count": 127,
   "metadata": {
    "execution": {
     "iopub.execute_input": "2020-11-28T14:44:09.418446Z",
     "iopub.status.busy": "2020-11-28T14:44:09.413342Z",
     "iopub.status.idle": "2020-11-28T14:44:09.436211Z",
     "shell.execute_reply": "2020-11-28T14:44:09.435609Z"
    },
    "papermill": {
     "duration": 0.509328,
     "end_time": "2020-11-28T14:44:09.436324",
     "exception": false,
     "start_time": "2020-11-28T14:44:08.926996",
     "status": "completed"
    },
    "tags": []
   },
   "outputs": [],
   "source": [
    "def run_training(fold, seed):\n",
    "    \n",
    "    seed_everything(seed)\n",
    "    \n",
    "    mskf = MultilabelStratifiedKFold(n_splits=7,random_state=seed)\n",
    "    for f, (t_idx, v_idx) in enumerate(mskf.split(X=train, y=target)):\n",
    "         train.loc[v_idx, 'kfold'] = int(f)\n",
    "    train['kfold'] = train['kfold'].astype(int)\n",
    "    \n",
    "    trn_idx = train[train['kfold'] != fold].index\n",
    "    val_idx = train[train['kfold'] == fold].index\n",
    "    \n",
    "    train_df = train[train['kfold'] != fold].reset_index(drop=True)\n",
    "    valid_df = train[train['kfold'] == fold].reset_index(drop=True)\n",
    "    \n",
    "    x_train, y_train  = train_df[feature_cols].values, train_df[target_cols].values\n",
    "    x_valid, y_valid =  valid_df[feature_cols].values, valid_df[target_cols].values\n",
    "    \n",
    "    train_dataset = MoADataset(x_train, y_train)\n",
    "    valid_dataset = MoADataset(x_valid, y_valid)\n",
    "    trainloader = torch.utils.data.DataLoader(train_dataset, batch_size=BATCH_SIZE, shuffle=True)\n",
    "    validloader = torch.utils.data.DataLoader(valid_dataset, batch_size=BATCH_SIZE, shuffle=False)\n",
    "    \n",
    "    model = Model(\n",
    "        num_features=num_features,\n",
    "        num_targets=num_targets,\n",
    "        hidden_size=hidden_size,\n",
    "    )\n",
    "    \n",
    "    model.to(DEVICE)\n",
    "    \n",
    "    optimizer = torch.optim.Adam(model.parameters(), lr=LEARNING_RATE, weight_decay=WEIGHT_DECAY)\n",
    "    scheduler = optim.lr_scheduler.OneCycleLR(optimizer=optimizer, pct_start=0.1, div_factor=1e3, \n",
    "                                              max_lr=1e-2, epochs=EPOCHS, steps_per_epoch=len(trainloader))\n",
    "    \n",
    "    loss_fn = nn.BCEWithLogitsLoss()\n",
    "    \n",
    "    loss_tr = SmoothBCEwLogits(smoothing =0.001)\n",
    "    \n",
    "    early_stopping_steps = EARLY_STOPPING_STEPS\n",
    "    early_step = 0\n",
    "    \n",
    "    oof = np.zeros((len(train), target.iloc[:, 1:].shape[1]))\n",
    "    best_loss = np.inf\n",
    "    \n",
    "    for epoch in range(EPOCHS):\n",
    "        \n",
    "        train_loss = train_fn(model, optimizer,scheduler, loss_tr, trainloader, DEVICE)\n",
    "        print(f\"SEED: {seed}, FOLD: {fold}, EPOCH: {epoch}, train_loss: {train_loss}\")\n",
    "        valid_loss, valid_preds = valid_fn(model, loss_fn, validloader, DEVICE)\n",
    "        print(f\"SEED: {seed} ,FOLD: {fold}, EPOCH: {epoch}, valid_loss: {valid_loss}\")\n",
    "        \n",
    "        if valid_loss < best_loss:\n",
    "            \n",
    "            best_loss = valid_loss\n",
    "            oof[val_idx] = valid_preds\n",
    "            torch.save(model.state_dict(), f\"SEED{seed}_FOLD{fold}_scored.pth\")\n",
    "        \n",
    "        elif(EARLY_STOP == True):\n",
    "            \n",
    "            early_step += 1\n",
    "            if (early_step >= early_stopping_steps):\n",
    "                break\n",
    "            \n",
    "    \n",
    "    #--------------------- PREDICTION---------------------\n",
    "    x_test = test_[feature_cols].values\n",
    "    testdataset = TestDataset(x_test)\n",
    "    testloader = torch.utils.data.DataLoader(testdataset, batch_size=BATCH_SIZE, shuffle=False)\n",
    "    \n",
    "    model = Model(\n",
    "        num_features=num_features,\n",
    "        num_targets=num_targets,\n",
    "        hidden_size=hidden_size,\n",
    "\n",
    "    )\n",
    "    \n",
    "    model.load_state_dict(torch.load(f\"SEED{seed}_FOLD{fold}_scored.pth\"))\n",
    "    model.to(DEVICE)\n",
    "    \n",
    "    predictions = np.zeros((len(test_), target.iloc[:, 1:].shape[1]))\n",
    "    predictions = inference_fn(model, testloader, DEVICE)\n",
    "    \n",
    "    return oof, predictions"
   ]
  },
  {
   "cell_type": "code",
   "execution_count": 128,
   "metadata": {
    "execution": {
     "iopub.execute_input": "2020-11-28T14:44:10.396033Z",
     "iopub.status.busy": "2020-11-28T14:44:10.394205Z",
     "iopub.status.idle": "2020-11-28T14:44:10.397471Z",
     "shell.execute_reply": "2020-11-28T14:44:10.398127Z"
    },
    "papermill": {
     "duration": 0.498233,
     "end_time": "2020-11-28T14:44:10.398278",
     "exception": false,
     "start_time": "2020-11-28T14:44:09.900045",
     "status": "completed"
    },
    "tags": []
   },
   "outputs": [],
   "source": [
    "def run_k_fold(NFOLDS, seed):\n",
    "    oof = np.zeros((len(train), len(target_cols)))\n",
    "    predictions = np.zeros((len(test), len(target_cols)))\n",
    "    \n",
    "    for fold in range(NFOLDS):\n",
    "        oof_, pred_ = run_training(fold, seed)\n",
    "        \n",
    "        predictions += pred_ / NFOLDS\n",
    "        oof += oof_\n",
    "        \n",
    "    return oof, predictions"
   ]
  },
  {
   "cell_type": "code",
   "execution_count": 129,
   "metadata": {
    "execution": {
     "iopub.execute_input": "2020-11-28T14:44:11.425721Z",
     "iopub.status.busy": "2020-11-28T14:44:11.424656Z",
     "iopub.status.idle": "2020-11-28T15:30:26.541681Z",
     "shell.execute_reply": "2020-11-28T15:30:26.541027Z"
    },
    "papermill": {
     "duration": 2775.614342,
     "end_time": "2020-11-28T15:30:26.541822",
     "exception": false,
     "start_time": "2020-11-28T14:44:10.927480",
     "status": "completed"
    },
    "tags": []
   },
   "outputs": [
    {
     "name": "stdout",
     "output_type": "stream",
     "text": [
      "SEED: 0, FOLD: 0, EPOCH: 0, train_loss: 0.5879161083013624\n",
      "SEED: 0 ,FOLD: 0, EPOCH: 0, valid_loss: 0.0994727502648647\n",
      "SEED: 0, FOLD: 0, EPOCH: 1, train_loss: 0.0300963309316619\n",
      "SEED: 0 ,FOLD: 0, EPOCH: 1, valid_loss: 0.020340161254772775\n",
      "SEED: 0, FOLD: 0, EPOCH: 2, train_loss: 0.021980426702144985\n",
      "SEED: 0 ,FOLD: 0, EPOCH: 2, valid_loss: 0.019400439153497036\n",
      "SEED: 0, FOLD: 0, EPOCH: 3, train_loss: 0.021127591110967302\n",
      "SEED: 0 ,FOLD: 0, EPOCH: 3, valid_loss: 0.01810620166361332\n",
      "SEED: 0, FOLD: 0, EPOCH: 4, train_loss: 0.020467282751122036\n",
      "SEED: 0 ,FOLD: 0, EPOCH: 4, valid_loss: 0.02459863616296878\n",
      "SEED: 0, FOLD: 0, EPOCH: 5, train_loss: 0.020327686961438204\n",
      "SEED: 0 ,FOLD: 0, EPOCH: 5, valid_loss: 0.017891283648518417\n",
      "SEED: 0, FOLD: 0, EPOCH: 6, train_loss: 0.02007532452006598\n",
      "SEED: 0 ,FOLD: 0, EPOCH: 6, valid_loss: 0.017205232611069314\n",
      "SEED: 0, FOLD: 0, EPOCH: 7, train_loss: 0.019993676048879687\n",
      "SEED: 0 ,FOLD: 0, EPOCH: 7, valid_loss: 0.01711724025125687\n",
      "SEED: 0, FOLD: 0, EPOCH: 8, train_loss: 0.019923877851987206\n",
      "SEED: 0 ,FOLD: 0, EPOCH: 8, valid_loss: 0.017499174206302717\n",
      "SEED: 0, FOLD: 0, EPOCH: 9, train_loss: 0.019993578411034635\n",
      "SEED: 0 ,FOLD: 0, EPOCH: 9, valid_loss: 0.016935387769570716\n",
      "SEED: 0, FOLD: 0, EPOCH: 10, train_loss: 0.019894137147914718\n",
      "SEED: 0 ,FOLD: 0, EPOCH: 10, valid_loss: 0.017115524468513634\n",
      "SEED: 0, FOLD: 0, EPOCH: 11, train_loss: 0.01978068086444526\n",
      "SEED: 0 ,FOLD: 0, EPOCH: 11, valid_loss: 0.017370113386557653\n",
      "SEED: 0, FOLD: 0, EPOCH: 12, train_loss: 0.019781131649742257\n",
      "SEED: 0 ,FOLD: 0, EPOCH: 12, valid_loss: 0.01690258100055731\n",
      "SEED: 0, FOLD: 0, EPOCH: 13, train_loss: 0.01961328205023263\n",
      "SEED: 0 ,FOLD: 0, EPOCH: 13, valid_loss: 0.016697836108505726\n",
      "SEED: 0, FOLD: 0, EPOCH: 14, train_loss: 0.019468838097275915\n",
      "SEED: 0 ,FOLD: 0, EPOCH: 14, valid_loss: 0.016845859658832733\n",
      "SEED: 0, FOLD: 0, EPOCH: 15, train_loss: 0.019348790793604142\n",
      "SEED: 0 ,FOLD: 0, EPOCH: 15, valid_loss: 0.01672092080116272\n",
      "SEED: 0, FOLD: 0, EPOCH: 16, train_loss: 0.01908674677582206\n",
      "SEED: 0 ,FOLD: 0, EPOCH: 16, valid_loss: 0.016590802643734675\n",
      "SEED: 0, FOLD: 0, EPOCH: 17, train_loss: 0.018863532113263737\n",
      "SEED: 0 ,FOLD: 0, EPOCH: 17, valid_loss: 0.016617793374909803\n",
      "SEED: 0, FOLD: 0, EPOCH: 18, train_loss: 0.018553121921581192\n",
      "SEED: 0 ,FOLD: 0, EPOCH: 18, valid_loss: 0.01639153392842183\n",
      "SEED: 0, FOLD: 0, EPOCH: 19, train_loss: 0.018234586141802168\n",
      "SEED: 0 ,FOLD: 0, EPOCH: 19, valid_loss: 0.016270981098596867\n",
      "SEED: 0, FOLD: 0, EPOCH: 20, train_loss: 0.017901398870791937\n",
      "SEED: 0 ,FOLD: 0, EPOCH: 20, valid_loss: 0.01620954217819067\n",
      "SEED: 0, FOLD: 0, EPOCH: 21, train_loss: 0.0174205208423774\n",
      "SEED: 0 ,FOLD: 0, EPOCH: 21, valid_loss: 0.016183274010053046\n",
      "SEED: 0, FOLD: 0, EPOCH: 22, train_loss: 0.0169147353216603\n",
      "SEED: 0 ,FOLD: 0, EPOCH: 22, valid_loss: 0.016152856298364125\n",
      "SEED: 0, FOLD: 0, EPOCH: 23, train_loss: 0.016511161874577\n",
      "SEED: 0 ,FOLD: 0, EPOCH: 23, valid_loss: 0.01608221046626568\n",
      "SEED: 0, FOLD: 0, EPOCH: 24, train_loss: 0.01615990582551505\n",
      "SEED: 0 ,FOLD: 0, EPOCH: 24, valid_loss: 0.01611013810795087\n",
      "SEED: 0, FOLD: 0, EPOCH: 25, train_loss: 0.016057642843775654\n",
      "SEED: 0 ,FOLD: 0, EPOCH: 25, valid_loss: 0.016100929835094854\n",
      "SEED: 0, FOLD: 1, EPOCH: 0, train_loss: 0.5885049616162842\n",
      "SEED: 0 ,FOLD: 1, EPOCH: 0, valid_loss: 0.08199115384083527\n",
      "SEED: 0, FOLD: 1, EPOCH: 1, train_loss: 0.029922325189250545\n",
      "SEED: 0 ,FOLD: 1, EPOCH: 1, valid_loss: 0.0198345950876291\n",
      "SEED: 0, FOLD: 1, EPOCH: 2, train_loss: 0.021976580390253582\n",
      "SEED: 0 ,FOLD: 1, EPOCH: 2, valid_loss: 0.018687655576146565\n",
      "SEED: 0, FOLD: 1, EPOCH: 3, train_loss: 0.020984560226065083\n",
      "SEED: 0 ,FOLD: 1, EPOCH: 3, valid_loss: 0.017847926140977785\n",
      "SEED: 0, FOLD: 1, EPOCH: 4, train_loss: 0.02037822238698199\n",
      "SEED: 0 ,FOLD: 1, EPOCH: 4, valid_loss: 0.017909251153469086\n",
      "SEED: 0, FOLD: 1, EPOCH: 5, train_loss: 0.020127565272756526\n",
      "SEED: 0 ,FOLD: 1, EPOCH: 5, valid_loss: 0.017690935673621986\n",
      "SEED: 0, FOLD: 1, EPOCH: 6, train_loss: 0.020058191557591025\n",
      "SEED: 0 ,FOLD: 1, EPOCH: 6, valid_loss: 0.017429345502303198\n",
      "SEED: 0, FOLD: 1, EPOCH: 7, train_loss: 0.019989602846672404\n",
      "SEED: 0 ,FOLD: 1, EPOCH: 7, valid_loss: 0.01723304333595129\n",
      "SEED: 0, FOLD: 1, EPOCH: 8, train_loss: 0.01991072969158759\n",
      "SEED: 0 ,FOLD: 1, EPOCH: 8, valid_loss: 0.017189484519454148\n",
      "SEED: 0, FOLD: 1, EPOCH: 9, train_loss: 0.019888091152785597\n",
      "SEED: 0 ,FOLD: 1, EPOCH: 9, valid_loss: 0.017139286949084356\n",
      "SEED: 0, FOLD: 1, EPOCH: 10, train_loss: 0.019849123382890545\n",
      "SEED: 0 ,FOLD: 1, EPOCH: 10, valid_loss: 0.017033420574779693\n",
      "SEED: 0, FOLD: 1, EPOCH: 11, train_loss: 0.019810650799725507\n",
      "SEED: 0 ,FOLD: 1, EPOCH: 11, valid_loss: 0.017307420476124838\n",
      "SEED: 0, FOLD: 1, EPOCH: 12, train_loss: 0.019711672454266936\n",
      "SEED: 0 ,FOLD: 1, EPOCH: 12, valid_loss: 0.017021672800183296\n",
      "SEED: 0, FOLD: 1, EPOCH: 13, train_loss: 0.01964230143238564\n",
      "SEED: 0 ,FOLD: 1, EPOCH: 13, valid_loss: 0.01692570151331333\n",
      "SEED: 0, FOLD: 1, EPOCH: 14, train_loss: 0.019496292479940364\n",
      "SEED: 0 ,FOLD: 1, EPOCH: 14, valid_loss: 0.01722571124824194\n",
      "SEED: 0, FOLD: 1, EPOCH: 15, train_loss: 0.019294773580858838\n",
      "SEED: 0 ,FOLD: 1, EPOCH: 15, valid_loss: 0.01668969190751131\n",
      "SEED: 0, FOLD: 1, EPOCH: 16, train_loss: 0.019080438600802743\n",
      "SEED: 0 ,FOLD: 1, EPOCH: 16, valid_loss: 0.01669702514146383\n",
      "SEED: 0, FOLD: 1, EPOCH: 17, train_loss: 0.01886720290860614\n",
      "SEED: 0 ,FOLD: 1, EPOCH: 17, valid_loss: 0.016728235337023552\n",
      "SEED: 0, FOLD: 1, EPOCH: 18, train_loss: 0.018650820604651362\n",
      "SEED: 0 ,FOLD: 1, EPOCH: 18, valid_loss: 0.016499748453497887\n",
      "SEED: 0, FOLD: 1, EPOCH: 19, train_loss: 0.018254753026003774\n",
      "SEED: 0 ,FOLD: 1, EPOCH: 19, valid_loss: 0.016410593015070144\n",
      "SEED: 0, FOLD: 1, EPOCH: 20, train_loss: 0.017863873467856162\n",
      "SEED: 0 ,FOLD: 1, EPOCH: 20, valid_loss: 0.016328328504012182\n",
      "SEED: 0, FOLD: 1, EPOCH: 21, train_loss: 0.01742960832308273\n",
      "SEED: 0 ,FOLD: 1, EPOCH: 21, valid_loss: 0.016307249736900512\n",
      "SEED: 0, FOLD: 1, EPOCH: 22, train_loss: 0.01703385083709617\n",
      "SEED: 0 ,FOLD: 1, EPOCH: 22, valid_loss: 0.016251584658255942\n",
      "SEED: 0, FOLD: 1, EPOCH: 23, train_loss: 0.016633053360557235\n",
      "SEED: 0 ,FOLD: 1, EPOCH: 23, valid_loss: 0.01621921553921241\n",
      "SEED: 0, FOLD: 1, EPOCH: 24, train_loss: 0.016340707416167936\n",
      "SEED: 0 ,FOLD: 1, EPOCH: 24, valid_loss: 0.016199517207076915\n",
      "SEED: 0, FOLD: 1, EPOCH: 25, train_loss: 0.016207110086405598\n",
      "SEED: 0 ,FOLD: 1, EPOCH: 25, valid_loss: 0.01620047639768857\n",
      "SEED: 0, FOLD: 2, EPOCH: 0, train_loss: 0.5890309693845542\n",
      "SEED: 0 ,FOLD: 2, EPOCH: 0, valid_loss: 0.10139158941232242\n",
      "SEED: 0, FOLD: 2, EPOCH: 1, train_loss: 0.03006854245590197\n",
      "SEED: 0 ,FOLD: 2, EPOCH: 1, valid_loss: 0.01982267817052511\n",
      "SEED: 0, FOLD: 2, EPOCH: 2, train_loss: 0.022004051863945818\n",
      "SEED: 0 ,FOLD: 2, EPOCH: 2, valid_loss: 0.017982457262965348\n",
      "SEED: 0, FOLD: 2, EPOCH: 3, train_loss: 0.021184491471865692\n",
      "SEED: 0 ,FOLD: 2, EPOCH: 3, valid_loss: 0.027050609772021953\n",
      "SEED: 0, FOLD: 2, EPOCH: 4, train_loss: 0.021031205768923502\n",
      "SEED: 0 ,FOLD: 2, EPOCH: 4, valid_loss: 0.01753462113153476\n",
      "SEED: 0, FOLD: 2, EPOCH: 5, train_loss: 0.020250480596882267\n",
      "SEED: 0 ,FOLD: 2, EPOCH: 5, valid_loss: 0.017343963997868393\n",
      "SEED: 0, FOLD: 2, EPOCH: 6, train_loss: 0.020058973314794334\n",
      "SEED: 0 ,FOLD: 2, EPOCH: 6, valid_loss: 0.01725108104829605\n",
      "SEED: 0, FOLD: 2, EPOCH: 7, train_loss: 0.02001617509066253\n",
      "SEED: 0 ,FOLD: 2, EPOCH: 7, valid_loss: 0.017116899888675947\n",
      "SEED: 0, FOLD: 2, EPOCH: 8, train_loss: 0.02001328260411282\n",
      "SEED: 0 ,FOLD: 2, EPOCH: 8, valid_loss: 0.01696377398016361\n",
      "SEED: 0, FOLD: 2, EPOCH: 9, train_loss: 0.01989513580259439\n",
      "SEED: 0 ,FOLD: 2, EPOCH: 9, valid_loss: 0.01690195808903529\n",
      "SEED: 0, FOLD: 2, EPOCH: 10, train_loss: 0.019958974869065994\n",
      "SEED: 0 ,FOLD: 2, EPOCH: 10, valid_loss: 0.016673874396544237\n",
      "SEED: 0, FOLD: 2, EPOCH: 11, train_loss: 0.019744630399587994\n",
      "SEED: 0 ,FOLD: 2, EPOCH: 11, valid_loss: 0.01705511759680051\n",
      "SEED: 0, FOLD: 2, EPOCH: 12, train_loss: 0.019749207069744933\n",
      "SEED: 0 ,FOLD: 2, EPOCH: 12, valid_loss: 0.016923008343348138\n",
      "SEED: 0, FOLD: 2, EPOCH: 13, train_loss: 0.01957934070378542\n",
      "SEED: 0 ,FOLD: 2, EPOCH: 13, valid_loss: 0.01679557576202429\n",
      "SEED: 0, FOLD: 2, EPOCH: 14, train_loss: 0.019448470097739954\n",
      "SEED: 0 ,FOLD: 2, EPOCH: 14, valid_loss: 0.016749749891459942\n",
      "SEED: 0, FOLD: 2, EPOCH: 15, train_loss: 0.019353358477756783\n",
      "SEED: 0 ,FOLD: 2, EPOCH: 15, valid_loss: 0.016554949446939506\n",
      "SEED: 0, FOLD: 2, EPOCH: 16, train_loss: 0.019179455533220962\n",
      "SEED: 0 ,FOLD: 2, EPOCH: 16, valid_loss: 0.016460827121940944\n",
      "SEED: 0, FOLD: 2, EPOCH: 17, train_loss: 0.018808568752295262\n",
      "SEED: 0 ,FOLD: 2, EPOCH: 17, valid_loss: 0.01632432474826391\n",
      "SEED: 0, FOLD: 2, EPOCH: 18, train_loss: 0.018591605705788005\n",
      "SEED: 0 ,FOLD: 2, EPOCH: 18, valid_loss: 0.016251727723731443\n",
      "SEED: 0, FOLD: 2, EPOCH: 19, train_loss: 0.018283873217532765\n",
      "SEED: 0 ,FOLD: 2, EPOCH: 19, valid_loss: 0.01636656954024847\n",
      "SEED: 0, FOLD: 2, EPOCH: 20, train_loss: 0.017833907887138224\n",
      "SEED: 0 ,FOLD: 2, EPOCH: 20, valid_loss: 0.016158151870163586\n",
      "SEED: 0, FOLD: 2, EPOCH: 21, train_loss: 0.0174391645736791\n",
      "SEED: 0 ,FOLD: 2, EPOCH: 21, valid_loss: 0.0161030635667535\n",
      "SEED: 0, FOLD: 2, EPOCH: 22, train_loss: 0.01695627047101388\n",
      "SEED: 0 ,FOLD: 2, EPOCH: 22, valid_loss: 0.0160105348779605\n",
      "SEED: 0, FOLD: 2, EPOCH: 23, train_loss: 0.016528895351330977\n",
      "SEED: 0 ,FOLD: 2, EPOCH: 23, valid_loss: 0.01600884861097886\n",
      "SEED: 0, FOLD: 2, EPOCH: 24, train_loss: 0.016191698610782623\n",
      "SEED: 0 ,FOLD: 2, EPOCH: 24, valid_loss: 0.016024891143808\n",
      "SEED: 0, FOLD: 2, EPOCH: 25, train_loss: 0.01607812790049089\n",
      "SEED: 0 ,FOLD: 2, EPOCH: 25, valid_loss: 0.016007034896084897\n",
      "SEED: 0, FOLD: 3, EPOCH: 0, train_loss: 0.587782896451048\n",
      "SEED: 0 ,FOLD: 3, EPOCH: 0, valid_loss: 0.10124537864556679\n",
      "SEED: 0, FOLD: 3, EPOCH: 1, train_loss: 0.030014215540644283\n",
      "SEED: 0 ,FOLD: 3, EPOCH: 1, valid_loss: 0.020365977086699925\n",
      "SEED: 0, FOLD: 3, EPOCH: 2, train_loss: 0.02198538075931169\n",
      "SEED: 0 ,FOLD: 3, EPOCH: 2, valid_loss: 0.019176815421535418\n",
      "SEED: 0, FOLD: 3, EPOCH: 3, train_loss: 0.021118042940223538\n",
      "SEED: 0 ,FOLD: 3, EPOCH: 3, valid_loss: 0.018139256737553157\n",
      "SEED: 0, FOLD: 3, EPOCH: 4, train_loss: 0.020346566355107603\n",
      "SEED: 0 ,FOLD: 3, EPOCH: 4, valid_loss: 0.017400038070403613\n",
      "SEED: 0, FOLD: 3, EPOCH: 5, train_loss: 0.02015612498429176\n",
      "SEED: 0 ,FOLD: 3, EPOCH: 5, valid_loss: 0.01752479116504009\n",
      "SEED: 0, FOLD: 3, EPOCH: 6, train_loss: 0.020058286376297474\n",
      "SEED: 0 ,FOLD: 3, EPOCH: 6, valid_loss: 0.01739365578843997\n",
      "SEED: 0, FOLD: 3, EPOCH: 7, train_loss: 0.01997782544207734\n",
      "SEED: 0 ,FOLD: 3, EPOCH: 7, valid_loss: 0.017564696188156422\n",
      "SEED: 0, FOLD: 3, EPOCH: 8, train_loss: 0.02001545059721212\n",
      "SEED: 0 ,FOLD: 3, EPOCH: 8, valid_loss: 0.017353638290212706\n",
      "SEED: 0, FOLD: 3, EPOCH: 9, train_loss: 0.01991916588834814\n",
      "SEED: 0 ,FOLD: 3, EPOCH: 9, valid_loss: 0.01805997883471159\n",
      "SEED: 0, FOLD: 3, EPOCH: 10, train_loss: 0.019908150456644392\n",
      "SEED: 0 ,FOLD: 3, EPOCH: 10, valid_loss: 0.017027439549565315\n",
      "SEED: 0, FOLD: 3, EPOCH: 11, train_loss: 0.019826383606807607\n",
      "SEED: 0 ,FOLD: 3, EPOCH: 11, valid_loss: 0.017235115313759215\n",
      "SEED: 0, FOLD: 3, EPOCH: 12, train_loss: 0.019698109351904004\n",
      "SEED: 0 ,FOLD: 3, EPOCH: 12, valid_loss: 0.01688049017236783\n",
      "SEED: 0, FOLD: 3, EPOCH: 13, train_loss: 0.019665015206949132\n",
      "SEED: 0 ,FOLD: 3, EPOCH: 13, valid_loss: 0.017095928008739766\n",
      "SEED: 0, FOLD: 3, EPOCH: 14, train_loss: 0.019561445592222986\n",
      "SEED: 0 ,FOLD: 3, EPOCH: 14, valid_loss: 0.016776852023143034\n",
      "SEED: 0, FOLD: 3, EPOCH: 15, train_loss: 0.01941636177031575\n",
      "SEED: 0 ,FOLD: 3, EPOCH: 15, valid_loss: 0.016684902258790456\n",
      "SEED: 0, FOLD: 3, EPOCH: 16, train_loss: 0.019180005038710864\n",
      "SEED: 0 ,FOLD: 3, EPOCH: 16, valid_loss: 0.01668217907158228\n",
      "SEED: 0, FOLD: 3, EPOCH: 17, train_loss: 0.018951643963117857\n",
      "SEED: 0 ,FOLD: 3, EPOCH: 17, valid_loss: 0.016552567696915224\n",
      "SEED: 0, FOLD: 3, EPOCH: 18, train_loss: 0.01866411609021393\n",
      "SEED: 0 ,FOLD: 3, EPOCH: 18, valid_loss: 0.016475630207703665\n",
      "SEED: 0, FOLD: 3, EPOCH: 19, train_loss: 0.01837390526575414\n",
      "SEED: 0 ,FOLD: 3, EPOCH: 19, valid_loss: 0.016320337899602376\n",
      "SEED: 0, FOLD: 3, EPOCH: 20, train_loss: 0.017993533681776072\n",
      "SEED: 0 ,FOLD: 3, EPOCH: 20, valid_loss: 0.01625732289483914\n",
      "SEED: 0, FOLD: 3, EPOCH: 21, train_loss: 0.017613557142180367\n",
      "SEED: 0 ,FOLD: 3, EPOCH: 21, valid_loss: 0.016245004506065294\n",
      "SEED: 0, FOLD: 3, EPOCH: 22, train_loss: 0.017174889107008238\n",
      "SEED: 0 ,FOLD: 3, EPOCH: 22, valid_loss: 0.016177775338292122\n",
      "SEED: 0, FOLD: 3, EPOCH: 23, train_loss: 0.016801701632101793\n",
      "SEED: 0 ,FOLD: 3, EPOCH: 23, valid_loss: 0.016107930443607844\n",
      "SEED: 0, FOLD: 3, EPOCH: 24, train_loss: 0.016527700401540543\n",
      "SEED: 0 ,FOLD: 3, EPOCH: 24, valid_loss: 0.016125014338355798\n",
      "SEED: 0, FOLD: 3, EPOCH: 25, train_loss: 0.016416322024589456\n",
      "SEED: 0 ,FOLD: 3, EPOCH: 25, valid_loss: 0.01613275155138511\n",
      "SEED: 0, FOLD: 4, EPOCH: 0, train_loss: 0.5882984868980743\n",
      "SEED: 0 ,FOLD: 4, EPOCH: 0, valid_loss: 0.10525493896924533\n",
      "SEED: 0, FOLD: 4, EPOCH: 1, train_loss: 0.030150022533898417\n",
      "SEED: 0 ,FOLD: 4, EPOCH: 1, valid_loss: 0.019784875500660676\n",
      "SEED: 0, FOLD: 4, EPOCH: 2, train_loss: 0.022237891608194726\n",
      "SEED: 0 ,FOLD: 4, EPOCH: 2, valid_loss: 0.018435600930108473\n",
      "SEED: 0, FOLD: 4, EPOCH: 3, train_loss: 0.021097527514841105\n",
      "SEED: 0 ,FOLD: 4, EPOCH: 3, valid_loss: 0.017785659847924344\n",
      "SEED: 0, FOLD: 4, EPOCH: 4, train_loss: 0.020428180191162472\n",
      "SEED: 0 ,FOLD: 4, EPOCH: 4, valid_loss: 0.01748795506472771\n",
      "SEED: 0, FOLD: 4, EPOCH: 5, train_loss: 0.02160532062722219\n",
      "SEED: 0 ,FOLD: 4, EPOCH: 5, valid_loss: 0.01727523310826375\n",
      "SEED: 0, FOLD: 4, EPOCH: 6, train_loss: 0.02039168991551206\n",
      "SEED: 0 ,FOLD: 4, EPOCH: 6, valid_loss: 0.017199348013561506\n",
      "SEED: 0, FOLD: 4, EPOCH: 7, train_loss: 0.020192124855679436\n",
      "SEED: 0 ,FOLD: 4, EPOCH: 7, valid_loss: 0.01699703222570511\n",
      "SEED: 0, FOLD: 4, EPOCH: 8, train_loss: 0.020018962564299237\n",
      "SEED: 0 ,FOLD: 4, EPOCH: 8, valid_loss: 0.01700849737972021\n",
      "SEED: 0, FOLD: 4, EPOCH: 9, train_loss: 0.019979191893661343\n",
      "SEED: 0 ,FOLD: 4, EPOCH: 9, valid_loss: 0.01684664934873581\n",
      "SEED: 0, FOLD: 4, EPOCH: 10, train_loss: 0.01990440012131994\n",
      "SEED: 0 ,FOLD: 4, EPOCH: 10, valid_loss: 0.016863001725421503\n",
      "SEED: 0, FOLD: 4, EPOCH: 11, train_loss: 0.01979894143202015\n",
      "SEED: 0 ,FOLD: 4, EPOCH: 11, valid_loss: 0.016764643530432995\n",
      "SEED: 0, FOLD: 4, EPOCH: 12, train_loss: 0.01977955665741418\n",
      "SEED: 0 ,FOLD: 4, EPOCH: 12, valid_loss: 0.016876664800712697\n",
      "SEED: 0, FOLD: 4, EPOCH: 13, train_loss: 0.01968165922507241\n",
      "SEED: 0 ,FOLD: 4, EPOCH: 13, valid_loss: 0.01665271560733135\n",
      "SEED: 0, FOLD: 4, EPOCH: 14, train_loss: 0.01954508278317548\n",
      "SEED: 0 ,FOLD: 4, EPOCH: 14, valid_loss: 0.016471352499838058\n",
      "SEED: 0, FOLD: 4, EPOCH: 15, train_loss: 0.01936115848051535\n",
      "SEED: 0 ,FOLD: 4, EPOCH: 15, valid_loss: 0.01656635650075399\n",
      "SEED: 0, FOLD: 4, EPOCH: 16, train_loss: 0.019134464522672666\n",
      "SEED: 0 ,FOLD: 4, EPOCH: 16, valid_loss: 0.01643728407529684\n",
      "SEED: 0, FOLD: 4, EPOCH: 17, train_loss: 0.018905265886034514\n",
      "SEED: 0 ,FOLD: 4, EPOCH: 17, valid_loss: 0.016244434393369235\n",
      "SEED: 0, FOLD: 4, EPOCH: 18, train_loss: 0.01859256431359697\n",
      "SEED: 0 ,FOLD: 4, EPOCH: 18, valid_loss: 0.01612641870115812\n",
      "SEED: 0, FOLD: 4, EPOCH: 19, train_loss: 0.01824206514032306\n",
      "SEED: 0 ,FOLD: 4, EPOCH: 19, valid_loss: 0.015965960203455046\n",
      "SEED: 0, FOLD: 4, EPOCH: 20, train_loss: 0.0179069262451014\n",
      "SEED: 0 ,FOLD: 4, EPOCH: 20, valid_loss: 0.016009387130347583\n",
      "SEED: 0, FOLD: 4, EPOCH: 21, train_loss: 0.017427628935390228\n",
      "SEED: 0 ,FOLD: 4, EPOCH: 21, valid_loss: 0.015835453183032\n",
      "SEED: 0, FOLD: 4, EPOCH: 22, train_loss: 0.01701200972437053\n",
      "SEED: 0 ,FOLD: 4, EPOCH: 22, valid_loss: 0.015830019274010107\n",
      "SEED: 0, FOLD: 4, EPOCH: 23, train_loss: 0.01656481544361324\n",
      "SEED: 0 ,FOLD: 4, EPOCH: 23, valid_loss: 0.01579045131802559\n",
      "SEED: 0, FOLD: 4, EPOCH: 24, train_loss: 0.016312985643241053\n",
      "SEED: 0 ,FOLD: 4, EPOCH: 24, valid_loss: 0.015766104110158406\n",
      "SEED: 0, FOLD: 4, EPOCH: 25, train_loss: 0.016170388767244043\n",
      "SEED: 0 ,FOLD: 4, EPOCH: 25, valid_loss: 0.015788130247249052\n",
      "SEED: 0, FOLD: 5, EPOCH: 0, train_loss: 0.5874851448713122\n",
      "SEED: 0 ,FOLD: 5, EPOCH: 0, valid_loss: 0.09373151854826854\n",
      "SEED: 0, FOLD: 5, EPOCH: 1, train_loss: 0.02999468459873586\n",
      "SEED: 0 ,FOLD: 5, EPOCH: 1, valid_loss: 0.019821221008896828\n",
      "SEED: 0, FOLD: 5, EPOCH: 2, train_loss: 0.021968460641801357\n",
      "SEED: 0 ,FOLD: 5, EPOCH: 2, valid_loss: 0.018069642381026194\n",
      "SEED: 0, FOLD: 5, EPOCH: 3, train_loss: 0.02105990986062868\n",
      "SEED: 0 ,FOLD: 5, EPOCH: 3, valid_loss: 0.017377225109017812\n",
      "SEED: 0, FOLD: 5, EPOCH: 4, train_loss: 0.020384608818268455\n",
      "SEED: 0 ,FOLD: 5, EPOCH: 4, valid_loss: 0.01705680085489383\n",
      "SEED: 0, FOLD: 5, EPOCH: 5, train_loss: 0.020197689105328674\n",
      "SEED: 0 ,FOLD: 5, EPOCH: 5, valid_loss: 0.01694429164322523\n",
      "SEED: 0, FOLD: 5, EPOCH: 6, train_loss: 0.019999082653305016\n",
      "SEED: 0 ,FOLD: 5, EPOCH: 6, valid_loss: 0.0172173110051797\n",
      "SEED: 0, FOLD: 5, EPOCH: 7, train_loss: 0.01998912965929186\n",
      "SEED: 0 ,FOLD: 5, EPOCH: 7, valid_loss: 0.01690611608612996\n",
      "SEED: 0, FOLD: 5, EPOCH: 8, train_loss: 0.019938197364476887\n",
      "SEED: 0 ,FOLD: 5, EPOCH: 8, valid_loss: 0.016778922711427394\n",
      "SEED: 0, FOLD: 5, EPOCH: 9, train_loss: 0.01987785063180569\n",
      "SEED: 0 ,FOLD: 5, EPOCH: 9, valid_loss: 0.016941016898132287\n",
      "SEED: 0, FOLD: 5, EPOCH: 10, train_loss: 0.019877663838702278\n",
      "SEED: 0 ,FOLD: 5, EPOCH: 10, valid_loss: 0.01680615057165806\n",
      "SEED: 0, FOLD: 5, EPOCH: 11, train_loss: 0.019804854424217262\n",
      "SEED: 0 ,FOLD: 5, EPOCH: 11, valid_loss: 0.01655432445785174\n",
      "SEED: 0, FOLD: 5, EPOCH: 12, train_loss: 0.019749071272845205\n",
      "SEED: 0 ,FOLD: 5, EPOCH: 12, valid_loss: 0.016501012902993422\n",
      "SEED: 0, FOLD: 5, EPOCH: 13, train_loss: 0.019625964096269093\n",
      "SEED: 0 ,FOLD: 5, EPOCH: 13, valid_loss: 0.016556468434058703\n",
      "SEED: 0, FOLD: 5, EPOCH: 14, train_loss: 0.019535865181603947\n",
      "SEED: 0 ,FOLD: 5, EPOCH: 14, valid_loss: 0.016523664745573815\n",
      "SEED: 0, FOLD: 5, EPOCH: 15, train_loss: 0.019286283468072478\n",
      "SEED: 0 ,FOLD: 5, EPOCH: 15, valid_loss: 0.01635165226001006\n",
      "SEED: 0, FOLD: 5, EPOCH: 16, train_loss: 0.019113593508262892\n",
      "SEED: 0 ,FOLD: 5, EPOCH: 16, valid_loss: 0.016218086059849996\n",
      "SEED: 0, FOLD: 5, EPOCH: 17, train_loss: 0.01884921416136864\n",
      "SEED: 0 ,FOLD: 5, EPOCH: 17, valid_loss: 0.01614383257065828\n",
      "SEED: 0, FOLD: 5, EPOCH: 18, train_loss: 0.018614042449641873\n",
      "SEED: 0 ,FOLD: 5, EPOCH: 18, valid_loss: 0.01617706731821482\n",
      "SEED: 0, FOLD: 5, EPOCH: 19, train_loss: 0.018299485279901606\n",
      "SEED: 0 ,FOLD: 5, EPOCH: 19, valid_loss: 0.016063766195797004\n",
      "SEED: 0, FOLD: 5, EPOCH: 20, train_loss: 0.017855138769625006\n",
      "SEED: 0 ,FOLD: 5, EPOCH: 20, valid_loss: 0.01589673714568982\n",
      "SEED: 0, FOLD: 5, EPOCH: 21, train_loss: 0.01742891111486667\n",
      "SEED: 0 ,FOLD: 5, EPOCH: 21, valid_loss: 0.015860616301114742\n",
      "SEED: 0, FOLD: 5, EPOCH: 22, train_loss: 0.016938753023340896\n",
      "SEED: 0 ,FOLD: 5, EPOCH: 22, valid_loss: 0.015866816616975345\n",
      "SEED: 0, FOLD: 5, EPOCH: 23, train_loss: 0.016549560732233362\n",
      "SEED: 0 ,FOLD: 5, EPOCH: 23, valid_loss: 0.01581859739067463\n",
      "SEED: 0, FOLD: 5, EPOCH: 24, train_loss: 0.016268019451180827\n",
      "SEED: 0 ,FOLD: 5, EPOCH: 24, valid_loss: 0.015788086546728246\n",
      "SEED: 0, FOLD: 5, EPOCH: 25, train_loss: 0.01614979825712539\n",
      "SEED: 0 ,FOLD: 5, EPOCH: 25, valid_loss: 0.015790601619161092\n",
      "SEED: 0, FOLD: 6, EPOCH: 0, train_loss: 0.5887092937891548\n",
      "SEED: 0 ,FOLD: 6, EPOCH: 0, valid_loss: 0.0897686189183822\n",
      "SEED: 0, FOLD: 6, EPOCH: 1, train_loss: 0.02987672672984568\n",
      "SEED: 0 ,FOLD: 6, EPOCH: 1, valid_loss: 0.02043813381057519\n",
      "SEED: 0, FOLD: 6, EPOCH: 2, train_loss: 0.021890045294689166\n",
      "SEED: 0 ,FOLD: 6, EPOCH: 2, valid_loss: 0.018468284549621437\n",
      "SEED: 0, FOLD: 6, EPOCH: 3, train_loss: 0.02112679754862109\n",
      "SEED: 0 ,FOLD: 6, EPOCH: 3, valid_loss: 0.017836027707044896\n",
      "SEED: 0, FOLD: 6, EPOCH: 4, train_loss: 0.020420766058000358\n",
      "SEED: 0 ,FOLD: 6, EPOCH: 4, valid_loss: 0.017519593095550172\n",
      "SEED: 0, FOLD: 6, EPOCH: 5, train_loss: 0.020071275381220353\n",
      "SEED: 0 ,FOLD: 6, EPOCH: 5, valid_loss: 0.017571676665773757\n",
      "SEED: 0, FOLD: 6, EPOCH: 6, train_loss: 0.019985092652810586\n",
      "SEED: 0 ,FOLD: 6, EPOCH: 6, valid_loss: 0.017461460656844653\n",
      "SEED: 0, FOLD: 6, EPOCH: 7, train_loss: 0.01991586757169382\n",
      "SEED: 0 ,FOLD: 6, EPOCH: 7, valid_loss: 0.0172285706951068\n",
      "SEED: 0, FOLD: 6, EPOCH: 8, train_loss: 0.01988964293756195\n",
      "SEED: 0 ,FOLD: 6, EPOCH: 8, valid_loss: 0.01737895321387511\n",
      "SEED: 0, FOLD: 6, EPOCH: 9, train_loss: 0.019878371895567792\n",
      "SEED: 0 ,FOLD: 6, EPOCH: 9, valid_loss: 0.0170790793804022\n",
      "SEED: 0, FOLD: 6, EPOCH: 10, train_loss: 0.01978121931991867\n",
      "SEED: 0 ,FOLD: 6, EPOCH: 10, valid_loss: 0.01749547069462446\n",
      "SEED: 0, FOLD: 6, EPOCH: 11, train_loss: 0.019801921186012192\n",
      "SEED: 0 ,FOLD: 6, EPOCH: 11, valid_loss: 0.01718439605946724\n",
      "SEED: 0, FOLD: 6, EPOCH: 12, train_loss: 0.019719637804538816\n",
      "SEED: 0 ,FOLD: 6, EPOCH: 12, valid_loss: 0.017050708429171488\n",
      "SEED: 0, FOLD: 6, EPOCH: 13, train_loss: 0.01961199430799162\n",
      "SEED: 0 ,FOLD: 6, EPOCH: 13, valid_loss: 0.017011492441479977\n",
      "SEED: 0, FOLD: 6, EPOCH: 14, train_loss: 0.01944508813825008\n",
      "SEED: 0 ,FOLD: 6, EPOCH: 14, valid_loss: 0.016930534575994197\n",
      "SEED: 0, FOLD: 6, EPOCH: 15, train_loss: 0.01926350729489649\n",
      "SEED: 0 ,FOLD: 6, EPOCH: 15, valid_loss: 0.01676591170521883\n",
      "SEED: 0, FOLD: 6, EPOCH: 16, train_loss: 0.019027139739813032\n",
      "SEED: 0 ,FOLD: 6, EPOCH: 16, valid_loss: 0.016726574645592615\n",
      "SEED: 0, FOLD: 6, EPOCH: 17, train_loss: 0.018861380305040528\n",
      "SEED: 0 ,FOLD: 6, EPOCH: 17, valid_loss: 0.016565900295972824\n",
      "SEED: 0, FOLD: 6, EPOCH: 18, train_loss: 0.018552465968438098\n",
      "SEED: 0 ,FOLD: 6, EPOCH: 18, valid_loss: 0.016566651658369944\n",
      "SEED: 0, FOLD: 6, EPOCH: 19, train_loss: 0.018185435643268598\n",
      "SEED: 0 ,FOLD: 6, EPOCH: 19, valid_loss: 0.0164725763293413\n",
      "SEED: 0, FOLD: 6, EPOCH: 20, train_loss: 0.01784693663688125\n",
      "SEED: 0 ,FOLD: 6, EPOCH: 20, valid_loss: 0.016357820839262925\n",
      "SEED: 0, FOLD: 6, EPOCH: 21, train_loss: 0.01734886777813773\n",
      "SEED: 0 ,FOLD: 6, EPOCH: 21, valid_loss: 0.016283229136696227\n",
      "SEED: 0, FOLD: 6, EPOCH: 22, train_loss: 0.016915184558948148\n",
      "SEED: 0 ,FOLD: 6, EPOCH: 22, valid_loss: 0.01630035501260024\n",
      "SEED: 0, FOLD: 6, EPOCH: 23, train_loss: 0.01654673074497967\n",
      "SEED: 0 ,FOLD: 6, EPOCH: 23, valid_loss: 0.016275785935039703\n",
      "SEED: 0, FOLD: 6, EPOCH: 24, train_loss: 0.016225397523895308\n",
      "SEED: 0 ,FOLD: 6, EPOCH: 24, valid_loss: 0.01627561844025667\n",
      "SEED: 0, FOLD: 6, EPOCH: 25, train_loss: 0.016145912074559444\n",
      "SEED: 0 ,FOLD: 6, EPOCH: 25, valid_loss: 0.016261108864385348\n",
      "SEED: 1, FOLD: 0, EPOCH: 0, train_loss: 0.5892267892690929\n",
      "SEED: 1 ,FOLD: 0, EPOCH: 0, valid_loss: 0.09288183542398307\n",
      "SEED: 1, FOLD: 0, EPOCH: 1, train_loss: 0.03001072008565471\n",
      "SEED: 1 ,FOLD: 0, EPOCH: 1, valid_loss: 0.01976350164757325\n",
      "SEED: 1, FOLD: 0, EPOCH: 2, train_loss: 0.021934702086287575\n",
      "SEED: 1 ,FOLD: 0, EPOCH: 2, valid_loss: 0.01994068720019781\n",
      "SEED: 1, FOLD: 0, EPOCH: 3, train_loss: 0.021663502185932687\n",
      "SEED: 1 ,FOLD: 0, EPOCH: 3, valid_loss: 0.01775201839896349\n",
      "SEED: 1, FOLD: 0, EPOCH: 4, train_loss: 0.02043913531343679\n",
      "SEED: 1 ,FOLD: 0, EPOCH: 4, valid_loss: 0.017316495426572286\n",
      "SEED: 1, FOLD: 0, EPOCH: 5, train_loss: 0.020240292758555024\n",
      "SEED: 1 ,FOLD: 0, EPOCH: 5, valid_loss: 0.017217958346009254\n",
      "SEED: 1, FOLD: 0, EPOCH: 6, train_loss: 0.020066892577184213\n",
      "SEED: 1 ,FOLD: 0, EPOCH: 6, valid_loss: 0.01718314507832894\n",
      "SEED: 1, FOLD: 0, EPOCH: 7, train_loss: 0.01998599898070097\n",
      "SEED: 1 ,FOLD: 0, EPOCH: 7, valid_loss: 0.017130132764577866\n",
      "SEED: 1, FOLD: 0, EPOCH: 8, train_loss: 0.01991981116903795\n",
      "SEED: 1 ,FOLD: 0, EPOCH: 8, valid_loss: 0.01731107498590763\n",
      "SEED: 1, FOLD: 0, EPOCH: 9, train_loss: 0.01995963469852467\n",
      "SEED: 1 ,FOLD: 0, EPOCH: 9, valid_loss: 0.017053944560197685\n",
      "SEED: 1, FOLD: 0, EPOCH: 10, train_loss: 0.019871974338752194\n",
      "SEED: 1 ,FOLD: 0, EPOCH: 10, valid_loss: 0.016862294923227567\n",
      "SEED: 1, FOLD: 0, EPOCH: 11, train_loss: 0.019786637905683066\n",
      "SEED: 1 ,FOLD: 0, EPOCH: 11, valid_loss: 0.01698766018335636\n",
      "SEED: 1, FOLD: 0, EPOCH: 12, train_loss: 0.019752860673376033\n",
      "SEED: 1 ,FOLD: 0, EPOCH: 12, valid_loss: 0.016941441867787104\n",
      "SEED: 1, FOLD: 0, EPOCH: 13, train_loss: 0.019646115777258936\n",
      "SEED: 1 ,FOLD: 0, EPOCH: 13, valid_loss: 0.01686438559912718\n",
      "SEED: 1, FOLD: 0, EPOCH: 14, train_loss: 0.019525076992608404\n",
      "SEED: 1 ,FOLD: 0, EPOCH: 14, valid_loss: 0.016704891665050618\n",
      "SEED: 1, FOLD: 0, EPOCH: 15, train_loss: 0.019264962121441558\n",
      "SEED: 1 ,FOLD: 0, EPOCH: 15, valid_loss: 0.01672846286629255\n",
      "SEED: 1, FOLD: 0, EPOCH: 16, train_loss: 0.019149715634616645\n",
      "SEED: 1 ,FOLD: 0, EPOCH: 16, valid_loss: 0.01661103705947216\n",
      "SEED: 1, FOLD: 0, EPOCH: 17, train_loss: 0.018917129022648204\n",
      "SEED: 1 ,FOLD: 0, EPOCH: 17, valid_loss: 0.016529509582771704\n",
      "SEED: 1, FOLD: 0, EPOCH: 18, train_loss: 0.018654028482332424\n",
      "SEED: 1 ,FOLD: 0, EPOCH: 18, valid_loss: 0.016496381292549465\n",
      "SEED: 1, FOLD: 0, EPOCH: 19, train_loss: 0.018286828090109536\n",
      "SEED: 1 ,FOLD: 0, EPOCH: 19, valid_loss: 0.016301199363974426\n",
      "SEED: 1, FOLD: 0, EPOCH: 20, train_loss: 0.017910072605150776\n",
      "SEED: 1 ,FOLD: 0, EPOCH: 20, valid_loss: 0.0162581279157446\n",
      "SEED: 1, FOLD: 0, EPOCH: 21, train_loss: 0.017456037898522778\n",
      "SEED: 1 ,FOLD: 0, EPOCH: 21, valid_loss: 0.016234202668643914\n",
      "SEED: 1, FOLD: 0, EPOCH: 22, train_loss: 0.017038903501186822\n",
      "SEED: 1 ,FOLD: 0, EPOCH: 22, valid_loss: 0.016166616732684467\n",
      "SEED: 1, FOLD: 0, EPOCH: 23, train_loss: 0.016622456545765336\n",
      "SEED: 1 ,FOLD: 0, EPOCH: 23, valid_loss: 0.016142249322281435\n",
      "SEED: 1, FOLD: 0, EPOCH: 24, train_loss: 0.016340340953320265\n",
      "SEED: 1 ,FOLD: 0, EPOCH: 24, valid_loss: 0.01611047352735813\n",
      "SEED: 1, FOLD: 0, EPOCH: 25, train_loss: 0.01622012408601271\n",
      "SEED: 1 ,FOLD: 0, EPOCH: 25, valid_loss: 0.016135552826409157\n",
      "SEED: 1, FOLD: 1, EPOCH: 0, train_loss: 0.5878990749652321\n",
      "SEED: 1 ,FOLD: 1, EPOCH: 0, valid_loss: 0.08331454831820267\n",
      "SEED: 1, FOLD: 1, EPOCH: 1, train_loss: 0.03043341120654667\n",
      "SEED: 1 ,FOLD: 1, EPOCH: 1, valid_loss: 0.019921229149286564\n",
      "SEED: 1, FOLD: 1, EPOCH: 2, train_loss: 0.022074897924589144\n",
      "SEED: 1 ,FOLD: 1, EPOCH: 2, valid_loss: 0.018365555801070653\n",
      "SEED: 1, FOLD: 1, EPOCH: 3, train_loss: 0.0213426540580553\n",
      "SEED: 1 ,FOLD: 1, EPOCH: 3, valid_loss: 0.018111787951336458\n",
      "SEED: 1, FOLD: 1, EPOCH: 4, train_loss: 0.02084130091542328\n",
      "SEED: 1 ,FOLD: 1, EPOCH: 4, valid_loss: 0.017377659750099365\n",
      "SEED: 1, FOLD: 1, EPOCH: 5, train_loss: 0.02020117877101576\n",
      "SEED: 1 ,FOLD: 1, EPOCH: 5, valid_loss: 0.017050318993054904\n",
      "SEED: 1, FOLD: 1, EPOCH: 6, train_loss: 0.020190322318592586\n",
      "SEED: 1 ,FOLD: 1, EPOCH: 6, valid_loss: 0.01874362204510432\n",
      "SEED: 1, FOLD: 1, EPOCH: 7, train_loss: 0.019969985417618945\n",
      "SEED: 1 ,FOLD: 1, EPOCH: 7, valid_loss: 0.01682604247560868\n",
      "SEED: 1, FOLD: 1, EPOCH: 8, train_loss: 0.019960748384127747\n",
      "SEED: 1 ,FOLD: 1, EPOCH: 8, valid_loss: 0.016935890468840416\n",
      "SEED: 1, FOLD: 1, EPOCH: 9, train_loss: 0.019832006429095526\n",
      "SEED: 1 ,FOLD: 1, EPOCH: 9, valid_loss: 0.017024904704437807\n",
      "SEED: 1, FOLD: 1, EPOCH: 10, train_loss: 0.019873703930627654\n",
      "SEED: 1 ,FOLD: 1, EPOCH: 10, valid_loss: 0.01690982461262208\n",
      "SEED: 1, FOLD: 1, EPOCH: 11, train_loss: 0.019772936866895574\n",
      "SEED: 1 ,FOLD: 1, EPOCH: 11, valid_loss: 0.016659651309824906\n",
      "SEED: 1, FOLD: 1, EPOCH: 12, train_loss: 0.019730011454305134\n",
      "SEED: 1 ,FOLD: 1, EPOCH: 12, valid_loss: 0.016773107533271495\n",
      "SEED: 1, FOLD: 1, EPOCH: 13, train_loss: 0.01962592953665031\n",
      "SEED: 1 ,FOLD: 1, EPOCH: 13, valid_loss: 0.01663199095771863\n",
      "SEED: 1, FOLD: 1, EPOCH: 14, train_loss: 0.019502420834190137\n",
      "SEED: 1 ,FOLD: 1, EPOCH: 14, valid_loss: 0.01644191754838595\n",
      "SEED: 1, FOLD: 1, EPOCH: 15, train_loss: 0.019298263020007998\n",
      "SEED: 1 ,FOLD: 1, EPOCH: 15, valid_loss: 0.01642709418844718\n",
      "SEED: 1, FOLD: 1, EPOCH: 16, train_loss: 0.01907935121876968\n",
      "SEED: 1 ,FOLD: 1, EPOCH: 16, valid_loss: 0.016315200795920994\n",
      "SEED: 1, FOLD: 1, EPOCH: 17, train_loss: 0.01884958945919533\n",
      "SEED: 1 ,FOLD: 1, EPOCH: 17, valid_loss: 0.016322802608976\n",
      "SEED: 1, FOLD: 1, EPOCH: 18, train_loss: 0.018545660895068903\n",
      "SEED: 1 ,FOLD: 1, EPOCH: 18, valid_loss: 0.01609034678683831\n",
      "SEED: 1, FOLD: 1, EPOCH: 19, train_loss: 0.01817438456959821\n",
      "SEED: 1 ,FOLD: 1, EPOCH: 19, valid_loss: 0.016042880570659272\n",
      "SEED: 1, FOLD: 1, EPOCH: 20, train_loss: 0.017799402486432244\n",
      "SEED: 1 ,FOLD: 1, EPOCH: 20, valid_loss: 0.015989441281327836\n",
      "SEED: 1, FOLD: 1, EPOCH: 21, train_loss: 0.01733880610884847\n",
      "SEED: 1 ,FOLD: 1, EPOCH: 21, valid_loss: 0.01606260068141497\n",
      "SEED: 1, FOLD: 1, EPOCH: 22, train_loss: 0.01691043744417461\n",
      "SEED: 1 ,FOLD: 1, EPOCH: 22, valid_loss: 0.015942568317628823\n",
      "SEED: 1, FOLD: 1, EPOCH: 23, train_loss: 0.016452145649472606\n",
      "SEED: 1 ,FOLD: 1, EPOCH: 23, valid_loss: 0.01592538906977727\n",
      "SEED: 1, FOLD: 1, EPOCH: 24, train_loss: 0.016099522280431277\n",
      "SEED: 1 ,FOLD: 1, EPOCH: 24, valid_loss: 0.01591106181820998\n",
      "SEED: 1, FOLD: 1, EPOCH: 25, train_loss: 0.01602483435055694\n",
      "SEED: 1 ,FOLD: 1, EPOCH: 25, valid_loss: 0.015910229215828273\n",
      "SEED: 1, FOLD: 2, EPOCH: 0, train_loss: 0.5882555363146035\n",
      "SEED: 1 ,FOLD: 2, EPOCH: 0, valid_loss: 0.08924764566696607\n",
      "SEED: 1, FOLD: 2, EPOCH: 1, train_loss: 0.03009390737861395\n",
      "SEED: 1 ,FOLD: 2, EPOCH: 1, valid_loss: 0.019907349004195288\n",
      "SEED: 1, FOLD: 2, EPOCH: 2, train_loss: 0.021911156967886397\n",
      "SEED: 1 ,FOLD: 2, EPOCH: 2, valid_loss: 0.020082809031009674\n",
      "SEED: 1, FOLD: 2, EPOCH: 3, train_loss: 0.02095181867480278\n",
      "SEED: 1 ,FOLD: 2, EPOCH: 3, valid_loss: 0.018227056958354436\n",
      "SEED: 1, FOLD: 2, EPOCH: 4, train_loss: 0.02074590083715078\n",
      "SEED: 1 ,FOLD: 2, EPOCH: 4, valid_loss: 0.017840182408690453\n",
      "SEED: 1, FOLD: 2, EPOCH: 5, train_loss: 0.020229291196006374\n",
      "SEED: 1 ,FOLD: 2, EPOCH: 5, valid_loss: 0.017436805969247453\n",
      "SEED: 1, FOLD: 2, EPOCH: 6, train_loss: 0.020094581778991868\n",
      "SEED: 1 ,FOLD: 2, EPOCH: 6, valid_loss: 0.017246672310508214\n",
      "SEED: 1, FOLD: 2, EPOCH: 7, train_loss: 0.020091706660349627\n",
      "SEED: 1 ,FOLD: 2, EPOCH: 7, valid_loss: 0.017314774055893604\n",
      "SEED: 1, FOLD: 2, EPOCH: 8, train_loss: 0.020007788102973153\n",
      "SEED: 1 ,FOLD: 2, EPOCH: 8, valid_loss: 0.017090615888054553\n",
      "SEED: 1, FOLD: 2, EPOCH: 9, train_loss: 0.019931129809166934\n",
      "SEED: 1 ,FOLD: 2, EPOCH: 9, valid_loss: 0.017431489693430755\n",
      "SEED: 1, FOLD: 2, EPOCH: 10, train_loss: 0.019900205721323554\n",
      "SEED: 1 ,FOLD: 2, EPOCH: 10, valid_loss: 0.017290430286755927\n",
      "SEED: 1, FOLD: 2, EPOCH: 11, train_loss: 0.01990573908630255\n",
      "SEED: 1 ,FOLD: 2, EPOCH: 11, valid_loss: 0.017061511197915442\n",
      "SEED: 1, FOLD: 2, EPOCH: 12, train_loss: 0.019787068604617507\n",
      "SEED: 1 ,FOLD: 2, EPOCH: 12, valid_loss: 0.016917093585316952\n",
      "SEED: 1, FOLD: 2, EPOCH: 13, train_loss: 0.019599828164319735\n",
      "SEED: 1 ,FOLD: 2, EPOCH: 13, valid_loss: 0.016876473163182918\n",
      "SEED: 1, FOLD: 2, EPOCH: 14, train_loss: 0.019493806880672235\n",
      "SEED: 1 ,FOLD: 2, EPOCH: 14, valid_loss: 0.016856550597227536\n",
      "SEED: 1, FOLD: 2, EPOCH: 15, train_loss: 0.019344362958862975\n",
      "SEED: 1 ,FOLD: 2, EPOCH: 15, valid_loss: 0.016915405455690164\n",
      "SEED: 1, FOLD: 2, EPOCH: 16, train_loss: 0.01919734326971544\n",
      "SEED: 1 ,FOLD: 2, EPOCH: 16, valid_loss: 0.01661603210064081\n",
      "SEED: 1, FOLD: 2, EPOCH: 17, train_loss: 0.018951076762499037\n",
      "SEED: 1 ,FOLD: 2, EPOCH: 17, valid_loss: 0.016717460866157826\n",
      "SEED: 1, FOLD: 2, EPOCH: 18, train_loss: 0.01867283377292994\n",
      "SEED: 1 ,FOLD: 2, EPOCH: 18, valid_loss: 0.016369072935329035\n",
      "SEED: 1, FOLD: 2, EPOCH: 19, train_loss: 0.018333654447987274\n",
      "SEED: 1 ,FOLD: 2, EPOCH: 19, valid_loss: 0.016323143401398107\n",
      "SEED: 1, FOLD: 2, EPOCH: 20, train_loss: 0.017957276186427555\n",
      "SEED: 1 ,FOLD: 2, EPOCH: 20, valid_loss: 0.016300406020421248\n",
      "SEED: 1, FOLD: 2, EPOCH: 21, train_loss: 0.017548176938214817\n",
      "SEED: 1 ,FOLD: 2, EPOCH: 21, valid_loss: 0.016183277663703147\n",
      "SEED: 1, FOLD: 2, EPOCH: 22, train_loss: 0.017070480420984125\n",
      "SEED: 1 ,FOLD: 2, EPOCH: 22, valid_loss: 0.016121015812341984\n",
      "SEED: 1, FOLD: 2, EPOCH: 23, train_loss: 0.016748640648517256\n",
      "SEED: 1 ,FOLD: 2, EPOCH: 23, valid_loss: 0.016134303134794418\n",
      "SEED: 1, FOLD: 2, EPOCH: 24, train_loss: 0.01643401727936155\n",
      "SEED: 1 ,FOLD: 2, EPOCH: 24, valid_loss: 0.01613517922277634\n",
      "SEED: 1, FOLD: 2, EPOCH: 25, train_loss: 0.016331477304668846\n",
      "SEED: 1 ,FOLD: 2, EPOCH: 25, valid_loss: 0.016136156896559093\n",
      "SEED: 1, FOLD: 3, EPOCH: 0, train_loss: 0.5872336405555945\n",
      "SEED: 1 ,FOLD: 3, EPOCH: 0, valid_loss: 0.08260170714213298\n",
      "SEED: 1, FOLD: 3, EPOCH: 1, train_loss: 0.030145362371931207\n",
      "SEED: 1 ,FOLD: 3, EPOCH: 1, valid_loss: 0.019898946182085916\n",
      "SEED: 1, FOLD: 3, EPOCH: 2, train_loss: 0.021982593386358506\n",
      "SEED: 1 ,FOLD: 3, EPOCH: 2, valid_loss: 0.019846417869512852\n",
      "SEED: 1, FOLD: 3, EPOCH: 3, train_loss: 0.021071402205003274\n",
      "SEED: 1 ,FOLD: 3, EPOCH: 3, valid_loss: 0.017764773792945422\n",
      "SEED: 1, FOLD: 3, EPOCH: 4, train_loss: 0.020359888823853957\n",
      "SEED: 1 ,FOLD: 3, EPOCH: 4, valid_loss: 0.017557491046878006\n",
      "SEED: 1, FOLD: 3, EPOCH: 5, train_loss: 0.020124021842068917\n",
      "SEED: 1 ,FOLD: 3, EPOCH: 5, valid_loss: 0.01737869244355422\n",
      "SEED: 1, FOLD: 3, EPOCH: 6, train_loss: 0.020148793411617343\n",
      "SEED: 1 ,FOLD: 3, EPOCH: 6, valid_loss: 0.01758657653744404\n",
      "SEED: 1, FOLD: 3, EPOCH: 7, train_loss: 0.0199846717705195\n",
      "SEED: 1 ,FOLD: 3, EPOCH: 7, valid_loss: 0.018344328093987245\n",
      "SEED: 1, FOLD: 3, EPOCH: 8, train_loss: 0.019894170826552687\n",
      "SEED: 1 ,FOLD: 3, EPOCH: 8, valid_loss: 0.017316307729253404\n",
      "SEED: 1, FOLD: 3, EPOCH: 9, train_loss: 0.019860838590240158\n",
      "SEED: 1 ,FOLD: 3, EPOCH: 9, valid_loss: 0.017367503247581996\n",
      "SEED: 1, FOLD: 3, EPOCH: 10, train_loss: 0.019825994162946135\n",
      "SEED: 1 ,FOLD: 3, EPOCH: 10, valid_loss: 0.017162770319443483\n",
      "SEED: 1, FOLD: 3, EPOCH: 11, train_loss: 0.019813394752910007\n",
      "SEED: 1 ,FOLD: 3, EPOCH: 11, valid_loss: 0.01719946227967739\n",
      "SEED: 1, FOLD: 3, EPOCH: 12, train_loss: 0.01971870640645156\n",
      "SEED: 1 ,FOLD: 3, EPOCH: 12, valid_loss: 0.017018662622341744\n",
      "SEED: 1, FOLD: 3, EPOCH: 13, train_loss: 0.019607060135820427\n",
      "SEED: 1 ,FOLD: 3, EPOCH: 13, valid_loss: 0.017164158133360054\n",
      "SEED: 1, FOLD: 3, EPOCH: 14, train_loss: 0.019444556504085258\n",
      "SEED: 1 ,FOLD: 3, EPOCH: 14, valid_loss: 0.016966814175248146\n",
      "SEED: 1, FOLD: 3, EPOCH: 15, train_loss: 0.019302209184781927\n",
      "SEED: 1 ,FOLD: 3, EPOCH: 15, valid_loss: 0.016994017749451674\n",
      "SEED: 1, FOLD: 3, EPOCH: 16, train_loss: 0.019118281861616147\n",
      "SEED: 1 ,FOLD: 3, EPOCH: 16, valid_loss: 0.016967388443075694\n",
      "SEED: 1, FOLD: 3, EPOCH: 17, train_loss: 0.018892191375630932\n",
      "SEED: 1 ,FOLD: 3, EPOCH: 17, valid_loss: 0.01684539607511117\n",
      "SEED: 1, FOLD: 3, EPOCH: 18, train_loss: 0.01865377392921899\n",
      "SEED: 1 ,FOLD: 3, EPOCH: 18, valid_loss: 0.01669439014333945\n",
      "SEED: 1, FOLD: 3, EPOCH: 19, train_loss: 0.018245814972229907\n",
      "SEED: 1 ,FOLD: 3, EPOCH: 19, valid_loss: 0.01660374064858143\n",
      "SEED: 1, FOLD: 3, EPOCH: 20, train_loss: 0.017864008283091558\n",
      "SEED: 1 ,FOLD: 3, EPOCH: 20, valid_loss: 0.016500304094873942\n",
      "SEED: 1, FOLD: 3, EPOCH: 21, train_loss: 0.017454628379562416\n",
      "SEED: 1 ,FOLD: 3, EPOCH: 21, valid_loss: 0.016505257226526737\n",
      "SEED: 1, FOLD: 3, EPOCH: 22, train_loss: 0.017037441853333165\n",
      "SEED: 1 ,FOLD: 3, EPOCH: 22, valid_loss: 0.016433168847400408\n",
      "SEED: 1, FOLD: 3, EPOCH: 23, train_loss: 0.016665436012821423\n",
      "SEED: 1 ,FOLD: 3, EPOCH: 23, valid_loss: 0.01644209514443691\n",
      "SEED: 1, FOLD: 3, EPOCH: 24, train_loss: 0.01632713940548333\n",
      "SEED: 1 ,FOLD: 3, EPOCH: 24, valid_loss: 0.016483695174639042\n",
      "SEED: 1, FOLD: 4, EPOCH: 0, train_loss: 0.5870241444255855\n",
      "SEED: 1 ,FOLD: 4, EPOCH: 0, valid_loss: 0.0902670667721675\n",
      "SEED: 1, FOLD: 4, EPOCH: 1, train_loss: 0.029502097466910206\n",
      "SEED: 1 ,FOLD: 4, EPOCH: 1, valid_loss: 0.019917781536395732\n",
      "SEED: 1, FOLD: 4, EPOCH: 2, train_loss: 0.021867899198991222\n",
      "SEED: 1 ,FOLD: 4, EPOCH: 2, valid_loss: 0.01891929770891483\n",
      "SEED: 1, FOLD: 4, EPOCH: 3, train_loss: 0.021145690282857097\n",
      "SEED: 1 ,FOLD: 4, EPOCH: 3, valid_loss: 0.01824638992547989\n",
      "SEED: 1, FOLD: 4, EPOCH: 4, train_loss: 0.02031504692560112\n",
      "SEED: 1 ,FOLD: 4, EPOCH: 4, valid_loss: 0.01753097758270227\n",
      "SEED: 1, FOLD: 4, EPOCH: 5, train_loss: 0.02010388403023417\n",
      "SEED: 1 ,FOLD: 4, EPOCH: 5, valid_loss: 0.017332211280098327\n",
      "SEED: 1, FOLD: 4, EPOCH: 6, train_loss: 0.020014659677808348\n",
      "SEED: 1 ,FOLD: 4, EPOCH: 6, valid_loss: 0.01742651915320983\n",
      "SEED: 1, FOLD: 4, EPOCH: 7, train_loss: 0.019945533392397134\n",
      "SEED: 1 ,FOLD: 4, EPOCH: 7, valid_loss: 0.016866402270702217\n",
      "SEED: 1, FOLD: 4, EPOCH: 8, train_loss: 0.019904708489775658\n",
      "SEED: 1 ,FOLD: 4, EPOCH: 8, valid_loss: 0.0172303757415368\n",
      "SEED: 1, FOLD: 4, EPOCH: 9, train_loss: 0.01988085364369122\n",
      "SEED: 1 ,FOLD: 4, EPOCH: 9, valid_loss: 0.017164969960084327\n",
      "SEED: 1, FOLD: 4, EPOCH: 10, train_loss: 0.019849665362287213\n",
      "SEED: 1 ,FOLD: 4, EPOCH: 10, valid_loss: 0.017277198915298168\n",
      "SEED: 1, FOLD: 4, EPOCH: 11, train_loss: 0.019823132938629872\n",
      "SEED: 1 ,FOLD: 4, EPOCH: 11, valid_loss: 0.017098405470068637\n",
      "SEED: 1, FOLD: 4, EPOCH: 12, train_loss: 0.019706112810888805\n",
      "SEED: 1 ,FOLD: 4, EPOCH: 12, valid_loss: 0.016939584738933124\n",
      "SEED: 1, FOLD: 4, EPOCH: 13, train_loss: 0.019576204462429962\n",
      "SEED: 1 ,FOLD: 4, EPOCH: 13, valid_loss: 0.01673677420386901\n",
      "SEED: 1, FOLD: 4, EPOCH: 14, train_loss: 0.019439585431403405\n",
      "SEED: 1 ,FOLD: 4, EPOCH: 14, valid_loss: 0.016758001910952423\n",
      "SEED: 1, FOLD: 4, EPOCH: 15, train_loss: 0.01930880785693188\n",
      "SEED: 1 ,FOLD: 4, EPOCH: 15, valid_loss: 0.016679788294893045\n",
      "SEED: 1, FOLD: 4, EPOCH: 16, train_loss: 0.01903059842014635\n",
      "SEED: 1 ,FOLD: 4, EPOCH: 16, valid_loss: 0.016520708297880795\n",
      "SEED: 1, FOLD: 4, EPOCH: 17, train_loss: 0.018819949841378508\n",
      "SEED: 1 ,FOLD: 4, EPOCH: 17, valid_loss: 0.016433584432189282\n",
      "SEED: 1, FOLD: 4, EPOCH: 18, train_loss: 0.018615020766250184\n",
      "SEED: 1 ,FOLD: 4, EPOCH: 18, valid_loss: 0.01630046798919256\n",
      "SEED: 1, FOLD: 4, EPOCH: 19, train_loss: 0.018185467207552614\n",
      "SEED: 1 ,FOLD: 4, EPOCH: 19, valid_loss: 0.016189821494313385\n",
      "SEED: 1, FOLD: 4, EPOCH: 20, train_loss: 0.01780378498841782\n",
      "SEED: 1 ,FOLD: 4, EPOCH: 20, valid_loss: 0.016199357950916655\n",
      "SEED: 1, FOLD: 4, EPOCH: 21, train_loss: 0.017364218075935904\n",
      "SEED: 1 ,FOLD: 4, EPOCH: 21, valid_loss: 0.01613277863137997\n",
      "SEED: 1, FOLD: 4, EPOCH: 22, train_loss: 0.016887341852526407\n",
      "SEED: 1 ,FOLD: 4, EPOCH: 22, valid_loss: 0.016041009400326472\n",
      "SEED: 1, FOLD: 4, EPOCH: 23, train_loss: 0.01649362947540106\n",
      "SEED: 1 ,FOLD: 4, EPOCH: 23, valid_loss: 0.016074973086898144\n",
      "SEED: 1, FOLD: 4, EPOCH: 24, train_loss: 0.016176892368978745\n",
      "SEED: 1 ,FOLD: 4, EPOCH: 24, valid_loss: 0.016071652205517657\n",
      "SEED: 1, FOLD: 5, EPOCH: 0, train_loss: 0.589529487832978\n",
      "SEED: 1 ,FOLD: 5, EPOCH: 0, valid_loss: 0.09969233091060932\n",
      "SEED: 1, FOLD: 5, EPOCH: 1, train_loss: 0.03025679151854805\n",
      "SEED: 1 ,FOLD: 5, EPOCH: 1, valid_loss: 0.019739854221160594\n",
      "SEED: 1, FOLD: 5, EPOCH: 2, train_loss: 0.021992065415189072\n",
      "SEED: 1 ,FOLD: 5, EPOCH: 2, valid_loss: 0.018472440970631745\n",
      "SEED: 1, FOLD: 5, EPOCH: 3, train_loss: 0.021081837850648003\n",
      "SEED: 1 ,FOLD: 5, EPOCH: 3, valid_loss: 0.017744268792179916\n",
      "SEED: 1, FOLD: 5, EPOCH: 4, train_loss: 0.02048963917469656\n",
      "SEED: 1 ,FOLD: 5, EPOCH: 4, valid_loss: 0.017332444755503766\n",
      "SEED: 1, FOLD: 5, EPOCH: 5, train_loss: 0.020699932869221713\n",
      "SEED: 1 ,FOLD: 5, EPOCH: 5, valid_loss: 0.017125631825855143\n",
      "SEED: 1, FOLD: 5, EPOCH: 6, train_loss: 0.020135078654700034\n",
      "SEED: 1 ,FOLD: 5, EPOCH: 6, valid_loss: 0.017383157562177915\n",
      "SEED: 1, FOLD: 5, EPOCH: 7, train_loss: 0.020150858707524633\n",
      "SEED: 1 ,FOLD: 5, EPOCH: 7, valid_loss: 0.017255775200632904\n",
      "SEED: 1, FOLD: 5, EPOCH: 8, train_loss: 0.020116312529992412\n",
      "SEED: 1 ,FOLD: 5, EPOCH: 8, valid_loss: 0.017153534680031814\n",
      "SEED: 1, FOLD: 5, EPOCH: 9, train_loss: 0.020003399056558673\n",
      "SEED: 1 ,FOLD: 5, EPOCH: 9, valid_loss: 0.01708013915385191\n",
      "SEED: 1, FOLD: 5, EPOCH: 10, train_loss: 0.01988855761954108\n",
      "SEED: 1 ,FOLD: 5, EPOCH: 10, valid_loss: 0.017258825067144174\n",
      "SEED: 1, FOLD: 5, EPOCH: 11, train_loss: 0.01994185564989174\n",
      "SEED: 1 ,FOLD: 5, EPOCH: 11, valid_loss: 0.016802195817805253\n",
      "SEED: 1, FOLD: 5, EPOCH: 12, train_loss: 0.01972662508991119\n",
      "SEED: 1 ,FOLD: 5, EPOCH: 12, valid_loss: 0.016890541507074468\n",
      "SEED: 1, FOLD: 5, EPOCH: 13, train_loss: 0.019682399953740673\n",
      "SEED: 1 ,FOLD: 5, EPOCH: 13, valid_loss: 0.016700188700969402\n",
      "SEED: 1, FOLD: 5, EPOCH: 14, train_loss: 0.019507483453363984\n",
      "SEED: 1 ,FOLD: 5, EPOCH: 14, valid_loss: 0.016634014291832082\n",
      "SEED: 1, FOLD: 5, EPOCH: 15, train_loss: 0.01935393496643047\n",
      "SEED: 1 ,FOLD: 5, EPOCH: 15, valid_loss: 0.016519287529473122\n",
      "SEED: 1, FOLD: 5, EPOCH: 16, train_loss: 0.019141128462915484\n",
      "SEED: 1 ,FOLD: 5, EPOCH: 16, valid_loss: 0.016501148589528523\n",
      "SEED: 1, FOLD: 5, EPOCH: 17, train_loss: 0.018972258360402006\n",
      "SEED: 1 ,FOLD: 5, EPOCH: 17, valid_loss: 0.016509603708982468\n",
      "SEED: 1, FOLD: 5, EPOCH: 18, train_loss: 0.018640540666072757\n",
      "SEED: 1 ,FOLD: 5, EPOCH: 18, valid_loss: 0.016367680966280974\n",
      "SEED: 1, FOLD: 5, EPOCH: 19, train_loss: 0.0183805425122783\n",
      "SEED: 1 ,FOLD: 5, EPOCH: 19, valid_loss: 0.016231196001172066\n",
      "SEED: 1, FOLD: 5, EPOCH: 20, train_loss: 0.017973941801166213\n",
      "SEED: 1 ,FOLD: 5, EPOCH: 20, valid_loss: 0.016216227139991064\n",
      "SEED: 1, FOLD: 5, EPOCH: 21, train_loss: 0.017572896680920512\n",
      "SEED: 1 ,FOLD: 5, EPOCH: 21, valid_loss: 0.01607992106045668\n",
      "SEED: 1, FOLD: 5, EPOCH: 22, train_loss: 0.017195501515792834\n",
      "SEED: 1 ,FOLD: 5, EPOCH: 22, valid_loss: 0.01601322625692074\n",
      "SEED: 1, FOLD: 5, EPOCH: 23, train_loss: 0.01682121051173355\n",
      "SEED: 1 ,FOLD: 5, EPOCH: 23, valid_loss: 0.015982098662509367\n",
      "SEED: 1, FOLD: 5, EPOCH: 24, train_loss: 0.016526649227818928\n",
      "SEED: 1 ,FOLD: 5, EPOCH: 24, valid_loss: 0.015973394235166218\n",
      "SEED: 1, FOLD: 5, EPOCH: 25, train_loss: 0.016404630490452855\n",
      "SEED: 1 ,FOLD: 5, EPOCH: 25, valid_loss: 0.015954966513583295\n",
      "SEED: 1, FOLD: 6, EPOCH: 0, train_loss: 0.5879768645642577\n",
      "SEED: 1 ,FOLD: 6, EPOCH: 0, valid_loss: 0.09985240376912631\n",
      "SEED: 1, FOLD: 6, EPOCH: 1, train_loss: 0.030612903521270364\n",
      "SEED: 1 ,FOLD: 6, EPOCH: 1, valid_loss: 0.01993373580850088\n",
      "SEED: 1, FOLD: 6, EPOCH: 2, train_loss: 0.022111648744022525\n",
      "SEED: 1 ,FOLD: 6, EPOCH: 2, valid_loss: 0.018629362520117026\n",
      "SEED: 1, FOLD: 6, EPOCH: 3, train_loss: 0.02118388397266736\n",
      "SEED: 1 ,FOLD: 6, EPOCH: 3, valid_loss: 0.020495196517843466\n",
      "SEED: 1, FOLD: 6, EPOCH: 4, train_loss: 0.020674827785508054\n",
      "SEED: 1 ,FOLD: 6, EPOCH: 4, valid_loss: 0.017419566615269735\n",
      "SEED: 1, FOLD: 6, EPOCH: 5, train_loss: 0.020202926360070705\n",
      "SEED: 1 ,FOLD: 6, EPOCH: 5, valid_loss: 0.017455085968742005\n",
      "SEED: 1, FOLD: 6, EPOCH: 6, train_loss: 0.02034743905470178\n",
      "SEED: 1 ,FOLD: 6, EPOCH: 6, valid_loss: 0.017233652707475882\n",
      "SEED: 1, FOLD: 6, EPOCH: 7, train_loss: 0.020001804279918607\n",
      "SEED: 1 ,FOLD: 6, EPOCH: 7, valid_loss: 0.01716169328070604\n",
      "SEED: 1, FOLD: 6, EPOCH: 8, train_loss: 0.020009808670225983\n",
      "SEED: 1 ,FOLD: 6, EPOCH: 8, valid_loss: 0.01697148712208638\n",
      "SEED: 1, FOLD: 6, EPOCH: 9, train_loss: 0.019962792989571352\n",
      "SEED: 1 ,FOLD: 6, EPOCH: 9, valid_loss: 0.016939457076100204\n",
      "SEED: 1, FOLD: 6, EPOCH: 10, train_loss: 0.019896484332511555\n",
      "SEED: 1 ,FOLD: 6, EPOCH: 10, valid_loss: 0.016956844582007483\n",
      "SEED: 1, FOLD: 6, EPOCH: 11, train_loss: 0.019763805072855304\n",
      "SEED: 1 ,FOLD: 6, EPOCH: 11, valid_loss: 0.017086939599651556\n",
      "SEED: 1, FOLD: 6, EPOCH: 12, train_loss: 0.019716037311465352\n",
      "SEED: 1 ,FOLD: 6, EPOCH: 12, valid_loss: 0.01681441369538124\n",
      "SEED: 1, FOLD: 6, EPOCH: 13, train_loss: 0.019635365848001594\n",
      "SEED: 1 ,FOLD: 6, EPOCH: 13, valid_loss: 0.016835794497567873\n",
      "SEED: 1, FOLD: 6, EPOCH: 14, train_loss: 0.019495626936691837\n",
      "SEED: 1 ,FOLD: 6, EPOCH: 14, valid_loss: 0.016734945946014844\n",
      "SEED: 1, FOLD: 6, EPOCH: 15, train_loss: 0.019248133651106746\n",
      "SEED: 1 ,FOLD: 6, EPOCH: 15, valid_loss: 0.016586981069010038\n",
      "SEED: 1, FOLD: 6, EPOCH: 16, train_loss: 0.019190243923583546\n",
      "SEED: 1 ,FOLD: 6, EPOCH: 16, valid_loss: 0.016586249336027183\n",
      "SEED: 1, FOLD: 6, EPOCH: 17, train_loss: 0.01893527906488728\n",
      "SEED: 1 ,FOLD: 6, EPOCH: 17, valid_loss: 0.016373559259451352\n",
      "SEED: 1, FOLD: 6, EPOCH: 18, train_loss: 0.01865637398048027\n",
      "SEED: 1 ,FOLD: 6, EPOCH: 18, valid_loss: 0.01627392149888552\n",
      "SEED: 1, FOLD: 6, EPOCH: 19, train_loss: 0.01831285864416812\n",
      "SEED: 1 ,FOLD: 6, EPOCH: 19, valid_loss: 0.016156732104718685\n",
      "SEED: 1, FOLD: 6, EPOCH: 20, train_loss: 0.01785107221253015\n",
      "SEED: 1 ,FOLD: 6, EPOCH: 20, valid_loss: 0.01615454901296359\n",
      "SEED: 1, FOLD: 6, EPOCH: 21, train_loss: 0.017454398103763123\n",
      "SEED: 1 ,FOLD: 6, EPOCH: 21, valid_loss: 0.016026689097858392\n",
      "SEED: 1, FOLD: 6, EPOCH: 22, train_loss: 0.017028780226167793\n",
      "SEED: 1 ,FOLD: 6, EPOCH: 22, valid_loss: 0.016000522730442193\n",
      "SEED: 1, FOLD: 6, EPOCH: 23, train_loss: 0.01657688880741999\n",
      "SEED: 1 ,FOLD: 6, EPOCH: 23, valid_loss: 0.015991836929550536\n",
      "SEED: 1, FOLD: 6, EPOCH: 24, train_loss: 0.016299044876988675\n",
      "SEED: 1 ,FOLD: 6, EPOCH: 24, valid_loss: 0.016013524853266202\n",
      "SEED: 1, FOLD: 6, EPOCH: 25, train_loss: 0.01615995163651737\n",
      "SEED: 1 ,FOLD: 6, EPOCH: 25, valid_loss: 0.016004252534073133\n",
      "SEED: 2, FOLD: 0, EPOCH: 0, train_loss: 0.5871050453467949\n",
      "SEED: 2 ,FOLD: 0, EPOCH: 0, valid_loss: 0.09373053507162975\n",
      "SEED: 2, FOLD: 0, EPOCH: 1, train_loss: 0.030092856418844814\n",
      "SEED: 2 ,FOLD: 0, EPOCH: 1, valid_loss: 0.019639789341734007\n",
      "SEED: 2, FOLD: 0, EPOCH: 2, train_loss: 0.02200343751826802\n",
      "SEED: 2 ,FOLD: 0, EPOCH: 2, valid_loss: 0.018912098728693448\n",
      "SEED: 2, FOLD: 0, EPOCH: 3, train_loss: 0.021093955993450975\n",
      "SEED: 2 ,FOLD: 0, EPOCH: 3, valid_loss: 0.017660372532331027\n",
      "SEED: 2, FOLD: 0, EPOCH: 4, train_loss: 0.020515140875972605\n",
      "SEED: 2 ,FOLD: 0, EPOCH: 4, valid_loss: 0.017659520873656638\n",
      "SEED: 2, FOLD: 0, EPOCH: 5, train_loss: 0.020194581382580706\n",
      "SEED: 2 ,FOLD: 0, EPOCH: 5, valid_loss: 0.017946020628397282\n",
      "SEED: 2, FOLD: 0, EPOCH: 6, train_loss: 0.020289588039992628\n",
      "SEED: 2 ,FOLD: 0, EPOCH: 6, valid_loss: 0.01731737946661619\n",
      "SEED: 2, FOLD: 0, EPOCH: 7, train_loss: 0.020041745055366208\n",
      "SEED: 2 ,FOLD: 0, EPOCH: 7, valid_loss: 0.01732775182105028\n",
      "SEED: 2, FOLD: 0, EPOCH: 8, train_loss: 0.0200648564543273\n",
      "SEED: 2 ,FOLD: 0, EPOCH: 8, valid_loss: 0.017227891116188124\n",
      "SEED: 2, FOLD: 0, EPOCH: 9, train_loss: 0.019971653063957755\n",
      "SEED: 2 ,FOLD: 0, EPOCH: 9, valid_loss: 0.016999547871259544\n",
      "SEED: 2, FOLD: 0, EPOCH: 10, train_loss: 0.019898975217664563\n",
      "SEED: 2 ,FOLD: 0, EPOCH: 10, valid_loss: 0.017149986412662726\n",
      "SEED: 2, FOLD: 0, EPOCH: 11, train_loss: 0.019830830672101396\n",
      "SEED: 2 ,FOLD: 0, EPOCH: 11, valid_loss: 0.0168765400034877\n",
      "SEED: 2, FOLD: 0, EPOCH: 12, train_loss: 0.019696943210186186\n",
      "SEED: 2 ,FOLD: 0, EPOCH: 12, valid_loss: 0.017336893683442704\n",
      "SEED: 2, FOLD: 0, EPOCH: 13, train_loss: 0.019676230092709128\n",
      "SEED: 2 ,FOLD: 0, EPOCH: 13, valid_loss: 0.01697214126873475\n",
      "SEED: 2, FOLD: 0, EPOCH: 14, train_loss: 0.019583369605243206\n",
      "SEED: 2 ,FOLD: 0, EPOCH: 14, valid_loss: 0.01682393181209381\n",
      "SEED: 2, FOLD: 0, EPOCH: 15, train_loss: 0.019355219058893824\n",
      "SEED: 2 ,FOLD: 0, EPOCH: 15, valid_loss: 0.01660750641559179\n",
      "SEED: 2, FOLD: 0, EPOCH: 16, train_loss: 0.01915606964580916\n",
      "SEED: 2 ,FOLD: 0, EPOCH: 16, valid_loss: 0.016562100070027206\n",
      "SEED: 2, FOLD: 0, EPOCH: 17, train_loss: 0.01892043536881337\n",
      "SEED: 2 ,FOLD: 0, EPOCH: 17, valid_loss: 0.01645299706321496\n",
      "SEED: 2, FOLD: 0, EPOCH: 18, train_loss: 0.018636893178965594\n",
      "SEED: 2 ,FOLD: 0, EPOCH: 18, valid_loss: 0.01638724898489622\n",
      "SEED: 2, FOLD: 0, EPOCH: 19, train_loss: 0.018310990083861996\n",
      "SEED: 2 ,FOLD: 0, EPOCH: 19, valid_loss: 0.01634288256844649\n",
      "SEED: 2, FOLD: 0, EPOCH: 20, train_loss: 0.01801838801317924\n",
      "SEED: 2 ,FOLD: 0, EPOCH: 20, valid_loss: 0.01616611833182665\n",
      "SEED: 2, FOLD: 0, EPOCH: 21, train_loss: 0.01757003170614307\n",
      "SEED: 2 ,FOLD: 0, EPOCH: 21, valid_loss: 0.016075079472592242\n",
      "SEED: 2, FOLD: 0, EPOCH: 22, train_loss: 0.017114713435640205\n",
      "SEED: 2 ,FOLD: 0, EPOCH: 22, valid_loss: 0.016070917535286684\n",
      "SEED: 2, FOLD: 0, EPOCH: 23, train_loss: 0.01670969758384131\n",
      "SEED: 2 ,FOLD: 0, EPOCH: 23, valid_loss: 0.016005845382236518\n",
      "SEED: 2, FOLD: 0, EPOCH: 24, train_loss: 0.01645187961843771\n",
      "SEED: 2 ,FOLD: 0, EPOCH: 24, valid_loss: 0.016011298060990296\n",
      "SEED: 2, FOLD: 0, EPOCH: 25, train_loss: 0.016309182549751288\n",
      "SEED: 2 ,FOLD: 0, EPOCH: 25, valid_loss: 0.01601827646104189\n",
      "SEED: 2, FOLD: 1, EPOCH: 0, train_loss: 0.5867075520391399\n",
      "SEED: 2 ,FOLD: 1, EPOCH: 0, valid_loss: 0.0861102227981274\n",
      "SEED: 2, FOLD: 1, EPOCH: 1, train_loss: 0.029632145564097004\n",
      "SEED: 2 ,FOLD: 1, EPOCH: 1, valid_loss: 0.020012113480613783\n",
      "SEED: 2, FOLD: 1, EPOCH: 2, train_loss: 0.021936212867699766\n",
      "SEED: 2 ,FOLD: 1, EPOCH: 2, valid_loss: 0.01836160856943864\n",
      "SEED: 2, FOLD: 1, EPOCH: 3, train_loss: 0.02129044690849008\n",
      "SEED: 2 ,FOLD: 1, EPOCH: 3, valid_loss: 0.017862224378264867\n",
      "SEED: 2, FOLD: 1, EPOCH: 4, train_loss: 0.020349002367741353\n",
      "SEED: 2 ,FOLD: 1, EPOCH: 4, valid_loss: 0.01764260633633687\n",
      "SEED: 2, FOLD: 1, EPOCH: 5, train_loss: 0.020116583016273136\n",
      "SEED: 2 ,FOLD: 1, EPOCH: 5, valid_loss: 0.017386129412513513\n",
      "SEED: 2, FOLD: 1, EPOCH: 6, train_loss: 0.019978627260472323\n",
      "SEED: 2 ,FOLD: 1, EPOCH: 6, valid_loss: 0.017262055108753536\n",
      "SEED: 2, FOLD: 1, EPOCH: 7, train_loss: 0.019965114676066348\n",
      "SEED: 2 ,FOLD: 1, EPOCH: 7, valid_loss: 0.017301277185861882\n",
      "SEED: 2, FOLD: 1, EPOCH: 8, train_loss: 0.019903203850058285\n",
      "SEED: 2 ,FOLD: 1, EPOCH: 8, valid_loss: 0.017099459942143697\n",
      "SEED: 2, FOLD: 1, EPOCH: 9, train_loss: 0.019867703318595886\n",
      "SEED: 2 ,FOLD: 1, EPOCH: 9, valid_loss: 0.017394445263422452\n",
      "SEED: 2, FOLD: 1, EPOCH: 10, train_loss: 0.019863437533982703\n",
      "SEED: 2 ,FOLD: 1, EPOCH: 10, valid_loss: 0.01693203844703161\n",
      "SEED: 2, FOLD: 1, EPOCH: 11, train_loss: 0.019806179746582702\n",
      "SEED: 2 ,FOLD: 1, EPOCH: 11, valid_loss: 0.016979828118704833\n",
      "SEED: 2, FOLD: 1, EPOCH: 12, train_loss: 0.019748345646705176\n",
      "SEED: 2 ,FOLD: 1, EPOCH: 12, valid_loss: 0.01703081387453354\n",
      "SEED: 2, FOLD: 1, EPOCH: 13, train_loss: 0.01964849075050773\n",
      "SEED: 2 ,FOLD: 1, EPOCH: 13, valid_loss: 0.017025740888829414\n",
      "SEED: 2, FOLD: 1, EPOCH: 14, train_loss: 0.01949084074412649\n",
      "SEED: 2 ,FOLD: 1, EPOCH: 14, valid_loss: 0.01665459401332415\n",
      "SEED: 2, FOLD: 1, EPOCH: 15, train_loss: 0.01936104259378201\n",
      "SEED: 2 ,FOLD: 1, EPOCH: 15, valid_loss: 0.016765980838009946\n",
      "SEED: 2, FOLD: 1, EPOCH: 16, train_loss: 0.01909027638769633\n",
      "SEED: 2 ,FOLD: 1, EPOCH: 16, valid_loss: 0.01662309568088788\n",
      "SEED: 2, FOLD: 1, EPOCH: 17, train_loss: 0.018836907413158868\n",
      "SEED: 2 ,FOLD: 1, EPOCH: 17, valid_loss: 0.01651909460241978\n",
      "SEED: 2, FOLD: 1, EPOCH: 18, train_loss: 0.01861171253226899\n",
      "SEED: 2 ,FOLD: 1, EPOCH: 18, valid_loss: 0.016484004588654406\n",
      "SEED: 2, FOLD: 1, EPOCH: 19, train_loss: 0.018252613274632273\n",
      "SEED: 2 ,FOLD: 1, EPOCH: 19, valid_loss: 0.016360804725151796\n",
      "SEED: 2, FOLD: 1, EPOCH: 20, train_loss: 0.017923243771735077\n",
      "SEED: 2 ,FOLD: 1, EPOCH: 20, valid_loss: 0.016283997979301672\n",
      "SEED: 2, FOLD: 1, EPOCH: 21, train_loss: 0.017473158061605047\n",
      "SEED: 2 ,FOLD: 1, EPOCH: 21, valid_loss: 0.016165633041125078\n",
      "SEED: 2, FOLD: 1, EPOCH: 22, train_loss: 0.01709595644796217\n",
      "SEED: 2 ,FOLD: 1, EPOCH: 22, valid_loss: 0.016140971690989457\n",
      "SEED: 2, FOLD: 1, EPOCH: 23, train_loss: 0.016708968874268437\n",
      "SEED: 2 ,FOLD: 1, EPOCH: 23, valid_loss: 0.016098638495000508\n",
      "SEED: 2, FOLD: 1, EPOCH: 24, train_loss: 0.016419352007073326\n",
      "SEED: 2 ,FOLD: 1, EPOCH: 24, valid_loss: 0.01612371700600936\n",
      "SEED: 2, FOLD: 1, EPOCH: 25, train_loss: 0.016343819707430696\n",
      "SEED: 2 ,FOLD: 1, EPOCH: 25, valid_loss: 0.016096796482228316\n",
      "SEED: 2, FOLD: 2, EPOCH: 0, train_loss: 0.5861925593501812\n",
      "SEED: 2 ,FOLD: 2, EPOCH: 0, valid_loss: 0.08755144820763515\n",
      "SEED: 2, FOLD: 2, EPOCH: 1, train_loss: 0.030320327275910892\n",
      "SEED: 2 ,FOLD: 2, EPOCH: 1, valid_loss: 0.02002968409886727\n",
      "SEED: 2, FOLD: 2, EPOCH: 2, train_loss: 0.022115175889150518\n",
      "SEED: 2 ,FOLD: 2, EPOCH: 2, valid_loss: 0.017985145633037273\n",
      "SEED: 2, FOLD: 2, EPOCH: 3, train_loss: 0.02197421291792715\n",
      "SEED: 2 ,FOLD: 2, EPOCH: 3, valid_loss: 0.01775322797206732\n",
      "SEED: 2, FOLD: 2, EPOCH: 4, train_loss: 0.020672499781122077\n",
      "SEED: 2 ,FOLD: 2, EPOCH: 4, valid_loss: 0.02014788970924341\n",
      "SEED: 2, FOLD: 2, EPOCH: 5, train_loss: 0.020277444524942217\n",
      "SEED: 2 ,FOLD: 2, EPOCH: 5, valid_loss: 0.01699402190458316\n",
      "SEED: 2, FOLD: 2, EPOCH: 6, train_loss: 0.020020845950253913\n",
      "SEED: 2 ,FOLD: 2, EPOCH: 6, valid_loss: 0.017122916232507963\n",
      "SEED: 2, FOLD: 2, EPOCH: 7, train_loss: 0.020014249115578225\n",
      "SEED: 2 ,FOLD: 2, EPOCH: 7, valid_loss: 0.017067973430340107\n",
      "SEED: 2, FOLD: 2, EPOCH: 8, train_loss: 0.019974075887050177\n",
      "SEED: 2 ,FOLD: 2, EPOCH: 8, valid_loss: 0.016929438910805263\n",
      "SEED: 2, FOLD: 2, EPOCH: 9, train_loss: 0.01985892273384977\n",
      "SEED: 2 ,FOLD: 2, EPOCH: 9, valid_loss: 0.01714831404387951\n",
      "SEED: 2, FOLD: 2, EPOCH: 10, train_loss: 0.019901352783514036\n",
      "SEED: 2 ,FOLD: 2, EPOCH: 10, valid_loss: 0.01685834124397773\n",
      "SEED: 2, FOLD: 2, EPOCH: 11, train_loss: 0.019770708539195964\n",
      "SEED: 2 ,FOLD: 2, EPOCH: 11, valid_loss: 0.01688438983490834\n",
      "SEED: 2, FOLD: 2, EPOCH: 12, train_loss: 0.01971701567841543\n",
      "SEED: 2 ,FOLD: 2, EPOCH: 12, valid_loss: 0.0167564617183346\n",
      "SEED: 2, FOLD: 2, EPOCH: 13, train_loss: 0.01963611035230192\n",
      "SEED: 2 ,FOLD: 2, EPOCH: 13, valid_loss: 0.016605986425509818\n",
      "SEED: 2, FOLD: 2, EPOCH: 14, train_loss: 0.0194609969401279\n",
      "SEED: 2 ,FOLD: 2, EPOCH: 14, valid_loss: 0.016517596462598212\n",
      "SEED: 2, FOLD: 2, EPOCH: 15, train_loss: 0.019278729661695054\n",
      "SEED: 2 ,FOLD: 2, EPOCH: 15, valid_loss: 0.01647248513136919\n",
      "SEED: 2, FOLD: 2, EPOCH: 16, train_loss: 0.01912684119432359\n",
      "SEED: 2 ,FOLD: 2, EPOCH: 16, valid_loss: 0.016408674347286042\n",
      "SEED: 2, FOLD: 2, EPOCH: 17, train_loss: 0.0189171947689878\n",
      "SEED: 2 ,FOLD: 2, EPOCH: 17, valid_loss: 0.016223797789559916\n",
      "SEED: 2, FOLD: 2, EPOCH: 18, train_loss: 0.01863087177578662\n",
      "SEED: 2 ,FOLD: 2, EPOCH: 18, valid_loss: 0.016250747112700574\n",
      "SEED: 2, FOLD: 2, EPOCH: 19, train_loss: 0.018233599644657726\n",
      "SEED: 2 ,FOLD: 2, EPOCH: 19, valid_loss: 0.01624255398145089\n",
      "SEED: 2, FOLD: 2, EPOCH: 20, train_loss: 0.017841620697967103\n",
      "SEED: 2 ,FOLD: 2, EPOCH: 20, valid_loss: 0.016012091619464066\n",
      "SEED: 2, FOLD: 2, EPOCH: 21, train_loss: 0.017401722096208785\n",
      "SEED: 2 ,FOLD: 2, EPOCH: 21, valid_loss: 0.01600574035770618\n",
      "SEED: 2, FOLD: 2, EPOCH: 22, train_loss: 0.016879080756995325\n",
      "SEED: 2 ,FOLD: 2, EPOCH: 22, valid_loss: 0.015976593758051213\n",
      "SEED: 2, FOLD: 2, EPOCH: 23, train_loss: 0.016504939242794708\n",
      "SEED: 2 ,FOLD: 2, EPOCH: 23, valid_loss: 0.015950241197760288\n",
      "SEED: 2, FOLD: 2, EPOCH: 24, train_loss: 0.016184574848896748\n",
      "SEED: 2 ,FOLD: 2, EPOCH: 24, valid_loss: 0.015991808989873298\n",
      "SEED: 2, FOLD: 2, EPOCH: 25, train_loss: 0.016065763661990296\n",
      "SEED: 2 ,FOLD: 2, EPOCH: 25, valid_loss: 0.01595140979267084\n",
      "SEED: 2, FOLD: 3, EPOCH: 0, train_loss: 0.5877626081173485\n",
      "SEED: 2 ,FOLD: 3, EPOCH: 0, valid_loss: 0.08489400549576832\n",
      "SEED: 2, FOLD: 3, EPOCH: 1, train_loss: 0.030166121023530897\n",
      "SEED: 2 ,FOLD: 3, EPOCH: 1, valid_loss: 0.02017458972449486\n",
      "SEED: 2, FOLD: 3, EPOCH: 2, train_loss: 0.02200370090636047\n",
      "SEED: 2 ,FOLD: 3, EPOCH: 2, valid_loss: 0.018653379896512397\n",
      "SEED: 2, FOLD: 3, EPOCH: 3, train_loss: 0.02104637970694819\n",
      "SEED: 2 ,FOLD: 3, EPOCH: 3, valid_loss: 0.01806775924678032\n",
      "SEED: 2, FOLD: 3, EPOCH: 4, train_loss: 0.020515309042624524\n",
      "SEED: 2 ,FOLD: 3, EPOCH: 4, valid_loss: 0.017508425391637363\n",
      "SEED: 2, FOLD: 3, EPOCH: 5, train_loss: 0.020478990407207527\n",
      "SEED: 2 ,FOLD: 3, EPOCH: 5, valid_loss: 0.017221948848320887\n",
      "SEED: 2, FOLD: 3, EPOCH: 6, train_loss: 0.02012855514279894\n",
      "SEED: 2 ,FOLD: 3, EPOCH: 6, valid_loss: 0.017748942741980918\n",
      "SEED: 2, FOLD: 3, EPOCH: 7, train_loss: 0.020071171551338723\n",
      "SEED: 2 ,FOLD: 3, EPOCH: 7, valid_loss: 0.01734648387019451\n",
      "SEED: 2, FOLD: 3, EPOCH: 8, train_loss: 0.019970211426954012\n",
      "SEED: 2 ,FOLD: 3, EPOCH: 8, valid_loss: 0.017362172787006084\n",
      "SEED: 2, FOLD: 3, EPOCH: 9, train_loss: 0.019980723868954827\n",
      "SEED: 2 ,FOLD: 3, EPOCH: 9, valid_loss: 0.017093877236430462\n",
      "SEED: 2, FOLD: 3, EPOCH: 10, train_loss: 0.019926172983203386\n",
      "SEED: 2 ,FOLD: 3, EPOCH: 10, valid_loss: 0.017015400987405043\n",
      "SEED: 2, FOLD: 3, EPOCH: 11, train_loss: 0.0198805057317824\n",
      "SEED: 2 ,FOLD: 3, EPOCH: 11, valid_loss: 0.01692862192598673\n",
      "SEED: 2, FOLD: 3, EPOCH: 12, train_loss: 0.019746288833384577\n",
      "SEED: 2 ,FOLD: 3, EPOCH: 12, valid_loss: 0.016956304844755393\n",
      "SEED: 2, FOLD: 3, EPOCH: 13, train_loss: 0.019664745047889853\n",
      "SEED: 2 ,FOLD: 3, EPOCH: 13, valid_loss: 0.016839379874559548\n",
      "SEED: 2, FOLD: 3, EPOCH: 14, train_loss: 0.019582338631153107\n",
      "SEED: 2 ,FOLD: 3, EPOCH: 14, valid_loss: 0.016793114992861565\n",
      "SEED: 2, FOLD: 3, EPOCH: 15, train_loss: 0.019377813422800722\n",
      "SEED: 2 ,FOLD: 3, EPOCH: 15, valid_loss: 0.016697988988688357\n",
      "SEED: 2, FOLD: 3, EPOCH: 16, train_loss: 0.019151832455316105\n",
      "SEED: 2 ,FOLD: 3, EPOCH: 16, valid_loss: 0.016632325302522916\n",
      "SEED: 2, FOLD: 3, EPOCH: 17, train_loss: 0.018900140364830557\n",
      "SEED: 2 ,FOLD: 3, EPOCH: 17, valid_loss: 0.016469253298754875\n",
      "SEED: 2, FOLD: 3, EPOCH: 18, train_loss: 0.018613586604997918\n",
      "SEED: 2 ,FOLD: 3, EPOCH: 18, valid_loss: 0.016404230505801164\n",
      "SEED: 2, FOLD: 3, EPOCH: 19, train_loss: 0.01828423615645718\n",
      "SEED: 2 ,FOLD: 3, EPOCH: 19, valid_loss: 0.016335453193348188\n",
      "SEED: 2, FOLD: 3, EPOCH: 20, train_loss: 0.017902453631364012\n",
      "SEED: 2 ,FOLD: 3, EPOCH: 20, valid_loss: 0.016214365927645795\n",
      "SEED: 2, FOLD: 3, EPOCH: 21, train_loss: 0.017455616210763518\n",
      "SEED: 2 ,FOLD: 3, EPOCH: 21, valid_loss: 0.01620876158659275\n",
      "SEED: 2, FOLD: 3, EPOCH: 22, train_loss: 0.016995846809869684\n",
      "SEED: 2 ,FOLD: 3, EPOCH: 22, valid_loss: 0.01610197227161664\n",
      "SEED: 2, FOLD: 3, EPOCH: 23, train_loss: 0.016562376485986484\n",
      "SEED: 2 ,FOLD: 3, EPOCH: 23, valid_loss: 0.0160759579247007\n",
      "SEED: 2, FOLD: 3, EPOCH: 24, train_loss: 0.016281526019746386\n",
      "SEED: 2 ,FOLD: 3, EPOCH: 24, valid_loss: 0.016088938483825095\n",
      "SEED: 2, FOLD: 3, EPOCH: 25, train_loss: 0.016137488853387737\n",
      "SEED: 2 ,FOLD: 3, EPOCH: 25, valid_loss: 0.01610274612903595\n",
      "SEED: 2, FOLD: 4, EPOCH: 0, train_loss: 0.5877386942707203\n",
      "SEED: 2 ,FOLD: 4, EPOCH: 0, valid_loss: 0.10074155261883369\n",
      "SEED: 2, FOLD: 4, EPOCH: 1, train_loss: 0.03016489157704888\n",
      "SEED: 2 ,FOLD: 4, EPOCH: 1, valid_loss: 0.02011656775497473\n",
      "SEED: 2, FOLD: 4, EPOCH: 2, train_loss: 0.021991338983580872\n",
      "SEED: 2 ,FOLD: 4, EPOCH: 2, valid_loss: 0.01890219160570548\n",
      "SEED: 2, FOLD: 4, EPOCH: 3, train_loss: 0.021171743503293476\n",
      "SEED: 2 ,FOLD: 4, EPOCH: 3, valid_loss: 0.018265367270662233\n",
      "SEED: 2, FOLD: 4, EPOCH: 4, train_loss: 0.02065389379355553\n",
      "SEED: 2 ,FOLD: 4, EPOCH: 4, valid_loss: 0.017803635018376205\n",
      "SEED: 2, FOLD: 4, EPOCH: 5, train_loss: 0.020230923653454393\n",
      "SEED: 2 ,FOLD: 4, EPOCH: 5, valid_loss: 0.017259780174264543\n",
      "SEED: 2, FOLD: 4, EPOCH: 6, train_loss: 0.02005923491575428\n",
      "SEED: 2 ,FOLD: 4, EPOCH: 6, valid_loss: 0.01736834731239539\n",
      "SEED: 2, FOLD: 4, EPOCH: 7, train_loss: 0.020029468159820582\n",
      "SEED: 2 ,FOLD: 4, EPOCH: 7, valid_loss: 0.017667867673131134\n",
      "SEED: 2, FOLD: 4, EPOCH: 8, train_loss: 0.019925616580892255\n",
      "SEED: 2 ,FOLD: 4, EPOCH: 8, valid_loss: 0.017132125651607148\n",
      "SEED: 2, FOLD: 4, EPOCH: 9, train_loss: 0.019866043047325033\n",
      "SEED: 2 ,FOLD: 4, EPOCH: 9, valid_loss: 0.017293779036173455\n",
      "SEED: 2, FOLD: 4, EPOCH: 10, train_loss: 0.01981209100198907\n",
      "SEED: 2 ,FOLD: 4, EPOCH: 10, valid_loss: 0.01704209498487986\n",
      "SEED: 2, FOLD: 4, EPOCH: 11, train_loss: 0.019762151547380397\n",
      "SEED: 2 ,FOLD: 4, EPOCH: 11, valid_loss: 0.017307094083382532\n",
      "SEED: 2, FOLD: 4, EPOCH: 12, train_loss: 0.01969720989566397\n",
      "SEED: 2 ,FOLD: 4, EPOCH: 12, valid_loss: 0.016878471351586856\n",
      "SEED: 2, FOLD: 4, EPOCH: 13, train_loss: 0.01961878692177502\n",
      "SEED: 2 ,FOLD: 4, EPOCH: 13, valid_loss: 0.017025814893154\n",
      "SEED: 2, FOLD: 4, EPOCH: 14, train_loss: 0.01944779486370248\n",
      "SEED: 2 ,FOLD: 4, EPOCH: 14, valid_loss: 0.016799987580340642\n",
      "SEED: 2, FOLD: 4, EPOCH: 15, train_loss: 0.019317718323420833\n",
      "SEED: 2 ,FOLD: 4, EPOCH: 15, valid_loss: 0.016992015190995656\n",
      "SEED: 2, FOLD: 4, EPOCH: 16, train_loss: 0.019044093686986615\n",
      "SEED: 2 ,FOLD: 4, EPOCH: 16, valid_loss: 0.016696120970524274\n",
      "SEED: 2, FOLD: 4, EPOCH: 17, train_loss: 0.018829685560352093\n",
      "SEED: 2 ,FOLD: 4, EPOCH: 17, valid_loss: 0.016625909851147577\n",
      "SEED: 2, FOLD: 4, EPOCH: 18, train_loss: 0.018556080204812257\n",
      "SEED: 2 ,FOLD: 4, EPOCH: 18, valid_loss: 0.016438746395019386\n",
      "SEED: 2, FOLD: 4, EPOCH: 19, train_loss: 0.018240868340472918\n",
      "SEED: 2 ,FOLD: 4, EPOCH: 19, valid_loss: 0.016418594866991043\n",
      "SEED: 2, FOLD: 4, EPOCH: 20, train_loss: 0.017819239783125954\n",
      "SEED: 2 ,FOLD: 4, EPOCH: 20, valid_loss: 0.016293281975847024\n",
      "SEED: 2, FOLD: 4, EPOCH: 21, train_loss: 0.017378749225187947\n",
      "SEED: 2 ,FOLD: 4, EPOCH: 21, valid_loss: 0.016173881406967457\n",
      "SEED: 2, FOLD: 4, EPOCH: 22, train_loss: 0.016944827738444548\n",
      "SEED: 2 ,FOLD: 4, EPOCH: 22, valid_loss: 0.016156260568935137\n",
      "SEED: 2, FOLD: 4, EPOCH: 23, train_loss: 0.016562978548274654\n",
      "SEED: 2 ,FOLD: 4, EPOCH: 23, valid_loss: 0.016141559068973247\n",
      "SEED: 2, FOLD: 4, EPOCH: 24, train_loss: 0.016251612127431342\n",
      "SEED: 2 ,FOLD: 4, EPOCH: 24, valid_loss: 0.01616717466654686\n",
      "SEED: 2, FOLD: 4, EPOCH: 25, train_loss: 0.016107236412731377\n",
      "SEED: 2 ,FOLD: 4, EPOCH: 25, valid_loss: 0.016156295744272377\n",
      "SEED: 2, FOLD: 5, EPOCH: 0, train_loss: 0.5877345268790787\n",
      "SEED: 2 ,FOLD: 5, EPOCH: 0, valid_loss: 0.09973410688913785\n",
      "SEED: 2, FOLD: 5, EPOCH: 1, train_loss: 0.030169198037804785\n",
      "SEED: 2 ,FOLD: 5, EPOCH: 1, valid_loss: 0.019928212349231426\n",
      "SEED: 2, FOLD: 5, EPOCH: 2, train_loss: 0.022116083148363476\n",
      "SEED: 2 ,FOLD: 5, EPOCH: 2, valid_loss: 0.019140668499928255\n",
      "SEED: 2, FOLD: 5, EPOCH: 3, train_loss: 0.021537888719624764\n",
      "SEED: 2 ,FOLD: 5, EPOCH: 3, valid_loss: 0.05333541964109127\n",
      "SEED: 2, FOLD: 5, EPOCH: 4, train_loss: 0.02181847859174013\n",
      "SEED: 2 ,FOLD: 5, EPOCH: 4, valid_loss: 0.01782764523075177\n",
      "SEED: 2, FOLD: 5, EPOCH: 5, train_loss: 0.020402114435627654\n",
      "SEED: 2 ,FOLD: 5, EPOCH: 5, valid_loss: 0.017263679550244257\n",
      "SEED: 2, FOLD: 5, EPOCH: 6, train_loss: 0.020152522049642897\n",
      "SEED: 2 ,FOLD: 5, EPOCH: 6, valid_loss: 0.017574348845160924\n",
      "SEED: 2, FOLD: 5, EPOCH: 7, train_loss: 0.020079927418280293\n",
      "SEED: 2 ,FOLD: 5, EPOCH: 7, valid_loss: 0.017154831654177263\n",
      "SEED: 2, FOLD: 5, EPOCH: 8, train_loss: 0.019972754164120636\n",
      "SEED: 2 ,FOLD: 5, EPOCH: 8, valid_loss: 0.017190486049422853\n",
      "SEED: 2, FOLD: 5, EPOCH: 9, train_loss: 0.019873693585395813\n",
      "SEED: 2 ,FOLD: 5, EPOCH: 9, valid_loss: 0.016833751748960752\n",
      "SEED: 2, FOLD: 5, EPOCH: 10, train_loss: 0.01980095641133753\n",
      "SEED: 2 ,FOLD: 5, EPOCH: 10, valid_loss: 0.01684541978801672\n",
      "SEED: 2, FOLD: 5, EPOCH: 11, train_loss: 0.019709475363629894\n",
      "SEED: 2 ,FOLD: 5, EPOCH: 11, valid_loss: 0.017014940340931598\n",
      "SEED: 2, FOLD: 5, EPOCH: 12, train_loss: 0.019675009506377013\n",
      "SEED: 2 ,FOLD: 5, EPOCH: 12, valid_loss: 0.01675061208124344\n",
      "SEED: 2, FOLD: 5, EPOCH: 13, train_loss: 0.01955640537513269\n",
      "SEED: 2 ,FOLD: 5, EPOCH: 13, valid_loss: 0.016627961339858863\n",
      "SEED: 2, FOLD: 5, EPOCH: 14, train_loss: 0.019413112285169395\n",
      "SEED: 2 ,FOLD: 5, EPOCH: 14, valid_loss: 0.016698017000005796\n",
      "SEED: 2, FOLD: 5, EPOCH: 15, train_loss: 0.01924049887000709\n",
      "SEED: 2 ,FOLD: 5, EPOCH: 15, valid_loss: 0.01667793123767926\n",
      "SEED: 2, FOLD: 5, EPOCH: 16, train_loss: 0.018974051609433985\n",
      "SEED: 2 ,FOLD: 5, EPOCH: 16, valid_loss: 0.01649993206732548\n",
      "SEED: 2, FOLD: 5, EPOCH: 17, train_loss: 0.018763867609605595\n",
      "SEED: 2 ,FOLD: 5, EPOCH: 17, valid_loss: 0.016532382211433008\n",
      "SEED: 2, FOLD: 5, EPOCH: 18, train_loss: 0.018486308814907395\n",
      "SEED: 2 ,FOLD: 5, EPOCH: 18, valid_loss: 0.016324498117543183\n",
      "SEED: 2, FOLD: 5, EPOCH: 19, train_loss: 0.018109538466543763\n",
      "SEED: 2 ,FOLD: 5, EPOCH: 19, valid_loss: 0.01628105636112965\n",
      "SEED: 2, FOLD: 5, EPOCH: 20, train_loss: 0.017585651118408988\n",
      "SEED: 2 ,FOLD: 5, EPOCH: 20, valid_loss: 0.016137110212674506\n",
      "SEED: 2, FOLD: 5, EPOCH: 21, train_loss: 0.017163359899879306\n",
      "SEED: 2 ,FOLD: 5, EPOCH: 21, valid_loss: 0.016178293941685788\n",
      "SEED: 2, FOLD: 5, EPOCH: 22, train_loss: 0.016572217708705244\n",
      "SEED: 2 ,FOLD: 5, EPOCH: 22, valid_loss: 0.016050490622337047\n",
      "SEED: 2, FOLD: 5, EPOCH: 23, train_loss: 0.01613355425463335\n",
      "SEED: 2 ,FOLD: 5, EPOCH: 23, valid_loss: 0.016055720285154305\n",
      "SEED: 2, FOLD: 6, EPOCH: 0, train_loss: 0.5872585710037399\n",
      "SEED: 2 ,FOLD: 6, EPOCH: 0, valid_loss: 0.08049351091568287\n",
      "SEED: 2, FOLD: 6, EPOCH: 1, train_loss: 0.029697007222755534\n",
      "SEED: 2 ,FOLD: 6, EPOCH: 1, valid_loss: 0.020009944645258095\n",
      "SEED: 2, FOLD: 6, EPOCH: 2, train_loss: 0.021982960780528752\n",
      "SEED: 2 ,FOLD: 6, EPOCH: 2, valid_loss: 0.018550097655791502\n",
      "SEED: 2, FOLD: 6, EPOCH: 3, train_loss: 0.02105348728395797\n",
      "SEED: 2 ,FOLD: 6, EPOCH: 3, valid_loss: 0.017618449977957286\n",
      "SEED: 2, FOLD: 6, EPOCH: 4, train_loss: 0.020451302614969177\n",
      "SEED: 2 ,FOLD: 6, EPOCH: 4, valid_loss: 0.017383313093047876\n",
      "SEED: 2, FOLD: 6, EPOCH: 5, train_loss: 0.020501944538507913\n",
      "SEED: 2 ,FOLD: 6, EPOCH: 5, valid_loss: 0.017775960123309724\n",
      "SEED: 2, FOLD: 6, EPOCH: 6, train_loss: 0.020132123240949335\n",
      "SEED: 2 ,FOLD: 6, EPOCH: 6, valid_loss: 0.016912104275364142\n",
      "SEED: 2, FOLD: 6, EPOCH: 7, train_loss: 0.020102309088247852\n",
      "SEED: 2 ,FOLD: 6, EPOCH: 7, valid_loss: 0.017253019918616\n",
      "SEED: 2, FOLD: 6, EPOCH: 8, train_loss: 0.01997275756218949\n",
      "SEED: 2 ,FOLD: 6, EPOCH: 8, valid_loss: 0.017627959784406882\n",
      "SEED: 2, FOLD: 6, EPOCH: 9, train_loss: 0.020008030322355194\n",
      "SEED: 2 ,FOLD: 6, EPOCH: 9, valid_loss: 0.01717489757216894\n",
      "SEED: 2, FOLD: 6, EPOCH: 10, train_loss: 0.019954409752343152\n",
      "SEED: 2 ,FOLD: 6, EPOCH: 10, valid_loss: 0.01694455721343939\n",
      "SEED: 2, FOLD: 6, EPOCH: 11, train_loss: 0.019846163010476408\n",
      "SEED: 2 ,FOLD: 6, EPOCH: 11, valid_loss: 0.01687659093966851\n",
      "SEED: 2, FOLD: 6, EPOCH: 12, train_loss: 0.01976962319600421\n",
      "SEED: 2 ,FOLD: 6, EPOCH: 12, valid_loss: 0.01681325355401406\n",
      "SEED: 2, FOLD: 6, EPOCH: 13, train_loss: 0.019645489349558547\n",
      "SEED: 2 ,FOLD: 6, EPOCH: 13, valid_loss: 0.01685268747118803\n",
      "SEED: 2, FOLD: 6, EPOCH: 14, train_loss: 0.019540584092406003\n",
      "SEED: 2 ,FOLD: 6, EPOCH: 14, valid_loss: 0.016643627546727657\n",
      "SEED: 2, FOLD: 6, EPOCH: 15, train_loss: 0.01940411558324421\n",
      "SEED: 2 ,FOLD: 6, EPOCH: 15, valid_loss: 0.01648840644898323\n",
      "SEED: 2, FOLD: 6, EPOCH: 16, train_loss: 0.019140364199474052\n",
      "SEED: 2 ,FOLD: 6, EPOCH: 16, valid_loss: 0.016485502800116174\n",
      "SEED: 2, FOLD: 6, EPOCH: 17, train_loss: 0.01897076829462438\n",
      "SEED: 2 ,FOLD: 6, EPOCH: 17, valid_loss: 0.016545166046573564\n",
      "SEED: 2, FOLD: 6, EPOCH: 18, train_loss: 0.018623993329301074\n",
      "SEED: 2 ,FOLD: 6, EPOCH: 18, valid_loss: 0.01622402245322099\n",
      "SEED: 2, FOLD: 6, EPOCH: 19, train_loss: 0.01824685132030297\n",
      "SEED: 2 ,FOLD: 6, EPOCH: 19, valid_loss: 0.01622921543625685\n",
      "SEED: 2, FOLD: 6, EPOCH: 20, train_loss: 0.017863386814054603\n",
      "SEED: 2 ,FOLD: 6, EPOCH: 20, valid_loss: 0.016116756229446486\n",
      "SEED: 2, FOLD: 6, EPOCH: 21, train_loss: 0.017438359608924068\n",
      "SEED: 2 ,FOLD: 6, EPOCH: 21, valid_loss: 0.016117031757648174\n",
      "SEED: 2, FOLD: 6, EPOCH: 22, train_loss: 0.017004073370952864\n",
      "SEED: 2 ,FOLD: 6, EPOCH: 22, valid_loss: 0.016075593061172046\n",
      "SEED: 2, FOLD: 6, EPOCH: 23, train_loss: 0.016579572388247865\n",
      "SEED: 2 ,FOLD: 6, EPOCH: 23, valid_loss: 0.016014148051349018\n",
      "SEED: 2, FOLD: 6, EPOCH: 24, train_loss: 0.016281129528038406\n",
      "SEED: 2 ,FOLD: 6, EPOCH: 24, valid_loss: 0.01599761378020048\n",
      "SEED: 2, FOLD: 6, EPOCH: 25, train_loss: 0.01619575551484485\n",
      "SEED: 2 ,FOLD: 6, EPOCH: 25, valid_loss: 0.01599630104521146\n",
      "SEED: 3, FOLD: 0, EPOCH: 0, train_loss: 0.5876676204639513\n",
      "SEED: 3 ,FOLD: 0, EPOCH: 0, valid_loss: 0.11422069943868197\n",
      "SEED: 3, FOLD: 0, EPOCH: 1, train_loss: 0.0301988906906666\n",
      "SEED: 3 ,FOLD: 0, EPOCH: 1, valid_loss: 0.020037625844662007\n",
      "SEED: 3, FOLD: 0, EPOCH: 2, train_loss: 0.021816691207523282\n",
      "SEED: 3 ,FOLD: 0, EPOCH: 2, valid_loss: 0.018329618212122183\n",
      "SEED: 3, FOLD: 0, EPOCH: 3, train_loss: 0.021113113248469057\n",
      "SEED: 3 ,FOLD: 0, EPOCH: 3, valid_loss: 0.017917428022393815\n",
      "SEED: 3, FOLD: 0, EPOCH: 4, train_loss: 0.02063989611594258\n",
      "SEED: 3 ,FOLD: 0, EPOCH: 4, valid_loss: 0.017755180454024903\n",
      "SEED: 3, FOLD: 0, EPOCH: 5, train_loss: 0.020187264106966352\n",
      "SEED: 3 ,FOLD: 0, EPOCH: 5, valid_loss: 0.017362762385836013\n",
      "SEED: 3, FOLD: 0, EPOCH: 6, train_loss: 0.020081520609154895\n",
      "SEED: 3 ,FOLD: 0, EPOCH: 6, valid_loss: 0.017297480541926164\n",
      "SEED: 3, FOLD: 0, EPOCH: 7, train_loss: 0.0199614758980838\n",
      "SEED: 3 ,FOLD: 0, EPOCH: 7, valid_loss: 0.01762490003154828\n",
      "SEED: 3, FOLD: 0, EPOCH: 8, train_loss: 0.019945143520630693\n",
      "SEED: 3 ,FOLD: 0, EPOCH: 8, valid_loss: 0.01753634687226552\n",
      "SEED: 3, FOLD: 0, EPOCH: 9, train_loss: 0.019846588926943572\n",
      "SEED: 3 ,FOLD: 0, EPOCH: 9, valid_loss: 0.0174145671324088\n",
      "SEED: 3, FOLD: 0, EPOCH: 10, train_loss: 0.019853095070937195\n",
      "SEED: 3 ,FOLD: 0, EPOCH: 10, valid_loss: 0.017103642368545897\n",
      "SEED: 3, FOLD: 0, EPOCH: 11, train_loss: 0.01978754941877481\n",
      "SEED: 3 ,FOLD: 0, EPOCH: 11, valid_loss: 0.01734016463160515\n",
      "SEED: 3, FOLD: 0, EPOCH: 12, train_loss: 0.019647480995469802\n",
      "SEED: 3 ,FOLD: 0, EPOCH: 12, valid_loss: 0.01708741829945491\n",
      "SEED: 3, FOLD: 0, EPOCH: 13, train_loss: 0.019599581036616017\n",
      "SEED: 3 ,FOLD: 0, EPOCH: 13, valid_loss: 0.017055820530423753\n",
      "SEED: 3, FOLD: 0, EPOCH: 14, train_loss: 0.01940535897439396\n",
      "SEED: 3 ,FOLD: 0, EPOCH: 14, valid_loss: 0.0169951064655414\n",
      "SEED: 3, FOLD: 0, EPOCH: 15, train_loss: 0.01926139631384128\n",
      "SEED: 3 ,FOLD: 0, EPOCH: 15, valid_loss: 0.016899151584276788\n",
      "SEED: 3, FOLD: 0, EPOCH: 16, train_loss: 0.01915308807951373\n",
      "SEED: 3 ,FOLD: 0, EPOCH: 16, valid_loss: 0.016676612126712616\n",
      "SEED: 3, FOLD: 0, EPOCH: 17, train_loss: 0.018873976795254526\n",
      "SEED: 3 ,FOLD: 0, EPOCH: 17, valid_loss: 0.01654601190239191\n",
      "SEED: 3, FOLD: 0, EPOCH: 18, train_loss: 0.018541057292069937\n",
      "SEED: 3 ,FOLD: 0, EPOCH: 18, valid_loss: 0.01657388022599312\n",
      "SEED: 3, FOLD: 0, EPOCH: 19, train_loss: 0.018156139406602125\n",
      "SEED: 3 ,FOLD: 0, EPOCH: 19, valid_loss: 0.016427227654136144\n",
      "SEED: 3, FOLD: 0, EPOCH: 20, train_loss: 0.01780322825888524\n",
      "SEED: 3 ,FOLD: 0, EPOCH: 20, valid_loss: 0.016331251710653305\n",
      "SEED: 3, FOLD: 0, EPOCH: 21, train_loss: 0.01735577028798493\n",
      "SEED: 3 ,FOLD: 0, EPOCH: 21, valid_loss: 0.01623980966038429\n",
      "SEED: 3, FOLD: 0, EPOCH: 22, train_loss: 0.016845640399166056\n",
      "SEED: 3 ,FOLD: 0, EPOCH: 22, valid_loss: 0.016264142396931466\n",
      "SEED: 3, FOLD: 0, EPOCH: 23, train_loss: 0.016443349609805924\n",
      "SEED: 3 ,FOLD: 0, EPOCH: 23, valid_loss: 0.016291381647953622\n",
      "SEED: 3, FOLD: 0, EPOCH: 24, train_loss: 0.016182999592274427\n",
      "SEED: 3 ,FOLD: 0, EPOCH: 24, valid_loss: 0.016251566175084848\n",
      "SEED: 3, FOLD: 0, EPOCH: 25, train_loss: 0.016056496763249505\n",
      "SEED: 3 ,FOLD: 0, EPOCH: 25, valid_loss: 0.016272358309764128\n",
      "SEED: 3, FOLD: 1, EPOCH: 0, train_loss: 0.5873526874426249\n",
      "SEED: 3 ,FOLD: 1, EPOCH: 0, valid_loss: 0.09660963370249821\n",
      "SEED: 3, FOLD: 1, EPOCH: 1, train_loss: 0.03020296958149285\n",
      "SEED: 3 ,FOLD: 1, EPOCH: 1, valid_loss: 0.01952267323548977\n",
      "SEED: 3, FOLD: 1, EPOCH: 2, train_loss: 0.022202706593718077\n",
      "SEED: 3 ,FOLD: 1, EPOCH: 2, valid_loss: 0.018187919345039587\n",
      "SEED: 3, FOLD: 1, EPOCH: 3, train_loss: 0.021207571608593333\n",
      "SEED: 3 ,FOLD: 1, EPOCH: 3, valid_loss: 0.01770828614154687\n",
      "SEED: 3, FOLD: 1, EPOCH: 4, train_loss: 0.020401293789414136\n",
      "SEED: 3 ,FOLD: 1, EPOCH: 4, valid_loss: 0.017338207779595487\n",
      "SEED: 3, FOLD: 1, EPOCH: 5, train_loss: 0.020314054916033875\n",
      "SEED: 3 ,FOLD: 1, EPOCH: 5, valid_loss: 0.01723762838026652\n",
      "SEED: 3, FOLD: 1, EPOCH: 6, train_loss: 0.020052560982671944\n",
      "SEED: 3 ,FOLD: 1, EPOCH: 6, valid_loss: 0.017503992511102788\n",
      "SEED: 3, FOLD: 1, EPOCH: 7, train_loss: 0.020001909972445386\n",
      "SEED: 3 ,FOLD: 1, EPOCH: 7, valid_loss: 0.016987594990776136\n",
      "SEED: 3, FOLD: 1, EPOCH: 8, train_loss: 0.019937253708170878\n",
      "SEED: 3 ,FOLD: 1, EPOCH: 8, valid_loss: 0.016932506400805254\n",
      "SEED: 3, FOLD: 1, EPOCH: 9, train_loss: 0.019873077679123427\n",
      "SEED: 3 ,FOLD: 1, EPOCH: 9, valid_loss: 0.0168463671579957\n",
      "SEED: 3, FOLD: 1, EPOCH: 10, train_loss: 0.01985731318190291\n",
      "SEED: 3 ,FOLD: 1, EPOCH: 10, valid_loss: 0.016806212683709767\n",
      "SEED: 3, FOLD: 1, EPOCH: 11, train_loss: 0.019851614192530915\n",
      "SEED: 3 ,FOLD: 1, EPOCH: 11, valid_loss: 0.016696933800211318\n",
      "SEED: 3, FOLD: 1, EPOCH: 12, train_loss: 0.019748310533327026\n",
      "SEED: 3 ,FOLD: 1, EPOCH: 12, valid_loss: 0.016550888880514182\n",
      "SEED: 3, FOLD: 1, EPOCH: 13, train_loss: 0.019624913438550523\n",
      "SEED: 3 ,FOLD: 1, EPOCH: 13, valid_loss: 0.016416682145343378\n",
      "SEED: 3, FOLD: 1, EPOCH: 14, train_loss: 0.019496636742071527\n",
      "SEED: 3 ,FOLD: 1, EPOCH: 14, valid_loss: 0.016466231371920843\n",
      "SEED: 3, FOLD: 1, EPOCH: 15, train_loss: 0.019346304539893125\n",
      "SEED: 3 ,FOLD: 1, EPOCH: 15, valid_loss: 0.016422879953797046\n",
      "SEED: 3, FOLD: 1, EPOCH: 16, train_loss: 0.019135805199275147\n",
      "SEED: 3 ,FOLD: 1, EPOCH: 16, valid_loss: 0.016241888229090434\n",
      "SEED: 3, FOLD: 1, EPOCH: 17, train_loss: 0.01883372407708619\n",
      "SEED: 3 ,FOLD: 1, EPOCH: 17, valid_loss: 0.016464844489326842\n",
      "SEED: 3, FOLD: 1, EPOCH: 18, train_loss: 0.01860915685726984\n",
      "SEED: 3 ,FOLD: 1, EPOCH: 18, valid_loss: 0.016126633191911075\n",
      "SEED: 3, FOLD: 1, EPOCH: 19, train_loss: 0.01831990060069271\n",
      "SEED: 3 ,FOLD: 1, EPOCH: 19, valid_loss: 0.015999566691999253\n",
      "SEED: 3, FOLD: 1, EPOCH: 20, train_loss: 0.01788086018751602\n",
      "SEED: 3 ,FOLD: 1, EPOCH: 20, valid_loss: 0.015928411927933876\n",
      "SEED: 3, FOLD: 1, EPOCH: 21, train_loss: 0.017421932941353\n",
      "SEED: 3 ,FOLD: 1, EPOCH: 21, valid_loss: 0.015894182957708836\n",
      "SEED: 3, FOLD: 1, EPOCH: 22, train_loss: 0.016992094901365204\n",
      "SEED: 3 ,FOLD: 1, EPOCH: 22, valid_loss: 0.015829476026388314\n",
      "SEED: 3, FOLD: 1, EPOCH: 23, train_loss: 0.016644555282451817\n",
      "SEED: 3 ,FOLD: 1, EPOCH: 23, valid_loss: 0.01585814392623993\n",
      "SEED: 3, FOLD: 1, EPOCH: 24, train_loss: 0.01636880078680209\n",
      "SEED: 3 ,FOLD: 1, EPOCH: 24, valid_loss: 0.015834126621484756\n",
      "SEED: 3, FOLD: 1, EPOCH: 25, train_loss: 0.016229485891558027\n",
      "SEED: 3 ,FOLD: 1, EPOCH: 25, valid_loss: 0.015847740050118703\n",
      "SEED: 3, FOLD: 2, EPOCH: 0, train_loss: 0.5877905847454393\n",
      "SEED: 3 ,FOLD: 2, EPOCH: 0, valid_loss: 0.08270874848732582\n",
      "SEED: 3, FOLD: 2, EPOCH: 1, train_loss: 0.029776321472348394\n",
      "SEED: 3 ,FOLD: 2, EPOCH: 1, valid_loss: 0.020049780463943116\n",
      "SEED: 3, FOLD: 2, EPOCH: 2, train_loss: 0.021961996659032396\n",
      "SEED: 3 ,FOLD: 2, EPOCH: 2, valid_loss: 0.020871540961357262\n",
      "SEED: 3, FOLD: 2, EPOCH: 3, train_loss: 0.02110874970015642\n",
      "SEED: 3 ,FOLD: 2, EPOCH: 3, valid_loss: 0.017651505051897123\n",
      "SEED: 3, FOLD: 2, EPOCH: 4, train_loss: 0.02057146580537429\n",
      "SEED: 3 ,FOLD: 2, EPOCH: 4, valid_loss: 0.017293977192961253\n",
      "SEED: 3, FOLD: 2, EPOCH: 5, train_loss: 0.020208509211000557\n",
      "SEED: 3 ,FOLD: 2, EPOCH: 5, valid_loss: 0.017187926918268204\n",
      "SEED: 3, FOLD: 2, EPOCH: 6, train_loss: 0.02009278251411947\n",
      "SEED: 3 ,FOLD: 2, EPOCH: 6, valid_loss: 0.016901131719350815\n",
      "SEED: 3, FOLD: 2, EPOCH: 7, train_loss: 0.020063324403521175\n",
      "SEED: 3 ,FOLD: 2, EPOCH: 7, valid_loss: 0.01678725131429159\n",
      "SEED: 3, FOLD: 2, EPOCH: 8, train_loss: 0.01998073952524243\n",
      "SEED: 3 ,FOLD: 2, EPOCH: 8, valid_loss: 0.017191057594922874\n",
      "SEED: 3, FOLD: 2, EPOCH: 9, train_loss: 0.019923448763989115\n",
      "SEED: 3 ,FOLD: 2, EPOCH: 9, valid_loss: 0.016931442114023063\n",
      "SEED: 3, FOLD: 2, EPOCH: 10, train_loss: 0.019859245349023794\n",
      "SEED: 3 ,FOLD: 2, EPOCH: 10, valid_loss: 0.01682116907949631\n",
      "SEED: 3, FOLD: 2, EPOCH: 11, train_loss: 0.019823298890244315\n",
      "SEED: 3 ,FOLD: 2, EPOCH: 11, valid_loss: 0.016823809880476732\n",
      "SEED: 3, FOLD: 2, EPOCH: 12, train_loss: 0.019705779347065334\n",
      "SEED: 3 ,FOLD: 2, EPOCH: 12, valid_loss: 0.016778200434950683\n",
      "SEED: 3, FOLD: 2, EPOCH: 13, train_loss: 0.01960994806644079\n",
      "SEED: 3 ,FOLD: 2, EPOCH: 13, valid_loss: 0.016651066449972298\n",
      "SEED: 3, FOLD: 2, EPOCH: 14, train_loss: 0.01950392049007319\n",
      "SEED: 3 ,FOLD: 2, EPOCH: 14, valid_loss: 0.01672277771509611\n",
      "SEED: 3, FOLD: 2, EPOCH: 15, train_loss: 0.019285544224486157\n",
      "SEED: 3 ,FOLD: 2, EPOCH: 15, valid_loss: 0.016629651188850403\n",
      "SEED: 3, FOLD: 2, EPOCH: 16, train_loss: 0.01914691985458941\n",
      "SEED: 3 ,FOLD: 2, EPOCH: 16, valid_loss: 0.016469421008458503\n",
      "SEED: 3, FOLD: 2, EPOCH: 17, train_loss: 0.01887418787825752\n",
      "SEED: 3 ,FOLD: 2, EPOCH: 17, valid_loss: 0.01642601664822835\n",
      "SEED: 3, FOLD: 2, EPOCH: 18, train_loss: 0.018625001246864732\n",
      "SEED: 3 ,FOLD: 2, EPOCH: 18, valid_loss: 0.016264008859602306\n",
      "SEED: 3, FOLD: 2, EPOCH: 19, train_loss: 0.01824670204439679\n",
      "SEED: 3 ,FOLD: 2, EPOCH: 19, valid_loss: 0.01622384299452488\n",
      "SEED: 3, FOLD: 2, EPOCH: 20, train_loss: 0.017893606318613968\n",
      "SEED: 3 ,FOLD: 2, EPOCH: 20, valid_loss: 0.016077200523935832\n",
      "SEED: 3, FOLD: 2, EPOCH: 21, train_loss: 0.017495297474434245\n",
      "SEED: 3 ,FOLD: 2, EPOCH: 21, valid_loss: 0.015992839677402608\n",
      "SEED: 3, FOLD: 2, EPOCH: 22, train_loss: 0.01706698487789647\n",
      "SEED: 3 ,FOLD: 2, EPOCH: 22, valid_loss: 0.016015868705625717\n",
      "SEED: 3, FOLD: 2, EPOCH: 23, train_loss: 0.01666219800559653\n",
      "SEED: 3 ,FOLD: 2, EPOCH: 23, valid_loss: 0.01594369700894906\n",
      "SEED: 3, FOLD: 2, EPOCH: 24, train_loss: 0.01636050287885843\n",
      "SEED: 3 ,FOLD: 2, EPOCH: 24, valid_loss: 0.01597239112911316\n",
      "SEED: 3, FOLD: 2, EPOCH: 25, train_loss: 0.016230590377204323\n",
      "SEED: 3 ,FOLD: 2, EPOCH: 25, valid_loss: 0.01596478816981499\n",
      "SEED: 3, FOLD: 3, EPOCH: 0, train_loss: 0.5867497300779497\n",
      "SEED: 3 ,FOLD: 3, EPOCH: 0, valid_loss: 0.09164481953932689\n",
      "SEED: 3, FOLD: 3, EPOCH: 1, train_loss: 0.030309498561797914\n",
      "SEED: 3 ,FOLD: 3, EPOCH: 1, valid_loss: 0.02002655456845577\n",
      "SEED: 3, FOLD: 3, EPOCH: 2, train_loss: 0.02199006682211483\n",
      "SEED: 3 ,FOLD: 3, EPOCH: 2, valid_loss: 0.018813725704183944\n",
      "SEED: 3, FOLD: 3, EPOCH: 3, train_loss: 0.021009112758612312\n",
      "SEED: 3 ,FOLD: 3, EPOCH: 3, valid_loss: 0.018035349794305287\n",
      "SEED: 3, FOLD: 3, EPOCH: 4, train_loss: 0.020533286186086165\n",
      "SEED: 3 ,FOLD: 3, EPOCH: 4, valid_loss: 0.01882669530235804\n",
      "SEED: 3, FOLD: 3, EPOCH: 5, train_loss: 0.02028490074381635\n",
      "SEED: 3 ,FOLD: 3, EPOCH: 5, valid_loss: 0.017341917380690575\n",
      "SEED: 3, FOLD: 3, EPOCH: 6, train_loss: 0.02007472197953108\n",
      "SEED: 3 ,FOLD: 3, EPOCH: 6, valid_loss: 0.017362859816505358\n",
      "SEED: 3, FOLD: 3, EPOCH: 7, train_loss: 0.019990337987405224\n",
      "SEED: 3 ,FOLD: 3, EPOCH: 7, valid_loss: 0.01760060855975518\n",
      "SEED: 3, FOLD: 3, EPOCH: 8, train_loss: 0.01998841536004801\n",
      "SEED: 3 ,FOLD: 3, EPOCH: 8, valid_loss: 0.017155505573520295\n",
      "SEED: 3, FOLD: 3, EPOCH: 9, train_loss: 0.019911847177993606\n",
      "SEED: 3 ,FOLD: 3, EPOCH: 9, valid_loss: 0.01710806256876542\n",
      "SEED: 3, FOLD: 3, EPOCH: 10, train_loss: 0.019866222188480803\n",
      "SEED: 3 ,FOLD: 3, EPOCH: 10, valid_loss: 0.01695381850004196\n",
      "SEED: 3, FOLD: 3, EPOCH: 11, train_loss: 0.01982069745458461\n",
      "SEED: 3 ,FOLD: 3, EPOCH: 11, valid_loss: 0.01691370987548278\n",
      "SEED: 3, FOLD: 3, EPOCH: 12, train_loss: 0.019699604980446195\n",
      "SEED: 3 ,FOLD: 3, EPOCH: 12, valid_loss: 0.016891976388601158\n",
      "SEED: 3, FOLD: 3, EPOCH: 13, train_loss: 0.019614582075863272\n",
      "SEED: 3 ,FOLD: 3, EPOCH: 13, valid_loss: 0.016818591250249974\n",
      "SEED: 3, FOLD: 3, EPOCH: 14, train_loss: 0.019501897607099365\n",
      "SEED: 3 ,FOLD: 3, EPOCH: 14, valid_loss: 0.016854845847074803\n",
      "SEED: 3, FOLD: 3, EPOCH: 15, train_loss: 0.01931400050887385\n",
      "SEED: 3 ,FOLD: 3, EPOCH: 15, valid_loss: 0.016695077244478922\n",
      "SEED: 3, FOLD: 3, EPOCH: 16, train_loss: 0.019135176153803193\n",
      "SEED: 3 ,FOLD: 3, EPOCH: 16, valid_loss: 0.016631777469928447\n",
      "SEED: 3, FOLD: 3, EPOCH: 17, train_loss: 0.018886362328319937\n",
      "SEED: 3 ,FOLD: 3, EPOCH: 17, valid_loss: 0.016374377318872854\n",
      "SEED: 3, FOLD: 3, EPOCH: 18, train_loss: 0.018540967859931895\n",
      "SEED: 3 ,FOLD: 3, EPOCH: 18, valid_loss: 0.016286983369634703\n",
      "SEED: 3, FOLD: 3, EPOCH: 19, train_loss: 0.018220040871686227\n",
      "SEED: 3 ,FOLD: 3, EPOCH: 19, valid_loss: 0.016193769943828765\n",
      "SEED: 3, FOLD: 3, EPOCH: 20, train_loss: 0.017840317702172575\n",
      "SEED: 3 ,FOLD: 3, EPOCH: 20, valid_loss: 0.01617918722331524\n",
      "SEED: 3, FOLD: 3, EPOCH: 21, train_loss: 0.017405003636471322\n",
      "SEED: 3 ,FOLD: 3, EPOCH: 21, valid_loss: 0.01611229469283269\n",
      "SEED: 3, FOLD: 3, EPOCH: 22, train_loss: 0.016948297871528444\n",
      "SEED: 3 ,FOLD: 3, EPOCH: 22, valid_loss: 0.01604027644946025\n",
      "SEED: 3, FOLD: 3, EPOCH: 23, train_loss: 0.016578032761006743\n",
      "SEED: 3 ,FOLD: 3, EPOCH: 23, valid_loss: 0.016106013853389483\n",
      "SEED: 3, FOLD: 3, EPOCH: 24, train_loss: 0.016302539513924637\n",
      "SEED: 3 ,FOLD: 3, EPOCH: 24, valid_loss: 0.01606486150278495\n",
      "SEED: 3, FOLD: 3, EPOCH: 25, train_loss: 0.016148113859565678\n",
      "SEED: 3 ,FOLD: 3, EPOCH: 25, valid_loss: 0.01607135969858903\n",
      "SEED: 3, FOLD: 4, EPOCH: 0, train_loss: 0.5874203520046698\n",
      "SEED: 3 ,FOLD: 4, EPOCH: 0, valid_loss: 0.09121069484032117\n",
      "SEED: 3, FOLD: 4, EPOCH: 1, train_loss: 0.029768194726391417\n",
      "SEED: 3 ,FOLD: 4, EPOCH: 1, valid_loss: 0.020488391415430948\n",
      "SEED: 3, FOLD: 4, EPOCH: 2, train_loss: 0.0220782264966417\n",
      "SEED: 3 ,FOLD: 4, EPOCH: 2, valid_loss: 0.020301422820641443\n",
      "SEED: 3, FOLD: 4, EPOCH: 3, train_loss: 0.021045593444157292\n",
      "SEED: 3 ,FOLD: 4, EPOCH: 3, valid_loss: 0.01790389819787099\n",
      "SEED: 3, FOLD: 4, EPOCH: 4, train_loss: 0.020412326110778627\n",
      "SEED: 3 ,FOLD: 4, EPOCH: 4, valid_loss: 0.018708611480318584\n",
      "SEED: 3, FOLD: 4, EPOCH: 5, train_loss: 0.02021131193819078\n",
      "SEED: 3 ,FOLD: 4, EPOCH: 5, valid_loss: 0.017234486026259568\n",
      "SEED: 3, FOLD: 4, EPOCH: 6, train_loss: 0.0200341730001005\n",
      "SEED: 3 ,FOLD: 4, EPOCH: 6, valid_loss: 0.017374369960564833\n",
      "SEED: 3, FOLD: 4, EPOCH: 7, train_loss: 0.020003701006439892\n",
      "SEED: 3 ,FOLD: 4, EPOCH: 7, valid_loss: 0.0172209394379304\n",
      "SEED: 3, FOLD: 4, EPOCH: 8, train_loss: 0.019949580114838238\n",
      "SEED: 3 ,FOLD: 4, EPOCH: 8, valid_loss: 0.017088734329893038\n",
      "SEED: 3, FOLD: 4, EPOCH: 9, train_loss: 0.01985938844547884\n",
      "SEED: 3 ,FOLD: 4, EPOCH: 9, valid_loss: 0.01731169639298549\n",
      "SEED: 3, FOLD: 4, EPOCH: 10, train_loss: 0.01982320862746722\n",
      "SEED: 3 ,FOLD: 4, EPOCH: 10, valid_loss: 0.017224357105218448\n",
      "SEED: 3, FOLD: 4, EPOCH: 11, train_loss: 0.019733620203427366\n",
      "SEED: 3 ,FOLD: 4, EPOCH: 11, valid_loss: 0.017119172387398206\n",
      "SEED: 3, FOLD: 4, EPOCH: 12, train_loss: 0.01968161077112765\n",
      "SEED: 3 ,FOLD: 4, EPOCH: 12, valid_loss: 0.01716853205401164\n",
      "SEED: 3, FOLD: 4, EPOCH: 13, train_loss: 0.01960818164956731\n",
      "SEED: 3 ,FOLD: 4, EPOCH: 13, valid_loss: 0.01686162415605325\n",
      "SEED: 3, FOLD: 4, EPOCH: 14, train_loss: 0.019456905161810888\n",
      "SEED: 3 ,FOLD: 4, EPOCH: 14, valid_loss: 0.016968809354763765\n",
      "SEED: 3, FOLD: 4, EPOCH: 15, train_loss: 0.019298510298737\n",
      "SEED: 3 ,FOLD: 4, EPOCH: 15, valid_loss: 0.01675793148863774\n",
      "SEED: 3, FOLD: 4, EPOCH: 16, train_loss: 0.01913070205498386\n",
      "SEED: 3 ,FOLD: 4, EPOCH: 16, valid_loss: 0.0167095700565439\n",
      "SEED: 3, FOLD: 4, EPOCH: 17, train_loss: 0.01883552477669877\n",
      "SEED: 3 ,FOLD: 4, EPOCH: 17, valid_loss: 0.01678086222650913\n",
      "SEED: 3, FOLD: 4, EPOCH: 18, train_loss: 0.018541382701211685\n",
      "SEED: 3 ,FOLD: 4, EPOCH: 18, valid_loss: 0.016518905114095945\n",
      "SEED: 3, FOLD: 4, EPOCH: 19, train_loss: 0.018218956006741203\n",
      "SEED: 3 ,FOLD: 4, EPOCH: 19, valid_loss: 0.016563558736099646\n",
      "SEED: 3, FOLD: 4, EPOCH: 20, train_loss: 0.017846817352079058\n",
      "SEED: 3 ,FOLD: 4, EPOCH: 20, valid_loss: 0.016283593212182704\n",
      "SEED: 3, FOLD: 4, EPOCH: 21, train_loss: 0.017421197221689933\n",
      "SEED: 3 ,FOLD: 4, EPOCH: 21, valid_loss: 0.016311201840065993\n",
      "SEED: 3, FOLD: 5, EPOCH: 0, train_loss: 0.5871615239695923\n",
      "SEED: 3 ,FOLD: 5, EPOCH: 0, valid_loss: 0.08582113339350773\n",
      "SEED: 3, FOLD: 5, EPOCH: 1, train_loss: 0.029683259089250822\n",
      "SEED: 3 ,FOLD: 5, EPOCH: 1, valid_loss: 0.019773076503322676\n",
      "SEED: 3, FOLD: 5, EPOCH: 2, train_loss: 0.022007757898520778\n",
      "SEED: 3 ,FOLD: 5, EPOCH: 2, valid_loss: 0.01820600190414832\n",
      "SEED: 3, FOLD: 5, EPOCH: 3, train_loss: 0.020987913943827152\n",
      "SEED: 3 ,FOLD: 5, EPOCH: 3, valid_loss: 0.017454339907719538\n",
      "SEED: 3, FOLD: 5, EPOCH: 4, train_loss: 0.020424864405917155\n",
      "SEED: 3 ,FOLD: 5, EPOCH: 4, valid_loss: 0.01798310797088421\n",
      "SEED: 3, FOLD: 5, EPOCH: 5, train_loss: 0.020272053425779212\n",
      "SEED: 3 ,FOLD: 5, EPOCH: 5, valid_loss: 0.01742102184261267\n",
      "SEED: 3, FOLD: 5, EPOCH: 6, train_loss: 0.01999729491669584\n",
      "SEED: 3 ,FOLD: 5, EPOCH: 6, valid_loss: 0.0173514335631178\n",
      "SEED: 3, FOLD: 5, EPOCH: 7, train_loss: 0.019995985955402657\n",
      "SEED: 3 ,FOLD: 5, EPOCH: 7, valid_loss: 0.017173079272302296\n",
      "SEED: 3, FOLD: 5, EPOCH: 8, train_loss: 0.019927039767640667\n",
      "SEED: 3 ,FOLD: 5, EPOCH: 8, valid_loss: 0.016883998536146604\n",
      "SEED: 3, FOLD: 5, EPOCH: 9, train_loss: 0.019881725009228732\n",
      "SEED: 3 ,FOLD: 5, EPOCH: 9, valid_loss: 0.017105143803816576\n",
      "SEED: 3, FOLD: 5, EPOCH: 10, train_loss: 0.019867888676959114\n",
      "SEED: 3 ,FOLD: 5, EPOCH: 10, valid_loss: 0.01693035554713928\n",
      "SEED: 3, FOLD: 5, EPOCH: 11, train_loss: 0.019793607621780923\n",
      "SEED: 3 ,FOLD: 5, EPOCH: 11, valid_loss: 0.0168263939424203\n",
      "SEED: 3, FOLD: 5, EPOCH: 12, train_loss: 0.01974749127151193\n",
      "SEED: 3 ,FOLD: 5, EPOCH: 12, valid_loss: 0.01690871461939353\n",
      "SEED: 3, FOLD: 5, EPOCH: 13, train_loss: 0.01965654012117837\n",
      "SEED: 3 ,FOLD: 5, EPOCH: 13, valid_loss: 0.016938717749256354\n",
      "SEED: 3, FOLD: 5, EPOCH: 14, train_loss: 0.01957825060329727\n",
      "SEED: 3 ,FOLD: 5, EPOCH: 14, valid_loss: 0.016755605617967937\n",
      "SEED: 3, FOLD: 5, EPOCH: 15, train_loss: 0.019398024330872135\n",
      "SEED: 3 ,FOLD: 5, EPOCH: 15, valid_loss: 0.016713168328771226\n",
      "SEED: 3, FOLD: 5, EPOCH: 16, train_loss: 0.019208801079642127\n",
      "SEED: 3 ,FOLD: 5, EPOCH: 16, valid_loss: 0.016486512282146856\n",
      "SEED: 3, FOLD: 5, EPOCH: 17, train_loss: 0.01899889748342134\n",
      "SEED: 3 ,FOLD: 5, EPOCH: 17, valid_loss: 0.01640056840215738\n",
      "SEED: 3, FOLD: 5, EPOCH: 18, train_loss: 0.018702613642892323\n",
      "SEED: 3 ,FOLD: 5, EPOCH: 18, valid_loss: 0.01610989968937177\n",
      "SEED: 3, FOLD: 5, EPOCH: 19, train_loss: 0.018340138164726464\n",
      "SEED: 3 ,FOLD: 5, EPOCH: 19, valid_loss: 0.01619816951167125\n",
      "SEED: 3, FOLD: 5, EPOCH: 20, train_loss: 0.018007698720572767\n",
      "SEED: 3 ,FOLD: 5, EPOCH: 20, valid_loss: 0.016039516490239363\n",
      "SEED: 3, FOLD: 5, EPOCH: 21, train_loss: 0.01754704085052819\n",
      "SEED: 3 ,FOLD: 5, EPOCH: 21, valid_loss: 0.016010188354322545\n",
      "SEED: 3, FOLD: 5, EPOCH: 22, train_loss: 0.017166680228468532\n",
      "SEED: 3 ,FOLD: 5, EPOCH: 22, valid_loss: 0.01593442239726965\n",
      "SEED: 3, FOLD: 5, EPOCH: 23, train_loss: 0.01682790634348183\n",
      "SEED: 3 ,FOLD: 5, EPOCH: 23, valid_loss: 0.01592482146448814\n",
      "SEED: 3, FOLD: 5, EPOCH: 24, train_loss: 0.01656529973135204\n",
      "SEED: 3 ,FOLD: 5, EPOCH: 24, valid_loss: 0.015894383192062378\n",
      "SEED: 3, FOLD: 5, EPOCH: 25, train_loss: 0.016450294041754427\n",
      "SEED: 3 ,FOLD: 5, EPOCH: 25, valid_loss: 0.01592693141160103\n",
      "SEED: 3, FOLD: 6, EPOCH: 0, train_loss: 0.5882231695829211\n",
      "SEED: 3 ,FOLD: 6, EPOCH: 0, valid_loss: 0.10128665772768167\n",
      "SEED: 3, FOLD: 6, EPOCH: 1, train_loss: 0.02969968238392392\n",
      "SEED: 3 ,FOLD: 6, EPOCH: 1, valid_loss: 0.019898164587525222\n",
      "SEED: 3, FOLD: 6, EPOCH: 2, train_loss: 0.022004327661282307\n",
      "SEED: 3 ,FOLD: 6, EPOCH: 2, valid_loss: 0.018772972461122733\n",
      "SEED: 3, FOLD: 6, EPOCH: 3, train_loss: 0.021083045247438793\n",
      "SEED: 3 ,FOLD: 6, EPOCH: 3, valid_loss: 0.017746067104431298\n",
      "SEED: 3, FOLD: 6, EPOCH: 4, train_loss: 0.02072277574523075\n",
      "SEED: 3 ,FOLD: 6, EPOCH: 4, valid_loss: 0.017516276870782558\n",
      "SEED: 3, FOLD: 6, EPOCH: 5, train_loss: 0.02020656770548305\n",
      "SEED: 3 ,FOLD: 6, EPOCH: 5, valid_loss: 0.017242753161833838\n",
      "SEED: 3, FOLD: 6, EPOCH: 6, train_loss: 0.020143100790478086\n",
      "SEED: 3 ,FOLD: 6, EPOCH: 6, valid_loss: 0.017100449938040514\n",
      "SEED: 3, FOLD: 6, EPOCH: 7, train_loss: 0.020082860052384233\n",
      "SEED: 3 ,FOLD: 6, EPOCH: 7, valid_loss: 0.017217044073801775\n",
      "SEED: 3, FOLD: 6, EPOCH: 8, train_loss: 0.020049482231607307\n",
      "SEED: 3 ,FOLD: 6, EPOCH: 8, valid_loss: 0.01729190593155531\n",
      "SEED: 3, FOLD: 6, EPOCH: 9, train_loss: 0.019985460122493474\n",
      "SEED: 3 ,FOLD: 6, EPOCH: 9, valid_loss: 0.017181624586765584\n",
      "SEED: 3, FOLD: 6, EPOCH: 10, train_loss: 0.019887972950331262\n",
      "SEED: 3 ,FOLD: 6, EPOCH: 10, valid_loss: 0.017086018306704667\n",
      "SEED: 3, FOLD: 6, EPOCH: 11, train_loss: 0.01983599893346026\n",
      "SEED: 3 ,FOLD: 6, EPOCH: 11, valid_loss: 0.016895752830001023\n",
      "SEED: 3, FOLD: 6, EPOCH: 12, train_loss: 0.01978355210677192\n",
      "SEED: 3 ,FOLD: 6, EPOCH: 12, valid_loss: 0.016853627247306015\n",
      "SEED: 3, FOLD: 6, EPOCH: 13, train_loss: 0.01967692926425386\n",
      "SEED: 3 ,FOLD: 6, EPOCH: 13, valid_loss: 0.016837687876362067\n",
      "SEED: 3, FOLD: 6, EPOCH: 14, train_loss: 0.019514219256470334\n",
      "SEED: 3 ,FOLD: 6, EPOCH: 14, valid_loss: 0.016806210964345016\n",
      "SEED: 3, FOLD: 6, EPOCH: 15, train_loss: 0.01933674353200036\n",
      "SEED: 3 ,FOLD: 6, EPOCH: 15, valid_loss: 0.01666049974469038\n",
      "SEED: 3, FOLD: 6, EPOCH: 16, train_loss: 0.019143696370962505\n",
      "SEED: 3 ,FOLD: 6, EPOCH: 16, valid_loss: 0.016670628235890314\n",
      "SEED: 3, FOLD: 6, EPOCH: 17, train_loss: 0.018941448925918824\n",
      "SEED: 3 ,FOLD: 6, EPOCH: 17, valid_loss: 0.01646450749383523\n",
      "SEED: 3, FOLD: 6, EPOCH: 18, train_loss: 0.018694791212879324\n",
      "SEED: 3 ,FOLD: 6, EPOCH: 18, valid_loss: 0.016512463800609112\n",
      "SEED: 3, FOLD: 6, EPOCH: 19, train_loss: 0.018283611968965142\n",
      "SEED: 3 ,FOLD: 6, EPOCH: 19, valid_loss: 0.016277087064316638\n",
      "SEED: 3, FOLD: 6, EPOCH: 20, train_loss: 0.01786471072685074\n",
      "SEED: 3 ,FOLD: 6, EPOCH: 20, valid_loss: 0.016228128009690687\n",
      "SEED: 3, FOLD: 6, EPOCH: 21, train_loss: 0.017430154833237867\n",
      "SEED: 3 ,FOLD: 6, EPOCH: 21, valid_loss: 0.01621977461931797\n",
      "SEED: 3, FOLD: 6, EPOCH: 22, train_loss: 0.017010216148117104\n",
      "SEED: 3 ,FOLD: 6, EPOCH: 22, valid_loss: 0.016150099941744253\n",
      "SEED: 3, FOLD: 6, EPOCH: 23, train_loss: 0.01659933590909114\n",
      "SEED: 3 ,FOLD: 6, EPOCH: 23, valid_loss: 0.016163302657122795\n",
      "SEED: 3, FOLD: 6, EPOCH: 24, train_loss: 0.016345291373294754\n",
      "SEED: 3 ,FOLD: 6, EPOCH: 24, valid_loss: 0.016157166459239446\n",
      "SEED: 3, FOLD: 6, EPOCH: 25, train_loss: 0.016235605473755986\n",
      "SEED: 3 ,FOLD: 6, EPOCH: 25, valid_loss: 0.016117021799660645\n",
      "SEED: 4, FOLD: 0, EPOCH: 0, train_loss: 0.5875375910183868\n",
      "SEED: 4 ,FOLD: 0, EPOCH: 0, valid_loss: 0.08625295414374425\n",
      "SEED: 4, FOLD: 0, EPOCH: 1, train_loss: 0.029692920327589318\n",
      "SEED: 4 ,FOLD: 0, EPOCH: 1, valid_loss: 0.020066448415701207\n",
      "SEED: 4, FOLD: 0, EPOCH: 2, train_loss: 0.0218382174702915\n",
      "SEED: 4 ,FOLD: 0, EPOCH: 2, valid_loss: 0.018342199806983654\n",
      "SEED: 4, FOLD: 0, EPOCH: 3, train_loss: 0.021328319090645056\n",
      "SEED: 4 ,FOLD: 0, EPOCH: 3, valid_loss: 0.017723021312401846\n",
      "SEED: 4, FOLD: 0, EPOCH: 4, train_loss: 0.020344090119406983\n",
      "SEED: 4 ,FOLD: 0, EPOCH: 4, valid_loss: 0.017456890585330818\n",
      "SEED: 4, FOLD: 0, EPOCH: 5, train_loss: 0.02014481827516008\n",
      "SEED: 4 ,FOLD: 0, EPOCH: 5, valid_loss: 0.017354070997008912\n",
      "SEED: 4, FOLD: 0, EPOCH: 6, train_loss: 0.02001544596577013\n",
      "SEED: 4 ,FOLD: 0, EPOCH: 6, valid_loss: 0.01756474017523802\n",
      "SEED: 4, FOLD: 0, EPOCH: 7, train_loss: 0.019989746798937384\n",
      "SEED: 4 ,FOLD: 0, EPOCH: 7, valid_loss: 0.01728648291184352\n",
      "SEED: 4, FOLD: 0, EPOCH: 8, train_loss: 0.01994544962370718\n",
      "SEED: 4 ,FOLD: 0, EPOCH: 8, valid_loss: 0.0172875145306954\n",
      "SEED: 4, FOLD: 0, EPOCH: 9, train_loss: 0.01987711138821937\n",
      "SEED: 4 ,FOLD: 0, EPOCH: 9, valid_loss: 0.01707413806938208\n",
      "SEED: 4, FOLD: 0, EPOCH: 10, train_loss: 0.019833979977143777\n",
      "SEED: 4 ,FOLD: 0, EPOCH: 10, valid_loss: 0.017086673384675614\n",
      "SEED: 4, FOLD: 0, EPOCH: 11, train_loss: 0.019788946226440573\n",
      "SEED: 4 ,FOLD: 0, EPOCH: 11, valid_loss: 0.017098717248210542\n",
      "SEED: 4, FOLD: 0, EPOCH: 12, train_loss: 0.019715447381541535\n",
      "SEED: 4 ,FOLD: 0, EPOCH: 12, valid_loss: 0.017098913399072792\n",
      "SEED: 4, FOLD: 0, EPOCH: 13, train_loss: 0.019601217395550496\n",
      "SEED: 4 ,FOLD: 0, EPOCH: 13, valid_loss: 0.01692026309095896\n",
      "SEED: 4, FOLD: 0, EPOCH: 14, train_loss: 0.019447805611668405\n",
      "SEED: 4 ,FOLD: 0, EPOCH: 14, valid_loss: 0.01673094304994895\n",
      "SEED: 4, FOLD: 0, EPOCH: 15, train_loss: 0.01923218578402255\n",
      "SEED: 4 ,FOLD: 0, EPOCH: 15, valid_loss: 0.016852460515040617\n",
      "SEED: 4, FOLD: 0, EPOCH: 16, train_loss: 0.01909874044862148\n",
      "SEED: 4 ,FOLD: 0, EPOCH: 16, valid_loss: 0.016724231437994883\n",
      "SEED: 4, FOLD: 0, EPOCH: 17, train_loss: 0.018863491135070454\n",
      "SEED: 4 ,FOLD: 0, EPOCH: 17, valid_loss: 0.016507735260977194\n",
      "SEED: 4, FOLD: 0, EPOCH: 18, train_loss: 0.018556465570991103\n",
      "SEED: 4 ,FOLD: 0, EPOCH: 18, valid_loss: 0.016432138374791697\n",
      "SEED: 4, FOLD: 0, EPOCH: 19, train_loss: 0.018216913314284506\n",
      "SEED: 4 ,FOLD: 0, EPOCH: 19, valid_loss: 0.01646226615859912\n",
      "SEED: 4, FOLD: 0, EPOCH: 20, train_loss: 0.01783265918493271\n",
      "SEED: 4 ,FOLD: 0, EPOCH: 20, valid_loss: 0.016418549662026074\n",
      "SEED: 4, FOLD: 0, EPOCH: 21, train_loss: 0.017473579308873898\n",
      "SEED: 4 ,FOLD: 0, EPOCH: 21, valid_loss: 0.01629880479035469\n",
      "SEED: 4, FOLD: 0, EPOCH: 22, train_loss: 0.0170326280734829\n",
      "SEED: 4 ,FOLD: 0, EPOCH: 22, valid_loss: 0.016265469030118905\n",
      "SEED: 4, FOLD: 0, EPOCH: 23, train_loss: 0.016656497329775546\n",
      "SEED: 4 ,FOLD: 0, EPOCH: 23, valid_loss: 0.016253967339602802\n",
      "SEED: 4, FOLD: 0, EPOCH: 24, train_loss: 0.01642496484910717\n",
      "SEED: 4 ,FOLD: 0, EPOCH: 24, valid_loss: 0.016244512839386098\n",
      "SEED: 4, FOLD: 0, EPOCH: 25, train_loss: 0.016275827307254076\n",
      "SEED: 4 ,FOLD: 0, EPOCH: 25, valid_loss: 0.016251942572685387\n",
      "SEED: 4, FOLD: 1, EPOCH: 0, train_loss: 0.5871755878466207\n",
      "SEED: 4 ,FOLD: 1, EPOCH: 0, valid_loss: 0.09150976744981912\n",
      "SEED: 4, FOLD: 1, EPOCH: 1, train_loss: 0.02966930593892529\n",
      "SEED: 4 ,FOLD: 1, EPOCH: 1, valid_loss: 0.019919815401618298\n",
      "SEED: 4, FOLD: 1, EPOCH: 2, train_loss: 0.02188959745438518\n",
      "SEED: 4 ,FOLD: 1, EPOCH: 2, valid_loss: 0.018290874190055408\n",
      "SEED: 4, FOLD: 1, EPOCH: 3, train_loss: 0.02122934751615331\n",
      "SEED: 4 ,FOLD: 1, EPOCH: 3, valid_loss: 0.01791701179284316\n",
      "SEED: 4, FOLD: 1, EPOCH: 4, train_loss: 0.02044250357996773\n",
      "SEED: 4 ,FOLD: 1, EPOCH: 4, valid_loss: 0.01735961902886629\n",
      "SEED: 4, FOLD: 1, EPOCH: 5, train_loss: 0.020197443840270106\n",
      "SEED: 4 ,FOLD: 1, EPOCH: 5, valid_loss: 0.017334592098800037\n",
      "SEED: 4, FOLD: 1, EPOCH: 6, train_loss: 0.02007995460283112\n",
      "SEED: 4 ,FOLD: 1, EPOCH: 6, valid_loss: 0.017331302022704713\n",
      "SEED: 4, FOLD: 1, EPOCH: 7, train_loss: 0.020028010413453385\n",
      "SEED: 4 ,FOLD: 1, EPOCH: 7, valid_loss: 0.017352538254971687\n",
      "SEED: 4, FOLD: 1, EPOCH: 8, train_loss: 0.019995584253322433\n",
      "SEED: 4 ,FOLD: 1, EPOCH: 8, valid_loss: 0.017063879336302098\n",
      "SEED: 4, FOLD: 1, EPOCH: 9, train_loss: 0.019982526431212556\n",
      "SEED: 4 ,FOLD: 1, EPOCH: 9, valid_loss: 0.017194575988329373\n",
      "SEED: 4, FOLD: 1, EPOCH: 10, train_loss: 0.019900155329221004\n",
      "SEED: 4 ,FOLD: 1, EPOCH: 10, valid_loss: 0.0172246670207152\n",
      "SEED: 4, FOLD: 1, EPOCH: 11, train_loss: 0.01983667298446636\n",
      "SEED: 4 ,FOLD: 1, EPOCH: 11, valid_loss: 0.016826837825087402\n",
      "SEED: 4, FOLD: 1, EPOCH: 12, train_loss: 0.01973253961753201\n",
      "SEED: 4 ,FOLD: 1, EPOCH: 12, valid_loss: 0.016966871845607575\n",
      "SEED: 4, FOLD: 1, EPOCH: 13, train_loss: 0.019604982002764136\n",
      "SEED: 4 ,FOLD: 1, EPOCH: 13, valid_loss: 0.01683307919078148\n",
      "SEED: 4, FOLD: 1, EPOCH: 14, train_loss: 0.01951111012415306\n",
      "SEED: 4 ,FOLD: 1, EPOCH: 14, valid_loss: 0.01677574346271845\n",
      "SEED: 4, FOLD: 1, EPOCH: 15, train_loss: 0.01935830123319819\n",
      "SEED: 4 ,FOLD: 1, EPOCH: 15, valid_loss: 0.016644285705227118\n",
      "SEED: 4, FOLD: 1, EPOCH: 16, train_loss: 0.01912177396887863\n",
      "SEED: 4 ,FOLD: 1, EPOCH: 16, valid_loss: 0.016484920795147236\n",
      "SEED: 4, FOLD: 1, EPOCH: 17, train_loss: 0.018843398756674817\n",
      "SEED: 4 ,FOLD: 1, EPOCH: 17, valid_loss: 0.016464574763981197\n",
      "SEED: 4, FOLD: 1, EPOCH: 18, train_loss: 0.018651258049381746\n",
      "SEED: 4 ,FOLD: 1, EPOCH: 18, valid_loss: 0.016319380356715277\n",
      "SEED: 4, FOLD: 1, EPOCH: 19, train_loss: 0.01829125319381018\n",
      "SEED: 4 ,FOLD: 1, EPOCH: 19, valid_loss: 0.01627872583384697\n",
      "SEED: 4, FOLD: 1, EPOCH: 20, train_loss: 0.017927914732009977\n",
      "SEED: 4 ,FOLD: 1, EPOCH: 20, valid_loss: 0.016187758901371405\n",
      "SEED: 4, FOLD: 1, EPOCH: 21, train_loss: 0.017494873043049027\n",
      "SEED: 4 ,FOLD: 1, EPOCH: 21, valid_loss: 0.016038675577594683\n",
      "SEED: 4, FOLD: 1, EPOCH: 22, train_loss: 0.01703369541949517\n",
      "SEED: 4 ,FOLD: 1, EPOCH: 22, valid_loss: 0.016026172500390273\n",
      "SEED: 4, FOLD: 1, EPOCH: 23, train_loss: 0.01663504201113372\n",
      "SEED: 4 ,FOLD: 1, EPOCH: 23, valid_loss: 0.016032424110632677\n",
      "SEED: 4, FOLD: 1, EPOCH: 24, train_loss: 0.016338950388032843\n",
      "SEED: 4 ,FOLD: 1, EPOCH: 24, valid_loss: 0.01601819572253869\n",
      "SEED: 4, FOLD: 1, EPOCH: 25, train_loss: 0.016230928271102743\n",
      "SEED: 4 ,FOLD: 1, EPOCH: 25, valid_loss: 0.016064466550373115\n",
      "SEED: 4, FOLD: 2, EPOCH: 0, train_loss: 0.5868037862552179\n",
      "SEED: 4 ,FOLD: 2, EPOCH: 0, valid_loss: 0.08735412473861988\n",
      "SEED: 4, FOLD: 2, EPOCH: 1, train_loss: 0.029759066909350252\n",
      "SEED: 4 ,FOLD: 2, EPOCH: 1, valid_loss: 0.01979196831010855\n",
      "SEED: 4, FOLD: 2, EPOCH: 2, train_loss: 0.02200509003690771\n",
      "SEED: 4 ,FOLD: 2, EPOCH: 2, valid_loss: 0.018252115051906843\n",
      "SEED: 4, FOLD: 2, EPOCH: 3, train_loss: 0.020930113673612877\n",
      "SEED: 4 ,FOLD: 2, EPOCH: 3, valid_loss: 0.01768546959815117\n",
      "SEED: 4, FOLD: 2, EPOCH: 4, train_loss: 0.02050006407237536\n",
      "SEED: 4 ,FOLD: 2, EPOCH: 4, valid_loss: 0.017559131607413292\n",
      "SEED: 4, FOLD: 2, EPOCH: 5, train_loss: 0.02012226327851012\n",
      "SEED: 4 ,FOLD: 2, EPOCH: 5, valid_loss: 0.01727769344758529\n",
      "SEED: 4, FOLD: 2, EPOCH: 6, train_loss: 0.02003953749364292\n",
      "SEED: 4 ,FOLD: 2, EPOCH: 6, valid_loss: 0.017089026048779488\n",
      "SEED: 4, FOLD: 2, EPOCH: 7, train_loss: 0.020002167923627672\n",
      "SEED: 4 ,FOLD: 2, EPOCH: 7, valid_loss: 0.016977327732512586\n",
      "SEED: 4, FOLD: 2, EPOCH: 8, train_loss: 0.019921369070338237\n",
      "SEED: 4 ,FOLD: 2, EPOCH: 8, valid_loss: 0.016961320088459894\n",
      "SEED: 4, FOLD: 2, EPOCH: 9, train_loss: 0.019965346776754468\n",
      "SEED: 4 ,FOLD: 2, EPOCH: 9, valid_loss: 0.017082588102381963\n",
      "SEED: 4, FOLD: 2, EPOCH: 10, train_loss: 0.01988878068388314\n",
      "SEED: 4 ,FOLD: 2, EPOCH: 10, valid_loss: 0.016895164663975056\n",
      "SEED: 4, FOLD: 2, EPOCH: 11, train_loss: 0.01981229627051869\n",
      "SEED: 4 ,FOLD: 2, EPOCH: 11, valid_loss: 0.01675404443477209\n",
      "SEED: 4, FOLD: 2, EPOCH: 12, train_loss: 0.019697743543499225\n",
      "SEED: 4 ,FOLD: 2, EPOCH: 12, valid_loss: 0.01676143161379374\n",
      "SEED: 4, FOLD: 2, EPOCH: 13, train_loss: 0.01960683027534066\n",
      "SEED: 4 ,FOLD: 2, EPOCH: 13, valid_loss: 0.016646742892379943\n",
      "SEED: 4, FOLD: 2, EPOCH: 14, train_loss: 0.01956130501285598\n",
      "SEED: 4 ,FOLD: 2, EPOCH: 14, valid_loss: 0.016720482148230076\n",
      "SEED: 4, FOLD: 2, EPOCH: 15, train_loss: 0.019379280658589827\n",
      "SEED: 4 ,FOLD: 2, EPOCH: 15, valid_loss: 0.016394589024667557\n",
      "SEED: 4, FOLD: 2, EPOCH: 16, train_loss: 0.019169205497648265\n",
      "SEED: 4 ,FOLD: 2, EPOCH: 16, valid_loss: 0.016320205723436978\n",
      "SEED: 4, FOLD: 2, EPOCH: 17, train_loss: 0.01888614852686186\n",
      "SEED: 4 ,FOLD: 2, EPOCH: 17, valid_loss: 0.016260915722411413\n",
      "SEED: 4, FOLD: 2, EPOCH: 18, train_loss: 0.018646863742253265\n",
      "SEED: 4 ,FOLD: 2, EPOCH: 18, valid_loss: 0.016181301397199813\n",
      "SEED: 4, FOLD: 2, EPOCH: 19, train_loss: 0.01826358728765233\n",
      "SEED: 4 ,FOLD: 2, EPOCH: 19, valid_loss: 0.01606248885106582\n",
      "SEED: 4, FOLD: 2, EPOCH: 20, train_loss: 0.01791951505819688\n",
      "SEED: 4 ,FOLD: 2, EPOCH: 20, valid_loss: 0.01592750159593729\n",
      "SEED: 4, FOLD: 2, EPOCH: 21, train_loss: 0.017474938385389948\n",
      "SEED: 4 ,FOLD: 2, EPOCH: 21, valid_loss: 0.015894028214881055\n",
      "SEED: 4, FOLD: 2, EPOCH: 22, train_loss: 0.017034134135355015\n",
      "SEED: 4 ,FOLD: 2, EPOCH: 22, valid_loss: 0.015857833724182386\n",
      "SEED: 4, FOLD: 2, EPOCH: 23, train_loss: 0.01661211237109996\n",
      "SEED: 4 ,FOLD: 2, EPOCH: 23, valid_loss: 0.015851030197854225\n",
      "SEED: 4, FOLD: 2, EPOCH: 24, train_loss: 0.016324374044465052\n",
      "SEED: 4 ,FOLD: 2, EPOCH: 24, valid_loss: 0.01585249609958667\n",
      "SEED: 4, FOLD: 2, EPOCH: 25, train_loss: 0.016230655028610617\n",
      "SEED: 4 ,FOLD: 2, EPOCH: 25, valid_loss: 0.01583380767932305\n",
      "SEED: 4, FOLD: 3, EPOCH: 0, train_loss: 0.5883614055409625\n",
      "SEED: 4 ,FOLD: 3, EPOCH: 0, valid_loss: 0.09348599383464226\n",
      "SEED: 4, FOLD: 3, EPOCH: 1, train_loss: 0.02988342646308042\n",
      "SEED: 4 ,FOLD: 3, EPOCH: 1, valid_loss: 0.02023905343734301\n",
      "SEED: 4, FOLD: 3, EPOCH: 2, train_loss: 0.02195938293998306\n",
      "SEED: 4 ,FOLD: 3, EPOCH: 2, valid_loss: 0.018787528173281595\n",
      "SEED: 4, FOLD: 3, EPOCH: 3, train_loss: 0.021196929410704085\n",
      "SEED: 4 ,FOLD: 3, EPOCH: 3, valid_loss: 0.018076535314321518\n",
      "SEED: 4, FOLD: 3, EPOCH: 4, train_loss: 0.02085384975716069\n",
      "SEED: 4 ,FOLD: 3, EPOCH: 4, valid_loss: 0.02279254521888036\n",
      "SEED: 4, FOLD: 3, EPOCH: 5, train_loss: 0.020431830321212072\n",
      "SEED: 4 ,FOLD: 3, EPOCH: 5, valid_loss: 0.01746708183334424\n",
      "SEED: 4, FOLD: 3, EPOCH: 6, train_loss: 0.020107203817649466\n",
      "SEED: 4 ,FOLD: 3, EPOCH: 6, valid_loss: 0.01755815013670004\n",
      "SEED: 4, FOLD: 3, EPOCH: 7, train_loss: 0.01998287794255727\n",
      "SEED: 4 ,FOLD: 3, EPOCH: 7, valid_loss: 0.0172651272553664\n",
      "SEED: 4, FOLD: 3, EPOCH: 8, train_loss: 0.020022663464014594\n",
      "SEED: 4 ,FOLD: 3, EPOCH: 8, valid_loss: 0.01728427940263198\n",
      "SEED: 4, FOLD: 3, EPOCH: 9, train_loss: 0.019937259749182173\n",
      "SEED: 4 ,FOLD: 3, EPOCH: 9, valid_loss: 0.0170656402523701\n",
      "SEED: 4, FOLD: 3, EPOCH: 10, train_loss: 0.019822244079330482\n",
      "SEED: 4 ,FOLD: 3, EPOCH: 10, valid_loss: 0.017274298490240023\n",
      "SEED: 4, FOLD: 3, EPOCH: 11, train_loss: 0.019847025717231067\n",
      "SEED: 4 ,FOLD: 3, EPOCH: 11, valid_loss: 0.017138899447253116\n",
      "SEED: 4, FOLD: 3, EPOCH: 12, train_loss: 0.01974242029560579\n",
      "SEED: 4 ,FOLD: 3, EPOCH: 12, valid_loss: 0.017071602722773187\n",
      "SEED: 4, FOLD: 3, EPOCH: 13, train_loss: 0.019713774273121678\n",
      "SEED: 4 ,FOLD: 3, EPOCH: 13, valid_loss: 0.016846397390159275\n",
      "SEED: 4, FOLD: 3, EPOCH: 14, train_loss: 0.019517522682813374\n",
      "SEED: 4 ,FOLD: 3, EPOCH: 14, valid_loss: 0.016911455645011023\n",
      "SEED: 4, FOLD: 3, EPOCH: 15, train_loss: 0.01938637632977318\n",
      "SEED: 4 ,FOLD: 3, EPOCH: 15, valid_loss: 0.01661264430731535\n",
      "SEED: 4, FOLD: 3, EPOCH: 16, train_loss: 0.01921913669620817\n",
      "SEED: 4 ,FOLD: 3, EPOCH: 16, valid_loss: 0.01681021937670616\n",
      "SEED: 4, FOLD: 3, EPOCH: 17, train_loss: 0.01895366868356595\n",
      "SEED: 4 ,FOLD: 3, EPOCH: 17, valid_loss: 0.01669038452494603\n",
      "SEED: 4, FOLD: 3, EPOCH: 18, train_loss: 0.01866342849727418\n",
      "SEED: 4 ,FOLD: 3, EPOCH: 18, valid_loss: 0.016329609574033663\n",
      "SEED: 4, FOLD: 3, EPOCH: 19, train_loss: 0.01827155249948437\n",
      "SEED: 4 ,FOLD: 3, EPOCH: 19, valid_loss: 0.016389021578316506\n",
      "SEED: 4, FOLD: 4, EPOCH: 0, train_loss: 0.58711014516853\n",
      "SEED: 4 ,FOLD: 4, EPOCH: 0, valid_loss: 0.0755826263473584\n",
      "SEED: 4, FOLD: 4, EPOCH: 1, train_loss: 0.030163198759829677\n",
      "SEED: 4 ,FOLD: 4, EPOCH: 1, valid_loss: 0.019894103018137124\n",
      "SEED: 4, FOLD: 4, EPOCH: 2, train_loss: 0.02200906728771893\n",
      "SEED: 4 ,FOLD: 4, EPOCH: 2, valid_loss: 0.01969659371444812\n",
      "SEED: 4, FOLD: 4, EPOCH: 3, train_loss: 0.021287464889118802\n",
      "SEED: 4 ,FOLD: 4, EPOCH: 3, valid_loss: 0.01841828141074914\n",
      "SEED: 4, FOLD: 4, EPOCH: 4, train_loss: 0.020505907316062902\n",
      "SEED: 4 ,FOLD: 4, EPOCH: 4, valid_loss: 0.017449997795315888\n",
      "SEED: 4, FOLD: 4, EPOCH: 5, train_loss: 0.020200412116340688\n",
      "SEED: 4 ,FOLD: 4, EPOCH: 5, valid_loss: 0.01736600217051231\n",
      "SEED: 4, FOLD: 4, EPOCH: 6, train_loss: 0.020146069293086592\n",
      "SEED: 4 ,FOLD: 4, EPOCH: 6, valid_loss: 0.01700246548996522\n",
      "SEED: 4, FOLD: 4, EPOCH: 7, train_loss: 0.020059837884194142\n",
      "SEED: 4 ,FOLD: 4, EPOCH: 7, valid_loss: 0.016761964187026024\n",
      "SEED: 4, FOLD: 4, EPOCH: 8, train_loss: 0.0200212492380996\n",
      "SEED: 4 ,FOLD: 4, EPOCH: 8, valid_loss: 0.016916648413126286\n",
      "SEED: 4, FOLD: 4, EPOCH: 9, train_loss: 0.02001600805670023\n",
      "SEED: 4 ,FOLD: 4, EPOCH: 9, valid_loss: 0.016897795721888542\n",
      "SEED: 4, FOLD: 4, EPOCH: 10, train_loss: 0.019914795367701632\n",
      "SEED: 4 ,FOLD: 4, EPOCH: 10, valid_loss: 0.01693018812399644\n",
      "SEED: 4, FOLD: 4, EPOCH: 11, train_loss: 0.019848540374958836\n",
      "SEED: 4 ,FOLD: 4, EPOCH: 11, valid_loss: 0.016782961714153107\n",
      "SEED: 4, FOLD: 4, EPOCH: 12, train_loss: 0.019789855801374524\n",
      "SEED: 4 ,FOLD: 4, EPOCH: 12, valid_loss: 0.016593314635639008\n",
      "SEED: 4, FOLD: 4, EPOCH: 13, train_loss: 0.019641139116641636\n",
      "SEED: 4 ,FOLD: 4, EPOCH: 13, valid_loss: 0.016449494717212822\n",
      "SEED: 4, FOLD: 4, EPOCH: 14, train_loss: 0.019565370135210657\n",
      "SEED: 4 ,FOLD: 4, EPOCH: 14, valid_loss: 0.016574557584065657\n",
      "SEED: 4, FOLD: 4, EPOCH: 15, train_loss: 0.019410311118573755\n",
      "SEED: 4 ,FOLD: 4, EPOCH: 15, valid_loss: 0.016338559082494333\n",
      "SEED: 4, FOLD: 4, EPOCH: 16, train_loss: 0.019174565032527253\n",
      "SEED: 4 ,FOLD: 4, EPOCH: 16, valid_loss: 0.01627620603316105\n",
      "SEED: 4, FOLD: 4, EPOCH: 17, train_loss: 0.018966457001059443\n",
      "SEED: 4 ,FOLD: 4, EPOCH: 17, valid_loss: 0.016281640515304528\n",
      "SEED: 4, FOLD: 4, EPOCH: 18, train_loss: 0.018664799378933134\n",
      "SEED: 4 ,FOLD: 4, EPOCH: 18, valid_loss: 0.01620691018895461\n",
      "SEED: 4, FOLD: 4, EPOCH: 19, train_loss: 0.018419750110321754\n",
      "SEED: 4 ,FOLD: 4, EPOCH: 19, valid_loss: 0.015913988821781598\n",
      "SEED: 4, FOLD: 4, EPOCH: 20, train_loss: 0.018005081628625456\n",
      "SEED: 4 ,FOLD: 4, EPOCH: 20, valid_loss: 0.0158468596637249\n",
      "SEED: 4, FOLD: 4, EPOCH: 21, train_loss: 0.01757356121733382\n",
      "SEED: 4 ,FOLD: 4, EPOCH: 21, valid_loss: 0.01581473956600978\n",
      "SEED: 4, FOLD: 4, EPOCH: 22, train_loss: 0.017147224220271047\n",
      "SEED: 4 ,FOLD: 4, EPOCH: 22, valid_loss: 0.015733681762447722\n",
      "SEED: 4, FOLD: 4, EPOCH: 23, train_loss: 0.016752636588707164\n",
      "SEED: 4 ,FOLD: 4, EPOCH: 23, valid_loss: 0.015765236475719854\n",
      "SEED: 4, FOLD: 4, EPOCH: 24, train_loss: 0.016506337082466564\n",
      "SEED: 4 ,FOLD: 4, EPOCH: 24, valid_loss: 0.01574639345590885\n",
      "SEED: 4, FOLD: 4, EPOCH: 25, train_loss: 0.016369082096561387\n",
      "SEED: 4 ,FOLD: 4, EPOCH: 25, valid_loss: 0.01574341472811424\n",
      "SEED: 4, FOLD: 5, EPOCH: 0, train_loss: 0.5863243008183466\n",
      "SEED: 4 ,FOLD: 5, EPOCH: 0, valid_loss: 0.08780438338334744\n",
      "SEED: 4, FOLD: 5, EPOCH: 1, train_loss: 0.029721362767992792\n",
      "SEED: 4 ,FOLD: 5, EPOCH: 1, valid_loss: 0.019918235591970958\n",
      "SEED: 4, FOLD: 5, EPOCH: 2, train_loss: 0.02198170971226048\n",
      "SEED: 4 ,FOLD: 5, EPOCH: 2, valid_loss: 0.018458191591959733\n",
      "SEED: 4, FOLD: 5, EPOCH: 3, train_loss: 0.021368117801643705\n",
      "SEED: 4 ,FOLD: 5, EPOCH: 3, valid_loss: 0.018104934205229465\n",
      "SEED: 4, FOLD: 5, EPOCH: 4, train_loss: 0.020540258721322625\n",
      "SEED: 4 ,FOLD: 5, EPOCH: 4, valid_loss: 0.01778127611256563\n",
      "SEED: 4, FOLD: 5, EPOCH: 5, train_loss: 0.020216103492153657\n",
      "SEED: 4 ,FOLD: 5, EPOCH: 5, valid_loss: 0.01716682056968029\n",
      "SEED: 4, FOLD: 5, EPOCH: 6, train_loss: 0.020094854354455665\n",
      "SEED: 4 ,FOLD: 5, EPOCH: 6, valid_loss: 0.01699734378892642\n",
      "SEED: 4, FOLD: 5, EPOCH: 7, train_loss: 0.019947416300105082\n",
      "SEED: 4 ,FOLD: 5, EPOCH: 7, valid_loss: 0.017063213082460258\n",
      "SEED: 4, FOLD: 5, EPOCH: 8, train_loss: 0.019955903039993467\n",
      "SEED: 4 ,FOLD: 5, EPOCH: 8, valid_loss: 0.017490504309535027\n",
      "SEED: 4, FOLD: 5, EPOCH: 9, train_loss: 0.019922463726755733\n",
      "SEED: 4 ,FOLD: 5, EPOCH: 9, valid_loss: 0.017020454773536094\n",
      "SEED: 4, FOLD: 5, EPOCH: 10, train_loss: 0.019855007856480172\n",
      "SEED: 4 ,FOLD: 5, EPOCH: 10, valid_loss: 0.01700619923380705\n",
      "SEED: 4, FOLD: 5, EPOCH: 11, train_loss: 0.019817805949699233\n",
      "SEED: 4 ,FOLD: 5, EPOCH: 11, valid_loss: 0.016836235872828044\n",
      "SEED: 4, FOLD: 5, EPOCH: 12, train_loss: 0.019770083823115438\n",
      "SEED: 4 ,FOLD: 5, EPOCH: 12, valid_loss: 0.016878651884885933\n",
      "SEED: 4, FOLD: 5, EPOCH: 13, train_loss: 0.01964503139056064\n",
      "SEED: 4 ,FOLD: 5, EPOCH: 13, valid_loss: 0.016789235174655914\n",
      "SEED: 4, FOLD: 5, EPOCH: 14, train_loss: 0.0194332065010393\n",
      "SEED: 4 ,FOLD: 5, EPOCH: 14, valid_loss: 0.016894645845660798\n",
      "SEED: 4, FOLD: 5, EPOCH: 15, train_loss: 0.019324307103414793\n",
      "SEED: 4 ,FOLD: 5, EPOCH: 15, valid_loss: 0.016713702478087865\n",
      "SEED: 4, FOLD: 5, EPOCH: 16, train_loss: 0.019132860709686537\n",
      "SEED: 4 ,FOLD: 5, EPOCH: 16, valid_loss: 0.016661494683760863\n",
      "SEED: 4, FOLD: 5, EPOCH: 17, train_loss: 0.01886064715280726\n",
      "SEED: 4 ,FOLD: 5, EPOCH: 17, valid_loss: 0.016474033777530376\n",
      "SEED: 4, FOLD: 5, EPOCH: 18, train_loss: 0.01854231971240527\n",
      "SEED: 4 ,FOLD: 5, EPOCH: 18, valid_loss: 0.01629639330964822\n",
      "SEED: 4, FOLD: 5, EPOCH: 19, train_loss: 0.01822629978729261\n",
      "SEED: 4 ,FOLD: 5, EPOCH: 19, valid_loss: 0.01620842831639143\n",
      "SEED: 4, FOLD: 5, EPOCH: 20, train_loss: 0.017821538715145073\n",
      "SEED: 4 ,FOLD: 5, EPOCH: 20, valid_loss: 0.016190453074299373\n",
      "SEED: 4, FOLD: 5, EPOCH: 21, train_loss: 0.017355671781744506\n",
      "SEED: 4 ,FOLD: 5, EPOCH: 21, valid_loss: 0.01621328416065528\n",
      "SEED: 4, FOLD: 5, EPOCH: 22, train_loss: 0.016875533827555342\n",
      "SEED: 4 ,FOLD: 5, EPOCH: 22, valid_loss: 0.016143402084708214\n",
      "SEED: 4, FOLD: 5, EPOCH: 23, train_loss: 0.01653576418254021\n",
      "SEED: 4 ,FOLD: 5, EPOCH: 23, valid_loss: 0.016142277620159663\n",
      "SEED: 4, FOLD: 5, EPOCH: 24, train_loss: 0.01621729044898136\n",
      "SEED: 4 ,FOLD: 5, EPOCH: 24, valid_loss: 0.016129182938199777\n",
      "SEED: 4, FOLD: 5, EPOCH: 25, train_loss: 0.016123753582202905\n",
      "SEED: 4 ,FOLD: 5, EPOCH: 25, valid_loss: 0.016126352433974925\n",
      "SEED: 4, FOLD: 6, EPOCH: 0, train_loss: 0.5874750831642667\n",
      "SEED: 4 ,FOLD: 6, EPOCH: 0, valid_loss: 0.08211574703454971\n",
      "SEED: 4, FOLD: 6, EPOCH: 1, train_loss: 0.029603658848114917\n",
      "SEED: 4 ,FOLD: 6, EPOCH: 1, valid_loss: 0.020799150976997156\n",
      "SEED: 4, FOLD: 6, EPOCH: 2, train_loss: 0.022001255706355378\n",
      "SEED: 4 ,FOLD: 6, EPOCH: 2, valid_loss: 0.018504874494213324\n",
      "SEED: 4, FOLD: 6, EPOCH: 3, train_loss: 0.02090245286455831\n",
      "SEED: 4 ,FOLD: 6, EPOCH: 3, valid_loss: 0.018153787948764287\n",
      "SEED: 4, FOLD: 6, EPOCH: 4, train_loss: 0.02078462130314595\n",
      "SEED: 4 ,FOLD: 6, EPOCH: 4, valid_loss: 0.017554036126686975\n",
      "SEED: 4, FOLD: 6, EPOCH: 5, train_loss: 0.02025112706060345\n",
      "SEED: 4 ,FOLD: 6, EPOCH: 5, valid_loss: 0.01748825480731634\n",
      "SEED: 4, FOLD: 6, EPOCH: 6, train_loss: 0.02009188330958824\n",
      "SEED: 4 ,FOLD: 6, EPOCH: 6, valid_loss: 0.017548078671097755\n",
      "SEED: 4, FOLD: 6, EPOCH: 7, train_loss: 0.01999747352926312\n",
      "SEED: 4 ,FOLD: 6, EPOCH: 7, valid_loss: 0.017136985865923073\n",
      "SEED: 4, FOLD: 6, EPOCH: 8, train_loss: 0.01991924857469024\n",
      "SEED: 4 ,FOLD: 6, EPOCH: 8, valid_loss: 0.017231825309304092\n",
      "SEED: 4, FOLD: 6, EPOCH: 9, train_loss: 0.019930674367257067\n",
      "SEED: 4 ,FOLD: 6, EPOCH: 9, valid_loss: 0.017216636154514093\n",
      "SEED: 4, FOLD: 6, EPOCH: 10, train_loss: 0.019971134367625456\n",
      "SEED: 4 ,FOLD: 6, EPOCH: 10, valid_loss: 0.01733182227382293\n",
      "SEED: 4, FOLD: 6, EPOCH: 11, train_loss: 0.019818241758322395\n",
      "SEED: 4 ,FOLD: 6, EPOCH: 11, valid_loss: 0.017041246048533\n",
      "SEED: 4, FOLD: 6, EPOCH: 12, train_loss: 0.01976427750510944\n",
      "SEED: 4 ,FOLD: 6, EPOCH: 12, valid_loss: 0.017021151832663096\n",
      "SEED: 4, FOLD: 6, EPOCH: 13, train_loss: 0.01958222541253309\n",
      "SEED: 4 ,FOLD: 6, EPOCH: 13, valid_loss: 0.016981608879107695\n",
      "SEED: 4, FOLD: 6, EPOCH: 14, train_loss: 0.019480066046722838\n",
      "SEED: 4 ,FOLD: 6, EPOCH: 14, valid_loss: 0.01716648658307699\n",
      "SEED: 4, FOLD: 6, EPOCH: 15, train_loss: 0.01937873998807894\n",
      "SEED: 4 ,FOLD: 6, EPOCH: 15, valid_loss: 0.01700049001150406\n",
      "SEED: 4, FOLD: 6, EPOCH: 16, train_loss: 0.01910324621240835\n",
      "SEED: 4 ,FOLD: 6, EPOCH: 16, valid_loss: 0.016676981646854144\n",
      "SEED: 4, FOLD: 6, EPOCH: 17, train_loss: 0.018919198094187555\n",
      "SEED: 4 ,FOLD: 6, EPOCH: 17, valid_loss: 0.01668411994782778\n",
      "SEED: 4, FOLD: 6, EPOCH: 18, train_loss: 0.018629384201926155\n",
      "SEED: 4 ,FOLD: 6, EPOCH: 18, valid_loss: 0.01658210144020044\n",
      "SEED: 4, FOLD: 6, EPOCH: 19, train_loss: 0.01825153616231841\n",
      "SEED: 4 ,FOLD: 6, EPOCH: 19, valid_loss: 0.016471391185545005\n",
      "SEED: 4, FOLD: 6, EPOCH: 20, train_loss: 0.017971948632416693\n",
      "SEED: 4 ,FOLD: 6, EPOCH: 20, valid_loss: 0.01641091131247007\n",
      "SEED: 4, FOLD: 6, EPOCH: 21, train_loss: 0.017544640656057243\n",
      "SEED: 4 ,FOLD: 6, EPOCH: 21, valid_loss: 0.01632642151358036\n",
      "SEED: 4, FOLD: 6, EPOCH: 22, train_loss: 0.017156577467717028\n",
      "SEED: 4 ,FOLD: 6, EPOCH: 22, valid_loss: 0.016301691317214415\n",
      "SEED: 4, FOLD: 6, EPOCH: 23, train_loss: 0.016747324790402845\n",
      "SEED: 4 ,FOLD: 6, EPOCH: 23, valid_loss: 0.016308786777349617\n",
      "SEED: 4, FOLD: 6, EPOCH: 24, train_loss: 0.016541016288101673\n",
      "SEED: 4 ,FOLD: 6, EPOCH: 24, valid_loss: 0.016280602090633832\n",
      "SEED: 4, FOLD: 6, EPOCH: 25, train_loss: 0.016391714544010325\n",
      "SEED: 4 ,FOLD: 6, EPOCH: 25, valid_loss: 0.016296817634541255\n",
      "SEED: 5, FOLD: 0, EPOCH: 0, train_loss: 0.5883748672298483\n",
      "SEED: 5 ,FOLD: 0, EPOCH: 0, valid_loss: 0.08155448677448127\n",
      "SEED: 5, FOLD: 0, EPOCH: 1, train_loss: 0.029881405618947907\n",
      "SEED: 5 ,FOLD: 0, EPOCH: 1, valid_loss: 0.020397610532549713\n",
      "SEED: 5, FOLD: 0, EPOCH: 2, train_loss: 0.022073348782755232\n",
      "SEED: 5 ,FOLD: 0, EPOCH: 2, valid_loss: 0.018637525490843333\n",
      "SEED: 5, FOLD: 0, EPOCH: 3, train_loss: 0.021720358170568943\n",
      "SEED: 5 ,FOLD: 0, EPOCH: 3, valid_loss: 0.01803661395724003\n",
      "SEED: 5, FOLD: 0, EPOCH: 4, train_loss: 0.020526771811214654\n",
      "SEED: 5 ,FOLD: 0, EPOCH: 4, valid_loss: 0.01759840462070245\n",
      "SEED: 5, FOLD: 0, EPOCH: 5, train_loss: 0.020234399601011664\n",
      "SEED: 5 ,FOLD: 0, EPOCH: 5, valid_loss: 0.017607436730311468\n",
      "SEED: 5, FOLD: 0, EPOCH: 6, train_loss: 0.020111904303367074\n",
      "SEED: 5 ,FOLD: 0, EPOCH: 6, valid_loss: 0.017439253341693144\n",
      "SEED: 5, FOLD: 0, EPOCH: 7, train_loss: 0.02006611879914999\n",
      "SEED: 5 ,FOLD: 0, EPOCH: 7, valid_loss: 0.017434929855740987\n",
      "SEED: 5, FOLD: 0, EPOCH: 8, train_loss: 0.01998057123273611\n",
      "SEED: 5 ,FOLD: 0, EPOCH: 8, valid_loss: 0.017136429364864644\n",
      "SEED: 5, FOLD: 0, EPOCH: 9, train_loss: 0.019889746389880374\n",
      "SEED: 5 ,FOLD: 0, EPOCH: 9, valid_loss: 0.01746451611129137\n",
      "SEED: 5, FOLD: 0, EPOCH: 10, train_loss: 0.01994734677813343\n",
      "SEED: 5 ,FOLD: 0, EPOCH: 10, valid_loss: 0.01723231919682943\n",
      "SEED: 5, FOLD: 0, EPOCH: 11, train_loss: 0.019878119935055037\n",
      "SEED: 5 ,FOLD: 0, EPOCH: 11, valid_loss: 0.01716514963370103\n",
      "SEED: 5, FOLD: 0, EPOCH: 12, train_loss: 0.01974759215640055\n",
      "SEED: 5 ,FOLD: 0, EPOCH: 12, valid_loss: 0.017293988512112543\n",
      "SEED: 5, FOLD: 0, EPOCH: 13, train_loss: 0.01968940840782346\n",
      "SEED: 5 ,FOLD: 0, EPOCH: 13, valid_loss: 0.016926852986216545\n",
      "SEED: 5, FOLD: 0, EPOCH: 14, train_loss: 0.019560187073374116\n",
      "SEED: 5 ,FOLD: 0, EPOCH: 14, valid_loss: 0.016882034520117137\n",
      "SEED: 5, FOLD: 0, EPOCH: 15, train_loss: 0.019388384462611097\n",
      "SEED: 5 ,FOLD: 0, EPOCH: 15, valid_loss: 0.01680385099294094\n",
      "SEED: 5, FOLD: 0, EPOCH: 16, train_loss: 0.019205032319233224\n",
      "SEED: 5 ,FOLD: 0, EPOCH: 16, valid_loss: 0.016686103808192108\n",
      "SEED: 5, FOLD: 0, EPOCH: 17, train_loss: 0.018951998746677023\n",
      "SEED: 5 ,FOLD: 0, EPOCH: 17, valid_loss: 0.016534212260292128\n",
      "SEED: 5, FOLD: 0, EPOCH: 18, train_loss: 0.01867650356143713\n",
      "SEED: 5 ,FOLD: 0, EPOCH: 18, valid_loss: 0.01648091818564213\n",
      "SEED: 5, FOLD: 0, EPOCH: 19, train_loss: 0.018334064255090984\n",
      "SEED: 5 ,FOLD: 0, EPOCH: 19, valid_loss: 0.016501303045795515\n",
      "SEED: 5, FOLD: 0, EPOCH: 20, train_loss: 0.01800305358562115\n",
      "SEED: 5 ,FOLD: 0, EPOCH: 20, valid_loss: 0.01630060876218172\n",
      "SEED: 5, FOLD: 0, EPOCH: 21, train_loss: 0.017551848966930364\n",
      "SEED: 5 ,FOLD: 0, EPOCH: 21, valid_loss: 0.016270753139486678\n",
      "SEED: 5, FOLD: 0, EPOCH: 22, train_loss: 0.01709888915757875\n",
      "SEED: 5 ,FOLD: 0, EPOCH: 22, valid_loss: 0.016214696905360773\n",
      "SEED: 5, FOLD: 0, EPOCH: 23, train_loss: 0.01671959968233431\n",
      "SEED: 5 ,FOLD: 0, EPOCH: 23, valid_loss: 0.016182394984823007\n",
      "SEED: 5, FOLD: 0, EPOCH: 24, train_loss: 0.016388651789040178\n",
      "SEED: 5 ,FOLD: 0, EPOCH: 24, valid_loss: 0.016185191388313588\n",
      "SEED: 5, FOLD: 0, EPOCH: 25, train_loss: 0.016262060547297872\n",
      "SEED: 5 ,FOLD: 0, EPOCH: 25, valid_loss: 0.016189759525542077\n",
      "SEED: 5, FOLD: 1, EPOCH: 0, train_loss: 0.5875271763149146\n",
      "SEED: 5 ,FOLD: 1, EPOCH: 0, valid_loss: 0.086426148047814\n",
      "SEED: 5, FOLD: 1, EPOCH: 1, train_loss: 0.030005475254477682\n",
      "SEED: 5 ,FOLD: 1, EPOCH: 1, valid_loss: 0.019943478445594128\n",
      "SEED: 5, FOLD: 1, EPOCH: 2, train_loss: 0.021891027890347147\n",
      "SEED: 5 ,FOLD: 1, EPOCH: 2, valid_loss: 0.018654743137841042\n",
      "SEED: 5, FOLD: 1, EPOCH: 3, train_loss: 0.021950987947953714\n",
      "SEED: 5 ,FOLD: 1, EPOCH: 3, valid_loss: 0.017861518579033706\n",
      "SEED: 5, FOLD: 1, EPOCH: 4, train_loss: 0.02059166780295404\n",
      "SEED: 5 ,FOLD: 1, EPOCH: 4, valid_loss: 0.017389748675318863\n",
      "SEED: 5, FOLD: 1, EPOCH: 5, train_loss: 0.020282451868862718\n",
      "SEED: 5 ,FOLD: 1, EPOCH: 5, valid_loss: 0.017326403552523024\n",
      "SEED: 5, FOLD: 1, EPOCH: 6, train_loss: 0.02011389164505778\n",
      "SEED: 5 ,FOLD: 1, EPOCH: 6, valid_loss: 0.016982899978756905\n",
      "SEED: 5, FOLD: 1, EPOCH: 7, train_loss: 0.0200561761251978\n",
      "SEED: 5 ,FOLD: 1, EPOCH: 7, valid_loss: 0.016906695870252755\n",
      "SEED: 5, FOLD: 1, EPOCH: 8, train_loss: 0.020002681434758612\n",
      "SEED: 5 ,FOLD: 1, EPOCH: 8, valid_loss: 0.017105584534314964\n",
      "SEED: 5, FOLD: 1, EPOCH: 9, train_loss: 0.01993866015628383\n",
      "SEED: 5 ,FOLD: 1, EPOCH: 9, valid_loss: 0.016758957447913978\n",
      "SEED: 5, FOLD: 1, EPOCH: 10, train_loss: 0.019881431969839172\n",
      "SEED: 5 ,FOLD: 1, EPOCH: 10, valid_loss: 0.01689824189704198\n",
      "SEED: 5, FOLD: 1, EPOCH: 11, train_loss: 0.01982626157837945\n",
      "SEED: 5 ,FOLD: 1, EPOCH: 11, valid_loss: 0.016936298961249683\n",
      "SEED: 5, FOLD: 1, EPOCH: 12, train_loss: 0.01979359516219513\n",
      "SEED: 5 ,FOLD: 1, EPOCH: 12, valid_loss: 0.01689381696856939\n",
      "SEED: 5, FOLD: 1, EPOCH: 13, train_loss: 0.019597264233271818\n",
      "SEED: 5 ,FOLD: 1, EPOCH: 13, valid_loss: 0.0166360315365287\n",
      "SEED: 5, FOLD: 1, EPOCH: 14, train_loss: 0.019583258249268338\n",
      "SEED: 5 ,FOLD: 1, EPOCH: 14, valid_loss: 0.016502949265906446\n",
      "SEED: 5, FOLD: 1, EPOCH: 15, train_loss: 0.01937736034695361\n",
      "SEED: 5 ,FOLD: 1, EPOCH: 15, valid_loss: 0.016486577403086882\n",
      "SEED: 5, FOLD: 1, EPOCH: 16, train_loss: 0.01915585868866057\n",
      "SEED: 5 ,FOLD: 1, EPOCH: 16, valid_loss: 0.01631686234703431\n",
      "SEED: 5, FOLD: 1, EPOCH: 17, train_loss: 0.01891600783612277\n",
      "SEED: 5 ,FOLD: 1, EPOCH: 17, valid_loss: 0.016211327810127\n",
      "SEED: 5, FOLD: 1, EPOCH: 18, train_loss: 0.01866896651886605\n",
      "SEED: 5 ,FOLD: 1, EPOCH: 18, valid_loss: 0.016184633526091393\n",
      "SEED: 5, FOLD: 1, EPOCH: 19, train_loss: 0.018317099006192106\n",
      "SEED: 5 ,FOLD: 1, EPOCH: 19, valid_loss: 0.01609012964539803\n",
      "SEED: 5, FOLD: 1, EPOCH: 20, train_loss: 0.017879810511461786\n",
      "SEED: 5 ,FOLD: 1, EPOCH: 20, valid_loss: 0.015996603223566826\n",
      "SEED: 5, FOLD: 1, EPOCH: 21, train_loss: 0.01746356034198323\n",
      "SEED: 5 ,FOLD: 1, EPOCH: 21, valid_loss: 0.015921762213110924\n",
      "SEED: 5, FOLD: 1, EPOCH: 22, train_loss: 0.016958616271212295\n",
      "SEED: 5 ,FOLD: 1, EPOCH: 22, valid_loss: 0.015944036440207407\n",
      "SEED: 5, FOLD: 1, EPOCH: 23, train_loss: 0.016546635485782817\n",
      "SEED: 5 ,FOLD: 1, EPOCH: 23, valid_loss: 0.015855673843851455\n",
      "SEED: 5, FOLD: 1, EPOCH: 24, train_loss: 0.016190751669676724\n",
      "SEED: 5 ,FOLD: 1, EPOCH: 24, valid_loss: 0.015833912918773983\n",
      "SEED: 5, FOLD: 1, EPOCH: 25, train_loss: 0.01608313510597155\n",
      "SEED: 5 ,FOLD: 1, EPOCH: 25, valid_loss: 0.015858482497815903\n",
      "SEED: 5, FOLD: 2, EPOCH: 0, train_loss: 0.589160456447988\n",
      "SEED: 5 ,FOLD: 2, EPOCH: 0, valid_loss: 0.09096303696815784\n",
      "SEED: 5, FOLD: 2, EPOCH: 1, train_loss: 0.02983491779682604\n",
      "SEED: 5 ,FOLD: 2, EPOCH: 1, valid_loss: 0.020428567551649533\n",
      "SEED: 5, FOLD: 2, EPOCH: 2, train_loss: 0.02211004082818289\n",
      "SEED: 5 ,FOLD: 2, EPOCH: 2, valid_loss: 0.024317533637468632\n",
      "SEED: 5, FOLD: 2, EPOCH: 3, train_loss: 0.021472563186811434\n",
      "SEED: 5 ,FOLD: 2, EPOCH: 3, valid_loss: 0.01760725347468486\n",
      "SEED: 5, FOLD: 2, EPOCH: 4, train_loss: 0.02049612080225268\n",
      "SEED: 5 ,FOLD: 2, EPOCH: 4, valid_loss: 0.017151242551895287\n",
      "SEED: 5, FOLD: 2, EPOCH: 5, train_loss: 0.02016019352988617\n",
      "SEED: 5 ,FOLD: 2, EPOCH: 5, valid_loss: 0.01738071857163539\n",
      "SEED: 5, FOLD: 2, EPOCH: 6, train_loss: 0.01998902842201091\n",
      "SEED: 5 ,FOLD: 2, EPOCH: 6, valid_loss: 0.017211009819920246\n",
      "SEED: 5, FOLD: 2, EPOCH: 7, train_loss: 0.019985657965613378\n",
      "SEED: 5 ,FOLD: 2, EPOCH: 7, valid_loss: 0.01710130388920124\n",
      "SEED: 5, FOLD: 2, EPOCH: 8, train_loss: 0.01992612352242341\n",
      "SEED: 5 ,FOLD: 2, EPOCH: 8, valid_loss: 0.01698336162819312\n",
      "SEED: 5, FOLD: 2, EPOCH: 9, train_loss: 0.019923898768988816\n",
      "SEED: 5 ,FOLD: 2, EPOCH: 9, valid_loss: 0.01706551330593916\n",
      "SEED: 5, FOLD: 2, EPOCH: 10, train_loss: 0.019904692858658934\n",
      "SEED: 5 ,FOLD: 2, EPOCH: 10, valid_loss: 0.01707234176305624\n",
      "SEED: 5, FOLD: 2, EPOCH: 11, train_loss: 0.019787894561886787\n",
      "SEED: 5 ,FOLD: 2, EPOCH: 11, valid_loss: 0.016847131272348072\n",
      "SEED: 5, FOLD: 2, EPOCH: 12, train_loss: 0.019712565743641275\n",
      "SEED: 5 ,FOLD: 2, EPOCH: 12, valid_loss: 0.01675805592766175\n",
      "SEED: 5, FOLD: 2, EPOCH: 13, train_loss: 0.019620460156049277\n",
      "SEED: 5 ,FOLD: 2, EPOCH: 13, valid_loss: 0.016709668203615226\n",
      "SEED: 5, FOLD: 2, EPOCH: 14, train_loss: 0.019515376160475047\n",
      "SEED: 5 ,FOLD: 2, EPOCH: 14, valid_loss: 0.016714358559021585\n",
      "SEED: 5, FOLD: 2, EPOCH: 15, train_loss: 0.01936697864250557\n",
      "SEED: 5 ,FOLD: 2, EPOCH: 15, valid_loss: 0.01670759443480235\n",
      "SEED: 5, FOLD: 2, EPOCH: 16, train_loss: 0.019121575395803194\n",
      "SEED: 5 ,FOLD: 2, EPOCH: 16, valid_loss: 0.01673029835980672\n",
      "SEED: 5, FOLD: 2, EPOCH: 17, train_loss: 0.01894768508704933\n",
      "SEED: 5 ,FOLD: 2, EPOCH: 17, valid_loss: 0.016507491182822447\n",
      "SEED: 5, FOLD: 2, EPOCH: 18, train_loss: 0.018654159849157203\n",
      "SEED: 5 ,FOLD: 2, EPOCH: 18, valid_loss: 0.016294094017491892\n",
      "SEED: 5, FOLD: 2, EPOCH: 19, train_loss: 0.018303028056146326\n",
      "SEED: 5 ,FOLD: 2, EPOCH: 19, valid_loss: 0.016190703170230754\n",
      "SEED: 5, FOLD: 2, EPOCH: 20, train_loss: 0.017935697970962203\n",
      "SEED: 5 ,FOLD: 2, EPOCH: 20, valid_loss: 0.01623126699660833\n",
      "SEED: 5, FOLD: 2, EPOCH: 21, train_loss: 0.017456075982064813\n",
      "SEED: 5 ,FOLD: 2, EPOCH: 21, valid_loss: 0.016100553365854118\n",
      "SEED: 5, FOLD: 2, EPOCH: 22, train_loss: 0.017010282234263582\n",
      "SEED: 5 ,FOLD: 2, EPOCH: 22, valid_loss: 0.016059611422511246\n",
      "SEED: 5, FOLD: 2, EPOCH: 23, train_loss: 0.016634802547963085\n",
      "SEED: 5 ,FOLD: 2, EPOCH: 23, valid_loss: 0.016062780641592465\n",
      "SEED: 5, FOLD: 2, EPOCH: 24, train_loss: 0.01630515806578301\n",
      "SEED: 5 ,FOLD: 2, EPOCH: 24, valid_loss: 0.016063664108514786\n",
      "SEED: 5, FOLD: 3, EPOCH: 0, train_loss: 0.5877219729528234\n",
      "SEED: 5 ,FOLD: 3, EPOCH: 0, valid_loss: 0.08850294179641284\n",
      "SEED: 5, FOLD: 3, EPOCH: 1, train_loss: 0.030539753720969766\n",
      "SEED: 5 ,FOLD: 3, EPOCH: 1, valid_loss: 0.020420060851252995\n",
      "SEED: 5, FOLD: 3, EPOCH: 2, train_loss: 0.022166887751302204\n",
      "SEED: 5 ,FOLD: 3, EPOCH: 2, valid_loss: 0.019052499475387428\n",
      "SEED: 5, FOLD: 3, EPOCH: 3, train_loss: 0.02112056959319759\n",
      "SEED: 5 ,FOLD: 3, EPOCH: 3, valid_loss: 0.018145539582921907\n",
      "SEED: 5, FOLD: 3, EPOCH: 4, train_loss: 0.020592748741241725\n",
      "SEED: 5 ,FOLD: 3, EPOCH: 4, valid_loss: 0.017819636358091466\n",
      "SEED: 5, FOLD: 3, EPOCH: 5, train_loss: 0.020200838259345776\n",
      "SEED: 5 ,FOLD: 3, EPOCH: 5, valid_loss: 0.017050707856049903\n",
      "SEED: 5, FOLD: 3, EPOCH: 6, train_loss: 0.020040707134113118\n",
      "SEED: 5 ,FOLD: 3, EPOCH: 6, valid_loss: 0.01724329490501147\n",
      "SEED: 5, FOLD: 3, EPOCH: 7, train_loss: 0.01999932973066697\n",
      "SEED: 5 ,FOLD: 3, EPOCH: 7, valid_loss: 0.017243508607722245\n",
      "SEED: 5, FOLD: 3, EPOCH: 8, train_loss: 0.019927767105400562\n",
      "SEED: 5 ,FOLD: 3, EPOCH: 8, valid_loss: 0.017064304019396122\n",
      "SEED: 5, FOLD: 3, EPOCH: 9, train_loss: 0.019847414984896377\n",
      "SEED: 5 ,FOLD: 3, EPOCH: 9, valid_loss: 0.016899304177898627\n",
      "SEED: 5, FOLD: 3, EPOCH: 10, train_loss: 0.01984803514504755\n",
      "SEED: 5 ,FOLD: 3, EPOCH: 10, valid_loss: 0.016814481896849778\n",
      "SEED: 5, FOLD: 3, EPOCH: 11, train_loss: 0.019905430843701232\n",
      "SEED: 5 ,FOLD: 3, EPOCH: 11, valid_loss: 0.016911732892577466\n",
      "SEED: 5, FOLD: 3, EPOCH: 12, train_loss: 0.019753600244183798\n",
      "SEED: 5 ,FOLD: 3, EPOCH: 12, valid_loss: 0.016958266138457335\n",
      "SEED: 5, FOLD: 3, EPOCH: 13, train_loss: 0.01961677020566689\n",
      "SEED: 5 ,FOLD: 3, EPOCH: 13, valid_loss: 0.016763462899969175\n",
      "SEED: 5, FOLD: 3, EPOCH: 14, train_loss: 0.019550453846317692\n",
      "SEED: 5 ,FOLD: 3, EPOCH: 14, valid_loss: 0.016801070207013533\n",
      "SEED: 5, FOLD: 3, EPOCH: 15, train_loss: 0.019332827622624667\n",
      "SEED: 5 ,FOLD: 3, EPOCH: 15, valid_loss: 0.016642536896352585\n",
      "SEED: 5, FOLD: 3, EPOCH: 16, train_loss: 0.01909036755662512\n",
      "SEED: 5 ,FOLD: 3, EPOCH: 16, valid_loss: 0.016467673489107534\n",
      "SEED: 5, FOLD: 3, EPOCH: 17, train_loss: 0.01892618668844571\n",
      "SEED: 5 ,FOLD: 3, EPOCH: 17, valid_loss: 0.016736016752055057\n",
      "SEED: 5, FOLD: 3, EPOCH: 18, train_loss: 0.01865298014033485\n",
      "SEED: 5 ,FOLD: 3, EPOCH: 18, valid_loss: 0.016351198490995627\n",
      "SEED: 5, FOLD: 3, EPOCH: 19, train_loss: 0.018303112907184137\n",
      "SEED: 5 ,FOLD: 3, EPOCH: 19, valid_loss: 0.01613260841426941\n",
      "SEED: 5, FOLD: 3, EPOCH: 20, train_loss: 0.017846681328641402\n",
      "SEED: 5 ,FOLD: 3, EPOCH: 20, valid_loss: 0.016079035229407825\n",
      "SEED: 5, FOLD: 3, EPOCH: 21, train_loss: 0.017470812248821195\n",
      "SEED: 5 ,FOLD: 3, EPOCH: 21, valid_loss: 0.01599608139636425\n",
      "SEED: 5, FOLD: 3, EPOCH: 22, train_loss: 0.01703166210319142\n",
      "SEED: 5 ,FOLD: 3, EPOCH: 22, valid_loss: 0.01600191878298154\n",
      "SEED: 5, FOLD: 3, EPOCH: 23, train_loss: 0.016653340284687443\n",
      "SEED: 5 ,FOLD: 3, EPOCH: 23, valid_loss: 0.015955584625212047\n",
      "SEED: 5, FOLD: 3, EPOCH: 24, train_loss: 0.016354199083572305\n",
      "SEED: 5 ,FOLD: 3, EPOCH: 24, valid_loss: 0.01597128063440323\n",
      "SEED: 5, FOLD: 3, EPOCH: 25, train_loss: 0.016249081321262026\n",
      "SEED: 5 ,FOLD: 3, EPOCH: 25, valid_loss: 0.015963032770042237\n",
      "SEED: 5, FOLD: 4, EPOCH: 0, train_loss: 0.5887054002566917\n",
      "SEED: 5 ,FOLD: 4, EPOCH: 0, valid_loss: 0.09699289500713348\n",
      "SEED: 5, FOLD: 4, EPOCH: 1, train_loss: 0.029934368448684346\n",
      "SEED: 5 ,FOLD: 4, EPOCH: 1, valid_loss: 0.019761416631249282\n",
      "SEED: 5, FOLD: 4, EPOCH: 2, train_loss: 0.02189573796617018\n",
      "SEED: 5 ,FOLD: 4, EPOCH: 2, valid_loss: 0.018935285222071867\n",
      "SEED: 5, FOLD: 4, EPOCH: 3, train_loss: 0.020987906971493282\n",
      "SEED: 5 ,FOLD: 4, EPOCH: 3, valid_loss: 0.017899174959613726\n",
      "SEED: 5, FOLD: 4, EPOCH: 4, train_loss: 0.020537780497122456\n",
      "SEED: 5 ,FOLD: 4, EPOCH: 4, valid_loss: 0.017404758299772557\n",
      "SEED: 5, FOLD: 4, EPOCH: 5, train_loss: 0.020281373800055402\n",
      "SEED: 5 ,FOLD: 4, EPOCH: 5, valid_loss: 0.01827490100493798\n",
      "SEED: 5, FOLD: 4, EPOCH: 6, train_loss: 0.02016799589870749\n",
      "SEED: 5 ,FOLD: 4, EPOCH: 6, valid_loss: 0.017728855117009237\n",
      "SEED: 5, FOLD: 4, EPOCH: 7, train_loss: 0.019998075037791923\n",
      "SEED: 5 ,FOLD: 4, EPOCH: 7, valid_loss: 0.017360015127521295\n",
      "SEED: 5, FOLD: 4, EPOCH: 8, train_loss: 0.020004490440761722\n",
      "SEED: 5 ,FOLD: 4, EPOCH: 8, valid_loss: 0.017107469101364795\n",
      "SEED: 5, FOLD: 4, EPOCH: 9, train_loss: 0.020018897019326687\n",
      "SEED: 5 ,FOLD: 4, EPOCH: 9, valid_loss: 0.017112624759857472\n",
      "SEED: 5, FOLD: 4, EPOCH: 10, train_loss: 0.0198692565632833\n",
      "SEED: 5 ,FOLD: 4, EPOCH: 10, valid_loss: 0.017165057790967133\n",
      "SEED: 5, FOLD: 4, EPOCH: 11, train_loss: 0.019814479340975348\n",
      "SEED: 5 ,FOLD: 4, EPOCH: 11, valid_loss: 0.017125943245796058\n",
      "SEED: 5, FOLD: 4, EPOCH: 12, train_loss: 0.01980554365326424\n",
      "SEED: 5 ,FOLD: 4, EPOCH: 12, valid_loss: 0.016932031856133387\n",
      "SEED: 5, FOLD: 4, EPOCH: 13, train_loss: 0.019686046031278534\n",
      "SEED: 5 ,FOLD: 4, EPOCH: 13, valid_loss: 0.016808759707670946\n",
      "SEED: 5, FOLD: 4, EPOCH: 14, train_loss: 0.0195095615612494\n",
      "SEED: 5 ,FOLD: 4, EPOCH: 14, valid_loss: 0.01673720605098284\n",
      "SEED: 5, FOLD: 4, EPOCH: 15, train_loss: 0.019328307536606852\n",
      "SEED: 5 ,FOLD: 4, EPOCH: 15, valid_loss: 0.016740419113865264\n",
      "SEED: 5, FOLD: 4, EPOCH: 16, train_loss: 0.019195455655052856\n",
      "SEED: 5 ,FOLD: 4, EPOCH: 16, valid_loss: 0.016617591277911112\n",
      "SEED: 5, FOLD: 4, EPOCH: 17, train_loss: 0.019004776469759038\n",
      "SEED: 5 ,FOLD: 4, EPOCH: 17, valid_loss: 0.016654201568319246\n",
      "SEED: 5, FOLD: 4, EPOCH: 18, train_loss: 0.01871013895583314\n",
      "SEED: 5 ,FOLD: 4, EPOCH: 18, valid_loss: 0.016513594497854892\n",
      "SEED: 5, FOLD: 4, EPOCH: 19, train_loss: 0.018304572642050886\n",
      "SEED: 5 ,FOLD: 4, EPOCH: 19, valid_loss: 0.016230916747680076\n",
      "SEED: 5, FOLD: 4, EPOCH: 20, train_loss: 0.01798723406485609\n",
      "SEED: 5 ,FOLD: 4, EPOCH: 20, valid_loss: 0.016212202465304963\n",
      "SEED: 5, FOLD: 4, EPOCH: 21, train_loss: 0.017618504390623922\n",
      "SEED: 5 ,FOLD: 4, EPOCH: 21, valid_loss: 0.016149922488973692\n",
      "SEED: 5, FOLD: 4, EPOCH: 22, train_loss: 0.01717611782353472\n",
      "SEED: 5 ,FOLD: 4, EPOCH: 22, valid_loss: 0.0160685248959523\n",
      "SEED: 5, FOLD: 4, EPOCH: 23, train_loss: 0.016790448461432714\n",
      "SEED: 5 ,FOLD: 4, EPOCH: 23, valid_loss: 0.016061968814868193\n",
      "SEED: 5, FOLD: 4, EPOCH: 24, train_loss: 0.01651271734688733\n",
      "SEED: 5 ,FOLD: 4, EPOCH: 24, valid_loss: 0.016064253778984912\n",
      "SEED: 5, FOLD: 4, EPOCH: 25, train_loss: 0.01636929374590919\n",
      "SEED: 5 ,FOLD: 4, EPOCH: 25, valid_loss: 0.016033204558950204\n",
      "SEED: 5, FOLD: 5, EPOCH: 0, train_loss: 0.5869852162494853\n",
      "SEED: 5 ,FOLD: 5, EPOCH: 0, valid_loss: 0.0902041236941631\n",
      "SEED: 5, FOLD: 5, EPOCH: 1, train_loss: 0.02961378318031092\n",
      "SEED: 5 ,FOLD: 5, EPOCH: 1, valid_loss: 0.019852651426425345\n",
      "SEED: 5, FOLD: 5, EPOCH: 2, train_loss: 0.022100832111932135\n",
      "SEED: 5 ,FOLD: 5, EPOCH: 2, valid_loss: 0.018511754388992604\n",
      "SEED: 5, FOLD: 5, EPOCH: 3, train_loss: 0.021318695633798034\n",
      "SEED: 5 ,FOLD: 5, EPOCH: 3, valid_loss: 0.017621781247166488\n",
      "SEED: 5, FOLD: 5, EPOCH: 4, train_loss: 0.020537743747637078\n",
      "SEED: 5 ,FOLD: 5, EPOCH: 4, valid_loss: 0.017335939364364512\n",
      "SEED: 5, FOLD: 5, EPOCH: 5, train_loss: 0.0202499207713314\n",
      "SEED: 5 ,FOLD: 5, EPOCH: 5, valid_loss: 0.01725281638881335\n",
      "SEED: 5, FOLD: 5, EPOCH: 6, train_loss: 0.020125878118985408\n",
      "SEED: 5 ,FOLD: 5, EPOCH: 6, valid_loss: 0.01721428198596606\n",
      "SEED: 5, FOLD: 5, EPOCH: 7, train_loss: 0.020022702327853924\n",
      "SEED: 5 ,FOLD: 5, EPOCH: 7, valid_loss: 0.01704737049742387\n",
      "SEED: 5, FOLD: 5, EPOCH: 8, train_loss: 0.02001113970638127\n",
      "SEED: 5 ,FOLD: 5, EPOCH: 8, valid_loss: 0.017067689233674452\n",
      "SEED: 5, FOLD: 5, EPOCH: 9, train_loss: 0.01994052856556467\n",
      "SEED: 5 ,FOLD: 5, EPOCH: 9, valid_loss: 0.017441698636573095\n",
      "SEED: 5, FOLD: 5, EPOCH: 10, train_loss: 0.019906961258400132\n",
      "SEED: 5 ,FOLD: 5, EPOCH: 10, valid_loss: 0.017090165772690222\n",
      "SEED: 5, FOLD: 5, EPOCH: 11, train_loss: 0.019917594117892755\n",
      "SEED: 5 ,FOLD: 5, EPOCH: 11, valid_loss: 0.01712520241450805\n",
      "SEED: 5, FOLD: 5, EPOCH: 12, train_loss: 0.0197492571849678\n",
      "SEED: 5 ,FOLD: 5, EPOCH: 12, valid_loss: 0.016972532997337673\n",
      "SEED: 5, FOLD: 5, EPOCH: 13, train_loss: 0.01965180570511399\n",
      "SEED: 5 ,FOLD: 5, EPOCH: 13, valid_loss: 0.017037798149081376\n",
      "SEED: 5, FOLD: 5, EPOCH: 14, train_loss: 0.019551066480375624\n",
      "SEED: 5 ,FOLD: 5, EPOCH: 14, valid_loss: 0.016852048512261648\n",
      "SEED: 5, FOLD: 5, EPOCH: 15, train_loss: 0.01931366920974609\n",
      "SEED: 5 ,FOLD: 5, EPOCH: 15, valid_loss: 0.016498642758681223\n",
      "SEED: 5, FOLD: 5, EPOCH: 16, train_loss: 0.019118829277922977\n",
      "SEED: 5 ,FOLD: 5, EPOCH: 16, valid_loss: 0.016547604607274898\n",
      "SEED: 5, FOLD: 5, EPOCH: 17, train_loss: 0.01894104075492234\n",
      "SEED: 5 ,FOLD: 5, EPOCH: 17, valid_loss: 0.016435506108861703\n",
      "SEED: 5, FOLD: 5, EPOCH: 18, train_loss: 0.018586862177864927\n",
      "SEED: 5 ,FOLD: 5, EPOCH: 18, valid_loss: 0.016465544485701963\n",
      "SEED: 5, FOLD: 5, EPOCH: 19, train_loss: 0.018327474241723884\n",
      "SEED: 5 ,FOLD: 5, EPOCH: 19, valid_loss: 0.01623868476599455\n",
      "SEED: 5, FOLD: 5, EPOCH: 20, train_loss: 0.017964035989968357\n",
      "SEED: 5 ,FOLD: 5, EPOCH: 20, valid_loss: 0.01630312526741853\n",
      "SEED: 5, FOLD: 5, EPOCH: 21, train_loss: 0.0175400959529184\n",
      "SEED: 5 ,FOLD: 5, EPOCH: 21, valid_loss: 0.016215381499093313\n",
      "SEED: 5, FOLD: 5, EPOCH: 22, train_loss: 0.017092066653374885\n",
      "SEED: 5 ,FOLD: 5, EPOCH: 22, valid_loss: 0.016235861282509107\n",
      "SEED: 5, FOLD: 5, EPOCH: 23, train_loss: 0.016671670525259263\n",
      "SEED: 5 ,FOLD: 5, EPOCH: 23, valid_loss: 0.01617734205837433\n",
      "SEED: 5, FOLD: 5, EPOCH: 24, train_loss: 0.016398858065037308\n",
      "SEED: 5 ,FOLD: 5, EPOCH: 24, valid_loss: 0.016178996660388432\n",
      "SEED: 5, FOLD: 6, EPOCH: 0, train_loss: 0.5885277484115716\n",
      "SEED: 5 ,FOLD: 6, EPOCH: 0, valid_loss: 0.08832342349565946\n",
      "SEED: 5, FOLD: 6, EPOCH: 1, train_loss: 0.029843900528912608\n",
      "SEED: 5 ,FOLD: 6, EPOCH: 1, valid_loss: 0.019875776165953048\n",
      "SEED: 5, FOLD: 6, EPOCH: 2, train_loss: 0.02183592921072567\n",
      "SEED: 5 ,FOLD: 6, EPOCH: 2, valid_loss: 0.018942107804692708\n",
      "SEED: 5, FOLD: 6, EPOCH: 3, train_loss: 0.021010124174928344\n",
      "SEED: 5 ,FOLD: 6, EPOCH: 3, valid_loss: 0.017590831248806074\n",
      "SEED: 5, FOLD: 6, EPOCH: 4, train_loss: 0.020382849927488213\n",
      "SEED: 5 ,FOLD: 6, EPOCH: 4, valid_loss: 0.017414196895865295\n",
      "SEED: 5, FOLD: 6, EPOCH: 5, train_loss: 0.020078430984269927\n",
      "SEED: 5 ,FOLD: 6, EPOCH: 5, valid_loss: 0.018325112760066986\n",
      "SEED: 5, FOLD: 6, EPOCH: 6, train_loss: 0.020035503457325535\n",
      "SEED: 5 ,FOLD: 6, EPOCH: 6, valid_loss: 0.01729704038454936\n",
      "SEED: 5, FOLD: 6, EPOCH: 7, train_loss: 0.019984465696521708\n",
      "SEED: 5 ,FOLD: 6, EPOCH: 7, valid_loss: 0.017081226508777875\n",
      "SEED: 5, FOLD: 6, EPOCH: 8, train_loss: 0.019930115170978212\n",
      "SEED: 5 ,FOLD: 6, EPOCH: 8, valid_loss: 0.017203767497379046\n",
      "SEED: 5, FOLD: 6, EPOCH: 9, train_loss: 0.019953809099624287\n",
      "SEED: 5 ,FOLD: 6, EPOCH: 9, valid_loss: 0.017117109292974837\n",
      "SEED: 5, FOLD: 6, EPOCH: 10, train_loss: 0.01990545221377869\n",
      "SEED: 5 ,FOLD: 6, EPOCH: 10, valid_loss: 0.017175562106646024\n",
      "SEED: 5, FOLD: 6, EPOCH: 11, train_loss: 0.01979735100994239\n",
      "SEED: 5 ,FOLD: 6, EPOCH: 11, valid_loss: 0.016964968365545455\n",
      "SEED: 5, FOLD: 6, EPOCH: 12, train_loss: 0.019652236177510506\n",
      "SEED: 5 ,FOLD: 6, EPOCH: 12, valid_loss: 0.01697772440428917\n",
      "SEED: 5, FOLD: 6, EPOCH: 13, train_loss: 0.019569905122389663\n",
      "SEED: 5 ,FOLD: 6, EPOCH: 13, valid_loss: 0.016914509021891996\n",
      "SEED: 5, FOLD: 6, EPOCH: 14, train_loss: 0.019471407339379593\n",
      "SEED: 5 ,FOLD: 6, EPOCH: 14, valid_loss: 0.016799930626383193\n",
      "SEED: 5, FOLD: 6, EPOCH: 15, train_loss: 0.019273544661700726\n",
      "SEED: 5 ,FOLD: 6, EPOCH: 15, valid_loss: 0.016883025375696328\n",
      "SEED: 5, FOLD: 6, EPOCH: 16, train_loss: 0.01913435648925401\n",
      "SEED: 5 ,FOLD: 6, EPOCH: 16, valid_loss: 0.016654928429768637\n",
      "SEED: 5, FOLD: 6, EPOCH: 17, train_loss: 0.018966652276749547\n",
      "SEED: 5 ,FOLD: 6, EPOCH: 17, valid_loss: 0.016566321683617737\n",
      "SEED: 5, FOLD: 6, EPOCH: 18, train_loss: 0.01858798892715493\n",
      "SEED: 5 ,FOLD: 6, EPOCH: 18, valid_loss: 0.016305527936380643\n",
      "SEED: 5, FOLD: 6, EPOCH: 19, train_loss: 0.018257518223411328\n",
      "SEED: 5 ,FOLD: 6, EPOCH: 19, valid_loss: 0.016316718565156825\n",
      "SEED: 5, FOLD: 6, EPOCH: 20, train_loss: 0.017911578276874247\n",
      "SEED: 5 ,FOLD: 6, EPOCH: 20, valid_loss: 0.016374031368356485\n",
      "SEED: 5, FOLD: 6, EPOCH: 21, train_loss: 0.017439798225422163\n",
      "SEED: 5 ,FOLD: 6, EPOCH: 21, valid_loss: 0.016148009695685826\n",
      "SEED: 5, FOLD: 6, EPOCH: 22, train_loss: 0.017064873078787648\n",
      "SEED: 5 ,FOLD: 6, EPOCH: 22, valid_loss: 0.016099426823739823\n",
      "SEED: 5, FOLD: 6, EPOCH: 23, train_loss: 0.016679015954503336\n",
      "SEED: 5 ,FOLD: 6, EPOCH: 23, valid_loss: 0.016102298449438352\n",
      "SEED: 5, FOLD: 6, EPOCH: 24, train_loss: 0.01645565248170012\n",
      "SEED: 5 ,FOLD: 6, EPOCH: 24, valid_loss: 0.01610004737113531\n",
      "SEED: 6, FOLD: 0, EPOCH: 0, train_loss: 0.58961011378749\n",
      "SEED: 6 ,FOLD: 0, EPOCH: 0, valid_loss: 0.09096561372280121\n",
      "SEED: 6, FOLD: 0, EPOCH: 1, train_loss: 0.029909864823157724\n",
      "SEED: 6 ,FOLD: 0, EPOCH: 1, valid_loss: 0.019650753300923567\n",
      "SEED: 6, FOLD: 0, EPOCH: 2, train_loss: 0.021883832366281265\n",
      "SEED: 6 ,FOLD: 0, EPOCH: 2, valid_loss: 0.018344984461481754\n",
      "SEED: 6, FOLD: 0, EPOCH: 3, train_loss: 0.02101688472101012\n",
      "SEED: 6 ,FOLD: 0, EPOCH: 3, valid_loss: 0.023255477444483683\n",
      "SEED: 6, FOLD: 0, EPOCH: 4, train_loss: 0.020524295827222837\n",
      "SEED: 6 ,FOLD: 0, EPOCH: 4, valid_loss: 0.017552127201969806\n",
      "SEED: 6, FOLD: 0, EPOCH: 5, train_loss: 0.020249655419910275\n",
      "SEED: 6 ,FOLD: 0, EPOCH: 5, valid_loss: 0.017105736339894626\n",
      "SEED: 6, FOLD: 0, EPOCH: 6, train_loss: 0.020126576887796056\n",
      "SEED: 6 ,FOLD: 0, EPOCH: 6, valid_loss: 0.016836652245659094\n",
      "SEED: 6, FOLD: 0, EPOCH: 7, train_loss: 0.020042743105944748\n",
      "SEED: 6 ,FOLD: 0, EPOCH: 7, valid_loss: 0.016978139487596657\n",
      "SEED: 6, FOLD: 0, EPOCH: 8, train_loss: 0.01995976475646367\n",
      "SEED: 6 ,FOLD: 0, EPOCH: 8, valid_loss: 0.01683099052080741\n",
      "SEED: 6, FOLD: 0, EPOCH: 9, train_loss: 0.019994407464322204\n",
      "SEED: 6 ,FOLD: 0, EPOCH: 9, valid_loss: 0.016895277282366387\n",
      "SEED: 6, FOLD: 0, EPOCH: 10, train_loss: 0.01989165663316443\n",
      "SEED: 6 ,FOLD: 0, EPOCH: 10, valid_loss: 0.016754105400580626\n",
      "SEED: 6, FOLD: 0, EPOCH: 11, train_loss: 0.019925528281443828\n",
      "SEED: 6 ,FOLD: 0, EPOCH: 11, valid_loss: 0.016617396416572425\n",
      "SEED: 6, FOLD: 0, EPOCH: 12, train_loss: 0.01971799452361223\n",
      "SEED: 6 ,FOLD: 0, EPOCH: 12, valid_loss: 0.01661209726276306\n",
      "SEED: 6, FOLD: 0, EPOCH: 13, train_loss: 0.01965621506442895\n",
      "SEED: 6 ,FOLD: 0, EPOCH: 13, valid_loss: 0.01683260751171754\n",
      "SEED: 6, FOLD: 0, EPOCH: 14, train_loss: 0.019548149578071928\n",
      "SEED: 6 ,FOLD: 0, EPOCH: 14, valid_loss: 0.016527457664219234\n",
      "SEED: 6, FOLD: 0, EPOCH: 15, train_loss: 0.019417024670621834\n",
      "SEED: 6 ,FOLD: 0, EPOCH: 15, valid_loss: 0.016571665111069497\n",
      "SEED: 6, FOLD: 0, EPOCH: 16, train_loss: 0.01922822358539781\n",
      "SEED: 6 ,FOLD: 0, EPOCH: 16, valid_loss: 0.016387298201712277\n",
      "SEED: 6, FOLD: 0, EPOCH: 17, train_loss: 0.01894402423420468\n",
      "SEED: 6 ,FOLD: 0, EPOCH: 17, valid_loss: 0.016315375024882648\n",
      "SEED: 6, FOLD: 0, EPOCH: 18, train_loss: 0.018763373656248725\n",
      "SEED: 6 ,FOLD: 0, EPOCH: 18, valid_loss: 0.016226834402634546\n",
      "SEED: 6, FOLD: 0, EPOCH: 19, train_loss: 0.01840674796619931\n",
      "SEED: 6 ,FOLD: 0, EPOCH: 19, valid_loss: 0.016048849417039983\n",
      "SEED: 6, FOLD: 0, EPOCH: 20, train_loss: 0.018035064401054703\n",
      "SEED: 6 ,FOLD: 0, EPOCH: 20, valid_loss: 0.015973531139584687\n",
      "SEED: 6, FOLD: 0, EPOCH: 21, train_loss: 0.017600041008680255\n",
      "SEED: 6 ,FOLD: 0, EPOCH: 21, valid_loss: 0.015871528894282304\n",
      "SEED: 6, FOLD: 0, EPOCH: 22, train_loss: 0.017132292199577834\n",
      "SEED: 6 ,FOLD: 0, EPOCH: 22, valid_loss: 0.015856981850587405\n",
      "SEED: 6, FOLD: 0, EPOCH: 23, train_loss: 0.016775337979197502\n",
      "SEED: 6 ,FOLD: 0, EPOCH: 23, valid_loss: 0.01580442853558522\n",
      "SEED: 6, FOLD: 0, EPOCH: 24, train_loss: 0.016513281501829624\n",
      "SEED: 6 ,FOLD: 0, EPOCH: 24, valid_loss: 0.01580080518928858\n",
      "SEED: 6, FOLD: 0, EPOCH: 25, train_loss: 0.01641523277991124\n",
      "SEED: 6 ,FOLD: 0, EPOCH: 25, valid_loss: 0.01581198234970753\n",
      "SEED: 6, FOLD: 1, EPOCH: 0, train_loss: 0.5874116021032268\n",
      "SEED: 6 ,FOLD: 1, EPOCH: 0, valid_loss: 0.09186775638506962\n",
      "SEED: 6, FOLD: 1, EPOCH: 1, train_loss: 0.029949340591760906\n",
      "SEED: 6 ,FOLD: 1, EPOCH: 1, valid_loss: 0.019889192942243356\n",
      "SEED: 6, FOLD: 1, EPOCH: 2, train_loss: 0.0223954800717734\n",
      "SEED: 6 ,FOLD: 1, EPOCH: 2, valid_loss: 0.03342364484874102\n",
      "SEED: 6, FOLD: 1, EPOCH: 3, train_loss: 0.021112607338943996\n",
      "SEED: 6 ,FOLD: 1, EPOCH: 3, valid_loss: 0.01762686311625517\n",
      "SEED: 6, FOLD: 1, EPOCH: 4, train_loss: 0.020593448466545827\n",
      "SEED: 6 ,FOLD: 1, EPOCH: 4, valid_loss: 0.022049650836449403\n",
      "SEED: 6, FOLD: 1, EPOCH: 5, train_loss: 0.020338462464310026\n",
      "SEED: 6 ,FOLD: 1, EPOCH: 5, valid_loss: 0.017522998584004548\n",
      "SEED: 6, FOLD: 1, EPOCH: 6, train_loss: 0.020107107941766043\n",
      "SEED: 6 ,FOLD: 1, EPOCH: 6, valid_loss: 0.01702381083025382\n",
      "SEED: 6, FOLD: 1, EPOCH: 7, train_loss: 0.02008685255674897\n",
      "SEED: 6 ,FOLD: 1, EPOCH: 7, valid_loss: 0.017186983273579523\n",
      "SEED: 6, FOLD: 1, EPOCH: 8, train_loss: 0.020040828055022535\n",
      "SEED: 6 ,FOLD: 1, EPOCH: 8, valid_loss: 0.016963319709667794\n",
      "SEED: 6, FOLD: 1, EPOCH: 9, train_loss: 0.02001129279567583\n",
      "SEED: 6 ,FOLD: 1, EPOCH: 9, valid_loss: 0.017228214643322505\n",
      "SEED: 6, FOLD: 1, EPOCH: 10, train_loss: 0.01996420036900688\n",
      "SEED: 6 ,FOLD: 1, EPOCH: 10, valid_loss: 0.017259586315888625\n",
      "SEED: 6, FOLD: 1, EPOCH: 11, train_loss: 0.01982772788284598\n",
      "SEED: 6 ,FOLD: 1, EPOCH: 11, valid_loss: 0.016856256872415543\n",
      "SEED: 6, FOLD: 1, EPOCH: 12, train_loss: 0.019747965641923854\n",
      "SEED: 6 ,FOLD: 1, EPOCH: 12, valid_loss: 0.017026643770245407\n",
      "SEED: 6, FOLD: 1, EPOCH: 13, train_loss: 0.019605715482218844\n",
      "SEED: 6 ,FOLD: 1, EPOCH: 13, valid_loss: 0.016778868551437672\n",
      "SEED: 6, FOLD: 1, EPOCH: 14, train_loss: 0.01957590354455484\n",
      "SEED: 6 ,FOLD: 1, EPOCH: 14, valid_loss: 0.016705693390506964\n",
      "SEED: 6, FOLD: 1, EPOCH: 15, train_loss: 0.019338503052052612\n",
      "SEED: 6 ,FOLD: 1, EPOCH: 15, valid_loss: 0.01669867501522486\n",
      "SEED: 6, FOLD: 1, EPOCH: 16, train_loss: 0.01920149611258829\n",
      "SEED: 6 ,FOLD: 1, EPOCH: 16, valid_loss: 0.01666115804647024\n",
      "SEED: 6, FOLD: 1, EPOCH: 17, train_loss: 0.01891102470658921\n",
      "SEED: 6 ,FOLD: 1, EPOCH: 17, valid_loss: 0.016524390532420233\n",
      "SEED: 6, FOLD: 1, EPOCH: 18, train_loss: 0.01857075674106946\n",
      "SEED: 6 ,FOLD: 1, EPOCH: 18, valid_loss: 0.01642344806056756\n",
      "SEED: 6, FOLD: 1, EPOCH: 19, train_loss: 0.01825545368263045\n",
      "SEED: 6 ,FOLD: 1, EPOCH: 19, valid_loss: 0.016383989069324274\n",
      "SEED: 6, FOLD: 1, EPOCH: 20, train_loss: 0.017905434769754473\n",
      "SEED: 6 ,FOLD: 1, EPOCH: 20, valid_loss: 0.016267708502709866\n",
      "SEED: 6, FOLD: 1, EPOCH: 21, train_loss: 0.01745961873313865\n",
      "SEED: 6 ,FOLD: 1, EPOCH: 21, valid_loss: 0.01623868505255534\n",
      "SEED: 6, FOLD: 1, EPOCH: 22, train_loss: 0.017034962546785135\n",
      "SEED: 6 ,FOLD: 1, EPOCH: 22, valid_loss: 0.01615521039527196\n",
      "SEED: 6, FOLD: 1, EPOCH: 23, train_loss: 0.016633049144434767\n",
      "SEED: 6 ,FOLD: 1, EPOCH: 23, valid_loss: 0.016137634618924215\n",
      "SEED: 6, FOLD: 1, EPOCH: 24, train_loss: 0.016324987207111473\n",
      "SEED: 6 ,FOLD: 1, EPOCH: 24, valid_loss: 0.01613600695362458\n",
      "SEED: 6, FOLD: 1, EPOCH: 25, train_loss: 0.016217578731074527\n",
      "SEED: 6 ,FOLD: 1, EPOCH: 25, valid_loss: 0.0160973290554606\n",
      "SEED: 6, FOLD: 2, EPOCH: 0, train_loss: 0.5894512762693135\n",
      "SEED: 6 ,FOLD: 2, EPOCH: 0, valid_loss: 0.09395725108109988\n",
      "SEED: 6, FOLD: 2, EPOCH: 1, train_loss: 0.02959106638524178\n",
      "SEED: 6 ,FOLD: 2, EPOCH: 1, valid_loss: 0.019936582933251675\n",
      "SEED: 6, FOLD: 2, EPOCH: 2, train_loss: 0.021882540949091717\n",
      "SEED: 6 ,FOLD: 2, EPOCH: 2, valid_loss: 0.028420568085633792\n",
      "SEED: 6, FOLD: 2, EPOCH: 3, train_loss: 0.021809037346896286\n",
      "SEED: 6 ,FOLD: 2, EPOCH: 3, valid_loss: 0.017856173790418185\n",
      "SEED: 6, FOLD: 2, EPOCH: 4, train_loss: 0.020596860605921294\n",
      "SEED: 6 ,FOLD: 2, EPOCH: 4, valid_loss: 0.017576611529176053\n",
      "SEED: 6, FOLD: 2, EPOCH: 5, train_loss: 0.020250559809642868\n",
      "SEED: 6 ,FOLD: 2, EPOCH: 5, valid_loss: 0.017349203332112387\n",
      "SEED: 6, FOLD: 2, EPOCH: 6, train_loss: 0.02008912994249447\n",
      "SEED: 6 ,FOLD: 2, EPOCH: 6, valid_loss: 0.017316431380235232\n",
      "SEED: 6, FOLD: 2, EPOCH: 7, train_loss: 0.020070207028372866\n",
      "SEED: 6 ,FOLD: 2, EPOCH: 7, valid_loss: 0.01725026349035593\n",
      "SEED: 6, FOLD: 2, EPOCH: 8, train_loss: 0.020029199989260855\n",
      "SEED: 6 ,FOLD: 2, EPOCH: 8, valid_loss: 0.017290567262814596\n",
      "SEED: 6, FOLD: 2, EPOCH: 9, train_loss: 0.020008132415446075\n",
      "SEED: 6 ,FOLD: 2, EPOCH: 9, valid_loss: 0.01702947112230154\n",
      "SEED: 6, FOLD: 2, EPOCH: 10, train_loss: 0.019941899724103308\n",
      "SEED: 6 ,FOLD: 2, EPOCH: 10, valid_loss: 0.01702975696669175\n",
      "SEED: 6, FOLD: 2, EPOCH: 11, train_loss: 0.019832446139205148\n",
      "SEED: 6 ,FOLD: 2, EPOCH: 11, valid_loss: 0.016929719167260025\n",
      "SEED: 6, FOLD: 2, EPOCH: 12, train_loss: 0.01978953872379419\n",
      "SEED: 6 ,FOLD: 2, EPOCH: 12, valid_loss: 0.016962304424781065\n",
      "SEED: 6, FOLD: 2, EPOCH: 13, train_loss: 0.019657331795708555\n",
      "SEED: 6 ,FOLD: 2, EPOCH: 13, valid_loss: 0.016800911523974858\n",
      "SEED: 6, FOLD: 2, EPOCH: 14, train_loss: 0.019512528905997407\n",
      "SEED: 6 ,FOLD: 2, EPOCH: 14, valid_loss: 0.016856348858429834\n",
      "SEED: 6, FOLD: 2, EPOCH: 15, train_loss: 0.01934941118029324\n",
      "SEED: 6 ,FOLD: 2, EPOCH: 15, valid_loss: 0.016747997643855903\n",
      "SEED: 6, FOLD: 2, EPOCH: 16, train_loss: 0.01925792748964316\n",
      "SEED: 6 ,FOLD: 2, EPOCH: 16, valid_loss: 0.0165114295310699\n",
      "SEED: 6, FOLD: 2, EPOCH: 17, train_loss: 0.018975132874943113\n",
      "SEED: 6 ,FOLD: 2, EPOCH: 17, valid_loss: 0.016511049264898665\n",
      "SEED: 6, FOLD: 2, EPOCH: 18, train_loss: 0.018663392452573455\n",
      "SEED: 6 ,FOLD: 2, EPOCH: 18, valid_loss: 0.016316323182903804\n",
      "SEED: 6, FOLD: 2, EPOCH: 19, train_loss: 0.018369988664179236\n",
      "SEED: 6 ,FOLD: 2, EPOCH: 19, valid_loss: 0.016254593904774923\n",
      "SEED: 6, FOLD: 2, EPOCH: 20, train_loss: 0.017956199199968093\n",
      "SEED: 6 ,FOLD: 2, EPOCH: 20, valid_loss: 0.016096942628232334\n",
      "SEED: 6, FOLD: 2, EPOCH: 21, train_loss: 0.01752118154655437\n",
      "SEED: 6 ,FOLD: 2, EPOCH: 21, valid_loss: 0.016088691325141832\n",
      "SEED: 6, FOLD: 2, EPOCH: 22, train_loss: 0.017098863332255465\n",
      "SEED: 6 ,FOLD: 2, EPOCH: 22, valid_loss: 0.01607049607600157\n",
      "SEED: 6, FOLD: 2, EPOCH: 23, train_loss: 0.01667729568843906\n",
      "SEED: 6 ,FOLD: 2, EPOCH: 23, valid_loss: 0.01602652518508526\n",
      "SEED: 6, FOLD: 2, EPOCH: 24, train_loss: 0.016387803870177752\n",
      "SEED: 6 ,FOLD: 2, EPOCH: 24, valid_loss: 0.016010144152320348\n",
      "SEED: 6, FOLD: 2, EPOCH: 25, train_loss: 0.016258205941601378\n",
      "SEED: 6 ,FOLD: 2, EPOCH: 25, valid_loss: 0.016009924718393728\n",
      "SEED: 6, FOLD: 3, EPOCH: 0, train_loss: 0.5888522180753786\n",
      "SEED: 6 ,FOLD: 3, EPOCH: 0, valid_loss: 0.09810987172218469\n",
      "SEED: 6, FOLD: 3, EPOCH: 1, train_loss: 0.030153159958285256\n",
      "SEED: 6 ,FOLD: 3, EPOCH: 1, valid_loss: 0.019984490453050688\n",
      "SEED: 6, FOLD: 3, EPOCH: 2, train_loss: 0.02192134165985359\n",
      "SEED: 6 ,FOLD: 3, EPOCH: 2, valid_loss: 0.01820210782954326\n",
      "SEED: 6, FOLD: 3, EPOCH: 3, train_loss: 0.021129580667695484\n",
      "SEED: 6 ,FOLD: 3, EPOCH: 3, valid_loss: 0.018377595366193697\n",
      "SEED: 6, FOLD: 3, EPOCH: 4, train_loss: 0.020474385872885987\n",
      "SEED: 6 ,FOLD: 3, EPOCH: 4, valid_loss: 0.017389824184087608\n",
      "SEED: 6, FOLD: 3, EPOCH: 5, train_loss: 0.020245390667303187\n",
      "SEED: 6 ,FOLD: 3, EPOCH: 5, valid_loss: 0.017132977310281534\n",
      "SEED: 6, FOLD: 3, EPOCH: 6, train_loss: 0.020085106377263327\n",
      "SEED: 6 ,FOLD: 3, EPOCH: 6, valid_loss: 0.017168265839035694\n",
      "SEED: 6, FOLD: 3, EPOCH: 7, train_loss: 0.020026079681072687\n",
      "SEED: 6 ,FOLD: 3, EPOCH: 7, valid_loss: 0.017223957209632948\n",
      "SEED: 6, FOLD: 3, EPOCH: 8, train_loss: 0.02004997424680639\n",
      "SEED: 6 ,FOLD: 3, EPOCH: 8, valid_loss: 0.017082215215151127\n",
      "SEED: 6, FOLD: 3, EPOCH: 9, train_loss: 0.02008761971484165\n",
      "SEED: 6 ,FOLD: 3, EPOCH: 9, valid_loss: 0.017191780587801568\n",
      "SEED: 6, FOLD: 3, EPOCH: 10, train_loss: 0.01999274656377934\n",
      "SEED: 6 ,FOLD: 3, EPOCH: 10, valid_loss: 0.01705925754056527\n",
      "SEED: 6, FOLD: 3, EPOCH: 11, train_loss: 0.01988198411827152\n",
      "SEED: 6 ,FOLD: 3, EPOCH: 11, valid_loss: 0.017356568660873633\n",
      "SEED: 6, FOLD: 3, EPOCH: 12, train_loss: 0.01983466573260926\n",
      "SEED: 6 ,FOLD: 3, EPOCH: 12, valid_loss: 0.016950994443434935\n",
      "SEED: 6, FOLD: 3, EPOCH: 13, train_loss: 0.01976089786134056\n",
      "SEED: 6 ,FOLD: 3, EPOCH: 13, valid_loss: 0.016836310378634013\n",
      "SEED: 6, FOLD: 3, EPOCH: 14, train_loss: 0.01963198942610541\n",
      "SEED: 6 ,FOLD: 3, EPOCH: 14, valid_loss: 0.016825981724720735\n",
      "SEED: 6, FOLD: 3, EPOCH: 15, train_loss: 0.019475390505347703\n",
      "SEED: 6 ,FOLD: 3, EPOCH: 15, valid_loss: 0.016675535446176164\n",
      "SEED: 6, FOLD: 3, EPOCH: 16, train_loss: 0.019263890269841696\n",
      "SEED: 6 ,FOLD: 3, EPOCH: 16, valid_loss: 0.01664709371442978\n",
      "SEED: 6, FOLD: 3, EPOCH: 17, train_loss: 0.018982632287048006\n",
      "SEED: 6 ,FOLD: 3, EPOCH: 17, valid_loss: 0.016564707486675337\n",
      "SEED: 6, FOLD: 3, EPOCH: 18, train_loss: 0.018742518726031523\n",
      "SEED: 6 ,FOLD: 3, EPOCH: 18, valid_loss: 0.016383566463795993\n",
      "SEED: 6, FOLD: 3, EPOCH: 19, train_loss: 0.018427372582860896\n",
      "SEED: 6 ,FOLD: 3, EPOCH: 19, valid_loss: 0.0163307895597357\n",
      "SEED: 6, FOLD: 3, EPOCH: 20, train_loss: 0.01804717967437731\n",
      "SEED: 6 ,FOLD: 3, EPOCH: 20, valid_loss: 0.016114755247074824\n",
      "SEED: 6, FOLD: 3, EPOCH: 21, train_loss: 0.01768886625162653\n",
      "SEED: 6 ,FOLD: 3, EPOCH: 21, valid_loss: 0.01612809501015223\n",
      "SEED: 6, FOLD: 3, EPOCH: 22, train_loss: 0.017230365727398847\n",
      "SEED: 6 ,FOLD: 3, EPOCH: 22, valid_loss: 0.016071664885832712\n",
      "SEED: 6, FOLD: 3, EPOCH: 23, train_loss: 0.01692032503165506\n",
      "SEED: 6 ,FOLD: 3, EPOCH: 23, valid_loss: 0.016015333410065908\n",
      "SEED: 6, FOLD: 3, EPOCH: 24, train_loss: 0.016651312128414173\n",
      "SEED: 6 ,FOLD: 3, EPOCH: 24, valid_loss: 0.016022608543817814\n",
      "SEED: 6, FOLD: 3, EPOCH: 25, train_loss: 0.01649188359796598\n",
      "SEED: 6 ,FOLD: 3, EPOCH: 25, valid_loss: 0.016034404245706704\n",
      "SEED: 6, FOLD: 4, EPOCH: 0, train_loss: 0.5862829118362956\n",
      "SEED: 6 ,FOLD: 4, EPOCH: 0, valid_loss: 0.08729425416542934\n",
      "SEED: 6, FOLD: 4, EPOCH: 1, train_loss: 0.029742676991264563\n",
      "SEED: 6 ,FOLD: 4, EPOCH: 1, valid_loss: 0.020185331599070475\n",
      "SEED: 6, FOLD: 4, EPOCH: 2, train_loss: 0.02186540116530818\n",
      "SEED: 6 ,FOLD: 4, EPOCH: 2, valid_loss: 0.018928741319821432\n",
      "SEED: 6, FOLD: 4, EPOCH: 3, train_loss: 0.02113969440295084\n",
      "SEED: 6 ,FOLD: 4, EPOCH: 3, valid_loss: 0.019045312530719317\n",
      "SEED: 6, FOLD: 4, EPOCH: 4, train_loss: 0.020650340571395448\n",
      "SEED: 6 ,FOLD: 4, EPOCH: 4, valid_loss: 0.017827131140690584\n",
      "SEED: 6, FOLD: 4, EPOCH: 5, train_loss: 0.020167240948491805\n",
      "SEED: 6 ,FOLD: 4, EPOCH: 5, valid_loss: 0.017328950934685193\n",
      "SEED: 6, FOLD: 4, EPOCH: 6, train_loss: 0.019999509350069472\n",
      "SEED: 6 ,FOLD: 4, EPOCH: 6, valid_loss: 0.01745008075466523\n",
      "SEED: 6, FOLD: 4, EPOCH: 7, train_loss: 0.019999316415271244\n",
      "SEED: 6 ,FOLD: 4, EPOCH: 7, valid_loss: 0.01722045959188388\n",
      "SEED: 6, FOLD: 4, EPOCH: 8, train_loss: 0.019939596764743328\n",
      "SEED: 6 ,FOLD: 4, EPOCH: 8, valid_loss: 0.01707678918655102\n",
      "SEED: 6, FOLD: 4, EPOCH: 9, train_loss: 0.019923033998221963\n",
      "SEED: 6 ,FOLD: 4, EPOCH: 9, valid_loss: 0.01728203548834874\n",
      "SEED: 6, FOLD: 4, EPOCH: 10, train_loss: 0.019957813232935762\n",
      "SEED: 6 ,FOLD: 4, EPOCH: 10, valid_loss: 0.017345166836793605\n",
      "SEED: 6, FOLD: 4, EPOCH: 11, train_loss: 0.019846120849251747\n",
      "SEED: 6 ,FOLD: 4, EPOCH: 11, valid_loss: 0.017153936653183058\n",
      "SEED: 6, FOLD: 4, EPOCH: 12, train_loss: 0.019784626953706547\n",
      "SEED: 6 ,FOLD: 4, EPOCH: 12, valid_loss: 0.017009185913663644\n",
      "SEED: 6, FOLD: 4, EPOCH: 13, train_loss: 0.019693415989545552\n",
      "SEED: 6 ,FOLD: 4, EPOCH: 13, valid_loss: 0.016821006169685952\n",
      "SEED: 6, FOLD: 4, EPOCH: 14, train_loss: 0.01950181756369971\n",
      "SEED: 6 ,FOLD: 4, EPOCH: 14, valid_loss: 0.016805982288832847\n",
      "SEED: 6, FOLD: 4, EPOCH: 15, train_loss: 0.019362002007059148\n",
      "SEED: 6 ,FOLD: 4, EPOCH: 15, valid_loss: 0.016791269899560854\n",
      "SEED: 6, FOLD: 4, EPOCH: 16, train_loss: 0.019235097652150167\n",
      "SEED: 6 ,FOLD: 4, EPOCH: 16, valid_loss: 0.016882504551456526\n",
      "SEED: 6, FOLD: 4, EPOCH: 17, train_loss: 0.018986742238740664\n",
      "SEED: 6 ,FOLD: 4, EPOCH: 17, valid_loss: 0.016533478664664123\n",
      "SEED: 6, FOLD: 4, EPOCH: 18, train_loss: 0.01863335906150373\n",
      "SEED: 6 ,FOLD: 4, EPOCH: 18, valid_loss: 0.01653133024676488\n",
      "SEED: 6, FOLD: 4, EPOCH: 19, train_loss: 0.01834090001176338\n",
      "SEED: 6 ,FOLD: 4, EPOCH: 19, valid_loss: 0.01646302045824436\n",
      "SEED: 6, FOLD: 4, EPOCH: 20, train_loss: 0.017997111294519256\n",
      "SEED: 6 ,FOLD: 4, EPOCH: 20, valid_loss: 0.01638799110570779\n",
      "SEED: 6, FOLD: 4, EPOCH: 21, train_loss: 0.017566007864032243\n",
      "SEED: 6 ,FOLD: 4, EPOCH: 21, valid_loss: 0.016339004254685\n",
      "SEED: 6, FOLD: 4, EPOCH: 22, train_loss: 0.01714390773024108\n",
      "SEED: 6 ,FOLD: 4, EPOCH: 22, valid_loss: 0.016243686612982016\n",
      "SEED: 6, FOLD: 4, EPOCH: 23, train_loss: 0.016753988264984376\n",
      "SEED: 6 ,FOLD: 4, EPOCH: 23, valid_loss: 0.016217974587701835\n",
      "SEED: 6, FOLD: 4, EPOCH: 24, train_loss: 0.016458150892946367\n",
      "SEED: 6 ,FOLD: 4, EPOCH: 24, valid_loss: 0.01620774816435117\n",
      "SEED: 6, FOLD: 4, EPOCH: 25, train_loss: 0.016326533252927097\n",
      "SEED: 6 ,FOLD: 4, EPOCH: 25, valid_loss: 0.01617850699963478\n",
      "SEED: 6, FOLD: 5, EPOCH: 0, train_loss: 0.5885837397261245\n",
      "SEED: 6 ,FOLD: 5, EPOCH: 0, valid_loss: 0.08563318791297767\n",
      "SEED: 6, FOLD: 5, EPOCH: 1, train_loss: 0.029803474660258036\n",
      "SEED: 6 ,FOLD: 5, EPOCH: 1, valid_loss: 0.020114627165290024\n",
      "SEED: 6, FOLD: 5, EPOCH: 2, train_loss: 0.02183559101477668\n",
      "SEED: 6 ,FOLD: 5, EPOCH: 2, valid_loss: 0.018333090755801935\n",
      "SEED: 6, FOLD: 5, EPOCH: 3, train_loss: 0.021265177182047755\n",
      "SEED: 6 ,FOLD: 5, EPOCH: 3, valid_loss: 0.017689644788893368\n",
      "SEED: 6, FOLD: 5, EPOCH: 4, train_loss: 0.0206567975063179\n",
      "SEED: 6 ,FOLD: 5, EPOCH: 4, valid_loss: 0.017177050288480062\n",
      "SEED: 6, FOLD: 5, EPOCH: 5, train_loss: 0.020128162074330692\n",
      "SEED: 6 ,FOLD: 5, EPOCH: 5, valid_loss: 0.01729736584596909\n",
      "SEED: 6, FOLD: 5, EPOCH: 6, train_loss: 0.020077607695113967\n",
      "SEED: 6 ,FOLD: 5, EPOCH: 6, valid_loss: 0.017499639581029233\n",
      "SEED: 6, FOLD: 5, EPOCH: 7, train_loss: 0.01999939650901266\n",
      "SEED: 6 ,FOLD: 5, EPOCH: 7, valid_loss: 0.01714555252916538\n",
      "SEED: 6, FOLD: 5, EPOCH: 8, train_loss: 0.019945089831142813\n",
      "SEED: 6 ,FOLD: 5, EPOCH: 8, valid_loss: 0.01707859767171053\n",
      "SEED: 6, FOLD: 5, EPOCH: 9, train_loss: 0.019979214773991623\n",
      "SEED: 6 ,FOLD: 5, EPOCH: 9, valid_loss: 0.017354453484026287\n",
      "SEED: 6, FOLD: 5, EPOCH: 10, train_loss: 0.019906539067223266\n",
      "SEED: 6 ,FOLD: 5, EPOCH: 10, valid_loss: 0.01723445249864688\n",
      "SEED: 6, FOLD: 5, EPOCH: 11, train_loss: 0.019859384543992376\n",
      "SEED: 6 ,FOLD: 5, EPOCH: 11, valid_loss: 0.0171014190149995\n",
      "SEED: 6, FOLD: 5, EPOCH: 12, train_loss: 0.0197598068798716\n",
      "SEED: 6 ,FOLD: 5, EPOCH: 12, valid_loss: 0.016925872733386662\n",
      "SEED: 6, FOLD: 5, EPOCH: 13, train_loss: 0.019634697838006792\n",
      "SEED: 6 ,FOLD: 5, EPOCH: 13, valid_loss: 0.016934004827187613\n",
      "SEED: 6, FOLD: 5, EPOCH: 14, train_loss: 0.01951152690359064\n",
      "SEED: 6 ,FOLD: 5, EPOCH: 14, valid_loss: 0.016858217807916496\n",
      "SEED: 6, FOLD: 5, EPOCH: 15, train_loss: 0.019349610105761\n",
      "SEED: 6 ,FOLD: 5, EPOCH: 15, valid_loss: 0.016498340866886653\n",
      "SEED: 6, FOLD: 5, EPOCH: 16, train_loss: 0.019160222690049057\n",
      "SEED: 6 ,FOLD: 5, EPOCH: 16, valid_loss: 0.016436770773277834\n",
      "SEED: 6, FOLD: 5, EPOCH: 17, train_loss: 0.018963578308152186\n",
      "SEED: 6 ,FOLD: 5, EPOCH: 17, valid_loss: 0.01634277546635041\n",
      "SEED: 6, FOLD: 5, EPOCH: 18, train_loss: 0.018626953978594894\n",
      "SEED: 6 ,FOLD: 5, EPOCH: 18, valid_loss: 0.016244805704515714\n",
      "SEED: 6, FOLD: 5, EPOCH: 19, train_loss: 0.018337179050856346\n",
      "SEED: 6 ,FOLD: 5, EPOCH: 19, valid_loss: 0.01615450416619961\n",
      "SEED: 6, FOLD: 5, EPOCH: 20, train_loss: 0.01799530175992766\n",
      "SEED: 6 ,FOLD: 5, EPOCH: 20, valid_loss: 0.016129932294671353\n",
      "SEED: 6, FOLD: 5, EPOCH: 21, train_loss: 0.017636459371125377\n",
      "SEED: 6 ,FOLD: 5, EPOCH: 21, valid_loss: 0.016017657059889574\n",
      "SEED: 6, FOLD: 5, EPOCH: 22, train_loss: 0.017186332796071027\n",
      "SEED: 6 ,FOLD: 5, EPOCH: 22, valid_loss: 0.01595767830999998\n",
      "SEED: 6, FOLD: 5, EPOCH: 23, train_loss: 0.01682618199973493\n",
      "SEED: 6 ,FOLD: 5, EPOCH: 23, valid_loss: 0.015934945872196786\n",
      "SEED: 6, FOLD: 5, EPOCH: 24, train_loss: 0.0165502283772504\n",
      "SEED: 6 ,FOLD: 5, EPOCH: 24, valid_loss: 0.0159601761171451\n",
      "SEED: 6, FOLD: 5, EPOCH: 25, train_loss: 0.01644508520493636\n",
      "SEED: 6 ,FOLD: 5, EPOCH: 25, valid_loss: 0.015941904857754707\n",
      "SEED: 6, FOLD: 6, EPOCH: 0, train_loss: 0.5883018879874332\n",
      "SEED: 6 ,FOLD: 6, EPOCH: 0, valid_loss: 0.09228909588777102\n",
      "SEED: 6, FOLD: 6, EPOCH: 1, train_loss: 0.029802568055487966\n",
      "SEED: 6 ,FOLD: 6, EPOCH: 1, valid_loss: 0.019943820742460396\n",
      "SEED: 6, FOLD: 6, EPOCH: 2, train_loss: 0.022075766395475413\n",
      "SEED: 6 ,FOLD: 6, EPOCH: 2, valid_loss: 0.019055529282643244\n",
      "SEED: 6, FOLD: 6, EPOCH: 3, train_loss: 0.021286161994007794\n",
      "SEED: 6 ,FOLD: 6, EPOCH: 3, valid_loss: 0.017680525206602536\n",
      "SEED: 6, FOLD: 6, EPOCH: 4, train_loss: 0.020553624911888224\n",
      "SEED: 6 ,FOLD: 6, EPOCH: 4, valid_loss: 0.017622611843622647\n",
      "SEED: 6, FOLD: 6, EPOCH: 5, train_loss: 0.020222090461568254\n",
      "SEED: 6 ,FOLD: 6, EPOCH: 5, valid_loss: 0.017375880852341652\n",
      "SEED: 6, FOLD: 6, EPOCH: 6, train_loss: 0.020156422101363942\n",
      "SEED: 6 ,FOLD: 6, EPOCH: 6, valid_loss: 0.01708756609318348\n",
      "SEED: 6, FOLD: 6, EPOCH: 7, train_loss: 0.020038400323608437\n",
      "SEED: 6 ,FOLD: 6, EPOCH: 7, valid_loss: 0.017206574861819927\n",
      "SEED: 6, FOLD: 6, EPOCH: 8, train_loss: 0.02001629412375592\n",
      "SEED: 6 ,FOLD: 6, EPOCH: 8, valid_loss: 0.01703877940487403\n",
      "SEED: 6, FOLD: 6, EPOCH: 9, train_loss: 0.01995813111598427\n",
      "SEED: 6 ,FOLD: 6, EPOCH: 9, valid_loss: 0.017173073111245267\n",
      "SEED: 6, FOLD: 6, EPOCH: 10, train_loss: 0.019925780191614822\n",
      "SEED: 6 ,FOLD: 6, EPOCH: 10, valid_loss: 0.01698032386887532\n",
      "SEED: 6, FOLD: 6, EPOCH: 11, train_loss: 0.019882221177623078\n",
      "SEED: 6 ,FOLD: 6, EPOCH: 11, valid_loss: 0.017002810437518816\n",
      "SEED: 6, FOLD: 6, EPOCH: 12, train_loss: 0.019724984401585283\n",
      "SEED: 6 ,FOLD: 6, EPOCH: 12, valid_loss: 0.017010041154347934\n",
      "SEED: 6, FOLD: 6, EPOCH: 13, train_loss: 0.019624295392753306\n",
      "SEED: 6 ,FOLD: 6, EPOCH: 13, valid_loss: 0.016892244251301654\n",
      "SEED: 6, FOLD: 6, EPOCH: 14, train_loss: 0.019563022422025334\n",
      "SEED: 6 ,FOLD: 6, EPOCH: 14, valid_loss: 0.016829021704884674\n",
      "SEED: 6, FOLD: 6, EPOCH: 15, train_loss: 0.019361212119661474\n",
      "SEED: 6 ,FOLD: 6, EPOCH: 15, valid_loss: 0.01659409157358683\n",
      "SEED: 6, FOLD: 6, EPOCH: 16, train_loss: 0.019151415600365884\n",
      "SEED: 6 ,FOLD: 6, EPOCH: 16, valid_loss: 0.016491413904497258\n",
      "SEED: 6, FOLD: 6, EPOCH: 17, train_loss: 0.018952587090835377\n",
      "SEED: 6 ,FOLD: 6, EPOCH: 17, valid_loss: 0.01660248400786748\n",
      "SEED: 6, FOLD: 6, EPOCH: 18, train_loss: 0.018637832631734578\n",
      "SEED: 6 ,FOLD: 6, EPOCH: 18, valid_loss: 0.01639925022251331\n",
      "SEED: 6, FOLD: 6, EPOCH: 19, train_loss: 0.018366987791818543\n",
      "SEED: 6 ,FOLD: 6, EPOCH: 19, valid_loss: 0.01627491579319422\n",
      "SEED: 6, FOLD: 6, EPOCH: 20, train_loss: 0.017989608081611427\n",
      "SEED: 6 ,FOLD: 6, EPOCH: 20, valid_loss: 0.016289057281727973\n",
      "SEED: 6, FOLD: 6, EPOCH: 21, train_loss: 0.017575296120265045\n",
      "SEED: 6 ,FOLD: 6, EPOCH: 21, valid_loss: 0.01622162924076502\n",
      "SEED: 6, FOLD: 6, EPOCH: 22, train_loss: 0.0171257815751675\n",
      "SEED: 6 ,FOLD: 6, EPOCH: 22, valid_loss: 0.01618229361394277\n",
      "SEED: 6, FOLD: 6, EPOCH: 23, train_loss: 0.01674584955027377\n",
      "SEED: 6 ,FOLD: 6, EPOCH: 23, valid_loss: 0.016176092581680186\n",
      "SEED: 6, FOLD: 6, EPOCH: 24, train_loss: 0.016470267651350918\n",
      "SEED: 6 ,FOLD: 6, EPOCH: 24, valid_loss: 0.016129735212486524\n",
      "SEED: 6, FOLD: 6, EPOCH: 25, train_loss: 0.016371957756377554\n",
      "SEED: 6 ,FOLD: 6, EPOCH: 25, valid_loss: 0.01611400846965038\n"
     ]
    }
   ],
   "source": [
    "# Averaging on multiple SEEDS\n",
    "\n",
    "SEED = [0,1,2,3,4,5,6]  #<-- 7 seeds\n",
    "oof = np.zeros((len(train), len(target_cols)))\n",
    "predictions = np.zeros((len(test), len(target_cols)))\n",
    "\n",
    "for seed in SEED:\n",
    "    \n",
    "    oof_, predictions_ = run_k_fold(NFOLDS, seed)\n",
    "    oof += oof_ / len(SEED)\n",
    "    predictions += predictions_ / len(SEED)\n",
    "\n",
    "train[target_cols] = oof\n",
    "test[target_cols] = predictions"
   ]
  },
  {
   "cell_type": "code",
   "execution_count": 130,
   "metadata": {
    "execution": {
     "iopub.execute_input": "2020-11-28T15:30:28.591922Z",
     "iopub.status.busy": "2020-11-28T15:30:28.590451Z",
     "iopub.status.idle": "2020-11-28T15:30:30.112780Z",
     "shell.execute_reply": "2020-11-28T15:30:30.113531Z"
    },
    "papermill": {
     "duration": 2.595975,
     "end_time": "2020-11-28T15:30:30.113682",
     "exception": false,
     "start_time": "2020-11-28T15:30:27.517707",
     "status": "completed"
    },
    "tags": []
   },
   "outputs": [
    {
     "name": "stdout",
     "output_type": "stream",
     "text": [
      "CV log_loss:  0.01459190242336448\n"
     ]
    }
   ],
   "source": [
    "valid_results = train_targets_scored.drop(columns=target_cols).merge(train[['sig_id']+target_cols], on='sig_id', how='left').fillna(0)\n",
    "\n",
    "\n",
    "y_true = train_targets_scored[target_cols].values\n",
    "y_pred = valid_results[target_cols].values\n",
    "\n",
    "score = 0\n",
    "for i in range(len(target_cols)):\n",
    "    score_ = log_loss(y_true[:, i], y_pred[:, i])\n",
    "    score += score_ / len(target_cols)\n",
    "    \n",
    "print(\"CV log_loss: \", score)"
   ]
  },
  {
   "cell_type": "code",
   "execution_count": 131,
   "metadata": {
    "execution": {
     "iopub.execute_input": "2020-11-28T15:30:32.072284Z",
     "iopub.status.busy": "2020-11-28T15:30:32.070664Z",
     "iopub.status.idle": "2020-11-28T15:30:34.140134Z",
     "shell.execute_reply": "2020-11-28T15:30:34.139517Z"
    },
    "papermill": {
     "duration": 3.064752,
     "end_time": "2020-11-28T15:30:34.140248",
     "exception": false,
     "start_time": "2020-11-28T15:30:31.075496",
     "status": "completed"
    },
    "tags": []
   },
   "outputs": [],
   "source": [
    "sub3 = sample_submission.drop(columns=target_cols).merge(test[['sig_id']+target_cols], on='sig_id', how='left').fillna(0)\n",
    "sub3.to_csv('sub3.csv', index=False)"
   ]
  },
  {
   "cell_type": "code",
   "execution_count": null,
   "metadata": {
    "papermill": {
     "duration": 1.346364,
     "end_time": "2020-11-28T15:30:36.571288",
     "exception": false,
     "start_time": "2020-11-28T15:30:35.224924",
     "status": "completed"
    },
    "tags": []
   },
   "outputs": [],
   "source": []
  },
  {
   "cell_type": "code",
   "execution_count": 132,
   "metadata": {
    "execution": {
     "iopub.execute_input": "2020-11-28T15:30:38.611661Z",
     "iopub.status.busy": "2020-11-28T15:30:38.610654Z",
     "iopub.status.idle": "2020-11-28T15:30:47.460051Z",
     "shell.execute_reply": "2020-11-28T15:30:47.459017Z"
    },
    "papermill": {
     "duration": 9.842503,
     "end_time": "2020-11-28T15:30:47.460185",
     "exception": false,
     "start_time": "2020-11-28T15:30:37.617682",
     "status": "completed"
    },
    "tags": []
   },
   "outputs": [
    {
     "name": "stdout",
     "output_type": "stream",
     "text": [
      "Looking in links: /kaggle/input/pytorchtabnet/pytorch_tabnet-2.0.0-py3-none-any.whl\r\n",
      "Processing /kaggle/input/pytorchtabnet/pytorch_tabnet-2.0.0-py3-none-any.whl\r\n",
      "Requirement already satisfied: scikit_learn>0.21 in /opt/conda/lib/python3.7/site-packages (from pytorch-tabnet) (0.23.2)\r\n",
      "Requirement already satisfied: numpy<2.0,>=1.17 in /opt/conda/lib/python3.7/site-packages (from pytorch-tabnet) (1.18.5)\r\n",
      "Requirement already satisfied: scipy>1.4 in /opt/conda/lib/python3.7/site-packages (from pytorch-tabnet) (1.4.1)\r\n",
      "Requirement already satisfied: tqdm<5.0,>=4.36 in /opt/conda/lib/python3.7/site-packages (from pytorch-tabnet) (4.45.0)\r\n",
      "Requirement already satisfied: torch<2.0,>=1.2 in /opt/conda/lib/python3.7/site-packages (from pytorch-tabnet) (1.6.0)\r\n",
      "Requirement already satisfied: threadpoolctl>=2.0.0 in /opt/conda/lib/python3.7/site-packages (from scikit_learn>0.21->pytorch-tabnet) (2.1.0)\r\n",
      "Requirement already satisfied: joblib>=0.11 in /opt/conda/lib/python3.7/site-packages (from scikit_learn>0.21->pytorch-tabnet) (0.14.1)\r\n",
      "Requirement already satisfied: future in /opt/conda/lib/python3.7/site-packages (from torch<2.0,>=1.2->pytorch-tabnet) (0.18.2)\r\n",
      "Installing collected packages: pytorch-tabnet\r\n",
      "Successfully installed pytorch-tabnet-2.0.0\r\n"
     ]
    }
   ],
   "source": [
    "# TabNet\n",
    "!pip install --no-index --find-links /kaggle/input/pytorchtabnet/pytorch_tabnet-2.0.0-py3-none-any.whl pytorch-tabnet"
   ]
  },
  {
   "cell_type": "code",
   "execution_count": 133,
   "metadata": {
    "execution": {
     "iopub.execute_input": "2020-11-28T15:30:49.421639Z",
     "iopub.status.busy": "2020-11-28T15:30:49.420642Z",
     "iopub.status.idle": "2020-11-28T15:31:20.277220Z",
     "shell.execute_reply": "2020-11-28T15:31:20.276605Z"
    },
    "papermill": {
     "duration": 31.844153,
     "end_time": "2020-11-28T15:31:20.277340",
     "exception": false,
     "start_time": "2020-11-28T15:30:48.433187",
     "status": "completed"
    },
    "tags": []
   },
   "outputs": [
    {
     "name": "stdout",
     "output_type": "stream",
     "text": [
      "Processing /kaggle/input/iterative-stratification/iterative-stratification-master\r\n",
      "Requirement already satisfied: numpy in /opt/conda/lib/python3.7/site-packages (from iterative-stratification==0.1.6) (1.18.5)\r\n",
      "Requirement already satisfied: scipy in /opt/conda/lib/python3.7/site-packages (from iterative-stratification==0.1.6) (1.4.1)\r\n",
      "Requirement already satisfied: scikit-learn in /opt/conda/lib/python3.7/site-packages (from iterative-stratification==0.1.6) (0.23.2)\r\n",
      "Requirement already satisfied: threadpoolctl>=2.0.0 in /opt/conda/lib/python3.7/site-packages (from scikit-learn->iterative-stratification==0.1.6) (2.1.0)\r\n",
      "Requirement already satisfied: joblib>=0.11 in /opt/conda/lib/python3.7/site-packages (from scikit-learn->iterative-stratification==0.1.6) (0.14.1)\r\n",
      "Building wheels for collected packages: iterative-stratification\r\n",
      "  Building wheel for iterative-stratification (setup.py) ... \u001b[?25l-\b \b\\\b \bdone\r\n",
      "\u001b[?25h  Created wheel for iterative-stratification: filename=iterative_stratification-0.1.6-py3-none-any.whl size=8401 sha256=cdb3866169f0170a31107eb85d12816dffd81ee295ab5bfef5ba874af5853605\r\n",
      "  Stored in directory: /root/.cache/pip/wheels/b8/47/3f/eb4af42d124f37d23d6f13a4c8bbc32c1d70140e6e1cecb4aa\r\n",
      "Successfully built iterative-stratification\r\n",
      "Installing collected packages: iterative-stratification\r\n",
      "  Attempting uninstall: iterative-stratification\r\n",
      "    Found existing installation: iterative-stratification 0.1.6\r\n",
      "    Uninstalling iterative-stratification-0.1.6:\r\n",
      "      Successfully uninstalled iterative-stratification-0.1.6\r\n",
      "Successfully installed iterative-stratification-0.1.6\r\n"
     ]
    }
   ],
   "source": [
    "!pip install /kaggle/input/iterative-stratification/iterative-stratification-master/\n",
    "from iterstrat.ml_stratifiers import MultilabelStratifiedKFold"
   ]
  },
  {
   "cell_type": "code",
   "execution_count": 134,
   "metadata": {
    "execution": {
     "iopub.execute_input": "2020-11-28T15:31:22.243588Z",
     "iopub.status.busy": "2020-11-28T15:31:22.242564Z",
     "iopub.status.idle": "2020-11-28T15:31:22.261500Z",
     "shell.execute_reply": "2020-11-28T15:31:22.260873Z"
    },
    "papermill": {
     "duration": 1.013672,
     "end_time": "2020-11-28T15:31:22.261616",
     "exception": false,
     "start_time": "2020-11-28T15:31:21.247944",
     "status": "completed"
    },
    "tags": []
   },
   "outputs": [],
   "source": [
    "### General ###\n",
    "import os\n",
    "import copy\n",
    "import tqdm\n",
    "import pickle\n",
    "import random\n",
    "import warnings\n",
    "warnings.filterwarnings(\"ignore\")\n",
    "os.environ[\"CUDA_LAUNCH_BLOCKING\"] = '1'\n",
    "\n",
    "### Data Wrangling ###\n",
    "import numpy as np\n",
    "import pandas as pd\n",
    "from scipy import stats\n",
    "\n",
    "### Machine Learning ###\n",
    "from sklearn import preprocessing\n",
    "from sklearn.metrics import roc_auc_score, log_loss\n",
    "from sklearn.preprocessing import StandardScaler\n",
    "from sklearn.decomposition import PCA\n",
    "\n",
    "### Deep Learning ###\n",
    "import torch\n",
    "from torch import nn\n",
    "import torch.optim as optim\n",
    "from torch.nn import functional as F\n",
    "from torch.nn.modules.loss import _WeightedLoss\n",
    "from torch.utils.data import DataLoader, Dataset\n",
    "from torch.optim.lr_scheduler import ReduceLROnPlateau\n",
    "# Tabnet \n",
    "from pytorch_tabnet.metrics import Metric\n",
    "from pytorch_tabnet.tab_model import TabNetRegressor\n",
    "\n",
    "from pickle import load,dump\n",
    "\n",
    "### Make prettier the prints ###\n",
    "from colorama import Fore\n",
    "c_ = Fore.CYAN\n",
    "m_ = Fore.MAGENTA\n",
    "r_ = Fore.RED\n",
    "b_ = Fore.BLUE\n",
    "y_ = Fore.YELLOW\n",
    "g_ = Fore.GREEN"
   ]
  },
  {
   "cell_type": "code",
   "execution_count": 135,
   "metadata": {
    "execution": {
     "iopub.execute_input": "2020-11-28T15:31:24.481115Z",
     "iopub.status.busy": "2020-11-28T15:31:24.480110Z",
     "iopub.status.idle": "2020-11-28T15:31:24.482647Z",
     "shell.execute_reply": "2020-11-28T15:31:24.483205Z"
    },
    "papermill": {
     "duration": 1.246303,
     "end_time": "2020-11-28T15:31:24.483341",
     "exception": false,
     "start_time": "2020-11-28T15:31:23.237038",
     "status": "completed"
    },
    "tags": []
   },
   "outputs": [],
   "source": [
    "from sklearn.preprocessing import QuantileTransformer"
   ]
  },
  {
   "cell_type": "code",
   "execution_count": 136,
   "metadata": {
    "execution": {
     "iopub.execute_input": "2020-11-28T15:31:26.399371Z",
     "iopub.status.busy": "2020-11-28T15:31:26.398525Z",
     "iopub.status.idle": "2020-11-28T15:31:26.409515Z",
     "shell.execute_reply": "2020-11-28T15:31:26.406194Z"
    },
    "papermill": {
     "duration": 0.976898,
     "end_time": "2020-11-28T15:31:26.409791",
     "exception": false,
     "start_time": "2020-11-28T15:31:25.432893",
     "status": "completed"
    },
    "tags": []
   },
   "outputs": [
    {
     "data": {
      "text/plain": [
       "['train_features.csv',\n",
       " 'train_drug.csv',\n",
       " 'test_features.csv',\n",
       " 'train_targets_nonscored.csv',\n",
       " 'sample_submission.csv',\n",
       " 'train_targets_scored.csv']"
      ]
     },
     "execution_count": 136,
     "metadata": {},
     "output_type": "execute_result"
    }
   ],
   "source": [
    "os.listdir('../input/lish-moa')"
   ]
  },
  {
   "cell_type": "code",
   "execution_count": 137,
   "metadata": {
    "execution": {
     "iopub.execute_input": "2020-11-28T15:31:28.396200Z",
     "iopub.status.busy": "2020-11-28T15:31:28.395255Z",
     "iopub.status.idle": "2020-11-28T15:31:33.640426Z",
     "shell.execute_reply": "2020-11-28T15:31:33.639241Z"
    },
    "papermill": {
     "duration": 6.208799,
     "end_time": "2020-11-28T15:31:33.640574",
     "exception": false,
     "start_time": "2020-11-28T15:31:27.431775",
     "status": "completed"
    },
    "tags": []
   },
   "outputs": [],
   "source": [
    "train_features = pd.read_csv('../input/lish-moa/train_features.csv')\n",
    "train_targets_scored = pd.read_csv('../input/lish-moa/train_targets_scored.csv')\n",
    "train_targets_nonscored = pd.read_csv('../input/lish-moa/train_targets_nonscored.csv')\n",
    "\n",
    "test_features = pd.read_csv('../input/lish-moa/test_features.csv')\n",
    "df = pd.read_csv('../input/lish-moa/sample_submission.csv')"
   ]
  },
  {
   "cell_type": "code",
   "execution_count": 138,
   "metadata": {
    "execution": {
     "iopub.execute_input": "2020-11-28T15:31:35.827595Z",
     "iopub.status.busy": "2020-11-28T15:31:35.825973Z",
     "iopub.status.idle": "2020-11-28T15:31:35.901774Z",
     "shell.execute_reply": "2020-11-28T15:31:35.901142Z"
    },
    "papermill": {
     "duration": 1.162652,
     "end_time": "2020-11-28T15:31:35.901920",
     "exception": false,
     "start_time": "2020-11-28T15:31:34.739268",
     "status": "completed"
    },
    "tags": []
   },
   "outputs": [],
   "source": [
    "train_features2=train_features.copy()\n",
    "test_features2=test_features.copy()"
   ]
  },
  {
   "cell_type": "code",
   "execution_count": 139,
   "metadata": {
    "execution": {
     "iopub.execute_input": "2020-11-28T15:31:37.870328Z",
     "iopub.status.busy": "2020-11-28T15:31:37.868605Z",
     "iopub.status.idle": "2020-11-28T15:31:37.871040Z",
     "shell.execute_reply": "2020-11-28T15:31:37.871554Z"
    },
    "papermill": {
     "duration": 0.997033,
     "end_time": "2020-11-28T15:31:37.871689",
     "exception": false,
     "start_time": "2020-11-28T15:31:36.874656",
     "status": "completed"
    },
    "tags": []
   },
   "outputs": [],
   "source": [
    "GENES = [col for col in train_features.columns if col.startswith('g-')]\n",
    "CELLS = [col for col in train_features.columns if col.startswith('c-')]"
   ]
  },
  {
   "cell_type": "code",
   "execution_count": 140,
   "metadata": {
    "execution": {
     "iopub.execute_input": "2020-11-28T15:31:39.949989Z",
     "iopub.status.busy": "2020-11-28T15:31:39.943013Z",
     "iopub.status.idle": "2020-11-28T15:31:56.670322Z",
     "shell.execute_reply": "2020-11-28T15:31:56.669032Z"
    },
    "papermill": {
     "duration": 17.826185,
     "end_time": "2020-11-28T15:31:56.670490",
     "exception": false,
     "start_time": "2020-11-28T15:31:38.844305",
     "status": "completed"
    },
    "tags": []
   },
   "outputs": [],
   "source": [
    "qt = QuantileTransformer(n_quantiles=100,random_state=42,output_distribution='normal')\n",
    "train_features[GENES+CELLS] = qt.fit_transform(train_features[GENES+CELLS])\n",
    "test_features[GENES+CELLS] = qt.transform(test_features[GENES+CELLS])"
   ]
  },
  {
   "cell_type": "code",
   "execution_count": 141,
   "metadata": {
    "execution": {
     "iopub.execute_input": "2020-11-28T15:31:59.143936Z",
     "iopub.status.busy": "2020-11-28T15:31:59.141513Z",
     "iopub.status.idle": "2020-11-28T15:31:59.147775Z",
     "shell.execute_reply": "2020-11-28T15:31:59.148657Z"
    },
    "papermill": {
     "duration": 1.241642,
     "end_time": "2020-11-28T15:31:59.148924",
     "exception": false,
     "start_time": "2020-11-28T15:31:57.907282",
     "status": "completed"
    },
    "tags": []
   },
   "outputs": [],
   "source": [
    "seed = 42\n",
    "\n",
    "def set_seed(seed):\n",
    "    random.seed(seed)\n",
    "    np.random.seed(seed)\n",
    "    torch.manual_seed(seed)\n",
    "    os.environ[\"PYTHONHASHSEED\"] = str(seed)\n",
    "    \n",
    "    if torch.cuda.is_available():\n",
    "        torch.cuda.manual_seed(seed)\n",
    "        torch.cuda.manual_seed_all(seed)\n",
    "        torch.backends.cudnn.deterministic = True\n",
    "        torch.backends.cudnn.benchmark = False\n",
    "set_seed(seed)"
   ]
  },
  {
   "cell_type": "code",
   "execution_count": 142,
   "metadata": {
    "execution": {
     "iopub.execute_input": "2020-11-28T15:32:01.492116Z",
     "iopub.status.busy": "2020-11-28T15:32:01.491342Z",
     "iopub.status.idle": "2020-11-28T15:32:02.255553Z",
     "shell.execute_reply": "2020-11-28T15:32:02.254374Z"
    },
    "papermill": {
     "duration": 1.788963,
     "end_time": "2020-11-28T15:32:02.255713",
     "exception": false,
     "start_time": "2020-11-28T15:32:00.466750",
     "status": "completed"
    },
    "tags": []
   },
   "outputs": [],
   "source": [
    "# GENES\n",
    "n_comp =505\n",
    "gpca= load(open('../input/pkl-data/gpca.pkl', 'rb'))\n",
    "train2= (gpca.transform(train_features[GENES]))\n",
    "test2 = (gpca.transform(test_features[GENES]))\n",
    "\n",
    "train_gpca = pd.DataFrame(train2, columns=[f'pca_G-{i}' for i in range(n_comp)])\n",
    "test_gpca = pd.DataFrame(test2, columns=[f'pca_G-{i}' for i in range(n_comp)])\n",
    "\n",
    "train_features = pd.concat((train_features, train_gpca), axis=1)\n",
    "test_features = pd.concat((test_features, test_gpca), axis=1)"
   ]
  },
  {
   "cell_type": "code",
   "execution_count": 143,
   "metadata": {
    "execution": {
     "iopub.execute_input": "2020-11-28T15:32:04.464508Z",
     "iopub.status.busy": "2020-11-28T15:32:04.463064Z",
     "iopub.status.idle": "2020-11-28T15:32:04.467494Z",
     "shell.execute_reply": "2020-11-28T15:32:04.468048Z"
    },
    "papermill": {
     "duration": 1.080166,
     "end_time": "2020-11-28T15:32:04.468199",
     "exception": false,
     "start_time": "2020-11-28T15:32:03.388033",
     "status": "completed"
    },
    "tags": []
   },
   "outputs": [
    {
     "data": {
      "text/plain": [
       "(23814, 1381)"
      ]
     },
     "execution_count": 143,
     "metadata": {},
     "output_type": "execute_result"
    }
   ],
   "source": [
    "train_features.shape"
   ]
  },
  {
   "cell_type": "code",
   "execution_count": 144,
   "metadata": {
    "execution": {
     "iopub.execute_input": "2020-11-28T15:32:06.509556Z",
     "iopub.status.busy": "2020-11-28T15:32:06.508450Z",
     "iopub.status.idle": "2020-11-28T15:32:06.914208Z",
     "shell.execute_reply": "2020-11-28T15:32:06.913534Z"
    },
    "papermill": {
     "duration": 1.423072,
     "end_time": "2020-11-28T15:32:06.914344",
     "exception": false,
     "start_time": "2020-11-28T15:32:05.491272",
     "status": "completed"
    },
    "tags": []
   },
   "outputs": [],
   "source": [
    "n_comp =80\n",
    "cpca= load(open('../input/pkl-data/cpca.pkl', 'rb'))\n",
    "train2= (cpca.transform(train_features[CELLS]))\n",
    "test2 = (cpca.transform(test_features[CELLS]))\n",
    "\n",
    "train_cpca = pd.DataFrame(train2, columns=[f'pca_C-{i}' for i in range(n_comp)])\n",
    "test_cpca = pd.DataFrame(test2, columns=[f'pca_C-{i}' for i in range(n_comp)])\n",
    "\n",
    "train_features = pd.concat((train_features, train_cpca), axis=1)\n",
    "test_features = pd.concat((test_features, test_cpca), axis=1)"
   ]
  },
  {
   "cell_type": "code",
   "execution_count": 145,
   "metadata": {
    "execution": {
     "iopub.execute_input": "2020-11-28T15:32:09.208507Z",
     "iopub.status.busy": "2020-11-28T15:32:09.207530Z",
     "iopub.status.idle": "2020-11-28T15:32:09.211089Z",
     "shell.execute_reply": "2020-11-28T15:32:09.211662Z"
    },
    "papermill": {
     "duration": 1.03674,
     "end_time": "2020-11-28T15:32:09.211804",
     "exception": false,
     "start_time": "2020-11-28T15:32:08.175064",
     "status": "completed"
    },
    "tags": []
   },
   "outputs": [
    {
     "data": {
      "text/plain": [
       "(23814, 1461)"
      ]
     },
     "execution_count": 145,
     "metadata": {},
     "output_type": "execute_result"
    }
   ],
   "source": [
    "train_features.shape"
   ]
  },
  {
   "cell_type": "code",
   "execution_count": 146,
   "metadata": {
    "execution": {
     "iopub.execute_input": "2020-11-28T15:32:11.312405Z",
     "iopub.status.busy": "2020-11-28T15:32:11.310840Z",
     "iopub.status.idle": "2020-11-28T15:32:12.098213Z",
     "shell.execute_reply": "2020-11-28T15:32:12.097334Z"
    },
    "papermill": {
     "duration": 1.829321,
     "end_time": "2020-11-28T15:32:12.098360",
     "exception": false,
     "start_time": "2020-11-28T15:32:10.269039",
     "status": "completed"
    },
    "tags": []
   },
   "outputs": [],
   "source": [
    "from sklearn.feature_selection import VarianceThreshold\n",
    "\n",
    "c_n = [f for f in list(train_features.columns) if f not in ['sig_id', 'cp_type', 'cp_time', 'cp_dose']]\n",
    "mask = (train_features[c_n].var() >= 0.84).values\n",
    "tmp = train_features[c_n].loc[:, mask]\n",
    "train_features = pd.concat([train_features[['sig_id', 'cp_type', 'cp_time', 'cp_dose']], tmp], axis=1)\n",
    "tmp = test_features[c_n].loc[:, mask]\n",
    "test_features = pd.concat([test_features[['sig_id', 'cp_type', 'cp_time', 'cp_dose']], tmp], axis=1)"
   ]
  },
  {
   "cell_type": "code",
   "execution_count": 147,
   "metadata": {
    "execution": {
     "iopub.execute_input": "2020-11-28T15:32:14.347402Z",
     "iopub.status.busy": "2020-11-28T15:32:14.346412Z",
     "iopub.status.idle": "2020-11-28T15:32:14.350047Z",
     "shell.execute_reply": "2020-11-28T15:32:14.348125Z"
    },
    "papermill": {
     "duration": 1.001694,
     "end_time": "2020-11-28T15:32:14.350172",
     "exception": false,
     "start_time": "2020-11-28T15:32:13.348478",
     "status": "completed"
    },
    "tags": []
   },
   "outputs": [
    {
     "data": {
      "text/plain": [
       "(23814, 1029)"
      ]
     },
     "execution_count": 147,
     "metadata": {},
     "output_type": "execute_result"
    }
   ],
   "source": [
    "train_features.shape"
   ]
  },
  {
   "cell_type": "code",
   "execution_count": 148,
   "metadata": {
    "execution": {
     "iopub.execute_input": "2020-11-28T15:32:16.425362Z",
     "iopub.status.busy": "2020-11-28T15:32:16.419680Z",
     "iopub.status.idle": "2020-11-28T15:32:17.318537Z",
     "shell.execute_reply": "2020-11-28T15:32:17.317647Z"
    },
    "papermill": {
     "duration": 1.957583,
     "end_time": "2020-11-28T15:32:17.318697",
     "exception": false,
     "start_time": "2020-11-28T15:32:15.361114",
     "status": "completed"
    },
    "tags": []
   },
   "outputs": [],
   "source": [
    "from sklearn.cluster import KMeans\n",
    "def fe_cluster_genes(train, test, n_clusters_g = 31, SEED = 123):\n",
    "    \n",
    "    features_g = GENES\n",
    "    \n",
    "    def create_cluster(train, test, features, kind = 'g', n_clusters = n_clusters_g):\n",
    "        train_ = train[features].copy()\n",
    "        test_ = test[features].copy()\n",
    "        kmeans_genes = load(open('../input/tab-pkl/kmeans_genes.pkl', 'rb'))\n",
    "        train[f'clusters_{kind}'] = kmeans_genes.predict(train_.values)\n",
    "        test[f'clusters_{kind}'] = kmeans_genes.predict(test_.values)\n",
    "        train = pd.get_dummies(train, columns = [f'clusters_{kind}'])\n",
    "        test = pd.get_dummies(test, columns = [f'clusters_{kind}'])\n",
    "        return train, test\n",
    "    \n",
    "    train, test = create_cluster(train, test, features_g, kind = 'g', n_clusters = n_clusters_g)\n",
    "    return train, test\n",
    "\n",
    "train_features,test_features =fe_cluster_genes(train_features,test_features)"
   ]
  },
  {
   "cell_type": "code",
   "execution_count": 149,
   "metadata": {
    "execution": {
     "iopub.execute_input": "2020-11-28T15:32:19.597406Z",
     "iopub.status.busy": "2020-11-28T15:32:19.596275Z",
     "iopub.status.idle": "2020-11-28T15:32:20.056748Z",
     "shell.execute_reply": "2020-11-28T15:32:20.055057Z"
    },
    "papermill": {
     "duration": 1.722948,
     "end_time": "2020-11-28T15:32:20.056884",
     "exception": false,
     "start_time": "2020-11-28T15:32:18.333936",
     "status": "completed"
    },
    "tags": []
   },
   "outputs": [],
   "source": [
    "def fe_cluster_cells(train, test, n_clusters_c =8, SEED = 123):\n",
    "    \n",
    "    features_c = CELLS\n",
    "    \n",
    "    def create_cluster(train, test, features, kind = 'c', n_clusters = n_clusters_c):\n",
    "        train_ = train[features].copy()\n",
    "        test_ = test[features].copy()\n",
    "        kmeans_cells = load(open('../input/tab-pkl/kmeans_cells.pkl', 'rb'))\n",
    "        train[f'clusters_{kind}'] = kmeans_cells.predict(train_.values)\n",
    "        test[f'clusters_{kind}'] = kmeans_cells.predict(test_.values)\n",
    "        train = pd.get_dummies(train, columns = [f'clusters_{kind}'])\n",
    "        test = pd.get_dummies(test, columns = [f'clusters_{kind}'])\n",
    "        return train, test\n",
    "    \n",
    "    train, test = create_cluster(train, test, features_c, kind = 'c', n_clusters = n_clusters_c)\n",
    "    return train, test\n",
    "train_features,test_features=fe_cluster_cells(train_features,test_features)"
   ]
  },
  {
   "cell_type": "code",
   "execution_count": 150,
   "metadata": {
    "execution": {
     "iopub.execute_input": "2020-11-28T15:32:22.131239Z",
     "iopub.status.busy": "2020-11-28T15:32:22.130447Z",
     "iopub.status.idle": "2020-11-28T15:32:22.135712Z",
     "shell.execute_reply": "2020-11-28T15:32:22.135108Z"
    },
    "papermill": {
     "duration": 1.043829,
     "end_time": "2020-11-28T15:32:22.135841",
     "exception": false,
     "start_time": "2020-11-28T15:32:21.092012",
     "status": "completed"
    },
    "tags": []
   },
   "outputs": [
    {
     "data": {
      "text/plain": [
       "153"
      ]
     },
     "execution_count": 150,
     "metadata": {},
     "output_type": "execute_result"
    }
   ],
   "source": [
    "pca_fea=[col for col in train_features.columns if col.startswith('pca_')]\n",
    "len(pca_fea)"
   ]
  },
  {
   "cell_type": "code",
   "execution_count": 151,
   "metadata": {
    "execution": {
     "iopub.execute_input": "2020-11-28T15:32:24.230235Z",
     "iopub.status.busy": "2020-11-28T15:32:24.229014Z",
     "iopub.status.idle": "2020-11-28T15:32:24.629033Z",
     "shell.execute_reply": "2020-11-28T15:32:24.628375Z"
    },
    "papermill": {
     "duration": 1.450895,
     "end_time": "2020-11-28T15:32:24.629164",
     "exception": false,
     "start_time": "2020-11-28T15:32:23.178269",
     "status": "completed"
    },
    "tags": []
   },
   "outputs": [],
   "source": [
    "def fe_cluster_pca(train, test,n_clusters=5,SEED = 42):\n",
    "    pca_fea=[col for col in train.columns if col.startswith('pca_')]\n",
    "    train_ = train[pca_fea].copy()\n",
    "    test_ = test[pca_fea].copy()\n",
    "    kmeans_pca = load(open('../input/tab-pkl/kmeans_pca.pkl', 'rb'))\n",
    "    train[f'clusters_pca'] = kmeans_pca.predict(train[pca_fea].values)\n",
    "    test[f'clusters_pca'] = kmeans_pca.predict(test[pca_fea].values)\n",
    "    train = pd.get_dummies(train, columns = [f'clusters_pca'])\n",
    "    test = pd.get_dummies(test, columns = [f'clusters_pca'])\n",
    "    return train, test\n",
    "train_features,test_features=fe_cluster_pca(train_features,test_features)"
   ]
  },
  {
   "cell_type": "code",
   "execution_count": 152,
   "metadata": {
    "execution": {
     "iopub.execute_input": "2020-11-28T15:32:26.717347Z",
     "iopub.status.busy": "2020-11-28T15:32:26.715699Z",
     "iopub.status.idle": "2020-11-28T15:32:26.718134Z",
     "shell.execute_reply": "2020-11-28T15:32:26.718716Z"
    },
    "papermill": {
     "duration": 1.049835,
     "end_time": "2020-11-28T15:32:26.718885",
     "exception": false,
     "start_time": "2020-11-28T15:32:25.669050",
     "status": "completed"
    },
    "tags": []
   },
   "outputs": [],
   "source": [
    "gsquarecols=['g-574','g-211','g-216','g-0','g-255','g-577','g-153','g-389','g-60','g-370','g-248','g-167','g-203','g-177','g-301','g-332','g-517','g-6','g-744','g-224','g-162','g-3','g-736','g-486','g-283','g-22','g-359','g-361','g-440','g-335','g-106','g-307','g-745','g-146','g-416','g-298','g-666','g-91','g-17','g-549','g-145','g-157','g-768','g-568','g-396']"
   ]
  },
  {
   "cell_type": "code",
   "execution_count": 153,
   "metadata": {
    "execution": {
     "iopub.execute_input": "2020-11-28T15:32:28.821600Z",
     "iopub.status.busy": "2020-11-28T15:32:28.807220Z",
     "iopub.status.idle": "2020-11-28T15:32:35.346953Z",
     "shell.execute_reply": "2020-11-28T15:32:35.345232Z"
    },
    "papermill": {
     "duration": 7.588573,
     "end_time": "2020-11-28T15:32:35.347104",
     "exception": false,
     "start_time": "2020-11-28T15:32:27.758531",
     "status": "completed"
    },
    "tags": []
   },
   "outputs": [],
   "source": [
    "def fe_stats(train, test):\n",
    "    \n",
    "    features_g = [col for col in train_features.columns if col.startswith('g-')]\n",
    "    features_c = [col for col in train_features.columns if col.startswith('c-')]\n",
    "    \n",
    "    for df in train, test:\n",
    "        df['g_sum'] = df[features_g].sum(axis = 1)\n",
    "        df['g_mean'] = df[features_g].mean(axis = 1)\n",
    "        df['g_std'] = df[features_g].std(axis = 1)\n",
    "        df['g_kurt'] = df[features_g].kurtosis(axis = 1)\n",
    "        df['g_skew'] = df[features_g].skew(axis = 1)\n",
    "        df['c_sum'] = df[features_c].sum(axis = 1)\n",
    "        df['c_mean'] = df[features_c].mean(axis = 1)\n",
    "        df['c_std'] = df[features_c].std(axis = 1)\n",
    "        df['c_kurt'] = df[features_c].kurtosis(axis = 1)\n",
    "        df['c_skew'] = df[features_c].skew(axis = 1)\n",
    "        df['gc_sum'] = df[features_g + features_c].sum(axis = 1)\n",
    "        df['gc_mean'] = df[features_g + features_c].mean(axis = 1)\n",
    "        df['gc_std'] = df[features_g + features_c].std(axis = 1)\n",
    "        df['gc_kurt'] = df[features_g + features_c].kurtosis(axis = 1)\n",
    "        df['gc_skew'] = df[features_g + features_c].skew(axis = 1)\n",
    "        df['c52_c42'] = df['c-52'] * df['c-42']\n",
    "        df['c13_c73'] = df['c-13'] * df['c-73']\n",
    "        df['c26_c13'] = df['c-26'] * df['c-13']\n",
    "        df['c33_c6'] = df['c-33'] * df['c-6']\n",
    "        df['c11_c55'] = df['c-11'] * df['c-55']\n",
    "        df['c38_c63'] = df['c-38'] * df['c-63']\n",
    "        df['c38_c94'] = df['c-38'] * df['c-94']\n",
    "        df['c13_c94'] = df['c-13'] * df['c-94']\n",
    "        df['c4_c52'] = df['c-4'] * df['c-52']\n",
    "        df['c4_c42'] = df['c-4'] * df['c-42']\n",
    "        df['c13_c38'] = df['c-13'] * df['c-38']\n",
    "        df['c55_c2'] = df['c-55'] * df['c-2']\n",
    "        df['c55_c4'] = df['c-55'] * df['c-4']\n",
    "        df['c4_c13'] = df['c-4'] * df['c-13']\n",
    "        df['c82_c42'] = df['c-82'] * df['c-42']\n",
    "        df['c66_c42'] = df['c-66'] * df['c-42']\n",
    "        df['c6_c38'] = df['c-6'] * df['c-38']\n",
    "        df['c2_c13'] = df['c-2'] * df['c-13']\n",
    "        df['c62_c42'] = df['c-62'] * df['c-42']\n",
    "        df['c90_c55'] = df['c-90'] * df['c-55']\n",
    "        \n",
    "        \n",
    "        for feature in features_c:\n",
    "             df[f'{feature}_squared'] = df[feature] ** 2     \n",
    "                \n",
    "        for feature in gsquarecols:\n",
    "            df[f'{feature}_squared'] = df[feature] ** 2 \n",
    "    return train, test\n",
    "\n",
    "train_features,test_features=fe_stats(train_features,test_features)"
   ]
  },
  {
   "cell_type": "code",
   "execution_count": 154,
   "metadata": {
    "execution": {
     "iopub.execute_input": "2020-11-28T15:32:37.486763Z",
     "iopub.status.busy": "2020-11-28T15:32:37.485126Z",
     "iopub.status.idle": "2020-11-28T15:32:37.489411Z",
     "shell.execute_reply": "2020-11-28T15:32:37.489950Z"
    },
    "papermill": {
     "duration": 1.047496,
     "end_time": "2020-11-28T15:32:37.490088",
     "exception": false,
     "start_time": "2020-11-28T15:32:36.442592",
     "status": "completed"
    },
    "tags": []
   },
   "outputs": [
    {
     "data": {
      "text/plain": [
       "(23814, 1253)"
      ]
     },
     "execution_count": 154,
     "metadata": {},
     "output_type": "execute_result"
    }
   ],
   "source": [
    "train_features.shape"
   ]
  },
  {
   "cell_type": "code",
   "execution_count": 155,
   "metadata": {
    "execution": {
     "iopub.execute_input": "2020-11-28T15:32:39.568637Z",
     "iopub.status.busy": "2020-11-28T15:32:39.567818Z",
     "iopub.status.idle": "2020-11-28T15:32:39.572162Z",
     "shell.execute_reply": "2020-11-28T15:32:39.572705Z"
    },
    "papermill": {
     "duration": 1.047176,
     "end_time": "2020-11-28T15:32:39.572865",
     "exception": false,
     "start_time": "2020-11-28T15:32:38.525689",
     "status": "completed"
    },
    "tags": []
   },
   "outputs": [
    {
     "data": {
      "text/plain": [
       "(3982, 1253)"
      ]
     },
     "execution_count": 155,
     "metadata": {},
     "output_type": "execute_result"
    }
   ],
   "source": [
    "test_features.shape"
   ]
  },
  {
   "cell_type": "code",
   "execution_count": 156,
   "metadata": {
    "execution": {
     "iopub.execute_input": "2020-11-28T15:32:41.897982Z",
     "iopub.status.busy": "2020-11-28T15:32:41.895424Z",
     "iopub.status.idle": "2020-11-28T15:32:42.663501Z",
     "shell.execute_reply": "2020-11-28T15:32:42.662826Z"
    },
    "papermill": {
     "duration": 1.920509,
     "end_time": "2020-11-28T15:32:42.663628",
     "exception": false,
     "start_time": "2020-11-28T15:32:40.743119",
     "status": "completed"
    },
    "tags": []
   },
   "outputs": [],
   "source": [
    "train = train_features.merge(train_targets_scored, on='sig_id')\n",
    "train = train[train['cp_type']!='ctl_vehicle'].reset_index(drop=True)\n",
    "test = test_features[test_features['cp_type']!='ctl_vehicle'].reset_index(drop=True)\n",
    "\n",
    "target = train[train_targets_scored.columns]"
   ]
  },
  {
   "cell_type": "code",
   "execution_count": 157,
   "metadata": {
    "execution": {
     "iopub.execute_input": "2020-11-28T15:32:44.671143Z",
     "iopub.status.busy": "2020-11-28T15:32:44.669632Z",
     "iopub.status.idle": "2020-11-28T15:32:44.759842Z",
     "shell.execute_reply": "2020-11-28T15:32:44.759254Z"
    },
    "papermill": {
     "duration": 1.095897,
     "end_time": "2020-11-28T15:32:44.759966",
     "exception": false,
     "start_time": "2020-11-28T15:32:43.664069",
     "status": "completed"
    },
    "tags": []
   },
   "outputs": [],
   "source": [
    "train = train.drop('cp_type', axis=1)\n",
    "test = test.drop('cp_type', axis=1)"
   ]
  },
  {
   "cell_type": "code",
   "execution_count": 158,
   "metadata": {
    "execution": {
     "iopub.execute_input": "2020-11-28T15:32:46.774801Z",
     "iopub.status.busy": "2020-11-28T15:32:46.772753Z",
     "iopub.status.idle": "2020-11-28T15:32:46.775648Z",
     "shell.execute_reply": "2020-11-28T15:32:46.776210Z"
    },
    "papermill": {
     "duration": 1.017606,
     "end_time": "2020-11-28T15:32:46.776362",
     "exception": false,
     "start_time": "2020-11-28T15:32:45.758756",
     "status": "completed"
    },
    "tags": []
   },
   "outputs": [],
   "source": [
    "target_cols = target.drop('sig_id', axis=1).columns.values.tolist()"
   ]
  },
  {
   "cell_type": "code",
   "execution_count": 159,
   "metadata": {
    "execution": {
     "iopub.execute_input": "2020-11-28T15:32:48.871468Z",
     "iopub.status.busy": "2020-11-28T15:32:48.870373Z",
     "iopub.status.idle": "2020-11-28T15:32:48.873814Z",
     "shell.execute_reply": "2020-11-28T15:32:48.873224Z"
    },
    "papermill": {
     "duration": 1.029352,
     "end_time": "2020-11-28T15:32:48.873928",
     "exception": false,
     "start_time": "2020-11-28T15:32:47.844576",
     "status": "completed"
    },
    "tags": []
   },
   "outputs": [],
   "source": [
    "target=target[target_cols]"
   ]
  },
  {
   "cell_type": "code",
   "execution_count": 160,
   "metadata": {
    "execution": {
     "iopub.execute_input": "2020-11-28T15:32:51.247059Z",
     "iopub.status.busy": "2020-11-28T15:32:51.245900Z",
     "iopub.status.idle": "2020-11-28T15:32:51.530147Z",
     "shell.execute_reply": "2020-11-28T15:32:51.531190Z"
    },
    "papermill": {
     "duration": 1.643995,
     "end_time": "2020-11-28T15:32:51.531452",
     "exception": false,
     "start_time": "2020-11-28T15:32:49.887457",
     "status": "completed"
    },
    "tags": []
   },
   "outputs": [],
   "source": [
    "train = pd.get_dummies(train, columns=['cp_time','cp_dose'])\n",
    "test_ = pd.get_dummies(test, columns=['cp_time','cp_dose'])"
   ]
  },
  {
   "cell_type": "code",
   "execution_count": 161,
   "metadata": {
    "execution": {
     "iopub.execute_input": "2020-11-28T15:32:54.164224Z",
     "iopub.status.busy": "2020-11-28T15:32:54.163160Z",
     "iopub.status.idle": "2020-11-28T15:32:54.174505Z",
     "shell.execute_reply": "2020-11-28T15:32:54.175825Z"
    },
    "papermill": {
     "duration": 1.36847,
     "end_time": "2020-11-28T15:32:54.176036",
     "exception": false,
     "start_time": "2020-11-28T15:32:52.807566",
     "status": "completed"
    },
    "tags": []
   },
   "outputs": [],
   "source": [
    "feature_cols = [c for c in train.columns if c not in target_cols]\n",
    "feature_cols = [c for c in feature_cols if c not in ['sig_id']]"
   ]
  },
  {
   "cell_type": "code",
   "execution_count": 162,
   "metadata": {
    "execution": {
     "iopub.execute_input": "2020-11-28T15:32:56.300002Z",
     "iopub.status.busy": "2020-11-28T15:32:56.298516Z",
     "iopub.status.idle": "2020-11-28T15:32:56.592751Z",
     "shell.execute_reply": "2020-11-28T15:32:56.594082Z"
    },
    "papermill": {
     "duration": 1.323035,
     "end_time": "2020-11-28T15:32:56.594287",
     "exception": false,
     "start_time": "2020-11-28T15:32:55.271252",
     "status": "completed"
    },
    "tags": []
   },
   "outputs": [],
   "source": [
    "train = train[feature_cols]\n",
    "test = test_[feature_cols]"
   ]
  },
  {
   "cell_type": "code",
   "execution_count": 163,
   "metadata": {
    "execution": {
     "iopub.execute_input": "2020-11-28T15:32:58.985195Z",
     "iopub.status.busy": "2020-11-28T15:32:58.983254Z",
     "iopub.status.idle": "2020-11-28T15:32:58.987859Z",
     "shell.execute_reply": "2020-11-28T15:32:58.986019Z"
    },
    "papermill": {
     "duration": 1.103094,
     "end_time": "2020-11-28T15:32:58.987984",
     "exception": false,
     "start_time": "2020-11-28T15:32:57.884890",
     "status": "completed"
    },
    "tags": []
   },
   "outputs": [
    {
     "data": {
      "text/plain": [
       "(21948, 1254)"
      ]
     },
     "execution_count": 163,
     "metadata": {},
     "output_type": "execute_result"
    }
   ],
   "source": [
    "train.shape"
   ]
  },
  {
   "cell_type": "code",
   "execution_count": 164,
   "metadata": {
    "execution": {
     "iopub.execute_input": "2020-11-28T15:33:01.166726Z",
     "iopub.status.busy": "2020-11-28T15:33:01.165903Z",
     "iopub.status.idle": "2020-11-28T15:33:01.172064Z",
     "shell.execute_reply": "2020-11-28T15:33:01.171506Z"
    },
    "papermill": {
     "duration": 1.083527,
     "end_time": "2020-11-28T15:33:01.172205",
     "exception": false,
     "start_time": "2020-11-28T15:33:00.088678",
     "status": "completed"
    },
    "tags": []
   },
   "outputs": [
    {
     "data": {
      "text/plain": [
       "(3624, 1254)"
      ]
     },
     "execution_count": 164,
     "metadata": {},
     "output_type": "execute_result"
    }
   ],
   "source": [
    "test.shape"
   ]
  },
  {
   "cell_type": "code",
   "execution_count": 165,
   "metadata": {
    "execution": {
     "iopub.execute_input": "2020-11-28T15:33:03.687068Z",
     "iopub.status.busy": "2020-11-28T15:33:03.685637Z",
     "iopub.status.idle": "2020-11-28T15:33:03.701020Z",
     "shell.execute_reply": "2020-11-28T15:33:03.700456Z"
    },
    "papermill": {
     "duration": 1.472049,
     "end_time": "2020-11-28T15:33:03.701130",
     "exception": false,
     "start_time": "2020-11-28T15:33:02.229081",
     "status": "completed"
    },
    "tags": []
   },
   "outputs": [],
   "source": [
    "X_test = test.values"
   ]
  },
  {
   "cell_type": "code",
   "execution_count": 166,
   "metadata": {
    "execution": {
     "iopub.execute_input": "2020-11-28T15:33:05.738300Z",
     "iopub.status.busy": "2020-11-28T15:33:05.737056Z",
     "iopub.status.idle": "2020-11-28T15:33:05.741491Z",
     "shell.execute_reply": "2020-11-28T15:33:05.742093Z"
    },
    "papermill": {
     "duration": 1.015136,
     "end_time": "2020-11-28T15:33:05.742230",
     "exception": false,
     "start_time": "2020-11-28T15:33:04.727094",
     "status": "completed"
    },
    "tags": []
   },
   "outputs": [
    {
     "data": {
      "text/plain": [
       "(3624, 1254)"
      ]
     },
     "execution_count": 166,
     "metadata": {},
     "output_type": "execute_result"
    }
   ],
   "source": [
    "X_test.shape"
   ]
  },
  {
   "cell_type": "code",
   "execution_count": 167,
   "metadata": {
    "execution": {
     "iopub.execute_input": "2020-11-28T15:33:07.761257Z",
     "iopub.status.busy": "2020-11-28T15:33:07.756875Z",
     "iopub.status.idle": "2020-11-28T15:33:07.764591Z",
     "shell.execute_reply": "2020-11-28T15:33:07.764054Z"
    },
    "papermill": {
     "duration": 1.017688,
     "end_time": "2020-11-28T15:33:07.764766",
     "exception": false,
     "start_time": "2020-11-28T15:33:06.747078",
     "status": "completed"
    },
    "tags": []
   },
   "outputs": [],
   "source": [
    "from torch.nn.modules.loss import _WeightedLoss\n",
    "class SmoothBCEwLogits(_WeightedLoss):\n",
    "    def __init__(self, weight=None, reduction='mean', smoothing=0.0):\n",
    "        super().__init__(weight=weight, reduction=reduction)\n",
    "        self.smoothing = smoothing\n",
    "        self.weight = weight\n",
    "        self.reduction = reduction\n",
    "\n",
    "    @staticmethod\n",
    "    def _smooth(targets:torch.Tensor, n_labels:int, smoothing=0.0):\n",
    "        assert 0 <= smoothing < 1\n",
    "        with torch.no_grad():\n",
    "            targets = targets * (1.0 - smoothing) + 0.5 * smoothing\n",
    "        return targets\n",
    "\n",
    "    def forward(self, inputs, targets):\n",
    "        targets = SmoothBCEwLogits._smooth(targets, inputs.size(-1),\n",
    "            self.smoothing)\n",
    "        loss = F.binary_cross_entropy_with_logits(inputs, targets,self.weight)\n",
    "\n",
    "        if  self.reduction == 'sum':\n",
    "            loss = loss.sum()\n",
    "        elif  self.reduction == 'mean':\n",
    "            loss = loss.mean()\n",
    "\n",
    "        return loss"
   ]
  },
  {
   "cell_type": "code",
   "execution_count": 168,
   "metadata": {
    "execution": {
     "iopub.execute_input": "2020-11-28T15:33:09.807639Z",
     "iopub.status.busy": "2020-11-28T15:33:09.806634Z",
     "iopub.status.idle": "2020-11-28T15:33:09.810021Z",
     "shell.execute_reply": "2020-11-28T15:33:09.809486Z"
    },
    "papermill": {
     "duration": 1.012675,
     "end_time": "2020-11-28T15:33:09.810130",
     "exception": false,
     "start_time": "2020-11-28T15:33:08.797455",
     "status": "completed"
    },
    "tags": []
   },
   "outputs": [],
   "source": [
    "class LogitsLogLoss(Metric):\n",
    "\n",
    "    def __init__(self):\n",
    "        self._name = \"logits_ll\"\n",
    "        self._maximize = False\n",
    "\n",
    "    def __call__(self, y_true, y_pred):\n",
    "        logits = 1 / (1 + np.exp(-y_pred))\n",
    "        aux = (1 - y_true) * np.log(1 - logits + 5e-5) + y_true * np.log(logits + 5e-5)\n",
    "        return np.mean(-aux)"
   ]
  },
  {
   "cell_type": "code",
   "execution_count": 169,
   "metadata": {
    "execution": {
     "iopub.execute_input": "2020-11-28T15:33:11.828940Z",
     "iopub.status.busy": "2020-11-28T15:33:11.827879Z",
     "iopub.status.idle": "2020-11-28T15:33:11.830433Z",
     "shell.execute_reply": "2020-11-28T15:33:11.831067Z"
    },
    "papermill": {
     "duration": 1.019633,
     "end_time": "2020-11-28T15:33:11.831202",
     "exception": false,
     "start_time": "2020-11-28T15:33:10.811569",
     "status": "completed"
    },
    "tags": []
   },
   "outputs": [],
   "source": [
    "MAX_EPOCH = 200\n",
    "\n",
    "tabnet_params = dict(\n",
    "    n_d = 32,\n",
    "    n_a = 32,\n",
    "    n_steps = 1,\n",
    "    gamma = 1.3,\n",
    "    lambda_sparse = 0,\n",
    "    optimizer_fn = optim.Adam,\n",
    "    optimizer_params = dict(lr = 2e-2, weight_decay = 1e-5),\n",
    "    mask_type = \"entmax\",\n",
    "    scheduler_params = dict(mode = \"min\", patience = 5, min_lr = 1e-5, factor = 0.9),\n",
    "    scheduler_fn = ReduceLROnPlateau,\n",
    "    seed = seed,\n",
    "    verbose = 10\n",
    ")"
   ]
  },
  {
   "cell_type": "code",
   "execution_count": 170,
   "metadata": {
    "execution": {
     "iopub.execute_input": "2020-11-28T15:33:14.183404Z",
     "iopub.status.busy": "2020-11-28T15:33:14.169140Z",
     "iopub.status.idle": "2020-11-28T15:34:20.959880Z",
     "shell.execute_reply": "2020-11-28T15:34:20.960556Z"
    },
    "papermill": {
     "duration": 68.109225,
     "end_time": "2020-11-28T15:34:20.960764",
     "exception": false,
     "start_time": "2020-11-28T15:33:12.851539",
     "status": "completed"
    },
    "tags": []
   },
   "outputs": [
    {
     "name": "stdout",
     "output_type": "stream",
     "text": [
      "0\n",
      "1\n",
      "  adding: model_params.json (deflated 45%)\r\n",
      "  adding: network.pt (deflated 5%)\r\n",
      "Device used : cuda\n",
      "Device used : cuda\n",
      "2\n",
      "  adding: model_params.json (deflated 45%)\r\n",
      "  adding: network.pt (deflated 6%)\r\n",
      "Device used : cuda\n",
      "Device used : cuda\n",
      "3\n",
      "  adding: model_params.json (deflated 45%)\r\n",
      "  adding: network.pt (deflated 5%)\r\n",
      "Device used : cuda\n",
      "Device used : cuda\n",
      "4\n",
      "  adding: model_params.json (deflated 45%)\r\n",
      "  adding: network.pt (deflated 5%)\r\n",
      "Device used : cuda\n",
      "Device used : cuda\n",
      "5\n",
      "  adding: model_params.json (deflated 45%)\r\n",
      "  adding: network.pt (deflated 6%)\r\n",
      "Device used : cuda\n",
      "Device used : cuda\n",
      "6\n",
      "  adding: model_params.json (deflated 45%)\r\n",
      "  adding: network.pt (deflated 5%)\r\n",
      "Device used : cuda\n",
      "Device used : cuda\n",
      "7\n",
      "  adding: model_params.json (deflated 45%)\r\n",
      "  adding: network.pt (deflated 5%)\r\n",
      "Device used : cuda\n",
      "Device used : cuda\n",
      "8\n",
      "  adding: model_params.json (deflated 45%)\r\n",
      "  adding: network.pt (deflated 6%)\r\n",
      "Device used : cuda\n",
      "Device used : cuda\n",
      "9\n",
      "  adding: model_params.json (deflated 45%)\r\n",
      "  adding: network.pt (deflated 5%)\r\n",
      "Device used : cuda\n",
      "Device used : cuda\n",
      "10\n",
      "  adding: model_params.json (deflated 45%)\r\n",
      "  adding: network.pt (deflated 6%)\r\n",
      "Device used : cuda\n",
      "Device used : cuda\n",
      "1\n",
      "1\n",
      "  adding: model_params.json (deflated 45%)\r\n",
      "  adding: network.pt (deflated 6%)\r\n",
      "Device used : cuda\n",
      "Device used : cuda\n",
      "2\n",
      "  adding: model_params.json (deflated 45%)\r\n",
      "  adding: network.pt (deflated 5%)\r\n",
      "Device used : cuda\n",
      "Device used : cuda\n",
      "3\n",
      "  adding: model_params.json (deflated 45%)\r\n",
      "  adding: network.pt (deflated 5%)\r\n",
      "Device used : cuda\n",
      "Device used : cuda\n",
      "4\n",
      "  adding: model_params.json (deflated 45%)\r\n",
      "  adding: network.pt (deflated 6%)\r\n",
      "Device used : cuda\n",
      "Device used : cuda\n",
      "5\n",
      "  adding: model_params.json (deflated 45%)\r\n",
      "  adding: network.pt (deflated 5%)\r\n",
      "Device used : cuda\n",
      "Device used : cuda\n",
      "6\n",
      "  adding: model_params.json (deflated 45%)\r\n",
      "  adding: network.pt (deflated 5%)\r\n",
      "Device used : cuda\n",
      "Device used : cuda\n",
      "7\n",
      "  adding: model_params.json (deflated 45%)\r\n",
      "  adding: network.pt (deflated 5%)\r\n",
      "Device used : cuda\n",
      "Device used : cuda\n",
      "8\n",
      "  adding: model_params.json (deflated 45%)\r\n",
      "  adding: network.pt (deflated 5%)\r\n",
      "Device used : cuda\n",
      "Device used : cuda\n",
      "9\n",
      "  adding: model_params.json (deflated 45%)\r\n",
      "  adding: network.pt (deflated 6%)\r\n",
      "Device used : cuda\n",
      "Device used : cuda\n",
      "10\n",
      "  adding: model_params.json (deflated 45%)\r\n",
      "  adding: network.pt (deflated 5%)\r\n",
      "Device used : cuda\n",
      "Device used : cuda\n",
      "2\n",
      "1\n",
      "  adding: model_params.json (deflated 45%)\r\n",
      "  adding: network.pt (deflated 6%)\r\n",
      "Device used : cuda\n",
      "Device used : cuda\n",
      "2\n",
      "  adding: model_params.json (deflated 45%)\r\n",
      "  adding: network.pt (deflated 5%)\r\n",
      "Device used : cuda\n",
      "Device used : cuda\n",
      "3\n",
      "  adding: model_params.json (deflated 45%)\r\n",
      "  adding: network.pt (deflated 5%)\r\n",
      "Device used : cuda\n",
      "Device used : cuda\n",
      "4\n",
      "  adding: model_params.json (deflated 45%)\r\n",
      "  adding: network.pt (deflated 5%)\r\n",
      "Device used : cuda\n",
      "Device used : cuda\n",
      "5\n",
      "  adding: model_params.json (deflated 45%)\r\n",
      "  adding: network.pt (deflated 5%)\r\n",
      "Device used : cuda\n",
      "Device used : cuda\n",
      "6\n",
      "  adding: model_params.json (deflated 45%)\r\n",
      "  adding: network.pt (deflated 6%)\r\n",
      "Device used : cuda\n",
      "Device used : cuda\n",
      "7\n",
      "  adding: model_params.json (deflated 45%)\r\n",
      "  adding: network.pt (deflated 5%)\r\n",
      "Device used : cuda\n",
      "Device used : cuda\n",
      "8\n",
      "  adding: model_params.json (deflated 45%)\r\n",
      "  adding: network.pt (deflated 5%)\r\n",
      "Device used : cuda\n",
      "Device used : cuda\n",
      "9\n",
      "  adding: model_params.json (deflated 45%)\r\n",
      "  adding: network.pt (deflated 6%)\r\n",
      "Device used : cuda\n",
      "Device used : cuda\n",
      "10\n",
      "  adding: model_params.json (deflated 45%)\r\n",
      "  adding: network.pt (deflated 5%)\r\n",
      "Device used : cuda\n",
      "Device used : cuda\n"
     ]
    }
   ],
   "source": [
    "# # mac\n",
    "test_cv_preds = []\n",
    "\n",
    "NB_SPLITS = 10\n",
    "mskf = MultilabelStratifiedKFold(n_splits = NB_SPLITS, random_state = 0, shuffle = True)\n",
    "SEED = [0,1,2] # 3 seed\n",
    "for s in SEED:\n",
    "    tabnet_params['seed'] = s\n",
    "    print(s)\n",
    "    for fold_nb, (train_idx, val_idx) in enumerate(mskf.split(train, target)):\n",
    "        print(fold_nb+1)\n",
    "        \n",
    "        ### Predict on test ###\n",
    "        \n",
    "        !cp -r ../input/seed-fold-tab/TabNet_seed_{str(s)}_fold_{str(fold_nb+1)}/* .\n",
    "        !zip {s}_{fold_nb+1}.zip model_params.json network.pt\n",
    "#         MODEL_PATH =  f\"../input/seed-fold-tab/TabNet_seed_{s}_fold_{fold_nb+1}.zip\"\n",
    "        MODEL_PATH =  f\"./{s}_{fold_nb+1}.zip\"\n",
    "        loaded_model = TabNetRegressor()\n",
    "        loaded_model.load_model(MODEL_PATH)\n",
    "        preds_test = loaded_model.predict(X_test)\n",
    "        test_cv_preds.append(1 / (1 + np.exp(-preds_test)))\n",
    "\n",
    "test_preds_all = np.stack(test_cv_preds)"
   ]
  },
  {
   "cell_type": "code",
   "execution_count": 171,
   "metadata": {
    "execution": {
     "iopub.execute_input": "2020-11-28T15:34:23.156331Z",
     "iopub.status.busy": "2020-11-28T15:34:23.155306Z",
     "iopub.status.idle": "2020-11-28T15:34:23.837012Z",
     "shell.execute_reply": "2020-11-28T15:34:23.836323Z"
    },
    "papermill": {
     "duration": 1.779873,
     "end_time": "2020-11-28T15:34:23.837144",
     "exception": false,
     "start_time": "2020-11-28T15:34:22.057271",
     "status": "completed"
    },
    "tags": []
   },
   "outputs": [],
   "source": [
    "all_feat = [col for col in df.columns if col not in [\"sig_id\"]]\n",
    "# To obtain the same lenght of test_preds_all and submission\n",
    "test = pd.read_csv(\"../input/lish-moa/test_features.csv\")\n",
    "sig_id = test[test[\"cp_type\"] != \"ctl_vehicle\"].sig_id.reset_index(drop = True)\n",
    "tmp = pd.DataFrame(test_preds_all.mean(axis = 0), columns = all_feat)\n",
    "tmp[\"sig_id\"] = sig_id"
   ]
  },
  {
   "cell_type": "code",
   "execution_count": 172,
   "metadata": {
    "execution": {
     "iopub.execute_input": "2020-11-28T15:34:25.987470Z",
     "iopub.status.busy": "2020-11-28T15:34:25.986465Z",
     "iopub.status.idle": "2020-11-28T15:34:28.208511Z",
     "shell.execute_reply": "2020-11-28T15:34:28.207853Z"
    },
    "papermill": {
     "duration": 3.298667,
     "end_time": "2020-11-28T15:34:28.208650",
     "exception": false,
     "start_time": "2020-11-28T15:34:24.909983",
     "status": "completed"
    },
    "tags": []
   },
   "outputs": [],
   "source": [
    "all_feat = [col for col in df.columns if col not in [\"sig_id\"]]\n",
    "# To obtain the same lenght of test_preds_all and submission\n",
    "test = pd.read_csv(\"../input/lish-moa/test_features.csv\")\n",
    "sig_id = test[test[\"cp_type\"] != \"ctl_vehicle\"].sig_id.reset_index(drop = True)\n",
    "tmp = pd.DataFrame(test_preds_all.mean(axis = 0), columns = all_feat)\n",
    "tmp[\"sig_id\"] = sig_id\n",
    "\n",
    "sub4 = pd.merge(test[[\"sig_id\"]], tmp, on = \"sig_id\", how = \"left\")\n",
    "sub4.fillna(0, inplace = True)\n",
    "\n",
    "sub4.to_csv('sub4.csv', index=False)\n",
    "# sub4.to_csv(\"submission.csv\", index = None)\n"
   ]
  },
  {
   "cell_type": "code",
   "execution_count": 173,
   "metadata": {
    "execution": {
     "iopub.execute_input": "2020-11-28T15:34:30.370054Z",
     "iopub.status.busy": "2020-11-28T15:34:30.368444Z",
     "iopub.status.idle": "2020-11-28T15:34:30.409823Z",
     "shell.execute_reply": "2020-11-28T15:34:30.410938Z"
    },
    "papermill": {
     "duration": 1.143492,
     "end_time": "2020-11-28T15:34:30.411167",
     "exception": false,
     "start_time": "2020-11-28T15:34:29.267675",
     "status": "completed"
    },
    "tags": []
   },
   "outputs": [
    {
     "data": {
      "text/plain": [
       "<bound method NDFrame.head of             sig_id  5-alpha_reductase_inhibitor  11-beta-hsd1_inhibitor  \\\n",
       "0     id_0004d9e33                     0.000908                0.000935   \n",
       "1     id_001897cda                     0.000610                0.001233   \n",
       "2     id_002429b5b                     0.000000                0.000000   \n",
       "3     id_00276f245                     0.000856                0.000946   \n",
       "4     id_0027f1083                     0.001307                0.001342   \n",
       "...            ...                          ...                     ...   \n",
       "3977  id_ff7004b87                     0.000703                0.001282   \n",
       "3978  id_ff925dd0d                     0.001689                0.001570   \n",
       "3979  id_ffb710450                     0.001375                0.001203   \n",
       "3980  id_ffbb869f2                     0.001578                0.001255   \n",
       "3981  id_ffd5800b6                     0.000913                0.001153   \n",
       "\n",
       "      acat_inhibitor  acetylcholine_receptor_agonist  \\\n",
       "0           0.002182                        0.015446   \n",
       "1           0.002223                        0.002567   \n",
       "2           0.000000                        0.000000   \n",
       "3           0.001719                        0.008612   \n",
       "4           0.001770                        0.013636   \n",
       "...              ...                             ...   \n",
       "3977        0.001528                        0.003248   \n",
       "3978        0.001387                        0.010451   \n",
       "3979        0.001343                        0.015974   \n",
       "3980        0.001288                        0.016211   \n",
       "3981        0.001688                        0.014489   \n",
       "\n",
       "      acetylcholine_receptor_antagonist  acetylcholinesterase_inhibitor  \\\n",
       "0                              0.019482                        0.004331   \n",
       "1                              0.001848                        0.001941   \n",
       "2                              0.000000                        0.000000   \n",
       "3                              0.013675                        0.003685   \n",
       "4                              0.019093                        0.004526   \n",
       "...                                 ...                             ...   \n",
       "3977                           0.006131                        0.002191   \n",
       "3978                           0.019944                        0.005979   \n",
       "3979                           0.032115                        0.006435   \n",
       "3980                           0.026531                        0.005822   \n",
       "3981                           0.021174                        0.005430   \n",
       "\n",
       "      adenosine_receptor_agonist  adenosine_receptor_antagonist  \\\n",
       "0                       0.002426                       0.007377   \n",
       "1                       0.002351                       0.013793   \n",
       "2                       0.000000                       0.000000   \n",
       "3                       0.002644                       0.004093   \n",
       "4                       0.003510                       0.003568   \n",
       "...                          ...                            ...   \n",
       "3977                    0.001495                       0.004535   \n",
       "3978                    0.004759                       0.004563   \n",
       "3979                    0.003876                       0.004375   \n",
       "3980                    0.004695                       0.003234   \n",
       "3981                    0.002421                       0.004448   \n",
       "\n",
       "      adenylyl_cyclase_activator  ...  tropomyosin_receptor_kinase_inhibitor  \\\n",
       "0                       0.000269  ...                               0.000785   \n",
       "1                       0.001872  ...                               0.000885   \n",
       "2                       0.000000  ...                               0.000000   \n",
       "3                       0.000309  ...                               0.000702   \n",
       "4                       0.000538  ...                               0.000846   \n",
       "...                          ...  ...                                    ...   \n",
       "3977                    0.000375  ...                               0.000689   \n",
       "3978                    0.000891  ...                               0.000664   \n",
       "3979                    0.000393  ...                               0.000654   \n",
       "3980                    0.000608  ...                               0.000628   \n",
       "3981                    0.000228  ...                               0.000739   \n",
       "\n",
       "      trpv_agonist  trpv_antagonist  tubulin_inhibitor  \\\n",
       "0         0.001235         0.003602           0.000560   \n",
       "1         0.001497         0.004335           0.000725   \n",
       "2         0.000000         0.000000           0.000000   \n",
       "3         0.002193         0.002509           0.015741   \n",
       "4         0.000732         0.002982           0.001355   \n",
       "...            ...              ...                ...   \n",
       "3977      0.004805         0.002544           0.106990   \n",
       "3978      0.000819         0.002812           0.001247   \n",
       "3979      0.000667         0.002906           0.002615   \n",
       "3980      0.000614         0.002489           0.001973   \n",
       "3981      0.001606         0.002885           0.006328   \n",
       "\n",
       "      tyrosine_kinase_inhibitor  ubiquitin_specific_protease_inhibitor  \\\n",
       "0                      0.000667                               0.000548   \n",
       "1                      0.007112                               0.000684   \n",
       "2                      0.000000                               0.000000   \n",
       "3                      0.004705                               0.000632   \n",
       "4                      0.001578                               0.000698   \n",
       "...                         ...                                    ...   \n",
       "3977                   0.012615                               0.000756   \n",
       "3978                   0.002281                               0.000683   \n",
       "3979                   0.001361                               0.000565   \n",
       "3980                   0.001567                               0.000597   \n",
       "3981                   0.001629                               0.000635   \n",
       "\n",
       "      vegfr_inhibitor  vitamin_b  vitamin_d_receptor_agonist  wnt_inhibitor  \n",
       "0            0.000707   0.001806                    0.004194       0.001825  \n",
       "1            0.014177   0.001224                    0.010355       0.003020  \n",
       "2            0.000000   0.000000                    0.000000       0.000000  \n",
       "3            0.001489   0.001876                    0.000385       0.001617  \n",
       "4            0.001850   0.002079                    0.000612       0.002025  \n",
       "...               ...        ...                         ...            ...  \n",
       "3977         0.007408   0.001256                    0.000673       0.001186  \n",
       "3978         0.001515   0.001856                    0.000372       0.002008  \n",
       "3979         0.000776   0.001952                    0.000443       0.001764  \n",
       "3980         0.000668   0.001871                    0.000390       0.001989  \n",
       "3981         0.000685   0.001967                    0.000588       0.001539  \n",
       "\n",
       "[3982 rows x 207 columns]>"
      ]
     },
     "execution_count": 173,
     "metadata": {},
     "output_type": "execute_result"
    }
   ],
   "source": [
    "sub4.head"
   ]
  },
  {
   "cell_type": "code",
   "execution_count": 174,
   "metadata": {
    "execution": {
     "iopub.execute_input": "2020-11-28T15:34:32.774564Z",
     "iopub.status.busy": "2020-11-28T15:34:32.773511Z",
     "iopub.status.idle": "2020-11-28T15:38:25.168329Z",
     "shell.execute_reply": "2020-11-28T15:38:25.166622Z"
    },
    "papermill": {
     "duration": 233.484546,
     "end_time": "2020-11-28T15:38:25.168497",
     "exception": false,
     "start_time": "2020-11-28T15:34:31.683951",
     "status": "completed"
    },
    "tags": []
   },
   "outputs": [],
   "source": [
    "sub=pd.DataFrame()\n",
    "sub['sig_id']=sub1['sig_id']\n",
    "for i in range(len(target_cols)):\n",
    "    fea=target_cols[i]\n",
    "    sub[fea]=sub1[fea]/4.0+sub2[fea]/4.0+sub3[fea]/4.0+sub4[fea]/4.0\n",
    "    sub.to_csv('submission.csv',index=False)"
   ]
  }
 ],
 "metadata": {
  "kernelspec": {
   "display_name": "Python 3",
   "language": "python",
   "name": "python3"
  },
  "language_info": {
   "codemirror_mode": {
    "name": "ipython",
    "version": 3
   },
   "file_extension": ".py",
   "mimetype": "text/x-python",
   "name": "python",
   "nbconvert_exporter": "python",
   "pygments_lexer": "ipython3",
   "version": "3.7.6"
  },
  "papermill": {
   "duration": 5152.653175,
   "end_time": "2020-11-28T15:38:26.732846",
   "environment_variables": {},
   "exception": null,
   "input_path": "__notebook__.ipynb",
   "output_path": "__notebook__.ipynb",
   "parameters": {},
   "start_time": "2020-11-28T14:12:34.079671",
   "version": "2.1.0"
  }
 },
 "nbformat": 4,
 "nbformat_minor": 4
}
