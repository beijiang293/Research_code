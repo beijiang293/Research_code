{
 "cells": [
  {
   "cell_type": "markdown",
   "id": "be6483d4-0721-4c13-8b11-c0207ff89b37",
   "metadata": {},
   "source": [
    "Setup enviroment"
   ]
  },
  {
   "cell_type": "code",
   "execution_count": 2,
   "id": "50e1ce83-dfb9-4c0e-82ef-a4b12b92ee29",
   "metadata": {},
   "outputs": [
    {
     "name": "stdout",
     "output_type": "stream",
     "text": [
      "2.1.0+cu121\n"
     ]
    }
   ],
   "source": [
    "import os\n",
    "import torch\n",
    "os.environ['TORCH'] = torch.__version__\n",
    "print(torch.__version__)\n",
    "\n",
    "!pip install -q torch-scatter -f https://data.pyg.org/whl/torch-${TORCH}.html\n",
    "!pip install -q torch-sparse -f https://data.pyg.org/whl/torch-${TORCH}.html\n",
    "!pip install -q git+https://github.com/pyg-team/pytorch_geometric.git"
   ]
  },
  {
   "cell_type": "code",
   "execution_count": 3,
   "id": "2527527c-0554-4d17-b1dd-cb6adde1ca14",
   "metadata": {},
   "outputs": [],
   "source": [
    "!pip install -q dgl"
   ]
  },
  {
   "cell_type": "code",
   "execution_count": 4,
   "id": "69c13ce2-18e1-410f-b0f8-6683a0b51c08",
   "metadata": {},
   "outputs": [],
   "source": [
    "from torch_geometric.data import Data\n",
    "from torch_geometric.datasets import Planetoid\n",
    "from torch_geometric import nn\n",
    "import torch_geometric.transforms as T"
   ]
  },
  {
   "cell_type": "code",
   "execution_count": 5,
   "id": "f099978e-bde5-43a5-a009-426a43849bfc",
   "metadata": {},
   "outputs": [
    {
     "name": "stderr",
     "output_type": "stream",
     "text": [
      "/tmp/ipykernel_3782458/4213285088.py:2: DeprecationWarning: \n",
      "Pyarrow will become a required dependency of pandas in the next major release of pandas (pandas 3.0),\n",
      "(to allow more performant data types, such as the Arrow string type, and better interoperability with other libraries)\n",
      "but was not found to be installed on your system.\n",
      "If this would cause problems for you,\n",
      "please provide us feedback at https://github.com/pandas-dev/pandas/issues/54466\n",
      "        \n",
      "  import pandas as pd\n"
     ]
    }
   ],
   "source": [
    "import json\n",
    "import pandas as pd\n",
    "import numpy as np\n",
    "import random\n",
    "import dgl\n",
    "import dgl.nn as dglnn\n",
    "import torch.nn as nn\n",
    "import torch.nn.functional as F\n",
    "import dgl.function as fn"
   ]
  },
  {
   "cell_type": "code",
   "execution_count": 6,
   "id": "9b0ee802-8eb6-4110-b953-876e78a2e5dc",
   "metadata": {},
   "outputs": [],
   "source": [
    "import matplotlib.pyplot as plt\n",
    "%matplotlib inline"
   ]
  },
  {
   "cell_type": "code",
   "execution_count": 7,
   "id": "1cf5ea79-8e18-4431-8bf3-1362f0833b73",
   "metadata": {},
   "outputs": [],
   "source": [
    "from sklearn.metrics import f1_score\n",
    "import numpy as np"
   ]
  },
  {
   "cell_type": "code",
   "execution_count": 8,
   "id": "3732aaeb-2113-4e52-a33f-5f7c929b7ad0",
   "metadata": {},
   "outputs": [],
   "source": [
    "device = torch.device(\"cuda\" if torch.cuda.is_available() else \"cpu\")"
   ]
  },
  {
   "cell_type": "markdown",
   "id": "3e6194cc-3a13-474b-bf2a-648f1a99b0ac",
   "metadata": {},
   "source": [
    "Load node2id dictionary"
   ]
  },
  {
   "cell_type": "code",
   "execution_count": 9,
   "id": "0c07da17-bdb8-4436-b98e-3ceb5d4f1473",
   "metadata": {},
   "outputs": [
    {
     "data": {
      "text/plain": [
       "True"
      ]
     },
     "execution_count": 9,
     "metadata": {},
     "output_type": "execute_result"
    }
   ],
   "source": [
    "os.path.isdir(\"/gpfs/gibbs/pi/gerstein/yc774/project/miRGD/graph\")"
   ]
  },
  {
   "cell_type": "code",
   "execution_count": 10,
   "id": "1c8462ea-582f-46d1-bd8b-1105b52db7bd",
   "metadata": {},
   "outputs": [],
   "source": [
    "#open files\n",
    "proj_dir = os.path.join(\"/gpfs/gibbs/pi/gerstein/yc774/project/miRGD/graph\")\n",
    "f = open(os.path.join(proj_dir,\"node2id.json\"))\n",
    "node2id = json.load(f)\n",
    "\n",
    "f = open(os.path.join(proj_dir,\"id2node.json\"))\n",
    "id2node = json.load(f)"
   ]
  },
  {
   "cell_type": "code",
   "execution_count": 11,
   "id": "5c8aaf8f-92a8-441c-9cf9-a57c29bba00f",
   "metadata": {},
   "outputs": [],
   "source": [
    "relation = [\"mm\",\"dd\",\"gg\",\"md\",\"mg\",\"dg\"]\n",
    "\n",
    "edge_index = {}\n",
    "for rel in relation:\n",
    "  pth = os.path.join(proj_dir,\"{}_edge.csv\".format(rel))\n",
    "  edge_df = pd.read_csv(pth)\n",
    "  edge_list = np.transpose(edge_df.values)\n",
    "  edge_index[rel] = torch.tensor(edge_list).long()"
   ]
  },
  {
   "cell_type": "code",
   "execution_count": 12,
   "id": "21b6f088-d8fb-445f-8173-f322c7844851",
   "metadata": {},
   "outputs": [
    {
     "data": {
      "text/plain": [
       "{'mm': tensor([[ 898,  898,  898,  ...,  694,  482,  482],\n",
       "         [ 841, 1069,  541,  ...,  953, 1011,  147]]),\n",
       " 'dd': tensor([[1175, 1175, 1175,  ..., 1134, 1134, 1134],\n",
       "         [1180, 1144, 1208,  ..., 1168, 1141, 1139]]),\n",
       " 'gg': tensor([[2147, 2147, 2147,  ..., 6556, 8910, 5385],\n",
       "         [8388, 7092, 9807,  ..., 1735, 1735, 1735]]),\n",
       " 'md': tensor([[ 898,  898,  898,  ...,  270,  946,  250],\n",
       "         [1193, 1180, 1214,  ..., 1191, 1213, 1213]]),\n",
       " 'mg': tensor([[  32,  832,  832,  ...,  589,  589,  100],\n",
       "         [5215, 7835, 7835,  ..., 5135, 9328, 4016]]),\n",
       " 'dg': tensor([[5925, 5925, 4194,  ..., 7342, 5467, 5467],\n",
       "         [1183, 1153, 1153,  ..., 1204, 1131, 1148]])}"
      ]
     },
     "execution_count": 12,
     "metadata": {},
     "output_type": "execute_result"
    }
   ],
   "source": [
    "edge_index"
   ]
  },
  {
   "cell_type": "code",
   "execution_count": 13,
   "id": "5c903066-f0c5-41a0-99b3-88af1e9f82e2",
   "metadata": {},
   "outputs": [
    {
     "name": "stderr",
     "output_type": "stream",
     "text": [
      "/tmp/ipykernel_3782458/2437488178.py:32: UserWarning: Creating a tensor from a list of numpy.ndarrays is extremely slow. Please consider converting the list to a single numpy.ndarray with numpy.array() before converting to a tensor. (Triggered internally at ../torch/csrc/utils/tensor_new.cpp:261.)\n",
      "  new_edge_index['md'] = torch.tensor([\n"
     ]
    }
   ],
   "source": [
    "miRNA_id = list(range(1109))\n",
    "disease_id = list(range(1109,1222))\n",
    "gene_id = list(range(1222,10532))\n",
    "\n",
    "\n",
    "# convert old unique id to seperete set of new ID\n",
    "disease_new_id_dict = {}\n",
    "new_id = 0\n",
    "for old_id in disease_id:\n",
    "  disease_new_id_dict[old_id] = new_id\n",
    "  new_id+=1\n",
    "\n",
    "gene_new_id_dict = {}\n",
    "new_id = 0\n",
    "for old_id in gene_id:\n",
    "  gene_new_id_dict[old_id] = new_id\n",
    "  new_id+=1\n",
    "\n",
    "\n",
    "\n",
    "new_edge_index = {}\n",
    "new_edge_index['mm'] = edge_index['mm']\n",
    "\n",
    "new_edge_index['dd'] = torch.tensor([\n",
    "  [disease_new_id_dict[old_id] for old_id in edge_index['dd'][0].numpy()],\n",
    "  [disease_new_id_dict[old_id] for old_id in edge_index['dd'][1].numpy()],\n",
    "])\n",
    "new_edge_index['gg'] = torch.tensor([\n",
    "  [gene_new_id_dict[old_id] for old_id in edge_index['gg'][0].numpy()],\n",
    "  [gene_new_id_dict[old_id] for old_id in edge_index['gg'][1].numpy()],\n",
    "])\n",
    "new_edge_index['md'] = torch.tensor([\n",
    "  edge_index['md'][0].numpy(),\n",
    "  [disease_new_id_dict[old_id] for old_id in edge_index['md'][1].numpy()],\n",
    "])\n",
    "\n",
    "new_edge_index['mg'] = torch.tensor([\n",
    "  edge_index['mg'][0].numpy(),\n",
    "  [gene_new_id_dict[old_id] for old_id in edge_index['mg'][1].numpy()]\n",
    "])\n",
    "\n",
    "new_edge_index['gd'] = torch.tensor([\n",
    "  [gene_new_id_dict[old_id] for old_id in edge_index['dg'][0].numpy()],\n",
    "  [disease_new_id_dict[old_id] for old_id in edge_index['dg'][1].numpy()],\n",
    "])\n"
   ]
  },
  {
   "cell_type": "code",
   "execution_count": 14,
   "id": "2d8601cf-16de-4586-8088-8352026a9c5e",
   "metadata": {},
   "outputs": [
    {
     "data": {
      "text/plain": [
       "{'mm': tensor([[ 898,  898,  898,  ...,  694,  482,  482],\n",
       "         [ 841, 1069,  541,  ...,  953, 1011,  147]]),\n",
       " 'dd': tensor([[66, 66, 66,  ..., 25, 25, 25],\n",
       "         [71, 35, 99,  ..., 59, 32, 30]]),\n",
       " 'gg': tensor([[ 925,  925,  925,  ..., 5334, 7688, 4163],\n",
       "         [7166, 5870, 8585,  ...,  513,  513,  513]]),\n",
       " 'md': tensor([[898, 898, 898,  ..., 270, 946, 250],\n",
       "         [ 84,  71, 105,  ...,  82, 104, 104]]),\n",
       " 'mg': tensor([[  32,  832,  832,  ...,  589,  589,  100],\n",
       "         [3993, 6613, 6613,  ..., 3913, 8106, 2794]]),\n",
       " 'gd': tensor([[4703, 4703, 2972,  ..., 6120, 4245, 4245],\n",
       "         [  74,   44,   44,  ...,   95,   22,   39]])}"
      ]
     },
     "execution_count": 14,
     "metadata": {},
     "output_type": "execute_result"
    }
   ],
   "source": [
    "new_edge_index"
   ]
  },
  {
   "cell_type": "code",
   "execution_count": 15,
   "id": "acb87f1a-d240-4a3b-b938-0db4db1a7f0a",
   "metadata": {},
   "outputs": [
    {
     "data": {
      "text/plain": [
       "Graph(num_nodes={'disease': 113, 'gene': 9308, 'miRNA': 1109},\n",
       "      num_edges={('disease', 'similar_to', 'disease'): 4863, ('gene', 'related_to', 'disease'): 9596, ('gene', 'similar_to', 'gene'): 519568, ('miRNA', 'associate_with', 'disease'): 3999, ('miRNA', 'similar_to', 'miRNA'): 346623, ('miRNA', 'target_to', 'gene'): 25405},\n",
       "      metagraph=[('disease', 'disease', 'similar_to'), ('gene', 'disease', 'related_to'), ('gene', 'gene', 'similar_to'), ('miRNA', 'disease', 'associate_with'), ('miRNA', 'miRNA', 'similar_to'), ('miRNA', 'gene', 'target_to')])"
      ]
     },
     "execution_count": 15,
     "metadata": {},
     "output_type": "execute_result"
    }
   ],
   "source": [
    "\n",
    "n_hetero_features = 10\n",
    "\n",
    "hetero_graph = dgl.heterograph({\n",
    "    ('miRNA', 'similar_to', 'miRNA'): (new_edge_index['mm'][0], new_edge_index['mm'][1]),\n",
    "    ('gene', 'similar_to', 'gene'): (new_edge_index['gg'][0], new_edge_index['gg'][1]),\n",
    "    ('disease', 'similar_to', 'disease'): (new_edge_index['dd'][0], new_edge_index['dd'][1]),\n",
    "    ('miRNA', 'target_to', 'gene'): (new_edge_index['mg'][0], new_edge_index['mg'][1]),\n",
    "    ('miRNA', 'associate_with', 'disease'): (new_edge_index['md'][0], new_edge_index['md'][1]),\n",
    "    ('gene', 'related_to', 'disease'): (new_edge_index['gd'][0], new_edge_index['gd'][1])})\n",
    "\n",
    "n_miRNA = hetero_graph.num_nodes('miRNA')\n",
    "n_gene = hetero_graph.num_nodes('gene')\n",
    "n_disease= hetero_graph.num_nodes('disease')\n",
    "\n",
    "hetero_graph.nodes['miRNA'].data['feature'] = torch.randn(n_miRNA, n_hetero_features)\n",
    "hetero_graph.nodes['gene'].data['feature'] = torch.randn(n_gene, n_hetero_features)\n",
    "hetero_graph.nodes['disease'].data['feature'] = torch.randn(n_disease, n_hetero_features)\n",
    "\n",
    "hetero_graph"
   ]
  },
  {
   "cell_type": "code",
   "execution_count": 16,
   "id": "fb6b04ff-b806-47d3-8f25-9c2db5297bda",
   "metadata": {},
   "outputs": [
    {
     "data": {
      "text/plain": [
       "NodeSpace(data={'feature': tensor([[ 0.8467,  0.8671, -1.3827,  ..., -0.6743, -0.2112, -1.7691],\n",
       "        [ 1.6073, -0.1268,  0.1059,  ..., -0.6812,  2.1987,  0.1235],\n",
       "        [ 1.5278, -0.9245, -1.2845,  ..., -0.5479, -0.0222,  0.6367],\n",
       "        ...,\n",
       "        [-0.6066, -0.4652, -0.0036,  ..., -0.2403, -1.7012, -0.9087],\n",
       "        [ 0.6391, -1.1978,  1.2091,  ...,  0.0398, -0.5067, -0.7620],\n",
       "        [-1.6135, -1.4273,  0.7165,  ...,  1.9327, -1.3252,  0.3662]])})"
      ]
     },
     "execution_count": 16,
     "metadata": {},
     "output_type": "execute_result"
    }
   ],
   "source": [
    "hetero_graph.nodes['miRNA']"
   ]
  },
  {
   "cell_type": "markdown",
   "id": "bffe6eeb-1e56-4ea3-847a-01b7cb89233f",
   "metadata": {},
   "source": [
    "Link Prediction - Random Feature"
   ]
  },
  {
   "cell_type": "code",
   "execution_count": 17,
   "id": "6756b49c-7e59-44f0-8ca0-a1ec1b4e8c18",
   "metadata": {},
   "outputs": [
    {
     "name": "stdout",
     "output_type": "stream",
     "text": [
      "epoch:  0  train loss:  0.6941037178039551  valid loss:  0.694214940071106  train_accuracy:  tensor([0.1519])  valid accuracy:  tensor([0.1533])\n",
      "epoch:  1  train loss:  0.6932930946350098  valid loss:  0.6932980418205261  train_accuracy:  tensor([0.3740])  valid accuracy:  tensor([0.3758])\n",
      "epoch:  2  train loss:  0.6927545666694641  valid loss:  0.6927348971366882  train_accuracy:  tensor([0.8180])  valid accuracy:  tensor([0.8140])\n",
      "epoch:  3  train loss:  0.6922617554664612  valid loss:  0.6922527551651001  train_accuracy:  tensor([0.8185])  valid accuracy:  tensor([0.8186])\n",
      "epoch:  4  train loss:  0.691698431968689  valid loss:  0.6917082667350769  train_accuracy:  tensor([0.8183])  valid accuracy:  tensor([0.8169])\n",
      "epoch:  5  train loss:  0.6909732222557068  valid loss:  0.6909266114234924  train_accuracy:  tensor([0.8216])  valid accuracy:  tensor([0.8211])\n",
      "epoch:  6  train loss:  0.6899913549423218  valid loss:  0.6900372505187988  train_accuracy:  tensor([0.8299])  valid accuracy:  tensor([0.8297])\n",
      "epoch:  7  train loss:  0.6887359023094177  valid loss:  0.6889011263847351  train_accuracy:  tensor([0.8315])  valid accuracy:  tensor([0.8313])\n",
      "epoch:  8  train loss:  0.6872951984405518  valid loss:  0.687211811542511  train_accuracy:  tensor([0.8328])  valid accuracy:  tensor([0.8317])\n",
      "epoch:  9  train loss:  0.6854458451271057  valid loss:  0.6851781606674194  train_accuracy:  tensor([0.8333])  valid accuracy:  tensor([0.8333])\n",
      "epoch:  10  train loss:  0.6832374334335327  valid loss:  0.6828166842460632  train_accuracy:  tensor([0.8333])  valid accuracy:  tensor([0.8333])\n",
      "epoch:  11  train loss:  0.6802759170532227  valid loss:  0.6804754734039307  train_accuracy:  tensor([0.8333])  valid accuracy:  tensor([0.8333])\n",
      "epoch:  12  train loss:  0.6768712997436523  valid loss:  0.6772549748420715  train_accuracy:  tensor([0.8333])  valid accuracy:  tensor([0.8333])\n",
      "epoch:  13  train loss:  0.6731050610542297  valid loss:  0.6733512282371521  train_accuracy:  tensor([0.8333])  valid accuracy:  tensor([0.8333])\n",
      "epoch:  14  train loss:  0.6686591506004333  valid loss:  0.6684711575508118  train_accuracy:  tensor([0.8333])  valid accuracy:  tensor([0.8333])\n",
      "epoch:  15  train loss:  0.6627586483955383  valid loss:  0.6634396910667419  train_accuracy:  tensor([0.8333])  valid accuracy:  tensor([0.8333])\n",
      "epoch:  16  train loss:  0.6572709679603577  valid loss:  0.6568801403045654  train_accuracy:  tensor([0.8333])  valid accuracy:  tensor([0.8333])\n",
      "epoch:  17  train loss:  0.6502646207809448  valid loss:  0.64979487657547  train_accuracy:  tensor([0.8333])  valid accuracy:  tensor([0.8333])\n",
      "epoch:  18  train loss:  0.6416595578193665  valid loss:  0.6434366106987  train_accuracy:  tensor([0.8333])  valid accuracy:  tensor([0.8333])\n",
      "epoch:  19  train loss:  0.6337509155273438  valid loss:  0.6338988542556763  train_accuracy:  tensor([0.8333])  valid accuracy:  tensor([0.8333])\n",
      "epoch:  20  train loss:  0.6245558857917786  valid loss:  0.6238605380058289  train_accuracy:  tensor([0.8333])  valid accuracy:  tensor([0.8333])\n",
      "epoch:  21  train loss:  0.6131579279899597  valid loss:  0.6133555173873901  train_accuracy:  tensor([0.8333])  valid accuracy:  tensor([0.8333])\n",
      "epoch:  22  train loss:  0.602816641330719  valid loss:  0.6045048236846924  train_accuracy:  tensor([0.8333])  valid accuracy:  tensor([0.8333])\n",
      "epoch:  23  train loss:  0.5932376980781555  valid loss:  0.5931455492973328  train_accuracy:  tensor([0.8333])  valid accuracy:  tensor([0.8333])\n",
      "epoch:  24  train loss:  0.5812355279922485  valid loss:  0.5826650261878967  train_accuracy:  tensor([0.8333])  valid accuracy:  tensor([0.8333])\n",
      "epoch:  25  train loss:  0.5718579888343811  valid loss:  0.5733426809310913  train_accuracy:  tensor([0.8333])  valid accuracy:  tensor([0.8333])\n",
      "epoch:  26  train loss:  0.5637797713279724  valid loss:  0.565731406211853  train_accuracy:  tensor([0.8333])  valid accuracy:  tensor([0.8333])\n",
      "epoch:  27  train loss:  0.5595706105232239  valid loss:  0.556973397731781  train_accuracy:  tensor([0.8333])  valid accuracy:  tensor([0.8333])\n",
      "epoch:  28  train loss:  0.5549638271331787  valid loss:  0.5536486506462097  train_accuracy:  tensor([0.8333])  valid accuracy:  tensor([0.8333])\n",
      "epoch:  29  train loss:  0.5539682507514954  valid loss:  0.5537278056144714  train_accuracy:  tensor([0.8333])  valid accuracy:  tensor([0.8333])\n",
      "epoch:  30  train loss:  0.5517739057540894  valid loss:  0.5539644956588745  train_accuracy:  tensor([0.8333])  valid accuracy:  tensor([0.8333])\n",
      "epoch:  31  train loss:  0.5529221892356873  valid loss:  0.5506029725074768  train_accuracy:  tensor([0.8333])  valid accuracy:  tensor([0.8333])\n",
      "epoch:  32  train loss:  0.5500645637512207  valid loss:  0.5535121560096741  train_accuracy:  tensor([0.8333])  valid accuracy:  tensor([0.8333])\n",
      "epoch:  33  train loss:  0.547577977180481  valid loss:  0.5436097979545593  train_accuracy:  tensor([0.8333])  valid accuracy:  tensor([0.8333])\n",
      "epoch:  34  train loss:  0.5422929525375366  valid loss:  0.5414156317710876  train_accuracy:  tensor([0.8333])  valid accuracy:  tensor([0.8333])\n",
      "epoch:  35  train loss:  0.5358620285987854  valid loss:  0.5385053157806396  train_accuracy:  tensor([0.8333])  valid accuracy:  tensor([0.8333])\n",
      "epoch:  36  train loss:  0.5335012674331665  valid loss:  0.531949520111084  train_accuracy:  tensor([0.8333])  valid accuracy:  tensor([0.8333])\n",
      "epoch:  37  train loss:  0.5290442109107971  valid loss:  0.5283206105232239  train_accuracy:  tensor([0.8331])  valid accuracy:  tensor([0.8329])\n",
      "epoch:  38  train loss:  0.5274534821510315  valid loss:  0.5262795686721802  train_accuracy:  tensor([0.8314])  valid accuracy:  tensor([0.8318])\n",
      "epoch:  39  train loss:  0.5248284339904785  valid loss:  0.520767867565155  train_accuracy:  tensor([0.8308])  valid accuracy:  tensor([0.8303])\n",
      "epoch:  40  train loss:  0.5236700177192688  valid loss:  0.5229194164276123  train_accuracy:  tensor([0.8284])  valid accuracy:  tensor([0.8291])\n",
      "epoch:  41  train loss:  0.522457480430603  valid loss:  0.5214905738830566  train_accuracy:  tensor([0.8284])  valid accuracy:  tensor([0.8273])\n",
      "epoch:  42  train loss:  0.5211480259895325  valid loss:  0.5171269178390503  train_accuracy:  tensor([0.8286])  valid accuracy:  tensor([0.8303])\n",
      "epoch:  43  train loss:  0.5169554948806763  valid loss:  0.5164992213249207  train_accuracy:  tensor([0.8298])  valid accuracy:  tensor([0.8300])\n",
      "epoch:  44  train loss:  0.5148395895957947  valid loss:  0.5118564963340759  train_accuracy:  tensor([0.8313])  valid accuracy:  tensor([0.8300])\n",
      "epoch:  45  train loss:  0.5103238821029663  valid loss:  0.5103419423103333  train_accuracy:  tensor([0.8327])  valid accuracy:  tensor([0.8331])\n",
      "epoch:  46  train loss:  0.5070791840553284  valid loss:  0.506170392036438  train_accuracy:  tensor([0.8330])  valid accuracy:  tensor([0.8331])\n",
      "epoch:  47  train loss:  0.5055930018424988  valid loss:  0.5032761096954346  train_accuracy:  tensor([0.8332])  valid accuracy:  tensor([0.8332])\n",
      "epoch:  48  train loss:  0.5023660063743591  valid loss:  0.503048300743103  train_accuracy:  tensor([0.8332])  valid accuracy:  tensor([0.8335])\n",
      "epoch:  49  train loss:  0.5021241307258606  valid loss:  0.5000633597373962  train_accuracy:  tensor([0.8333])  valid accuracy:  tensor([0.8335])\n",
      "epoch:  50  train loss:  0.49982932209968567  valid loss:  0.49714866280555725  train_accuracy:  tensor([0.8333])  valid accuracy:  tensor([0.8335])\n",
      "epoch:  51  train loss:  0.49696022272109985  valid loss:  0.4958246052265167  train_accuracy:  tensor([0.8333])  valid accuracy:  tensor([0.8333])\n",
      "epoch:  52  train loss:  0.4956531822681427  valid loss:  0.49135759472846985  train_accuracy:  tensor([0.8333])  valid accuracy:  tensor([0.8333])\n",
      "epoch:  53  train loss:  0.49314749240875244  valid loss:  0.49134576320648193  train_accuracy:  tensor([0.8333])  valid accuracy:  tensor([0.8333])\n",
      "epoch:  54  train loss:  0.4911736845970154  valid loss:  0.4869214594364166  train_accuracy:  tensor([0.8333])  valid accuracy:  tensor([0.8333])\n",
      "epoch:  55  train loss:  0.48706674575805664  valid loss:  0.48348018527030945  train_accuracy:  tensor([0.8333])  valid accuracy:  tensor([0.8333])\n",
      "epoch:  56  train loss:  0.48367682099342346  valid loss:  0.4820285737514496  train_accuracy:  tensor([0.8333])  valid accuracy:  tensor([0.8335])\n",
      "epoch:  57  train loss:  0.4814230501651764  valid loss:  0.47955799102783203  train_accuracy:  tensor([0.8334])  valid accuracy:  tensor([0.8336])\n",
      "epoch:  58  train loss:  0.478769987821579  valid loss:  0.47764167189598083  train_accuracy:  tensor([0.8332])  valid accuracy:  tensor([0.8335])\n",
      "epoch:  59  train loss:  0.4764334261417389  valid loss:  0.47418463230133057  train_accuracy:  tensor([0.8334])  valid accuracy:  tensor([0.8337])\n",
      "epoch:  60  train loss:  0.47111472487449646  valid loss:  0.4734247028827667  train_accuracy:  tensor([0.8330])  valid accuracy:  tensor([0.8339])\n",
      "epoch:  61  train loss:  0.4696139395236969  valid loss:  0.4721982181072235  train_accuracy:  tensor([0.8332])  valid accuracy:  tensor([0.8331])\n",
      "epoch:  62  train loss:  0.4657982587814331  valid loss:  0.4654836654663086  train_accuracy:  tensor([0.8327])  valid accuracy:  tensor([0.8336])\n",
      "epoch:  63  train loss:  0.46310189366340637  valid loss:  0.4639149308204651  train_accuracy:  tensor([0.8329])  valid accuracy:  tensor([0.8329])\n",
      "epoch:  64  train loss:  0.4621586501598358  valid loss:  0.45818281173706055  train_accuracy:  tensor([0.8269])  valid accuracy:  tensor([0.8281])\n",
      "epoch:  65  train loss:  0.4568246603012085  valid loss:  0.45497116446495056  train_accuracy:  tensor([0.8274])  valid accuracy:  tensor([0.8275])\n",
      "epoch:  66  train loss:  0.4538241922855377  valid loss:  0.45267483592033386  train_accuracy:  tensor([0.8278])  valid accuracy:  tensor([0.8253])\n",
      "epoch:  67  train loss:  0.449788898229599  valid loss:  0.45164602994918823  train_accuracy:  tensor([0.8272])  valid accuracy:  tensor([0.8266])\n",
      "epoch:  68  train loss:  0.44588372111320496  valid loss:  0.44605207443237305  train_accuracy:  tensor([0.8258])  valid accuracy:  tensor([0.8227])\n",
      "epoch:  69  train loss:  0.44417864084243774  valid loss:  0.4402509033679962  train_accuracy:  tensor([0.8261])  valid accuracy:  tensor([0.8262])\n",
      "epoch:  70  train loss:  0.44253677129745483  valid loss:  0.44376659393310547  train_accuracy:  tensor([0.8260])  valid accuracy:  tensor([0.8249])\n",
      "epoch:  71  train loss:  0.43999183177948  valid loss:  0.444863885641098  train_accuracy:  tensor([0.8230])  valid accuracy:  tensor([0.8228])\n",
      "epoch:  72  train loss:  0.4382871687412262  valid loss:  0.4424344599246979  train_accuracy:  tensor([0.8272])  valid accuracy:  tensor([0.8231])\n",
      "epoch:  73  train loss:  0.4395104646682739  valid loss:  0.4390416741371155  train_accuracy:  tensor([0.8262])  valid accuracy:  tensor([0.8237])\n",
      "epoch:  74  train loss:  0.43769821524620056  valid loss:  0.4398786723613739  train_accuracy:  tensor([0.8255])  valid accuracy:  tensor([0.8224])\n",
      "epoch:  75  train loss:  0.4376460313796997  valid loss:  0.4340011775493622  train_accuracy:  tensor([0.8244])  valid accuracy:  tensor([0.8282])\n",
      "epoch:  76  train loss:  0.435563325881958  valid loss:  0.43885913491249084  train_accuracy:  tensor([0.8226])  valid accuracy:  tensor([0.8164])\n",
      "epoch:  77  train loss:  0.44057148694992065  valid loss:  0.44140008091926575  train_accuracy:  tensor([0.8170])  valid accuracy:  tensor([0.8198])\n",
      "epoch:  78  train loss:  0.4358464181423187  valid loss:  0.4396432340145111  train_accuracy:  tensor([0.8193])  valid accuracy:  tensor([0.8159])\n",
      "epoch:  79  train loss:  0.4376969337463379  valid loss:  0.4350641369819641  train_accuracy:  tensor([0.8189])  valid accuracy:  tensor([0.8201])\n",
      "epoch:  80  train loss:  0.4333910048007965  valid loss:  0.44389352202415466  train_accuracy:  tensor([0.8229])  valid accuracy:  tensor([0.8132])\n",
      "epoch:  81  train loss:  0.4351475238800049  valid loss:  0.43688786029815674  train_accuracy:  tensor([0.8214])  valid accuracy:  tensor([0.8205])\n",
      "epoch:  82  train loss:  0.4321764409542084  valid loss:  0.4349687993526459  train_accuracy:  tensor([0.8216])  valid accuracy:  tensor([0.8212])\n",
      "epoch:  83  train loss:  0.4333166182041168  valid loss:  0.4342344403266907  train_accuracy:  tensor([0.8198])  valid accuracy:  tensor([0.8169])\n",
      "epoch:  84  train loss:  0.4314393699169159  valid loss:  0.4346512258052826  train_accuracy:  tensor([0.8197])  valid accuracy:  tensor([0.8217])\n",
      "epoch:  85  train loss:  0.43370115756988525  valid loss:  0.43246451020240784  train_accuracy:  tensor([0.8207])  valid accuracy:  tensor([0.8182])\n",
      "epoch:  86  train loss:  0.4294414818286896  valid loss:  0.435310035943985  train_accuracy:  tensor([0.8260])  valid accuracy:  tensor([0.8217])\n",
      "epoch:  87  train loss:  0.42788487672805786  valid loss:  0.4314158856868744  train_accuracy:  tensor([0.8260])  valid accuracy:  tensor([0.8251])\n",
      "epoch:  88  train loss:  0.431315153837204  valid loss:  0.4302109479904175  train_accuracy:  tensor([0.8250])  valid accuracy:  tensor([0.8216])\n",
      "epoch:  89  train loss:  0.4316478371620178  valid loss:  0.43378400802612305  train_accuracy:  tensor([0.8229])  valid accuracy:  tensor([0.8198])\n",
      "epoch:  90  train loss:  0.4303413927555084  valid loss:  0.4311155676841736  train_accuracy:  tensor([0.8246])  valid accuracy:  tensor([0.8183])\n",
      "epoch:  91  train loss:  0.42712080478668213  valid loss:  0.4347885847091675  train_accuracy:  tensor([0.8263])  valid accuracy:  tensor([0.8206])\n",
      "epoch:  92  train loss:  0.43012484908103943  valid loss:  0.4335569143295288  train_accuracy:  tensor([0.8234])  valid accuracy:  tensor([0.8226])\n",
      "epoch:  93  train loss:  0.4286310374736786  valid loss:  0.42954492568969727  train_accuracy:  tensor([0.8235])  valid accuracy:  tensor([0.8215])\n",
      "epoch:  94  train loss:  0.427835613489151  valid loss:  0.42949378490448  train_accuracy:  tensor([0.8278])  valid accuracy:  tensor([0.8241])\n",
      "epoch:  95  train loss:  0.4250371754169464  valid loss:  0.4287259876728058  train_accuracy:  tensor([0.8326])  valid accuracy:  tensor([0.8249])\n",
      "epoch:  96  train loss:  0.42508286237716675  valid loss:  0.4309127926826477  train_accuracy:  tensor([0.8295])  valid accuracy:  tensor([0.8252])\n",
      "epoch:  97  train loss:  0.4227597713470459  valid loss:  0.42633256316185  train_accuracy:  tensor([0.8250])  valid accuracy:  tensor([0.8246])\n",
      "epoch:  98  train loss:  0.4244413673877716  valid loss:  0.4257854223251343  train_accuracy:  tensor([0.8223])  valid accuracy:  tensor([0.8198])\n",
      "epoch:  99  train loss:  0.425566166639328  valid loss:  0.4250410497188568  train_accuracy:  tensor([0.8235])  valid accuracy:  tensor([0.8176])\n",
      "epoch:  100  train loss:  0.42449405789375305  valid loss:  0.42553001642227173  train_accuracy:  tensor([0.8232])  valid accuracy:  tensor([0.8213])\n",
      "epoch:  101  train loss:  0.4219246208667755  valid loss:  0.4256839454174042  train_accuracy:  tensor([0.8221])  valid accuracy:  tensor([0.8219])\n",
      "epoch:  102  train loss:  0.42021965980529785  valid loss:  0.4219105839729309  train_accuracy:  tensor([0.8238])  valid accuracy:  tensor([0.8222])\n",
      "epoch:  103  train loss:  0.4224834144115448  valid loss:  0.4204575717449188  train_accuracy:  tensor([0.8237])  valid accuracy:  tensor([0.8198])\n",
      "epoch:  104  train loss:  0.42228811979293823  valid loss:  0.4240352213382721  train_accuracy:  tensor([0.8224])  valid accuracy:  tensor([0.8197])\n",
      "epoch:  105  train loss:  0.42067718505859375  valid loss:  0.4205816090106964  train_accuracy:  tensor([0.8247])  valid accuracy:  tensor([0.8228])\n",
      "epoch:  106  train loss:  0.4220580756664276  valid loss:  0.42361417412757874  train_accuracy:  tensor([0.8216])  valid accuracy:  tensor([0.8187])\n",
      "epoch:  107  train loss:  0.42334142327308655  valid loss:  0.4232417941093445  train_accuracy:  tensor([0.8199])  valid accuracy:  tensor([0.8187])\n",
      "epoch:  108  train loss:  0.4209359884262085  valid loss:  0.42052653431892395  train_accuracy:  tensor([0.8200])  valid accuracy:  tensor([0.8177])\n",
      "epoch:  109  train loss:  0.42049267888069153  valid loss:  0.4190014898777008  train_accuracy:  tensor([0.8212])  valid accuracy:  tensor([0.8266])\n",
      "epoch:  110  train loss:  0.41992810368537903  valid loss:  0.42051616311073303  train_accuracy:  tensor([0.8275])  valid accuracy:  tensor([0.8277])\n",
      "epoch:  111  train loss:  0.4157449007034302  valid loss:  0.4206291735172272  train_accuracy:  tensor([0.8323])  valid accuracy:  tensor([0.8311])\n",
      "epoch:  112  train loss:  0.4147416353225708  valid loss:  0.4168960154056549  train_accuracy:  tensor([0.8329])  valid accuracy:  tensor([0.8322])\n",
      "epoch:  113  train loss:  0.4152912497520447  valid loss:  0.4246252179145813  train_accuracy:  tensor([0.8283])  valid accuracy:  tensor([0.8226])\n",
      "epoch:  114  train loss:  0.417784184217453  valid loss:  0.41989055275917053  train_accuracy:  tensor([0.8250])  valid accuracy:  tensor([0.8231])\n",
      "epoch:  115  train loss:  0.41563862562179565  valid loss:  0.41886669397354126  train_accuracy:  tensor([0.8278])  valid accuracy:  tensor([0.8233])\n",
      "epoch:  116  train loss:  0.41703033447265625  valid loss:  0.41696587204933167  train_accuracy:  tensor([0.8247])  valid accuracy:  tensor([0.8233])\n",
      "epoch:  117  train loss:  0.415912926197052  valid loss:  0.41604095697402954  train_accuracy:  tensor([0.8287])  valid accuracy:  tensor([0.8303])\n",
      "epoch:  118  train loss:  0.41311559081077576  valid loss:  0.42001834511756897  train_accuracy:  tensor([0.8329])  valid accuracy:  tensor([0.8297])\n",
      "epoch:  119  train loss:  0.4141276776790619  valid loss:  0.417873352766037  train_accuracy:  tensor([0.8299])  valid accuracy:  tensor([0.8286])\n",
      "epoch:  120  train loss:  0.4152856767177582  valid loss:  0.4150290787220001  train_accuracy:  tensor([0.8275])  valid accuracy:  tensor([0.8245])\n",
      "epoch:  121  train loss:  0.4127105176448822  valid loss:  0.4141111373901367  train_accuracy:  tensor([0.8271])  valid accuracy:  tensor([0.8284])\n",
      "epoch:  122  train loss:  0.41349631547927856  valid loss:  0.4178873598575592  train_accuracy:  tensor([0.8263])  valid accuracy:  tensor([0.8226])\n",
      "epoch:  123  train loss:  0.4115886390209198  valid loss:  0.41570860147476196  train_accuracy:  tensor([0.8276])  valid accuracy:  tensor([0.8251])\n",
      "epoch:  124  train loss:  0.4119156301021576  valid loss:  0.4151169955730438  train_accuracy:  tensor([0.8267])  valid accuracy:  tensor([0.8251])\n",
      "epoch:  125  train loss:  0.409872442483902  valid loss:  0.4178007245063782  train_accuracy:  tensor([0.8281])  valid accuracy:  tensor([0.8220])\n",
      "epoch:  126  train loss:  0.4113999605178833  valid loss:  0.41469064354896545  train_accuracy:  tensor([0.8260])  valid accuracy:  tensor([0.8255])\n",
      "epoch:  127  train loss:  0.4100656807422638  valid loss:  0.41517874598503113  train_accuracy:  tensor([0.8280])  valid accuracy:  tensor([0.8242])\n",
      "epoch:  128  train loss:  0.4083602726459503  valid loss:  0.4153413772583008  train_accuracy:  tensor([0.8282])  valid accuracy:  tensor([0.8240])\n",
      "epoch:  129  train loss:  0.4114809036254883  valid loss:  0.40974730253219604  train_accuracy:  tensor([0.8244])  valid accuracy:  tensor([0.8264])\n",
      "epoch:  130  train loss:  0.40857774019241333  valid loss:  0.4133888781070709  train_accuracy:  tensor([0.8293])  valid accuracy:  tensor([0.8244])\n",
      "epoch:  131  train loss:  0.4100084602832794  valid loss:  0.4134655296802521  train_accuracy:  tensor([0.8296])  valid accuracy:  tensor([0.8280])\n",
      "epoch:  132  train loss:  0.4063456654548645  valid loss:  0.40948471426963806  train_accuracy:  tensor([0.8316])  valid accuracy:  tensor([0.8306])\n",
      "epoch:  133  train loss:  0.4105445444583893  valid loss:  0.4109717309474945  train_accuracy:  tensor([0.8278])  valid accuracy:  tensor([0.8295])\n",
      "epoch:  134  train loss:  0.40427151322364807  valid loss:  0.4105537235736847  train_accuracy:  tensor([0.8338])  valid accuracy:  tensor([0.8288])\n",
      "epoch:  135  train loss:  0.40606436133384705  valid loss:  0.41139528155326843  train_accuracy:  tensor([0.8308])  valid accuracy:  tensor([0.8300])\n",
      "epoch:  136  train loss:  0.4074306786060333  valid loss:  0.4097673296928406  train_accuracy:  tensor([0.8315])  valid accuracy:  tensor([0.8291])\n",
      "epoch:  137  train loss:  0.40650448203086853  valid loss:  0.4056539237499237  train_accuracy:  tensor([0.8303])  valid accuracy:  tensor([0.8331])\n",
      "epoch:  138  train loss:  0.4031745195388794  valid loss:  0.4060266315937042  train_accuracy:  tensor([0.8344])  valid accuracy:  tensor([0.8343])\n",
      "epoch:  139  train loss:  0.4044259786605835  valid loss:  0.4041520953178406  train_accuracy:  tensor([0.8328])  valid accuracy:  tensor([0.8362])\n",
      "epoch:  140  train loss:  0.40333792567253113  valid loss:  0.40578022599220276  train_accuracy:  tensor([0.8361])  valid accuracy:  tensor([0.8328])\n",
      "epoch:  141  train loss:  0.40385517477989197  valid loss:  0.4068717956542969  train_accuracy:  tensor([0.8319])  valid accuracy:  tensor([0.8343])\n",
      "epoch:  142  train loss:  0.4033530056476593  valid loss:  0.40925613045692444  train_accuracy:  tensor([0.8320])  valid accuracy:  tensor([0.8333])\n",
      "epoch:  143  train loss:  0.402614027261734  valid loss:  0.40737730264663696  train_accuracy:  tensor([0.8319])  valid accuracy:  tensor([0.8331])\n",
      "epoch:  144  train loss:  0.4026050865650177  valid loss:  0.4088402986526489  train_accuracy:  tensor([0.8332])  valid accuracy:  tensor([0.8333])\n",
      "epoch:  145  train loss:  0.4008861184120178  valid loss:  0.4029322862625122  train_accuracy:  tensor([0.8346])  valid accuracy:  tensor([0.8340])\n",
      "epoch:  146  train loss:  0.3992782235145569  valid loss:  0.4030035436153412  train_accuracy:  tensor([0.8353])  valid accuracy:  tensor([0.8308])\n",
      "epoch:  147  train loss:  0.4007777273654938  valid loss:  0.4044610559940338  train_accuracy:  tensor([0.8341])  valid accuracy:  tensor([0.8328])\n",
      "epoch:  148  train loss:  0.4002227783203125  valid loss:  0.40250685811042786  train_accuracy:  tensor([0.8340])  valid accuracy:  tensor([0.8315])\n",
      "epoch:  149  train loss:  0.3991595208644867  valid loss:  0.40187355875968933  train_accuracy:  tensor([0.8338])  valid accuracy:  tensor([0.8336])\n",
      "epoch:  150  train loss:  0.39659443497657776  valid loss:  0.3997277617454529  train_accuracy:  tensor([0.8368])  valid accuracy:  tensor([0.8329])\n",
      "epoch:  151  train loss:  0.39631104469299316  valid loss:  0.3984852731227875  train_accuracy:  tensor([0.8358])  valid accuracy:  tensor([0.8360])\n",
      "epoch:  152  train loss:  0.39689064025878906  valid loss:  0.4042529761791229  train_accuracy:  tensor([0.8345])  valid accuracy:  tensor([0.8280])\n",
      "epoch:  153  train loss:  0.3942595422267914  valid loss:  0.4009090065956116  train_accuracy:  tensor([0.8343])  valid accuracy:  tensor([0.8318])\n",
      "epoch:  154  train loss:  0.39376258850097656  valid loss:  0.3980967104434967  train_accuracy:  tensor([0.8401])  valid accuracy:  tensor([0.8379])\n",
      "epoch:  155  train loss:  0.39117711782455444  valid loss:  0.4000639021396637  train_accuracy:  tensor([0.8405])  valid accuracy:  tensor([0.8365])\n",
      "epoch:  156  train loss:  0.392270028591156  valid loss:  0.3933543562889099  train_accuracy:  tensor([0.8410])  valid accuracy:  tensor([0.8408])\n",
      "epoch:  157  train loss:  0.3935038447380066  valid loss:  0.394247442483902  train_accuracy:  tensor([0.8392])  valid accuracy:  tensor([0.8409])\n",
      "epoch:  158  train loss:  0.39127832651138306  valid loss:  0.3968009054660797  train_accuracy:  tensor([0.8394])  valid accuracy:  tensor([0.8373])\n",
      "epoch:  159  train loss:  0.3909018337726593  valid loss:  0.393160343170166  train_accuracy:  tensor([0.8404])  valid accuracy:  tensor([0.8365])\n",
      "epoch:  160  train loss:  0.3875597417354584  valid loss:  0.39448079466819763  train_accuracy:  tensor([0.8413])  valid accuracy:  tensor([0.8368])\n",
      "epoch:  161  train loss:  0.3884005844593048  valid loss:  0.3905627131462097  train_accuracy:  tensor([0.8395])  valid accuracy:  tensor([0.8397])\n",
      "epoch:  162  train loss:  0.38616323471069336  valid loss:  0.394569456577301  train_accuracy:  tensor([0.8413])  valid accuracy:  tensor([0.8362])\n",
      "epoch:  163  train loss:  0.3870583176612854  valid loss:  0.3916817605495453  train_accuracy:  tensor([0.8395])  valid accuracy:  tensor([0.8355])\n",
      "epoch:  164  train loss:  0.3850918412208557  valid loss:  0.3866722583770752  train_accuracy:  tensor([0.8389])  valid accuracy:  tensor([0.8375])\n",
      "epoch:  165  train loss:  0.38747110962867737  valid loss:  0.3872074484825134  train_accuracy:  tensor([0.8386])  valid accuracy:  tensor([0.8415])\n",
      "epoch:  166  train loss:  0.3844558000564575  valid loss:  0.39101356267929077  train_accuracy:  tensor([0.8412])  valid accuracy:  tensor([0.8365])\n",
      "epoch:  167  train loss:  0.385319322347641  valid loss:  0.38622087240219116  train_accuracy:  tensor([0.8376])  valid accuracy:  tensor([0.8368])\n",
      "epoch:  168  train loss:  0.38375455141067505  valid loss:  0.38852420449256897  train_accuracy:  tensor([0.8403])  valid accuracy:  tensor([0.8331])\n",
      "epoch:  169  train loss:  0.3836295008659363  valid loss:  0.3846469223499298  train_accuracy:  tensor([0.8387])  valid accuracy:  tensor([0.8400])\n",
      "epoch:  170  train loss:  0.3794272541999817  valid loss:  0.3855920135974884  train_accuracy:  tensor([0.8419])  valid accuracy:  tensor([0.8353])\n",
      "epoch:  171  train loss:  0.37950053811073303  valid loss:  0.380671888589859  train_accuracy:  tensor([0.8403])  valid accuracy:  tensor([0.8397])\n",
      "epoch:  172  train loss:  0.3807222247123718  valid loss:  0.38334599137306213  train_accuracy:  tensor([0.8374])  valid accuracy:  tensor([0.8372])\n",
      "epoch:  173  train loss:  0.38009145855903625  valid loss:  0.3841751515865326  train_accuracy:  tensor([0.8387])  valid accuracy:  tensor([0.8372])\n",
      "epoch:  174  train loss:  0.3784638047218323  valid loss:  0.38539087772369385  train_accuracy:  tensor([0.8404])  valid accuracy:  tensor([0.8353])\n",
      "epoch:  175  train loss:  0.3757251501083374  valid loss:  0.38109830021858215  train_accuracy:  tensor([0.8411])  valid accuracy:  tensor([0.8379])\n",
      "epoch:  176  train loss:  0.3767718970775604  valid loss:  0.3820231556892395  train_accuracy:  tensor([0.8379])  valid accuracy:  tensor([0.8349])\n",
      "epoch:  177  train loss:  0.37537065148353577  valid loss:  0.380973219871521  train_accuracy:  tensor([0.8411])  valid accuracy:  tensor([0.8391])\n",
      "epoch:  178  train loss:  0.37767234444618225  valid loss:  0.37882086634635925  train_accuracy:  tensor([0.8377])  valid accuracy:  tensor([0.8376])\n",
      "epoch:  179  train loss:  0.37499096989631653  valid loss:  0.3785952031612396  train_accuracy:  tensor([0.8397])  valid accuracy:  tensor([0.8357])\n",
      "epoch:  180  train loss:  0.37453246116638184  valid loss:  0.37757056951522827  train_accuracy:  tensor([0.8392])  valid accuracy:  tensor([0.8379])\n",
      "epoch:  181  train loss:  0.3733290135860443  valid loss:  0.37629514932632446  train_accuracy:  tensor([0.8405])  valid accuracy:  tensor([0.8369])\n",
      "epoch:  182  train loss:  0.36931440234184265  valid loss:  0.3788810074329376  train_accuracy:  tensor([0.8404])  valid accuracy:  tensor([0.8350])\n",
      "epoch:  183  train loss:  0.37055277824401855  valid loss:  0.37951746582984924  train_accuracy:  tensor([0.8386])  valid accuracy:  tensor([0.8344])\n",
      "epoch:  184  train loss:  0.37290865182876587  valid loss:  0.3755638301372528  train_accuracy:  tensor([0.8399])  valid accuracy:  tensor([0.8393])\n",
      "epoch:  185  train loss:  0.3708549439907074  valid loss:  0.37939685583114624  train_accuracy:  tensor([0.8397])  valid accuracy:  tensor([0.8383])\n",
      "epoch:  186  train loss:  0.3715192973613739  valid loss:  0.37585482001304626  train_accuracy:  tensor([0.8368])  valid accuracy:  tensor([0.8358])\n",
      "epoch:  187  train loss:  0.3714297413825989  valid loss:  0.3767673671245575  train_accuracy:  tensor([0.8400])  valid accuracy:  tensor([0.8364])\n",
      "epoch:  188  train loss:  0.3701958954334259  valid loss:  0.3759080469608307  train_accuracy:  tensor([0.8408])  valid accuracy:  tensor([0.8353])\n",
      "epoch:  189  train loss:  0.3702974319458008  valid loss:  0.3767436742782593  train_accuracy:  tensor([0.8374])  valid accuracy:  tensor([0.8364])\n",
      "epoch:  190  train loss:  0.37167122960090637  valid loss:  0.3741125166416168  train_accuracy:  tensor([0.8394])  valid accuracy:  tensor([0.8382])\n",
      "epoch:  191  train loss:  0.3677242398262024  valid loss:  0.37312760949134827  train_accuracy:  tensor([0.8391])  valid accuracy:  tensor([0.8354])\n",
      "epoch:  192  train loss:  0.37198927998542786  valid loss:  0.3747822046279907  train_accuracy:  tensor([0.8360])  valid accuracy:  tensor([0.8346])\n",
      "epoch:  193  train loss:  0.3716791570186615  valid loss:  0.37621548771858215  train_accuracy:  tensor([0.8379])  valid accuracy:  tensor([0.8375])\n",
      "epoch:  194  train loss:  0.36983129382133484  valid loss:  0.3745337426662445  train_accuracy:  tensor([0.8385])  valid accuracy:  tensor([0.8357])\n",
      "epoch:  195  train loss:  0.36765095591545105  valid loss:  0.3761482238769531  train_accuracy:  tensor([0.8416])  valid accuracy:  tensor([0.8371])\n",
      "epoch:  196  train loss:  0.3683234453201294  valid loss:  0.371629536151886  train_accuracy:  tensor([0.8410])  valid accuracy:  tensor([0.8387])\n",
      "epoch:  197  train loss:  0.3695546090602875  valid loss:  0.372143417596817  train_accuracy:  tensor([0.8396])  valid accuracy:  tensor([0.8379])\n",
      "epoch:  198  train loss:  0.3692702054977417  valid loss:  0.3709311783313751  train_accuracy:  tensor([0.8394])  valid accuracy:  tensor([0.8412])\n",
      "epoch:  199  train loss:  0.3697158098220825  valid loss:  0.37559017539024353  train_accuracy:  tensor([0.8399])  valid accuracy:  tensor([0.8383])\n"
     ]
    }
   ],
   "source": [
    "class RGCN_3layer(nn.Module):\n",
    "    def __init__(self, in_feats, hid_feats, out_feats, rel_names):\n",
    "        super().__init__()\n",
    "\n",
    "        self.conv1 = dglnn.HeteroGraphConv({\n",
    "            rel: dglnn.GraphConv(in_feats, hid_feats)\n",
    "            for rel in rel_names}, aggregate='mean')\n",
    "        self.conv2 = dglnn.HeteroGraphConv({\n",
    "            rel: dglnn.GraphConv(hid_feats, hid_feats)\n",
    "            for rel in rel_names}, aggregate='mean')\n",
    "        self.conv3 = dglnn.HeteroGraphConv({\n",
    "            rel: dglnn.GraphConv(hid_feats, out_feats)\n",
    "            for rel in rel_names}, aggregate='mean')\n",
    "\n",
    "    def forward(self, graph, inputs, mask):\n",
    "        # inputs are features of nodes\n",
    "        h = self.conv1(graph, inputs, mod_kwargs={\n",
    "            'associate_with': {'edge_weight': mask}})\n",
    "        h = {k: F.relu(v) for k, v in h.items()}\n",
    "\n",
    "        h = self.conv2(graph, h, mod_kwargs={\n",
    "            'associate_with': {'edge_weight': mask}})\n",
    "        h = {k: F.relu(v) for k, v in h.items()}\n",
    "\n",
    "        h = self.conv3(graph, h, mod_kwargs={\n",
    "            'associate_with': {'edge_weight': mask}})\n",
    "\n",
    "        return h\n",
    "\n",
    "def construct_negative_graph(graph, k, etype):\n",
    "    utype, _, vtype = etype\n",
    "    src, dst = graph.edges(etype=etype)\n",
    "    neg_src = src.repeat_interleave(k)\n",
    "    neg_dst = torch.randint(0, graph.num_nodes(vtype), (len(src) * k,))\n",
    "    return dgl.heterograph(\n",
    "        {etype: (neg_src, neg_dst)},\n",
    "        num_nodes_dict={ntype: graph.num_nodes(ntype) for ntype in graph.ntypes})\n",
    "\n",
    "class HeteroDotProductPredictor(nn.Module):\n",
    "    def forward(self, graph, h, etype):\n",
    "        # h contains the node representations for each node type computed from\n",
    "        # the GNN defined in the previous section (Section 5.1).\n",
    "        with graph.local_scope():\n",
    "            graph.ndata['h'] = h\n",
    "            graph.apply_edges(fn.u_dot_v('h', 'h', 'score'), etype=etype)\n",
    "            return graph.edges[etype].data['score']\n",
    "\n",
    "class Model(nn.Module):\n",
    "    def __init__(self, in_features, hidden_features, out_features, rel_names):\n",
    "        super().__init__()\n",
    "        self.sage = RGCN_3layer(in_features, hidden_features, out_features, rel_names)\n",
    "        self.pred = HeteroDotProductPredictor()\n",
    "    def forward(self, g, neg_g, x, etype, pos_train_mask):\n",
    "        h = self.sage(g, x, pos_train_mask)\n",
    "        return self.pred(g, h, etype), self.pred(neg_g, h, etype)\n",
    "\n",
    "\n",
    "n_hetero_features = 32\n",
    "n_hidden = 64\n",
    "n_output = 32\n",
    "hetero_graph = dgl.heterograph({\n",
    "    ('miRNA', 'similar_to', 'miRNA'): (new_edge_index['mm'][0], new_edge_index['mm'][1]),\n",
    "    ('gene', 'similar_to', 'gene'): (new_edge_index['gg'][0], new_edge_index['gg'][1]),\n",
    "    ('disease', 'similar_to', 'disease'): (new_edge_index['dd'][0], new_edge_index['dd'][1]),\n",
    "    ('miRNA', 'target_to', 'gene'): (new_edge_index['mg'][0], new_edge_index['mg'][1]),\n",
    "    ('miRNA', 'associate_with', 'disease'): (new_edge_index['md'][0], new_edge_index['md'][1]),\n",
    "    ('gene', 'related_to', 'disease'): (new_edge_index['gd'][0], new_edge_index['gd'][1])})\n",
    "\n",
    "n_miRNA = hetero_graph.num_nodes('miRNA')\n",
    "n_gene = hetero_graph.num_nodes('gene')\n",
    "n_disease= hetero_graph.num_nodes('disease')\n",
    "\n",
    "hetero_graph.nodes['miRNA'].data['feature'] = torch.randn(n_miRNA, n_hetero_features)\n",
    "hetero_graph.nodes['gene'].data['feature'] = torch.randn(n_gene, n_hetero_features)\n",
    "hetero_graph.nodes['disease'].data['feature'] = torch.randn(n_disease, n_hetero_features)\n",
    "\n",
    "def compute_loss_with_mask(pos_score, neg_score):\n",
    "    # Margin loss\n",
    "    n_edges = pos_score.shape[0]\n",
    "    return (1 - pos_score +  neg_score.view(n_edges, -1)).clamp(min=0).mean()\n",
    "\n",
    "\n",
    "k = 5\n",
    "model = Model(n_hetero_features, n_hidden, n_output, hetero_graph.etypes)\n",
    "miRNA_feats = hetero_graph.nodes['miRNA'].data['feature']\n",
    "gene_feats = hetero_graph.nodes['gene'].data['feature']\n",
    "disease_feats = hetero_graph.nodes['disease'].data['feature']\n",
    "node_features = {'miRNA': miRNA_feats, 'gene': gene_feats, 'disease':disease_feats}\n",
    "\n",
    "num_target_edge = hetero_graph['associate_with'].num_edges()\n",
    "pos_train_mask = (torch.rand(num_target_edge, 1) > 0.3).float()\n",
    "\n",
    "pos_train_index = torch.tensor(np.where(pos_train_mask == 1)[0])\n",
    "pos_valid_index = torch.tensor(np.where(pos_train_mask == 0)[0])\n",
    "\n",
    "train_loss_accu = []\n",
    "valid_loss_accu = []\n",
    "\n",
    "train_accuracy_accu = []\n",
    "valid_accuracy__accu = []\n",
    "\n",
    "num_epoch = 200\n",
    "\n",
    "loss_fn = nn.BCEWithLogitsLoss()\n",
    "\n",
    "opt = torch.optim.Adam(model.parameters())\n",
    "for epoch in range(num_epoch):\n",
    "    negative_graph_train = construct_negative_graph(hetero_graph, k, ('miRNA', 'associate_with', 'disease'))\n",
    "    pos_score, neg_score = model(hetero_graph, negative_graph_train, node_features, ('miRNA', 'associate_with', 'disease'),pos_train_mask)\n",
    "    \n",
    "    perm = torch.randperm(neg_score.size(0))\n",
    "    neg_train_index = perm[:int(5*sum(pos_train_mask))]\n",
    "    neg_valid_index = perm[int(5*sum(pos_train_mask)):]\n",
    "\n",
    "    loss = compute_loss_with_mask(torch.index_select(pos_score, 0, pos_train_index),torch.index_select(neg_score, 0, neg_train_index))\n",
    "\n",
    "    predict = torch.cat((torch.index_select(pos_score, 0, pos_train_index),torch.index_select(neg_score, 0, neg_train_index)),0)\n",
    "    target = torch.tensor([1]*torch.index_select(pos_score, 0, pos_train_index).shape[0] + [0]*torch.index_select(neg_score, 0, neg_train_index).shape[0]).unsqueeze(1)\n",
    "    #target = target.to(device)\n",
    "\n",
    "    loss = loss_fn(predict, target.float())\n",
    "\n",
    "    opt.zero_grad()\n",
    "    loss.backward()\n",
    "    opt.step()\n",
    "\n",
    "\n",
    "    predict = torch.cat((torch.index_select(pos_score, 0, pos_valid_index),torch.index_select(neg_score, 0, neg_valid_index)),0)\n",
    "    target = torch.tensor([1]*torch.index_select(pos_score, 0, pos_valid_index).shape[0] + [0]*torch.index_select(neg_score, 0, neg_valid_index).shape[0]).unsqueeze(1)\n",
    "    #target = target.to(device)\n",
    "    valid_loss = loss_fn(predict, target.float())\n",
    "\n",
    "    train_loss_accu.append(loss.item())\n",
    "    valid_loss_accu.append(valid_loss.item())\n",
    "\n",
    "    accu_pos = (torch.index_select(pos_score, 0, pos_valid_index) > 0)\n",
    "    accu_neg = (torch.index_select(neg_score, 0, neg_valid_index) < 0)\n",
    "    valid_accu = (sum(accu_pos)+sum(accu_neg))/(len(accu_pos)+len(accu_neg))\n",
    "\n",
    "    accu_pos = (torch.index_select(pos_score, 0, pos_train_index) > 0)\n",
    "    accu_neg = (torch.index_select(neg_score, 0, neg_train_index) < 0)\n",
    "    train_accu = (sum(accu_pos)+sum(accu_neg))/(len(accu_pos)+len(accu_neg))\n",
    "\n",
    "    train_accuracy_accu.append(train_accu)\n",
    "    valid_accuracy__accu.append(valid_accu)\n",
    "\n",
    "    print(\"epoch: \", epoch, \" train loss: \", loss.item(), \" valid loss: \",valid_loss.item(), \" train_accuracy: \",train_accu,\" valid accuracy: \",valid_accu)\n",
    "\n"
   ]
  },
  {
   "cell_type": "code",
   "execution_count": 19,
   "id": "c2ead6ce-c3f4-4fa4-a369-8fc287b60cd0",
   "metadata": {},
   "outputs": [
    {
     "data": {
      "image/png": "[encoded data removed]",
      "text/plain": [
       "<Figure size 640x480 with 1 Axes>"
      ]
     },
     "metadata": {},
     "output_type": "display_data"
    }
   ],
   "source": [
    "# Generate a sequence of integers to represent the epoch numbers\n",
    "epochs = range(num_epoch)\n",
    "\n",
    "# Plot and label the training and validation loss values\n",
    "plt.plot(epochs, train_loss_accu, label='Training Loss')\n",
    "plt.plot(epochs, valid_loss_accu, label='Validation Loss')\n",
    "\n",
    "# Add in a title and axes labels\n",
    "plt.title('Training and Validation Loss')\n",
    "plt.xlabel('Epochs')\n",
    "plt.ylabel('Loss')\n",
    "\n",
    "# Set the tick locations\n",
    "plt.xticks(range(0, num_epoch, 50))\n",
    "plt.ylim(ymax = 1, ymin = 0)\n",
    "# Display the plot\n",
    "plt.legend(loc='best')\n",
    "plt.show()"
   ]
  },
  {
   "cell_type": "code",
   "execution_count": 25,
   "id": "0d9e9b5a-466a-4e64-b749-519229abe368",
   "metadata": {},
   "outputs": [
    {
     "data": {
      "image/png": "[encoded data removed]",
      "text/plain": [
       "<Figure size 640x480 with 1 Axes>"
      ]
     },
     "metadata": {},
     "output_type": "display_data"
    }
   ],
   "source": [
    "# Generate a sequence of integers to represent the epoch numbers\n",
    "epochs = range(num_epoch)\n",
    "\n",
    "# Plot and label the training and validation loss values\n",
    "plt.plot(epochs, train_accuracy_accu, label='Training accuracy')\n",
    "plt.plot(epochs, valid_accuracy__accu, label='Validation accuracy')\n",
    "\n",
    "# Add in a title and axes labels\n",
    "plt.title('Training and Validation Accuracy')\n",
    "plt.xlabel('Epochs')\n",
    "plt.ylabel('Loss')\n",
    "\n",
    "# Set the tick locations\n",
    "plt.xticks(range(0, num_epoch, 50))\n",
    "plt.ylim(ymax = 1, ymin = 0)\n",
    "# Display the plot\n",
    "plt.legend(loc='best')\n",
    "plt.show()"
   ]
  },
  {
   "cell_type": "code",
   "execution_count": null,
   "id": "315705cd-60c2-4365-94ef-23c5d188369c",
   "metadata": {},
   "outputs": [],
   "source": []
  }
 ],
 "metadata": {
  "kernelspec": {
   "display_name": "Python 3 (ipykernel)",
   "language": "python",
   "name": "python3"
  },
  "language_info": {
   "codemirror_mode": {
    "name": "ipython",
    "version": 3
   },
   "file_extension": ".py",
   "mimetype": "text/x-python",
   "name": "python",
   "nbconvert_exporter": "python",
   "pygments_lexer": "ipython3",
   "version": "3.10.13"
  }
 },
 "nbformat": 4,
 "nbformat_minor": 5
}
