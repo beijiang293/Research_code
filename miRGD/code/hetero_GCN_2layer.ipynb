{
 "cells": [
  {
   "cell_type": "markdown",
   "id": "be6483d4-0721-4c13-8b11-c0207ff89b37",
   "metadata": {},
   "source": [
    "Setup enviroment"
   ]
  },
  {
   "cell_type": "code",
   "execution_count": 2,
   "id": "50e1ce83-dfb9-4c0e-82ef-a4b12b92ee29",
   "metadata": {},
   "outputs": [
    {
     "name": "stdout",
     "output_type": "stream",
     "text": [
      "2.1.0+cu121\n"
     ]
    }
   ],
   "source": [
    "import os\n",
    "import torch\n",
    "os.environ['TORCH'] = torch.__version__\n",
    "print(torch.__version__)\n",
    "\n",
    "!pip install -q torch-scatter -f https://data.pyg.org/whl/torch-${TORCH}.html\n",
    "!pip install -q torch-sparse -f https://data.pyg.org/whl/torch-${TORCH}.html\n",
    "!pip install -q git+https://github.com/pyg-team/pytorch_geometric.git"
   ]
  },
  {
   "cell_type": "code",
   "execution_count": 3,
   "id": "2527527c-0554-4d17-b1dd-cb6adde1ca14",
   "metadata": {},
   "outputs": [],
   "source": [
    "!pip install -q dgl"
   ]
  },
  {
   "cell_type": "code",
   "execution_count": 4,
   "id": "69c13ce2-18e1-410f-b0f8-6683a0b51c08",
   "metadata": {},
   "outputs": [],
   "source": [
    "from torch_geometric.data import Data\n",
    "from torch_geometric.datasets import Planetoid\n",
    "from torch_geometric import nn\n",
    "import torch_geometric.transforms as T"
   ]
  },
  {
   "cell_type": "code",
   "execution_count": 5,
   "id": "f099978e-bde5-43a5-a009-426a43849bfc",
   "metadata": {},
   "outputs": [
    {
     "name": "stderr",
     "output_type": "stream",
     "text": [
      "/tmp/ipykernel_3778504/4213285088.py:2: DeprecationWarning: \n",
      "Pyarrow will become a required dependency of pandas in the next major release of pandas (pandas 3.0),\n",
      "(to allow more performant data types, such as the Arrow string type, and better interoperability with other libraries)\n",
      "but was not found to be installed on your system.\n",
      "If this would cause problems for you,\n",
      "please provide us feedback at https://github.com/pandas-dev/pandas/issues/54466\n",
      "        \n",
      "  import pandas as pd\n"
     ]
    }
   ],
   "source": [
    "import json\n",
    "import pandas as pd\n",
    "import numpy as np\n",
    "import random\n",
    "import dgl\n",
    "import dgl.nn as dglnn\n",
    "import torch.nn as nn\n",
    "import torch.nn.functional as F\n",
    "import dgl.function as fn"
   ]
  },
  {
   "cell_type": "code",
   "execution_count": 6,
   "id": "9b0ee802-8eb6-4110-b953-876e78a2e5dc",
   "metadata": {},
   "outputs": [],
   "source": [
    "import matplotlib.pyplot as plt\n",
    "%matplotlib inline"
   ]
  },
  {
   "cell_type": "code",
   "execution_count": 18,
   "id": "1cf5ea79-8e18-4431-8bf3-1362f0833b73",
   "metadata": {},
   "outputs": [],
   "source": [
    "from sklearn.metrics import f1_score\n",
    "import numpy as np"
   ]
  },
  {
   "cell_type": "code",
   "execution_count": 8,
   "id": "3732aaeb-2113-4e52-a33f-5f7c929b7ad0",
   "metadata": {},
   "outputs": [],
   "source": [
    "device = torch.device(\"cuda\" if torch.cuda.is_available() else \"cpu\")"
   ]
  },
  {
   "cell_type": "markdown",
   "id": "3e6194cc-3a13-474b-bf2a-648f1a99b0ac",
   "metadata": {},
   "source": [
    "Load node2id dictionary"
   ]
  },
  {
   "cell_type": "code",
   "execution_count": 9,
   "id": "0c07da17-bdb8-4436-b98e-3ceb5d4f1473",
   "metadata": {},
   "outputs": [
    {
     "data": {
      "text/plain": [
       "True"
      ]
     },
     "execution_count": 9,
     "metadata": {},
     "output_type": "execute_result"
    }
   ],
   "source": [
    "os.path.isdir(\"/gpfs/gibbs/pi/gerstein/yc774/project/miRGD/graph\")"
   ]
  },
  {
   "cell_type": "code",
   "execution_count": 10,
   "id": "1c8462ea-582f-46d1-bd8b-1105b52db7bd",
   "metadata": {},
   "outputs": [],
   "source": [
    "#open files\n",
    "proj_dir = os.path.join(\"/gpfs/gibbs/pi/gerstein/yc774/project/miRGD/graph\")\n",
    "f = open(os.path.join(proj_dir,\"node2id.json\"))\n",
    "node2id = json.load(f)\n",
    "\n",
    "f = open(os.path.join(proj_dir,\"id2node.json\"))\n",
    "id2node = json.load(f)"
   ]
  },
  {
   "cell_type": "code",
   "execution_count": 11,
   "id": "5c8aaf8f-92a8-441c-9cf9-a57c29bba00f",
   "metadata": {},
   "outputs": [],
   "source": [
    "relation = [\"mm\",\"dd\",\"gg\",\"md\",\"mg\",\"dg\"]\n",
    "\n",
    "edge_index = {}\n",
    "for rel in relation:\n",
    "  pth = os.path.join(proj_dir,\"{}_edge.csv\".format(rel))\n",
    "  edge_df = pd.read_csv(pth)\n",
    "  edge_list = np.transpose(edge_df.values)\n",
    "  edge_index[rel] = torch.tensor(edge_list).long()"
   ]
  },
  {
   "cell_type": "code",
   "execution_count": 12,
   "id": "21b6f088-d8fb-445f-8173-f322c7844851",
   "metadata": {},
   "outputs": [
    {
     "data": {
      "text/plain": [
       "{'mm': tensor([[ 898,  898,  898,  ...,  694,  482,  482],\n",
       "         [ 841, 1069,  541,  ...,  953, 1011,  147]]),\n",
       " 'dd': tensor([[1175, 1175, 1175,  ..., 1134, 1134, 1134],\n",
       "         [1180, 1144, 1208,  ..., 1168, 1141, 1139]]),\n",
       " 'gg': tensor([[2147, 2147, 2147,  ..., 6556, 8910, 5385],\n",
       "         [8388, 7092, 9807,  ..., 1735, 1735, 1735]]),\n",
       " 'md': tensor([[ 898,  898,  898,  ...,  270,  946,  250],\n",
       "         [1193, 1180, 1214,  ..., 1191, 1213, 1213]]),\n",
       " 'mg': tensor([[  32,  832,  832,  ...,  589,  589,  100],\n",
       "         [5215, 7835, 7835,  ..., 5135, 9328, 4016]]),\n",
       " 'dg': tensor([[5925, 5925, 4194,  ..., 7342, 5467, 5467],\n",
       "         [1183, 1153, 1153,  ..., 1204, 1131, 1148]])}"
      ]
     },
     "execution_count": 12,
     "metadata": {},
     "output_type": "execute_result"
    }
   ],
   "source": [
    "edge_index"
   ]
  },
  {
   "cell_type": "code",
   "execution_count": 13,
   "id": "5c903066-f0c5-41a0-99b3-88af1e9f82e2",
   "metadata": {},
   "outputs": [
    {
     "name": "stderr",
     "output_type": "stream",
     "text": [
      "/tmp/ipykernel_3778504/2437488178.py:32: UserWarning: Creating a tensor from a list of numpy.ndarrays is extremely slow. Please consider converting the list to a single numpy.ndarray with numpy.array() before converting to a tensor. (Triggered internally at ../torch/csrc/utils/tensor_new.cpp:261.)\n",
      "  new_edge_index['md'] = torch.tensor([\n"
     ]
    }
   ],
   "source": [
    "miRNA_id = list(range(1109))\n",
    "disease_id = list(range(1109,1222))\n",
    "gene_id = list(range(1222,10532))\n",
    "\n",
    "\n",
    "# convert old unique id to seperete set of new ID\n",
    "disease_new_id_dict = {}\n",
    "new_id = 0\n",
    "for old_id in disease_id:\n",
    "  disease_new_id_dict[old_id] = new_id\n",
    "  new_id+=1\n",
    "\n",
    "gene_new_id_dict = {}\n",
    "new_id = 0\n",
    "for old_id in gene_id:\n",
    "  gene_new_id_dict[old_id] = new_id\n",
    "  new_id+=1\n",
    "\n",
    "\n",
    "\n",
    "new_edge_index = {}\n",
    "new_edge_index['mm'] = edge_index['mm']\n",
    "\n",
    "new_edge_index['dd'] = torch.tensor([\n",
    "  [disease_new_id_dict[old_id] for old_id in edge_index['dd'][0].numpy()],\n",
    "  [disease_new_id_dict[old_id] for old_id in edge_index['dd'][1].numpy()],\n",
    "])\n",
    "new_edge_index['gg'] = torch.tensor([\n",
    "  [gene_new_id_dict[old_id] for old_id in edge_index['gg'][0].numpy()],\n",
    "  [gene_new_id_dict[old_id] for old_id in edge_index['gg'][1].numpy()],\n",
    "])\n",
    "new_edge_index['md'] = torch.tensor([\n",
    "  edge_index['md'][0].numpy(),\n",
    "  [disease_new_id_dict[old_id] for old_id in edge_index['md'][1].numpy()],\n",
    "])\n",
    "\n",
    "new_edge_index['mg'] = torch.tensor([\n",
    "  edge_index['mg'][0].numpy(),\n",
    "  [gene_new_id_dict[old_id] for old_id in edge_index['mg'][1].numpy()]\n",
    "])\n",
    "\n",
    "new_edge_index['gd'] = torch.tensor([\n",
    "  [gene_new_id_dict[old_id] for old_id in edge_index['dg'][0].numpy()],\n",
    "  [disease_new_id_dict[old_id] for old_id in edge_index['dg'][1].numpy()],\n",
    "])\n"
   ]
  },
  {
   "cell_type": "code",
   "execution_count": 14,
   "id": "2d8601cf-16de-4586-8088-8352026a9c5e",
   "metadata": {},
   "outputs": [
    {
     "data": {
      "text/plain": [
       "{'mm': tensor([[ 898,  898,  898,  ...,  694,  482,  482],\n",
       "         [ 841, 1069,  541,  ...,  953, 1011,  147]]),\n",
       " 'dd': tensor([[66, 66, 66,  ..., 25, 25, 25],\n",
       "         [71, 35, 99,  ..., 59, 32, 30]]),\n",
       " 'gg': tensor([[ 925,  925,  925,  ..., 5334, 7688, 4163],\n",
       "         [7166, 5870, 8585,  ...,  513,  513,  513]]),\n",
       " 'md': tensor([[898, 898, 898,  ..., 270, 946, 250],\n",
       "         [ 84,  71, 105,  ...,  82, 104, 104]]),\n",
       " 'mg': tensor([[  32,  832,  832,  ...,  589,  589,  100],\n",
       "         [3993, 6613, 6613,  ..., 3913, 8106, 2794]]),\n",
       " 'gd': tensor([[4703, 4703, 2972,  ..., 6120, 4245, 4245],\n",
       "         [  74,   44,   44,  ...,   95,   22,   39]])}"
      ]
     },
     "execution_count": 14,
     "metadata": {},
     "output_type": "execute_result"
    }
   ],
   "source": [
    "new_edge_index"
   ]
  },
  {
   "cell_type": "code",
   "execution_count": 15,
   "id": "acb87f1a-d240-4a3b-b938-0db4db1a7f0a",
   "metadata": {},
   "outputs": [
    {
     "data": {
      "text/plain": [
       "Graph(num_nodes={'disease': 113, 'gene': 9308, 'miRNA': 1109},\n",
       "      num_edges={('disease', 'similar_to', 'disease'): 4863, ('gene', 'related_to', 'disease'): 9596, ('gene', 'similar_to', 'gene'): 519568, ('miRNA', 'associate_with', 'disease'): 3999, ('miRNA', 'similar_to', 'miRNA'): 346623, ('miRNA', 'target_to', 'gene'): 25405},\n",
       "      metagraph=[('disease', 'disease', 'similar_to'), ('gene', 'disease', 'related_to'), ('gene', 'gene', 'similar_to'), ('miRNA', 'disease', 'associate_with'), ('miRNA', 'miRNA', 'similar_to'), ('miRNA', 'gene', 'target_to')])"
      ]
     },
     "execution_count": 15,
     "metadata": {},
     "output_type": "execute_result"
    }
   ],
   "source": [
    "\n",
    "n_hetero_features = 10\n",
    "\n",
    "hetero_graph = dgl.heterograph({\n",
    "    ('miRNA', 'similar_to', 'miRNA'): (new_edge_index['mm'][0], new_edge_index['mm'][1]),\n",
    "    ('gene', 'similar_to', 'gene'): (new_edge_index['gg'][0], new_edge_index['gg'][1]),\n",
    "    ('disease', 'similar_to', 'disease'): (new_edge_index['dd'][0], new_edge_index['dd'][1]),\n",
    "    ('miRNA', 'target_to', 'gene'): (new_edge_index['mg'][0], new_edge_index['mg'][1]),\n",
    "    ('miRNA', 'associate_with', 'disease'): (new_edge_index['md'][0], new_edge_index['md'][1]),\n",
    "    ('gene', 'related_to', 'disease'): (new_edge_index['gd'][0], new_edge_index['gd'][1])})\n",
    "\n",
    "n_miRNA = hetero_graph.num_nodes('miRNA')\n",
    "n_gene = hetero_graph.num_nodes('gene')\n",
    "n_disease= hetero_graph.num_nodes('disease')\n",
    "\n",
    "hetero_graph.nodes['miRNA'].data['feature'] = torch.randn(n_miRNA, n_hetero_features)\n",
    "hetero_graph.nodes['gene'].data['feature'] = torch.randn(n_gene, n_hetero_features)\n",
    "hetero_graph.nodes['disease'].data['feature'] = torch.randn(n_disease, n_hetero_features)\n",
    "\n",
    "hetero_graph"
   ]
  },
  {
   "cell_type": "code",
   "execution_count": 16,
   "id": "fb6b04ff-b806-47d3-8f25-9c2db5297bda",
   "metadata": {},
   "outputs": [
    {
     "data": {
      "text/plain": [
       "NodeSpace(data={'feature': tensor([[ 0.2522,  0.6981, -1.5744,  ..., -1.4928, -0.3956, -0.4511],\n",
       "        [ 0.6540,  0.5695,  0.3345,  ..., -0.8803,  0.2087,  1.3952],\n",
       "        [ 0.3958,  0.6453, -0.4755,  ...,  0.2430, -0.6336, -0.1059],\n",
       "        ...,\n",
       "        [-2.6843, -0.8040, -0.6910,  ..., -0.4704, -1.0873,  1.3951],\n",
       "        [ 1.0974, -1.7705, -0.7342,  ..., -0.2753,  0.2782, -0.3618],\n",
       "        [-0.4974,  1.5680,  0.5070,  ..., -2.4564, -1.1908, -1.4215]])})"
      ]
     },
     "execution_count": 16,
     "metadata": {},
     "output_type": "execute_result"
    }
   ],
   "source": [
    "hetero_graph.nodes['miRNA']"
   ]
  },
  {
   "cell_type": "markdown",
   "id": "bffe6eeb-1e56-4ea3-847a-01b7cb89233f",
   "metadata": {},
   "source": [
    "Link Prediction - Random Feature"
   ]
  },
  {
   "cell_type": "code",
   "execution_count": 22,
   "id": "6756b49c-7e59-44f0-8ca0-a1ec1b4e8c18",
   "metadata": {},
   "outputs": [
    {
     "name": "stdout",
     "output_type": "stream",
     "text": [
      "epoch:  0  train loss:  0.6988996267318726  valid loss:  0.699063777923584  train_accuracy:  tensor([0.1526])  valid accuracy:  tensor([0.1539])\n",
      "epoch:  1  train loss:  0.6968984603881836  valid loss:  0.697210431098938  train_accuracy:  tensor([0.2357])  valid accuracy:  tensor([0.2364])\n",
      "epoch:  2  train loss:  0.6951187252998352  valid loss:  0.6950691938400269  train_accuracy:  tensor([0.3294])  valid accuracy:  tensor([0.3215])\n",
      "epoch:  3  train loss:  0.6934755444526672  valid loss:  0.693333089351654  train_accuracy:  tensor([0.5065])  valid accuracy:  tensor([0.5004])\n",
      "epoch:  4  train loss:  0.6921440958976746  valid loss:  0.6923137307167053  train_accuracy:  tensor([0.6844])  valid accuracy:  tensor([0.6819])\n",
      "epoch:  5  train loss:  0.6910582184791565  valid loss:  0.6909001469612122  train_accuracy:  tensor([0.7615])  valid accuracy:  tensor([0.7647])\n",
      "epoch:  6  train loss:  0.6897351741790771  valid loss:  0.6897357702255249  train_accuracy:  tensor([0.8137])  valid accuracy:  tensor([0.8139])\n",
      "epoch:  7  train loss:  0.6883857250213623  valid loss:  0.6885402202606201  train_accuracy:  tensor([0.8198])  valid accuracy:  tensor([0.8172])\n",
      "epoch:  8  train loss:  0.6869455575942993  valid loss:  0.6870691776275635  train_accuracy:  tensor([0.8257])  valid accuracy:  tensor([0.8256])\n",
      "epoch:  9  train loss:  0.6858615279197693  valid loss:  0.6856425404548645  train_accuracy:  tensor([0.8271])  valid accuracy:  tensor([0.8242])\n",
      "epoch:  10  train loss:  0.6842091083526611  valid loss:  0.6843264698982239  train_accuracy:  tensor([0.8268])  valid accuracy:  tensor([0.8277])\n",
      "epoch:  11  train loss:  0.6822491884231567  valid loss:  0.682174563407898  train_accuracy:  tensor([0.8272])  valid accuracy:  tensor([0.8266])\n",
      "epoch:  12  train loss:  0.6803001165390015  valid loss:  0.6801721453666687  train_accuracy:  tensor([0.8274])  valid accuracy:  tensor([0.8271])\n",
      "epoch:  13  train loss:  0.6777450442314148  valid loss:  0.6777617931365967  train_accuracy:  tensor([0.8277])  valid accuracy:  tensor([0.8284])\n",
      "epoch:  14  train loss:  0.6751506924629211  valid loss:  0.6756451725959778  train_accuracy:  tensor([0.8286])  valid accuracy:  tensor([0.8282])\n",
      "epoch:  15  train loss:  0.6725359559059143  valid loss:  0.6718719005584717  train_accuracy:  tensor([0.8293])  valid accuracy:  tensor([0.8281])\n",
      "epoch:  16  train loss:  0.6684883832931519  valid loss:  0.668897271156311  train_accuracy:  tensor([0.8299])  valid accuracy:  tensor([0.8299])\n",
      "epoch:  17  train loss:  0.6647979617118835  valid loss:  0.6652020215988159  train_accuracy:  tensor([0.8298])  valid accuracy:  tensor([0.8317])\n",
      "epoch:  18  train loss:  0.6610376238822937  valid loss:  0.6614301800727844  train_accuracy:  tensor([0.8300])  valid accuracy:  tensor([0.8288])\n",
      "epoch:  19  train loss:  0.6560519933700562  valid loss:  0.6566517353057861  train_accuracy:  tensor([0.8303])  valid accuracy:  tensor([0.8293])\n",
      "epoch:  20  train loss:  0.6511635780334473  valid loss:  0.6522005200386047  train_accuracy:  tensor([0.8300])  valid accuracy:  tensor([0.8300])\n",
      "epoch:  21  train loss:  0.6462133526802063  valid loss:  0.6468662619590759  train_accuracy:  tensor([0.8308])  valid accuracy:  tensor([0.8296])\n",
      "epoch:  22  train loss:  0.6403856873512268  valid loss:  0.640143871307373  train_accuracy:  tensor([0.8309])  valid accuracy:  tensor([0.8306])\n",
      "epoch:  23  train loss:  0.6340559124946594  valid loss:  0.6340733766555786  train_accuracy:  tensor([0.8305])  valid accuracy:  tensor([0.8311])\n",
      "epoch:  24  train loss:  0.627427875995636  valid loss:  0.6263793110847473  train_accuracy:  tensor([0.8308])  valid accuracy:  tensor([0.8309])\n",
      "epoch:  25  train loss:  0.6208948493003845  valid loss:  0.621048092842102  train_accuracy:  tensor([0.8309])  valid accuracy:  tensor([0.8311])\n",
      "epoch:  26  train loss:  0.6125459671020508  valid loss:  0.6137690544128418  train_accuracy:  tensor([0.8312])  valid accuracy:  tensor([0.8311])\n",
      "epoch:  27  train loss:  0.6058172583580017  valid loss:  0.6062160730361938  train_accuracy:  tensor([0.8318])  valid accuracy:  tensor([0.8302])\n",
      "epoch:  28  train loss:  0.5970959067344666  valid loss:  0.6005111336708069  train_accuracy:  tensor([0.8314])  valid accuracy:  tensor([0.8313])\n",
      "epoch:  29  train loss:  0.5878722667694092  valid loss:  0.5909904837608337  train_accuracy:  tensor([0.8316])  valid accuracy:  tensor([0.8311])\n",
      "epoch:  30  train loss:  0.5808326005935669  valid loss:  0.5794157385826111  train_accuracy:  tensor([0.8312])  valid accuracy:  tensor([0.8320])\n",
      "epoch:  31  train loss:  0.5735436081886292  valid loss:  0.5732897520065308  train_accuracy:  tensor([0.8312])  valid accuracy:  tensor([0.8320])\n",
      "epoch:  32  train loss:  0.5664696097373962  valid loss:  0.5648069381713867  train_accuracy:  tensor([0.8315])  valid accuracy:  tensor([0.8314])\n",
      "epoch:  33  train loss:  0.560181736946106  valid loss:  0.5616548657417297  train_accuracy:  tensor([0.8314])  valid accuracy:  tensor([0.8311])\n",
      "epoch:  34  train loss:  0.5538652539253235  valid loss:  0.555230975151062  train_accuracy:  tensor([0.8318])  valid accuracy:  tensor([0.8307])\n",
      "epoch:  35  train loss:  0.5470039248466492  valid loss:  0.5502321720123291  train_accuracy:  tensor([0.8316])  valid accuracy:  tensor([0.8313])\n",
      "epoch:  36  train loss:  0.5434290766716003  valid loss:  0.5482671856880188  train_accuracy:  tensor([0.8315])  valid accuracy:  tensor([0.8315])\n",
      "epoch:  37  train loss:  0.5411857962608337  valid loss:  0.5429774522781372  train_accuracy:  tensor([0.8318])  valid accuracy:  tensor([0.8313])\n",
      "epoch:  38  train loss:  0.537627100944519  valid loss:  0.5438428521156311  train_accuracy:  tensor([0.8318])  valid accuracy:  tensor([0.8315])\n",
      "epoch:  39  train loss:  0.5370140075683594  valid loss:  0.5422064065933228  train_accuracy:  tensor([0.8323])  valid accuracy:  tensor([0.8314])\n",
      "epoch:  40  train loss:  0.5373952984809875  valid loss:  0.5441214442253113  train_accuracy:  tensor([0.8318])  valid accuracy:  tensor([0.8321])\n",
      "epoch:  41  train loss:  0.5375000834465027  valid loss:  0.54268878698349  train_accuracy:  tensor([0.8323])  valid accuracy:  tensor([0.8320])\n",
      "epoch:  42  train loss:  0.5390150547027588  valid loss:  0.540655791759491  train_accuracy:  tensor([0.8326])  valid accuracy:  tensor([0.8315])\n",
      "epoch:  43  train loss:  0.5385197401046753  valid loss:  0.5413326025009155  train_accuracy:  tensor([0.8323])  valid accuracy:  tensor([0.8318])\n",
      "epoch:  44  train loss:  0.5361438393592834  valid loss:  0.5391718745231628  train_accuracy:  tensor([0.8324])  valid accuracy:  tensor([0.8321])\n",
      "epoch:  45  train loss:  0.532941460609436  valid loss:  0.5401243567466736  train_accuracy:  tensor([0.8323])  valid accuracy:  tensor([0.8321])\n",
      "epoch:  46  train loss:  0.533666729927063  valid loss:  0.5355886816978455  train_accuracy:  tensor([0.8326])  valid accuracy:  tensor([0.8322])\n",
      "epoch:  47  train loss:  0.5281539559364319  valid loss:  0.5345584750175476  train_accuracy:  tensor([0.8326])  valid accuracy:  tensor([0.8326])\n",
      "epoch:  48  train loss:  0.5265433192253113  valid loss:  0.5305199027061462  train_accuracy:  tensor([0.8332])  valid accuracy:  tensor([0.8331])\n",
      "epoch:  49  train loss:  0.5261422991752625  valid loss:  0.5302411317825317  train_accuracy:  tensor([0.8331])  valid accuracy:  tensor([0.8331])\n",
      "epoch:  50  train loss:  0.5215775966644287  valid loss:  0.5252057909965515  train_accuracy:  tensor([0.8329])  valid accuracy:  tensor([0.8333])\n",
      "epoch:  51  train loss:  0.5201646685600281  valid loss:  0.5259268283843994  train_accuracy:  tensor([0.8329])  valid accuracy:  tensor([0.8331])\n",
      "epoch:  52  train loss:  0.5197018384933472  valid loss:  0.5196077227592468  train_accuracy:  tensor([0.8329])  valid accuracy:  tensor([0.8333])\n",
      "epoch:  53  train loss:  0.5179660320281982  valid loss:  0.5198570489883423  train_accuracy:  tensor([0.8329])  valid accuracy:  tensor([0.8328])\n",
      "epoch:  54  train loss:  0.5164358019828796  valid loss:  0.5171530842781067  train_accuracy:  tensor([0.8326])  valid accuracy:  tensor([0.8328])\n",
      "epoch:  55  train loss:  0.5143092274665833  valid loss:  0.5153825283050537  train_accuracy:  tensor([0.8323])  valid accuracy:  tensor([0.8328])\n",
      "epoch:  56  train loss:  0.5133029818534851  valid loss:  0.5161451101303101  train_accuracy:  tensor([0.8325])  valid accuracy:  tensor([0.8331])\n",
      "epoch:  57  train loss:  0.5129398107528687  valid loss:  0.5110634565353394  train_accuracy:  tensor([0.8321])  valid accuracy:  tensor([0.8336])\n",
      "epoch:  58  train loss:  0.5101324319839478  valid loss:  0.5114438533782959  train_accuracy:  tensor([0.8327])  valid accuracy:  tensor([0.8326])\n",
      "epoch:  59  train loss:  0.5098053812980652  valid loss:  0.5108145475387573  train_accuracy:  tensor([0.8324])  valid accuracy:  tensor([0.8331])\n",
      "epoch:  60  train loss:  0.5075939893722534  valid loss:  0.5085968971252441  train_accuracy:  tensor([0.8330])  valid accuracy:  tensor([0.8333])\n",
      "epoch:  61  train loss:  0.5058668255805969  valid loss:  0.5120376944541931  train_accuracy:  tensor([0.8329])  valid accuracy:  tensor([0.8331])\n",
      "epoch:  62  train loss:  0.5042008757591248  valid loss:  0.5054598450660706  train_accuracy:  tensor([0.8330])  valid accuracy:  tensor([0.8333])\n",
      "epoch:  63  train loss:  0.5015807151794434  valid loss:  0.5021254420280457  train_accuracy:  tensor([0.8331])  valid accuracy:  tensor([0.8336])\n",
      "epoch:  64  train loss:  0.5018974542617798  valid loss:  0.5033457279205322  train_accuracy:  tensor([0.8333])  valid accuracy:  tensor([0.8335])\n",
      "epoch:  65  train loss:  0.49805179238319397  valid loss:  0.5038790702819824  train_accuracy:  tensor([0.8333])  valid accuracy:  tensor([0.8335])\n",
      "epoch:  66  train loss:  0.4994566738605499  valid loss:  0.4981224834918976  train_accuracy:  tensor([0.8333])  valid accuracy:  tensor([0.8335])\n",
      "epoch:  67  train loss:  0.4937785565853119  valid loss:  0.49927470088005066  train_accuracy:  tensor([0.8333])  valid accuracy:  tensor([0.8335])\n",
      "epoch:  68  train loss:  0.4936051666736603  valid loss:  0.49732959270477295  train_accuracy:  tensor([0.8333])  valid accuracy:  tensor([0.8333])\n",
      "epoch:  69  train loss:  0.493154376745224  valid loss:  0.4960929751396179  train_accuracy:  tensor([0.8332])  valid accuracy:  tensor([0.8335])\n",
      "epoch:  70  train loss:  0.49025842547416687  valid loss:  0.4909001290798187  train_accuracy:  tensor([0.8333])  valid accuracy:  tensor([0.8335])\n",
      "epoch:  71  train loss:  0.48954591155052185  valid loss:  0.49113911390304565  train_accuracy:  tensor([0.8333])  valid accuracy:  tensor([0.8333])\n",
      "epoch:  72  train loss:  0.48736318945884705  valid loss:  0.4897972643375397  train_accuracy:  tensor([0.8333])  valid accuracy:  tensor([0.8332])\n",
      "epoch:  73  train loss:  0.48544788360595703  valid loss:  0.48759716749191284  train_accuracy:  tensor([0.8333])  valid accuracy:  tensor([0.8335])\n",
      "epoch:  74  train loss:  0.48581916093826294  valid loss:  0.4881127178668976  train_accuracy:  tensor([0.8333])  valid accuracy:  tensor([0.8335])\n",
      "epoch:  75  train loss:  0.4823598265647888  valid loss:  0.48280400037765503  train_accuracy:  tensor([0.8334])  valid accuracy:  tensor([0.8335])\n",
      "epoch:  76  train loss:  0.48068201541900635  valid loss:  0.48356321454048157  train_accuracy:  tensor([0.8333])  valid accuracy:  tensor([0.8335])\n",
      "epoch:  77  train loss:  0.47799256443977356  valid loss:  0.4781194031238556  train_accuracy:  tensor([0.8332])  valid accuracy:  tensor([0.8333])\n",
      "epoch:  78  train loss:  0.47694891691207886  valid loss:  0.47760120034217834  train_accuracy:  tensor([0.8335])  valid accuracy:  tensor([0.8336])\n",
      "epoch:  79  train loss:  0.4749983251094818  valid loss:  0.47429803013801575  train_accuracy:  tensor([0.8333])  valid accuracy:  tensor([0.8335])\n",
      "epoch:  80  train loss:  0.4713190495967865  valid loss:  0.47369804978370667  train_accuracy:  tensor([0.8333])  valid accuracy:  tensor([0.8335])\n",
      "epoch:  81  train loss:  0.47017139196395874  valid loss:  0.471352756023407  train_accuracy:  tensor([0.8335])  valid accuracy:  tensor([0.8336])\n",
      "epoch:  82  train loss:  0.46881788969039917  valid loss:  0.4669921398162842  train_accuracy:  tensor([0.8335])  valid accuracy:  tensor([0.8335])\n",
      "epoch:  83  train loss:  0.46692925691604614  valid loss:  0.46457788348197937  train_accuracy:  tensor([0.8334])  valid accuracy:  tensor([0.8335])\n",
      "epoch:  84  train loss:  0.4636290669441223  valid loss:  0.46208757162094116  train_accuracy:  tensor([0.8335])  valid accuracy:  tensor([0.8335])\n",
      "epoch:  85  train loss:  0.46047037839889526  valid loss:  0.4623514711856842  train_accuracy:  tensor([0.8335])  valid accuracy:  tensor([0.8333])\n",
      "epoch:  86  train loss:  0.45846498012542725  valid loss:  0.46172353625297546  train_accuracy:  tensor([0.8334])  valid accuracy:  tensor([0.8331])\n",
      "epoch:  87  train loss:  0.4581543803215027  valid loss:  0.45824310183525085  train_accuracy:  tensor([0.8334])  valid accuracy:  tensor([0.8335])\n",
      "epoch:  88  train loss:  0.4540967345237732  valid loss:  0.45662274956703186  train_accuracy:  tensor([0.8336])  valid accuracy:  tensor([0.8336])\n",
      "epoch:  89  train loss:  0.4516092538833618  valid loss:  0.45143547654151917  train_accuracy:  tensor([0.8336])  valid accuracy:  tensor([0.8336])\n",
      "epoch:  90  train loss:  0.44845646619796753  valid loss:  0.44809702038764954  train_accuracy:  tensor([0.8336])  valid accuracy:  tensor([0.8331])\n",
      "epoch:  91  train loss:  0.44634392857551575  valid loss:  0.44410261511802673  train_accuracy:  tensor([0.8336])  valid accuracy:  tensor([0.8336])\n",
      "epoch:  92  train loss:  0.4437892735004425  valid loss:  0.4414951801300049  train_accuracy:  tensor([0.8337])  valid accuracy:  tensor([0.8336])\n",
      "epoch:  93  train loss:  0.442167729139328  valid loss:  0.4409288465976715  train_accuracy:  tensor([0.8335])  valid accuracy:  tensor([0.8331])\n",
      "epoch:  94  train loss:  0.4381091296672821  valid loss:  0.4362640678882599  train_accuracy:  tensor([0.8335])  valid accuracy:  tensor([0.8331])\n",
      "epoch:  95  train loss:  0.4352869391441345  valid loss:  0.43528270721435547  train_accuracy:  tensor([0.8336])  valid accuracy:  tensor([0.8337])\n",
      "epoch:  96  train loss:  0.43272826075553894  valid loss:  0.42819344997406006  train_accuracy:  tensor([0.8335])  valid accuracy:  tensor([0.8333])\n",
      "epoch:  97  train loss:  0.43092599511146545  valid loss:  0.42639392614364624  train_accuracy:  tensor([0.8337])  valid accuracy:  tensor([0.8340])\n",
      "epoch:  98  train loss:  0.42595744132995605  valid loss:  0.42391958832740784  train_accuracy:  tensor([0.8335])  valid accuracy:  tensor([0.8335])\n",
      "epoch:  99  train loss:  0.422275573015213  valid loss:  0.421985000371933  train_accuracy:  tensor([0.8337])  valid accuracy:  tensor([0.8332])\n",
      "epoch:  100  train loss:  0.4228682219982147  valid loss:  0.4180922210216522  train_accuracy:  tensor([0.8339])  valid accuracy:  tensor([0.8326])\n",
      "epoch:  101  train loss:  0.4212900698184967  valid loss:  0.4144960939884186  train_accuracy:  tensor([0.8335])  valid accuracy:  tensor([0.8342])\n",
      "epoch:  102  train loss:  0.41574060916900635  valid loss:  0.4122562110424042  train_accuracy:  tensor([0.8338])  valid accuracy:  tensor([0.8333])\n",
      "epoch:  103  train loss:  0.418314665555954  valid loss:  0.40860846638679504  train_accuracy:  tensor([0.8301])  valid accuracy:  tensor([0.8339])\n",
      "epoch:  104  train loss:  0.4133988320827484  valid loss:  0.4078000485897064  train_accuracy:  tensor([0.8321])  valid accuracy:  tensor([0.8331])\n",
      "epoch:  105  train loss:  0.40979158878326416  valid loss:  0.4074602425098419  train_accuracy:  tensor([0.8360])  valid accuracy:  tensor([0.8373])\n",
      "epoch:  106  train loss:  0.40693068504333496  valid loss:  0.40306028723716736  train_accuracy:  tensor([0.8333])  valid accuracy:  tensor([0.8401])\n",
      "epoch:  107  train loss:  0.40758565068244934  valid loss:  0.406313955783844  train_accuracy:  tensor([0.8335])  valid accuracy:  tensor([0.8393])\n",
      "epoch:  108  train loss:  0.4047612249851227  valid loss:  0.4010816216468811  train_accuracy:  tensor([0.8328])  valid accuracy:  tensor([0.8390])\n",
      "epoch:  109  train loss:  0.4042944014072418  valid loss:  0.396927148103714  train_accuracy:  tensor([0.8353])  valid accuracy:  tensor([0.8421])\n",
      "epoch:  110  train loss:  0.4030842185020447  valid loss:  0.3940262496471405  train_accuracy:  tensor([0.8340])  valid accuracy:  tensor([0.8410])\n",
      "epoch:  111  train loss:  0.40262314677238464  valid loss:  0.396700918674469  train_accuracy:  tensor([0.8348])  valid accuracy:  tensor([0.8362])\n",
      "epoch:  112  train loss:  0.40255028009414673  valid loss:  0.3960709273815155  train_accuracy:  tensor([0.8339])  valid accuracy:  tensor([0.8406])\n",
      "epoch:  113  train loss:  0.40096285939216614  valid loss:  0.3936825692653656  train_accuracy:  tensor([0.8292])  valid accuracy:  tensor([0.8369])\n",
      "epoch:  114  train loss:  0.3992624878883362  valid loss:  0.3981371223926544  train_accuracy:  tensor([0.8303])  valid accuracy:  tensor([0.8335])\n",
      "epoch:  115  train loss:  0.4020184874534607  valid loss:  0.3880856931209564  train_accuracy:  tensor([0.8277])  valid accuracy:  tensor([0.8437])\n",
      "epoch:  116  train loss:  0.3998338580131531  valid loss:  0.39352017641067505  train_accuracy:  tensor([0.8305])  valid accuracy:  tensor([0.8348])\n",
      "epoch:  117  train loss:  0.3975733816623688  valid loss:  0.39443090558052063  train_accuracy:  tensor([0.8355])  valid accuracy:  tensor([0.8357])\n",
      "epoch:  118  train loss:  0.3981930911540985  valid loss:  0.3908786475658417  train_accuracy:  tensor([0.8348])  valid accuracy:  tensor([0.8355])\n",
      "epoch:  119  train loss:  0.3988227844238281  valid loss:  0.38689783215522766  train_accuracy:  tensor([0.8345])  valid accuracy:  tensor([0.8382])\n",
      "epoch:  120  train loss:  0.39710286259651184  valid loss:  0.39431577920913696  train_accuracy:  tensor([0.8327])  valid accuracy:  tensor([0.8359])\n",
      "epoch:  121  train loss:  0.39616256952285767  valid loss:  0.38917312026023865  train_accuracy:  tensor([0.8343])  valid accuracy:  tensor([0.8401])\n",
      "epoch:  122  train loss:  0.39592215418815613  valid loss:  0.39310312271118164  train_accuracy:  tensor([0.8334])  valid accuracy:  tensor([0.8354])\n",
      "epoch:  123  train loss:  0.3948136270046234  valid loss:  0.38936343789100647  train_accuracy:  tensor([0.8342])  valid accuracy:  tensor([0.8387])\n",
      "epoch:  124  train loss:  0.3933204710483551  valid loss:  0.3936099410057068  train_accuracy:  tensor([0.8350])  valid accuracy:  tensor([0.8351])\n",
      "epoch:  125  train loss:  0.39459899067878723  valid loss:  0.38658344745635986  train_accuracy:  tensor([0.8326])  valid accuracy:  tensor([0.8390])\n",
      "epoch:  126  train loss:  0.393524169921875  valid loss:  0.3882427215576172  train_accuracy:  tensor([0.8334])  valid accuracy:  tensor([0.8373])\n",
      "epoch:  127  train loss:  0.3934374153614044  valid loss:  0.3924539089202881  train_accuracy:  tensor([0.8326])  valid accuracy:  tensor([0.8336])\n",
      "epoch:  128  train loss:  0.39416274428367615  valid loss:  0.3857024013996124  train_accuracy:  tensor([0.8338])  valid accuracy:  tensor([0.8376])\n",
      "epoch:  129  train loss:  0.39194580912590027  valid loss:  0.3848016858100891  train_accuracy:  tensor([0.8331])  valid accuracy:  tensor([0.8388])\n",
      "epoch:  130  train loss:  0.39187780022621155  valid loss:  0.38764533400535583  train_accuracy:  tensor([0.8335])  valid accuracy:  tensor([0.8331])\n",
      "epoch:  131  train loss:  0.3897138237953186  valid loss:  0.3847792446613312  train_accuracy:  tensor([0.8358])  valid accuracy:  tensor([0.8380])\n",
      "epoch:  132  train loss:  0.38985586166381836  valid loss:  0.3862781524658203  train_accuracy:  tensor([0.8329])  valid accuracy:  tensor([0.8343])\n",
      "epoch:  133  train loss:  0.39128151535987854  valid loss:  0.38876405358314514  train_accuracy:  tensor([0.8320])  valid accuracy:  tensor([0.8348])\n",
      "epoch:  134  train loss:  0.39036130905151367  valid loss:  0.38544324040412903  train_accuracy:  tensor([0.8343])  valid accuracy:  tensor([0.8307])\n",
      "epoch:  135  train loss:  0.387504518032074  valid loss:  0.3824990689754486  train_accuracy:  tensor([0.8330])  valid accuracy:  tensor([0.8401])\n",
      "epoch:  136  train loss:  0.38658127188682556  valid loss:  0.38145413994789124  train_accuracy:  tensor([0.8346])  valid accuracy:  tensor([0.8344])\n",
      "epoch:  137  train loss:  0.38635265827178955  valid loss:  0.381399929523468  train_accuracy:  tensor([0.8353])  valid accuracy:  tensor([0.8335])\n",
      "epoch:  138  train loss:  0.38485658168792725  valid loss:  0.38413548469543457  train_accuracy:  tensor([0.8359])  valid accuracy:  tensor([0.8353])\n",
      "epoch:  139  train loss:  0.3860985040664673  valid loss:  0.38001179695129395  train_accuracy:  tensor([0.8337])  valid accuracy:  tensor([0.8357])\n",
      "epoch:  140  train loss:  0.3846713900566101  valid loss:  0.38393256068229675  train_accuracy:  tensor([0.8337])  valid accuracy:  tensor([0.8343])\n",
      "epoch:  141  train loss:  0.38735687732696533  valid loss:  0.379327654838562  train_accuracy:  tensor([0.8341])  valid accuracy:  tensor([0.8337])\n",
      "epoch:  142  train loss:  0.38636189699172974  valid loss:  0.37973645329475403  train_accuracy:  tensor([0.8330])  valid accuracy:  tensor([0.8388])\n",
      "epoch:  143  train loss:  0.38579320907592773  valid loss:  0.3788205683231354  train_accuracy:  tensor([0.8383])  valid accuracy:  tensor([0.8404])\n",
      "epoch:  144  train loss:  0.38327622413635254  valid loss:  0.3822692036628723  train_accuracy:  tensor([0.8387])  valid accuracy:  tensor([0.8413])\n",
      "epoch:  145  train loss:  0.3859766721725464  valid loss:  0.3786812722682953  train_accuracy:  tensor([0.8375])  valid accuracy:  tensor([0.8402])\n",
      "epoch:  146  train loss:  0.38528186082839966  valid loss:  0.37773990631103516  train_accuracy:  tensor([0.8365])  valid accuracy:  tensor([0.8432])\n",
      "epoch:  147  train loss:  0.3810245394706726  valid loss:  0.3776802718639374  train_accuracy:  tensor([0.8391])  valid accuracy:  tensor([0.8427])\n",
      "epoch:  148  train loss:  0.38403990864753723  valid loss:  0.3788873553276062  train_accuracy:  tensor([0.8375])  valid accuracy:  tensor([0.8408])\n",
      "epoch:  149  train loss:  0.38338279724121094  valid loss:  0.37824389338493347  train_accuracy:  tensor([0.8385])  valid accuracy:  tensor([0.8423])\n",
      "epoch:  150  train loss:  0.3833201825618744  valid loss:  0.37791550159454346  train_accuracy:  tensor([0.8381])  valid accuracy:  tensor([0.8427])\n",
      "epoch:  151  train loss:  0.3845081329345703  valid loss:  0.37963417172431946  train_accuracy:  tensor([0.8382])  valid accuracy:  tensor([0.8435])\n",
      "epoch:  152  train loss:  0.37997308373451233  valid loss:  0.3793069124221802  train_accuracy:  tensor([0.8381])  valid accuracy:  tensor([0.8409])\n",
      "epoch:  153  train loss:  0.38212960958480835  valid loss:  0.37636932730674744  train_accuracy:  tensor([0.8384])  valid accuracy:  tensor([0.8441])\n",
      "epoch:  154  train loss:  0.3842374086380005  valid loss:  0.37721434235572815  train_accuracy:  tensor([0.8372])  valid accuracy:  tensor([0.8386])\n",
      "epoch:  155  train loss:  0.38141578435897827  valid loss:  0.3788588345050812  train_accuracy:  tensor([0.8386])  valid accuracy:  tensor([0.8399])\n",
      "epoch:  156  train loss:  0.3800862431526184  valid loss:  0.3792658746242523  train_accuracy:  tensor([0.8381])  valid accuracy:  tensor([0.8387])\n",
      "epoch:  157  train loss:  0.38043850660324097  valid loss:  0.37670814990997314  train_accuracy:  tensor([0.8381])  valid accuracy:  tensor([0.8404])\n",
      "epoch:  158  train loss:  0.3800228536128998  valid loss:  0.37718665599823  train_accuracy:  tensor([0.8388])  valid accuracy:  tensor([0.8405])\n",
      "epoch:  159  train loss:  0.38010844588279724  valid loss:  0.37232905626296997  train_accuracy:  tensor([0.8367])  valid accuracy:  tensor([0.8426])\n",
      "epoch:  160  train loss:  0.37828779220581055  valid loss:  0.3725062906742096  train_accuracy:  tensor([0.8396])  valid accuracy:  tensor([0.8459])\n",
      "epoch:  161  train loss:  0.3797399699687958  valid loss:  0.37542077898979187  train_accuracy:  tensor([0.8388])  valid accuracy:  tensor([0.8386])\n",
      "epoch:  162  train loss:  0.37802502512931824  valid loss:  0.3731529116630554  train_accuracy:  tensor([0.8398])  valid accuracy:  tensor([0.8413])\n",
      "epoch:  163  train loss:  0.37924322485923767  valid loss:  0.3715759515762329  train_accuracy:  tensor([0.8403])  valid accuracy:  tensor([0.8406])\n",
      "epoch:  164  train loss:  0.3755114674568176  valid loss:  0.37485870718955994  train_accuracy:  tensor([0.8376])  valid accuracy:  tensor([0.8412])\n",
      "epoch:  165  train loss:  0.37777483463287354  valid loss:  0.372768759727478  train_accuracy:  tensor([0.8391])  valid accuracy:  tensor([0.8423])\n",
      "epoch:  166  train loss:  0.3789133131504059  valid loss:  0.3715093433856964  train_accuracy:  tensor([0.8369])  valid accuracy:  tensor([0.8437])\n",
      "epoch:  167  train loss:  0.37824350595474243  valid loss:  0.37085577845573425  train_accuracy:  tensor([0.8373])  valid accuracy:  tensor([0.8468])\n",
      "epoch:  168  train loss:  0.3763340711593628  valid loss:  0.3743995726108551  train_accuracy:  tensor([0.8392])  valid accuracy:  tensor([0.8419])\n",
      "epoch:  169  train loss:  0.3793583810329437  valid loss:  0.36932915449142456  train_accuracy:  tensor([0.8387])  valid accuracy:  tensor([0.8435])\n",
      "epoch:  170  train loss:  0.37556394934654236  valid loss:  0.3720639646053314  train_accuracy:  tensor([0.8384])  valid accuracy:  tensor([0.8409])\n",
      "epoch:  171  train loss:  0.3759889304637909  valid loss:  0.37426134943962097  train_accuracy:  tensor([0.8393])  valid accuracy:  tensor([0.8408])\n",
      "epoch:  172  train loss:  0.3743475079536438  valid loss:  0.37224364280700684  train_accuracy:  tensor([0.8401])  valid accuracy:  tensor([0.8382])\n",
      "epoch:  173  train loss:  0.375338613986969  valid loss:  0.376228928565979  train_accuracy:  tensor([0.8402])  valid accuracy:  tensor([0.8393])\n",
      "epoch:  174  train loss:  0.3749300241470337  valid loss:  0.3712313771247864  train_accuracy:  tensor([0.8397])  valid accuracy:  tensor([0.8397])\n",
      "epoch:  175  train loss:  0.37387576699256897  valid loss:  0.37105515599250793  train_accuracy:  tensor([0.8397])  valid accuracy:  tensor([0.8386])\n",
      "epoch:  176  train loss:  0.37467271089553833  valid loss:  0.371570348739624  train_accuracy:  tensor([0.8397])  valid accuracy:  tensor([0.8394])\n",
      "epoch:  177  train loss:  0.37501102685928345  valid loss:  0.37235474586486816  train_accuracy:  tensor([0.8406])  valid accuracy:  tensor([0.8382])\n",
      "epoch:  178  train loss:  0.37551501393318176  valid loss:  0.36927568912506104  train_accuracy:  tensor([0.8362])  valid accuracy:  tensor([0.8428])\n",
      "epoch:  179  train loss:  0.37571507692337036  valid loss:  0.37057235836982727  train_accuracy:  tensor([0.8373])  valid accuracy:  tensor([0.8417])\n",
      "epoch:  180  train loss:  0.37360262870788574  valid loss:  0.36977648735046387  train_accuracy:  tensor([0.8389])  valid accuracy:  tensor([0.8419])\n",
      "epoch:  181  train loss:  0.3734384775161743  valid loss:  0.3684927821159363  train_accuracy:  tensor([0.8396])  valid accuracy:  tensor([0.8399])\n",
      "epoch:  182  train loss:  0.3746100962162018  valid loss:  0.36921772360801697  train_accuracy:  tensor([0.8369])  valid accuracy:  tensor([0.8416])\n",
      "epoch:  183  train loss:  0.3747820258140564  valid loss:  0.3688008487224579  train_accuracy:  tensor([0.8396])  valid accuracy:  tensor([0.8359])\n",
      "epoch:  184  train loss:  0.374355673789978  valid loss:  0.3681127429008484  train_accuracy:  tensor([0.8393])  valid accuracy:  tensor([0.8401])\n",
      "epoch:  185  train loss:  0.3716866374015808  valid loss:  0.3678539991378784  train_accuracy:  tensor([0.8414])  valid accuracy:  tensor([0.8428])\n",
      "epoch:  186  train loss:  0.3736457824707031  valid loss:  0.37034231424331665  train_accuracy:  tensor([0.8380])  valid accuracy:  tensor([0.8387])\n",
      "epoch:  187  train loss:  0.3739919066429138  valid loss:  0.3661194443702698  train_accuracy:  tensor([0.8367])  valid accuracy:  tensor([0.8430])\n",
      "epoch:  188  train loss:  0.36990252137184143  valid loss:  0.36526283621788025  train_accuracy:  tensor([0.8397])  valid accuracy:  tensor([0.8415])\n",
      "epoch:  189  train loss:  0.37374159693717957  valid loss:  0.3680753707885742  train_accuracy:  tensor([0.8381])  valid accuracy:  tensor([0.8383])\n",
      "epoch:  190  train loss:  0.37290269136428833  valid loss:  0.3693721294403076  train_accuracy:  tensor([0.8405])  valid accuracy:  tensor([0.8361])\n",
      "epoch:  191  train loss:  0.3701063096523285  valid loss:  0.36554214358329773  train_accuracy:  tensor([0.8400])  valid accuracy:  tensor([0.8415])\n",
      "epoch:  192  train loss:  0.3728983402252197  valid loss:  0.36709874868392944  train_accuracy:  tensor([0.8392])  valid accuracy:  tensor([0.8408])\n",
      "epoch:  193  train loss:  0.36818602681159973  valid loss:  0.36854037642478943  train_accuracy:  tensor([0.8418])  valid accuracy:  tensor([0.8368])\n",
      "epoch:  194  train loss:  0.368876576423645  valid loss:  0.36976948380470276  train_accuracy:  tensor([0.8418])  valid accuracy:  tensor([0.8406])\n",
      "epoch:  195  train loss:  0.3696333169937134  valid loss:  0.3657945394515991  train_accuracy:  tensor([0.8396])  valid accuracy:  tensor([0.8428])\n",
      "epoch:  196  train loss:  0.37016981840133667  valid loss:  0.36460521817207336  train_accuracy:  tensor([0.8393])  valid accuracy:  tensor([0.8424])\n",
      "epoch:  197  train loss:  0.3694659173488617  valid loss:  0.364449679851532  train_accuracy:  tensor([0.8402])  valid accuracy:  tensor([0.8410])\n",
      "epoch:  198  train loss:  0.3686082661151886  valid loss:  0.36696600914001465  train_accuracy:  tensor([0.8401])  valid accuracy:  tensor([0.8402])\n",
      "epoch:  199  train loss:  0.37151414155960083  valid loss:  0.3632867932319641  train_accuracy:  tensor([0.8401])  valid accuracy:  tensor([0.8413])\n"
     ]
    }
   ],
   "source": [
    "class RGCN_3layer(nn.Module):\n",
    "    def __init__(self, in_feats, hid_feats, out_feats, rel_names):\n",
    "        super().__init__()\n",
    "\n",
    "        self.conv1 = dglnn.HeteroGraphConv({\n",
    "            rel: dglnn.GraphConv(in_feats, hid_feats)\n",
    "            for rel in rel_names}, aggregate='mean')\n",
    "        self.conv2 = dglnn.HeteroGraphConv({\n",
    "            rel: dglnn.GraphConv(hid_feats, out_feats)\n",
    "            for rel in rel_names}, aggregate='mean')\n",
    "\n",
    "    def forward(self, graph, inputs, mask):\n",
    "        # inputs are features of nodes\n",
    "        h = self.conv1(graph, inputs, mod_kwargs={\n",
    "        'associate_with': {'edge_weight': mask}})\n",
    "\n",
    "        h = {k: F.relu(v) for k, v in h.items()}\n",
    "\n",
    "        h = self.conv2(graph, h, mod_kwargs={\n",
    "        'associate_with': {'edge_weight': mask}})\n",
    "\n",
    "\n",
    "        return h\n",
    "def construct_negative_graph(graph, k, etype):\n",
    "    utype, _, vtype = etype\n",
    "    src, dst = graph.edges(etype=etype)\n",
    "    neg_src = src.repeat_interleave(k)\n",
    "    neg_dst = torch.randint(0, graph.num_nodes(vtype), (len(src) * k,))\n",
    "    return dgl.heterograph(\n",
    "        {etype: (neg_src, neg_dst)},\n",
    "        num_nodes_dict={ntype: graph.num_nodes(ntype) for ntype in graph.ntypes})\n",
    "\n",
    "class HeteroDotProductPredictor(nn.Module):\n",
    "    def forward(self, graph, h, etype):\n",
    "        # h contains the node representations for each node type computed from\n",
    "        # the GNN defined in the previous section (Section 5.1).\n",
    "        with graph.local_scope():\n",
    "            graph.ndata['h'] = h\n",
    "            graph.apply_edges(fn.u_dot_v('h', 'h', 'score'), etype=etype)\n",
    "            return graph.edges[etype].data['score']\n",
    "\n",
    "class Model(nn.Module):\n",
    "    def __init__(self, in_features, hidden_features, out_features, rel_names):\n",
    "        super().__init__()\n",
    "        self.sage = RGCN_3layer(in_features, hidden_features, out_features, rel_names)\n",
    "        self.pred = HeteroDotProductPredictor()\n",
    "    def forward(self, g, neg_g, x, etype, pos_train_mask):\n",
    "        h = self.sage(g, x, pos_train_mask)\n",
    "        return self.pred(g, h, etype), self.pred(neg_g, h, etype)\n",
    "\n",
    "\n",
    "n_hetero_features = 32\n",
    "n_hidden = 64\n",
    "n_output = 32\n",
    "hetero_graph = dgl.heterograph({\n",
    "    ('miRNA', 'similar_to', 'miRNA'): (new_edge_index['mm'][0], new_edge_index['mm'][1]),\n",
    "    ('gene', 'similar_to', 'gene'): (new_edge_index['gg'][0], new_edge_index['gg'][1]),\n",
    "    ('disease', 'similar_to', 'disease'): (new_edge_index['dd'][0], new_edge_index['dd'][1]),\n",
    "    ('miRNA', 'target_to', 'gene'): (new_edge_index['mg'][0], new_edge_index['mg'][1]),\n",
    "    ('miRNA', 'associate_with', 'disease'): (new_edge_index['md'][0], new_edge_index['md'][1]),\n",
    "    ('gene', 'related_to', 'disease'): (new_edge_index['gd'][0], new_edge_index['gd'][1])})\n",
    "\n",
    "n_miRNA = hetero_graph.num_nodes('miRNA')\n",
    "n_gene = hetero_graph.num_nodes('gene')\n",
    "n_disease= hetero_graph.num_nodes('disease')\n",
    "\n",
    "hetero_graph.nodes['miRNA'].data['feature'] = torch.randn(n_miRNA, n_hetero_features)\n",
    "hetero_graph.nodes['gene'].data['feature'] = torch.randn(n_gene, n_hetero_features)\n",
    "hetero_graph.nodes['disease'].data['feature'] = torch.randn(n_disease, n_hetero_features)\n",
    "\n",
    "def compute_loss_with_mask(pos_score, neg_score):\n",
    "    # Margin loss\n",
    "    n_edges = pos_score.shape[0]\n",
    "    return (1 - pos_score +  neg_score.view(n_edges, -1)).clamp(min=0).mean()\n",
    "\n",
    "\n",
    "k = 5\n",
    "model = Model(n_hetero_features, n_hidden, n_output, hetero_graph.etypes)\n",
    "miRNA_feats = hetero_graph.nodes['miRNA'].data['feature']\n",
    "gene_feats = hetero_graph.nodes['gene'].data['feature']\n",
    "disease_feats = hetero_graph.nodes['disease'].data['feature']\n",
    "node_features = {'miRNA': miRNA_feats, 'gene': gene_feats, 'disease':disease_feats}\n",
    "\n",
    "num_target_edge = hetero_graph['associate_with'].num_edges()\n",
    "pos_train_mask = (torch.rand(num_target_edge, 1) > 0.3).float()\n",
    "\n",
    "pos_train_index = torch.tensor(np.where(pos_train_mask == 1)[0])\n",
    "pos_valid_index = torch.tensor(np.where(pos_train_mask == 0)[0])\n",
    "\n",
    "train_loss_accu = []\n",
    "valid_loss_accu = []\n",
    "\n",
    "train_accuracy_accu = []\n",
    "valid_accuracy__accu = []\n",
    "\n",
    "num_epoch = 200\n",
    "\n",
    "loss_fn = nn.BCEWithLogitsLoss()\n",
    "\n",
    "opt = torch.optim.Adam(model.parameters())\n",
    "for epoch in range(num_epoch):\n",
    "    negative_graph_train = construct_negative_graph(hetero_graph, k, ('miRNA', 'associate_with', 'disease'))\n",
    "    pos_score, neg_score = model(hetero_graph, negative_graph_train, node_features, ('miRNA', 'associate_with', 'disease'),pos_train_mask)\n",
    "    \n",
    "    perm = torch.randperm(neg_score.size(0))\n",
    "    neg_train_index = perm[:int(5*sum(pos_train_mask))]\n",
    "    neg_valid_index = perm[int(5*sum(pos_train_mask)):]\n",
    "\n",
    "    loss = compute_loss_with_mask(torch.index_select(pos_score, 0, pos_train_index),torch.index_select(neg_score, 0, neg_train_index))\n",
    "\n",
    "    predict = torch.cat((torch.index_select(pos_score, 0, pos_train_index),torch.index_select(neg_score, 0, neg_train_index)),0)\n",
    "    target = torch.tensor([1]*torch.index_select(pos_score, 0, pos_train_index).shape[0] + [0]*torch.index_select(neg_score, 0, neg_train_index).shape[0]).unsqueeze(1)\n",
    "    #target = target.to(device)\n",
    "\n",
    "    loss = loss_fn(predict, target.float())\n",
    "\n",
    "    opt.zero_grad()\n",
    "    loss.backward()\n",
    "    opt.step()\n",
    "\n",
    "\n",
    "    predict = torch.cat((torch.index_select(pos_score, 0, pos_valid_index),torch.index_select(neg_score, 0, neg_valid_index)),0)\n",
    "    target = torch.tensor([1]*torch.index_select(pos_score, 0, pos_valid_index).shape[0] + [0]*torch.index_select(neg_score, 0, neg_valid_index).shape[0]).unsqueeze(1)\n",
    "    #target = target.to(device)\n",
    "    valid_loss = loss_fn(predict, target.float())\n",
    "\n",
    "    train_loss_accu.append(loss.item())\n",
    "    valid_loss_accu.append(valid_loss.item())\n",
    "\n",
    "    accu_pos = (torch.index_select(pos_score, 0, pos_valid_index) > 0)\n",
    "    accu_neg = (torch.index_select(neg_score, 0, neg_valid_index) < 0)\n",
    "    valid_accu = (sum(accu_pos)+sum(accu_neg))/(len(accu_pos)+len(accu_neg))\n",
    "\n",
    "    accu_pos = (torch.index_select(pos_score, 0, pos_train_index) > 0)\n",
    "    accu_neg = (torch.index_select(neg_score, 0, neg_train_index) < 0)\n",
    "    train_accu = (sum(accu_pos)+sum(accu_neg))/(len(accu_pos)+len(accu_neg))\n",
    "\n",
    "    train_accuracy_accu.append(train_accu)\n",
    "    valid_accuracy__accu.append(valid_accu)\n",
    "\n",
    "    print(\"epoch: \", epoch, \" train loss: \", loss.item(), \" valid loss: \",valid_loss.item(), \" train_accuracy: \",train_accu,\" valid accuracy: \",valid_accu)\n",
    "\n"
   ]
  },
  {
   "cell_type": "code",
   "execution_count": 24,
   "id": "c2ead6ce-c3f4-4fa4-a369-8fc287b60cd0",
   "metadata": {},
   "outputs": [
    {
     "data": {
      "image/png": "[encoded data removed]",
      "text/plain": [
       "<Figure size 640x480 with 1 Axes>"
      ]
     },
     "metadata": {},
     "output_type": "display_data"
    }
   ],
   "source": [
    "# Generate a sequence of integers to represent the epoch numbers\n",
    "epochs = range(num_epoch)\n",
    "\n",
    "# Plot and label the training and validation loss values\n",
    "plt.plot(epochs, train_loss_accu, label='Training Loss')\n",
    "plt.plot(epochs, valid_loss_accu, label='Validation Loss')\n",
    "\n",
    "# Add in a title and axes labels\n",
    "plt.title('Training and Validation Loss')\n",
    "plt.xlabel('Epochs')\n",
    "plt.ylabel('Loss')\n",
    "\n",
    "# Set the tick locations\n",
    "plt.xticks(range(0, num_epoch, 50))\n",
    "plt.ylim(ymax = 1, ymin = 0)\n",
    "# Display the plot\n",
    "plt.legend(loc='best')\n",
    "plt.show()"
   ]
  },
  {
   "cell_type": "code",
   "execution_count": 25,
   "id": "0d9e9b5a-466a-4e64-b749-519229abe368",
   "metadata": {},
   "outputs": [
    {
     "data": {
      "image/png": "[encoded data removed]",
      "text/plain": [
       "<Figure size 640x480 with 1 Axes>"
      ]
     },
     "metadata": {},
     "output_type": "display_data"
    }
   ],
   "source": [
    "# Generate a sequence of integers to represent the epoch numbers\n",
    "epochs = range(num_epoch)\n",
    "\n",
    "# Plot and label the training and validation loss values\n",
    "plt.plot(epochs, train_accuracy_accu, label='Training accuracy')\n",
    "plt.plot(epochs, valid_accuracy__accu, label='Validation accuracy')\n",
    "\n",
    "# Add in a title and axes labels\n",
    "plt.title('Training and Validation Accuracy')\n",
    "plt.xlabel('Epochs')\n",
    "plt.ylabel('Loss')\n",
    "\n",
    "# Set the tick locations\n",
    "plt.xticks(range(0, num_epoch, 50))\n",
    "plt.ylim(ymax = 1, ymin = 0)\n",
    "# Display the plot\n",
    "plt.legend(loc='best')\n",
    "plt.show()"
   ]
  },
  {
   "cell_type": "code",
   "execution_count": null,
   "id": "315705cd-60c2-4365-94ef-23c5d188369c",
   "metadata": {},
   "outputs": [],
   "source": []
  }
 ],
 "metadata": {
  "kernelspec": {
   "display_name": "Python 3 (ipykernel)",
   "language": "python",
   "name": "python3"
  },
  "language_info": {
   "codemirror_mode": {
    "name": "ipython",
    "version": 3
   },
   "file_extension": ".py",
   "mimetype": "text/x-python",
   "name": "python",
   "nbconvert_exporter": "python",
   "pygments_lexer": "ipython3",
   "version": "3.10.13"
  }
 },
 "nbformat": 4,
 "nbformat_minor": 5
}
